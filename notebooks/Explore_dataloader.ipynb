{
 "cells": [
  {
   "cell_type": "code",
   "execution_count": 1,
   "id": "91fd323d",
   "metadata": {},
   "outputs": [],
   "source": [
    "%load_ext autoreload"
   ]
  },
  {
   "cell_type": "code",
   "execution_count": 2,
   "id": "202988ad",
   "metadata": {},
   "outputs": [],
   "source": [
    "from celldreamer.estimator.celldreamer_estimator import CellDreamerEstimator\n",
    "from celldreamer.models.base.variance_scheduler.cosine import CosineScheduler\n",
    "from celldreamer.data.utils import Args\n",
    "from celldreamer.paths import PERT_DATA_DIR\n",
    "from pathlib import Path \n",
    "import pandas as pd\n",
    "from pytorch_lightning.callbacks import ModelCheckpoint, LearningRateMonitor, TQDMProgressBar\n",
    "from pytorch_lightning.loggers import TensorBoardLogger\n",
    "from pytorch_lightning.utilities.model_summary import ModelSummary\n",
    "from lightning_fabric.utilities.seed import seed_everything\n",
    "from os.path import join\n",
    "import os"
   ]
  },
  {
   "cell_type": "code",
   "execution_count": 3,
   "id": "57ee6302",
   "metadata": {},
   "outputs": [],
   "source": [
    "root = os.path.dirname(os.path.abspath(os.getcwd()))\n",
    "MODEL = 'ddpm_cellnet'"
   ]
  },
  {
   "cell_type": "markdown",
   "id": "fd378b00",
   "metadata": {},
   "source": [
    "**Load scRNAseq**"
   ]
  },
  {
   "cell_type": "code",
   "execution_count": 4,
   "id": "9b70f9e3",
   "metadata": {},
   "outputs": [],
   "source": [
    "DATA_DIR = \"/lustre/scratch/users/felix.fischer/merlin_cxg_simple_norm\"\n",
    "METADATA_PATH = \"/lustre/scratch/users/felix.fischer/merlin_cxg_simple_norm_parquet\""
   ]
  },
  {
   "cell_type": "code",
   "execution_count": 5,
   "id": "97cbd4ec",
   "metadata": {},
   "outputs": [],
   "source": [
    "# args_scrnaseq = Args({\"task\": \"cell_generation\",\n",
    "#                 \"data_path\": DATA_DIR,\n",
    "#                 \"metadata_path\": METADATA_PATH, \n",
    "#                  \"batch_size\": 128,\n",
    "#                  \"drop_last\": False,\n",
    "#                  \"one_hot_encode_features\": False,\n",
    "#                  \"embedding_dimensions\":100, \n",
    "#                  \"categories\":[\"cell_type\"],\n",
    "#                  \"generative_model\":\"diffusion\", \n",
    "#                  \"denoiser_model\": \"mlp\",\n",
    "                 \n",
    "#                 \"denoising_module_kwargs\": {\n",
    "#                     \"hidden_layers\":3\n",
    "#                 }, \n",
    "                      \n",
    "#                 \"model_kwargs\": {\n",
    "#                      \"T\": 4.000, \n",
    "#                      \"w\": 0.3, \n",
    "#                      \"v\": 0.2,\n",
    "#                      \"p_uncond\": 0.2, \n",
    "#                      \"number_of_genes\": len(pd.read_parquet(join(METADATA_PATH, \"var.parquet\"))),\n",
    "#                      \"logging_freq\": 1000,  \n",
    "#                      \"classifier_free\": False, \n",
    "#                      \"variance_scheduler\": CosineScheduler(T=4_000)},\n",
    "                \n",
    "#                 \"trainer_kwargs\": {\n",
    "#                         'max_epochs': 1000,\n",
    "#                         'gradient_clip_val': 1.,\n",
    "#                         'gradient_clip_algorithm': 'norm',\n",
    "#                         'default_root_dir': \"\",\n",
    "#                         'accelerator': 'gpu',\n",
    "#                         'devices': 1,\n",
    "#                         'num_sanity_val_steps': 0,\n",
    "#                         'check_val_every_n_epoch': 1,\n",
    "#                         'logger': [TensorBoardLogger(LOGS_PATH = os.path.join(root, 'trained_models/tb_logs', MODEL), name='default', \n",
    "#                                                     save_dir=\"\")],\n",
    "#                         'log_every_n_steps': 100,\n",
    "#                         'detect_anomaly': False,\n",
    "#                         'enable_progress_bar': True,\n",
    "#                         'enable_model_summary': False,\n",
    "#                         'enable_checkpointing': True,\n",
    "#                         'callbacks': [\n",
    "#                             TQDMProgressBar(refresh_rate=100),\n",
    "#                             LearningRateMonitor(logging_interval='step'),\n",
    "#                             ModelCheckpoint(filename='best_train_loss', monitor='train_loss_epoch', mode='min',\n",
    "#                                             every_n_epochs=1, save_top_k=1),\n",
    "#                             ModelCheckpoint(filename='best_val_loss', monitor='val_loss', mode='min',\n",
    "#                                             every_n_epochs=1, save_top_k=1)\n",
    "#                         ]}\n",
    "#                      })"
   ]
  },
  {
   "cell_type": "code",
   "execution_count": 6,
   "id": "1edcbc78",
   "metadata": {
    "scrolled": true
   },
   "outputs": [],
   "source": [
    "# estimator_scrnaseq_embeddings = CellDreamerEstimator(args_scrnaseq)\n",
    "# estimator_scrnaseq_embeddings.init_datamodule()\n",
    "# estimator_scrnaseq_embeddings.init_feature_embeddings()"
   ]
  },
  {
   "cell_type": "code",
   "execution_count": 7,
   "id": "21fcf8a9",
   "metadata": {},
   "outputs": [],
   "source": [
    "# batch = next(iter(estimator_scrnaseq_embeddings.datamodule.train_dataloader()))"
   ]
  },
  {
   "cell_type": "code",
   "execution_count": 8,
   "id": "7632a847",
   "metadata": {},
   "outputs": [],
   "source": [
    "# batch[0][\"X\"].shape"
   ]
  },
  {
   "cell_type": "code",
   "execution_count": 9,
   "id": "e7dc5cbb",
   "metadata": {},
   "outputs": [],
   "source": [
    "# # Test featurizer \n",
    "# estimator_scrnaseq_embeddings.feature_embeddings"
   ]
  },
  {
   "cell_type": "code",
   "execution_count": 10,
   "id": "80c90511",
   "metadata": {},
   "outputs": [],
   "source": [
    "# batch_disease = batch[0][\"disease\"].squeeze()"
   ]
  },
  {
   "cell_type": "code",
   "execution_count": 11,
   "id": "791f8782",
   "metadata": {},
   "outputs": [],
   "source": [
    "# embeddings_batch = estimator_scrnaseq_embeddings.feature_embeddings[\"disease\"](batch_disease)\n",
    "# print(embeddings_batch.shape)"
   ]
  },
  {
   "cell_type": "code",
   "execution_count": 12,
   "id": "7068f40d",
   "metadata": {},
   "outputs": [],
   "source": [
    "# embeddings_batch"
   ]
  },
  {
   "cell_type": "markdown",
   "id": "e7e95c34",
   "metadata": {},
   "source": [
    "**Load perturbation dataset**"
   ]
  },
  {
   "cell_type": "code",
   "execution_count": 13,
   "id": "11d9c09b",
   "metadata": {},
   "outputs": [],
   "source": [
    "pert_path = Path(PERT_DATA_DIR)"
   ]
  },
  {
   "cell_type": "code",
   "execution_count": 14,
   "id": "9f45eaac",
   "metadata": {},
   "outputs": [],
   "source": [
    "args_pert = Args({\"task\": \"perturbation_modelling\",\n",
    "                \"freeze_embeddings\": True,\n",
    "                \"feature_type\": \"grover\",\n",
    "                \"data_path\": pert_path / 'sciplex' / 'sciplex_complete_middle_subset.h5ad',\n",
    "                \"perturbation_key\": \"condition\",\n",
    "                \"dose_key\": \"dose\",\n",
    "                \"covariate_keys\": \"cell_type\",\n",
    "                \"smile_keys\": \"SMILES\",\n",
    "                \"degs_key\": \"lincs_DEGs\",\n",
    "                \"pert_category\": \"cov_drug_dose_name\",\n",
    "                \"split_key\": \"split_ho_pathway\",\n",
    "                \"batch_size\": 128, \n",
    "                \"use_drugs_idx\":True,\n",
    "                \"embedding_dimensions\": 100,\n",
    "                \"one_hot_encode_features\": False,\n",
    "                 \n",
    "                \"generative_model\":\"diffusion\", \n",
    "                \"denoising_model\": \"mlp\",\n",
    "\n",
    "                \"denoising_module_kwargs\": {\n",
    "                    \"dims\": [128, 64],\n",
    "                    \"time_embed_size\": 100, \n",
    "                    \"class_emb_size\": 100,\n",
    "                    \"dropout\": 0.0\n",
    "                }, \n",
    "\n",
    "                \"model_kwargs\": {\n",
    "                     \"T\": 4.000, \n",
    "                     \"w\": 0.3, \n",
    "                     \"v\": 0.2,\n",
    "                     \"p_uncond\": 0.2, \n",
    "                     \"logging_freq\": 1000,  \n",
    "                     \"classifier_free\": False, \n",
    "                     \"variance_scheduler\": CosineScheduler(T=4_000)},\n",
    "\n",
    "                \"trainer_kwargs\": {\n",
    "                        'max_epochs': 1000,\n",
    "                        'gradient_clip_val': 1.,\n",
    "                        'gradient_clip_algorithm': 'norm',\n",
    "                        'default_root_dir': \"\",\n",
    "                        'accelerator': 'gpu',\n",
    "                        'devices': 1,\n",
    "                        'num_sanity_val_steps': 0,\n",
    "                        'check_val_every_n_epoch': 1,\n",
    "                        'logger': [TensorBoardLogger(LOGS_PATH = os.path.join(root, 'trained_models/tb_logs', MODEL), name='default', \n",
    "                                                    save_dir=\"\")],\n",
    "                        'log_every_n_steps': 100,\n",
    "                        'detect_anomaly': False,\n",
    "                        'enable_progress_bar': True,\n",
    "                        'enable_model_summary': False,\n",
    "                        'enable_checkpointing': True,\n",
    "                        'callbacks': [\n",
    "                            TQDMProgressBar(refresh_rate=100),\n",
    "                            LearningRateMonitor(logging_interval='step'),\n",
    "                            ModelCheckpoint(filename='best_train_loss', monitor='train_loss_epoch', mode='min',\n",
    "                                            every_n_epochs=1, save_top_k=1),\n",
    "                            ModelCheckpoint(filename='best_val_loss', monitor='val_loss', mode='min',\n",
    "                                            every_n_epochs=1, save_top_k=1)\n",
    "                        ]}                 \n",
    "                 })"
   ]
  },
  {
   "cell_type": "code",
   "execution_count": 15,
   "id": "f6d05006",
   "metadata": {
    "scrolled": true
   },
   "outputs": [
    {
     "name": "stderr",
     "output_type": "stream",
     "text": [
      "/home/icb/alessandro.palma/miniconda3/envs/celldreamer/lib/python3.10/site-packages/sklearn/preprocessing/_encoders.py:828: FutureWarning: `sparse` was renamed to `sparse_output` in version 1.2 and will be removed in 1.4. `sparse_output` is ignored unless you leave `sparse` to its default value.\n",
      "  warnings.warn(\n"
     ]
    }
   ],
   "source": [
    "estimator_drugs = CellDreamerEstimator(args_pert)\n",
    "estimator_drugs.init_datamodule()\n",
    "estimator_drugs.init_feature_embeddings()"
   ]
  },
  {
   "cell_type": "code",
   "execution_count": 16,
   "id": "887f3b06",
   "metadata": {},
   "outputs": [],
   "source": [
    "batch = next(iter(estimator_drugs.datamodule.train_dataloader))"
   ]
  },
  {
   "cell_type": "code",
   "execution_count": 17,
   "id": "3b242328",
   "metadata": {},
   "outputs": [
    {
     "data": {
      "text/plain": [
       "tensor([[0.0000, 0.0000, 1.0058,  ..., 0.0000, 0.0000, 0.0000],\n",
       "        [0.0000, 0.0000, 0.0000,  ..., 0.0000, 0.0000, 0.0000],\n",
       "        [0.0000, 0.0000, 0.5067,  ..., 0.0000, 0.0000, 0.0000],\n",
       "        ...,\n",
       "        [0.0000, 0.0000, 0.6080,  ..., 0.0000, 0.0000, 0.0000],\n",
       "        [0.0000, 0.0000, 0.7673,  ..., 0.0000, 0.0000, 0.0000],\n",
       "        [0.0000, 0.0000, 0.5353,  ..., 0.0000, 0.0000, 0.0000]])"
      ]
     },
     "execution_count": 17,
     "metadata": {},
     "output_type": "execute_result"
    }
   ],
   "source": [
    "batch[0]"
   ]
  },
  {
   "cell_type": "code",
   "execution_count": 18,
   "id": "5a84d0c7",
   "metadata": {},
   "outputs": [
    {
     "data": {
      "text/plain": [
       "tensor([ 50,  62,  55, 181, 121,  84, 179, 132, 130,  88, 141, 117,  23,  34,\n",
       "         27,  96, 166,  92, 157, 161, 183,   8, 186,  87, 177, 187, 117,   4,\n",
       "          5,  68,  81, 128, 187, 138, 116, 147,  21,  52, 132, 166,   5, 185,\n",
       "        116, 187,  14,  84,  96,  96, 113,  76, 145,  69, 118, 140,  83, 148,\n",
       "        106,  11, 113,  74, 117,  39, 142,  76,  20,  50,  89,  15, 176,  67,\n",
       "        128,  19, 111,  35, 158,  40,  20, 187, 125,  45, 106, 132, 130, 129,\n",
       "         98,  68, 111,  71, 116, 170, 187,  68,  40, 164, 139, 187,  37,  46,\n",
       "          0, 165, 117, 158, 164,  87,  56,   1,  30,  82,  62, 141,  20,  73,\n",
       "        106, 168,  99, 140,  57,  93, 163,  19, 108, 121, 187, 153, 180, 120,\n",
       "        187, 144])"
      ]
     },
     "execution_count": 18,
     "metadata": {},
     "output_type": "execute_result"
    }
   ],
   "source": [
    "batch[1]"
   ]
  },
  {
   "cell_type": "code",
   "execution_count": 19,
   "id": "ee7727b4",
   "metadata": {},
   "outputs": [
    {
     "data": {
      "text/plain": [
       "tensor([  100.,    10.,  1000.,   100.,    10., 10000.,   100.,  1000.,    10.,\n",
       "          100.,   100.,  1000.,    10.,  1000.,   100.,    10.,    10.,  1000.,\n",
       "           10.,  1000.,   100., 10000.,    10., 10000.,    10.,     0.,  1000.,\n",
       "          100., 10000.,    10.,  1000.,   100.,     0., 10000.,  1000.,   100.,\n",
       "         1000., 10000.,  1000.,  1000.,  1000.,  1000.,  1000.,     0.,  1000.,\n",
       "        10000.,   100.,  1000.,  1000., 10000.,   100., 10000.,   100.,   100.,\n",
       "        10000., 10000.,   100.,  1000.,    10.,  1000., 10000.,  1000.,  1000.,\n",
       "           10.,  1000.,   100., 10000.,  1000.,    10.,    10.,    10.,    10.,\n",
       "          100.,  1000., 10000.,    10.,   100.,     0.,   100., 10000.,   100.,\n",
       "        10000., 10000.,  1000., 10000., 10000.,    10.,  1000.,   100.,  1000.,\n",
       "            0., 10000.,  1000.,    10.,    10.,     0.,  1000., 10000., 10000.,\n",
       "        10000., 10000.,    10.,    10.,    10., 10000., 10000.,   100., 10000.,\n",
       "         1000.,    10., 10000.,    10.,   100.,    10., 10000., 10000., 10000.,\n",
       "         1000.,    10., 10000.,   100.,   100.,     0.,   100., 10000., 10000.,\n",
       "            0.,   100.])"
      ]
     },
     "execution_count": 19,
     "metadata": {},
     "output_type": "execute_result"
    }
   ],
   "source": [
    "batch[2]"
   ]
  },
  {
   "cell_type": "code",
   "execution_count": 20,
   "id": "3b251670",
   "metadata": {},
   "outputs": [
    {
     "data": {
      "text/plain": [
       "tensor([[0., 0., 0.,  ..., 0., 0., 0.],\n",
       "        [0., 0., 0.,  ..., 0., 0., 0.],\n",
       "        [0., 1., 0.,  ..., 0., 0., 0.],\n",
       "        ...,\n",
       "        [0., 0., 0.,  ..., 0., 0., 0.],\n",
       "        [0., 0., 0.,  ..., 0., 0., 0.],\n",
       "        [0., 0., 1.,  ..., 0., 0., 0.]])"
      ]
     },
     "execution_count": 20,
     "metadata": {},
     "output_type": "execute_result"
    }
   ],
   "source": [
    "batch[3]"
   ]
  },
  {
   "cell_type": "code",
   "execution_count": 21,
   "id": "4f14f377",
   "metadata": {},
   "outputs": [
    {
     "data": {
      "text/plain": [
       "tensor([[1., 0., 0.],\n",
       "        [0., 0., 1.],\n",
       "        [0., 1., 0.],\n",
       "        [1., 0., 0.],\n",
       "        [0., 1., 0.],\n",
       "        [0., 1., 0.],\n",
       "        [1., 0., 0.],\n",
       "        [0., 1., 0.],\n",
       "        [0., 1., 0.],\n",
       "        [0., 1., 0.],\n",
       "        [0., 1., 0.],\n",
       "        [0., 0., 1.],\n",
       "        [0., 0., 1.],\n",
       "        [0., 0., 1.],\n",
       "        [1., 0., 0.],\n",
       "        [0., 0., 1.],\n",
       "        [0., 1., 0.],\n",
       "        [1., 0., 0.],\n",
       "        [0., 1., 0.],\n",
       "        [0., 0., 1.],\n",
       "        [1., 0., 0.],\n",
       "        [0., 0., 1.],\n",
       "        [0., 1., 0.],\n",
       "        [0., 0., 1.],\n",
       "        [0., 0., 1.],\n",
       "        [0., 0., 1.],\n",
       "        [1., 0., 0.],\n",
       "        [0., 1., 0.],\n",
       "        [0., 0., 1.],\n",
       "        [0., 0., 1.],\n",
       "        [0., 0., 1.],\n",
       "        [0., 0., 1.],\n",
       "        [0., 0., 1.],\n",
       "        [0., 1., 0.],\n",
       "        [0., 0., 1.],\n",
       "        [0., 1., 0.],\n",
       "        [0., 0., 1.],\n",
       "        [1., 0., 0.],\n",
       "        [1., 0., 0.],\n",
       "        [0., 0., 1.],\n",
       "        [0., 0., 1.],\n",
       "        [1., 0., 0.],\n",
       "        [1., 0., 0.],\n",
       "        [1., 0., 0.],\n",
       "        [1., 0., 0.],\n",
       "        [0., 0., 1.],\n",
       "        [0., 0., 1.],\n",
       "        [0., 0., 1.],\n",
       "        [0., 0., 1.],\n",
       "        [1., 0., 0.],\n",
       "        [0., 0., 1.],\n",
       "        [1., 0., 0.],\n",
       "        [0., 1., 0.],\n",
       "        [0., 0., 1.],\n",
       "        [0., 0., 1.],\n",
       "        [0., 0., 1.],\n",
       "        [0., 0., 1.],\n",
       "        [0., 0., 1.],\n",
       "        [0., 0., 1.],\n",
       "        [1., 0., 0.],\n",
       "        [0., 0., 1.],\n",
       "        [0., 0., 1.],\n",
       "        [1., 0., 0.],\n",
       "        [1., 0., 0.],\n",
       "        [0., 0., 1.],\n",
       "        [1., 0., 0.],\n",
       "        [0., 0., 1.],\n",
       "        [0., 1., 0.],\n",
       "        [1., 0., 0.],\n",
       "        [0., 0., 1.],\n",
       "        [0., 1., 0.],\n",
       "        [1., 0., 0.],\n",
       "        [1., 0., 0.],\n",
       "        [0., 0., 1.],\n",
       "        [1., 0., 0.],\n",
       "        [1., 0., 0.],\n",
       "        [1., 0., 0.],\n",
       "        [0., 1., 0.],\n",
       "        [0., 1., 0.],\n",
       "        [0., 0., 1.],\n",
       "        [1., 0., 0.],\n",
       "        [0., 0., 1.],\n",
       "        [0., 0., 1.],\n",
       "        [1., 0., 0.],\n",
       "        [0., 0., 1.],\n",
       "        [1., 0., 0.],\n",
       "        [1., 0., 0.],\n",
       "        [0., 0., 1.],\n",
       "        [0., 0., 1.],\n",
       "        [1., 0., 0.],\n",
       "        [0., 0., 1.],\n",
       "        [1., 0., 0.],\n",
       "        [0., 1., 0.],\n",
       "        [1., 0., 0.],\n",
       "        [0., 1., 0.],\n",
       "        [0., 0., 1.],\n",
       "        [1., 0., 0.],\n",
       "        [1., 0., 0.],\n",
       "        [0., 0., 1.],\n",
       "        [0., 0., 1.],\n",
       "        [0., 0., 1.],\n",
       "        [1., 0., 0.],\n",
       "        [0., 0., 1.],\n",
       "        [0., 0., 1.],\n",
       "        [0., 1., 0.],\n",
       "        [0., 0., 1.],\n",
       "        [1., 0., 0.],\n",
       "        [0., 1., 0.],\n",
       "        [0., 0., 1.],\n",
       "        [1., 0., 0.],\n",
       "        [0., 0., 1.],\n",
       "        [0., 1., 0.],\n",
       "        [1., 0., 0.],\n",
       "        [1., 0., 0.],\n",
       "        [0., 0., 1.],\n",
       "        [0., 0., 1.],\n",
       "        [0., 0., 1.],\n",
       "        [0., 0., 1.],\n",
       "        [1., 0., 0.],\n",
       "        [0., 1., 0.],\n",
       "        [0., 0., 1.],\n",
       "        [1., 0., 0.],\n",
       "        [1., 0., 0.],\n",
       "        [0., 1., 0.],\n",
       "        [0., 1., 0.],\n",
       "        [1., 0., 0.],\n",
       "        [0., 0., 1.],\n",
       "        [1., 0., 0.]])"
      ]
     },
     "execution_count": 21,
     "metadata": {},
     "output_type": "execute_result"
    }
   ],
   "source": [
    "batch[4]"
   ]
  },
  {
   "cell_type": "code",
   "execution_count": 22,
   "id": "2dbcaa76",
   "metadata": {},
   "outputs": [],
   "source": [
    "estimator_drugs.get_fixed_rna_model_params()\n",
    "estimator_drugs.init_model()"
   ]
  },
  {
   "cell_type": "code",
   "execution_count": null,
   "id": "17c4564c",
   "metadata": {},
   "outputs": [],
   "source": []
  }
 ],
 "metadata": {
  "kernelspec": {
   "display_name": "Python 3 (ipykernel)",
   "language": "python",
   "name": "python3"
  },
  "language_info": {
   "codemirror_mode": {
    "name": "ipython",
    "version": 3
   },
   "file_extension": ".py",
   "mimetype": "text/x-python",
   "name": "python",
   "nbconvert_exporter": "python",
   "pygments_lexer": "ipython3",
   "version": "3.8.10"
  }
 },
 "nbformat": 4,
 "nbformat_minor": 5
}
