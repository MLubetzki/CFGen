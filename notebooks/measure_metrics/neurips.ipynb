{
 "cells": [
  {
   "cell_type": "markdown",
   "id": "10dd506e-7645-4210-887f-cee3d39b85be",
   "metadata": {},
   "source": [
    "# Read real and generated datasets "
   ]
  },
  {
   "cell_type": "code",
   "execution_count": 15,
   "id": "86c3c0cf-a378-4d79-9b7d-fe39f776c31b",
   "metadata": {},
   "outputs": [],
   "source": [
    "import scanpy as sc\n",
    "from celldreamer.eval.compute_evaluation_metrics import process_labels, compute_evaluation_metrics\n",
    "from scipy import sparse\n",
    "import pandas as pd"
   ]
  },
  {
   "cell_type": "code",
   "execution_count": 16,
   "id": "36e4043d-a38e-4674-acd5-166d2d0aa442",
   "metadata": {},
   "outputs": [],
   "source": [
    "def add_to_dict(d, metrics):\n",
    "    for metric in metrics:\n",
    "        if metric not in d:\n",
    "            d[metric] = [metrics[metric]]\n",
    "        else:\n",
    "            d[metric]+=[metrics[metric]]\n",
    "    return d"
   ]
  },
  {
   "cell_type": "code",
   "execution_count": 17,
   "id": "fba88df1-5d9c-45ff-aa38-b4f338fb97c1",
   "metadata": {},
   "outputs": [],
   "source": [
    "adata_real_path = \"/home/icb/alessandro.palma/environment/celldreamer/project_folder/datasets/processed_full_genome/c_elegans/c_elegans_test.h5ad\"\n",
    "adata_real = sc.read_h5ad(adata_real_path)\n",
    "sc.pp.subsample(adata_real, n_obs=10000)"
   ]
  },
  {
   "cell_type": "code",
   "execution_count": 18,
   "id": "04d97939-524c-4db2-b9a5-b19351065dbe",
   "metadata": {},
   "outputs": [
    {
     "data": {
      "text/plain": [
       "AnnData object with n_obs × n_vars = 10000 × 17747\n",
       "    obs: 'cell', 'numi', 'time_point', 'batch', 'size_factor', 'cell_type', 'cell_subtype', 'plot_cell_type', 'raw_embryo_time', 'embryo_time', 'embryo_time_bin', 'raw_embryo_time_bin', 'lineage', 'passed_qc'\n",
       "    var: 'gene_id', 'gene_name', 'gene_description', 'n_cells', 'highly_variable', 'highly_variable_rank', 'means', 'variances', 'variances_norm'\n",
       "    uns: 'cell_type_colors', 'log1p', 'neighbors', 'pca', 'umap'\n",
       "    obsm: 'X_pca', 'X_umap'\n",
       "    varm: 'PCs'\n",
       "    layers: 'X_counts'\n",
       "    obsp: 'connectivities', 'distances'"
      ]
     },
     "execution_count": 18,
     "metadata": {},
     "output_type": "execute_result"
    }
   ],
   "source": [
    "adata_real"
   ]
  },
  {
   "cell_type": "code",
   "execution_count": null,
   "id": "f5261c7b-f2cf-4a09-9663-fd2d82eb4679",
   "metadata": {
    "scrolled": true
   },
   "outputs": [
    {
     "name": "stderr",
     "output_type": "stream",
     "text": [
      "/home/icb/alessandro.palma/environment/celldreamer/celldreamer/eval/compute_evaluation_metrics.py:21: ImplicitModificationWarning: Trying to modify attribute `.obs` of view, initializing view as actual.\n",
      "  adata_generated.obs[category_field] = [labels_dict[int(lab)] for lab in np.array(adata_generated.obs[category_field])]\n",
      "/home/icb/alessandro.palma/miniconda3/envs/celldreamer/lib/python3.10/site-packages/scanpy/preprocessing/_pca.py:229: ImplicitModificationWarning: Setting element `.obsm['X_pca']` of view, initializing view as actual.\n",
      "  adata.obsm['X_pca'] = X_pca\n",
      "/home/icb/alessandro.palma/miniconda3/envs/celldreamer/lib/python3.10/site-packages/anndata/_core/anndata.py:1899: UserWarning: Variable names are not unique. To make them unique, call `.var_names_make_unique`.\n",
      "  utils.warn_names_duplicates(\"var\")\n",
      "/home/icb/alessandro.palma/environment/celldreamer/celldreamer/eval/compute_evaluation_metrics.py:36: ImplicitModificationWarning: Setting element `.obsm['X_pca']` of view, initializing view as actual.\n",
      "  adata_generated.obsm[\"X_pca\"] = adata_generated.X.A.dot(adata_real.varm[\"PCs\"])\n"
     ]
    },
    {
     "name": "stdout",
     "output_type": "stream",
     "text": [
      "Finsihed celldreamer\n"
     ]
    },
    {
     "name": "stderr",
     "output_type": "stream",
     "text": [
      "/home/icb/alessandro.palma/miniconda3/envs/celldreamer/lib/python3.10/site-packages/scanpy/preprocessing/_pca.py:229: ImplicitModificationWarning: Setting element `.obsm['X_pca']` of view, initializing view as actual.\n",
      "  adata.obsm['X_pca'] = X_pca\n",
      "/home/icb/alessandro.palma/miniconda3/envs/celldreamer/lib/python3.10/site-packages/anndata/_core/anndata.py:1899: UserWarning: Variable names are not unique. To make them unique, call `.var_names_make_unique`.\n",
      "  utils.warn_names_duplicates(\"var\")\n",
      "/home/icb/alessandro.palma/environment/celldreamer/celldreamer/eval/compute_evaluation_metrics.py:36: ImplicitModificationWarning: Setting element `.obsm['X_pca']` of view, initializing view as actual.\n",
      "  adata_generated.obsm[\"X_pca\"] = adata_generated.X.A.dot(adata_real.varm[\"PCs\"])\n"
     ]
    },
    {
     "name": "stdout",
     "output_type": "stream",
     "text": [
      "Finsihed scvi\n"
     ]
    },
    {
     "name": "stderr",
     "output_type": "stream",
     "text": [
      "/home/icb/alessandro.palma/miniconda3/envs/celldreamer/lib/python3.10/site-packages/scanpy/preprocessing/_pca.py:229: ImplicitModificationWarning: Setting element `.obsm['X_pca']` of view, initializing view as actual.\n",
      "  adata.obsm['X_pca'] = X_pca\n",
      "/home/icb/alessandro.palma/miniconda3/envs/celldreamer/lib/python3.10/site-packages/anndata/_core/anndata.py:1899: UserWarning: Variable names are not unique. To make them unique, call `.var_names_make_unique`.\n",
      "  utils.warn_names_duplicates(\"var\")\n",
      "/home/icb/alessandro.palma/environment/celldreamer/celldreamer/eval/compute_evaluation_metrics.py:36: ImplicitModificationWarning: Setting element `.obsm['X_pca']` of view, initializing view as actual.\n",
      "  adata_generated.obsm[\"X_pca\"] = adata_generated.X.A.dot(adata_real.varm[\"PCs\"])\n"
     ]
    }
   ],
   "source": [
    "results_celldreamer = {}\n",
    "results_scvi = {} \n",
    "results_scdiff = {}\n",
    "\n",
    "for i in range(3):\n",
    "    adata_generated_path_celldreamer = f\"/home/icb/alessandro.palma/environment/celldreamer/project_folder/datasets/generated/neurips/generated_cells_{i}.h5ad\"\n",
    "    adata_generated_celldreamer = sc.read_h5ad(adata_generated_path_celldreamer)\n",
    "\n",
    "    adata_generated_path_scvi = f\"/home/icb/alessandro.palma/environment/celldreamer/project_folder/baseline_experiments/scvi/neurips/generated/neurips_{i}.h5ad\"\n",
    "    adata_generated_scvi = sc.read_h5ad(adata_generated_path_scvi)\n",
    "    adata_generated_scvi.X = sparse.csr_matrix(adata_generated_scvi.X)\n",
    "    adata_generated_scvi = process_labels(adata_real, adata_generated_scvi, \"cell_type\", categorical_obs=True)\n",
    "    \n",
    "    adata_generated_path_scDiffusion = f\"/home/icb/alessandro.palma/environment/celldreamer/project_folder/baseline_experiments/scDiffusion/generated/neurips/generated_cells_{i}.h5ad\"\n",
    "    adata_generated_scDiffusion = sc.read_h5ad(adata_generated_path_scDiffusion)[-n_obs:]\n",
    "    adata_generated_scDiffusion.X = sparse.csr_matrix(adata_generated_scDiffusion.X)\n",
    "    adata_generated_scDiffusion = process_labels(adata_real, adata_generated_scDiffusion, \"cell_type\", categorical_obs=False)\n",
    "\n",
    "    results_celldreamer_i = compute_evaluation_metrics(adata_real, adata_generated_celldreamer, \"cell_type\", conditional=True, nn=10, original_space=True)\n",
    "    print(\"Finsihed celldreamer\")\n",
    "    results_scvi_i = compute_evaluation_metrics(adata_real, adata_generated_scvi, \"cell_type\", conditional=True, nn=10, original_space=True)\n",
    "    print(\"Finsihed scvi\")\n",
    "    results_scdiff_i = compute_evaluation_metrics(adata_real, adata_generated_scDiffusion, \"cell_type\", conditional=True, nn=10, original_space=True)\n",
    "    print(\"Finsihed scDiff\")\n",
    "\n",
    "    results_celldreamer = add_to_dict(results_celldreamer, results_celldreamer_i)\n",
    "    results_scvi = add_to_dict(results_scvi, results_scvi_i)\n",
    "    results_scdiff = add_to_dict(results_scdiff, results_scdiff_i)"
   ]
  },
  {
   "cell_type": "code",
   "execution_count": 9,
   "id": "9dc8d26e-5380-4b78-87eb-abe5f226f40c",
   "metadata": {},
   "outputs": [],
   "source": [
    "results_celldreamer_df = pd.DataFrame(results_celldreamer)\n",
    "results_scvi_df = pd.DataFrame(results_scvi)\n",
    "results_scdiff_df = pd.DataFrame(results_scdiff)"
   ]
  },
  {
   "cell_type": "code",
   "execution_count": 9,
   "id": "772949c4-f373-410e-816d-c873e93c67d4",
   "metadata": {},
   "outputs": [
    {
     "name": "stderr",
     "output_type": "stream",
     "text": [
      "Exception ignored in: <function _xla_gc_callback at 0x7fb0c0eedea0>\n",
      "Traceback (most recent call last):\n",
      "  File \"/home/icb/alessandro.palma/miniconda3/envs/celldreamer/lib/python3.10/site-packages/jax/_src/lib/__init__.py\", line 101, in _xla_gc_callback\n",
      "KeyboardInterrupt: \n"
     ]
    },
    {
     "name": "stdout",
     "output_type": "stream",
     "text": [
      "ERROR! Session/line number was not unique in"
     ]
    },
    {
     "name": "stderr",
     "output_type": "stream",
     "text": [
      "Exception ignored in: <function _xla_gc_callback at 0x7fb0c0eedea0>\n",
      "Traceback (most recent call last):\n",
      "  File \"/home/icb/alessandro.palma/miniconda3/envs/celldreamer/lib/python3.10/site-packages/jax/_src/lib/__init__.py\", line 101, in _xla_gc_callback\n",
      "    def _xla_gc_callback(*args):\n",
      "KeyboardInterrupt: \n"
     ]
    },
    {
     "name": "stdout",
     "output_type": "stream",
     "text": [
      " database. History logging moved to new session 8602\n"
     ]
    },
    {
     "name": "stderr",
     "output_type": "stream",
     "text": [
      "Exception ignored in: <function _xla_gc_callback at 0x7fb0c0eedea0>\n",
      "Traceback (most recent call last):\n",
      "  File \"/home/icb/alessandro.palma/miniconda3/envs/celldreamer/lib/python3.10/site-packages/jax/_src/lib/__init__.py\", line 101, in _xla_gc_callback\n",
      "    def _xla_gc_callback(*args):\n",
      "KeyboardInterrupt: \n"
     ]
    },
    {
     "ename": "KeyboardInterrupt",
     "evalue": "",
     "output_type": "error",
     "traceback": [
      "\u001b[0;31m---------------------------------------------------------------------------\u001b[0m",
      "\u001b[0;31mKeyboardInterrupt\u001b[0m                         Traceback (most recent call last)",
      "File \u001b[0;32m~/miniconda3/envs/celldreamer/lib/python3.10/site-packages/IPython/core/async_helpers.py:129\u001b[0m, in \u001b[0;36m_pseudo_sync_runner\u001b[0;34m(coro)\u001b[0m\n\u001b[1;32m    121\u001b[0m \u001b[38;5;250m\u001b[39m\u001b[38;5;124;03m\"\"\"\u001b[39;00m\n\u001b[1;32m    122\u001b[0m \u001b[38;5;124;03mA runner that does not really allow async execution, and just advance the coroutine.\u001b[39;00m\n\u001b[1;32m    123\u001b[0m \n\u001b[0;32m   (...)\u001b[0m\n\u001b[1;32m    126\u001b[0m \u001b[38;5;124;03mCredit to Nathaniel Smith\u001b[39;00m\n\u001b[1;32m    127\u001b[0m \u001b[38;5;124;03m\"\"\"\u001b[39;00m\n\u001b[1;32m    128\u001b[0m \u001b[38;5;28;01mtry\u001b[39;00m:\n\u001b[0;32m--> 129\u001b[0m     \u001b[43mcoro\u001b[49m\u001b[38;5;241;43m.\u001b[39;49m\u001b[43msend\u001b[49m\u001b[43m(\u001b[49m\u001b[38;5;28;43;01mNone\u001b[39;49;00m\u001b[43m)\u001b[49m\n\u001b[1;32m    130\u001b[0m \u001b[38;5;28;01mexcept\u001b[39;00m \u001b[38;5;167;01mStopIteration\u001b[39;00m \u001b[38;5;28;01mas\u001b[39;00m exc:\n\u001b[1;32m    131\u001b[0m     \u001b[38;5;28;01mreturn\u001b[39;00m exc\u001b[38;5;241m.\u001b[39mvalue\n",
      "File \u001b[0;32m~/miniconda3/envs/celldreamer/lib/python3.10/site-packages/IPython/core/interactiveshell.py:3254\u001b[0m, in \u001b[0;36mInteractiveShell.run_cell_async\u001b[0;34m(self, raw_cell, store_history, silent, shell_futures, transformed_cell, preprocessing_exc_tuple, cell_id)\u001b[0m\n\u001b[1;32m   3252\u001b[0m \u001b[38;5;66;03m# Store raw and processed history\u001b[39;00m\n\u001b[1;32m   3253\u001b[0m \u001b[38;5;28;01mif\u001b[39;00m store_history:\n\u001b[0;32m-> 3254\u001b[0m     \u001b[38;5;28;43mself\u001b[39;49m\u001b[38;5;241;43m.\u001b[39;49m\u001b[43mhistory_manager\u001b[49m\u001b[38;5;241;43m.\u001b[39;49m\u001b[43mstore_inputs\u001b[49m\u001b[43m(\u001b[49m\u001b[38;5;28;43mself\u001b[39;49m\u001b[38;5;241;43m.\u001b[39;49m\u001b[43mexecution_count\u001b[49m\u001b[43m,\u001b[49m\u001b[43m \u001b[49m\u001b[43mcell\u001b[49m\u001b[43m,\u001b[49m\u001b[43m \u001b[49m\u001b[43mraw_cell\u001b[49m\u001b[43m)\u001b[49m\n\u001b[1;32m   3255\u001b[0m \u001b[38;5;28;01mif\u001b[39;00m \u001b[38;5;129;01mnot\u001b[39;00m silent:\n\u001b[1;32m   3256\u001b[0m     \u001b[38;5;28mself\u001b[39m\u001b[38;5;241m.\u001b[39mlogger\u001b[38;5;241m.\u001b[39mlog(cell, raw_cell)\n",
      "File \u001b[0;32m~/miniconda3/envs/celldreamer/lib/python3.10/site-packages/IPython/core/history.py:783\u001b[0m, in \u001b[0;36mHistoryManager.store_inputs\u001b[0;34m(self, line_num, source, source_raw)\u001b[0m\n\u001b[1;32m    780\u001b[0m \u001b[38;5;28mself\u001b[39m\u001b[38;5;241m.\u001b[39minput_hist_parsed\u001b[38;5;241m.\u001b[39mappend(source)\n\u001b[1;32m    781\u001b[0m \u001b[38;5;28mself\u001b[39m\u001b[38;5;241m.\u001b[39minput_hist_raw\u001b[38;5;241m.\u001b[39mappend(source_raw)\n\u001b[0;32m--> 783\u001b[0m \u001b[38;5;28;01mwith\u001b[39;00m \u001b[38;5;28mself\u001b[39m\u001b[38;5;241m.\u001b[39mdb_input_cache_lock:\n\u001b[1;32m    784\u001b[0m     \u001b[38;5;28mself\u001b[39m\u001b[38;5;241m.\u001b[39mdb_input_cache\u001b[38;5;241m.\u001b[39mappend((line_num, source, source_raw))\n\u001b[1;32m    785\u001b[0m     \u001b[38;5;66;03m# Trigger to flush cache and write to DB.\u001b[39;00m\n",
      "\u001b[0;31mKeyboardInterrupt\u001b[0m: "
     ]
    }
   ],
   "source": [
    "results_celldreamer_df.mean(0)"
   ]
  },
  {
   "cell_type": "code",
   "execution_count": null,
   "id": "f47b7313-2a30-41fc-ba27-91baf78e7185",
   "metadata": {},
   "outputs": [],
   "source": [
    "results_scvi_df.mean(0)"
   ]
  },
  {
   "cell_type": "code",
   "execution_count": null,
   "id": "7a094899-df08-45c2-8e86-8aa2731f6d53",
   "metadata": {},
   "outputs": [],
   "source": [
    "results_scdiff_df.mean(0)"
   ]
  },
  {
   "cell_type": "code",
   "execution_count": 13,
   "id": "36840f76-c5bc-4944-aa63-91d1588baae6",
   "metadata": {},
   "outputs": [
    {
     "data": {
      "text/plain": [
       "{'1-Wasserstein_PCA': 20.333249217255783,\n",
       " '2-Wasserstein_PCA': 20.544687057269222,\n",
       " 'Linear_MMD_PCA': 373.039306640625,\n",
       " 'Poly_MMD_PCA': 144222.53125,\n",
       " '1-Wasserstein': 23.65248480024329,\n",
       " '2-Wasserstein': 23.87172915841405,\n",
       " 'Linear_MMD': 122.11853790283203,\n",
       " 'Poly_MMD': 98860.9921875,\n",
       " 'KNN identity': 0.005222222222222222,\n",
       " 'KNN identity PCA': 5.555555555555556e-05,\n",
       " 'precision': 0.07666666666666666,\n",
       " 'recall': 0.3387,\n",
       " 'density': 0.055477777777777786,\n",
       " 'coverage': 0.2824,\n",
       " 'precision_PCA': 0.0017222222222222222,\n",
       " 'recall_PCA': 0.2994,\n",
       " 'density_PCA': 0.00028333333333333335,\n",
       " 'coverage_PCA': 0.0024,\n",
       " 'KNN category': 0.6926111111111111,\n",
       " 'KNN category PCA': 0.5777222222222222}"
      ]
     },
     "execution_count": 13,
     "metadata": {},
     "output_type": "execute_result"
    }
   ],
   "source": [
    "results_celldreamer_i"
   ]
  },
  {
   "cell_type": "code",
   "execution_count": 14,
   "id": "22768e0d-7a96-4c86-a13c-6a2d993e1b36",
   "metadata": {},
   "outputs": [
    {
     "data": {
      "text/plain": [
       "{'1-Wasserstein_PCA': 21.054406014017424,\n",
       " '2-Wasserstein_PCA': 21.278284015130694,\n",
       " 'Linear_MMD_PCA': 396.2701416015625,\n",
       " 'Poly_MMD_PCA': 164699.625,\n",
       " '1-Wasserstein': 24.338574693079142,\n",
       " '2-Wasserstein': 24.564836063482858,\n",
       " 'Linear_MMD': 148.68447875976562,\n",
       " 'Poly_MMD': 124298.7265625,\n",
       " 'KNN identity': 0.005096105910375007,\n",
       " 'KNN identity PCA': 5.5392455547554426e-05,\n",
       " 'precision': 0.06021159918019166,\n",
       " 'recall': 0.3519,\n",
       " 'density': 0.08468952528665596,\n",
       " 'coverage': 0.2352,\n",
       " 'precision_PCA': 0.0013848113886888605,\n",
       " 'recall_PCA': 0.0016,\n",
       " 'density_PCA': 0.00017725585775217416,\n",
       " 'coverage_PCA': 0.0011,\n",
       " 'KNN category': 0.6191214756550157,\n",
       " 'KNN category PCA': 0.5203013349581787}"
      ]
     },
     "execution_count": 14,
     "metadata": {},
     "output_type": "execute_result"
    }
   ],
   "source": [
    "results_scvi_i"
   ]
  },
  {
   "cell_type": "code",
   "execution_count": null,
   "id": "f11e8189-24b1-477b-9071-631a5c3330ae",
   "metadata": {},
   "outputs": [],
   "source": []
  }
 ],
 "metadata": {
  "kernelspec": {
   "display_name": "Python 3 (ipykernel)",
   "language": "python",
   "name": "python3"
  },
  "language_info": {
   "codemirror_mode": {
    "name": "ipython",
    "version": 3
   },
   "file_extension": ".py",
   "mimetype": "text/x-python",
   "name": "python",
   "nbconvert_exporter": "python",
   "pygments_lexer": "ipython3",
   "version": "3.10.13"
  }
 },
 "nbformat": 4,
 "nbformat_minor": 5
}
