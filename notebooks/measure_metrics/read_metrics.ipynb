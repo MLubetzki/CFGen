{
 "cells": [
  {
   "cell_type": "markdown",
   "id": "10dd506e-7645-4210-887f-cee3d39b85be",
   "metadata": {},
   "source": [
    "# Read real and generated datasets "
   ]
  },
  {
   "cell_type": "code",
   "execution_count": 49,
   "id": "86c3c0cf-a378-4d79-9b7d-fe39f776c31b",
   "metadata": {},
   "outputs": [],
   "source": [
    "import scanpy as sc\n",
    "from celldreamer.eval.compute_evaluation_metrics import process_labels, compute_evaluation_metrics\n",
    "from scipy import sparse\n",
    "import pandas as pd\n",
    "import numpy as np"
   ]
  },
  {
   "cell_type": "markdown",
   "id": "01361fdf-1b25-4aed-8d4d-967840bc20dd",
   "metadata": {},
   "source": [
    "## PBMC3K"
   ]
  },
  {
   "cell_type": "code",
   "execution_count": 50,
   "id": "9dc8d26e-5380-4b78-87eb-abe5f226f40c",
   "metadata": {},
   "outputs": [],
   "source": [
    "results_celldreamer_pbmc3k = pd.read_csv(\"/home/icb/alessandro.palma/environment/celldreamer/experiments/results_cell_type/pbmc3k/celldreamer_pbmc3k\")\n",
    "results_scDiff_pbmc3k = pd.read_csv(\"/home/icb/alessandro.palma/environment/celldreamer/experiments/results_cell_type/pbmc3k/scdiff_pbmc3k\")\n",
    "results_scvi_pbmc3k = pd.read_csv(\"/home/icb/alessandro.palma/environment/celldreamer/experiments/results_cell_type/pbmc3k/scvi_pbmc3k\")"
   ]
  },
  {
   "cell_type": "code",
   "execution_count": 51,
   "id": "6b9889be-9ba5-4fd1-be4b-d5f0ec7f9c13",
   "metadata": {},
   "outputs": [
    {
     "data": {
      "text/plain": [
       "Unnamed: 0               8.500000\n",
       "1-Wasserstein_PCA       14.641439\n",
       "2-Wasserstein_PCA       14.773540\n",
       "Linear_MMD_PCA         197.266388\n",
       "Poly_MMD_PCA         95584.216146\n",
       "KNN identity             0.668656\n",
       "KNN identity PCA         0.995641\n",
       "precision                0.528524\n",
       "recall                   0.419747\n",
       "density                  1.026494\n",
       "coverage                 0.969991\n",
       "precision_PCA            0.360238\n",
       "recall_PCA               0.017053\n",
       "density_PCA              0.042534\n",
       "coverage_PCA             0.027360\n",
       "KNN category             0.362435\n",
       "KNN category PCA         0.342022\n",
       "global_f1                0.482471\n",
       "dtype: float64"
      ]
     },
     "execution_count": 51,
     "metadata": {},
     "output_type": "execute_result"
    }
   ],
   "source": [
    "results_celldreamer_pbmc3k.groupby(\"ct\").mean(0).mean(0)"
   ]
  },
  {
   "cell_type": "code",
   "execution_count": 52,
   "id": "41c54a9b-d2d0-441f-bf15-e37eb1407fb4",
   "metadata": {
    "scrolled": true
   },
   "outputs": [
    {
     "data": {
      "text/plain": [
       "Unnamed: 0                8.500000\n",
       "1-Wasserstein_PCA        20.205438\n",
       "2-Wasserstein_PCA        20.468624\n",
       "Linear_MMD_PCA          384.211212\n",
       "Poly_MMD_PCA         468134.206597\n",
       "KNN identity              0.375386\n",
       "KNN identity PCA          0.995012\n",
       "precision                 0.754376\n",
       "recall                    0.416368\n",
       "density                   1.942962\n",
       "coverage                  0.920271\n",
       "precision_PCA             0.077549\n",
       "recall_PCA                0.136786\n",
       "density_PCA               0.007878\n",
       "coverage_PCA              0.006988\n",
       "KNN category              0.217319\n",
       "KNN category PCA          0.232785\n",
       "global_f1                 0.547374\n",
       "dtype: float64"
      ]
     },
     "execution_count": 52,
     "metadata": {},
     "output_type": "execute_result"
    }
   ],
   "source": [
    "results_scDiff_pbmc3k.groupby(\"ct\").mean(0).mean(0)"
   ]
  },
  {
   "cell_type": "code",
   "execution_count": 53,
   "id": "64ad0c1e-dea3-47bb-8905-766fec6f7866",
   "metadata": {},
   "outputs": [
    {
     "data": {
      "text/plain": [
       "Unnamed: 0                8.500000\n",
       "1-Wasserstein_PCA        15.503302\n",
       "2-Wasserstein_PCA        15.616017\n",
       "Linear_MMD_PCA          225.166798\n",
       "Poly_MMD_PCA         126934.672526\n",
       "KNN identity              0.534112\n",
       "KNN identity PCA          0.997485\n",
       "precision                 0.467447\n",
       "recall                    0.613868\n",
       "density                   0.718467\n",
       "coverage                  0.936612\n",
       "precision_PCA             0.298459\n",
       "recall_PCA                0.014672\n",
       "density_PCA               0.031904\n",
       "coverage_PCA              0.018476\n",
       "KNN category              0.433424\n",
       "KNN category PCA          0.462517\n",
       "global_f1                 0.569406\n",
       "dtype: float64"
      ]
     },
     "execution_count": 53,
     "metadata": {},
     "output_type": "execute_result"
    }
   ],
   "source": [
    "results_scvi_pbmc3k.groupby(\"ct\").mean(0).mean(0)"
   ]
  },
  {
   "cell_type": "markdown",
   "id": "ef0ed73c-58de-4674-a924-dd118af153aa",
   "metadata": {},
   "source": [
    "## PBMC68K"
   ]
  },
  {
   "cell_type": "code",
   "execution_count": 54,
   "id": "c03522be-30dd-4cca-a263-f06515113882",
   "metadata": {},
   "outputs": [],
   "source": [
    "results_celldreamer_pbmc68k = pd.read_csv(\"/home/icb/alessandro.palma/environment/celldreamer/experiments/results_cell_type/pbmc68k/celldreamer_pbmc68k\")\n",
    "results_scDiff_pbmc68k = pd.read_csv(\"/home/icb/alessandro.palma/environment/celldreamer/experiments/results_cell_type/pbmc68k/scdiff_pbmc68k\")\n",
    "results_scvi_pbmc68k = pd.read_csv(\"/home/icb/alessandro.palma/environment/celldreamer/experiments/results_cell_type/pbmc68k/scvi_pbmc68k\")"
   ]
  },
  {
   "cell_type": "code",
   "execution_count": 55,
   "id": "f0513cfc-af12-478f-a7aa-9a79f713900c",
   "metadata": {},
   "outputs": [
    {
     "data": {
      "text/plain": [
       "Unnamed: 0              13.000000\n",
       "1-Wasserstein_PCA       10.866892\n",
       "2-Wasserstein_PCA       10.954879\n",
       "Linear_MMD_PCA         104.925854\n",
       "Poly_MMD_PCA         11288.944734\n",
       "KNN identity             0.584389\n",
       "KNN identity PCA         0.994051\n",
       "precision                0.605742\n",
       "recall                   0.386294\n",
       "density                  1.528960\n",
       "coverage                 0.998372\n",
       "precision_PCA            0.099891\n",
       "recall_PCA               0.125106\n",
       "density_PCA              0.028323\n",
       "coverage_PCA             0.066918\n",
       "KNN category             0.036116\n",
       "KNN category PCA         0.041856\n",
       "global_f1                0.181790\n",
       "dtype: float64"
      ]
     },
     "execution_count": 55,
     "metadata": {},
     "output_type": "execute_result"
    }
   ],
   "source": [
    "results_celldreamer_pbmc68k.groupby(\"ct\").mean(0).mean(0)"
   ]
  },
  {
   "cell_type": "code",
   "execution_count": 56,
   "id": "ef9364b2-800b-41c7-a113-cf12a1bf5016",
   "metadata": {},
   "outputs": [
    {
     "data": {
      "text/plain": [
       "Unnamed: 0              13.000000\n",
       "1-Wasserstein_PCA       11.333264\n",
       "2-Wasserstein_PCA       11.440775\n",
       "Linear_MMD_PCA         114.245439\n",
       "Poly_MMD_PCA         13945.753400\n",
       "KNN identity             0.358744\n",
       "KNN identity PCA         0.990671\n",
       "precision                0.861131\n",
       "recall                   0.100939\n",
       "density                  3.744794\n",
       "coverage                 0.995253\n",
       "precision_PCA            0.115121\n",
       "recall_PCA               0.103048\n",
       "density_PCA              0.044123\n",
       "coverage_PCA             0.082194\n",
       "KNN category             0.040983\n",
       "KNN category PCA         0.048898\n",
       "global_f1                0.171715\n",
       "dtype: float64"
      ]
     },
     "execution_count": 56,
     "metadata": {},
     "output_type": "execute_result"
    }
   ],
   "source": [
    "results_scDiff_pbmc68k.groupby(\"ct\").mean(0).mean(0)"
   ]
  },
  {
   "cell_type": "code",
   "execution_count": 57,
   "id": "223dfd4c-701e-48d0-b845-1e9d48cc2cf0",
   "metadata": {},
   "outputs": [
    {
     "data": {
      "text/plain": [
       "Unnamed: 0              13.000000\n",
       "1-Wasserstein_PCA       11.266849\n",
       "2-Wasserstein_PCA       11.355505\n",
       "Linear_MMD_PCA         116.049902\n",
       "Poly_MMD_PCA         14518.493435\n",
       "KNN identity             0.640510\n",
       "KNN identity PCA         0.990665\n",
       "precision                0.529436\n",
       "recall                   0.538984\n",
       "density                  0.986975\n",
       "coverage                 0.998300\n",
       "precision_PCA            0.099659\n",
       "recall_PCA               0.183536\n",
       "density_PCA              0.036279\n",
       "coverage_PCA             0.080567\n",
       "KNN category             0.046666\n",
       "KNN category PCA         0.053542\n",
       "global_f1                0.247091\n",
       "dtype: float64"
      ]
     },
     "execution_count": 57,
     "metadata": {},
     "output_type": "execute_result"
    }
   ],
   "source": [
    "results_scvi_pbmc68k.groupby(\"ct\").mean(0).mean(0)"
   ]
  },
  {
   "cell_type": "markdown",
   "id": "2c85f50c-6a98-4fcd-818c-e9e132162836",
   "metadata": {},
   "source": [
    "## Neurips"
   ]
  },
  {
   "cell_type": "code",
   "execution_count": 58,
   "id": "4ae0550a-cdcc-4a04-9e1a-ad05ed8d198d",
   "metadata": {},
   "outputs": [],
   "source": [
    "results_celldreamer_neurips = pd.read_csv(\"/home/icb/alessandro.palma/environment/celldreamer/experiments/results_cell_type/neurips/celldreamer_neurips\")\n",
    "results_scDiff_neurips = pd.read_csv(\"/home/icb/alessandro.palma/environment/celldreamer/experiments/results_cell_type/neurips/scdiff_neurips\")\n",
    "results_scvi_neurips = pd.read_csv(\"/home/icb/alessandro.palma/environment/celldreamer/experiments/results_cell_type/neurips/scvi_neurips\")"
   ]
  },
  {
   "cell_type": "code",
   "execution_count": 59,
   "id": "ee1e2fb6-203e-4f6c-820c-2c11db463f5b",
   "metadata": {},
   "outputs": [
    {
     "data": {
      "text/plain": [
       "Unnamed: 0               54.561404\n",
       "1-Wasserstein_PCA        20.783177\n",
       "2-Wasserstein_PCA        20.871373\n",
       "Linear_MMD_PCA          412.835950\n",
       "Poly_MMD_PCA         264639.850466\n",
       "KNN identity              0.640987\n",
       "KNN identity PCA          0.999827\n",
       "precision                 0.461815\n",
       "recall                    0.749885\n",
       "density                   0.446031\n",
       "coverage                  0.791249\n",
       "precision_PCA             0.001805\n",
       "recall_PCA                0.035039\n",
       "density_PCA               0.000287\n",
       "coverage_PCA              0.002381\n",
       "KNN category              0.183638\n",
       "KNN category PCA          0.137738\n",
       "global_f1                 0.513352\n",
       "dtype: float64"
      ]
     },
     "execution_count": 59,
     "metadata": {},
     "output_type": "execute_result"
    }
   ],
   "source": [
    "results_celldreamer_neurips.groupby(\"ct\").mean(0).mean(0)"
   ]
  },
  {
   "cell_type": "code",
   "execution_count": 60,
   "id": "1a31e785-55fe-4656-93a1-4f13382a6340",
   "metadata": {},
   "outputs": [
    {
     "data": {
      "text/plain": [
       "Unnamed: 0               54.561404\n",
       "1-Wasserstein_PCA        19.471005\n",
       "2-Wasserstein_PCA        19.548508\n",
       "Linear_MMD_PCA          340.596710\n",
       "Poly_MMD_PCA         112432.314179\n",
       "KNN identity              0.899768\n",
       "KNN identity PCA          0.999435\n",
       "precision                 0.766492\n",
       "recall                    0.005035\n",
       "density                   1.902711\n",
       "coverage                  0.448581\n",
       "precision_PCA             0.036456\n",
       "recall_PCA                0.000175\n",
       "density_PCA               0.004872\n",
       "coverage_PCA              0.005010\n",
       "KNN category              0.107092\n",
       "KNN category PCA          0.017683\n",
       "global_f1                 0.360248\n",
       "dtype: float64"
      ]
     },
     "execution_count": 60,
     "metadata": {},
     "output_type": "execute_result"
    }
   ],
   "source": [
    "results_scDiff_neurips.groupby(\"ct\").mean(0).mean(0)"
   ]
  },
  {
   "cell_type": "code",
   "execution_count": 61,
   "id": "07f5940e-1c1e-42ae-af39-ee0af30c9c73",
   "metadata": {},
   "outputs": [
    {
     "data": {
      "text/plain": [
       "Unnamed: 0               54.561404\n",
       "1-Wasserstein_PCA        21.963241\n",
       "2-Wasserstein_PCA        22.081605\n",
       "Linear_MMD_PCA          459.160390\n",
       "Poly_MMD_PCA         281347.473136\n",
       "KNN identity              0.709490\n",
       "KNN identity PCA          0.999837\n",
       "precision                 0.427301\n",
       "recall                    0.771091\n",
       "density                   0.493752\n",
       "coverage                  0.751475\n",
       "precision_PCA             0.001077\n",
       "recall_PCA                0.048434\n",
       "density_PCA               0.000171\n",
       "coverage_PCA              0.001153\n",
       "KNN category              0.094968\n",
       "KNN category PCA          0.078116\n",
       "global_f1                 0.447228\n",
       "dtype: float64"
      ]
     },
     "execution_count": 61,
     "metadata": {},
     "output_type": "execute_result"
    }
   ],
   "source": [
    "results_scvi_neurips.groupby(\"ct\").mean(0).mean(0)"
   ]
  },
  {
   "cell_type": "markdown",
   "id": "39a9a3ef-60ba-4ba3-a2ed-0f22a8c319cd",
   "metadata": {},
   "source": [
    "## HLCA"
   ]
  },
  {
   "cell_type": "code",
   "execution_count": 62,
   "id": "23ad4efb-6e87-4830-87f0-3167efc85fe2",
   "metadata": {},
   "outputs": [],
   "source": [
    "results_celldreamer_hlca = pd.read_csv(\"/home/icb/alessandro.palma/environment/celldreamer/experiments/results_cell_type/hlca_core/celldreamer_hlca_core\")\n",
    "results_scDiff_hlca = pd.read_csv(\"/home/icb/alessandro.palma/environment/celldreamer/experiments/results_cell_type/hlca_core/scdiff_hlca_core\")\n",
    "results_scvi_hlca = pd.read_csv(\"/home/icb/alessandro.palma/environment/celldreamer/experiments/results_cell_type/hlca_core/scvi_hlca_core\")"
   ]
  },
  {
   "cell_type": "code",
   "execution_count": 63,
   "id": "a7488a38-bc42-471c-94c2-32054ccfa830",
   "metadata": {},
   "outputs": [
    {
     "data": {
      "text/plain": [
       "Unnamed: 0              68.159420\n",
       "1-Wasserstein_PCA       11.714789\n",
       "2-Wasserstein_PCA       11.800174\n",
       "Linear_MMD_PCA          99.324557\n",
       "Poly_MMD_PCA         37843.675969\n",
       "KNN identity             0.799119\n",
       "KNN identity PCA         0.998666\n",
       "precision                0.312188\n",
       "recall                   0.714049\n",
       "density                  0.277074\n",
       "coverage                 0.562643\n",
       "precision_PCA            0.086514\n",
       "recall_PCA               0.036534\n",
       "density_PCA              0.012755\n",
       "coverage_PCA             0.018259\n",
       "KNN category             0.175858\n",
       "KNN category PCA         0.140397\n",
       "global_f1                0.729281\n",
       "dtype: float64"
      ]
     },
     "execution_count": 63,
     "metadata": {},
     "output_type": "execute_result"
    }
   ],
   "source": [
    "results_celldreamer_hlca.groupby(\"ct\").mean(0).mean(0)"
   ]
  },
  {
   "cell_type": "code",
   "execution_count": 64,
   "id": "64e0e47c-f612-44c1-a08d-c67e305ddd05",
   "metadata": {},
   "outputs": [
    {
     "data": {
      "text/plain": [
       "Unnamed: 0              68.159420\n",
       "1-Wasserstein_PCA       16.891569\n",
       "2-Wasserstein_PCA       17.003974\n",
       "Linear_MMD_PCA         239.167356\n",
       "Poly_MMD_PCA         62378.449937\n",
       "KNN identity             0.675179\n",
       "KNN identity PCA         0.999844\n",
       "precision                0.838976\n",
       "recall                   0.019630\n",
       "density                  2.896572\n",
       "coverage                 0.722110\n",
       "precision_PCA            0.014361\n",
       "recall_PCA               0.000000\n",
       "density_PCA              0.001630\n",
       "coverage_PCA             0.001605\n",
       "KNN category             0.077639\n",
       "KNN category PCA         0.019938\n",
       "global_f1                0.529007\n",
       "dtype: float64"
      ]
     },
     "execution_count": 64,
     "metadata": {},
     "output_type": "execute_result"
    }
   ],
   "source": [
    "results_scDiff_hlca.groupby(\"ct\").mean(0).mean(0)"
   ]
  },
  {
   "cell_type": "code",
   "execution_count": 65,
   "id": "eb783930-2f16-4196-aee4-db72715ccc42",
   "metadata": {},
   "outputs": [
    {
     "data": {
      "text/plain": [
       "Unnamed: 0              68.159420\n",
       "1-Wasserstein_PCA       12.721914\n",
       "2-Wasserstein_PCA       12.882959\n",
       "Linear_MMD_PCA         121.367426\n",
       "Poly_MMD_PCA         37059.228194\n",
       "KNN identity             0.836272\n",
       "KNN identity PCA         0.998612\n",
       "precision                0.293756\n",
       "recall                   0.692874\n",
       "density                  0.287013\n",
       "coverage                 0.501307\n",
       "precision_PCA            0.093992\n",
       "recall_PCA               0.016694\n",
       "density_PCA              0.013422\n",
       "coverage_PCA             0.017302\n",
       "KNN category             0.086380\n",
       "KNN category PCA         0.058758\n",
       "global_f1                0.566466\n",
       "dtype: float64"
      ]
     },
     "execution_count": 65,
     "metadata": {},
     "output_type": "execute_result"
    }
   ],
   "source": [
    "results_scvi_hlca.groupby(\"ct\").mean(0).mean(0)"
   ]
  },
  {
   "cell_type": "markdown",
   "id": "b8356533-33a5-4ee3-886b-36ab8529174d",
   "metadata": {},
   "source": [
    "## Tabula Muris"
   ]
  },
  {
   "cell_type": "code",
   "execution_count": 66,
   "id": "416e7fcf-ce41-451e-ab72-b036a737bde7",
   "metadata": {},
   "outputs": [],
   "source": [
    "results_celldreamer_tabula = pd.read_csv(\"/home/icb/alessandro.palma/environment/celldreamer/experiments/results_cell_type/tabula_muris/celldreamer_tabula_muris\")\n",
    "results_scDiff_tabula = pd.read_csv(\"/home/icb/alessandro.palma/environment/celldreamer/experiments/results_cell_type/tabula_muris/scdiff_tabula_muris\")\n",
    "results_scvi_tabula = pd.read_csv(\"/home/icb/alessandro.palma/environment/celldreamer/experiments/results_cell_type/tabula_muris/scvi_tabula_muris\")"
   ]
  },
  {
   "cell_type": "code",
   "execution_count": 67,
   "id": "1824c01d-b8ea-43db-afbe-e488df809f31",
   "metadata": {},
   "outputs": [
    {
     "data": {
      "text/plain": [
       "Unnamed: 0              19.000000\n",
       "1-Wasserstein_PCA        8.601209\n",
       "2-Wasserstein_PCA        8.777106\n",
       "Linear_MMD_PCA          86.535499\n",
       "Poly_MMD_PCA         48384.760905\n",
       "KNN identity             0.786290\n",
       "KNN identity PCA         0.998199\n",
       "precision                0.228479\n",
       "recall                   0.766821\n",
       "density                  0.144179\n",
       "coverage                 0.408669\n",
       "precision_PCA            0.167651\n",
       "recall_PCA               0.017201\n",
       "density_PCA              0.032465\n",
       "coverage_PCA             0.019488\n",
       "KNN category             0.152590\n",
       "KNN category PCA         0.185623\n",
       "global_f1                0.822986\n",
       "dtype: float64"
      ]
     },
     "execution_count": 67,
     "metadata": {},
     "output_type": "execute_result"
    }
   ],
   "source": [
    "results_celldreamer_tabula.groupby(\"ct\").mean(0).mean(0)"
   ]
  },
  {
   "cell_type": "code",
   "execution_count": 68,
   "id": "12da7416-9c17-4bb4-a598-dab90beced80",
   "metadata": {},
   "outputs": [
    {
     "data": {
      "text/plain": [
       "Unnamed: 0              19.000000\n",
       "1-Wasserstein_PCA        8.710917\n",
       "2-Wasserstein_PCA        9.017732\n",
       "Linear_MMD_PCA          85.739965\n",
       "Poly_MMD_PCA         51165.477433\n",
       "KNN identity             0.724058\n",
       "KNN identity PCA         0.997720\n",
       "precision                0.864466\n",
       "recall                   0.018444\n",
       "density                  3.872415\n",
       "coverage                 0.732823\n",
       "precision_PCA            0.292569\n",
       "recall_PCA               0.018786\n",
       "density_PCA              0.090786\n",
       "coverage_PCA             0.029003\n",
       "KNN category             0.115198\n",
       "KNN category PCA         0.094224\n",
       "global_f1                0.720903\n",
       "dtype: float64"
      ]
     },
     "execution_count": 68,
     "metadata": {},
     "output_type": "execute_result"
    }
   ],
   "source": [
    "results_scDiff_tabula.groupby(\"ct\").mean(0).mean(0)"
   ]
  },
  {
   "cell_type": "code",
   "execution_count": 69,
   "id": "53c628f7-cb7a-48a7-a859-768c7c69235b",
   "metadata": {},
   "outputs": [
    {
     "data": {
      "text/plain": [
       "Unnamed: 0              19.000000\n",
       "1-Wasserstein_PCA       10.658042\n",
       "2-Wasserstein_PCA       11.049614\n",
       "Linear_MMD_PCA         100.283401\n",
       "Poly_MMD_PCA         53728.491474\n",
       "KNN identity             0.837327\n",
       "KNN identity PCA         0.996962\n",
       "precision                0.221756\n",
       "recall                   0.834922\n",
       "density                  0.166329\n",
       "coverage                 0.308248\n",
       "precision_PCA            0.234495\n",
       "recall_PCA               0.017089\n",
       "density_PCA              0.049139\n",
       "coverage_PCA             0.024186\n",
       "KNN category             0.103828\n",
       "KNN category PCA         0.096174\n",
       "global_f1                0.661092\n",
       "dtype: float64"
      ]
     },
     "execution_count": 69,
     "metadata": {},
     "output_type": "execute_result"
    }
   ],
   "source": [
    "results_scvi_tabula.groupby(\"ct\").mean(0).mean(0)"
   ]
  },
  {
   "cell_type": "markdown",
   "id": "24b0c664-79d5-491a-a201-4b0deb06196f",
   "metadata": {},
   "source": [
    "## Dentategyrus"
   ]
  },
  {
   "cell_type": "code",
   "execution_count": 70,
   "id": "70f27c52-2f26-4f11-84a3-f0eace9079c8",
   "metadata": {},
   "outputs": [],
   "source": [
    "results_celldreamer_dentategyrus = pd.read_csv(\"/home/icb/alessandro.palma/environment/celldreamer/experiments/results_cell_type/dentategyrus/celldreamer_dentategyrus\")\n",
    "results_scDiff_dentategyrus = pd.read_csv(\"/home/icb/alessandro.palma/environment/celldreamer/experiments/results_cell_type/dentategyrus/scdiff_dentategyrus\")\n",
    "results_scvi_dentategyrus = pd.read_csv(\"/home/icb/alessandro.palma/environment/celldreamer/experiments/results_cell_type/dentategyrus/scvi_dentategyrus\")"
   ]
  },
  {
   "cell_type": "code",
   "execution_count": 71,
   "id": "79f85ff1-016b-4806-a795-0bb69c55c315",
   "metadata": {},
   "outputs": [
    {
     "data": {
      "text/plain": [
       "Unnamed: 0               20.500000\n",
       "1-Wasserstein_PCA        18.662221\n",
       "2-Wasserstein_PCA        18.739736\n",
       "Linear_MMD_PCA          342.774892\n",
       "Poly_MMD_PCA         190139.858724\n",
       "KNN identity              0.628234\n",
       "KNN identity PCA          0.999245\n",
       "precision                 0.467127\n",
       "recall                    0.715846\n",
       "density                   0.570774\n",
       "coverage                  0.875912\n",
       "precision_PCA             0.017435\n",
       "recall_PCA                0.149869\n",
       "density_PCA               0.001943\n",
       "coverage_PCA              0.003429\n",
       "KNN category              0.212285\n",
       "KNN category PCA          0.121902\n",
       "global_f1                 0.734901\n",
       "dtype: float64"
      ]
     },
     "execution_count": 71,
     "metadata": {},
     "output_type": "execute_result"
    }
   ],
   "source": [
    "results_celldreamer_dentategyrus.groupby(\"ct\").mean(0).mean(0)"
   ]
  },
  {
   "cell_type": "code",
   "execution_count": 72,
   "id": "fb294632-ea20-449c-b73b-334a099767f1",
   "metadata": {},
   "outputs": [
    {
     "data": {
      "text/plain": [
       "Unnamed: 0               20.500000\n",
       "1-Wasserstein_PCA        19.650484\n",
       "2-Wasserstein_PCA        19.702220\n",
       "Linear_MMD_PCA          381.834711\n",
       "Poly_MMD_PCA         236798.584728\n",
       "KNN identity              0.371846\n",
       "KNN identity PCA          0.999869\n",
       "precision                 0.992310\n",
       "recall                    0.003341\n",
       "density                   8.157359\n",
       "coverage                  0.999191\n",
       "precision_PCA             0.012921\n",
       "recall_PCA                0.000241\n",
       "density_PCA               0.001305\n",
       "coverage_PCA              0.000328\n",
       "KNN category              0.217608\n",
       "KNN category PCA          0.109804\n",
       "global_f1                 0.772298\n",
       "dtype: float64"
      ]
     },
     "execution_count": 72,
     "metadata": {},
     "output_type": "execute_result"
    }
   ],
   "source": [
    "results_scDiff_dentategyrus.groupby(\"ct\").mean(0).mean(0)"
   ]
  },
  {
   "cell_type": "code",
   "execution_count": 73,
   "id": "6cf9bee8-04d1-4900-be99-ce8374a68d0a",
   "metadata": {},
   "outputs": [
    {
     "data": {
      "text/plain": [
       "Unnamed: 0               20.500000\n",
       "1-Wasserstein_PCA        19.777947\n",
       "2-Wasserstein_PCA        19.854177\n",
       "Linear_MMD_PCA          385.150489\n",
       "Poly_MMD_PCA         207593.836961\n",
       "KNN identity              0.634152\n",
       "KNN identity PCA          0.999539\n",
       "precision                 0.571208\n",
       "recall                    0.747270\n",
       "density                   0.758405\n",
       "coverage                  0.975166\n",
       "precision_PCA             0.032212\n",
       "recall_PCA                0.000307\n",
       "density_PCA               0.003352\n",
       "coverage_PCA              0.000827\n",
       "KNN category              0.186090\n",
       "KNN category PCA          0.104092\n",
       "global_f1                 0.711261\n",
       "dtype: float64"
      ]
     },
     "execution_count": 73,
     "metadata": {},
     "output_type": "execute_result"
    }
   ],
   "source": [
    "results_scvi_dentategyrus.groupby(\"ct\").mean(0).mean(0)"
   ]
  },
  {
   "cell_type": "markdown",
   "id": "6561728b-aa3a-4431-a2bb-234447751ff3",
   "metadata": {},
   "source": [
    "## C. Elegans"
   ]
  },
  {
   "cell_type": "code",
   "execution_count": 74,
   "id": "6b475fba-f914-496d-899e-10f1259d322e",
   "metadata": {},
   "outputs": [],
   "source": [
    "results_celldreamer_c_elegans = pd.read_csv(\"/home/icb/alessandro.palma/environment/celldreamer/experiments/results_cell_type/c_elegans/celldreamer_c_elegans\")\n",
    "results_scDiff_c_elegans = pd.read_csv(\"/home/icb/alessandro.palma/environment/celldreamer/experiments/results_cell_type/c_elegans/scdiff_c_elegans\")\n",
    "results_scvi_c_elegans = pd.read_csv(\"/home/icb/alessandro.palma/environment/celldreamer/experiments/results_cell_type/c_elegans/scvi_c_elegans\")"
   ]
  },
  {
   "cell_type": "code",
   "execution_count": 75,
   "id": "58ff6b15-49b1-4044-ac65-542b237225c3",
   "metadata": {},
   "outputs": [
    {
     "data": {
      "text/plain": [
       "Unnamed: 0              39.500000\n",
       "1-Wasserstein_PCA        6.518009\n",
       "2-Wasserstein_PCA        6.705810\n",
       "Linear_MMD_PCA          47.739747\n",
       "Poly_MMD_PCA         11429.529593\n",
       "KNN identity             0.814637\n",
       "KNN identity PCA         0.984453\n",
       "precision                0.341235\n",
       "recall                   0.532569\n",
       "density                  0.650531\n",
       "coverage                 0.831439\n",
       "precision_PCA            0.556448\n",
       "recall_PCA               0.178957\n",
       "density_PCA              0.131665\n",
       "coverage_PCA             0.185308\n",
       "KNN category             0.149434\n",
       "KNN category PCA         0.077087\n",
       "global_f1                0.359220\n",
       "dtype: float64"
      ]
     },
     "execution_count": 75,
     "metadata": {},
     "output_type": "execute_result"
    }
   ],
   "source": [
    "results_celldreamer_c_elegans.groupby(\"ct\").mean(0).mean(0)"
   ]
  },
  {
   "cell_type": "code",
   "execution_count": 76,
   "id": "79e12a4d-2372-4daa-87ed-cd944cf93d23",
   "metadata": {},
   "outputs": [
    {
     "data": {
      "text/plain": [
       "Unnamed: 0              39.500000\n",
       "1-Wasserstein_PCA        5.800789\n",
       "2-Wasserstein_PCA        5.974413\n",
       "Linear_MMD_PCA          39.159740\n",
       "Poly_MMD_PCA         11617.274658\n",
       "KNN identity             0.596029\n",
       "KNN identity PCA         0.979174\n",
       "precision                0.864948\n",
       "recall                   0.091663\n",
       "density                  2.792390\n",
       "coverage                 0.934051\n",
       "precision_PCA            0.672273\n",
       "recall_PCA               0.156636\n",
       "density_PCA              0.174075\n",
       "coverage_PCA             0.217021\n",
       "KNN category             0.122225\n",
       "KNN category PCA         0.056448\n",
       "global_f1                0.355773\n",
       "dtype: float64"
      ]
     },
     "execution_count": 76,
     "metadata": {},
     "output_type": "execute_result"
    }
   ],
   "source": [
    "results_scDiff_c_elegans.groupby(\"ct\").mean(0).mean(0)"
   ]
  },
  {
   "cell_type": "code",
   "execution_count": 77,
   "id": "dc79d105-4f88-428d-828b-8d3609598c0f",
   "metadata": {},
   "outputs": [
    {
     "data": {
      "text/plain": [
       "Unnamed: 0              39.500000\n",
       "1-Wasserstein_PCA        7.095104\n",
       "2-Wasserstein_PCA        7.414576\n",
       "Linear_MMD_PCA          51.646060\n",
       "Poly_MMD_PCA         11440.373647\n",
       "KNN identity             0.800537\n",
       "KNN identity PCA         0.983384\n",
       "precision                0.366265\n",
       "recall                   0.578514\n",
       "density                  0.618027\n",
       "coverage                 0.792747\n",
       "precision_PCA            0.555051\n",
       "recall_PCA               0.189256\n",
       "density_PCA              0.125461\n",
       "coverage_PCA             0.167951\n",
       "KNN category             0.133530\n",
       "KNN category PCA         0.067718\n",
       "global_f1                0.315274\n",
       "dtype: float64"
      ]
     },
     "execution_count": 77,
     "metadata": {},
     "output_type": "execute_result"
    }
   ],
   "source": [
    "results_scvi_c_elegans.groupby(\"ct\").mean(0).mean(0)"
   ]
  },
  {
   "cell_type": "code",
   "execution_count": null,
   "id": "72602ef0-79a8-4525-bb72-1a71cea4eb3b",
   "metadata": {},
   "outputs": [],
   "source": []
  }
 ],
 "metadata": {
  "kernelspec": {
   "display_name": "Python 3 (ipykernel)",
   "language": "python",
   "name": "python3"
  },
  "language_info": {
   "codemirror_mode": {
    "name": "ipython",
    "version": 3
   },
   "file_extension": ".py",
   "mimetype": "text/x-python",
   "name": "python",
   "nbconvert_exporter": "python",
   "pygments_lexer": "ipython3",
   "version": "3.10.13"
  }
 },
 "nbformat": 4,
 "nbformat_minor": 5
}
