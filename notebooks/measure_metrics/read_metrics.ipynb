{
 "cells": [
  {
   "cell_type": "markdown",
   "id": "10dd506e-7645-4210-887f-cee3d39b85be",
   "metadata": {},
   "source": [
    "# Read real and generated datasets "
   ]
  },
  {
   "cell_type": "code",
   "execution_count": 1,
   "id": "86c3c0cf-a378-4d79-9b7d-fe39f776c31b",
   "metadata": {},
   "outputs": [
    {
     "name": "stderr",
     "output_type": "stream",
     "text": [
      "An NVIDIA GPU may be present on this machine, but a CUDA-enabled jaxlib is not installed. Falling back to cpu.\n"
     ]
    }
   ],
   "source": [
    "import scanpy as sc\n",
    "from celldreamer.eval.compute_evaluation_metrics import process_labels, compute_evaluation_metrics\n",
    "from scipy import sparse\n",
    "import pandas as pd\n",
    "import numpy as np"
   ]
  },
  {
   "cell_type": "markdown",
   "id": "01361fdf-1b25-4aed-8d4d-967840bc20dd",
   "metadata": {},
   "source": [
    "## PBMC3K"
   ]
  },
  {
   "cell_type": "code",
   "execution_count": 2,
   "id": "9dc8d26e-5380-4b78-87eb-abe5f226f40c",
   "metadata": {},
   "outputs": [],
   "source": [
    "results_celldreamer_pbmc3k = pd.read_csv(\"/home/icb/alessandro.palma/environment/celldreamer/experiments/results_cell_type/pbmc3k/celldreamer_pbmc3k\")\n",
    "results_scDiff_pbmc3k = pd.read_csv(\"/home/icb/alessandro.palma/environment/celldreamer/experiments/results_cell_type/pbmc3k/scdiff_pbmc3k\")\n",
    "results_scvi_pbmc3k = pd.read_csv(\"/home/icb/alessandro.palma/environment/celldreamer/experiments/results_cell_type/pbmc3k/scvi_pbmc3k\")"
   ]
  },
  {
   "cell_type": "code",
   "execution_count": 3,
   "id": "6b9889be-9ba5-4fd1-be4b-d5f0ec7f9c13",
   "metadata": {},
   "outputs": [
    {
     "data": {
      "text/plain": [
       "Unnamed: 0               8.500000\n",
       "1-Wasserstein_PCA       14.641439\n",
       "2-Wasserstein_PCA       14.773540\n",
       "Linear_MMD_PCA         197.266388\n",
       "Poly_MMD_PCA         95584.216146\n",
       "KNN identity             0.668656\n",
       "KNN identity PCA         0.995641\n",
       "precision                0.528524\n",
       "recall                   0.419747\n",
       "density                  1.026494\n",
       "coverage                 0.969991\n",
       "precision_PCA            0.360238\n",
       "recall_PCA               0.017053\n",
       "density_PCA              0.042534\n",
       "coverage_PCA             0.027360\n",
       "KNN category             0.362435\n",
       "KNN category PCA         0.342022\n",
       "global_f1                0.482471\n",
       "dtype: float64"
      ]
     },
     "execution_count": 3,
     "metadata": {},
     "output_type": "execute_result"
    }
   ],
   "source": [
    "results_celldreamer_pbmc3k.groupby(\"ct\").mean(0).mean(0)"
   ]
  },
  {
   "cell_type": "code",
   "execution_count": 4,
   "id": "41c54a9b-d2d0-441f-bf15-e37eb1407fb4",
   "metadata": {
    "scrolled": true
   },
   "outputs": [
    {
     "data": {
      "text/plain": [
       "Unnamed: 0                8.500000\n",
       "1-Wasserstein_PCA        20.205438\n",
       "2-Wasserstein_PCA        20.468624\n",
       "Linear_MMD_PCA          384.211212\n",
       "Poly_MMD_PCA         468134.206597\n",
       "KNN identity              0.375386\n",
       "KNN identity PCA          0.995012\n",
       "precision                 0.754376\n",
       "recall                    0.416368\n",
       "density                   1.942962\n",
       "coverage                  0.920271\n",
       "precision_PCA             0.077549\n",
       "recall_PCA                0.136786\n",
       "density_PCA               0.007878\n",
       "coverage_PCA              0.006988\n",
       "KNN category              0.217319\n",
       "KNN category PCA          0.232785\n",
       "global_f1                 0.547374\n",
       "dtype: float64"
      ]
     },
     "execution_count": 4,
     "metadata": {},
     "output_type": "execute_result"
    }
   ],
   "source": [
    "results_scDiff_pbmc3k.groupby(\"ct\").mean(0).mean(0)"
   ]
  },
  {
   "cell_type": "code",
   "execution_count": 5,
   "id": "64ad0c1e-dea3-47bb-8905-766fec6f7866",
   "metadata": {},
   "outputs": [
    {
     "data": {
      "text/plain": [
       "Unnamed: 0                8.500000\n",
       "1-Wasserstein_PCA        15.503302\n",
       "2-Wasserstein_PCA        15.616017\n",
       "Linear_MMD_PCA          225.166798\n",
       "Poly_MMD_PCA         126934.672526\n",
       "KNN identity              0.534112\n",
       "KNN identity PCA          0.997485\n",
       "precision                 0.467447\n",
       "recall                    0.613868\n",
       "density                   0.718467\n",
       "coverage                  0.936612\n",
       "precision_PCA             0.298459\n",
       "recall_PCA                0.014672\n",
       "density_PCA               0.031904\n",
       "coverage_PCA              0.018476\n",
       "KNN category              0.433424\n",
       "KNN category PCA          0.462517\n",
       "global_f1                 0.569406\n",
       "dtype: float64"
      ]
     },
     "execution_count": 5,
     "metadata": {},
     "output_type": "execute_result"
    }
   ],
   "source": [
    "results_scvi_pbmc3k.groupby(\"ct\").mean(0).mean(0)"
   ]
  },
  {
   "cell_type": "markdown",
   "id": "ef0ed73c-58de-4674-a924-dd118af153aa",
   "metadata": {},
   "source": [
    "## PBMC68K"
   ]
  },
  {
   "cell_type": "code",
   "execution_count": 6,
   "id": "c03522be-30dd-4cca-a263-f06515113882",
   "metadata": {},
   "outputs": [],
   "source": [
    "results_celldreamer_pbmc68k = pd.read_csv(\"/home/icb/alessandro.palma/environment/celldreamer/experiments/results_cell_type/pbmc68k/celldreamer_pbmc68k\")\n",
    "results_scDiff_pbmc68k = pd.read_csv(\"/home/icb/alessandro.palma/environment/celldreamer/experiments/results_cell_type/pbmc68k/scdiff_pbmc68k\")\n",
    "results_scvi_pbmc68k = pd.read_csv(\"/home/icb/alessandro.palma/environment/celldreamer/experiments/results_cell_type/pbmc68k/scvi_pbmc68k\")"
   ]
  },
  {
   "cell_type": "code",
   "execution_count": 7,
   "id": "f0513cfc-af12-478f-a7aa-9a79f713900c",
   "metadata": {},
   "outputs": [
    {
     "data": {
      "text/plain": [
       "Unnamed: 0              13.000000\n",
       "1-Wasserstein_PCA       10.866892\n",
       "2-Wasserstein_PCA       10.954879\n",
       "Linear_MMD_PCA         104.925854\n",
       "Poly_MMD_PCA         11288.944734\n",
       "KNN identity             0.584389\n",
       "KNN identity PCA         0.994051\n",
       "precision                0.605742\n",
       "recall                   0.386294\n",
       "density                  1.528960\n",
       "coverage                 0.998372\n",
       "precision_PCA            0.099891\n",
       "recall_PCA               0.125106\n",
       "density_PCA              0.028323\n",
       "coverage_PCA             0.066918\n",
       "KNN category             0.036116\n",
       "KNN category PCA         0.041856\n",
       "global_f1                0.181790\n",
       "dtype: float64"
      ]
     },
     "execution_count": 7,
     "metadata": {},
     "output_type": "execute_result"
    }
   ],
   "source": [
    "results_celldreamer_pbmc68k.groupby(\"ct\").mean(0).mean(0)"
   ]
  },
  {
   "cell_type": "code",
   "execution_count": 8,
   "id": "ef9364b2-800b-41c7-a113-cf12a1bf5016",
   "metadata": {},
   "outputs": [
    {
     "data": {
      "text/plain": [
       "Unnamed: 0              13.000000\n",
       "1-Wasserstein_PCA       11.333264\n",
       "2-Wasserstein_PCA       11.440775\n",
       "Linear_MMD_PCA         114.245439\n",
       "Poly_MMD_PCA         13945.753400\n",
       "KNN identity             0.358744\n",
       "KNN identity PCA         0.990671\n",
       "precision                0.861131\n",
       "recall                   0.100939\n",
       "density                  3.744794\n",
       "coverage                 0.995253\n",
       "precision_PCA            0.115121\n",
       "recall_PCA               0.103048\n",
       "density_PCA              0.044123\n",
       "coverage_PCA             0.082194\n",
       "KNN category             0.040983\n",
       "KNN category PCA         0.048898\n",
       "global_f1                0.171715\n",
       "dtype: float64"
      ]
     },
     "execution_count": 8,
     "metadata": {},
     "output_type": "execute_result"
    }
   ],
   "source": [
    "results_scDiff_pbmc68k.groupby(\"ct\").mean(0).mean(0)"
   ]
  },
  {
   "cell_type": "code",
   "execution_count": 9,
   "id": "223dfd4c-701e-48d0-b845-1e9d48cc2cf0",
   "metadata": {},
   "outputs": [
    {
     "data": {
      "text/plain": [
       "Unnamed: 0              13.000000\n",
       "1-Wasserstein_PCA       11.266849\n",
       "2-Wasserstein_PCA       11.355505\n",
       "Linear_MMD_PCA         116.049902\n",
       "Poly_MMD_PCA         14518.493435\n",
       "KNN identity             0.640510\n",
       "KNN identity PCA         0.990665\n",
       "precision                0.529436\n",
       "recall                   0.538984\n",
       "density                  0.986975\n",
       "coverage                 0.998300\n",
       "precision_PCA            0.099659\n",
       "recall_PCA               0.183536\n",
       "density_PCA              0.036279\n",
       "coverage_PCA             0.080567\n",
       "KNN category             0.046666\n",
       "KNN category PCA         0.053542\n",
       "global_f1                0.247091\n",
       "dtype: float64"
      ]
     },
     "execution_count": 9,
     "metadata": {},
     "output_type": "execute_result"
    }
   ],
   "source": [
    "results_scvi_pbmc68k.groupby(\"ct\").mean(0).mean(0)"
   ]
  },
  {
   "cell_type": "markdown",
   "id": "2c85f50c-6a98-4fcd-818c-e9e132162836",
   "metadata": {},
   "source": [
    "## Neurips"
   ]
  },
  {
   "cell_type": "code",
   "execution_count": 47,
   "id": "4ae0550a-cdcc-4a04-9e1a-ad05ed8d198d",
   "metadata": {},
   "outputs": [],
   "source": [
    "# results_celldreamer_neurips = pd.read_csv(\"/home/icb/alessandro.palma/environment/celldreamer/experiments/results_cell_type/neurips/celldreamer_neurips\")\n",
    "# results_scDiff_neurips = pd.read_csv(\"/home/icb/alessandro.palma/environment/celldreamer/experiments/results_cell_type/neurips/scdiff_neurips\")\n",
    "# results_scvi_neurips = pd.read_csv(\"/home/icb/alessandro.palma/environment/celldreamer/experiments/results_cell_type/neurips/scvi_neurips\")"
   ]
  },
  {
   "cell_type": "code",
   "execution_count": 48,
   "id": "ee1e2fb6-203e-4f6c-820c-2c11db463f5b",
   "metadata": {},
   "outputs": [],
   "source": [
    "# results_celldreamer_neurips.groupby(\"ct\").mean(0).mean(0)"
   ]
  },
  {
   "cell_type": "code",
   "execution_count": 49,
   "id": "1a31e785-55fe-4656-93a1-4f13382a6340",
   "metadata": {},
   "outputs": [],
   "source": [
    "# results_scDiff_neurips.groupby(\"ct\").mean(0).mean(0)"
   ]
  },
  {
   "cell_type": "code",
   "execution_count": 50,
   "id": "07f5940e-1c1e-42ae-af39-ee0af30c9c73",
   "metadata": {},
   "outputs": [],
   "source": [
    "# results_scvi_neurips.groupby(\"ct\").mean(0).mean(0)"
   ]
  },
  {
   "cell_type": "markdown",
   "id": "39a9a3ef-60ba-4ba3-a2ed-0f22a8c319cd",
   "metadata": {},
   "source": [
    "## HLCA"
   ]
  },
  {
   "cell_type": "code",
   "execution_count": 14,
   "id": "23ad4efb-6e87-4830-87f0-3167efc85fe2",
   "metadata": {},
   "outputs": [],
   "source": [
    "results_celldreamer_hlca = pd.read_csv(\"/home/icb/alessandro.palma/environment/celldreamer/experiments/results_cell_type/hlca_core/celldreamer_hlca_core\")\n",
    "results_scDiff_hlca = pd.read_csv(\"/home/icb/alessandro.palma/environment/celldreamer/experiments/results_cell_type/hlca_core/scdiff_hlca_core\")\n",
    "results_scvi_hlca = pd.read_csv(\"/home/icb/alessandro.palma/environment/celldreamer/experiments/results_cell_type/hlca_core/scvi_hlca_core\")"
   ]
  },
  {
   "cell_type": "code",
   "execution_count": 15,
   "id": "a7488a38-bc42-471c-94c2-32054ccfa830",
   "metadata": {},
   "outputs": [
    {
     "data": {
      "text/plain": [
       "Unnamed: 0              68.159420\n",
       "1-Wasserstein_PCA        8.934355\n",
       "2-Wasserstein_PCA        9.004859\n",
       "Linear_MMD_PCA          75.675481\n",
       "Poly_MMD_PCA         21488.341418\n",
       "KNN identity             0.799119\n",
       "KNN identity PCA         0.997990\n",
       "precision                0.312188\n",
       "recall                   0.714049\n",
       "density                  0.277074\n",
       "coverage                 0.562643\n",
       "precision_PCA            0.247983\n",
       "recall_PCA               0.049825\n",
       "density_PCA              0.040411\n",
       "coverage_PCA             0.020011\n",
       "KNN category             0.175858\n",
       "KNN category PCA         0.070032\n",
       "global_f1                0.729281\n",
       "dtype: float64"
      ]
     },
     "execution_count": 15,
     "metadata": {},
     "output_type": "execute_result"
    }
   ],
   "source": [
    "results_celldreamer_hlca.groupby(\"ct\").mean(0).mean(0)"
   ]
  },
  {
   "cell_type": "code",
   "execution_count": 16,
   "id": "64e0e47c-f612-44c1-a08d-c67e305ddd05",
   "metadata": {},
   "outputs": [
    {
     "data": {
      "text/plain": [
       "Unnamed: 0              68.159420\n",
       "1-Wasserstein_PCA       12.415400\n",
       "2-Wasserstein_PCA       12.563746\n",
       "Linear_MMD_PCA         153.265746\n",
       "Poly_MMD_PCA         36092.431258\n",
       "KNN identity             0.675179\n",
       "KNN identity PCA         0.999406\n",
       "precision                0.838976\n",
       "recall                   0.019630\n",
       "density                  2.896572\n",
       "coverage                 0.722110\n",
       "precision_PCA            0.081854\n",
       "recall_PCA               0.040732\n",
       "density_PCA              0.011583\n",
       "coverage_PCA             0.006338\n",
       "KNN category             0.077639\n",
       "KNN category PCA         0.017750\n",
       "global_f1                0.529007\n",
       "dtype: float64"
      ]
     },
     "execution_count": 16,
     "metadata": {},
     "output_type": "execute_result"
    }
   ],
   "source": [
    "results_scDiff_hlca.groupby(\"ct\").mean(0).mean(0)"
   ]
  },
  {
   "cell_type": "code",
   "execution_count": 17,
   "id": "eb783930-2f16-4196-aee4-db72715ccc42",
   "metadata": {},
   "outputs": [
    {
     "data": {
      "text/plain": [
       "Unnamed: 0              68.159420\n",
       "1-Wasserstein_PCA        9.715635\n",
       "2-Wasserstein_PCA        9.863900\n",
       "Linear_MMD_PCA          89.961478\n",
       "Poly_MMD_PCA         20045.147813\n",
       "KNN identity             0.836272\n",
       "KNN identity PCA         0.998003\n",
       "precision                0.293756\n",
       "recall                   0.692874\n",
       "density                  0.287013\n",
       "coverage                 0.501307\n",
       "precision_PCA            0.251153\n",
       "recall_PCA               0.031976\n",
       "density_PCA              0.037243\n",
       "coverage_PCA             0.016125\n",
       "KNN category             0.086380\n",
       "KNN category PCA         0.033722\n",
       "global_f1                0.566466\n",
       "dtype: float64"
      ]
     },
     "execution_count": 17,
     "metadata": {},
     "output_type": "execute_result"
    }
   ],
   "source": [
    "results_scvi_hlca.groupby(\"ct\").mean(0).mean(0)"
   ]
  },
  {
   "cell_type": "markdown",
   "id": "b8356533-33a5-4ee3-886b-36ab8529174d",
   "metadata": {},
   "source": [
    "## Tabula Muris"
   ]
  },
  {
   "cell_type": "code",
   "execution_count": 18,
   "id": "416e7fcf-ce41-451e-ab72-b036a737bde7",
   "metadata": {},
   "outputs": [],
   "source": [
    "results_celldreamer_tabula = pd.read_csv(\"/home/icb/alessandro.palma/environment/celldreamer/experiments/results_cell_type/tabula_muris/celldreamer_tabula_muris\")\n",
    "results_scDiff_tabula = pd.read_csv(\"/home/icb/alessandro.palma/environment/celldreamer/experiments/results_cell_type/tabula_muris/scdiff_tabula_muris\")\n",
    "results_scvi_tabula = pd.read_csv(\"/home/icb/alessandro.palma/environment/celldreamer/experiments/results_cell_type/tabula_muris/scvi_tabula_muris\")"
   ]
  },
  {
   "cell_type": "code",
   "execution_count": 19,
   "id": "1824c01d-b8ea-43db-afbe-e488df809f31",
   "metadata": {},
   "outputs": [
    {
     "data": {
      "text/plain": [
       "Unnamed: 0              19.000000\n",
       "1-Wasserstein_PCA        5.497185\n",
       "2-Wasserstein_PCA        5.654067\n",
       "Linear_MMD_PCA          48.982557\n",
       "Poly_MMD_PCA         29400.772749\n",
       "KNN identity             0.786290\n",
       "KNN identity PCA         0.997071\n",
       "precision                0.228479\n",
       "recall                   0.766821\n",
       "density                  0.144179\n",
       "coverage                 0.408669\n",
       "precision_PCA            0.320494\n",
       "recall_PCA               0.038283\n",
       "density_PCA              0.078457\n",
       "coverage_PCA             0.023515\n",
       "KNN category             0.152590\n",
       "KNN category PCA         0.100402\n",
       "global_f1                0.822986\n",
       "dtype: float64"
      ]
     },
     "execution_count": 19,
     "metadata": {},
     "output_type": "execute_result"
    }
   ],
   "source": [
    "results_celldreamer_tabula.groupby(\"ct\").mean(0).mean(0)"
   ]
  },
  {
   "cell_type": "code",
   "execution_count": 20,
   "id": "12da7416-9c17-4bb4-a598-dab90beced80",
   "metadata": {},
   "outputs": [
    {
     "data": {
      "text/plain": [
       "Unnamed: 0              19.000000\n",
       "1-Wasserstein_PCA        5.672982\n",
       "2-Wasserstein_PCA        5.971829\n",
       "Linear_MMD_PCA          47.145136\n",
       "Poly_MMD_PCA         29875.455579\n",
       "KNN identity             0.724058\n",
       "KNN identity PCA         0.997935\n",
       "precision                0.864466\n",
       "recall                   0.018444\n",
       "density                  3.872415\n",
       "coverage                 0.732823\n",
       "precision_PCA            0.368661\n",
       "recall_PCA               0.023250\n",
       "density_PCA              0.096775\n",
       "coverage_PCA             0.018492\n",
       "KNN category             0.115198\n",
       "KNN category PCA         0.074284\n",
       "global_f1                0.720903\n",
       "dtype: float64"
      ]
     },
     "execution_count": 20,
     "metadata": {},
     "output_type": "execute_result"
    }
   ],
   "source": [
    "results_scDiff_tabula.groupby(\"ct\").mean(0).mean(0)"
   ]
  },
  {
   "cell_type": "code",
   "execution_count": 21,
   "id": "53c628f7-cb7a-48a7-a859-768c7c69235b",
   "metadata": {},
   "outputs": [
    {
     "data": {
      "text/plain": [
       "Unnamed: 0              19.000000\n",
       "1-Wasserstein_PCA        7.053684\n",
       "2-Wasserstein_PCA        7.491583\n",
       "Linear_MMD_PCA          58.284025\n",
       "Poly_MMD_PCA         33107.867704\n",
       "KNN identity             0.837327\n",
       "KNN identity PCA         0.996392\n",
       "precision                0.221756\n",
       "recall                   0.834922\n",
       "density                  0.166329\n",
       "coverage                 0.308248\n",
       "precision_PCA            0.411885\n",
       "recall_PCA               0.011911\n",
       "density_PCA              0.105155\n",
       "coverage_PCA             0.024234\n",
       "KNN category             0.103828\n",
       "KNN category PCA         0.081443\n",
       "global_f1                0.661092\n",
       "dtype: float64"
      ]
     },
     "execution_count": 21,
     "metadata": {},
     "output_type": "execute_result"
    }
   ],
   "source": [
    "results_scvi_tabula.groupby(\"ct\").mean(0).mean(0)"
   ]
  },
  {
   "cell_type": "markdown",
   "id": "24b0c664-79d5-491a-a201-4b0deb06196f",
   "metadata": {},
   "source": [
    "## Dentategyrus"
   ]
  },
  {
   "cell_type": "code",
   "execution_count": 22,
   "id": "70f27c52-2f26-4f11-84a3-f0eace9079c8",
   "metadata": {},
   "outputs": [],
   "source": [
    "results_celldreamer_dentategyrus = pd.read_csv(\"/home/icb/alessandro.palma/environment/celldreamer/experiments/results_cell_type/dentategyrus/celldreamer_dentategyrus\")\n",
    "results_scDiff_dentategyrus = pd.read_csv(\"/home/icb/alessandro.palma/environment/celldreamer/experiments/results_cell_type/dentategyrus/scdiff_dentategyrus\")\n",
    "results_scvi_dentategyrus = pd.read_csv(\"/home/icb/alessandro.palma/environment/celldreamer/experiments/results_cell_type/dentategyrus/scvi_dentategyrus\")"
   ]
  },
  {
   "cell_type": "code",
   "execution_count": 23,
   "id": "79f85ff1-016b-4806-a795-0bb69c55c315",
   "metadata": {},
   "outputs": [
    {
     "data": {
      "text/plain": [
       "Unnamed: 0               20.500000\n",
       "1-Wasserstein_PCA        18.662224\n",
       "2-Wasserstein_PCA        18.739739\n",
       "Linear_MMD_PCA          342.775038\n",
       "Poly_MMD_PCA         190140.036737\n",
       "KNN identity              0.628234\n",
       "KNN identity PCA          0.999245\n",
       "precision                 0.467127\n",
       "recall                    0.715846\n",
       "density                   0.570774\n",
       "coverage                  0.875912\n",
       "precision_PCA             0.017435\n",
       "recall_PCA                0.149869\n",
       "density_PCA               0.001943\n",
       "coverage_PCA              0.003429\n",
       "KNN category              0.212285\n",
       "KNN category PCA          0.121902\n",
       "global_f1                 0.734901\n",
       "dtype: float64"
      ]
     },
     "execution_count": 23,
     "metadata": {},
     "output_type": "execute_result"
    }
   ],
   "source": [
    "results_celldreamer_dentategyrus.groupby(\"ct\").mean(0).mean(0)"
   ]
  },
  {
   "cell_type": "code",
   "execution_count": 24,
   "id": "fb294632-ea20-449c-b73b-334a099767f1",
   "metadata": {},
   "outputs": [
    {
     "data": {
      "text/plain": [
       "Unnamed: 0               20.500000\n",
       "1-Wasserstein_PCA        19.650490\n",
       "2-Wasserstein_PCA        19.702225\n",
       "Linear_MMD_PCA          381.834917\n",
       "Poly_MMD_PCA         236798.933873\n",
       "KNN identity              0.371846\n",
       "KNN identity PCA          0.999869\n",
       "precision                 0.992310\n",
       "recall                    0.003341\n",
       "density                   8.157343\n",
       "coverage                  0.999191\n",
       "precision_PCA             0.012856\n",
       "recall_PCA                0.000241\n",
       "density_PCA               0.001299\n",
       "coverage_PCA              0.000328\n",
       "KNN category              0.217608\n",
       "KNN category PCA          0.109804\n",
       "global_f1                 0.772298\n",
       "dtype: float64"
      ]
     },
     "execution_count": 24,
     "metadata": {},
     "output_type": "execute_result"
    }
   ],
   "source": [
    "results_scDiff_dentategyrus.groupby(\"ct\").mean(0).mean(0)"
   ]
  },
  {
   "cell_type": "code",
   "execution_count": 25,
   "id": "6cf9bee8-04d1-4900-be99-ce8374a68d0a",
   "metadata": {},
   "outputs": [
    {
     "data": {
      "text/plain": [
       "Unnamed: 0               20.500000\n",
       "1-Wasserstein_PCA        19.777951\n",
       "2-Wasserstein_PCA        19.854181\n",
       "Linear_MMD_PCA          385.150649\n",
       "Poly_MMD_PCA         207594.029111\n",
       "KNN identity              0.634152\n",
       "KNN identity PCA          0.999539\n",
       "precision                 0.571208\n",
       "recall                    0.747270\n",
       "density                   0.758405\n",
       "coverage                  0.975166\n",
       "precision_PCA             0.032212\n",
       "recall_PCA                0.000307\n",
       "density_PCA               0.003352\n",
       "coverage_PCA              0.000827\n",
       "KNN category              0.186090\n",
       "KNN category PCA          0.104092\n",
       "global_f1                 0.711261\n",
       "dtype: float64"
      ]
     },
     "execution_count": 25,
     "metadata": {},
     "output_type": "execute_result"
    }
   ],
   "source": [
    "results_scvi_dentategyrus.groupby(\"ct\").mean(0).mean(0)"
   ]
  },
  {
   "cell_type": "markdown",
   "id": "6561728b-aa3a-4431-a2bb-234447751ff3",
   "metadata": {},
   "source": [
    "## C. Elegans"
   ]
  },
  {
   "cell_type": "code",
   "execution_count": 43,
   "id": "6b475fba-f914-496d-899e-10f1259d322e",
   "metadata": {},
   "outputs": [],
   "source": [
    "# results_celldreamer_c_elegans = pd.read_csv(\"/home/icb/alessandro.palma/environment/celldreamer/experiments/results_cell_type/c_elegans/celldreamer_c_elegans\")\n",
    "# results_scDiff_c_elegans = pd.read_csv(\"/home/icb/alessandro.palma/environment/celldreamer/experiments/results_cell_type/c_elegans/scdiff_c_elegans\")\n",
    "# results_scvi_c_elegans = pd.read_csv(\"/home/icb/alessandro.palma/environment/celldreamer/experiments/results_cell_type/c_elegans/scvi_c_elegans\")"
   ]
  },
  {
   "cell_type": "code",
   "execution_count": 44,
   "id": "58ff6b15-49b1-4044-ac65-542b237225c3",
   "metadata": {},
   "outputs": [],
   "source": [
    "# results_celldreamer_c_elegans.groupby(\"ct\").mean(0).mean(0)"
   ]
  },
  {
   "cell_type": "code",
   "execution_count": 45,
   "id": "79e12a4d-2372-4daa-87ed-cd944cf93d23",
   "metadata": {},
   "outputs": [],
   "source": [
    "# results_scDiff_c_elegans.groupby(\"ct\").mean(0).mean(0)"
   ]
  },
  {
   "cell_type": "code",
   "execution_count": 46,
   "id": "dc79d105-4f88-428d-828b-8d3609598c0f",
   "metadata": {},
   "outputs": [],
   "source": [
    "# results_scvi_c_elegans.groupby(\"ct\").mean(0).mean(0)"
   ]
  },
  {
   "cell_type": "code",
   "execution_count": null,
   "id": "72602ef0-79a8-4525-bb72-1a71cea4eb3b",
   "metadata": {},
   "outputs": [],
   "source": []
  }
 ],
 "metadata": {
  "kernelspec": {
   "display_name": "Python 3 (ipykernel)",
   "language": "python",
   "name": "python3"
  },
  "language_info": {
   "codemirror_mode": {
    "name": "ipython",
    "version": 3
   },
   "file_extension": ".py",
   "mimetype": "text/x-python",
   "name": "python",
   "nbconvert_exporter": "python",
   "pygments_lexer": "ipython3",
   "version": "3.10.13"
  }
 },
 "nbformat": 4,
 "nbformat_minor": 5
}
