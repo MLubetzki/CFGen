{
 "cells": [
  {
   "cell_type": "markdown",
   "id": "10dd506e-7645-4210-887f-cee3d39b85be",
   "metadata": {},
   "source": [
    "# Read real and generated datasets "
   ]
  },
  {
   "cell_type": "code",
   "execution_count": 200,
   "id": "86c3c0cf-a378-4d79-9b7d-fe39f776c31b",
   "metadata": {},
   "outputs": [],
   "source": [
    "import scanpy as sc\n",
    "from celldreamer.eval.compute_evaluation_metrics import process_labels, compute_evaluation_metrics\n",
    "from scipy import sparse\n",
    "import pandas as pd\n",
    "import numpy as np"
   ]
  },
  {
   "cell_type": "code",
   "execution_count": 201,
   "id": "3c392f4d-1cc3-4d2e-a205-88e8cad6cc43",
   "metadata": {},
   "outputs": [],
   "source": [
    "def compute_mean_std(results):\n",
    "    means = results.groupby(\"ct\").mean(0).mean(0)\n",
    "    stds = results.groupby(\"ct\").mean(0).std(0) / np.sqrt(len(np.unique(results[\"ct\"])))\n",
    "    for (name, mean, std) in zip(list(means.index), list(means), list(stds)):\n",
    "        print(f\"{name} {np.round(mean, 2)} ± {np.round(std,2)}\")"
   ]
  },
  {
   "cell_type": "markdown",
   "id": "01361fdf-1b25-4aed-8d4d-967840bc20dd",
   "metadata": {},
   "source": [
    "## PBMC3K"
   ]
  },
  {
   "cell_type": "code",
   "execution_count": 202,
   "id": "9dc8d26e-5380-4b78-87eb-abe5f226f40c",
   "metadata": {},
   "outputs": [],
   "source": [
    "results_celldreamer_pbmc3k = pd.read_csv(\"/home/icb/alessandro.palma/environment/celldreamer/experiments/results_cell_type/pbmc3k/celldreamer_pbmc3k\")\n",
    "results_scDiff_pbmc3k = pd.read_csv(\"/home/icb/alessandro.palma/environment/celldreamer/experiments/results_cell_type/pbmc3k/scdiff_pbmc3k\")\n",
    "results_scvi_pbmc3k = pd.read_csv(\"/home/icb/alessandro.palma/environment/celldreamer/experiments/results_cell_type/pbmc3k/scvi_pbmc3k\")"
   ]
  },
  {
   "cell_type": "code",
   "execution_count": 203,
   "id": "9783261c-a22f-4cad-a93a-0bf3e6014cc4",
   "metadata": {},
   "outputs": [
    {
     "name": "stdout",
     "output_type": "stream",
     "text": [
      "Unnamed: 0 8.5 ± 0.76\n",
      "1-Wasserstein_PCA 16.8 ± 0.45\n",
      "2-Wasserstein_PCA 16.94 ± 0.44\n",
      "Linear_MMD_PCA 203.58 ± 7.62\n",
      "Poly_MMD_PCA 100691.4 ± 32618.27\n",
      "KNN identity 0.67 ± 0.06\n",
      "KNN identity PCA 0.99 ± 0.01\n",
      "precision 0.53 ± 0.08\n",
      "recall 0.42 ± 0.12\n",
      "density 1.03 ± 0.23\n",
      "coverage 0.97 ± 0.02\n",
      "precision_PCA 0.6 ± 0.16\n",
      "recall_PCA 0.0 ± 0.0\n",
      "density_PCA 0.13 ± 0.05\n",
      "coverage_PCA 0.19 ± 0.08\n",
      "KNN category 0.36 ± 0.15\n",
      "KNN category PCA 0.33 ± 0.11\n",
      "global_f1 0.48 ± 0.0\n"
     ]
    }
   ],
   "source": [
    "compute_mean_std(results_celldreamer_pbmc3k)"
   ]
  },
  {
   "cell_type": "code",
   "execution_count": 204,
   "id": "6b9889be-9ba5-4fd1-be4b-d5f0ec7f9c13",
   "metadata": {},
   "outputs": [
    {
     "name": "stdout",
     "output_type": "stream",
     "text": [
      "Unnamed: 0 8.5 ± 0.76\n",
      "1-Wasserstein_PCA 22.18 ± 1.2\n",
      "2-Wasserstein_PCA 22.41 ± 1.21\n",
      "Linear_MMD_PCA 403.09 ± 57.49\n",
      "Poly_MMD_PCA 492896.86 ± 276909.09\n",
      "KNN identity 0.38 ± 0.04\n",
      "KNN identity PCA 1.0 ± 0.0\n",
      "precision 0.75 ± 0.13\n",
      "recall 0.42 ± 0.11\n",
      "density 1.94 ± 0.6\n",
      "coverage 0.92 ± 0.06\n",
      "precision_PCA 0.26 ± 0.15\n",
      "recall_PCA 0.09 ± 0.09\n",
      "density_PCA 0.03 ± 0.02\n",
      "coverage_PCA 0.06 ± 0.03\n",
      "KNN category 0.22 ± 0.06\n",
      "KNN category PCA 0.22 ± 0.05\n",
      "global_f1 0.55 ± 0.0\n"
     ]
    }
   ],
   "source": [
    "compute_mean_std(results_scDiff_pbmc3k)"
   ]
  },
  {
   "cell_type": "code",
   "execution_count": 205,
   "id": "41c54a9b-d2d0-441f-bf15-e37eb1407fb4",
   "metadata": {
    "scrolled": true
   },
   "outputs": [
    {
     "name": "stdout",
     "output_type": "stream",
     "text": [
      "Unnamed: 0 8.5 ± 0.76\n",
      "1-Wasserstein_PCA 17.52 ± 0.29\n",
      "2-Wasserstein_PCA 17.66 ± 0.29\n",
      "Linear_MMD_PCA 232.05 ± 7.53\n",
      "Poly_MMD_PCA 133023.27 ± 43396.21\n",
      "KNN identity 0.53 ± 0.04\n",
      "KNN identity PCA 1.0 ± 0.0\n",
      "precision 0.47 ± 0.12\n",
      "recall 0.61 ± 0.09\n",
      "density 0.72 ± 0.25\n",
      "coverage 0.94 ± 0.03\n",
      "precision_PCA 0.55 ± 0.17\n",
      "recall_PCA 0.0 ± 0.0\n",
      "density_PCA 0.1 ± 0.04\n",
      "coverage_PCA 0.14 ± 0.08\n",
      "KNN category 0.43 ± 0.15\n",
      "KNN category PCA 0.4 ± 0.1\n",
      "global_f1 0.57 ± 0.0\n"
     ]
    }
   ],
   "source": [
    "compute_mean_std(results_scvi_pbmc3k)"
   ]
  },
  {
   "cell_type": "markdown",
   "id": "39a9a3ef-60ba-4ba3-a2ed-0f22a8c319cd",
   "metadata": {},
   "source": [
    "## HLCA"
   ]
  },
  {
   "cell_type": "code",
   "execution_count": 206,
   "id": "23ad4efb-6e87-4830-87f0-3167efc85fe2",
   "metadata": {},
   "outputs": [],
   "source": [
    "results_celldreamer_hlca = pd.read_csv(\"/home/icb/alessandro.palma/environment/celldreamer/experiments/results_cell_type/hlca_core/celldreamer_hlca_core\")\n",
    "results_scDiff_hlca = pd.read_csv(\"/home/icb/alessandro.palma/environment/celldreamer/experiments/results_cell_type/hlca_core/scdiff_hlca_core\")\n",
    "results_scvi_hlca = pd.read_csv(\"/home/icb/alessandro.palma/environment/celldreamer/experiments/results_cell_type/hlca_core/scvi_hlca_core\")"
   ]
  },
  {
   "cell_type": "code",
   "execution_count": 207,
   "id": "a7488a38-bc42-471c-94c2-32054ccfa830",
   "metadata": {},
   "outputs": [
    {
     "name": "stdout",
     "output_type": "stream",
     "text": [
      "Unnamed: 0 68.16 ± 2.02\n",
      "1-Wasserstein_PCA 8.93 ± 0.08\n",
      "2-Wasserstein_PCA 9.0 ± 0.08\n",
      "Linear_MMD_PCA 75.68 ± 1.45\n",
      "Poly_MMD_PCA 21488.34 ± 2271.07\n",
      "KNN identity 0.8 ± 0.01\n",
      "KNN identity PCA 1.0 ± 0.0\n",
      "precision 0.31 ± 0.02\n",
      "recall 0.71 ± 0.01\n",
      "density 0.28 ± 0.03\n",
      "coverage 0.56 ± 0.03\n",
      "precision_PCA 0.25 ± 0.04\n",
      "recall_PCA 0.05 ± 0.01\n",
      "density_PCA 0.04 ± 0.01\n",
      "coverage_PCA 0.02 ± 0.0\n",
      "KNN category 0.18 ± 0.02\n",
      "KNN category PCA 0.07 ± 0.02\n",
      "global_f1 0.73 ± 0.0\n"
     ]
    }
   ],
   "source": [
    "compute_mean_std(results_celldreamer_hlca)"
   ]
  },
  {
   "cell_type": "code",
   "execution_count": 208,
   "id": "64e0e47c-f612-44c1-a08d-c67e305ddd05",
   "metadata": {},
   "outputs": [
    {
     "name": "stdout",
     "output_type": "stream",
     "text": [
      "Unnamed: 0 68.16 ± 2.02\n",
      "1-Wasserstein_PCA 12.42 ± 0.5\n",
      "2-Wasserstein_PCA 12.56 ± 0.5\n",
      "Linear_MMD_PCA 153.27 ± 13.33\n",
      "Poly_MMD_PCA 36092.43 ± 4864.77\n",
      "KNN identity 0.68 ± 0.03\n",
      "KNN identity PCA 1.0 ± 0.0\n",
      "precision 0.84 ± 0.03\n",
      "recall 0.02 ± 0.01\n",
      "density 2.9 ± 0.45\n",
      "coverage 0.72 ± 0.04\n",
      "precision_PCA 0.08 ± 0.03\n",
      "recall_PCA 0.04 ± 0.02\n",
      "density_PCA 0.01 ± 0.0\n",
      "coverage_PCA 0.01 ± 0.0\n",
      "KNN category 0.08 ± 0.01\n",
      "KNN category PCA 0.02 ± 0.0\n",
      "global_f1 0.53 ± 0.0\n"
     ]
    }
   ],
   "source": [
    "compute_mean_std(results_scDiff_hlca)"
   ]
  },
  {
   "cell_type": "code",
   "execution_count": 209,
   "id": "eb783930-2f16-4196-aee4-db72715ccc42",
   "metadata": {},
   "outputs": [
    {
     "name": "stdout",
     "output_type": "stream",
     "text": [
      "Unnamed: 0 68.16 ± 2.02\n",
      "1-Wasserstein_PCA 9.72 ± 0.18\n",
      "2-Wasserstein_PCA 9.86 ± 0.18\n",
      "Linear_MMD_PCA 89.96 ± 3.83\n",
      "Poly_MMD_PCA 20045.15 ± 2228.46\n",
      "KNN identity 0.84 ± 0.01\n",
      "KNN identity PCA 1.0 ± 0.0\n",
      "precision 0.29 ± 0.02\n",
      "recall 0.69 ± 0.03\n",
      "density 0.29 ± 0.04\n",
      "coverage 0.5 ± 0.04\n",
      "precision_PCA 0.25 ± 0.04\n",
      "recall_PCA 0.03 ± 0.01\n",
      "density_PCA 0.04 ± 0.01\n",
      "coverage_PCA 0.02 ± 0.0\n",
      "KNN category 0.09 ± 0.01\n",
      "KNN category PCA 0.03 ± 0.01\n",
      "global_f1 0.57 ± 0.0\n"
     ]
    }
   ],
   "source": [
    "compute_mean_std(results_scvi_hlca)"
   ]
  },
  {
   "cell_type": "markdown",
   "id": "b8356533-33a5-4ee3-886b-36ab8529174d",
   "metadata": {},
   "source": [
    "## Tabula Muris"
   ]
  },
  {
   "cell_type": "code",
   "execution_count": 210,
   "id": "416e7fcf-ce41-451e-ab72-b036a737bde7",
   "metadata": {},
   "outputs": [],
   "source": [
    "results_celldreamer_tabula = pd.read_csv(\"/home/icb/alessandro.palma/environment/celldreamer/experiments/results_cell_type/tabula_muris/celldreamer_tabula_muris\")\n",
    "results_scDiff_tabula = pd.read_csv(\"/home/icb/alessandro.palma/environment/celldreamer/experiments/results_cell_type/tabula_muris/scdiff_tabula_muris\")\n",
    "results_scvi_tabula = pd.read_csv(\"/home/icb/alessandro.palma/environment/celldreamer/experiments/results_cell_type/tabula_muris/scvi_tabula_muris\")"
   ]
  },
  {
   "cell_type": "code",
   "execution_count": 211,
   "id": "1824c01d-b8ea-43db-afbe-e488df809f31",
   "metadata": {},
   "outputs": [
    {
     "name": "stdout",
     "output_type": "stream",
     "text": [
      "Unnamed: 0 19.0 ± 1.08\n",
      "1-Wasserstein_PCA 7.2 ± 0.17\n",
      "2-Wasserstein_PCA 7.39 ± 0.2\n",
      "Linear_MMD_PCA 72.97 ± 21.49\n",
      "Poly_MMD_PCA 42904.95 ± 21331.06\n",
      "KNN identity 0.79 ± 0.02\n",
      "KNN identity PCA 1.0 ± 0.0\n",
      "precision 0.23 ± 0.02\n",
      "recall 0.77 ± 0.02\n",
      "density 0.14 ± 0.02\n",
      "coverage 0.41 ± 0.06\n",
      "precision_PCA 0.23 ± 0.06\n",
      "recall_PCA 0.02 ± 0.0\n",
      "density_PCA 0.04 ± 0.01\n",
      "coverage_PCA 0.02 ± 0.0\n",
      "KNN category 0.15 ± 0.03\n",
      "KNN category PCA 0.17 ± 0.05\n",
      "global_f1 0.82 ± 0.0\n"
     ]
    }
   ],
   "source": [
    "compute_mean_std(results_celldreamer_tabula)"
   ]
  },
  {
   "cell_type": "code",
   "execution_count": 212,
   "id": "12da7416-9c17-4bb4-a598-dab90beced80",
   "metadata": {},
   "outputs": [
    {
     "name": "stdout",
     "output_type": "stream",
     "text": [
      "Unnamed: 0 19.0 ± 1.08\n",
      "1-Wasserstein_PCA 7.55 ± 0.4\n",
      "2-Wasserstein_PCA 7.89 ± 0.45\n",
      "Linear_MMD_PCA 74.1 ± 22.93\n",
      "Poly_MMD_PCA 47194.74 ± 22894.47\n",
      "KNN identity 0.72 ± 0.06\n",
      "KNN identity PCA 1.0 ± 0.0\n",
      "precision 0.86 ± 0.05\n",
      "recall 0.02 ± 0.01\n",
      "density 3.87 ± 0.72\n",
      "coverage 0.73 ± 0.08\n",
      "precision_PCA 0.33 ± 0.08\n",
      "recall_PCA 0.02 ± 0.01\n",
      "density_PCA 0.09 ± 0.05\n",
      "coverage_PCA 0.03 ± 0.0\n",
      "KNN category 0.12 ± 0.01\n",
      "KNN category PCA 0.09 ± 0.01\n",
      "global_f1 0.72 ± 0.0\n"
     ]
    }
   ],
   "source": [
    "compute_mean_std(results_scDiff_tabula)"
   ]
  },
  {
   "cell_type": "code",
   "execution_count": 213,
   "id": "53c628f7-cb7a-48a7-a859-768c7c69235b",
   "metadata": {},
   "outputs": [
    {
     "name": "stdout",
     "output_type": "stream",
     "text": [
      "Unnamed: 0 19.0 ± 1.08\n",
      "1-Wasserstein_PCA 9.32 ± 0.47\n",
      "2-Wasserstein_PCA 9.76 ± 0.53\n",
      "Linear_MMD_PCA 86.03 ± 23.17\n",
      "Poly_MMD_PCA 48905.92 ± 24907.48\n",
      "KNN identity 0.84 ± 0.02\n",
      "KNN identity PCA 1.0 ± 0.0\n",
      "precision 0.22 ± 0.02\n",
      "recall 0.83 ± 0.02\n",
      "density 0.17 ± 0.02\n",
      "coverage 0.31 ± 0.03\n",
      "precision_PCA 0.32 ± 0.06\n",
      "recall_PCA 0.01 ± 0.0\n",
      "density_PCA 0.07 ± 0.02\n",
      "coverage_PCA 0.03 ± 0.0\n",
      "KNN category 0.1 ± 0.02\n",
      "KNN category PCA 0.09 ± 0.02\n",
      "global_f1 0.66 ± 0.0\n"
     ]
    }
   ],
   "source": [
    "compute_mean_std(results_scvi_tabula)"
   ]
  },
  {
   "cell_type": "markdown",
   "id": "24b0c664-79d5-491a-a201-4b0deb06196f",
   "metadata": {},
   "source": [
    "## Dentategyrus"
   ]
  },
  {
   "cell_type": "code",
   "execution_count": 214,
   "id": "70f27c52-2f26-4f11-84a3-f0eace9079c8",
   "metadata": {},
   "outputs": [],
   "source": [
    "results_celldreamer_dentategyrus = pd.read_csv(\"/home/icb/alessandro.palma/environment/celldreamer/experiments/results_cell_type/dentategyrus/celldreamer_dentategyrus\")\n",
    "results_scDiff_dentategyrus = pd.read_csv(\"/home/icb/alessandro.palma/environment/celldreamer/experiments/results_cell_type/dentategyrus/scdiff_dentategyrus\")\n",
    "results_scvi_dentategyrus = pd.read_csv(\"/home/icb/alessandro.palma/environment/celldreamer/experiments/results_cell_type/dentategyrus/scvi_dentategyrus\")"
   ]
  },
  {
   "cell_type": "code",
   "execution_count": 215,
   "id": "79f85ff1-016b-4806-a795-0bb69c55c315",
   "metadata": {},
   "outputs": [
    {
     "name": "stdout",
     "output_type": "stream",
     "text": [
      "Unnamed: 0 20.5 ± 1.12\n",
      "1-Wasserstein_PCA 21.46 ± 0.17\n",
      "2-Wasserstein_PCA 21.55 ± 0.17\n",
      "Linear_MMD_PCA 427.22 ± 5.22\n",
      "Poly_MMD_PCA 273032.17 ± 52045.18\n",
      "KNN identity 0.63 ± 0.02\n",
      "KNN identity PCA 1.0 ± 0.0\n",
      "precision 0.47 ± 0.03\n",
      "recall 0.72 ± 0.03\n",
      "density 0.57 ± 0.08\n",
      "coverage 0.88 ± 0.05\n",
      "precision_PCA 0.0 ± 0.0\n",
      "recall_PCA 0.15 ± 0.07\n",
      "density_PCA 0.0 ± 0.0\n",
      "coverage_PCA 0.0 ± 0.0\n",
      "KNN category 0.21 ± 0.03\n",
      "KNN category PCA 0.14 ± 0.07\n",
      "global_f1 0.73 ± 0.0\n"
     ]
    }
   ],
   "source": [
    "compute_mean_std(results_celldreamer_dentategyrus)"
   ]
  },
  {
   "cell_type": "code",
   "execution_count": 216,
   "id": "fb294632-ea20-449c-b73b-334a099767f1",
   "metadata": {},
   "outputs": [
    {
     "name": "stdout",
     "output_type": "stream",
     "text": [
      "Unnamed: 0 20.5 ± 1.12\n",
      "1-Wasserstein_PCA 22.5 ± 0.1\n",
      "2-Wasserstein_PCA 22.56 ± 0.1\n",
      "Linear_MMD_PCA 479.89 ± 4.16\n",
      "Poly_MMD_PCA 340201.6 ± 71783.3\n",
      "KNN identity 0.37 ± 0.03\n",
      "KNN identity PCA 1.0 ± 0.0\n",
      "precision 0.99 ± 0.0\n",
      "recall 0.0 ± 0.0\n",
      "density 8.16 ± 1.24\n",
      "coverage 1.0 ± 0.0\n",
      "precision_PCA 0.0 ± 0.0\n",
      "recall_PCA 0.0 ± 0.0\n",
      "density_PCA 0.0 ± 0.0\n",
      "coverage_PCA 0.0 ± 0.0\n",
      "KNN category 0.22 ± 0.03\n",
      "KNN category PCA 0.13 ± 0.07\n",
      "global_f1 0.77 ± 0.0\n"
     ]
    }
   ],
   "source": [
    "compute_mean_std(results_scDiff_dentategyrus)"
   ]
  },
  {
   "cell_type": "code",
   "execution_count": 217,
   "id": "6cf9bee8-04d1-4900-be99-ce8374a68d0a",
   "metadata": {},
   "outputs": [
    {
     "name": "stdout",
     "output_type": "stream",
     "text": [
      "Unnamed: 0 20.5 ± 1.12\n",
      "1-Wasserstein_PCA 22.53 ± 0.23\n",
      "2-Wasserstein_PCA 22.61 ± 0.23\n",
      "Linear_MMD_PCA 476.91 ± 8.35\n",
      "Poly_MMD_PCA 301168.5 ± 52324.59\n",
      "KNN identity 0.63 ± 0.03\n",
      "KNN identity PCA 1.0 ± 0.0\n",
      "precision 0.57 ± 0.04\n",
      "recall 0.75 ± 0.02\n",
      "density 0.76 ± 0.07\n",
      "coverage 0.98 ± 0.01\n",
      "precision_PCA 0.01 ± 0.01\n",
      "recall_PCA 0.0 ± 0.0\n",
      "density_PCA 0.0 ± 0.0\n",
      "coverage_PCA 0.0 ± 0.0\n",
      "KNN category 0.19 ± 0.03\n",
      "KNN category PCA 0.12 ± 0.07\n",
      "global_f1 0.71 ± 0.0\n"
     ]
    }
   ],
   "source": [
    "compute_mean_std(results_scvi_dentategyrus)"
   ]
  },
  {
   "cell_type": "code",
   "execution_count": null,
   "id": "72602ef0-79a8-4525-bb72-1a71cea4eb3b",
   "metadata": {},
   "outputs": [],
   "source": []
  },
  {
   "cell_type": "code",
   "execution_count": null,
   "id": "cc33dca6-0f33-423b-9660-7ff88c2553f5",
   "metadata": {},
   "outputs": [],
   "source": []
  },
  {
   "cell_type": "code",
   "execution_count": null,
   "id": "0b59d25e-d24b-4129-beb5-30b73bf9e5c1",
   "metadata": {},
   "outputs": [],
   "source": []
  },
  {
   "cell_type": "code",
   "execution_count": null,
   "id": "72548f95-4485-4cc9-96d2-f32884fb0ae2",
   "metadata": {},
   "outputs": [],
   "source": []
  }
 ],
 "metadata": {
  "kernelspec": {
   "display_name": "Python 3 (ipykernel)",
   "language": "python",
   "name": "python3"
  },
  "language_info": {
   "codemirror_mode": {
    "name": "ipython",
    "version": 3
   },
   "file_extension": ".py",
   "mimetype": "text/x-python",
   "name": "python",
   "nbconvert_exporter": "python",
   "pygments_lexer": "ipython3",
   "version": "3.10.13"
  }
 },
 "nbformat": 4,
 "nbformat_minor": 5
}
