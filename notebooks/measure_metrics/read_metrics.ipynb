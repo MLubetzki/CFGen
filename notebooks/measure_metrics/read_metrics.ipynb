{
 "cells": [
  {
   "cell_type": "markdown",
   "id": "10dd506e-7645-4210-887f-cee3d39b85be",
   "metadata": {},
   "source": [
    "# Read real and generated datasets "
   ]
  },
  {
   "cell_type": "code",
   "execution_count": 30,
   "id": "86c3c0cf-a378-4d79-9b7d-fe39f776c31b",
   "metadata": {},
   "outputs": [],
   "source": [
    "import scanpy as sc\n",
    "from celldreamer.eval.compute_evaluation_metrics import process_labels, compute_evaluation_metrics\n",
    "from scipy import sparse\n",
    "import pandas as pd\n",
    "import numpy as np"
   ]
  },
  {
   "cell_type": "markdown",
   "id": "01361fdf-1b25-4aed-8d4d-967840bc20dd",
   "metadata": {},
   "source": [
    "## PBMC3K"
   ]
  },
  {
   "cell_type": "code",
   "execution_count": 31,
   "id": "9dc8d26e-5380-4b78-87eb-abe5f226f40c",
   "metadata": {},
   "outputs": [],
   "source": [
    "results_celldreamer_pbmc3k = pd.read_csv(\"/home/icb/alessandro.palma/environment/celldreamer/experiments/results_cell_type/pbmc3k/celldreamer_pbmc3k\")\n",
    "results_scDiff_pbmc3k = pd.read_csv(\"/home/icb/alessandro.palma/environment/celldreamer/experiments/results_cell_type/pbmc3k/scdiff_pbmc3k\")\n",
    "results_scvi_pbmc3k = pd.read_csv(\"/home/icb/alessandro.palma/environment/celldreamer/experiments/results_cell_type/pbmc3k/scvi_pbmc3k\")"
   ]
  },
  {
   "cell_type": "code",
   "execution_count": 32,
   "id": "6b9889be-9ba5-4fd1-be4b-d5f0ec7f9c13",
   "metadata": {},
   "outputs": [
    {
     "data": {
      "text/plain": [
       "Unnamed: 0                8.500000\n",
       "1-Wasserstein_PCA        18.507745\n",
       "2-Wasserstein_PCA        18.645718\n",
       "Linear_MMD_PCA          206.440316\n",
       "Poly_MMD_PCA         103262.722222\n",
       "KNN identity              0.668656\n",
       "KNN identity PCA          0.978350\n",
       "precision                 0.528524\n",
       "recall                    0.419747\n",
       "density                   1.026494\n",
       "coverage                  0.969991\n",
       "precision_PCA             0.756991\n",
       "recall_PCA                0.001852\n",
       "density_PCA               0.459032\n",
       "coverage_PCA              0.454184\n",
       "KNN category              0.362435\n",
       "KNN category PCA          0.360141\n",
       "global_f1                 0.482471\n",
       "dtype: float64"
      ]
     },
     "execution_count": 32,
     "metadata": {},
     "output_type": "execute_result"
    }
   ],
   "source": [
    "results_celldreamer_pbmc3k.groupby(\"ct\").mean(0).mean(0)"
   ]
  },
  {
   "cell_type": "code",
   "execution_count": 33,
   "id": "41c54a9b-d2d0-441f-bf15-e37eb1407fb4",
   "metadata": {
    "scrolled": true
   },
   "outputs": [
    {
     "data": {
      "text/plain": [
       "Unnamed: 0                8.500000\n",
       "1-Wasserstein_PCA        23.546097\n",
       "2-Wasserstein_PCA        23.753073\n",
       "Linear_MMD_PCA          411.148521\n",
       "Poly_MMD_PCA         504912.364149\n",
       "KNN identity              0.375386\n",
       "KNN identity PCA          0.994276\n",
       "precision                 0.754376\n",
       "recall                    0.416368\n",
       "density                   1.942962\n",
       "coverage                  0.920271\n",
       "precision_PCA             0.462234\n",
       "recall_PCA                0.036325\n",
       "density_PCA               0.157505\n",
       "coverage_PCA              0.205276\n",
       "KNN category              0.217319\n",
       "KNN category PCA          0.227511\n",
       "global_f1                 0.547374\n",
       "dtype: float64"
      ]
     },
     "execution_count": 33,
     "metadata": {},
     "output_type": "execute_result"
    }
   ],
   "source": [
    "results_scDiff_pbmc3k.groupby(\"ct\").mean(0).mean(0)"
   ]
  },
  {
   "cell_type": "code",
   "execution_count": 34,
   "id": "64ad0c1e-dea3-47bb-8905-766fec6f7866",
   "metadata": {},
   "outputs": [
    {
     "data": {
      "text/plain": [
       "Unnamed: 0                8.500000\n",
       "1-Wasserstein_PCA        19.164504\n",
       "2-Wasserstein_PCA        19.296253\n",
       "Linear_MMD_PCA          235.495183\n",
       "Poly_MMD_PCA         136190.481771\n",
       "KNN identity              0.534112\n",
       "KNN identity PCA          0.986657\n",
       "precision                 0.467447\n",
       "recall                    0.613868\n",
       "density                   0.718467\n",
       "coverage                  0.936612\n",
       "precision_PCA             0.703626\n",
       "recall_PCA                0.000000\n",
       "density_PCA               0.402758\n",
       "coverage_PCA              0.354359\n",
       "KNN category              0.433424\n",
       "KNN category PCA          0.367215\n",
       "global_f1                 0.569406\n",
       "dtype: float64"
      ]
     },
     "execution_count": 34,
     "metadata": {},
     "output_type": "execute_result"
    }
   ],
   "source": [
    "results_scvi_pbmc3k.groupby(\"ct\").mean(0).mean(0)"
   ]
  },
  {
   "cell_type": "markdown",
   "id": "ef0ed73c-58de-4674-a924-dd118af153aa",
   "metadata": {},
   "source": [
    "## PBMC68K"
   ]
  },
  {
   "cell_type": "code",
   "execution_count": 35,
   "id": "c03522be-30dd-4cca-a263-f06515113882",
   "metadata": {},
   "outputs": [],
   "source": [
    "results_celldreamer_pbmc68k = pd.read_csv(\"/home/icb/alessandro.palma/environment/celldreamer/experiments/results_cell_type/pbmc68k/celldreamer_pbmc68k\")\n",
    "results_scDiff_pbmc68k = pd.read_csv(\"/home/icb/alessandro.palma/environment/celldreamer/experiments/results_cell_type/pbmc68k/scdiff_pbmc68k\")\n",
    "results_scvi_pbmc68k = pd.read_csv(\"/home/icb/alessandro.palma/environment/celldreamer/experiments/results_cell_type/pbmc68k/scvi_pbmc68k\")"
   ]
  },
  {
   "cell_type": "code",
   "execution_count": 36,
   "id": "f0513cfc-af12-478f-a7aa-9a79f713900c",
   "metadata": {},
   "outputs": [
    {
     "data": {
      "text/plain": [
       "Unnamed: 0              13.000000\n",
       "1-Wasserstein_PCA       16.738084\n",
       "2-Wasserstein_PCA       16.843674\n",
       "Linear_MMD_PCA         169.941071\n",
       "Poly_MMD_PCA         28956.810836\n",
       "KNN identity             0.584389\n",
       "KNN identity PCA         0.996573\n",
       "precision                0.605742\n",
       "recall                   0.386294\n",
       "density                  1.528960\n",
       "coverage                 0.998372\n",
       "precision_PCA            0.048303\n",
       "recall_PCA               0.184313\n",
       "density_PCA              0.020210\n",
       "coverage_PCA             0.075751\n",
       "KNN category             0.036116\n",
       "KNN category PCA         0.046735\n",
       "global_f1                0.181790\n",
       "dtype: float64"
      ]
     },
     "execution_count": 36,
     "metadata": {},
     "output_type": "execute_result"
    }
   ],
   "source": [
    "results_celldreamer_pbmc68k.groupby(\"ct\").mean(0).mean(0)"
   ]
  },
  {
   "cell_type": "code",
   "execution_count": 37,
   "id": "ef9364b2-800b-41c7-a113-cf12a1bf5016",
   "metadata": {},
   "outputs": [
    {
     "data": {
      "text/plain": [
       "Unnamed: 0              13.000000\n",
       "1-Wasserstein_PCA       16.896318\n",
       "2-Wasserstein_PCA       17.035389\n",
       "Linear_MMD_PCA         180.022656\n",
       "Poly_MMD_PCA         33879.334418\n",
       "KNN identity             0.358744\n",
       "KNN identity PCA         0.989600\n",
       "precision                0.861131\n",
       "recall                   0.100939\n",
       "density                  3.744794\n",
       "coverage                 0.995253\n",
       "precision_PCA            0.077783\n",
       "recall_PCA               0.080499\n",
       "density_PCA              0.057410\n",
       "coverage_PCA             0.113228\n",
       "KNN category             0.040983\n",
       "KNN category PCA         0.047737\n",
       "global_f1                0.171715\n",
       "dtype: float64"
      ]
     },
     "execution_count": 37,
     "metadata": {},
     "output_type": "execute_result"
    }
   ],
   "source": [
    "results_scDiff_pbmc68k.groupby(\"ct\").mean(0).mean(0)"
   ]
  },
  {
   "cell_type": "code",
   "execution_count": 38,
   "id": "223dfd4c-701e-48d0-b845-1e9d48cc2cf0",
   "metadata": {},
   "outputs": [
    {
     "data": {
      "text/plain": [
       "Unnamed: 0              13.000000\n",
       "1-Wasserstein_PCA       17.048357\n",
       "2-Wasserstein_PCA       17.167889\n",
       "Linear_MMD_PCA         186.764956\n",
       "Poly_MMD_PCA         36055.135344\n",
       "KNN identity             0.640510\n",
       "KNN identity PCA         0.992825\n",
       "precision                0.529436\n",
       "recall                   0.538984\n",
       "density                  0.986975\n",
       "coverage                 0.998300\n",
       "precision_PCA            0.049443\n",
       "recall_PCA               0.305103\n",
       "density_PCA              0.036035\n",
       "coverage_PCA             0.138192\n",
       "KNN category             0.046666\n",
       "KNN category PCA         0.063987\n",
       "global_f1                0.247091\n",
       "dtype: float64"
      ]
     },
     "execution_count": 38,
     "metadata": {},
     "output_type": "execute_result"
    }
   ],
   "source": [
    "results_scvi_pbmc68k.groupby(\"ct\").mean(0).mean(0)"
   ]
  },
  {
   "cell_type": "markdown",
   "id": "2c85f50c-6a98-4fcd-818c-e9e132162836",
   "metadata": {},
   "source": [
    "## Neurips"
   ]
  },
  {
   "cell_type": "code",
   "execution_count": 39,
   "id": "4ae0550a-cdcc-4a04-9e1a-ad05ed8d198d",
   "metadata": {},
   "outputs": [],
   "source": [
    "results_celldreamer_neurips = pd.read_csv(\"/home/icb/alessandro.palma/environment/celldreamer/experiments/results_cell_type/neurips/celldreamer_neurips\")\n",
    "results_scDiff_neurips = pd.read_csv(\"/home/icb/alessandro.palma/environment/celldreamer/experiments/results_cell_type/neurips/scdiff_neurips\")\n",
    "results_scvi_neurips = pd.read_csv(\"/home/icb/alessandro.palma/environment/celldreamer/experiments/results_cell_type/neurips/scvi_neurips\")"
   ]
  },
  {
   "cell_type": "code",
   "execution_count": 40,
   "id": "ee1e2fb6-203e-4f6c-820c-2c11db463f5b",
   "metadata": {},
   "outputs": [
    {
     "data": {
      "text/plain": [
       "Unnamed: 0               54.561404\n",
       "1-Wasserstein_PCA        20.783177\n",
       "2-Wasserstein_PCA        20.871373\n",
       "Linear_MMD_PCA          412.835950\n",
       "Poly_MMD_PCA         264639.850466\n",
       "KNN identity              0.640987\n",
       "KNN identity PCA          0.999827\n",
       "precision                 0.461815\n",
       "recall                    0.749885\n",
       "density                   0.446031\n",
       "coverage                  0.791249\n",
       "precision_PCA             0.001805\n",
       "recall_PCA                0.035039\n",
       "density_PCA               0.000287\n",
       "coverage_PCA              0.002381\n",
       "KNN category              0.183638\n",
       "KNN category PCA          0.137738\n",
       "global_f1                 0.513352\n",
       "dtype: float64"
      ]
     },
     "execution_count": 40,
     "metadata": {},
     "output_type": "execute_result"
    }
   ],
   "source": [
    "results_celldreamer_neurips.groupby(\"ct\").mean(0).mean(0)"
   ]
  },
  {
   "cell_type": "code",
   "execution_count": 41,
   "id": "1a31e785-55fe-4656-93a1-4f13382a6340",
   "metadata": {},
   "outputs": [
    {
     "data": {
      "text/plain": [
       "Unnamed: 0               54.561404\n",
       "1-Wasserstein_PCA        19.471005\n",
       "2-Wasserstein_PCA        19.548508\n",
       "Linear_MMD_PCA          340.596710\n",
       "Poly_MMD_PCA         112432.314179\n",
       "KNN identity              0.899768\n",
       "KNN identity PCA          0.999435\n",
       "precision                 0.766492\n",
       "recall                    0.005035\n",
       "density                   1.902711\n",
       "coverage                  0.448581\n",
       "precision_PCA             0.036456\n",
       "recall_PCA                0.000175\n",
       "density_PCA               0.004872\n",
       "coverage_PCA              0.005010\n",
       "KNN category              0.107092\n",
       "KNN category PCA          0.017683\n",
       "global_f1                 0.360248\n",
       "dtype: float64"
      ]
     },
     "execution_count": 41,
     "metadata": {},
     "output_type": "execute_result"
    }
   ],
   "source": [
    "results_scDiff_neurips.groupby(\"ct\").mean(0).mean(0)"
   ]
  },
  {
   "cell_type": "code",
   "execution_count": 42,
   "id": "07f5940e-1c1e-42ae-af39-ee0af30c9c73",
   "metadata": {},
   "outputs": [
    {
     "data": {
      "text/plain": [
       "Unnamed: 0               54.561404\n",
       "1-Wasserstein_PCA        21.963241\n",
       "2-Wasserstein_PCA        22.081605\n",
       "Linear_MMD_PCA          459.160390\n",
       "Poly_MMD_PCA         281347.473136\n",
       "KNN identity              0.709490\n",
       "KNN identity PCA          0.999837\n",
       "precision                 0.427301\n",
       "recall                    0.771091\n",
       "density                   0.493752\n",
       "coverage                  0.751475\n",
       "precision_PCA             0.001077\n",
       "recall_PCA                0.048434\n",
       "density_PCA               0.000171\n",
       "coverage_PCA              0.001153\n",
       "KNN category              0.094968\n",
       "KNN category PCA          0.078116\n",
       "global_f1                 0.447228\n",
       "dtype: float64"
      ]
     },
     "execution_count": 42,
     "metadata": {},
     "output_type": "execute_result"
    }
   ],
   "source": [
    "results_scvi_neurips.groupby(\"ct\").mean(0).mean(0)"
   ]
  },
  {
   "cell_type": "markdown",
   "id": "39a9a3ef-60ba-4ba3-a2ed-0f22a8c319cd",
   "metadata": {},
   "source": [
    "## HLCA"
   ]
  },
  {
   "cell_type": "code",
   "execution_count": 43,
   "id": "23ad4efb-6e87-4830-87f0-3167efc85fe2",
   "metadata": {},
   "outputs": [],
   "source": [
    "results_celldreamer_hlca = pd.read_csv(\"/home/icb/alessandro.palma/environment/celldreamer/experiments/results_cell_type/hlca_core/celldreamer_hlca_core\")\n",
    "results_scDiff_hlca = pd.read_csv(\"/home/icb/alessandro.palma/environment/celldreamer/experiments/results_cell_type/hlca_core/scdiff_hlca_core\")\n",
    "results_scvi_hlca = pd.read_csv(\"/home/icb/alessandro.palma/environment/celldreamer/experiments/results_cell_type/hlca_core/scvi_hlca_core\")"
   ]
  },
  {
   "cell_type": "code",
   "execution_count": 44,
   "id": "a7488a38-bc42-471c-94c2-32054ccfa830",
   "metadata": {},
   "outputs": [
    {
     "data": {
      "text/plain": [
       "Unnamed: 0              68.159420\n",
       "1-Wasserstein_PCA       11.714789\n",
       "2-Wasserstein_PCA       11.800174\n",
       "Linear_MMD_PCA          99.324557\n",
       "Poly_MMD_PCA         37843.675969\n",
       "KNN identity             0.799119\n",
       "KNN identity PCA         0.998666\n",
       "precision                0.312188\n",
       "recall                   0.714049\n",
       "density                  0.277074\n",
       "coverage                 0.562643\n",
       "precision_PCA            0.086514\n",
       "recall_PCA               0.036534\n",
       "density_PCA              0.012755\n",
       "coverage_PCA             0.018259\n",
       "KNN category             0.175858\n",
       "KNN category PCA         0.140397\n",
       "global_f1                0.729281\n",
       "dtype: float64"
      ]
     },
     "execution_count": 44,
     "metadata": {},
     "output_type": "execute_result"
    }
   ],
   "source": [
    "results_celldreamer_hlca.groupby(\"ct\").mean(0).mean(0)"
   ]
  },
  {
   "cell_type": "code",
   "execution_count": 45,
   "id": "64e0e47c-f612-44c1-a08d-c67e305ddd05",
   "metadata": {},
   "outputs": [
    {
     "data": {
      "text/plain": [
       "Unnamed: 0              68.159420\n",
       "1-Wasserstein_PCA       16.891569\n",
       "2-Wasserstein_PCA       17.003974\n",
       "Linear_MMD_PCA         239.167356\n",
       "Poly_MMD_PCA         62378.449937\n",
       "KNN identity             0.675179\n",
       "KNN identity PCA         0.999844\n",
       "precision                0.838976\n",
       "recall                   0.019630\n",
       "density                  2.896572\n",
       "coverage                 0.722110\n",
       "precision_PCA            0.014361\n",
       "recall_PCA               0.000000\n",
       "density_PCA              0.001630\n",
       "coverage_PCA             0.001605\n",
       "KNN category             0.077639\n",
       "KNN category PCA         0.019938\n",
       "global_f1                0.529007\n",
       "dtype: float64"
      ]
     },
     "execution_count": 45,
     "metadata": {},
     "output_type": "execute_result"
    }
   ],
   "source": [
    "results_scDiff_hlca.groupby(\"ct\").mean(0).mean(0)"
   ]
  },
  {
   "cell_type": "code",
   "execution_count": 46,
   "id": "eb783930-2f16-4196-aee4-db72715ccc42",
   "metadata": {},
   "outputs": [
    {
     "data": {
      "text/plain": [
       "Unnamed: 0              68.159420\n",
       "1-Wasserstein_PCA       12.721914\n",
       "2-Wasserstein_PCA       12.882959\n",
       "Linear_MMD_PCA         121.367426\n",
       "Poly_MMD_PCA         37059.228194\n",
       "KNN identity             0.836272\n",
       "KNN identity PCA         0.998612\n",
       "precision                0.293756\n",
       "recall                   0.692874\n",
       "density                  0.287013\n",
       "coverage                 0.501307\n",
       "precision_PCA            0.093992\n",
       "recall_PCA               0.016694\n",
       "density_PCA              0.013422\n",
       "coverage_PCA             0.017302\n",
       "KNN category             0.086380\n",
       "KNN category PCA         0.058758\n",
       "global_f1                0.566466\n",
       "dtype: float64"
      ]
     },
     "execution_count": 46,
     "metadata": {},
     "output_type": "execute_result"
    }
   ],
   "source": [
    "results_scvi_hlca.groupby(\"ct\").mean(0).mean(0)"
   ]
  },
  {
   "cell_type": "markdown",
   "id": "b8356533-33a5-4ee3-886b-36ab8529174d",
   "metadata": {},
   "source": [
    "## Tabula Muris"
   ]
  },
  {
   "cell_type": "code",
   "execution_count": 47,
   "id": "416e7fcf-ce41-451e-ab72-b036a737bde7",
   "metadata": {},
   "outputs": [],
   "source": [
    "results_celldreamer_tabula = pd.read_csv(\"/home/icb/alessandro.palma/environment/celldreamer/experiments/results_cell_type/tabula_muris/celldreamer_tabula_muris\")\n",
    "results_scDiff_tabula = pd.read_csv(\"/home/icb/alessandro.palma/environment/celldreamer/experiments/results_cell_type/tabula_muris/scdiff_tabula_muris\")\n",
    "results_scvi_tabula = pd.read_csv(\"/home/icb/alessandro.palma/environment/celldreamer/experiments/results_cell_type/tabula_muris/scvi_tabula_muris\")"
   ]
  },
  {
   "cell_type": "code",
   "execution_count": 48,
   "id": "1824c01d-b8ea-43db-afbe-e488df809f31",
   "metadata": {},
   "outputs": [
    {
     "data": {
      "text/plain": [
       "Unnamed: 0              19.000000\n",
       "1-Wasserstein_PCA        8.601209\n",
       "2-Wasserstein_PCA        8.777106\n",
       "Linear_MMD_PCA          86.535499\n",
       "Poly_MMD_PCA         48384.760905\n",
       "KNN identity             0.786290\n",
       "KNN identity PCA         0.998199\n",
       "precision                0.228479\n",
       "recall                   0.766821\n",
       "density                  0.144179\n",
       "coverage                 0.408669\n",
       "precision_PCA            0.167651\n",
       "recall_PCA               0.017201\n",
       "density_PCA              0.032465\n",
       "coverage_PCA             0.019488\n",
       "KNN category             0.152590\n",
       "KNN category PCA         0.185623\n",
       "global_f1                0.822986\n",
       "dtype: float64"
      ]
     },
     "execution_count": 48,
     "metadata": {},
     "output_type": "execute_result"
    }
   ],
   "source": [
    "results_celldreamer_tabula.groupby(\"ct\").mean(0).mean(0)"
   ]
  },
  {
   "cell_type": "code",
   "execution_count": 49,
   "id": "12da7416-9c17-4bb4-a598-dab90beced80",
   "metadata": {},
   "outputs": [
    {
     "data": {
      "text/plain": [
       "Unnamed: 0              19.000000\n",
       "1-Wasserstein_PCA        8.710917\n",
       "2-Wasserstein_PCA        9.017732\n",
       "Linear_MMD_PCA          85.739965\n",
       "Poly_MMD_PCA         51165.477433\n",
       "KNN identity             0.724058\n",
       "KNN identity PCA         0.997720\n",
       "precision                0.864466\n",
       "recall                   0.018444\n",
       "density                  3.872415\n",
       "coverage                 0.732823\n",
       "precision_PCA            0.292569\n",
       "recall_PCA               0.018786\n",
       "density_PCA              0.090786\n",
       "coverage_PCA             0.029003\n",
       "KNN category             0.115198\n",
       "KNN category PCA         0.094224\n",
       "global_f1                0.720903\n",
       "dtype: float64"
      ]
     },
     "execution_count": 49,
     "metadata": {},
     "output_type": "execute_result"
    }
   ],
   "source": [
    "results_scDiff_tabula.groupby(\"ct\").mean(0).mean(0)"
   ]
  },
  {
   "cell_type": "code",
   "execution_count": 50,
   "id": "53c628f7-cb7a-48a7-a859-768c7c69235b",
   "metadata": {},
   "outputs": [
    {
     "data": {
      "text/plain": [
       "Unnamed: 0              19.000000\n",
       "1-Wasserstein_PCA       10.658042\n",
       "2-Wasserstein_PCA       11.049614\n",
       "Linear_MMD_PCA         100.283401\n",
       "Poly_MMD_PCA         53728.491474\n",
       "KNN identity             0.837327\n",
       "KNN identity PCA         0.996962\n",
       "precision                0.221756\n",
       "recall                   0.834922\n",
       "density                  0.166329\n",
       "coverage                 0.308248\n",
       "precision_PCA            0.234495\n",
       "recall_PCA               0.017089\n",
       "density_PCA              0.049139\n",
       "coverage_PCA             0.024186\n",
       "KNN category             0.103828\n",
       "KNN category PCA         0.096174\n",
       "global_f1                0.661092\n",
       "dtype: float64"
      ]
     },
     "execution_count": 50,
     "metadata": {},
     "output_type": "execute_result"
    }
   ],
   "source": [
    "results_scvi_tabula.groupby(\"ct\").mean(0).mean(0)"
   ]
  },
  {
   "cell_type": "markdown",
   "id": "24b0c664-79d5-491a-a201-4b0deb06196f",
   "metadata": {},
   "source": [
    "## Dentategyrus"
   ]
  },
  {
   "cell_type": "code",
   "execution_count": 51,
   "id": "70f27c52-2f26-4f11-84a3-f0eace9079c8",
   "metadata": {},
   "outputs": [],
   "source": [
    "results_celldreamer_dentategyrus = pd.read_csv(\"/home/icb/alessandro.palma/environment/celldreamer/experiments/results_cell_type/dentategyrus/celldreamer_dentategyrus\")\n",
    "results_scDiff_dentategyrus = pd.read_csv(\"/home/icb/alessandro.palma/environment/celldreamer/experiments/results_cell_type/dentategyrus/scdiff_dentategyrus\")\n",
    "results_scvi_dentategyrus = pd.read_csv(\"/home/icb/alessandro.palma/environment/celldreamer/experiments/results_cell_type/dentategyrus/scvi_dentategyrus\")"
   ]
  },
  {
   "cell_type": "code",
   "execution_count": 52,
   "id": "79f85ff1-016b-4806-a795-0bb69c55c315",
   "metadata": {},
   "outputs": [
    {
     "data": {
      "text/plain": [
       "Unnamed: 0               20.500000\n",
       "1-Wasserstein_PCA        22.521032\n",
       "2-Wasserstein_PCA        22.606862\n",
       "Linear_MMD_PCA          447.444454\n",
       "Poly_MMD_PCA         293682.330915\n",
       "KNN identity              0.628234\n",
       "KNN identity PCA          0.999439\n",
       "precision                 0.467127\n",
       "recall                    0.715846\n",
       "density                   0.570774\n",
       "coverage                  0.875912\n",
       "precision_PCA             0.001071\n",
       "recall_PCA                0.131068\n",
       "density_PCA               0.000107\n",
       "coverage_PCA              0.001005\n",
       "KNN category              0.212285\n",
       "KNN category PCA          0.141556\n",
       "global_f1                 0.734901\n",
       "dtype: float64"
      ]
     },
     "execution_count": 52,
     "metadata": {},
     "output_type": "execute_result"
    }
   ],
   "source": [
    "results_celldreamer_dentategyrus.groupby(\"ct\").mean(0).mean(0)"
   ]
  },
  {
   "cell_type": "code",
   "execution_count": 53,
   "id": "fb294632-ea20-449c-b73b-334a099767f1",
   "metadata": {},
   "outputs": [
    {
     "data": {
      "text/plain": [
       "Unnamed: 0               20.500000\n",
       "1-Wasserstein_PCA        23.465292\n",
       "2-Wasserstein_PCA        23.528260\n",
       "Linear_MMD_PCA          502.444743\n",
       "Poly_MMD_PCA         365375.890997\n",
       "KNN identity              0.371846\n",
       "KNN identity PCA          0.999902\n",
       "precision                 0.992310\n",
       "recall                    0.003341\n",
       "density                   8.157343\n",
       "coverage                  0.999191\n",
       "precision_PCA             0.000066\n",
       "recall_PCA                0.000000\n",
       "density_PCA               0.000007\n",
       "coverage_PCA              0.000066\n",
       "KNN category              0.217608\n",
       "KNN category PCA          0.124079\n",
       "global_f1                 0.772298\n",
       "dtype: float64"
      ]
     },
     "execution_count": 53,
     "metadata": {},
     "output_type": "execute_result"
    }
   ],
   "source": [
    "results_scDiff_dentategyrus.groupby(\"ct\").mean(0).mean(0)"
   ]
  },
  {
   "cell_type": "code",
   "execution_count": 54,
   "id": "6cf9bee8-04d1-4900-be99-ce8374a68d0a",
   "metadata": {},
   "outputs": [
    {
     "data": {
      "text/plain": [
       "Unnamed: 0               20.500000\n",
       "1-Wasserstein_PCA        23.528413\n",
       "2-Wasserstein_PCA        23.612565\n",
       "Linear_MMD_PCA          497.845132\n",
       "Poly_MMD_PCA         323506.075893\n",
       "KNN identity              0.634152\n",
       "KNN identity PCA          0.999902\n",
       "precision                 0.571208\n",
       "recall                    0.747270\n",
       "density                   0.758405\n",
       "coverage                  0.975166\n",
       "precision_PCA             0.002558\n",
       "recall_PCA                0.000000\n",
       "density_PCA               0.000256\n",
       "coverage_PCA              0.000262\n",
       "KNN category              0.186090\n",
       "KNN category PCA          0.111720\n",
       "global_f1                 0.711261\n",
       "dtype: float64"
      ]
     },
     "execution_count": 54,
     "metadata": {},
     "output_type": "execute_result"
    }
   ],
   "source": [
    "results_scvi_dentategyrus.groupby(\"ct\").mean(0).mean(0)"
   ]
  },
  {
   "cell_type": "markdown",
   "id": "6561728b-aa3a-4431-a2bb-234447751ff3",
   "metadata": {},
   "source": [
    "## C. Elegans"
   ]
  },
  {
   "cell_type": "code",
   "execution_count": 55,
   "id": "6b475fba-f914-496d-899e-10f1259d322e",
   "metadata": {},
   "outputs": [],
   "source": [
    "results_celldreamer_c_elegans = pd.read_csv(\"/home/icb/alessandro.palma/environment/celldreamer/experiments/results_cell_type/c_elegans/celldreamer_c_elegans\")\n",
    "results_scDiff_c_elegans = pd.read_csv(\"/home/icb/alessandro.palma/environment/celldreamer/experiments/results_cell_type/c_elegans/scdiff_c_elegans\")\n",
    "results_scvi_c_elegans = pd.read_csv(\"/home/icb/alessandro.palma/environment/celldreamer/experiments/results_cell_type/c_elegans/scvi_c_elegans\")"
   ]
  },
  {
   "cell_type": "code",
   "execution_count": 56,
   "id": "58ff6b15-49b1-4044-ac65-542b237225c3",
   "metadata": {},
   "outputs": [
    {
     "data": {
      "text/plain": [
       "Unnamed: 0              39.500000\n",
       "1-Wasserstein_PCA        9.879584\n",
       "2-Wasserstein_PCA       10.079601\n",
       "Linear_MMD_PCA          74.191497\n",
       "Poly_MMD_PCA         25013.776131\n",
       "KNN identity             0.814637\n",
       "KNN identity PCA         0.985401\n",
       "precision                0.341235\n",
       "recall                   0.532569\n",
       "density                  0.650531\n",
       "coverage                 0.831439\n",
       "precision_PCA            0.464563\n",
       "recall_PCA               0.183890\n",
       "density_PCA              0.141900\n",
       "coverage_PCA             0.293334\n",
       "KNN category             0.149434\n",
       "KNN category PCA         0.157362\n",
       "global_f1                0.359220\n",
       "dtype: float64"
      ]
     },
     "execution_count": 56,
     "metadata": {},
     "output_type": "execute_result"
    }
   ],
   "source": [
    "results_celldreamer_c_elegans.groupby(\"ct\").mean(0).mean(0)"
   ]
  },
  {
   "cell_type": "code",
   "execution_count": 57,
   "id": "79e12a4d-2372-4daa-87ed-cd944cf93d23",
   "metadata": {},
   "outputs": [
    {
     "data": {
      "text/plain": [
       "Unnamed: 0              39.500000\n",
       "1-Wasserstein_PCA        9.008274\n",
       "2-Wasserstein_PCA        9.211179\n",
       "Linear_MMD_PCA          64.325216\n",
       "Poly_MMD_PCA         23888.387431\n",
       "KNN identity             0.596029\n",
       "KNN identity PCA         0.969001\n",
       "precision                0.864948\n",
       "recall                   0.091663\n",
       "density                  2.792390\n",
       "coverage                 0.934051\n",
       "precision_PCA            0.684806\n",
       "recall_PCA               0.171592\n",
       "density_PCA              0.269599\n",
       "coverage_PCA             0.409460\n",
       "KNN category             0.122225\n",
       "KNN category PCA         0.108202\n",
       "global_f1                0.355773\n",
       "dtype: float64"
      ]
     },
     "execution_count": 57,
     "metadata": {},
     "output_type": "execute_result"
    }
   ],
   "source": [
    "results_scDiff_c_elegans.groupby(\"ct\").mean(0).mean(0)"
   ]
  },
  {
   "cell_type": "code",
   "execution_count": 58,
   "id": "dc79d105-4f88-428d-828b-8d3609598c0f",
   "metadata": {},
   "outputs": [
    {
     "data": {
      "text/plain": [
       "Unnamed: 0              39.500000\n",
       "1-Wasserstein_PCA       10.744459\n",
       "2-Wasserstein_PCA       11.023530\n",
       "Linear_MMD_PCA          83.992075\n",
       "Poly_MMD_PCA         25279.817668\n",
       "KNN identity             0.800537\n",
       "KNN identity PCA         0.981495\n",
       "precision                0.366265\n",
       "recall                   0.578514\n",
       "density                  0.618027\n",
       "coverage                 0.792747\n",
       "precision_PCA            0.481837\n",
       "recall_PCA               0.236960\n",
       "density_PCA              0.134474\n",
       "coverage_PCA             0.261887\n",
       "KNN category             0.133530\n",
       "KNN category PCA         0.126695\n",
       "global_f1                0.315274\n",
       "dtype: float64"
      ]
     },
     "execution_count": 58,
     "metadata": {},
     "output_type": "execute_result"
    }
   ],
   "source": [
    "results_scvi_c_elegans.groupby(\"ct\").mean(0).mean(0)"
   ]
  },
  {
   "cell_type": "code",
   "execution_count": null,
   "id": "72602ef0-79a8-4525-bb72-1a71cea4eb3b",
   "metadata": {},
   "outputs": [],
   "source": []
  },
  {
   "cell_type": "code",
   "execution_count": null,
   "id": "6f10e928-c511-4928-a042-26a1de1c184c",
   "metadata": {},
   "outputs": [],
   "source": []
  },
  {
   "cell_type": "code",
   "execution_count": null,
   "id": "8e1f8b2a-0470-4108-9651-642e1ca5eb27",
   "metadata": {},
   "outputs": [],
   "source": []
  },
  {
   "cell_type": "code",
   "execution_count": null,
   "id": "71c09328-723c-4123-a736-811ce62c6556",
   "metadata": {},
   "outputs": [],
   "source": []
  }
 ],
 "metadata": {
  "kernelspec": {
   "display_name": "Python 3 (ipykernel)",
   "language": "python",
   "name": "python3"
  },
  "language_info": {
   "codemirror_mode": {
    "name": "ipython",
    "version": 3
   },
   "file_extension": ".py",
   "mimetype": "text/x-python",
   "name": "python",
   "nbconvert_exporter": "python",
   "pygments_lexer": "ipython3",
   "version": "3.10.13"
  }
 },
 "nbformat": 4,
 "nbformat_minor": 5
}
