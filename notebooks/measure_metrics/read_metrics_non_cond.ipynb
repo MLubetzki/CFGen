{
 "cells": [
  {
   "cell_type": "markdown",
   "id": "10dd506e-7645-4210-887f-cee3d39b85be",
   "metadata": {},
   "source": [
    "# Read real and generated datasets "
   ]
  },
  {
   "cell_type": "code",
   "execution_count": 1,
   "id": "86c3c0cf-a378-4d79-9b7d-fe39f776c31b",
   "metadata": {},
   "outputs": [
    {
     "name": "stderr",
     "output_type": "stream",
     "text": [
      "An NVIDIA GPU may be present on this machine, but a CUDA-enabled jaxlib is not installed. Falling back to cpu.\n"
     ]
    }
   ],
   "source": [
    "import scanpy as sc\n",
    "from celldreamer.eval.compute_evaluation_metrics import process_labels, compute_evaluation_metrics\n",
    "from scipy import sparse\n",
    "import pandas as pd\n",
    "import numpy as np"
   ]
  },
  {
   "cell_type": "markdown",
   "id": "01361fdf-1b25-4aed-8d4d-967840bc20dd",
   "metadata": {},
   "source": [
    "## PBMC3K"
   ]
  },
  {
   "cell_type": "code",
   "execution_count": 2,
   "id": "9dc8d26e-5380-4b78-87eb-abe5f226f40c",
   "metadata": {},
   "outputs": [],
   "source": [
    "results_celldreamer_pbmc3k = pd.read_csv(\"/home/icb/alessandro.palma/environment/celldreamer/experiments/results/pbmc3k/celldreamer_pbmc3k\")\n",
    "results_activa_pbmc3k = pd.read_csv(\"/home/icb/alessandro.palma/environment/celldreamer/experiments/results/pbmc3k/activa_pbmc3k\")\n",
    "results_scgan_pbmc3k = pd.read_csv(\"/home/icb/alessandro.palma/environment/celldreamer/experiments/results/pbmc3k/scgan_pbmc3k\")"
   ]
  },
  {
   "cell_type": "code",
   "execution_count": 3,
   "id": "6b9889be-9ba5-4fd1-be4b-d5f0ec7f9c13",
   "metadata": {},
   "outputs": [
    {
     "data": {
      "text/plain": [
       "Unnamed: 0               1.000000\n",
       "1-Wasserstein_PCA       14.748470\n",
       "2-Wasserstein_PCA       14.874105\n",
       "Linear_MMD_PCA         198.081019\n",
       "Poly_MMD_PCA         36750.743490\n",
       "KNN identity             0.662755\n",
       "KNN identity PCA         0.995581\n",
       "precision                0.326389\n",
       "recall                   0.199495\n",
       "density                  1.390467\n",
       "coverage                 0.987374\n",
       "precision_PCA            0.356692\n",
       "recall_PCA               0.021465\n",
       "density_PCA              0.047790\n",
       "coverage_PCA             0.030934\n",
       "dtype: float64"
      ]
     },
     "execution_count": 3,
     "metadata": {},
     "output_type": "execute_result"
    }
   ],
   "source": [
    "results_celldreamer_pbmc3k.mean(0)"
   ]
  },
  {
   "cell_type": "code",
   "execution_count": 4,
   "id": "41c54a9b-d2d0-441f-bf15-e37eb1407fb4",
   "metadata": {
    "scrolled": true
   },
   "outputs": [
    {
     "data": {
      "text/plain": [
       "Unnamed: 0               1.000000\n",
       "1-Wasserstein_PCA       17.137276\n",
       "2-Wasserstein_PCA       17.335111\n",
       "Linear_MMD_PCA         261.319010\n",
       "Poly_MMD_PCA         72226.486979\n",
       "KNN identity             0.333333\n",
       "KNN identity PCA         0.992740\n",
       "precision                0.785354\n",
       "recall                   0.034722\n",
       "density                  0.690278\n",
       "coverage                 0.481692\n",
       "precision_PCA            0.274621\n",
       "recall_PCA               0.039141\n",
       "density_PCA              0.052715\n",
       "coverage_PCA             0.049242\n",
       "dtype: float64"
      ]
     },
     "execution_count": 4,
     "metadata": {},
     "output_type": "execute_result"
    }
   ],
   "source": [
    "results_activa_pbmc3k.mean(0)"
   ]
  },
  {
   "cell_type": "code",
   "execution_count": 5,
   "id": "64ad0c1e-dea3-47bb-8905-766fec6f7866",
   "metadata": {},
   "outputs": [
    {
     "data": {
      "text/plain": [
       "Unnamed: 0               1.000000\n",
       "1-Wasserstein_PCA       13.163637\n",
       "2-Wasserstein_PCA       13.407672\n",
       "Linear_MMD_PCA         232.047379\n",
       "Poly_MMD_PCA         72089.080729\n",
       "KNN identity             0.579738\n",
       "KNN identity PCA         0.996209\n",
       "precision                0.797596\n",
       "recall                   0.010101\n",
       "density                  5.676344\n",
       "coverage                 1.000000\n",
       "precision_PCA            0.473118\n",
       "recall_PCA               0.022727\n",
       "density_PCA              0.077736\n",
       "coverage_PCA             0.042929\n",
       "dtype: float64"
      ]
     },
     "execution_count": 5,
     "metadata": {},
     "output_type": "execute_result"
    }
   ],
   "source": [
    "results_scgan_pbmc3k.mean(0)"
   ]
  },
  {
   "cell_type": "markdown",
   "id": "ef0ed73c-58de-4674-a924-dd118af153aa",
   "metadata": {},
   "source": [
    "## PBMC68K"
   ]
  },
  {
   "cell_type": "code",
   "execution_count": 6,
   "id": "c03522be-30dd-4cca-a263-f06515113882",
   "metadata": {},
   "outputs": [],
   "source": [
    "results_celldreamer_pbmc68k = pd.read_csv(\"/home/icb/alessandro.palma/environment/celldreamer/experiments/results/pbmc68k/celldreamer_pbmc68k\")\n",
    "results_activa_pbmc68k = pd.read_csv(\"/home/icb/alessandro.palma/environment/celldreamer/experiments/results/pbmc68k/activa_pbmc68k\")\n",
    "results_scgan_pbmc68k = pd.read_csv(\"/home/icb/alessandro.palma/environment/celldreamer/experiments/results/pbmc68k/scgan_pbmc68k\")"
   ]
  },
  {
   "cell_type": "code",
   "execution_count": 7,
   "id": "f0513cfc-af12-478f-a7aa-9a79f713900c",
   "metadata": {},
   "outputs": [
    {
     "data": {
      "text/plain": [
       "Unnamed: 0             14.500000\n",
       "1-Wasserstein_PCA      10.454443\n",
       "2-Wasserstein_PCA      10.534332\n",
       "Linear_MMD_PCA         96.156549\n",
       "Poly_MMD_PCA         9743.726921\n",
       "KNN identity            0.577851\n",
       "KNN identity PCA        0.996200\n",
       "precision               0.545817\n",
       "recall                  0.386750\n",
       "density                 1.466432\n",
       "coverage                0.999317\n",
       "precision_PCA           0.049283\n",
       "recall_PCA              0.165933\n",
       "density_PCA             0.012003\n",
       "coverage_PCA            0.050850\n",
       "dtype: float64"
      ]
     },
     "execution_count": 7,
     "metadata": {},
     "output_type": "execute_result"
    }
   ],
   "source": [
    "results_celldreamer_pbmc68k.mean(0)"
   ]
  },
  {
   "cell_type": "code",
   "execution_count": 8,
   "id": "ef9364b2-800b-41c7-a113-cf12a1bf5016",
   "metadata": {},
   "outputs": [
    {
     "data": {
      "text/plain": [
       "Unnamed: 0              14.500000\n",
       "1-Wasserstein_PCA       12.209896\n",
       "2-Wasserstein_PCA       12.344435\n",
       "Linear_MMD_PCA         117.769667\n",
       "Poly_MMD_PCA         13442.500065\n",
       "KNN identity             0.333455\n",
       "KNN identity PCA         0.997942\n",
       "precision                0.557383\n",
       "recall                   0.011733\n",
       "density                  0.479852\n",
       "coverage                 0.297417\n",
       "precision_PCA            0.066950\n",
       "recall_PCA               0.069683\n",
       "density_PCA              0.014008\n",
       "coverage_PCA             0.016900\n",
       "dtype: float64"
      ]
     },
     "execution_count": 8,
     "metadata": {},
     "output_type": "execute_result"
    }
   ],
   "source": [
    "results_activa_pbmc68k.mean(0)"
   ]
  },
  {
   "cell_type": "code",
   "execution_count": 9,
   "id": "223dfd4c-701e-48d0-b845-1e9d48cc2cf0",
   "metadata": {},
   "outputs": [
    {
     "data": {
      "text/plain": [
       "Unnamed: 0              14.500000\n",
       "1-Wasserstein_PCA       11.971053\n",
       "2-Wasserstein_PCA       12.087646\n",
       "Linear_MMD_PCA         130.373524\n",
       "Poly_MMD_PCA         17608.311523\n",
       "KNN identity             0.661478\n",
       "KNN identity PCA         0.997008\n",
       "precision                0.146900\n",
       "recall                   0.673667\n",
       "density                  0.172378\n",
       "coverage                 0.752833\n",
       "precision_PCA            0.022683\n",
       "recall_PCA               0.180333\n",
       "density_PCA              0.005317\n",
       "coverage_PCA             0.027133\n",
       "dtype: float64"
      ]
     },
     "execution_count": 9,
     "metadata": {},
     "output_type": "execute_result"
    }
   ],
   "source": [
    "results_scgan_pbmc68k.mean(0)"
   ]
  },
  {
   "cell_type": "markdown",
   "id": "2c85f50c-6a98-4fcd-818c-e9e132162836",
   "metadata": {},
   "source": [
    "## Neurips"
   ]
  },
  {
   "cell_type": "code",
   "execution_count": 34,
   "id": "4ae0550a-cdcc-4a04-9e1a-ad05ed8d198d",
   "metadata": {},
   "outputs": [],
   "source": [
    "# results_celldreamer_neurips = pd.read_csv(\"/home/icb/alessandro.palma/environment/celldreamer/experiments/results/neurips/celldreamer_neurips\")\n",
    "# results_activa_neurips = pd.read_csv(\"/home/icb/alessandro.palma/environment/celldreamer/experiments/results/neurips/activa_neurips\")\n",
    "# results_scgan_neurips = pd.read_csv(\"/home/icb/alessandro.palma/environment/celldreamer/experiments/results/neurips/scgan_neurips\")"
   ]
  },
  {
   "cell_type": "code",
   "execution_count": 35,
   "id": "ee1e2fb6-203e-4f6c-820c-2c11db463f5b",
   "metadata": {},
   "outputs": [],
   "source": [
    "# results_celldreamer_neurips.mean(0)"
   ]
  },
  {
   "cell_type": "code",
   "execution_count": 36,
   "id": "1a31e785-55fe-4656-93a1-4f13382a6340",
   "metadata": {},
   "outputs": [],
   "source": [
    "# results_activa_neurips.mean(0)"
   ]
  },
  {
   "cell_type": "code",
   "execution_count": 37,
   "id": "07f5940e-1c1e-42ae-af39-ee0af30c9c73",
   "metadata": {},
   "outputs": [],
   "source": [
    "# results_scgan_neurips.mean(0)"
   ]
  },
  {
   "cell_type": "markdown",
   "id": "39a9a3ef-60ba-4ba3-a2ed-0f22a8c319cd",
   "metadata": {},
   "source": [
    "## HLCA"
   ]
  },
  {
   "cell_type": "code",
   "execution_count": 14,
   "id": "23ad4efb-6e87-4830-87f0-3167efc85fe2",
   "metadata": {},
   "outputs": [],
   "source": [
    "results_celldreamer_hlca = pd.read_csv(\"/home/icb/alessandro.palma/environment/celldreamer/experiments/results/hlca_core/celldreamer_hlca_core\")\n",
    "results_activa_hlca = pd.read_csv(\"/home/icb/alessandro.palma/environment/celldreamer/experiments/results/hlca_core/activa_hlca_core\")\n",
    "results_scgan_hlca = pd.read_csv(\"/home/icb/alessandro.palma/environment/celldreamer/experiments/results/hlca_core/scgan_hlca_core\")"
   ]
  },
  {
   "cell_type": "code",
   "execution_count": 15,
   "id": "a7488a38-bc42-471c-94c2-32054ccfa830",
   "metadata": {},
   "outputs": [
    {
     "data": {
      "text/plain": [
       "Unnamed: 0             14.500000\n",
       "1-Wasserstein_PCA       8.875232\n",
       "2-Wasserstein_PCA       8.991754\n",
       "Linear_MMD_PCA         71.920433\n",
       "Poly_MMD_PCA         5192.453499\n",
       "KNN identity            0.677670\n",
       "KNN identity PCA        0.994483\n",
       "precision               0.582750\n",
       "recall                  0.763483\n",
       "density                 0.683975\n",
       "coverage                0.937450\n",
       "precision_PCA           0.267550\n",
       "recall_PCA              0.039167\n",
       "density_PCA             0.046720\n",
       "coverage_PCA            0.051883\n",
       "dtype: float64"
      ]
     },
     "execution_count": 15,
     "metadata": {},
     "output_type": "execute_result"
    }
   ],
   "source": [
    "results_celldreamer_hlca.mean(0)"
   ]
  },
  {
   "cell_type": "code",
   "execution_count": 16,
   "id": "64e0e47c-f612-44c1-a08d-c67e305ddd05",
   "metadata": {},
   "outputs": [
    {
     "data": {
      "text/plain": [
       "Unnamed: 0             14.500000\n",
       "1-Wasserstein_PCA       9.310992\n",
       "2-Wasserstein_PCA       9.493816\n",
       "Linear_MMD_PCA         66.008486\n",
       "Poly_MMD_PCA         4669.147168\n",
       "KNN identity            0.381747\n",
       "KNN identity PCA        0.995058\n",
       "precision               0.847583\n",
       "recall                  0.010950\n",
       "density                 2.247153\n",
       "coverage                0.922867\n",
       "precision_PCA           0.303450\n",
       "recall_PCA              0.005967\n",
       "density_PCA             0.048810\n",
       "coverage_PCA            0.033500\n",
       "dtype: float64"
      ]
     },
     "execution_count": 16,
     "metadata": {},
     "output_type": "execute_result"
    }
   ],
   "source": [
    "results_activa_hlca.mean(0)"
   ]
  },
  {
   "cell_type": "code",
   "execution_count": 17,
   "id": "eb783930-2f16-4196-aee4-db72715ccc42",
   "metadata": {},
   "outputs": [
    {
     "data": {
      "text/plain": [
       "Unnamed: 0             14.500000\n",
       "1-Wasserstein_PCA       8.367685\n",
       "2-Wasserstein_PCA       8.698481\n",
       "Linear_MMD_PCA         23.135018\n",
       "Poly_MMD_PCA         2140.533720\n",
       "KNN identity            0.841617\n",
       "KNN identity PCA        0.989424\n",
       "precision               0.341633\n",
       "recall                  0.108983\n",
       "density                 4.403925\n",
       "coverage                0.479500\n",
       "precision_PCA           0.540417\n",
       "recall_PCA              0.067133\n",
       "density_PCA             0.158330\n",
       "coverage_PCA            0.073017\n",
       "dtype: float64"
      ]
     },
     "execution_count": 17,
     "metadata": {},
     "output_type": "execute_result"
    }
   ],
   "source": [
    "results_scgan_hlca.mean(0)"
   ]
  },
  {
   "cell_type": "markdown",
   "id": "b8356533-33a5-4ee3-886b-36ab8529174d",
   "metadata": {},
   "source": [
    "## Tabula Muris"
   ]
  },
  {
   "cell_type": "code",
   "execution_count": 18,
   "id": "416e7fcf-ce41-451e-ab72-b036a737bde7",
   "metadata": {},
   "outputs": [],
   "source": [
    "results_celldreamer_tabula = pd.read_csv(\"/home/icb/alessandro.palma/environment/celldreamer/experiments/results/tabula_muris/celldreamer_tabula_muris\")\n",
    "results_activa_tabula = pd.read_csv(\"/home/icb/alessandro.palma/environment/celldreamer/experiments/results/tabula_muris/activa_tabula_muris\")\n",
    "results_scgan_tabula = pd.read_csv(\"/home/icb/alessandro.palma/environment/celldreamer/experiments/results/tabula_muris/scgan_tabula_muris\")"
   ]
  },
  {
   "cell_type": "code",
   "execution_count": 19,
   "id": "1824c01d-b8ea-43db-afbe-e488df809f31",
   "metadata": {},
   "outputs": [
    {
     "data": {
      "text/plain": [
       "Unnamed: 0            14.500000\n",
       "1-Wasserstein_PCA      5.674033\n",
       "2-Wasserstein_PCA      5.967725\n",
       "Linear_MMD_PCA        25.063844\n",
       "Poly_MMD_PCA         705.099276\n",
       "KNN identity           0.729985\n",
       "KNN identity PCA       0.990024\n",
       "precision              0.592767\n",
       "recall                 0.817167\n",
       "density                0.468585\n",
       "coverage               0.882500\n",
       "precision_PCA          0.519317\n",
       "recall_PCA             0.115867\n",
       "density_PCA            0.116685\n",
       "coverage_PCA           0.081867\n",
       "dtype: float64"
      ]
     },
     "execution_count": 19,
     "metadata": {},
     "output_type": "execute_result"
    }
   ],
   "source": [
    "results_celldreamer_tabula.mean(0)"
   ]
  },
  {
   "cell_type": "code",
   "execution_count": 20,
   "id": "12da7416-9c17-4bb4-a598-dab90beced80",
   "metadata": {},
   "outputs": [
    {
     "data": {
      "text/plain": [
       "Unnamed: 0            14.500000\n",
       "1-Wasserstein_PCA      6.258674\n",
       "2-Wasserstein_PCA      7.593701\n",
       "Linear_MMD_PCA        11.215667\n",
       "Poly_MMD_PCA         873.537500\n",
       "KNN identity           0.477945\n",
       "KNN identity PCA       0.989083\n",
       "precision              0.937233\n",
       "recall                 0.053283\n",
       "density                5.955387\n",
       "coverage               0.986517\n",
       "precision_PCA          0.602367\n",
       "recall_PCA             0.096567\n",
       "density_PCA            0.136263\n",
       "coverage_PCA           0.072700\n",
       "dtype: float64"
      ]
     },
     "execution_count": 20,
     "metadata": {},
     "output_type": "execute_result"
    }
   ],
   "source": [
    "results_activa_tabula.mean(0)"
   ]
  },
  {
   "cell_type": "code",
   "execution_count": 21,
   "id": "53c628f7-cb7a-48a7-a859-768c7c69235b",
   "metadata": {},
   "outputs": [
    {
     "data": {
      "text/plain": [
       "Unnamed: 0             14.500000\n",
       "1-Wasserstein_PCA       9.527634\n",
       "2-Wasserstein_PCA      10.475206\n",
       "Linear_MMD_PCA         10.998124\n",
       "Poly_MMD_PCA         3011.084294\n",
       "KNN identity            0.824409\n",
       "KNN identity PCA        0.996267\n",
       "precision               0.107717\n",
       "recall                  0.122000\n",
       "density                 0.760258\n",
       "coverage                0.216250\n",
       "precision_PCA           0.449283\n",
       "recall_PCA              0.047650\n",
       "density_PCA             0.071037\n",
       "coverage_PCA            0.031700\n",
       "dtype: float64"
      ]
     },
     "execution_count": 21,
     "metadata": {},
     "output_type": "execute_result"
    }
   ],
   "source": [
    "results_scgan_tabula.mean(0)"
   ]
  },
  {
   "cell_type": "markdown",
   "id": "24b0c664-79d5-491a-a201-4b0deb06196f",
   "metadata": {},
   "source": [
    "## Dentategyrus"
   ]
  },
  {
   "cell_type": "code",
   "execution_count": 22,
   "id": "70f27c52-2f26-4f11-84a3-f0eace9079c8",
   "metadata": {},
   "outputs": [],
   "source": [
    "results_celldreamer_dentate = pd.read_csv(\"/home/icb/alessandro.palma/environment/celldreamer/experiments/results/dentategyrus/celldreamer_dentategyrus\")\n",
    "results_activa_dentate = pd.read_csv(\"/home/icb/alessandro.palma/environment/celldreamer/experiments/results/dentategyrus/activa_dentategyrus\")\n",
    "results_scgan_dentate = pd.read_csv(\"/home/icb/alessandro.palma/environment/celldreamer/experiments/results/dentategyrus/scgan_dentategyrus\")"
   ]
  },
  {
   "cell_type": "code",
   "execution_count": 23,
   "id": "79f85ff1-016b-4806-a795-0bb69c55c315",
   "metadata": {},
   "outputs": [
    {
     "data": {
      "text/plain": [
       "Unnamed: 0                1.000000\n",
       "1-Wasserstein_PCA        18.319309\n",
       "2-Wasserstein_PCA        18.395493\n",
       "Linear_MMD_PCA          335.833506\n",
       "Poly_MMD_PCA         105533.713542\n",
       "KNN identity              0.635435\n",
       "KNN identity PCA          0.998895\n",
       "precision                 0.411111\n",
       "recall                    0.698051\n",
       "density                   0.622991\n",
       "coverage                  0.840882\n",
       "precision_PCA             0.023889\n",
       "recall_PCA                0.296642\n",
       "density_PCA               0.003565\n",
       "coverage_PCA              0.004849\n",
       "dtype: float64"
      ]
     },
     "execution_count": 23,
     "metadata": {},
     "output_type": "execute_result"
    }
   ],
   "source": [
    "results_celldreamer_dentate.mean(0)"
   ]
  },
  {
   "cell_type": "code",
   "execution_count": 24,
   "id": "fb294632-ea20-449c-b73b-334a099767f1",
   "metadata": {},
   "outputs": [
    {
     "data": {
      "text/plain": [
       "Unnamed: 0                1.000000\n",
       "1-Wasserstein_PCA        19.696338\n",
       "2-Wasserstein_PCA        19.967328\n",
       "Linear_MMD_PCA          375.169810\n",
       "Poly_MMD_PCA         128152.742188\n",
       "KNN identity              0.333333\n",
       "KNN identity PCA          0.998765\n",
       "precision                 0.987648\n",
       "recall                    0.000000\n",
       "density                  42.994867\n",
       "coverage                  1.000000\n",
       "precision_PCA             0.027633\n",
       "recall_PCA                0.297099\n",
       "density_PCA               0.004026\n",
       "coverage_PCA              0.004026\n",
       "dtype: float64"
      ]
     },
     "execution_count": 24,
     "metadata": {},
     "output_type": "execute_result"
    }
   ],
   "source": [
    "results_activa_dentate.mean(0)"
   ]
  },
  {
   "cell_type": "code",
   "execution_count": 25,
   "id": "6cf9bee8-04d1-4900-be99-ce8374a68d0a",
   "metadata": {},
   "outputs": [
    {
     "data": {
      "text/plain": [
       "Unnamed: 0                1.000000\n",
       "1-Wasserstein_PCA        19.605436\n",
       "2-Wasserstein_PCA        19.679675\n",
       "Linear_MMD_PCA          521.139669\n",
       "Poly_MMD_PCA         303147.072917\n",
       "KNN identity              0.607857\n",
       "KNN identity PCA          0.999725\n",
       "precision                 0.638721\n",
       "recall                    0.149327\n",
       "density                   2.034543\n",
       "coverage                  0.917833\n",
       "precision_PCA             0.008704\n",
       "recall_PCA                0.002196\n",
       "density_PCA               0.001145\n",
       "coverage_PCA              0.003111\n",
       "dtype: float64"
      ]
     },
     "execution_count": 25,
     "metadata": {},
     "output_type": "execute_result"
    }
   ],
   "source": [
    "results_scgan_dentate.mean(0)"
   ]
  },
  {
   "cell_type": "markdown",
   "id": "6561728b-aa3a-4431-a2bb-234447751ff3",
   "metadata": {},
   "source": [
    "## C. Elegans"
   ]
  },
  {
   "cell_type": "code",
   "execution_count": 30,
   "id": "6b475fba-f914-496d-899e-10f1259d322e",
   "metadata": {},
   "outputs": [],
   "source": [
    "# results_celldreamer_c_elegans = pd.read_csv(\"/home/icb/alessandro.palma/environment/celldreamer/experiments/results/c_elegans/celldreamer_c_elegans\")\n",
    "# results_activa_c_elegans = pd.read_csv(\"/home/icb/alessandro.palma/environment/celldreamer/experiments/results/c_elegans/activa_c_elegans\")\n",
    "# results_scgan_c_elegans = pd.read_csv(\"/home/icb/alessandro.palma/environment/celldreamer/experiments/results/c_elegans/scgan_c_elegans\")"
   ]
  },
  {
   "cell_type": "code",
   "execution_count": 31,
   "id": "58ff6b15-49b1-4044-ac65-542b237225c3",
   "metadata": {},
   "outputs": [],
   "source": [
    "# results_celldreamer_c_elegans.mean(0)"
   ]
  },
  {
   "cell_type": "code",
   "execution_count": 32,
   "id": "79e12a4d-2372-4daa-87ed-cd944cf93d23",
   "metadata": {},
   "outputs": [],
   "source": [
    "# results_activa_c_elegans.mean(0)"
   ]
  },
  {
   "cell_type": "code",
   "execution_count": 33,
   "id": "dc79d105-4f88-428d-828b-8d3609598c0f",
   "metadata": {},
   "outputs": [],
   "source": [
    "# results_scgan_c_elegans.mean(0)"
   ]
  },
  {
   "cell_type": "code",
   "execution_count": null,
   "id": "72602ef0-79a8-4525-bb72-1a71cea4eb3b",
   "metadata": {},
   "outputs": [],
   "source": []
  },
  {
   "cell_type": "code",
   "execution_count": null,
   "id": "34f57750-615b-4bc4-a935-a85edc36d82e",
   "metadata": {},
   "outputs": [],
   "source": []
  }
 ],
 "metadata": {
  "kernelspec": {
   "display_name": "Python 3 (ipykernel)",
   "language": "python",
   "name": "python3"
  },
  "language_info": {
   "codemirror_mode": {
    "name": "ipython",
    "version": 3
   },
   "file_extension": ".py",
   "mimetype": "text/x-python",
   "name": "python",
   "nbconvert_exporter": "python",
   "pygments_lexer": "ipython3",
   "version": "3.10.13"
  }
 },
 "nbformat": 4,
 "nbformat_minor": 5
}
