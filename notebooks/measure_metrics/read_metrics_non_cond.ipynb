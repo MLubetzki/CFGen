{
 "cells": [
  {
   "cell_type": "markdown",
   "id": "10dd506e-7645-4210-887f-cee3d39b85be",
   "metadata": {},
   "source": [
    "# Read real and generated datasets "
   ]
  },
  {
   "cell_type": "code",
   "execution_count": 2,
   "id": "86c3c0cf-a378-4d79-9b7d-fe39f776c31b",
   "metadata": {},
   "outputs": [],
   "source": [
    "import scanpy as sc\n",
    "from celldreamer.eval.compute_evaluation_metrics import process_labels, compute_evaluation_metrics\n",
    "from scipy import sparse\n",
    "import pandas as pd\n",
    "import numpy as np"
   ]
  },
  {
   "cell_type": "markdown",
   "id": "01361fdf-1b25-4aed-8d4d-967840bc20dd",
   "metadata": {},
   "source": [
    "## PBMC3K"
   ]
  },
  {
   "cell_type": "code",
   "execution_count": 21,
   "id": "9dc8d26e-5380-4b78-87eb-abe5f226f40c",
   "metadata": {},
   "outputs": [],
   "source": [
    "results_celldreamer_pbmc3k = pd.read_csv(\"/home/icb/alessandro.palma/environment/celldreamer/experiments/results/pbmc3k/celldreamer_pbmc3k\")\n",
    "results_activa_pbmc3k = pd.read_csv(\"/home/icb/alessandro.palma/environment/celldreamer/experiments/results/pbmc3k/activa_pbmc3k\")\n",
    "results_scgan_pbmc3k = pd.read_csv(\"/home/icb/alessandro.palma/environment/celldreamer/experiments/results/pbmc3k/scgan_pbmc3k\")"
   ]
  },
  {
   "cell_type": "code",
   "execution_count": 22,
   "id": "6b9889be-9ba5-4fd1-be4b-d5f0ec7f9c13",
   "metadata": {},
   "outputs": [
    {
     "data": {
      "text/plain": [
       "Unnamed: 0               1.000000\n",
       "1-Wasserstein_PCA       18.212159\n",
       "2-Wasserstein_PCA       18.359532\n",
       "Linear_MMD_PCA         208.269852\n",
       "Poly_MMD_PCA         41245.266927\n",
       "KNN identity             0.662755\n",
       "KNN identity PCA         0.984845\n",
       "precision                0.326389\n",
       "recall                   0.199495\n",
       "density                  1.390467\n",
       "coverage                 0.987374\n",
       "precision_PCA            0.779672\n",
       "recall_PCA               0.001894\n",
       "density_PCA              0.396717\n",
       "coverage_PCA             0.314394\n",
       "dtype: float64"
      ]
     },
     "execution_count": 22,
     "metadata": {},
     "output_type": "execute_result"
    }
   ],
   "source": [
    "results_celldreamer_pbmc3k.mean(0)"
   ]
  },
  {
   "cell_type": "code",
   "execution_count": 23,
   "id": "41c54a9b-d2d0-441f-bf15-e37eb1407fb4",
   "metadata": {
    "scrolled": true
   },
   "outputs": [
    {
     "data": {
      "text/plain": [
       "Unnamed: 0               1.000000\n",
       "1-Wasserstein_PCA       20.210951\n",
       "2-Wasserstein_PCA       20.397104\n",
       "Linear_MMD_PCA         274.953949\n",
       "Poly_MMD_PCA         80474.028646\n",
       "KNN identity             0.333333\n",
       "KNN identity PCA         0.956356\n",
       "precision                0.785354\n",
       "recall                   0.034722\n",
       "density                  0.690278\n",
       "coverage                 0.481692\n",
       "precision_PCA            0.791035\n",
       "recall_PCA               0.000631\n",
       "density_PCA              0.916856\n",
       "coverage_PCA             0.570076\n",
       "dtype: float64"
      ]
     },
     "execution_count": 23,
     "metadata": {},
     "output_type": "execute_result"
    }
   ],
   "source": [
    "results_activa_pbmc3k.mean(0)"
   ]
  },
  {
   "cell_type": "code",
   "execution_count": 24,
   "id": "64ad0c1e-dea3-47bb-8905-766fec6f7866",
   "metadata": {},
   "outputs": [
    {
     "data": {
      "text/plain": [
       "Unnamed: 0               1.000000\n",
       "1-Wasserstein_PCA       16.989420\n",
       "2-Wasserstein_PCA       17.200600\n",
       "Linear_MMD_PCA         246.446320\n",
       "Poly_MMD_PCA         79615.729167\n",
       "KNN identity             0.579738\n",
       "KNN identity PCA         0.963302\n",
       "precision                0.797596\n",
       "recall                   0.010101\n",
       "density                  5.676344\n",
       "coverage                 1.000000\n",
       "precision_PCA            0.889311\n",
       "recall_PCA               0.000000\n",
       "density_PCA              0.725427\n",
       "coverage_PCA             0.394571\n",
       "dtype: float64"
      ]
     },
     "execution_count": 24,
     "metadata": {},
     "output_type": "execute_result"
    }
   ],
   "source": [
    "results_scgan_pbmc3k.mean(0)"
   ]
  },
  {
   "cell_type": "code",
   "execution_count": 25,
   "id": "f64d9ef5-3946-4d24-8a30-6f0736ea7faa",
   "metadata": {},
   "outputs": [
    {
     "data": {
      "text/plain": [
       "Unnamed: 0             7.000000\n",
       "1-Wasserstein_PCA     11.743920\n",
       "2-Wasserstein_PCA     11.936873\n",
       "Linear_MMD_PCA        -0.104061\n",
       "Poly_MMD_PCA         669.703048\n",
       "KNN identity           0.987064\n",
       "KNN identity PCA       0.870330\n",
       "precision              1.000000\n",
       "recall                 0.000000\n",
       "density                6.006667\n",
       "coverage               0.060067\n",
       "precision_PCA          1.000000\n",
       "recall_PCA             0.000000\n",
       "density_PCA           28.213333\n",
       "coverage_PCA           0.282133\n",
       "dtype: float64"
      ]
     },
     "execution_count": 25,
     "metadata": {},
     "output_type": "execute_result"
    }
   ],
   "source": [
    "results_scrdit_pbmc3k.mean(0)"
   ]
  },
  {
   "cell_type": "markdown",
   "id": "ef0ed73c-58de-4674-a924-dd118af153aa",
   "metadata": {},
   "source": [
    "## PBMC68K"
   ]
  },
  {
   "cell_type": "code",
   "execution_count": 26,
   "id": "c03522be-30dd-4cca-a263-f06515113882",
   "metadata": {},
   "outputs": [],
   "source": [
    "results_celldreamer_pbmc68k = pd.read_csv(\"/home/icb/alessandro.palma/environment/celldreamer/experiments/results/pbmc68k/celldreamer_pbmc68k\")\n",
    "results_activa_pbmc68k = pd.read_csv(\"/home/icb/alessandro.palma/environment/celldreamer/experiments/results/pbmc68k/activa_pbmc68k\")\n",
    "results_scgan_pbmc68k = pd.read_csv(\"/home/icb/alessandro.palma/environment/celldreamer/experiments/results/pbmc68k/scgan_pbmc68k\")"
   ]
  },
  {
   "cell_type": "code",
   "execution_count": 27,
   "id": "f0513cfc-af12-478f-a7aa-9a79f713900c",
   "metadata": {},
   "outputs": [
    {
     "data": {
      "text/plain": [
       "Unnamed: 0               7.000000\n",
       "1-Wasserstein_PCA       16.674089\n",
       "2-Wasserstein_PCA       16.805775\n",
       "Linear_MMD_PCA         159.924611\n",
       "Poly_MMD_PCA         26112.545182\n",
       "KNN identity             0.582026\n",
       "KNN identity PCA         0.997100\n",
       "precision                0.582867\n",
       "recall                   0.422133\n",
       "density                  1.392147\n",
       "coverage                 0.999200\n",
       "precision_PCA            0.014933\n",
       "recall_PCA               0.310467\n",
       "density_PCA              0.005013\n",
       "coverage_PCA             0.044400\n",
       "dtype: float64"
      ]
     },
     "execution_count": 27,
     "metadata": {},
     "output_type": "execute_result"
    }
   ],
   "source": [
    "results_celldreamer_pbmc68k.mean(0)"
   ]
  },
  {
   "cell_type": "code",
   "execution_count": 28,
   "id": "ef9364b2-800b-41c7-a113-cf12a1bf5016",
   "metadata": {},
   "outputs": [
    {
     "data": {
      "text/plain": [
       "Unnamed: 0               7.000000\n",
       "1-Wasserstein_PCA       17.083476\n",
       "2-Wasserstein_PCA       17.187272\n",
       "Linear_MMD_PCA         184.836885\n",
       "Poly_MMD_PCA         33662.300260\n",
       "KNN identity             0.333333\n",
       "KNN identity PCA         0.998067\n",
       "precision                0.919400\n",
       "recall                   0.009533\n",
       "density                  1.801060\n",
       "coverage                 0.534867\n",
       "precision_PCA            0.078467\n",
       "recall_PCA               0.031200\n",
       "density_PCA              0.021633\n",
       "coverage_PCA             0.088133\n",
       "dtype: float64"
      ]
     },
     "execution_count": 28,
     "metadata": {},
     "output_type": "execute_result"
    }
   ],
   "source": [
    "results_activa_pbmc68k.mean(0)"
   ]
  },
  {
   "cell_type": "code",
   "execution_count": 29,
   "id": "223dfd4c-701e-48d0-b845-1e9d48cc2cf0",
   "metadata": {},
   "outputs": [
    {
     "data": {
      "text/plain": [
       "Unnamed: 0               7.000000\n",
       "1-Wasserstein_PCA       17.811648\n",
       "2-Wasserstein_PCA       17.957570\n",
       "Linear_MMD_PCA         198.580703\n",
       "Poly_MMD_PCA         40155.599740\n",
       "KNN identity             0.657756\n",
       "KNN identity PCA         0.996800\n",
       "precision                0.172667\n",
       "recall                   0.700333\n",
       "density                  0.187833\n",
       "coverage                 0.795400\n",
       "precision_PCA            0.009000\n",
       "recall_PCA               0.336133\n",
       "density_PCA              0.002993\n",
       "coverage_PCA             0.027800\n",
       "dtype: float64"
      ]
     },
     "execution_count": 29,
     "metadata": {},
     "output_type": "execute_result"
    }
   ],
   "source": [
    "results_scgan_pbmc68k.mean(0)"
   ]
  },
  {
   "cell_type": "markdown",
   "id": "2c85f50c-6a98-4fcd-818c-e9e132162836",
   "metadata": {},
   "source": [
    "## Neurips"
   ]
  },
  {
   "cell_type": "code",
   "execution_count": 30,
   "id": "4ae0550a-cdcc-4a04-9e1a-ad05ed8d198d",
   "metadata": {},
   "outputs": [],
   "source": [
    "results_celldreamer_neurips = pd.read_csv(\"/home/icb/alessandro.palma/environment/celldreamer/experiments/results/neurips/celldreamer_neurips\")\n",
    "results_activa_neurips = pd.read_csv(\"/home/icb/alessandro.palma/environment/celldreamer/experiments/results/neurips/activa_neurips\")\n",
    "results_scgan_neurips = pd.read_csv(\"/home/icb/alessandro.palma/environment/celldreamer/experiments/results/neurips/scgan_neurips\")"
   ]
  },
  {
   "cell_type": "code",
   "execution_count": 32,
   "id": "ee1e2fb6-203e-4f6c-820c-2c11db463f5b",
   "metadata": {},
   "outputs": [
    {
     "data": {
      "text/plain": [
       "Unnamed: 0                7.000000\n",
       "1-Wasserstein_PCA        20.733077\n",
       "2-Wasserstein_PCA        20.967822\n",
       "Linear_MMD_PCA          368.473462\n",
       "Poly_MMD_PCA         143065.451042\n",
       "KNN identity              0.936995\n",
       "KNN identity PCA          0.999833\n",
       "precision                 0.145333\n",
       "recall                    0.546400\n",
       "density                   0.069493\n",
       "coverage                  0.224533\n",
       "precision_PCA             0.008267\n",
       "recall_PCA                0.022467\n",
       "density_PCA               0.001113\n",
       "coverage_PCA              0.006067\n",
       "dtype: float64"
      ]
     },
     "execution_count": 32,
     "metadata": {},
     "output_type": "execute_result"
    }
   ],
   "source": [
    "results_celldreamer_neurips.mean(0)"
   ]
  },
  {
   "cell_type": "code",
   "execution_count": 33,
   "id": "1a31e785-55fe-4656-93a1-4f13382a6340",
   "metadata": {},
   "outputs": [
    {
     "data": {
      "text/plain": [
       "Unnamed: 0               7.000000\n",
       "1-Wasserstein_PCA       13.743852\n",
       "2-Wasserstein_PCA       13.936060\n",
       "Linear_MMD_PCA         124.375866\n",
       "Poly_MMD_PCA         16168.384049\n",
       "KNN identity             0.367766\n",
       "KNN identity PCA         0.996833\n",
       "precision                0.994600\n",
       "recall                   0.009000\n",
       "density                 21.286233\n",
       "coverage                 0.999333\n",
       "precision_PCA            0.232867\n",
       "recall_PCA               0.007133\n",
       "density_PCA              0.032393\n",
       "coverage_PCA             0.039000\n",
       "dtype: float64"
      ]
     },
     "execution_count": 33,
     "metadata": {},
     "output_type": "execute_result"
    }
   ],
   "source": [
    "results_activa_neurips.mean(0)"
   ]
  },
  {
   "cell_type": "code",
   "execution_count": 35,
   "id": "07f5940e-1c1e-42ae-af39-ee0af30c9c73",
   "metadata": {},
   "outputs": [
    {
     "data": {
      "text/plain": [
       "Unnamed: 0               7.000000\n",
       "1-Wasserstein_PCA       15.538989\n",
       "2-Wasserstein_PCA       15.887102\n",
       "Linear_MMD_PCA         107.547508\n",
       "Poly_MMD_PCA         19950.104557\n",
       "KNN identity             0.950895\n",
       "KNN identity PCA         0.993800\n",
       "precision                0.301600\n",
       "recall                   0.003667\n",
       "density                  4.027747\n",
       "coverage                 0.470800\n",
       "precision_PCA            0.298333\n",
       "recall_PCA               0.007067\n",
       "density_PCA              0.079000\n",
       "coverage_PCA             0.065000\n",
       "dtype: float64"
      ]
     },
     "execution_count": 35,
     "metadata": {},
     "output_type": "execute_result"
    }
   ],
   "source": [
    "results_scgan_neurips.mean(0)"
   ]
  },
  {
   "cell_type": "markdown",
   "id": "39a9a3ef-60ba-4ba3-a2ed-0f22a8c319cd",
   "metadata": {},
   "source": [
    "## HLCA"
   ]
  },
  {
   "cell_type": "code",
   "execution_count": 38,
   "id": "23ad4efb-6e87-4830-87f0-3167efc85fe2",
   "metadata": {},
   "outputs": [],
   "source": [
    "results_celldreamer_hlca = pd.read_csv(\"/home/icb/alessandro.palma/environment/celldreamer/experiments/results/hlca_core/celldreamer_hlca_core\")\n",
    "results_activa_hlca = pd.read_csv(\"/home/icb/alessandro.palma/environment/celldreamer/experiments/results/hlca_core/activa_hlca_core\")\n",
    "results_scgan_hlca = pd.read_csv(\"/home/icb/alessandro.palma/environment/celldreamer/experiments/results/hlca_core/scgan_hlca_core\")"
   ]
  },
  {
   "cell_type": "code",
   "execution_count": 41,
   "id": "a7488a38-bc42-471c-94c2-32054ccfa830",
   "metadata": {},
   "outputs": [
    {
     "data": {
      "text/plain": [
       "Unnamed: 0              7.000000\n",
       "1-Wasserstein_PCA      12.198377\n",
       "2-Wasserstein_PCA      12.336534\n",
       "Linear_MMD_PCA         86.174465\n",
       "Poly_MMD_PCA         8187.929622\n",
       "KNN identity            0.612317\n",
       "KNN identity PCA        0.996567\n",
       "precision               0.766600\n",
       "recall                  0.372133\n",
       "density                 1.181860\n",
       "coverage                0.925467\n",
       "precision_PCA           0.143933\n",
       "recall_PCA              0.079667\n",
       "density_PCA             0.029080\n",
       "coverage_PCA            0.091200\n",
       "dtype: float64"
      ]
     },
     "execution_count": 41,
     "metadata": {},
     "output_type": "execute_result"
    }
   ],
   "source": [
    "results_celldreamer_hlca.mean(0)"
   ]
  },
  {
   "cell_type": "code",
   "execution_count": 42,
   "id": "64e0e47c-f612-44c1-a08d-c67e305ddd05",
   "metadata": {},
   "outputs": [
    {
     "data": {
      "text/plain": [
       "Unnamed: 0              7.000000\n",
       "1-Wasserstein_PCA      11.681181\n",
       "2-Wasserstein_PCA      11.892756\n",
       "Linear_MMD_PCA         81.139096\n",
       "Poly_MMD_PCA         6921.304232\n",
       "KNN identity            0.334383\n",
       "KNN identity PCA        0.988965\n",
       "precision               0.906467\n",
       "recall                  0.018600\n",
       "density                 2.828693\n",
       "coverage                0.997667\n",
       "precision_PCA           0.495933\n",
       "recall_PCA              0.012400\n",
       "density_PCA             0.120720\n",
       "coverage_PCA            0.156200\n",
       "dtype: float64"
      ]
     },
     "execution_count": 42,
     "metadata": {},
     "output_type": "execute_result"
    }
   ],
   "source": [
    "results_activa_hlca.mean(0)"
   ]
  },
  {
   "cell_type": "code",
   "execution_count": 44,
   "id": "eb783930-2f16-4196-aee4-db72715ccc42",
   "metadata": {},
   "outputs": [
    {
     "data": {
      "text/plain": [
       "Unnamed: 0              7.000000\n",
       "1-Wasserstein_PCA      12.439278\n",
       "2-Wasserstein_PCA      12.640943\n",
       "Linear_MMD_PCA         32.725725\n",
       "Poly_MMD_PCA         3335.022184\n",
       "KNN identity            0.883947\n",
       "KNN identity PCA        0.990066\n",
       "precision               0.436733\n",
       "recall                  0.040067\n",
       "density                 4.183340\n",
       "coverage                0.503400\n",
       "precision_PCA           0.374200\n",
       "recall_PCA              0.004933\n",
       "density_PCA             0.228073\n",
       "coverage_PCA            0.131733\n",
       "dtype: float64"
      ]
     },
     "execution_count": 44,
     "metadata": {},
     "output_type": "execute_result"
    }
   ],
   "source": [
    "results_scgan_hlca.mean(0)"
   ]
  },
  {
   "cell_type": "markdown",
   "id": "b8356533-33a5-4ee3-886b-36ab8529174d",
   "metadata": {},
   "source": [
    "## Tabula Muris"
   ]
  },
  {
   "cell_type": "code",
   "execution_count": 48,
   "id": "416e7fcf-ce41-451e-ab72-b036a737bde7",
   "metadata": {},
   "outputs": [],
   "source": [
    "results_celldreamer_tabula = pd.read_csv(\"/home/icb/alessandro.palma/environment/celldreamer/experiments/results/tabula_muris/celldreamer_tabula_muris\")\n",
    "results_activa_tabula = pd.read_csv(\"/home/icb/alessandro.palma/environment/celldreamer/experiments/results/tabula_muris/activa_tabula_muris\")\n",
    "results_scgan_tabula = pd.read_csv(\"/home/icb/alessandro.palma/environment/celldreamer/experiments/results/tabula_muris/scgan_tabula_muris\")"
   ]
  },
  {
   "cell_type": "code",
   "execution_count": 52,
   "id": "1824c01d-b8ea-43db-afbe-e488df809f31",
   "metadata": {},
   "outputs": [
    {
     "data": {
      "text/plain": [
       "Unnamed: 0              7.000000\n",
       "1-Wasserstein_PCA       9.489262\n",
       "2-Wasserstein_PCA       9.948405\n",
       "Linear_MMD_PCA         49.720453\n",
       "Poly_MMD_PCA         2697.743001\n",
       "KNN identity            0.689710\n",
       "KNN identity PCA        0.983864\n",
       "precision               0.718533\n",
       "recall                  0.839933\n",
       "density                 0.642927\n",
       "coverage                0.958000\n",
       "precision_PCA           0.500933\n",
       "recall_PCA              0.231067\n",
       "density_PCA             0.145960\n",
       "coverage_PCA            0.259467\n",
       "dtype: float64"
      ]
     },
     "execution_count": 52,
     "metadata": {},
     "output_type": "execute_result"
    }
   ],
   "source": [
    "results_celldreamer_tabula.mean(0)"
   ]
  },
  {
   "cell_type": "code",
   "execution_count": 53,
   "id": "12da7416-9c17-4bb4-a598-dab90beced80",
   "metadata": {},
   "outputs": [
    {
     "data": {
      "text/plain": [
       "Unnamed: 0              7.000000\n",
       "1-Wasserstein_PCA      10.111849\n",
       "2-Wasserstein_PCA      21.944596\n",
       "Linear_MMD_PCA         27.220052\n",
       "Poly_MMD_PCA        -8910.358512\n",
       "KNN identity            0.475822\n",
       "KNN identity PCA        0.967806\n",
       "precision               0.952733\n",
       "recall                  0.106800\n",
       "density                 5.172013\n",
       "coverage                0.993800\n",
       "precision_PCA           0.822267\n",
       "recall_PCA              0.103400\n",
       "density_PCA             0.400767\n",
       "coverage_PCA            0.318867\n",
       "dtype: float64"
      ]
     },
     "execution_count": 53,
     "metadata": {},
     "output_type": "execute_result"
    }
   ],
   "source": [
    "results_activa_tabula.mean(0)"
   ]
  },
  {
   "cell_type": "code",
   "execution_count": 54,
   "id": "53c628f7-cb7a-48a7-a859-768c7c69235b",
   "metadata": {},
   "outputs": [
    {
     "data": {
      "text/plain": [
       "Unnamed: 0              7.000000\n",
       "1-Wasserstein_PCA      13.270563\n",
       "2-Wasserstein_PCA      13.957529\n",
       "Linear_MMD_PCA         21.740828\n",
       "Poly_MMD_PCA         4007.315853\n",
       "KNN identity            0.728420\n",
       "KNN identity PCA        0.989065\n",
       "precision               0.138067\n",
       "recall                  0.135000\n",
       "density                 0.765567\n",
       "coverage                0.299000\n",
       "precision_PCA           0.611800\n",
       "recall_PCA              0.035133\n",
       "density_PCA             0.281093\n",
       "coverage_PCA            0.117200\n",
       "dtype: float64"
      ]
     },
     "execution_count": 54,
     "metadata": {},
     "output_type": "execute_result"
    }
   ],
   "source": [
    "results_scgan_tabula.mean(0)"
   ]
  },
  {
   "cell_type": "markdown",
   "id": "24b0c664-79d5-491a-a201-4b0deb06196f",
   "metadata": {},
   "source": [
    "## Dentategyrus"
   ]
  },
  {
   "cell_type": "code",
   "execution_count": 57,
   "id": "70f27c52-2f26-4f11-84a3-f0eace9079c8",
   "metadata": {},
   "outputs": [],
   "source": [
    "results_celldreamer_dentate = pd.read_csv(\"/home/icb/alessandro.palma/environment/celldreamer/experiments/results/dentategyrus/celldreamer_dentategyrus\")\n",
    "results_activa_dentate = pd.read_csv(\"/home/icb/alessandro.palma/environment/celldreamer/experiments/results/dentategyrus/activa_dentategyrus\")\n",
    "results_scgan_dentate = pd.read_csv(\"/home/icb/alessandro.palma/environment/celldreamer/experiments/results/dentategyrus/scgan_dentategyrus\")"
   ]
  },
  {
   "cell_type": "code",
   "execution_count": 58,
   "id": "79f85ff1-016b-4806-a795-0bb69c55c315",
   "metadata": {},
   "outputs": [
    {
     "data": {
      "text/plain": [
       "Unnamed: 0                1.000000\n",
       "1-Wasserstein_PCA        22.151226\n",
       "2-Wasserstein_PCA        22.236734\n",
       "Linear_MMD_PCA          439.083557\n",
       "Poly_MMD_PCA         184227.385417\n",
       "KNN identity              0.635435\n",
       "KNN identity PCA          0.999770\n",
       "precision                 0.411111\n",
       "recall                    0.698051\n",
       "density                   0.622991\n",
       "coverage                  0.840882\n",
       "precision_PCA             0.000370\n",
       "recall_PCA                0.404703\n",
       "density_PCA               0.000046\n",
       "coverage_PCA              0.000366\n",
       "dtype: float64"
      ]
     },
     "execution_count": 58,
     "metadata": {},
     "output_type": "execute_result"
    }
   ],
   "source": [
    "results_celldreamer_dentate.mean(0)"
   ]
  },
  {
   "cell_type": "code",
   "execution_count": 59,
   "id": "fb294632-ea20-449c-b73b-334a099767f1",
   "metadata": {},
   "outputs": [
    {
     "data": {
      "text/plain": [
       "Unnamed: 0                1.000000\n",
       "1-Wasserstein_PCA        23.325151\n",
       "2-Wasserstein_PCA        23.572908\n",
       "Linear_MMD_PCA          486.149272\n",
       "Poly_MMD_PCA         222866.125000\n",
       "KNN identity              0.333333\n",
       "KNN identity PCA          0.998765\n",
       "precision                 0.987648\n",
       "recall                    0.000000\n",
       "density                  42.994849\n",
       "coverage                  1.000000\n",
       "precision_PCA             0.005124\n",
       "recall_PCA                0.414402\n",
       "density_PCA               0.001308\n",
       "coverage_PCA              0.006679\n",
       "dtype: float64"
      ]
     },
     "execution_count": 59,
     "metadata": {},
     "output_type": "execute_result"
    }
   ],
   "source": [
    "results_activa_dentate.mean(0)"
   ]
  },
  {
   "cell_type": "code",
   "execution_count": 60,
   "id": "6cf9bee8-04d1-4900-be99-ce8374a68d0a",
   "metadata": {},
   "outputs": [
    {
     "data": {
      "text/plain": [
       "Unnamed: 0                1.000000\n",
       "1-Wasserstein_PCA        23.374826\n",
       "2-Wasserstein_PCA        23.459275\n",
       "Linear_MMD_PCA          635.420308\n",
       "Poly_MMD_PCA         435786.770833\n",
       "KNN identity              0.607857\n",
       "KNN identity PCA          1.000000\n",
       "precision                 0.638721\n",
       "recall                    0.149327\n",
       "density                   2.034543\n",
       "coverage                  0.917833\n",
       "precision_PCA             0.000000\n",
       "recall_PCA                0.000000\n",
       "density_PCA               0.000000\n",
       "coverage_PCA              0.000000\n",
       "dtype: float64"
      ]
     },
     "execution_count": 60,
     "metadata": {},
     "output_type": "execute_result"
    }
   ],
   "source": [
    "results_scgan_dentate.mean(0)"
   ]
  },
  {
   "cell_type": "markdown",
   "id": "6561728b-aa3a-4431-a2bb-234447751ff3",
   "metadata": {},
   "source": [
    "## C. Elegans"
   ]
  },
  {
   "cell_type": "code",
   "execution_count": 63,
   "id": "6b475fba-f914-496d-899e-10f1259d322e",
   "metadata": {},
   "outputs": [],
   "source": [
    "results_celldreamer_c_elegans = pd.read_csv(\"/home/icb/alessandro.palma/environment/celldreamer/experiments/results/c_elegans/celldreamer_c_elegans\")\n",
    "results_activa_c_elegans = pd.read_csv(\"/home/icb/alessandro.palma/environment/celldreamer/experiments/results/c_elegans/activa_c_elegans\")\n",
    "results_scgan_c_elegans = pd.read_csv(\"/home/icb/alessandro.palma/environment/celldreamer/experiments/results/c_elegans/scgan_c_elegans\")"
   ]
  },
  {
   "cell_type": "code",
   "execution_count": 66,
   "id": "58ff6b15-49b1-4044-ac65-542b237225c3",
   "metadata": {},
   "outputs": [
    {
     "data": {
      "text/plain": [
       "Unnamed: 0              7.000000\n",
       "1-Wasserstein_PCA      10.082553\n",
       "2-Wasserstein_PCA      10.467417\n",
       "Linear_MMD_PCA         40.779141\n",
       "Poly_MMD_PCA         1686.976986\n",
       "KNN identity            0.605029\n",
       "KNN identity PCA        0.963730\n",
       "precision               0.435933\n",
       "recall                  0.363800\n",
       "density                 2.483247\n",
       "coverage                0.996600\n",
       "precision_PCA           0.717000\n",
       "recall_PCA              0.277267\n",
       "density_PCA             0.350100\n",
       "coverage_PCA            0.547667\n",
       "dtype: float64"
      ]
     },
     "execution_count": 66,
     "metadata": {},
     "output_type": "execute_result"
    }
   ],
   "source": [
    "results_celldreamer_c_elegans.mean(0)"
   ]
  },
  {
   "cell_type": "code",
   "execution_count": 67,
   "id": "79e12a4d-2372-4daa-87ed-cd944cf93d23",
   "metadata": {},
   "outputs": [
    {
     "data": {
      "text/plain": [
       "Unnamed: 0              7.000000\n",
       "1-Wasserstein_PCA       9.565116\n",
       "2-Wasserstein_PCA      13.692509\n",
       "Linear_MMD_PCA         20.158394\n",
       "Poly_MMD_PCA         3435.294767\n",
       "KNN identity            0.357904\n",
       "KNN identity PCA        0.927823\n",
       "precision               0.979067\n",
       "recall                  0.011667\n",
       "density                21.123573\n",
       "coverage                0.999800\n",
       "precision_PCA           0.995800\n",
       "recall_PCA              0.070800\n",
       "density_PCA             1.347840\n",
       "coverage_PCA            0.624200\n",
       "dtype: float64"
      ]
     },
     "execution_count": 67,
     "metadata": {},
     "output_type": "execute_result"
    }
   ],
   "source": [
    "results_activa_c_elegans.mean(0)"
   ]
  },
  {
   "cell_type": "code",
   "execution_count": 69,
   "id": "dc79d105-4f88-428d-828b-8d3609598c0f",
   "metadata": {},
   "outputs": [
    {
     "data": {
      "text/plain": [
       "Unnamed: 0              7.000000\n",
       "1-Wasserstein_PCA      10.843071\n",
       "2-Wasserstein_PCA      11.974127\n",
       "Linear_MMD_PCA          9.704830\n",
       "Poly_MMD_PCA         2413.678060\n",
       "KNN identity            0.697009\n",
       "KNN identity PCA        0.943924\n",
       "precision               0.440933\n",
       "recall                  0.068333\n",
       "density                11.040967\n",
       "coverage                0.886667\n",
       "precision_PCA           0.908800\n",
       "recall_PCA              0.129200\n",
       "density_PCA             1.665360\n",
       "coverage_PCA            0.532800\n",
       "dtype: float64"
      ]
     },
     "execution_count": 69,
     "metadata": {},
     "output_type": "execute_result"
    }
   ],
   "source": [
    "results_scgan_c_elegans.mean(0)"
   ]
  },
  {
   "cell_type": "code",
   "execution_count": null,
   "id": "72602ef0-79a8-4525-bb72-1a71cea4eb3b",
   "metadata": {},
   "outputs": [],
   "source": []
  }
 ],
 "metadata": {
  "kernelspec": {
   "display_name": "Python 3 (ipykernel)",
   "language": "python",
   "name": "python3"
  },
  "language_info": {
   "codemirror_mode": {
    "name": "ipython",
    "version": 3
   },
   "file_extension": ".py",
   "mimetype": "text/x-python",
   "name": "python",
   "nbconvert_exporter": "python",
   "pygments_lexer": "ipython3",
   "version": "3.10.13"
  }
 },
 "nbformat": 4,
 "nbformat_minor": 5
}
