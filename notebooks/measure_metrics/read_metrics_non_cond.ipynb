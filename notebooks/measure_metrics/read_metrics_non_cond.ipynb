{
 "cells": [
  {
   "cell_type": "markdown",
   "id": "10dd506e-7645-4210-887f-cee3d39b85be",
   "metadata": {},
   "source": [
    "# Read real and generated datasets "
   ]
  },
  {
   "cell_type": "code",
   "execution_count": 65,
   "id": "86c3c0cf-a378-4d79-9b7d-fe39f776c31b",
   "metadata": {},
   "outputs": [],
   "source": [
    "import scanpy as sc\n",
    "from celldreamer.eval.compute_evaluation_metrics import process_labels, compute_evaluation_metrics\n",
    "from scipy import sparse\n",
    "import pandas as pd\n",
    "import numpy as np"
   ]
  },
  {
   "cell_type": "code",
   "execution_count": 66,
   "id": "fb47ce7d-ebe5-434d-ae0e-686bb7cfb2a0",
   "metadata": {},
   "outputs": [],
   "source": [
    "def compute_mean_std(results):\n",
    "    means = results.mean(0)\n",
    "    stds = results.std(0) / np.sqrt(results.shape[0])\n",
    "    for (name, mean, std) in zip(list(means.index), list(means), list(stds)):\n",
    "        print(f\"{name} {np.round(mean, 2)} ± {np.round(std,2)}\")"
   ]
  },
  {
   "cell_type": "markdown",
   "id": "01361fdf-1b25-4aed-8d4d-967840bc20dd",
   "metadata": {},
   "source": [
    "## PBMC3K"
   ]
  },
  {
   "cell_type": "code",
   "execution_count": 67,
   "id": "9dc8d26e-5380-4b78-87eb-abe5f226f40c",
   "metadata": {},
   "outputs": [],
   "source": [
    "results_celldreamer_pbmc3k = pd.read_csv(\"/home/icb/alessandro.palma/environment/cfgen/experiments/results/pbmc3k/celldreamer_pbmc3k\")\n",
    "results_activa_pbmc3k = pd.read_csv(\"/home/icb/alessandro.palma/environment/cfgen/experiments/results/pbmc3k/activa_pbmc3k\")\n",
    "results_scgan_pbmc3k = pd.read_csv(\"/home/icb/alessandro.palma/environment/cfgen/experiments/results/pbmc3k/scgan_pbmc3k\")"
   ]
  },
  {
   "cell_type": "code",
   "execution_count": 68,
   "id": "6b9889be-9ba5-4fd1-be4b-d5f0ec7f9c13",
   "metadata": {},
   "outputs": [
    {
     "name": "stdout",
     "output_type": "stream",
     "text": [
      "Unnamed: 0 1.0 ± 0.58\n",
      "1-Wasserstein_PCA 16.66 ± 0.06\n",
      "2-Wasserstein_PCA 16.81 ± 0.06\n",
      "Linear_MMD_PCA 204.24 ± 2.01\n",
      "Poly_MMD_PCA 39695.49 ± 831.11\n",
      "RBF_MMD_PCA 0.44 ± 0.0\n",
      "KNN identity 0.66 ± 0.03\n",
      "KNN identity PCA 0.99 ± 0.0\n",
      "precision 0.33 ± 0.02\n",
      "recall 0.2 ± 0.01\n",
      "density 1.39 ± 0.04\n",
      "coverage 0.99 ± 0.01\n",
      "precision_PCA 0.44 ± 0.02\n",
      "recall_PCA 0.0 ± 0.0\n",
      "density_PCA 0.09 ± 0.01\n",
      "coverage_PCA 0.11 ± 0.01\n"
     ]
    }
   ],
   "source": [
    "compute_mean_std(results_celldreamer_pbmc3k)"
   ]
  },
  {
   "cell_type": "code",
   "execution_count": 69,
   "id": "41c54a9b-d2d0-441f-bf15-e37eb1407fb4",
   "metadata": {
    "scrolled": true
   },
   "outputs": [
    {
     "name": "stdout",
     "output_type": "stream",
     "text": [
      "Unnamed: 0 1.0 ± 0.58\n",
      "1-Wasserstein_PCA 18.89 ± 0.11\n",
      "2-Wasserstein_PCA 19.08 ± 0.12\n",
      "Linear_MMD_PCA 270.23 ± 6.17\n",
      "Poly_MMD_PCA 77596.24 ± 4357.65\n",
      "RBF_MMD_PCA 0.56 ± 0.01\n",
      "KNN identity 0.33 ± 0.0\n",
      "KNN identity PCA 0.99 ± 0.0\n",
      "precision 0.79 ± 0.03\n",
      "recall 0.03 ± 0.01\n",
      "density 0.69 ± 0.08\n",
      "coverage 0.48 ± 0.07\n",
      "precision_PCA 0.37 ± 0.02\n",
      "recall_PCA 0.0 ± 0.0\n",
      "density_PCA 0.16 ± 0.01\n",
      "coverage_PCA 0.23 ± 0.01\n"
     ]
    }
   ],
   "source": [
    "compute_mean_std(results_activa_pbmc3k)"
   ]
  },
  {
   "cell_type": "code",
   "execution_count": 70,
   "id": "64ad0c1e-dea3-47bb-8905-766fec6f7866",
   "metadata": {},
   "outputs": [
    {
     "name": "stdout",
     "output_type": "stream",
     "text": [
      "Unnamed: 0 1.0 ± 0.58\n",
      "1-Wasserstein_PCA 15.32 ± 0.05\n",
      "2-Wasserstein_PCA 15.54 ± 0.06\n",
      "Linear_MMD_PCA 241.48 ± 3.3\n",
      "Poly_MMD_PCA 77061.9 ± 1590.49\n",
      "RBF_MMD_PCA 0.36 ± 0.0\n",
      "KNN identity 0.58 ± 0.03\n",
      "KNN identity PCA 0.99 ± 0.0\n",
      "precision 0.8 ± 0.01\n",
      "recall 0.01 ± 0.0\n",
      "density 5.68 ± 0.12\n",
      "coverage 1.0 ± 0.0\n",
      "precision_PCA 0.65 ± 0.01\n",
      "recall_PCA 0.01 ± 0.0\n",
      "density_PCA 0.2 ± 0.0\n",
      "coverage_PCA 0.16 ± 0.0\n"
     ]
    }
   ],
   "source": [
    "compute_mean_std(results_scgan_pbmc3k)"
   ]
  },
  {
   "cell_type": "markdown",
   "id": "39a9a3ef-60ba-4ba3-a2ed-0f22a8c319cd",
   "metadata": {},
   "source": [
    "## HLCA"
   ]
  },
  {
   "cell_type": "code",
   "execution_count": 71,
   "id": "23ad4efb-6e87-4830-87f0-3167efc85fe2",
   "metadata": {},
   "outputs": [],
   "source": [
    "results_celldreamer_hlca = pd.read_csv(\"/home/icb/alessandro.palma/environment/cfgen/experiments/results/hlca_core/celldreamer_hlca_core\")\n",
    "results_activa_hlca = pd.read_csv(\"/home/icb/alessandro.palma/environment/cfgen/experiments/results/hlca_core/activa_hlca_core\")\n",
    "results_scgan_hlca = pd.read_csv(\"/home/icb/alessandro.palma/environment/cfgen/experiments/results/hlca_core/scgan_hlca_core\")"
   ]
  },
  {
   "cell_type": "code",
   "execution_count": 72,
   "id": "a7488a38-bc42-471c-94c2-32054ccfa830",
   "metadata": {},
   "outputs": [
    {
     "name": "stdout",
     "output_type": "stream",
     "text": [
      "Unnamed: 0 14.5 ± 1.61\n",
      "1-Wasserstein_PCA 11.02 ± 0.03\n",
      "2-Wasserstein_PCA 11.18 ± 0.04\n",
      "Linear_MMD_PCA 84.31 ± 1.04\n",
      "Poly_MMD_PCA 7293.84 ± 231.83\n",
      "RBF_MMD_PCA 0.15 ± 0.0\n",
      "KNN identity 0.66 ± 0.0\n",
      "KNN identity PCA 0.99 ± 0.0\n",
      "precision 0.68 ± 0.0\n",
      "recall 0.8 ± 0.0\n",
      "density 0.75 ± 0.01\n",
      "coverage 0.97 ± 0.0\n",
      "precision_PCA 0.24 ± 0.01\n",
      "recall_PCA 0.13 ± 0.0\n",
      "density_PCA 0.05 ± 0.0\n",
      "coverage_PCA 0.14 ± 0.0\n"
     ]
    }
   ],
   "source": [
    "compute_mean_std(results_celldreamer_hlca)"
   ]
  },
  {
   "cell_type": "code",
   "execution_count": 73,
   "id": "64e0e47c-f612-44c1-a08d-c67e305ddd05",
   "metadata": {},
   "outputs": [
    {
     "name": "stdout",
     "output_type": "stream",
     "text": [
      "Unnamed: 0 14.5 ± 1.61\n",
      "1-Wasserstein_PCA 11.26 ± 0.03\n",
      "2-Wasserstein_PCA 11.47 ± 0.03\n",
      "Linear_MMD_PCA 77.51 ± 0.67\n",
      "Poly_MMD_PCA 6475.26 ± 129.8\n",
      "RBF_MMD_PCA 0.23 ± 0.0\n",
      "KNN identity 0.37 ± 0.0\n",
      "KNN identity PCA 0.99 ± 0.0\n",
      "precision 0.86 ± 0.0\n",
      "recall 0.03 ± 0.0\n",
      "density 1.89 ± 0.02\n",
      "coverage 0.97 ± 0.0\n",
      "precision_PCA 0.4 ± 0.01\n",
      "recall_PCA 0.01 ± 0.0\n",
      "density_PCA 0.08 ± 0.0\n",
      "coverage_PCA 0.12 ± 0.0\n"
     ]
    }
   ],
   "source": [
    "compute_mean_std(results_activa_hlca)"
   ]
  },
  {
   "cell_type": "code",
   "execution_count": 74,
   "id": "eb783930-2f16-4196-aee4-db72715ccc42",
   "metadata": {},
   "outputs": [
    {
     "name": "stdout",
     "output_type": "stream",
     "text": [
      "Unnamed: 0 14.5 ± 1.61\n",
      "1-Wasserstein_PCA 10.81 ± 0.02\n",
      "2-Wasserstein_PCA 11.1 ± 0.02\n",
      "Linear_MMD_PCA 29.91 ± 0.6\n",
      "Poly_MMD_PCA 2767.81 ± 79.46\n",
      "RBF_MMD_PCA 0.18 ± 0.0\n",
      "KNN identity 0.84 ± 0.0\n",
      "KNN identity PCA 0.99 ± 0.0\n",
      "precision 0.37 ± 0.0\n",
      "recall 0.12 ± 0.0\n",
      "density 3.32 ± 0.05\n",
      "coverage 0.54 ± 0.0\n",
      "precision_PCA 0.47 ± 0.01\n",
      "recall_PCA 0.06 ± 0.0\n",
      "density_PCA 0.17 ± 0.0\n",
      "coverage_PCA 0.15 ± 0.0\n"
     ]
    }
   ],
   "source": [
    "compute_mean_std(results_scgan_hlca)"
   ]
  },
  {
   "cell_type": "markdown",
   "id": "b8356533-33a5-4ee3-886b-36ab8529174d",
   "metadata": {},
   "source": [
    "## Tabula Muris"
   ]
  },
  {
   "cell_type": "code",
   "execution_count": 75,
   "id": "416e7fcf-ce41-451e-ab72-b036a737bde7",
   "metadata": {},
   "outputs": [],
   "source": [
    "results_celldreamer_tabula = pd.read_csv(\"/home/icb/alessandro.palma/environment/cfgen/experiments/results/tabula_muris/celldreamer_tabula_muris\")\n",
    "results_activa_tabula = pd.read_csv(\"/home/icb/alessandro.palma/environment/cfgen/experiments/results/tabula_muris/activa_tabula_muris\")\n",
    "results_scgan_tabula = pd.read_csv(\"/home/icb/alessandro.palma/environment/cfgen/experiments/results/tabula_muris/scgan_tabula_muris\")"
   ]
  },
  {
   "cell_type": "code",
   "execution_count": 76,
   "id": "1824c01d-b8ea-43db-afbe-e488df809f31",
   "metadata": {},
   "outputs": [
    {
     "name": "stdout",
     "output_type": "stream",
     "text": [
      "Unnamed: 0 14.5 ± 1.61\n",
      "1-Wasserstein_PCA 8.02 ± 0.04\n",
      "2-Wasserstein_PCA 8.54 ± 0.06\n",
      "Linear_MMD_PCA 36.52 ± 1.09\n",
      "Poly_MMD_PCA 1454.02 ± 315.2\n",
      "RBF_MMD_PCA 0.08 ± 0.0\n",
      "KNN identity 0.69 ± 0.0\n",
      "KNN identity PCA 0.98 ± 0.0\n",
      "precision 0.72 ± 0.0\n",
      "recall 0.84 ± 0.0\n",
      "density 0.65 ± 0.01\n",
      "coverage 0.96 ± 0.0\n",
      "precision_PCA 0.53 ± 0.01\n",
      "recall_PCA 0.26 ± 0.0\n",
      "density_PCA 0.15 ± 0.0\n",
      "coverage_PCA 0.25 ± 0.0\n"
     ]
    }
   ],
   "source": [
    "compute_mean_std(results_celldreamer_tabula)"
   ]
  },
  {
   "cell_type": "code",
   "execution_count": 77,
   "id": "12da7416-9c17-4bb4-a598-dab90beced80",
   "metadata": {},
   "outputs": [
    {
     "name": "stdout",
     "output_type": "stream",
     "text": [
      "Unnamed: 0 14.5 ± 1.61\n",
      "1-Wasserstein_PCA 8.67 ± 0.11\n",
      "2-Wasserstein_PCA 14.46 ± 3.2\n",
      "Linear_MMD_PCA 17.72 ± 0.87\n",
      "Poly_MMD_PCA -2920.6 ± 4568.08\n",
      "RBF_MMD_PCA 0.15 ± 0.0\n",
      "KNN identity 0.48 ± 0.0\n",
      "KNN identity PCA 0.97 ± 0.0\n",
      "precision 0.95 ± 0.0\n",
      "recall 0.11 ± 0.0\n",
      "density 5.18 ± 0.08\n",
      "coverage 1.0 ± 0.0\n",
      "precision_PCA 0.79 ± 0.01\n",
      "recall_PCA 0.19 ± 0.0\n",
      "density_PCA 0.31 ± 0.01\n",
      "coverage_PCA 0.27 ± 0.0\n"
     ]
    }
   ],
   "source": [
    "compute_mean_std(results_activa_tabula)"
   ]
  },
  {
   "cell_type": "code",
   "execution_count": 78,
   "id": "53c628f7-cb7a-48a7-a859-768c7c69235b",
   "metadata": {},
   "outputs": [
    {
     "name": "stdout",
     "output_type": "stream",
     "text": [
      "Unnamed: 0 14.5 ± 1.61\n",
      "1-Wasserstein_PCA 12.07 ± 0.03\n",
      "2-Wasserstein_PCA 12.85 ± 0.04\n",
      "Linear_MMD_PCA 17.19 ± 0.55\n",
      "Poly_MMD_PCA 3583.23 ± 133.01\n",
      "RBF_MMD_PCA 0.25 ± 0.0\n",
      "KNN identity 0.77 ± 0.01\n",
      "KNN identity PCA 0.99 ± 0.0\n",
      "precision 0.14 ± 0.0\n",
      "recall 0.14 ± 0.0\n",
      "density 0.79 ± 0.03\n",
      "coverage 0.31 ± 0.0\n",
      "precision_PCA 0.64 ± 0.02\n",
      "recall_PCA 0.04 ± 0.0\n",
      "density_PCA 0.21 ± 0.01\n",
      "coverage_PCA 0.09 ± 0.0\n"
     ]
    }
   ],
   "source": [
    "compute_mean_std(results_scgan_tabula)"
   ]
  },
  {
   "cell_type": "markdown",
   "id": "24b0c664-79d5-491a-a201-4b0deb06196f",
   "metadata": {},
   "source": [
    "## Dentategyrus"
   ]
  },
  {
   "cell_type": "code",
   "execution_count": 79,
   "id": "70f27c52-2f26-4f11-84a3-f0eace9079c8",
   "metadata": {},
   "outputs": [],
   "source": [
    "results_celldreamer_dentate = pd.read_csv(\"/home/icb/alessandro.palma/environment/cfgen/experiments/results/dentategyrus/celldreamer_dentategyrus\")\n",
    "results_activa_dentate = pd.read_csv(\"/home/icb/alessandro.palma/environment/cfgen/experiments/results/dentategyrus/activa_dentategyrus\")\n",
    "results_scgan_dentate = pd.read_csv(\"/home/icb/alessandro.palma/environment/cfgen/experiments/results/dentategyrus/scgan_dentategyrus\")"
   ]
  },
  {
   "cell_type": "code",
   "execution_count": 80,
   "id": "79f85ff1-016b-4806-a795-0bb69c55c315",
   "metadata": {},
   "outputs": [
    {
     "name": "stdout",
     "output_type": "stream",
     "text": [
      "Unnamed: 0 1.0 ± 0.58\n",
      "1-Wasserstein_PCA 21.11 ± 0.02\n",
      "2-Wasserstein_PCA 21.2 ± 0.02\n",
      "Linear_MMD_PCA 419.44 ± 1.9\n",
      "Poly_MMD_PCA 167675.54 ± 2185.17\n",
      "RBF_MMD_PCA 0.42 ± 0.0\n",
      "KNN identity 0.64 ± 0.0\n",
      "KNN identity PCA 1.0 ± 0.0\n",
      "precision 0.41 ± 0.0\n",
      "recall 0.7 ± 0.01\n",
      "density 0.62 ± 0.01\n",
      "coverage 0.84 ± 0.01\n",
      "precision_PCA 0.0 ± 0.0\n",
      "recall_PCA 0.43 ± 0.06\n",
      "density_PCA 0.0 ± 0.0\n",
      "coverage_PCA 0.0 ± 0.0\n"
     ]
    }
   ],
   "source": [
    "compute_mean_std(results_celldreamer_dentate)"
   ]
  },
  {
   "cell_type": "code",
   "execution_count": 81,
   "id": "fb294632-ea20-449c-b73b-334a099767f1",
   "metadata": {},
   "outputs": [
    {
     "name": "stdout",
     "output_type": "stream",
     "text": [
      "Unnamed: 0 1.0 ± 0.58\n",
      "1-Wasserstein_PCA 22.48 ± 0.08\n",
      "2-Wasserstein_PCA 22.72 ± 0.11\n",
      "Linear_MMD_PCA 466.25 ± 2.07\n",
      "Poly_MMD_PCA 204073.03 ± 1789.8\n",
      "RBF_MMD_PCA 0.56 ± 0.0\n",
      "KNN identity 0.33 ± 0.0\n",
      "KNN identity PCA 1.0 ± 0.0\n",
      "precision 0.99 ± 0.0\n",
      "recall 0.0 ± 0.0\n",
      "density 42.99 ± 0.9\n",
      "coverage 1.0 ± 0.0\n",
      "precision_PCA 0.0 ± 0.0\n",
      "recall_PCA 0.5 ± 0.12\n",
      "density_PCA 0.0 ± 0.0\n",
      "coverage_PCA 0.0 ± 0.0\n"
     ]
    }
   ],
   "source": [
    "compute_mean_std(results_activa_dentate)"
   ]
  },
  {
   "cell_type": "code",
   "execution_count": 84,
   "id": "6cf9bee8-04d1-4900-be99-ce8374a68d0a",
   "metadata": {},
   "outputs": [
    {
     "name": "stdout",
     "output_type": "stream",
     "text": [
      "Unnamed: 0 1.0 ± 0.58\n",
      "1-Wasserstein_PCA 22.44 ± 0.03\n",
      "2-Wasserstein_PCA 22.52 ± 0.03\n",
      "Linear_MMD_PCA 616.04 ± 0.1\n",
      "Poly_MMD_PCA 411409.1 ± 1121.23\n",
      "RBF_MMD_PCA 0.42 ± 0.0\n",
      "KNN identity 0.61 ± 0.0\n",
      "KNN identity PCA 1.0 ± 0.0\n",
      "precision 0.64 ± 0.01\n",
      "recall 0.15 ± 0.0\n",
      "density 2.03 ± 0.02\n",
      "coverage 0.92 ± 0.0\n",
      "precision_PCA 0.0 ± 0.0\n",
      "recall_PCA 0.0 ± 0.0\n",
      "density_PCA 0.0 ± 0.0\n",
      "coverage_PCA 0.0 ± 0.0\n"
     ]
    }
   ],
   "source": [
    "compute_mean_std(results_scgan_dentate)"
   ]
  },
  {
   "cell_type": "markdown",
   "id": "9f9c6b94-9382-4874-8e55-c1889e7b5661",
   "metadata": {},
   "source": [
    "## Check ranges"
   ]
  },
  {
   "cell_type": "code",
   "execution_count": 83,
   "id": "34f57750-615b-4bc4-a935-a85edc36d82e",
   "metadata": {},
   "outputs": [],
   "source": [
    "adata_scgan = sc.read_h5ad(\"/home/icb/alessandro.palma/environment/cfgen/project_folder/baseline_experiments/scgan/model_runs/hlca_core/hlca_core_generated_0.h5ad\")"
   ]
  },
  {
   "cell_type": "code",
   "execution_count": 40,
   "id": "8d79ef27-a8dc-4439-8638-17d4f25fcbf7",
   "metadata": {},
   "outputs": [],
   "source": [
    "# adata_cfgen = sc.read_h5ad(\"/home/icb/alessandro.palma/environment/cfgen/project_folder/datasets/generated/hlca_core/generated_cells_0.h5ad\")"
   ]
  },
  {
   "cell_type": "code",
   "execution_count": null,
   "id": "fae4e641-eaed-490b-81e6-4d491d04570a",
   "metadata": {
    "scrolled": true
   },
   "outputs": [],
   "source": [
    "adata_original = sc.read_h5ad(\"/home/icb/alessandro.palma/environment/cfgen/project_folder/datasets/processed_full_genome/hlca_core/hlca_core_test.h5ad\")\n",
    "adata_original.X = adata_original.layers[\"X_counts\"].A.copy()\n",
    "adata_original = adata_original[:,adata_scgan.var.index]\n",
    "sc.pp.normalize_total(adata_original, target_sum=1e4)\n",
    "sc.pp.log1p(adata_original)"
   ]
  },
  {
   "cell_type": "code",
   "execution_count": null,
   "id": "1aa9020a-4221-4fb7-a820-982f32fe53ec",
   "metadata": {},
   "outputs": [],
   "source": [
    "sc.pp.normalize_total(adata_scgan, target_sum=1e4)"
   ]
  },
  {
   "cell_type": "code",
   "execution_count": null,
   "id": "2e85f636-4ed2-467d-a5a7-1aefaf32777d",
   "metadata": {},
   "outputs": [],
   "source": [
    "# adata_scgan.X.sum(1)\n",
    "sc.pp.log1p(adata_scgan)"
   ]
  },
  {
   "cell_type": "code",
   "execution_count": null,
   "id": "a935199a-c505-4f5b-b7ba-ba77825f3a48",
   "metadata": {},
   "outputs": [],
   "source": [
    "adata_scgan.X.A.sum(1).mean()"
   ]
  },
  {
   "cell_type": "code",
   "execution_count": null,
   "id": "19e63853-45eb-4007-8a64-148f5be2f454",
   "metadata": {},
   "outputs": [],
   "source": [
    "adata_original.X.sum(1).mean()"
   ]
  },
  {
   "cell_type": "code",
   "execution_count": null,
   "id": "311ca7aa-c40e-4ee6-a8ee-75650ef17ca7",
   "metadata": {},
   "outputs": [],
   "source": [
    "# adata_merged = sc.AnnData(X=np.concatenate([adata_original.X.copy().A, adata_cfgen.X.copy().A]),\n",
    "#                           obs={\"dataset\": [\"real\" for _ in range(len(adata_original))]+[\"fake\" for _ in range(len(adata_cfgen))]})\n",
    "\n",
    "adata_merged = sc.AnnData(X=np.concatenate([adata_original.X.copy(), adata_scgan.X.copy().A]),\n",
    "                          obs={\"dataset\": [\"real\" for _ in range(len(adata_original))]+[\"fake\" for _ in range(len(adata_scgan))]})"
   ]
  },
  {
   "cell_type": "code",
   "execution_count": null,
   "id": "bcd96a79-037e-44a4-9528-bf228d8c99ae",
   "metadata": {},
   "outputs": [],
   "source": [
    "sc.tl.pca(adata_merged)\n",
    "sc.pp.neighbors(adata_merged)\n",
    "sc.tl.umap(adata_merged)"
   ]
  },
  {
   "cell_type": "code",
   "execution_count": null,
   "id": "22a86139-bb33-48e6-86e8-adb8616dc6e5",
   "metadata": {},
   "outputs": [],
   "source": [
    "sc.pl.umap(adata_merged, color=\"dataset\")"
   ]
  },
  {
   "cell_type": "code",
   "execution_count": null,
   "id": "51e85433-28d6-4275-b3a8-f7fbbb98091a",
   "metadata": {},
   "outputs": [],
   "source": []
  },
  {
   "cell_type": "code",
   "execution_count": 37,
   "id": "aa55a7f8-6f7a-4af2-82d8-9a214ae42812",
   "metadata": {},
   "outputs": [
    {
     "ename": "NameError",
     "evalue": "name 'adata_original' is not defined",
     "output_type": "error",
     "traceback": [
      "\u001b[0;31m---------------------------------------------------------------------------\u001b[0m",
      "\u001b[0;31mNameError\u001b[0m                                 Traceback (most recent call last)",
      "Cell \u001b[0;32mIn[37], line 1\u001b[0m\n\u001b[0;32m----> 1\u001b[0m (\u001b[43madata_original\u001b[49m\u001b[38;5;241m.\u001b[39mX\u001b[38;5;241m>\u001b[39m\u001b[38;5;241m0\u001b[39m)\u001b[38;5;241m.\u001b[39msum(\u001b[38;5;241m1\u001b[39m)\u001b[38;5;241m.\u001b[39mmean()\n",
      "\u001b[0;31mNameError\u001b[0m: name 'adata_original' is not defined"
     ]
    }
   ],
   "source": [
    "(adata_original.X>0).sum(1).mean()"
   ]
  },
  {
   "cell_type": "code",
   "execution_count": null,
   "id": "d56e9e86-bdda-4698-b908-662526903bb3",
   "metadata": {},
   "outputs": [],
   "source": [
    "(adata_scgan.X>0).sum(1).mean()"
   ]
  },
  {
   "cell_type": "code",
   "execution_count": null,
   "id": "b4eae146-3380-43e0-863f-3512b6445cd5",
   "metadata": {},
   "outputs": [],
   "source": []
  }
 ],
 "metadata": {
  "kernelspec": {
   "display_name": "Python 3 (ipykernel)",
   "language": "python",
   "name": "python3"
  },
  "language_info": {
   "codemirror_mode": {
    "name": "ipython",
    "version": 3
   },
   "file_extension": ".py",
   "mimetype": "text/x-python",
   "name": "python",
   "nbconvert_exporter": "python",
   "pygments_lexer": "ipython3",
   "version": "3.10.13"
  }
 },
 "nbformat": 4,
 "nbformat_minor": 5
}
