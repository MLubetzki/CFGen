{
 "cells": [
  {
   "cell_type": "markdown",
   "id": "10dd506e-7645-4210-887f-cee3d39b85be",
   "metadata": {},
   "source": [
    "# Read real and generated datasets "
   ]
  },
  {
   "cell_type": "code",
   "execution_count": 89,
   "id": "86c3c0cf-a378-4d79-9b7d-fe39f776c31b",
   "metadata": {},
   "outputs": [],
   "source": [
    "import scanpy as sc\n",
    "from celldreamer.eval.compute_evaluation_metrics import process_labels, compute_evaluation_metrics\n",
    "from scipy import sparse\n",
    "import pandas as pd"
   ]
  },
  {
   "cell_type": "code",
   "execution_count": 90,
   "id": "0aee51a1-e7c0-46c5-90a0-9cab89f6315e",
   "metadata": {},
   "outputs": [],
   "source": [
    "def add_to_dict(d, metrics):\n",
    "    for metric in metrics:\n",
    "        if metric not in d:\n",
    "            d[metric] = [metrics[metric]]\n",
    "        else:\n",
    "            d[metric]+=[metrics[metric]]\n",
    "    return d"
   ]
  },
  {
   "cell_type": "code",
   "execution_count": 105,
   "id": "501cb928-b44f-49a9-ae3b-08d16e11dd3e",
   "metadata": {},
   "outputs": [],
   "source": [
    "adata_real_path = \"/home/icb/alessandro.palma/environment/celldreamer/project_folder/datasets/processed_full_genome/hlca_core/hlca_core_test.h5ad\"\n",
    "adata_real = sc.read_h5ad(adata_real_path)"
   ]
  },
  {
   "cell_type": "code",
   "execution_count": 106,
   "id": "a27c38d3-5334-4754-9c99-1c308bb9d770",
   "metadata": {},
   "outputs": [],
   "source": [
    "n_obs = adata_real.shape[0]"
   ]
  },
  {
   "cell_type": "code",
   "execution_count": 107,
   "id": "e70702fa-8c9b-4e0d-a215-9f2663347cc7",
   "metadata": {
    "scrolled": true
   },
   "outputs": [
    {
     "ename": "KeyboardInterrupt",
     "evalue": "",
     "output_type": "error",
     "traceback": [
      "\u001b[0;31m---------------------------------------------------------------------------\u001b[0m",
      "\u001b[0;31mKeyboardInterrupt\u001b[0m                         Traceback (most recent call last)",
      "Cell \u001b[0;32mIn[107], line 16\u001b[0m\n\u001b[1;32m     14\u001b[0m adata_generated_path_scDiffusion \u001b[38;5;241m=\u001b[39m \u001b[38;5;124mf\u001b[39m\u001b[38;5;124m\"\u001b[39m\u001b[38;5;124m/home/icb/alessandro.palma/environment/celldreamer/project_folder/baseline_experiments/scDiffusion/generated/hlca_core/generated_cells_\u001b[39m\u001b[38;5;132;01m{\u001b[39;00mi\u001b[38;5;132;01m}\u001b[39;00m\u001b[38;5;124m.h5ad\u001b[39m\u001b[38;5;124m\"\u001b[39m\n\u001b[1;32m     15\u001b[0m adata_generated_scDiffusion \u001b[38;5;241m=\u001b[39m sc\u001b[38;5;241m.\u001b[39mread_h5ad(adata_generated_path_scDiffusion)[\u001b[38;5;241m-\u001b[39mn_obs:]\n\u001b[0;32m---> 16\u001b[0m \u001b[43madata_generated_scDiffusion\u001b[49m\u001b[38;5;241;43m.\u001b[39;49m\u001b[43mX\u001b[49m \u001b[38;5;241m=\u001b[39m sparse\u001b[38;5;241m.\u001b[39mcsr_matrix(adata_generated_scDiffusion\u001b[38;5;241m.\u001b[39mX\u001b[38;5;241m.\u001b[39mcopy())\n\u001b[1;32m     17\u001b[0m adata_generated_scDiffusion \u001b[38;5;241m=\u001b[39m process_labels(adata_real, adata_generated_scDiffusion, \u001b[38;5;124m\"\u001b[39m\u001b[38;5;124mcell_type\u001b[39m\u001b[38;5;124m\"\u001b[39m, categorical_obs\u001b[38;5;241m=\u001b[39m\u001b[38;5;28;01mFalse\u001b[39;00m)\n\u001b[1;32m     19\u001b[0m results_celldreamer_i \u001b[38;5;241m=\u001b[39m compute_evaluation_metrics(adata_real, adata_generated_celldreamer, \u001b[38;5;124m\"\u001b[39m\u001b[38;5;124mcell_type\u001b[39m\u001b[38;5;124m\"\u001b[39m, conditional\u001b[38;5;241m=\u001b[39m\u001b[38;5;28;01mTrue\u001b[39;00m, nn\u001b[38;5;241m=\u001b[39m\u001b[38;5;241m10\u001b[39m)\n",
      "File \u001b[0;32m~/miniconda3/envs/celldreamer/lib/python3.10/site-packages/anndata/_core/anndata.py:740\u001b[0m, in \u001b[0;36mAnnData.X\u001b[0;34m(self, value)\u001b[0m\n\u001b[1;32m    736\u001b[0m     \u001b[38;5;28;01mif\u001b[39;00m sparse\u001b[38;5;241m.\u001b[39missparse(\u001b[38;5;28mself\u001b[39m\u001b[38;5;241m.\u001b[39m_adata_ref\u001b[38;5;241m.\u001b[39m_X) \u001b[38;5;129;01mand\u001b[39;00m \u001b[38;5;28misinstance\u001b[39m(\n\u001b[1;32m    737\u001b[0m         value, np\u001b[38;5;241m.\u001b[39mndarray\n\u001b[1;32m    738\u001b[0m     ):\n\u001b[1;32m    739\u001b[0m         value \u001b[38;5;241m=\u001b[39m sparse\u001b[38;5;241m.\u001b[39mcoo_matrix(value)\n\u001b[0;32m--> 740\u001b[0m     \u001b[38;5;28;43mself\u001b[39;49m\u001b[38;5;241;43m.\u001b[39;49m\u001b[43m_adata_ref\u001b[49m\u001b[38;5;241;43m.\u001b[39;49m\u001b[43m_X\u001b[49m\u001b[43m[\u001b[49m\u001b[43moidx\u001b[49m\u001b[43m,\u001b[49m\u001b[43m \u001b[49m\u001b[43mvidx\u001b[49m\u001b[43m]\u001b[49m \u001b[38;5;241m=\u001b[39m value\n\u001b[1;32m    741\u001b[0m \u001b[38;5;28;01melse\u001b[39;00m:\n\u001b[1;32m    742\u001b[0m     \u001b[38;5;28mself\u001b[39m\u001b[38;5;241m.\u001b[39m_X \u001b[38;5;241m=\u001b[39m value\n",
      "File \u001b[0;32m~/miniconda3/envs/celldreamer/lib/python3.10/site-packages/scipy/sparse/_index.py:133\u001b[0m, in \u001b[0;36mIndexMixin.__setitem__\u001b[0;34m(self, key, x)\u001b[0m\n\u001b[1;32m    131\u001b[0m         \u001b[38;5;28;01mreturn\u001b[39;00m\n\u001b[1;32m    132\u001b[0m     x \u001b[38;5;241m=\u001b[39m x\u001b[38;5;241m.\u001b[39mtocoo(copy\u001b[38;5;241m=\u001b[39m\u001b[38;5;28;01mTrue\u001b[39;00m)\n\u001b[0;32m--> 133\u001b[0m     \u001b[43mx\u001b[49m\u001b[38;5;241;43m.\u001b[39;49m\u001b[43msum_duplicates\u001b[49m\u001b[43m(\u001b[49m\u001b[43m)\u001b[49m\n\u001b[1;32m    134\u001b[0m     \u001b[38;5;28mself\u001b[39m\u001b[38;5;241m.\u001b[39m_set_arrayXarray_sparse(i, j, x)\n\u001b[1;32m    135\u001b[0m \u001b[38;5;28;01melse\u001b[39;00m:\n\u001b[1;32m    136\u001b[0m     \u001b[38;5;66;03m# Make x and i into the same shape\u001b[39;00m\n",
      "File \u001b[0;32m~/miniconda3/envs/celldreamer/lib/python3.10/site-packages/scipy/sparse/_coo.py:537\u001b[0m, in \u001b[0;36m_coo_base.sum_duplicates\u001b[0;34m(self)\u001b[0m\n\u001b[1;32m    535\u001b[0m \u001b[38;5;28;01mif\u001b[39;00m \u001b[38;5;28mself\u001b[39m\u001b[38;5;241m.\u001b[39mhas_canonical_format:\n\u001b[1;32m    536\u001b[0m     \u001b[38;5;28;01mreturn\u001b[39;00m\n\u001b[0;32m--> 537\u001b[0m summed \u001b[38;5;241m=\u001b[39m \u001b[38;5;28;43mself\u001b[39;49m\u001b[38;5;241;43m.\u001b[39;49m\u001b[43m_sum_duplicates\u001b[49m\u001b[43m(\u001b[49m\u001b[38;5;28;43mself\u001b[39;49m\u001b[38;5;241;43m.\u001b[39;49m\u001b[43mrow\u001b[49m\u001b[43m,\u001b[49m\u001b[43m \u001b[49m\u001b[38;5;28;43mself\u001b[39;49m\u001b[38;5;241;43m.\u001b[39;49m\u001b[43mcol\u001b[49m\u001b[43m,\u001b[49m\u001b[43m \u001b[49m\u001b[38;5;28;43mself\u001b[39;49m\u001b[38;5;241;43m.\u001b[39;49m\u001b[43mdata\u001b[49m\u001b[43m)\u001b[49m\n\u001b[1;32m    538\u001b[0m \u001b[38;5;28mself\u001b[39m\u001b[38;5;241m.\u001b[39mrow, \u001b[38;5;28mself\u001b[39m\u001b[38;5;241m.\u001b[39mcol, \u001b[38;5;28mself\u001b[39m\u001b[38;5;241m.\u001b[39mdata \u001b[38;5;241m=\u001b[39m summed\n\u001b[1;32m    539\u001b[0m \u001b[38;5;28mself\u001b[39m\u001b[38;5;241m.\u001b[39mhas_canonical_format \u001b[38;5;241m=\u001b[39m \u001b[38;5;28;01mTrue\u001b[39;00m\n",
      "File \u001b[0;32m~/miniconda3/envs/celldreamer/lib/python3.10/site-packages/scipy/sparse/_coo.py:548\u001b[0m, in \u001b[0;36m_coo_base._sum_duplicates\u001b[0;34m(self, row, col, data)\u001b[0m\n\u001b[1;32m    544\u001b[0m     \u001b[38;5;28;01mreturn\u001b[39;00m row, col, data\n\u001b[1;32m    545\u001b[0m \u001b[38;5;66;03m# Sort indices w.r.t. rows, then cols. This corresponds to C-order,\u001b[39;00m\n\u001b[1;32m    546\u001b[0m \u001b[38;5;66;03m# which we rely on for argmin/argmax to return the first index in the\u001b[39;00m\n\u001b[1;32m    547\u001b[0m \u001b[38;5;66;03m# same way that numpy does (in the case of ties).\u001b[39;00m\n\u001b[0;32m--> 548\u001b[0m order \u001b[38;5;241m=\u001b[39m \u001b[43mnp\u001b[49m\u001b[38;5;241;43m.\u001b[39;49m\u001b[43mlexsort\u001b[49m\u001b[43m(\u001b[49m\u001b[43m(\u001b[49m\u001b[43mcol\u001b[49m\u001b[43m,\u001b[49m\u001b[43m \u001b[49m\u001b[43mrow\u001b[49m\u001b[43m)\u001b[49m\u001b[43m)\u001b[49m\n\u001b[1;32m    549\u001b[0m row \u001b[38;5;241m=\u001b[39m row[order]\n\u001b[1;32m    550\u001b[0m col \u001b[38;5;241m=\u001b[39m col[order]\n",
      "\u001b[0;31mKeyboardInterrupt\u001b[0m: "
     ]
    }
   ],
   "source": [
    "results_celldreamer = {}\n",
    "results_scvi = {} \n",
    "results_scdiff = {}\n",
    "\n",
    "for i in range(3):\n",
    "    # adata_generated_path_celldreamer = f\"/home/icb/alessandro.palma/environment/celldreamer/project_folder/datasets/generated/pbmc3k/generated_cells_{i}.h5ad\"\n",
    "    # adata_generated_celldreamer = sc.read_h5ad(adata_generated_path_celldreamer)\n",
    "\n",
    "    # adata_generated_path_scvi = f\"/home/icb/alessandro.palma/environment/celldreamer/project_folder/baseline_experiments/scvi/pbmc3k/generated/pbmc3k_{i}.h5ad\"\n",
    "    # adata_generated_scvi = sc.read_h5ad(adata_generated_path_scvi)\n",
    "    # adata_generated_scvi.X = sparse.csr_matrix(adata_generated_scvi.X)\n",
    "    # adata_generated_scvi = process_labels(adata_real, adata_generated_scvi, \"cell_type\", categorical_obs=True)\n",
    "\n",
    "    adata_generated_path_scDiffusion = f\"/home/icb/alessandro.palma/environment/celldreamer/project_folder/baseline_experiments/scDiffusion/generated/tabula_muris/generated_cells_{i}.h5ad\"\n",
    "    adata_generated_scDiffusion = sc.read_h5ad(adata_generated_path_scDiffusion)[-n_obs:]\n",
    "    adata_generated_scDiffusion.X = sparse.csr_matrix(adata_generated_scDiffusion.X.copy())\n",
    "    adata_generated_scDiffusion = process_labels(adata_real, adata_generated_scDiffusion, \"cell_type\", categorical_obs=False)\n",
    "\n",
    "    results_celldreamer_i = compute_evaluation_metrics(adata_real, adata_generated_celldreamer, \"cell_type\", conditional=True, nn=10)\n",
    "    results_scvi_i = compute_evaluation_metrics(adata_real, adata_generated_scvi, \"cell_type\", conditional=True, nn=10)\n",
    "    results_scdiff_i = compute_evaluation_metrics(adata_real, adata_generated_scDiffusion, \"cell_type\", conditional=True, nn=10)\n",
    "\n",
    "    results_celldreamer = add_to_dict(results_celldreamer, results_celldreamer_i)\n",
    "    results_scvi = add_to_dict(results_scvi, results_scvi_i)\n",
    "    results_scdiff = add_to_dict(results_scdiff, results_scdiff_i)"
   ]
  },
  {
   "cell_type": "code",
   "execution_count": 113,
   "id": "9e78b492-1feb-428b-b8ad-3b1ab0f739c2",
   "metadata": {},
   "outputs": [],
   "source": [
    "a = sc.read_h5ad(f\"/home/icb/alessandro.palma/environment/celldreamer/project_folder/baseline_experiments/scDiffusion/generated/tabula_muris/generated_cells_{i}.h5ad\")"
   ]
  },
  {
   "cell_type": "code",
   "execution_count": 115,
   "id": "87ceaf16-216f-4b78-b410-9a7ca3dbd29f",
   "metadata": {},
   "outputs": [
    {
     "data": {
      "text/plain": [
       "<110560x19734 sparse matrix of type '<class 'numpy.float32'>'\n",
       "\twith 456611850 stored elements in Compressed Sparse Row format>"
      ]
     },
     "execution_count": 115,
     "metadata": {},
     "output_type": "execute_result"
    }
   ],
   "source": [
    "a.X"
   ]
  },
  {
   "cell_type": "code",
   "execution_count": 94,
   "id": "4d3bea40-7a49-4d9f-b616-b9fb57bd0225",
   "metadata": {},
   "outputs": [],
   "source": [
    "results_celldreamer_df = pd.DataFrame(results_celldreamer)\n",
    "results_scvi_df = pd.DataFrame(results_scvi)\n",
    "results_scdiff_df = pd.DataFrame(results_scdiff)"
   ]
  },
  {
   "cell_type": "code",
   "execution_count": 95,
   "id": "9c704e97-9f69-4754-998b-0456c452023a",
   "metadata": {},
   "outputs": [
    {
     "data": {
      "text/plain": [
       "1-Wasserstein_PCA       18.212159\n",
       "2-Wasserstein_PCA       18.359532\n",
       "Linear_MMD_PCA         208.269852\n",
       "Poly_MMD_PCA         41245.282552\n",
       "1-Wasserstein           32.323120\n",
       "2-Wasserstein           32.412764\n",
       "Linear_MMD               8.713562\n",
       "Poly_MMD             10913.864583\n",
       "KNN identity             0.106061\n",
       "KNN identity PCA         0.000000\n",
       "precision                0.326389\n",
       "recall                   0.199495\n",
       "density                  1.390467\n",
       "coverage                 0.987374\n",
       "precision_PCA            0.779672\n",
       "recall_PCA               0.001894\n",
       "density_PCA              0.396717\n",
       "coverage_PCA             0.314394\n",
       "KNN category             0.727904\n",
       "KNN category PCA         0.730429\n",
       "dtype: float64"
      ]
     },
     "execution_count": 95,
     "metadata": {},
     "output_type": "execute_result"
    }
   ],
   "source": [
    "results_celldreamer_df.mean(0)"
   ]
  },
  {
   "cell_type": "code",
   "execution_count": 96,
   "id": "1576b717-bfcd-4543-adc6-6afba3dd6ce3",
   "metadata": {},
   "outputs": [
    {
     "data": {
      "text/plain": [
       "1-Wasserstein_PCA       19.005442\n",
       "2-Wasserstein_PCA       19.137676\n",
       "Linear_MMD_PCA         244.383372\n",
       "Poly_MMD_PCA         56094.671875\n",
       "1-Wasserstein           32.041432\n",
       "2-Wasserstein           32.104638\n",
       "Linear_MMD               2.021483\n",
       "Poly_MMD              2165.619792\n",
       "KNN identity             0.635732\n",
       "KNN identity PCA         0.000000\n",
       "precision                0.250631\n",
       "recall                   0.532828\n",
       "density                  0.351073\n",
       "coverage                 0.943813\n",
       "precision_PCA            0.653409\n",
       "recall_PCA               0.000000\n",
       "density_PCA              0.236932\n",
       "coverage_PCA             0.218434\n",
       "KNN category             0.797980\n",
       "KNN category PCA         0.775253\n",
       "dtype: float64"
      ]
     },
     "execution_count": 96,
     "metadata": {},
     "output_type": "execute_result"
    }
   ],
   "source": [
    "results_scvi_df.mean(0)"
   ]
  },
  {
   "cell_type": "code",
   "execution_count": 97,
   "id": "c52120ca-a0f8-4130-995c-87f08292cdc7",
   "metadata": {},
   "outputs": [
    {
     "data": {
      "text/plain": [
       "1-Wasserstein_PCA        22.238991\n",
       "2-Wasserstein_PCA        22.503291\n",
       "Linear_MMD_PCA          484.615346\n",
       "Poly_MMD_PCA         326801.156250\n",
       "1-Wasserstein            27.431624\n",
       "2-Wasserstein            27.589853\n",
       "Linear_MMD              229.644613\n",
       "Poly_MMD             469771.395833\n",
       "KNN identity              0.000000\n",
       "KNN identity PCA          0.000000\n",
       "precision                 0.893939\n",
       "recall                    0.247475\n",
       "density                   2.682449\n",
       "coverage                  0.823232\n",
       "precision_PCA             0.179924\n",
       "recall_PCA                0.001894\n",
       "density_PCA               0.035480\n",
       "coverage_PCA              0.104798\n",
       "KNN category              0.766414\n",
       "KNN category PCA          0.798611\n",
       "dtype: float64"
      ]
     },
     "execution_count": 97,
     "metadata": {},
     "output_type": "execute_result"
    }
   ],
   "source": [
    "results_scdiff_df.mean(0)"
   ]
  },
  {
   "cell_type": "code",
   "execution_count": null,
   "id": "cab51c79-0112-4265-80b9-3589ac581cf8",
   "metadata": {},
   "outputs": [],
   "source": []
  },
  {
   "cell_type": "code",
   "execution_count": null,
   "id": "62c19682-2104-4ba1-9e02-13b6ee1c5548",
   "metadata": {},
   "outputs": [],
   "source": []
  },
  {
   "cell_type": "code",
   "execution_count": 141,
   "id": "cd583706-5955-4f6d-935d-e2f533797b17",
   "metadata": {},
   "outputs": [],
   "source": [
    "adata_train = sc.read_h5ad(\"/home/icb/alessandro.palma/environment/celldreamer/project_folder/datasets/processed/classifier_experiment/pbmc_covid_train.h5ad\")"
   ]
  },
  {
   "cell_type": "code",
   "execution_count": 143,
   "id": "af2c4395-cb5f-4db4-afd5-f7bfc01884f5",
   "metadata": {},
   "outputs": [],
   "source": [
    "adata_test = sc.read_h5ad(\"/home/icb/alessandro.palma/environment/celldreamer/project_folder/datasets/processed/classifier_experiment/pbmc_covid_test.h5ad\")"
   ]
  },
  {
   "cell_type": "code",
   "execution_count": 147,
   "id": "b7f896cb-5484-4566-b4e5-14c4f8ed291f",
   "metadata": {},
   "outputs": [
    {
     "data": {
      "text/plain": [
       "array([30., 40., 99., ..., 11., 13., 14.], dtype=float32)"
      ]
     },
     "execution_count": 147,
     "metadata": {},
     "output_type": "execute_result"
    }
   ],
   "source": [
    "adata_train.layers[\"X_counts\"].A.max(1)"
   ]
  },
  {
   "cell_type": "code",
   "execution_count": 148,
   "id": "7c2c7a3c-98ac-4522-baff-5628959f5f70",
   "metadata": {},
   "outputs": [
    {
     "data": {
      "text/plain": [
       "array([119.,  41.,  27., ...,  10.,  24.,   8.], dtype=float32)"
      ]
     },
     "execution_count": 148,
     "metadata": {},
     "output_type": "execute_result"
    }
   ],
   "source": [
    "adata_test.layers[\"X_counts\"].A.max(1)"
   ]
  },
  {
   "cell_type": "code",
   "execution_count": 151,
   "id": "456a6ff5-e4a6-4a67-bda3-4777eedfb8a5",
   "metadata": {},
   "outputs": [
    {
     "data": {
      "text/plain": [
       "array([3.4277358, 3.7100825, 4.6003613, ..., 2.4603353, 2.6023011,\n",
       "       2.7006817], dtype=float32)"
      ]
     },
     "execution_count": 151,
     "metadata": {},
     "output_type": "execute_result"
    }
   ],
   "source": [
    "adata_train.X.A.max(1)"
   ]
  },
  {
   "cell_type": "code",
   "execution_count": 152,
   "id": "d497d979-88fe-4265-a39e-bbfbc67a60b5",
   "metadata": {},
   "outputs": [
    {
     "data": {
      "text/plain": [
       "array([118.87081  ,  40.58785  ,  26.829372 , ...,   9.832416 ,\n",
       "        23.13024  ,   7.9390764], dtype=float32)"
      ]
     },
     "execution_count": 152,
     "metadata": {},
     "output_type": "execute_result"
    }
   ],
   "source": [
    "adata_test.X.A.max(1)"
   ]
  },
  {
   "cell_type": "code",
   "execution_count": 154,
   "id": "2b242172-9826-449d-ae8a-e2deada72e74",
   "metadata": {},
   "outputs": [],
   "source": [
    "adata_aug = sc.read_h5ad(\"/home/icb/alessandro.palma/environment/celldreamer/project_folder/datasets/processed/classifier_experiment/augmented/pbmc_covid_augmented_prop.h5ad\")"
   ]
  },
  {
   "cell_type": "code",
   "execution_count": null,
   "id": "dcae5219-3493-4418-86ee-b74f4a4c4e15",
   "metadata": {},
   "outputs": [],
   "source": []
  }
 ],
 "metadata": {
  "kernelspec": {
   "display_name": "Python 3 (ipykernel)",
   "language": "python",
   "name": "python3"
  },
  "language_info": {
   "codemirror_mode": {
    "name": "ipython",
    "version": 3
   },
   "file_extension": ".py",
   "mimetype": "text/x-python",
   "name": "python",
   "nbconvert_exporter": "python",
   "pygments_lexer": "ipython3",
   "version": "3.10.13"
  }
 },
 "nbformat": 4,
 "nbformat_minor": 5
}
