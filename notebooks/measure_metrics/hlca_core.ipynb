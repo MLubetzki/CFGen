{
 "cells": [
  {
   "cell_type": "markdown",
   "id": "10dd506e-7645-4210-887f-cee3d39b85be",
   "metadata": {},
   "source": [
    "# Read real and generated datasets "
   ]
  },
  {
   "cell_type": "code",
   "execution_count": null,
   "id": "86c3c0cf-a378-4d79-9b7d-fe39f776c31b",
   "metadata": {},
   "outputs": [],
   "source": [
    "import scanpy as sc\n",
    "from celldreamer.eval.compute_evaluation_metrics import process_labels, compute_evaluation_metrics\n",
    "from scipy import sparse"
   ]
  },
  {
   "cell_type": "code",
   "execution_count": null,
   "id": "36e4043d-a38e-4674-acd5-166d2d0aa442",
   "metadata": {},
   "outputs": [],
   "source": [
    "def add_to_dict(d, metrics):\n",
    "    for metric in metrics:\n",
    "        if metric not in d:\n",
    "            d[metric] = [metrics[metric]]\n",
    "        else:\n",
    "            d[metric]+=[metrics[metric]]\n",
    "    return d"
   ]
  },
  {
   "cell_type": "code",
   "execution_count": null,
   "id": "f5261c7b-f2cf-4a09-9663-fd2d82eb4679",
   "metadata": {},
   "outputs": [],
   "source": [
    "results_celldreamer = {}\n",
    "results_scvi = {} \n",
    "results_scdiff = {}\n",
    "\n",
    "for i in range(3):\n",
    "    adata_generated_path_celldreamer = f\"/home/icb/alessandro.palma/environment/celldreamer/project_folder/datasets/generated/dentategyrus/generated_cells_{i}.h5ad\"\n",
    "    adata_generated_celldreamer = sc.read_h5ad(adata_generated_path_celldreamer)\n",
    "\n",
    "    adata_generated_path_scvi = f\"/home/icb/alessandro.palma/environment/celldreamer/project_folder/baseline_experiments/scvi/dentategyrus/generated/dentategyrus_{i}.h5ad\"\n",
    "    adata_generated_scvi = sc.read_h5ad(adata_generated_path_scvi)\n",
    "    adata_generated_scvi.X = sparse.csr_matrix(adata_generated_scvi.X)\n",
    "    adata_generated_scvi = process_labels(adata_real, adata_generated_scvi, \"clusters\", categorical_obs=True)\n",
    "\n",
    "    adata_generated_path_scDiffusion = f\"/home/icb/alessandro.palma/environment/celldreamer/project_folder/baseline_experiments/scDiffusion/generated/dentategyrus/generated_cells_{i}.h5ad\"\n",
    "    adata_generated_scDiffusion = sc.read_h5ad(adata_generated_path_scDiffusion)\n",
    "    adata_generated_scDiffusion.X = sparse.csr_matrix(adata_generated_scDiffusion.X)\n",
    "    adata_generated_scDiffusion = process_labels(adata_real, adata_generated_scDiffusion, \"clusters\", categorical_obs=False)\n",
    "\n",
    "    results_celldreamer_i = compute_evaluation_metrics(adata_real, adata_generated_celldreamer, \"clusters\", conditional=True, nn=10)\n",
    "    results_scvi_i = compute_evaluation_metrics(adata_real, adata_generated_scvi, \"clusters\", conditional=True, nn=10)\n",
    "    results_scdiff_i = compute_evaluation_metrics(adata_real, adata_generated_scDiffusion, \"clusters\", conditional=True, nn=10)\n",
    "\n",
    "    results_celldreamer = add_to_dict(results_celldreamer, results_celldreamer_i)\n",
    "    results_scvi = add_to_dict(results_scvi, results_scvi_i)\n",
    "    results_scdiff = add_to_dict(results_scdiff, results_scdiff_i)"
   ]
  },
  {
   "cell_type": "code",
   "execution_count": null,
   "id": "0280054d-6df1-471a-993d-9177f79fdd25",
   "metadata": {},
   "outputs": [],
   "source": []
  },
  {
   "cell_type": "code",
   "execution_count": null,
   "id": "9dc8d26e-5380-4b78-87eb-abe5f226f40c",
   "metadata": {},
   "outputs": [],
   "source": []
  },
  {
   "cell_type": "code",
   "execution_count": null,
   "id": "1576b717-bfcd-4543-adc6-6afba3dd6ce3",
   "metadata": {},
   "outputs": [],
   "source": []
  },
  {
   "cell_type": "code",
   "execution_count": null,
   "id": "6b9889be-9ba5-4fd1-be4b-d5f0ec7f9c13",
   "metadata": {},
   "outputs": [],
   "source": []
  }
 ],
 "metadata": {
  "kernelspec": {
   "display_name": "Python 3 (ipykernel)",
   "language": "python",
   "name": "python3"
  },
  "language_info": {
   "codemirror_mode": {
    "name": "ipython",
    "version": 3
   },
   "file_extension": ".py",
   "mimetype": "text/x-python",
   "name": "python",
   "nbconvert_exporter": "python",
   "pygments_lexer": "ipython3",
   "version": "3.10.13"
  }
 },
 "nbformat": 4,
 "nbformat_minor": 5
}
