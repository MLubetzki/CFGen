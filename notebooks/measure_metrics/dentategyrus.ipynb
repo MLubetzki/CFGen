{
 "cells": [
  {
   "cell_type": "markdown",
   "id": "10dd506e-7645-4210-887f-cee3d39b85be",
   "metadata": {},
   "source": [
    "# Read real and generated datasets "
   ]
  },
  {
   "cell_type": "code",
   "execution_count": 7,
   "id": "86c3c0cf-a378-4d79-9b7d-fe39f776c31b",
   "metadata": {},
   "outputs": [],
   "source": [
    "import scanpy as sc\n",
    "from celldreamer.eval.compute_evaluation_metrics import process_labels, compute_evaluation_metrics\n",
    "from scipy import sparse\n",
    "import pandas as pd"
   ]
  },
  {
   "cell_type": "code",
   "execution_count": 2,
   "id": "36e4043d-a38e-4674-acd5-166d2d0aa442",
   "metadata": {},
   "outputs": [],
   "source": [
    "def add_to_dict(d, metrics):\n",
    "    for metric in metrics:\n",
    "        if metric not in d:\n",
    "            d[metric] = [metrics[metric]]\n",
    "        else:\n",
    "            d[metric]+=[metrics[metric]]\n",
    "    return d"
   ]
  },
  {
   "cell_type": "code",
   "execution_count": 4,
   "id": "1d8b421e-d23d-4d25-8331-6ab03fe03e93",
   "metadata": {},
   "outputs": [],
   "source": [
    "adata_real_path = \"/home/icb/alessandro.palma/environment/celldreamer/project_folder/datasets/processed_full_genome/dentategyrus/dentategyrus_test.h5ad\"\n",
    "adata_real = sc.read_h5ad(adata_real_path)"
   ]
  },
  {
   "cell_type": "code",
   "execution_count": 14,
   "id": "e40c0da0-7ed1-4055-b54a-517ff84b96ae",
   "metadata": {},
   "outputs": [],
   "source": [
    "n_obs = adata_real.shape[0]"
   ]
  },
  {
   "cell_type": "code",
   "execution_count": 16,
   "id": "f5261c7b-f2cf-4a09-9663-fd2d82eb4679",
   "metadata": {},
   "outputs": [
    {
     "name": "stderr",
     "output_type": "stream",
     "text": [
      "/home/icb/alessandro.palma/environment/celldreamer/celldreamer/eval/compute_evaluation_metrics.py:21: ImplicitModificationWarning: Trying to modify attribute `.obs` of view, initializing view as actual.\n",
      "  adata_generated.obs[category_field] = [labels_dict[int(lab)] for lab in np.array(adata_generated.obs[category_field])]\n",
      "/home/icb/alessandro.palma/miniconda3/envs/celldreamer/lib/python3.10/site-packages/scanpy/preprocessing/_pca.py:229: ImplicitModificationWarning: Setting element `.obsm['X_pca']` of view, initializing view as actual.\n",
      "  adata.obsm['X_pca'] = X_pca\n",
      "/home/icb/alessandro.palma/environment/celldreamer/celldreamer/eval/compute_evaluation_metrics.py:36: ImplicitModificationWarning: Setting element `.obsm['X_pca']` of view, initializing view as actual.\n",
      "  adata_generated.obsm[\"X_pca\"] = adata_generated.X.A.dot(adata_real.varm[\"PCs\"])\n"
     ]
    },
    {
     "name": "stdout",
     "output_type": "stream",
     "text": [
      "Num real: 3643 Num fake: 3600\n",
      "Num real: 3643 Num fake: 3600\n"
     ]
    },
    {
     "name": "stderr",
     "output_type": "stream",
     "text": [
      "/home/icb/alessandro.palma/miniconda3/envs/celldreamer/lib/python3.10/site-packages/scanpy/preprocessing/_pca.py:229: ImplicitModificationWarning: Setting element `.obsm['X_pca']` of view, initializing view as actual.\n",
      "  adata.obsm['X_pca'] = X_pca\n",
      "/home/icb/alessandro.palma/environment/celldreamer/celldreamer/eval/compute_evaluation_metrics.py:36: ImplicitModificationWarning: Setting element `.obsm['X_pca']` of view, initializing view as actual.\n",
      "  adata_generated.obsm[\"X_pca\"] = adata_generated.X.A.dot(adata_real.varm[\"PCs\"])\n"
     ]
    },
    {
     "name": "stdout",
     "output_type": "stream",
     "text": [
      "Num real: 3643 Num fake: 3643\n",
      "Num real: 3643 Num fake: 3643\n"
     ]
    },
    {
     "name": "stderr",
     "output_type": "stream",
     "text": [
      "/home/icb/alessandro.palma/miniconda3/envs/celldreamer/lib/python3.10/site-packages/scanpy/preprocessing/_pca.py:229: ImplicitModificationWarning: Setting element `.obsm['X_pca']` of view, initializing view as actual.\n",
      "  adata.obsm['X_pca'] = X_pca\n",
      "/home/icb/alessandro.palma/environment/celldreamer/celldreamer/eval/compute_evaluation_metrics.py:36: ImplicitModificationWarning: Setting element `.obsm['X_pca']` of view, initializing view as actual.\n",
      "  adata_generated.obsm[\"X_pca\"] = adata_generated.X.A.dot(adata_real.varm[\"PCs\"])\n"
     ]
    },
    {
     "name": "stdout",
     "output_type": "stream",
     "text": [
      "Num real: 3643 Num fake: 3643\n",
      "Num real: 3643 Num fake: 3643\n"
     ]
    },
    {
     "name": "stderr",
     "output_type": "stream",
     "text": [
      "/home/icb/alessandro.palma/environment/celldreamer/celldreamer/eval/compute_evaluation_metrics.py:21: ImplicitModificationWarning: Trying to modify attribute `.obs` of view, initializing view as actual.\n",
      "  adata_generated.obs[category_field] = [labels_dict[int(lab)] for lab in np.array(adata_generated.obs[category_field])]\n",
      "/home/icb/alessandro.palma/miniconda3/envs/celldreamer/lib/python3.10/site-packages/scanpy/preprocessing/_pca.py:229: ImplicitModificationWarning: Setting element `.obsm['X_pca']` of view, initializing view as actual.\n",
      "  adata.obsm['X_pca'] = X_pca\n",
      "/home/icb/alessandro.palma/environment/celldreamer/celldreamer/eval/compute_evaluation_metrics.py:36: ImplicitModificationWarning: Setting element `.obsm['X_pca']` of view, initializing view as actual.\n",
      "  adata_generated.obsm[\"X_pca\"] = adata_generated.X.A.dot(adata_real.varm[\"PCs\"])\n"
     ]
    },
    {
     "name": "stdout",
     "output_type": "stream",
     "text": [
      "Num real: 3643 Num fake: 3600\n",
      "Num real: 3643 Num fake: 3600\n"
     ]
    },
    {
     "name": "stderr",
     "output_type": "stream",
     "text": [
      "/home/icb/alessandro.palma/miniconda3/envs/celldreamer/lib/python3.10/site-packages/scanpy/preprocessing/_pca.py:229: ImplicitModificationWarning: Setting element `.obsm['X_pca']` of view, initializing view as actual.\n",
      "  adata.obsm['X_pca'] = X_pca\n",
      "/home/icb/alessandro.palma/environment/celldreamer/celldreamer/eval/compute_evaluation_metrics.py:36: ImplicitModificationWarning: Setting element `.obsm['X_pca']` of view, initializing view as actual.\n",
      "  adata_generated.obsm[\"X_pca\"] = adata_generated.X.A.dot(adata_real.varm[\"PCs\"])\n"
     ]
    },
    {
     "name": "stdout",
     "output_type": "stream",
     "text": [
      "Num real: 3643 Num fake: 3643\n",
      "Num real: 3643 Num fake: 3643\n"
     ]
    },
    {
     "name": "stderr",
     "output_type": "stream",
     "text": [
      "/home/icb/alessandro.palma/miniconda3/envs/celldreamer/lib/python3.10/site-packages/scanpy/preprocessing/_pca.py:229: ImplicitModificationWarning: Setting element `.obsm['X_pca']` of view, initializing view as actual.\n",
      "  adata.obsm['X_pca'] = X_pca\n",
      "/home/icb/alessandro.palma/environment/celldreamer/celldreamer/eval/compute_evaluation_metrics.py:36: ImplicitModificationWarning: Setting element `.obsm['X_pca']` of view, initializing view as actual.\n",
      "  adata_generated.obsm[\"X_pca\"] = adata_generated.X.A.dot(adata_real.varm[\"PCs\"])\n"
     ]
    },
    {
     "name": "stdout",
     "output_type": "stream",
     "text": [
      "Num real: 3643 Num fake: 3643\n",
      "Num real: 3643 Num fake: 3643\n"
     ]
    },
    {
     "name": "stderr",
     "output_type": "stream",
     "text": [
      "/home/icb/alessandro.palma/environment/celldreamer/celldreamer/eval/compute_evaluation_metrics.py:21: ImplicitModificationWarning: Trying to modify attribute `.obs` of view, initializing view as actual.\n",
      "  adata_generated.obs[category_field] = [labels_dict[int(lab)] for lab in np.array(adata_generated.obs[category_field])]\n",
      "/home/icb/alessandro.palma/miniconda3/envs/celldreamer/lib/python3.10/site-packages/scanpy/preprocessing/_pca.py:229: ImplicitModificationWarning: Setting element `.obsm['X_pca']` of view, initializing view as actual.\n",
      "  adata.obsm['X_pca'] = X_pca\n",
      "/home/icb/alessandro.palma/environment/celldreamer/celldreamer/eval/compute_evaluation_metrics.py:36: ImplicitModificationWarning: Setting element `.obsm['X_pca']` of view, initializing view as actual.\n",
      "  adata_generated.obsm[\"X_pca\"] = adata_generated.X.A.dot(adata_real.varm[\"PCs\"])\n"
     ]
    },
    {
     "name": "stdout",
     "output_type": "stream",
     "text": [
      "Num real: 3643 Num fake: 3600\n",
      "Num real: 3643 Num fake: 3600\n"
     ]
    },
    {
     "name": "stderr",
     "output_type": "stream",
     "text": [
      "/home/icb/alessandro.palma/miniconda3/envs/celldreamer/lib/python3.10/site-packages/scanpy/preprocessing/_pca.py:229: ImplicitModificationWarning: Setting element `.obsm['X_pca']` of view, initializing view as actual.\n",
      "  adata.obsm['X_pca'] = X_pca\n",
      "/home/icb/alessandro.palma/environment/celldreamer/celldreamer/eval/compute_evaluation_metrics.py:36: ImplicitModificationWarning: Setting element `.obsm['X_pca']` of view, initializing view as actual.\n",
      "  adata_generated.obsm[\"X_pca\"] = adata_generated.X.A.dot(adata_real.varm[\"PCs\"])\n"
     ]
    },
    {
     "name": "stdout",
     "output_type": "stream",
     "text": [
      "Num real: 3643 Num fake: 3643\n",
      "Num real: 3643 Num fake: 3643\n"
     ]
    },
    {
     "name": "stderr",
     "output_type": "stream",
     "text": [
      "/home/icb/alessandro.palma/miniconda3/envs/celldreamer/lib/python3.10/site-packages/scanpy/preprocessing/_pca.py:229: ImplicitModificationWarning: Setting element `.obsm['X_pca']` of view, initializing view as actual.\n",
      "  adata.obsm['X_pca'] = X_pca\n",
      "/home/icb/alessandro.palma/environment/celldreamer/celldreamer/eval/compute_evaluation_metrics.py:36: ImplicitModificationWarning: Setting element `.obsm['X_pca']` of view, initializing view as actual.\n",
      "  adata_generated.obsm[\"X_pca\"] = adata_generated.X.A.dot(adata_real.varm[\"PCs\"])\n"
     ]
    },
    {
     "name": "stdout",
     "output_type": "stream",
     "text": [
      "Num real: 3643 Num fake: 3643\n",
      "Num real: 3643 Num fake: 3643\n"
     ]
    }
   ],
   "source": [
    "results_celldreamer = {}\n",
    "results_scvi = {} \n",
    "results_scdiff = {}\n",
    "\n",
    "for i in range(3):\n",
    "    adata_generated_path_celldreamer = f\"/home/icb/alessandro.palma/environment/celldreamer/project_folder/datasets/generated/dentategyrus/generated_cells_{i}.h5ad\"\n",
    "    adata_generated_celldreamer = sc.read_h5ad(adata_generated_path_celldreamer)\n",
    "\n",
    "    adata_generated_path_scvi = f\"/home/icb/alessandro.palma/environment/celldreamer/project_folder/baseline_experiments/scvi/dentategyrus/generated/dentategyrus_{i}.h5ad\"\n",
    "    adata_generated_scvi = sc.read_h5ad(adata_generated_path_scvi)\n",
    "    adata_generated_scvi.X = sparse.csr_matrix(adata_generated_scvi.X)\n",
    "    adata_generated_scvi = process_labels(adata_real, adata_generated_scvi, \"clusters\", categorical_obs=True)\n",
    "\n",
    "    adata_generated_path_scDiffusion = f\"/home/icb/alessandro.palma/environment/celldreamer/project_folder/baseline_experiments/scDiffusion/generated/dentategyrus/generated_cells_{i}.h5ad\"\n",
    "    adata_generated_scDiffusion = sc.read_h5ad(adata_generated_path_scDiffusion)[-n_obs:]\n",
    "    adata_generated_scDiffusion.X = sparse.csr_matrix(adata_generated_scDiffusion.X)\n",
    "    adata_generated_scDiffusion = process_labels(adata_real, adata_generated_scDiffusion, \"clusters\", categorical_obs=False)\n",
    "\n",
    "    results_celldreamer_i = compute_evaluation_metrics(adata_real, adata_generated_celldreamer, \"clusters\", conditional=True, nn=10)\n",
    "    results_scvi_i = compute_evaluation_metrics(adata_real, adata_generated_scvi, \"clusters\", conditional=True, nn=10)\n",
    "    results_scdiff_i = compute_evaluation_metrics(adata_real, adata_generated_scDiffusion, \"clusters\", conditional=True, nn=10)\n",
    "\n",
    "    results_celldreamer = add_to_dict(results_celldreamer, results_celldreamer_i)\n",
    "    results_scvi = add_to_dict(results_scvi, results_scvi_i)\n",
    "    results_scdiff = add_to_dict(results_scdiff, results_scdiff_i)"
   ]
  },
  {
   "cell_type": "code",
   "execution_count": 18,
   "id": "40a74ab8-9b3f-49ad-9b1e-24f9431e8e3e",
   "metadata": {},
   "outputs": [],
   "source": [
    "results_celldreamer_df = pd.DataFrame(results_celldreamer)\n",
    "results_scvi_df = pd.DataFrame(results_scvi)\n",
    "results_scdiff_df = pd.DataFrame(results_scdiff)"
   ]
  },
  {
   "cell_type": "code",
   "execution_count": 19,
   "id": "28a014a8-6369-4561-a1a6-525ff13ef71d",
   "metadata": {},
   "outputs": [
    {
     "data": {
      "text/plain": [
       "1-Wasserstein_PCA        22.151223\n",
       "2-Wasserstein_PCA        22.236731\n",
       "Linear_MMD_PCA          439.083455\n",
       "Poly_MMD_PCA         184227.270833\n",
       "1-Wasserstein            26.232225\n",
       "2-Wasserstein            26.407928\n",
       "Linear_MMD               11.847965\n",
       "Poly_MMD              19415.072917\n",
       "KNN identity              0.349444\n",
       "KNN identity PCA          0.000463\n",
       "precision                 0.411111\n",
       "recall                    0.698051\n",
       "density                   0.622991\n",
       "coverage                  0.840882\n",
       "precision_PCA             0.000370\n",
       "recall_PCA                0.404703\n",
       "density_PCA               0.000046\n",
       "coverage_PCA              0.000366\n",
       "KNN category              0.764630\n",
       "KNN category PCA          0.277593\n",
       "dtype: float64"
      ]
     },
     "execution_count": 19,
     "metadata": {},
     "output_type": "execute_result"
    }
   ],
   "source": [
    "results_celldreamer_df.mean(0)"
   ]
  },
  {
   "cell_type": "code",
   "execution_count": 20,
   "id": "5c5f0b52-cd7b-423f-a2dd-071bbe796dd7",
   "metadata": {},
   "outputs": [
    {
     "data": {
      "text/plain": [
       "1-Wasserstein_PCA        23.162065\n",
       "2-Wasserstein_PCA        23.243720\n",
       "Linear_MMD_PCA          482.666667\n",
       "Poly_MMD_PCA         231048.359375\n",
       "1-Wasserstein            25.877088\n",
       "2-Wasserstein            26.088684\n",
       "Linear_MMD                3.590211\n",
       "Poly_MMD               6224.020833\n",
       "KNN identity              0.097905\n",
       "KNN identity PCA          0.000000\n",
       "precision                 0.536463\n",
       "recall                    0.704273\n",
       "density                   0.712261\n",
       "coverage                  0.971818\n",
       "precision_PCA             0.000091\n",
       "recall_PCA                0.000000\n",
       "density_PCA               0.000009\n",
       "coverage_PCA              0.000091\n",
       "KNN category              0.735932\n",
       "KNN category PCA          0.246134\n",
       "dtype: float64"
      ]
     },
     "execution_count": 20,
     "metadata": {},
     "output_type": "execute_result"
    }
   ],
   "source": [
    "results_scvi_df.mean(0)"
   ]
  },
  {
   "cell_type": "code",
   "execution_count": 22,
   "id": "72558d85-e291-4421-bd9d-f5c5be573542",
   "metadata": {},
   "outputs": [
    {
     "data": {
      "text/plain": [
       "1-Wasserstein_PCA        23.295973\n",
       "2-Wasserstein_PCA        23.355702\n",
       "Linear_MMD_PCA          633.567647\n",
       "Poly_MMD_PCA         445586.802083\n",
       "1-Wasserstein            22.209516\n",
       "2-Wasserstein            22.322123\n",
       "Linear_MMD              146.481196\n",
       "Poly_MMD             253656.291667\n",
       "KNN identity              0.000640\n",
       "KNN identity PCA          0.000000\n",
       "precision                 0.992040\n",
       "recall                    0.004483\n",
       "density                  14.927203\n",
       "coverage                  0.998719\n",
       "precision_PCA             0.000000\n",
       "recall_PCA                0.000000\n",
       "density_PCA               0.000000\n",
       "coverage_PCA              0.000000\n",
       "KNN category              0.783695\n",
       "KNN category PCA          0.252082\n",
       "dtype: float64"
      ]
     },
     "execution_count": 22,
     "metadata": {},
     "output_type": "execute_result"
    }
   ],
   "source": [
    "results_scdiff_df.mean(0)"
   ]
  },
  {
   "cell_type": "code",
   "execution_count": 23,
   "id": "3da794d8-2594-44cd-af2c-a4dcaf6f5b00",
   "metadata": {},
   "outputs": [
    {
     "data": {
      "text/html": [
       "<div>\n",
       "<style scoped>\n",
       "    .dataframe tbody tr th:only-of-type {\n",
       "        vertical-align: middle;\n",
       "    }\n",
       "\n",
       "    .dataframe tbody tr th {\n",
       "        vertical-align: top;\n",
       "    }\n",
       "\n",
       "    .dataframe thead th {\n",
       "        text-align: right;\n",
       "    }\n",
       "</style>\n",
       "<table border=\"1\" class=\"dataframe\">\n",
       "  <thead>\n",
       "    <tr style=\"text-align: right;\">\n",
       "      <th></th>\n",
       "      <th>Unnamed: 0</th>\n",
       "      <th>1-Wasserstein_PCA</th>\n",
       "      <th>2-Wasserstein_PCA</th>\n",
       "      <th>Linear_MMD_PCA</th>\n",
       "      <th>Poly_MMD_PCA</th>\n",
       "      <th>1-Wasserstein</th>\n",
       "      <th>2-Wasserstein</th>\n",
       "      <th>Linear_MMD</th>\n",
       "      <th>Poly_MMD</th>\n",
       "      <th>KNN identity</th>\n",
       "      <th>...</th>\n",
       "      <th>precision</th>\n",
       "      <th>recall</th>\n",
       "      <th>density</th>\n",
       "      <th>coverage</th>\n",
       "      <th>precision_PCA</th>\n",
       "      <th>recall_PCA</th>\n",
       "      <th>density_PCA</th>\n",
       "      <th>coverage_PCA</th>\n",
       "      <th>KNN category</th>\n",
       "      <th>KNN category PCA</th>\n",
       "    </tr>\n",
       "  </thead>\n",
       "  <tbody>\n",
       "    <tr>\n",
       "      <th>0</th>\n",
       "      <td>0</td>\n",
       "      <td>18.315600</td>\n",
       "      <td>18.465690</td>\n",
       "      <td>211.817627</td>\n",
       "      <td>42820.855469</td>\n",
       "      <td>32.361063</td>\n",
       "      <td>32.454344</td>\n",
       "      <td>8.370586</td>\n",
       "      <td>9918.515625</td>\n",
       "      <td>0.070076</td>\n",
       "      <td>...</td>\n",
       "      <td>0.282197</td>\n",
       "      <td>0.191288</td>\n",
       "      <td>1.376326</td>\n",
       "      <td>0.998106</td>\n",
       "      <td>0.782197</td>\n",
       "      <td>0.001894</td>\n",
       "      <td>0.372348</td>\n",
       "      <td>0.297348</td>\n",
       "      <td>0.734848</td>\n",
       "      <td>0.727273</td>\n",
       "    </tr>\n",
       "    <tr>\n",
       "      <th>1</th>\n",
       "      <td>1</td>\n",
       "      <td>18.196357</td>\n",
       "      <td>18.347322</td>\n",
       "      <td>208.544174</td>\n",
       "      <td>41018.515625</td>\n",
       "      <td>32.340313</td>\n",
       "      <td>32.429042</td>\n",
       "      <td>9.680903</td>\n",
       "      <td>12530.203125</td>\n",
       "      <td>0.136364</td>\n",
       "      <td>...</td>\n",
       "      <td>0.348485</td>\n",
       "      <td>0.196970</td>\n",
       "      <td>1.320833</td>\n",
       "      <td>0.977273</td>\n",
       "      <td>0.767045</td>\n",
       "      <td>0.000000</td>\n",
       "      <td>0.385038</td>\n",
       "      <td>0.306818</td>\n",
       "      <td>0.721591</td>\n",
       "      <td>0.712121</td>\n",
       "    </tr>\n",
       "    <tr>\n",
       "      <th>2</th>\n",
       "      <td>2</td>\n",
       "      <td>18.124520</td>\n",
       "      <td>18.265584</td>\n",
       "      <td>204.447754</td>\n",
       "      <td>39896.429688</td>\n",
       "      <td>32.267983</td>\n",
       "      <td>32.354906</td>\n",
       "      <td>8.089196</td>\n",
       "      <td>10292.875000</td>\n",
       "      <td>0.111742</td>\n",
       "      <td>...</td>\n",
       "      <td>0.348485</td>\n",
       "      <td>0.210227</td>\n",
       "      <td>1.474242</td>\n",
       "      <td>0.986742</td>\n",
       "      <td>0.789773</td>\n",
       "      <td>0.003788</td>\n",
       "      <td>0.432765</td>\n",
       "      <td>0.339015</td>\n",
       "      <td>0.727273</td>\n",
       "      <td>0.751894</td>\n",
       "    </tr>\n",
       "  </tbody>\n",
       "</table>\n",
       "<p>3 rows × 21 columns</p>\n",
       "</div>"
      ],
      "text/plain": [
       "   Unnamed: 0  1-Wasserstein_PCA  2-Wasserstein_PCA  Linear_MMD_PCA  \\\n",
       "0           0          18.315600          18.465690      211.817627   \n",
       "1           1          18.196357          18.347322      208.544174   \n",
       "2           2          18.124520          18.265584      204.447754   \n",
       "\n",
       "   Poly_MMD_PCA  1-Wasserstein  2-Wasserstein  Linear_MMD      Poly_MMD  \\\n",
       "0  42820.855469      32.361063      32.454344    8.370586   9918.515625   \n",
       "1  41018.515625      32.340313      32.429042    9.680903  12530.203125   \n",
       "2  39896.429688      32.267983      32.354906    8.089196  10292.875000   \n",
       "\n",
       "   KNN identity  ...  precision    recall   density  coverage  precision_PCA  \\\n",
       "0      0.070076  ...   0.282197  0.191288  1.376326  0.998106       0.782197   \n",
       "1      0.136364  ...   0.348485  0.196970  1.320833  0.977273       0.767045   \n",
       "2      0.111742  ...   0.348485  0.210227  1.474242  0.986742       0.789773   \n",
       "\n",
       "   recall_PCA  density_PCA  coverage_PCA  KNN category  KNN category PCA  \n",
       "0    0.001894     0.372348      0.297348      0.734848          0.727273  \n",
       "1    0.000000     0.385038      0.306818      0.721591          0.712121  \n",
       "2    0.003788     0.432765      0.339015      0.727273          0.751894  \n",
       "\n",
       "[3 rows x 21 columns]"
      ]
     },
     "execution_count": 23,
     "metadata": {},
     "output_type": "execute_result"
    }
   ],
   "source": [
    "pd.read_csv(\"/home/icb/alessandro.palma/environment/celldreamer/experiments/results/pbmc3k/celldreamer_pbmc3k\")"
   ]
  },
  {
   "cell_type": "code",
   "execution_count": null,
   "id": "a2e2ca91-7e45-48c4-80fd-f8ea8e45c0b9",
   "metadata": {},
   "outputs": [],
   "source": []
  },
  {
   "cell_type": "code",
   "execution_count": null,
   "id": "f0169b30-17e7-4082-bd0e-05147d104441",
   "metadata": {},
   "outputs": [],
   "source": []
  },
  {
   "cell_type": "code",
   "execution_count": 38,
   "id": "7619635b-8eb2-4574-99db-86d13133a2c1",
   "metadata": {},
   "outputs": [],
   "source": [
    "adata_generated_path_scDiffusion = f\"/home/icb/alessandro.palma/environment/celldreamer/project_folder/baseline_experiments/scDiffusion/generated/c_elegans/generated_cells_2.h5ad\"\n",
    "adata = sc.read_h5ad(adata_generated_path_scDiffusion)\n",
    "adata.obs[\"cell_type\"] = adata.obs[\"tissue\"]\n",
    "adata.write_h5ad(adata_generated_path_scDiffusion)"
   ]
  },
  {
   "cell_type": "code",
   "execution_count": 33,
   "id": "75e11d9d-588f-4219-bf66-188bb42fcfca",
   "metadata": {},
   "outputs": [
    {
     "name": "stderr",
     "output_type": "stream",
     "text": [
      "/home/icb/alessandro.palma/miniconda3/envs/celldreamer/lib/python3.10/site-packages/pynndescent/pynndescent_.py:346: NumbaPendingDeprecationWarning: \u001b[1m\u001b[1mCode using Numba extension API maybe depending on 'old_style' error-capturing, which is deprecated and will be replaced by 'new_style' in a future release. See details at https://numba.readthedocs.io/en/latest/reference/deprecation.html#deprecation-of-old-style-numba-captured-errors\n",
      "Exception origin:\n",
      "  File \"/home/icb/alessandro.palma/miniconda3/envs/celldreamer/lib/python3.10/site-packages/numba/core/types/functions.py\", line 486, in __getnewargs__\n",
      "    raise ReferenceError(\"underlying object has vanished\")\n",
      "\u001b[0m\u001b[0m\n",
      "  init_rp_tree(data, dist, current_graph, leaf_array)\n",
      "/home/icb/alessandro.palma/miniconda3/envs/celldreamer/lib/python3.10/site-packages/pynndescent/pynndescent_.py:348: NumbaPendingDeprecationWarning: \u001b[1m\u001b[1mCode using Numba extension API maybe depending on 'old_style' error-capturing, which is deprecated and will be replaced by 'new_style' in a future release. See details at https://numba.readthedocs.io/en/latest/reference/deprecation.html#deprecation-of-old-style-numba-captured-errors\n",
      "Exception origin:\n",
      "  File \"/home/icb/alessandro.palma/miniconda3/envs/celldreamer/lib/python3.10/site-packages/numba/core/types/functions.py\", line 486, in __getnewargs__\n",
      "    raise ReferenceError(\"underlying object has vanished\")\n",
      "\u001b[0m\u001b[0m\n",
      "  init_random(n_neighbors, data, current_graph, dist, rng_state)\n",
      "/home/icb/alessandro.palma/miniconda3/envs/celldreamer/lib/python3.10/site-packages/pynndescent/pynndescent_.py:358: NumbaPendingDeprecationWarning: \u001b[1m\u001b[1m\u001b[1mCode using Numba extension API maybe depending on 'old_style' error-capturing, which is deprecated and will be replaced by 'new_style' in a future release. See details at https://numba.readthedocs.io/en/latest/reference/deprecation.html#deprecation-of-old-style-numba-captured-errors\n",
      "Exception origin:\n",
      "  File \"/home/icb/alessandro.palma/miniconda3/envs/celldreamer/lib/python3.10/site-packages/numba/core/types/functions.py\", line 486, in __getnewargs__\n",
      "    raise ReferenceError(\"underlying object has vanished\")\n",
      "\u001b[0m\u001b[0m\u001b[0m\n",
      "  nn_descent_internal_low_memory_parallel(\n"
     ]
    }
   ],
   "source": [
    "sc.pp.neighbors(adata)"
   ]
  },
  {
   "cell_type": "code",
   "execution_count": 34,
   "id": "df62050f-41c9-4ad7-9c53-97986cf9da8c",
   "metadata": {},
   "outputs": [],
   "source": [
    "sc.tl.umap(adata)"
   ]
  },
  {
   "cell_type": "code",
   "execution_count": 35,
   "id": "a35880df-649c-4994-ba36-842229ec3160",
   "metadata": {},
   "outputs": [
    {
     "name": "stderr",
     "output_type": "stream",
     "text": [
      "/home/icb/alessandro.palma/miniconda3/envs/celldreamer/lib/python3.10/site-packages/scanpy/plotting/_tools/scatterplots.py:394: UserWarning: No data for colormapping provided via 'c'. Parameters 'cmap', 'norm' will be ignored\n",
      "  cax = scatter(\n"
     ]
    },
    {
     "data": {
      "image/png": "[encoded data removed]",
      "text/plain": [
       "<Figure size 640x480 with 1 Axes>"
      ]
     },
     "metadata": {},
     "output_type": "display_data"
    }
   ],
   "source": [
    "sc.pl.umap(adata)"
   ]
  },
  {
   "cell_type": "code",
   "execution_count": null,
   "id": "1fd4a994-0573-4ff1-b0cb-c3244bcc3a86",
   "metadata": {},
   "outputs": [],
   "source": []
  }
 ],
 "metadata": {
  "kernelspec": {
   "display_name": "Python 3 (ipykernel)",
   "language": "python",
   "name": "python3"
  },
  "language_info": {
   "codemirror_mode": {
    "name": "ipython",
    "version": 3
   },
   "file_extension": ".py",
   "mimetype": "text/x-python",
   "name": "python",
   "nbconvert_exporter": "python",
   "pygments_lexer": "ipython3",
   "version": "3.10.13"
  }
 },
 "nbformat": 4,
 "nbformat_minor": 5
}
