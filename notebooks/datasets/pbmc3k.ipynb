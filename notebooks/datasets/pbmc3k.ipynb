{
 "cells": [
  {
   "cell_type": "code",
   "execution_count": 179,
   "id": "fcb2632b-494c-400f-929f-b8642a675ad4",
   "metadata": {},
   "outputs": [],
   "source": [
    "import scanpy as sc\n",
    "import scvelo as scv\n",
    "import numpy as np\n",
    "import os\n",
    "from anndata import AnnData as ad"
   ]
  },
  {
   "cell_type": "code",
   "execution_count": 180,
   "id": "0f4eaff1-9a95-4ec3-b846-8a38446360c1",
   "metadata": {},
   "outputs": [],
   "source": [
    "sc.settings.datasetdir=\"../../datasets/raw/\""
   ]
  },
  {
   "cell_type": "markdown",
   "id": "649ed133-caf2-449a-ac25-7b0b3319432f",
   "metadata": {},
   "source": [
    "Read dataset "
   ]
  },
  {
   "cell_type": "code",
   "execution_count": 181,
   "id": "319e2480-0a9c-44ea-a75f-3d95a6216b99",
   "metadata": {
    "scrolled": true
   },
   "outputs": [
    {
     "data": {
      "text/plain": [
       "AnnData object with n_obs × n_vars = 2700 × 32738\n",
       "    var: 'gene_ids'"
      ]
     },
     "execution_count": 181,
     "metadata": {},
     "output_type": "execute_result"
    }
   ],
   "source": [
    "adata_raw = sc.datasets.pbmc3k()\n",
    "adata_raw"
   ]
  },
  {
   "cell_type": "code",
   "execution_count": 182,
   "id": "5abaf993-ff0a-4633-a6d9-c0ee8748bb2f",
   "metadata": {},
   "outputs": [],
   "source": [
    "adata_processed = sc.datasets.pbmc3k_processed()"
   ]
  },
  {
   "cell_type": "code",
   "execution_count": 183,
   "id": "007da451-1048-4764-898f-e9dc228875de",
   "metadata": {},
   "outputs": [],
   "source": [
    "adata_processed.X = adata_raw[list(adata_processed.obs.index), list(adata_processed.var.index)].X\n",
    "adata_processed.layers[\"X_counts\"] = adata_processed.X.copy()\n",
    "adata_processed.obs = adata_processed.obs.rename(columns={\"louvain\": \"cell_type\"})"
   ]
  },
  {
   "cell_type": "code",
   "execution_count": 184,
   "id": "79c6aed3-1b5c-4195-9c5d-a87e0f833042",
   "metadata": {},
   "outputs": [],
   "source": [
    "sc.pp.log1p(adata_processed)"
   ]
  },
  {
   "cell_type": "code",
   "execution_count": 185,
   "id": "ae208f3d-c708-4853-8d27-4facf8ae995f",
   "metadata": {},
   "outputs": [],
   "source": [
    "sc.tl.pca(adata_processed)\n",
    "sc.pp.neighbors(adata_processed)\n",
    "sc.tl.umap(adata_processed)"
   ]
  },
  {
   "cell_type": "markdown",
   "id": "6d396e91-b212-40f6-b26c-00a9975f81a4",
   "metadata": {},
   "source": [
    "Save"
   ]
  },
  {
   "cell_type": "code",
   "execution_count": 173,
   "id": "63fd5541-f5da-4aab-b507-7b926a43586b",
   "metadata": {},
   "outputs": [],
   "source": [
    "ad.write_h5ad(adata_processed, \"../../datasets/processed/pbmc3k.h5ad\")"
   ]
  },
  {
   "cell_type": "code",
   "execution_count": 187,
   "id": "451bfe8f-7fe5-4081-8f05-930f32f7f022",
   "metadata": {},
   "outputs": [],
   "source": [
    "adata = sc.read_h5ad(\"../../datasets/processed/pbmc3k.h5ad\")"
   ]
  },
  {
   "cell_type": "code",
   "execution_count": null,
   "id": "00d7f9ef-803f-4477-b388-f834ec538dd9",
   "metadata": {},
   "outputs": [],
   "source": []
  }
 ],
 "metadata": {
  "kernelspec": {
   "display_name": "Python 3 (ipykernel)",
   "language": "python",
   "name": "python3"
  },
  "language_info": {
   "codemirror_mode": {
    "name": "ipython",
    "version": 3
   },
   "file_extension": ".py",
   "mimetype": "text/x-python",
   "name": "python",
   "nbconvert_exporter": "python",
   "pygments_lexer": "ipython3",
   "version": "3.10.13"
  }
 },
 "nbformat": 4,
 "nbformat_minor": 5
}
