{
 "cells": [
  {
   "cell_type": "code",
   "execution_count": null,
   "id": "61d6efb5-7224-4743-9042-7f2470868632",
   "metadata": {},
   "outputs": [],
   "source": [
    "import os\n",
    "import tempfile\n",
    "\n",
    "import anndata\n",
    "import matplotlib.pyplot as plt\n",
    "import numpy as np\n",
    "import pandas as pd\n",
    "import scanpy as sc\n",
    "import scvi\n",
    "import seaborn as sns\n",
    "import torch\n",
    "from celldreamer.paths import DATA_DIR\n",
    "\n",
    "from pathlib import Path"
   ]
  },
  {
   "cell_type": "code",
   "execution_count": null,
   "id": "85aa7d9c-d097-4d00-a689-7d7d8df9112a",
   "metadata": {},
   "outputs": [],
   "source": [
    "raw_dataset_path = DATA_DIR / \"raw\" / \"tabula_muris.h5ad\"\n",
    "\n",
    "adata = sc.read(\n",
    "    raw_dataset_path,\n",
    "    backup_url=\"https://figshare.com/ndownloader/files/23938934\",\n",
    ")"
   ]
  },
  {
   "cell_type": "code",
   "execution_count": null,
   "id": "5176fcff-003d-4b81-9429-c317a153db94",
   "metadata": {},
   "outputs": [],
   "source": [
    "adata.layers[\"X_counts\"] = adata.X.copy()\n",
    "sc.pp.normalize_total(adata, target_sum=1e4)\n",
    "sc.pp.log1p(adata)\n",
    "sc.pp.highly_variable_genes(\n",
    "    adata,\n",
    "    flavor=\"seurat_v3\",\n",
    "    n_top_genes=2000,\n",
    "    layer=\"X_counts\",\n",
    "    subset=True,\n",
    ")"
   ]
  },
  {
   "cell_type": "code",
   "execution_count": null,
   "id": "5536798c-18f9-4639-9ca2-9c2e71fc853d",
   "metadata": {},
   "outputs": [],
   "source": [
    "sc.tl.pca(adata)\n",
    "sc.pp.neighbors(adata)\n",
    "sc.tl.umap(adata)"
   ]
  },
  {
   "cell_type": "code",
   "execution_count": null,
   "id": "e71c3aa9-970f-49fb-86f9-1edf5cad397a",
   "metadata": {},
   "outputs": [],
   "source": [
    "sc.pl.umap(adata, color=\"tissue\")"
   ]
  },
  {
   "cell_type": "code",
   "execution_count": 19,
   "id": "7993074d-b29f-45ae-b291-e92ee5c87555",
   "metadata": {},
   "outputs": [],
   "source": [
    "# sc.AnnData.write_h5ad(adata, DATA_DIR / \"processed\" / \"tabula_muris.h5ad\")"
   ]
  },
  {
   "cell_type": "code",
   "execution_count": 5,
   "id": "3cf729a1-ff4f-4191-8ea2-1edcb3b8125f",
   "metadata": {},
   "outputs": [],
   "source": [
    "adata = sc.read_h5ad(DATA_DIR / \"processed\" / \"tabula_muris.h5ad\")"
   ]
  },
  {
   "cell_type": "code",
   "execution_count": 6,
   "id": "8a6f8d7f-5174-4975-99d6-92380a9347d5",
   "metadata": {},
   "outputs": [],
   "source": [
    "# adata.layers[\"X_counts\"].A.max(1)"
   ]
  },
  {
   "cell_type": "code",
   "execution_count": null,
   "id": "6c1fb88d-1855-4378-b3b0-db9dc9a0071b",
   "metadata": {},
   "outputs": [],
   "source": []
  }
 ],
 "metadata": {
  "kernelspec": {
   "display_name": "Python 3 (ipykernel)",
   "language": "python",
   "name": "python3"
  },
  "language_info": {
   "codemirror_mode": {
    "name": "ipython",
    "version": 3
   },
   "file_extension": ".py",
   "mimetype": "text/x-python",
   "name": "python",
   "nbconvert_exporter": "python",
   "pygments_lexer": "ipython3",
   "version": "3.10.13"
  }
 },
 "nbformat": 4,
 "nbformat_minor": 5
}
