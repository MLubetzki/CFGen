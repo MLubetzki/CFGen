{
 "cells": [
  {
   "cell_type": "code",
   "execution_count": 4,
   "id": "61d6efb5-7224-4743-9042-7f2470868632",
   "metadata": {},
   "outputs": [],
   "source": [
    "import os\n",
    "import tempfile\n",
    "\n",
    "import anndata\n",
    "import matplotlib.pyplot as plt\n",
    "import numpy as np\n",
    "import pandas as pd\n",
    "import scanpy as sc\n",
    "import scvi\n",
    "import seaborn as sns\n",
    "import torch\n",
    "from celldreamer.paths import DATA_DIR\n",
    "\n",
    "from pathlib import Path"
   ]
  },
  {
   "cell_type": "code",
   "execution_count": 5,
   "id": "85aa7d9c-d097-4d00-a689-7d7d8df9112a",
   "metadata": {},
   "outputs": [
    {
     "name": "stderr",
     "output_type": "stream",
     "text": [
      "/home/icb/alessandro.palma/miniconda3/envs/celldreamer/lib/python3.10/site-packages/anndata/__init__.py:51: FutureWarning: `anndata.read` is deprecated, use `anndata.read_h5ad` instead. `ad.read` will be removed in mid 2024.\n",
      "  warnings.warn(\n"
     ]
    }
   ],
   "source": [
    "raw_dataset_path = DATA_DIR / \"raw\" / \"tabula_muris.h5ad\"\n",
    "\n",
    "adata = sc.read(\n",
    "    raw_dataset_path,\n",
    "    backup_url=\"https://figshare.com/ndownloader/files/23938934\",\n",
    ")"
   ]
  },
  {
   "cell_type": "code",
   "execution_count": 6,
   "id": "b28a40f4-f0a8-41c7-9aba-19ddaf2c60b9",
   "metadata": {},
   "outputs": [],
   "source": [
    "adata.layers[\"X_counts\"] = adata.X.copy()"
   ]
  },
  {
   "cell_type": "code",
   "execution_count": 8,
   "id": "76f0c4d0-bce5-4d63-8713-411ce9a36bcb",
   "metadata": {},
   "outputs": [],
   "source": [
    "sc.pp.filter_genes(adata, min_cells=5)"
   ]
  },
  {
   "cell_type": "code",
   "execution_count": 9,
   "id": "5176fcff-003d-4b81-9429-c317a153db94",
   "metadata": {},
   "outputs": [],
   "source": [
    "sc.pp.normalize_total(adata, target_sum=1e4)\n",
    "sc.pp.log1p(adata)"
   ]
  },
  {
   "cell_type": "code",
   "execution_count": null,
   "id": "5536798c-18f9-4639-9ca2-9c2e71fc853d",
   "metadata": {},
   "outputs": [
    {
     "name": "stderr",
     "output_type": "stream",
     "text": [
      "/home/icb/alessandro.palma/miniconda3/envs/celldreamer/lib/python3.10/site-packages/pynndescent/pynndescent_.py:346: NumbaPendingDeprecationWarning: \u001b[1m\u001b[1mCode using Numba extension API maybe depending on 'old_style' error-capturing, which is deprecated and will be replaced by 'new_style' in a future release. See details at https://numba.readthedocs.io/en/latest/reference/deprecation.html#deprecation-of-old-style-numba-captured-errors\n",
      "Exception origin:\n",
      "  File \"/home/icb/alessandro.palma/miniconda3/envs/celldreamer/lib/python3.10/site-packages/numba/core/types/functions.py\", line 486, in __getnewargs__\n",
      "    raise ReferenceError(\"underlying object has vanished\")\n",
      "\u001b[0m\u001b[0m\n",
      "  init_rp_tree(data, dist, current_graph, leaf_array)\n",
      "/home/icb/alessandro.palma/miniconda3/envs/celldreamer/lib/python3.10/site-packages/pynndescent/pynndescent_.py:348: NumbaPendingDeprecationWarning: \u001b[1m\u001b[1mCode using Numba extension API maybe depending on 'old_style' error-capturing, which is deprecated and will be replaced by 'new_style' in a future release. See details at https://numba.readthedocs.io/en/latest/reference/deprecation.html#deprecation-of-old-style-numba-captured-errors\n",
      "Exception origin:\n",
      "  File \"/home/icb/alessandro.palma/miniconda3/envs/celldreamer/lib/python3.10/site-packages/numba/core/types/functions.py\", line 486, in __getnewargs__\n",
      "    raise ReferenceError(\"underlying object has vanished\")\n",
      "\u001b[0m\u001b[0m\n",
      "  init_random(n_neighbors, data, current_graph, dist, rng_state)\n",
      "/home/icb/alessandro.palma/miniconda3/envs/celldreamer/lib/python3.10/site-packages/pynndescent/pynndescent_.py:358: NumbaPendingDeprecationWarning: \u001b[1m\u001b[1m\u001b[1mCode using Numba extension API maybe depending on 'old_style' error-capturing, which is deprecated and will be replaced by 'new_style' in a future release. See details at https://numba.readthedocs.io/en/latest/reference/deprecation.html#deprecation-of-old-style-numba-captured-errors\n",
      "Exception origin:\n",
      "  File \"/home/icb/alessandro.palma/miniconda3/envs/celldreamer/lib/python3.10/site-packages/numba/core/types/functions.py\", line 486, in __getnewargs__\n",
      "    raise ReferenceError(\"underlying object has vanished\")\n",
      "\u001b[0m\u001b[0m\u001b[0m\n",
      "  nn_descent_internal_low_memory_parallel(\n"
     ]
    }
   ],
   "source": [
    "sc.tl.pca(adata)\n",
    "sc.pp.neighbors(adata)\n",
    "sc.tl.umap(adata)"
   ]
  },
  {
   "cell_type": "code",
   "execution_count": null,
   "id": "e71c3aa9-970f-49fb-86f9-1edf5cad397a",
   "metadata": {},
   "outputs": [],
   "source": [
    "sc.pl.umap(adata, color=\"tissue\")"
   ]
  },
  {
   "cell_type": "markdown",
   "id": "283d9243-2955-498b-922d-36d25934717d",
   "metadata": {},
   "source": [
    "## Train Test split "
   ]
  },
  {
   "cell_type": "code",
   "execution_count": null,
   "id": "e7f34156-e7be-4395-8a84-df71ee0df546",
   "metadata": {},
   "outputs": [],
   "source": [
    "# Generate random indices for train and test sets\n",
    "total_samples = adata.n_obs\n",
    "train_frac = 0.8\n",
    "train_size = int(total_samples * train_frac)\n",
    "train_indices = np.random.choice(total_samples, size=train_size, replace=False)\n",
    "test_indices = np.setdiff1d(np.arange(total_samples), train_indices)\n",
    "\n",
    "# Separate data into train and test sets by indexing the Anndata object\n",
    "train_adata = adata[train_indices, :]\n",
    "test_adata = adata[test_indices, :]"
   ]
  },
  {
   "cell_type": "code",
   "execution_count": null,
   "id": "e3f09494-85a3-48f8-a86d-ae18de3f0185",
   "metadata": {},
   "outputs": [],
   "source": [
    "train_adata"
   ]
  },
  {
   "cell_type": "code",
   "execution_count": null,
   "id": "b3f9f173-02f0-4e10-b317-0acf5c7283bb",
   "metadata": {},
   "outputs": [],
   "source": [
    "test_adata"
   ]
  },
  {
   "cell_type": "code",
   "execution_count": null,
   "id": "00606293-ed5f-4136-9b08-68f88734aff2",
   "metadata": {},
   "outputs": [],
   "source": [
    "adata"
   ]
  },
  {
   "cell_type": "markdown",
   "id": "a7496ce2-c76f-4506-97df-ca8ee41191cf",
   "metadata": {},
   "source": [
    "# Save files"
   ]
  },
  {
   "cell_type": "code",
   "execution_count": null,
   "id": "7993074d-b29f-45ae-b291-e92ee5c87555",
   "metadata": {},
   "outputs": [],
   "source": [
    "sc.AnnData.write_h5ad(adata, DATA_DIR / \"processed_full_genome\" / \"tabula_muris\" / \"tabula_muris.h5ad\")"
   ]
  },
  {
   "cell_type": "code",
   "execution_count": null,
   "id": "6c1fb88d-1855-4378-b3b0-db9dc9a0071b",
   "metadata": {},
   "outputs": [],
   "source": [
    "sc.AnnData.write_h5ad(adata, DATA_DIR / \"processed_full_genome\" / \"tabula_muris\" / \"tabula_muris.h5ad\")"
   ]
  },
  {
   "cell_type": "code",
   "execution_count": null,
   "id": "93cd4ba8-9446-4926-8429-63715ff8b68b",
   "metadata": {},
   "outputs": [],
   "source": [
    "sc.AnnData.write_h5ad(adata, DATA_DIR / \"processed_full_genome\" / \"tabula_muris\" / \"tabula_muris.h5ad\")"
   ]
  }
 ],
 "metadata": {
  "kernelspec": {
   "display_name": "Python 3 (ipykernel)",
   "language": "python",
   "name": "python3"
  },
  "language_info": {
   "codemirror_mode": {
    "name": "ipython",
    "version": 3
   },
   "file_extension": ".py",
   "mimetype": "text/x-python",
   "name": "python",
   "nbconvert_exporter": "python",
   "pygments_lexer": "ipython3",
   "version": "3.10.13"
  }
 },
 "nbformat": 4,
 "nbformat_minor": 5
}
