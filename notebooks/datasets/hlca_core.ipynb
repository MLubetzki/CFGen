{
 "cells": [
  {
   "cell_type": "code",
   "execution_count": 10,
   "id": "fcb2632b-494c-400f-929f-b8642a675ad4",
   "metadata": {},
   "outputs": [],
   "source": [
    "import scanpy as sc\n",
    "import os\n",
    "import requests\n",
    "from tqdm import tqdm\n",
    "from anndata import AnnData as ad\n",
    "import pandas as pd\n",
    "from celldreamer.paths import DATA_DIR\n",
    "import numpy as np"
   ]
  },
  {
   "cell_type": "markdown",
   "id": "649ed133-caf2-449a-ac25-7b0b3319432f",
   "metadata": {},
   "source": [
    "Read dataset "
   ]
  },
  {
   "cell_type": "code",
   "execution_count": 4,
   "id": "250bd0ac-de58-41e9-b5dd-4f5bfb2aa0ab",
   "metadata": {},
   "outputs": [],
   "source": [
    "def load_dataset(path, url, new_name=None):\n",
    "    # Check if the file exists at the specified path\n",
    "    if not os.path.exists(path):\n",
    "        # If not, download the file from the URL\n",
    "        print(f\"Dataset not found at {path}. Downloading from {url}...\")\n",
    "        response = requests.get(url, stream=True)\n",
    "        \n",
    "        # Get the total file size for progress bar\n",
    "        total_size_in_bytes = int(response.headers.get('content-length', 0))\n",
    "        block_size = 1024 # 1 Kilobyte\n",
    "\n",
    "        progress_bar = tqdm(total=total_size_in_bytes, unit='iB', unit_scale=True)\n",
    "\n",
    "        with open(path, 'wb') as f:\n",
    "            for data in response.iter_content(block_size):\n",
    "                progress_bar.update(len(data))\n",
    "                f.write(data)\n",
    "        progress_bar.close()\n",
    "\n",
    "        if total_size_in_bytes != 0 and progress_bar.n != total_size_in_bytes:\n",
    "            print(\"ERROR, something went wrong\")\n",
    "        \n",
    "        print(\"Download complete.\")\n",
    "    \n",
    "    # Rename the dataset file if new_name is provided\n",
    "    if new_name:\n",
    "        os.rename(path, new_name)\n",
    "        path = new_name\n",
    "\n",
    "    # Load the dataset using Scanpy\n",
    "    dataset = sc.read_h5ad(path)\n",
    "    return dataset\n",
    "\n",
    "dataset_path = os.path.join(DATA_DIR, 'raw', 'hlca_core.h5ad')\n",
    "dataset_url = 'https://datasets.cellxgene.cziscience.com/7a3f08f9-5d07-4ddd-a8fe-5967dd34f35f.h5ad'\n",
    "\n",
    "adata = load_dataset(path=dataset_path, url=dataset_url, new_name=dataset_path)"
   ]
  },
  {
   "cell_type": "code",
   "execution_count": 5,
   "id": "ff44d0a5-939e-48fa-ad6d-fc874dbe57a1",
   "metadata": {},
   "outputs": [],
   "source": [
    "adata.layers[\"X_counts\"] = adata.raw.X.copy()"
   ]
  },
  {
   "cell_type": "code",
   "execution_count": 7,
   "id": "fed290a9-bcdd-477b-af30-d2c79955ba3f",
   "metadata": {},
   "outputs": [],
   "source": [
    "sc.pp.filter_genes(adata, min_cells=10)"
   ]
  },
  {
   "cell_type": "markdown",
   "id": "c7917a20-caa8-4c8c-9974-87a8acafbdbe",
   "metadata": {},
   "source": [
    "Preprocess"
   ]
  },
  {
   "cell_type": "code",
   "execution_count": 8,
   "id": "ae208f3d-c708-4853-8d27-4facf8ae995f",
   "metadata": {},
   "outputs": [
    {
     "name": "stderr",
     "output_type": "stream",
     "text": [
      "/home/icb/alessandro.palma/miniconda3/envs/celldreamer/lib/python3.10/site-packages/pynndescent/pynndescent_.py:346: NumbaPendingDeprecationWarning: \u001b[1m\u001b[1mCode using Numba extension API maybe depending on 'old_style' error-capturing, which is deprecated and will be replaced by 'new_style' in a future release. See details at https://numba.readthedocs.io/en/latest/reference/deprecation.html#deprecation-of-old-style-numba-captured-errors\n",
      "Exception origin:\n",
      "  File \"/home/icb/alessandro.palma/miniconda3/envs/celldreamer/lib/python3.10/site-packages/numba/core/types/functions.py\", line 486, in __getnewargs__\n",
      "    raise ReferenceError(\"underlying object has vanished\")\n",
      "\u001b[0m\u001b[0m\n",
      "  init_rp_tree(data, dist, current_graph, leaf_array)\n",
      "/home/icb/alessandro.palma/miniconda3/envs/celldreamer/lib/python3.10/site-packages/pynndescent/pynndescent_.py:348: NumbaPendingDeprecationWarning: \u001b[1m\u001b[1mCode using Numba extension API maybe depending on 'old_style' error-capturing, which is deprecated and will be replaced by 'new_style' in a future release. See details at https://numba.readthedocs.io/en/latest/reference/deprecation.html#deprecation-of-old-style-numba-captured-errors\n",
      "Exception origin:\n",
      "  File \"/home/icb/alessandro.palma/miniconda3/envs/celldreamer/lib/python3.10/site-packages/numba/core/types/functions.py\", line 486, in __getnewargs__\n",
      "    raise ReferenceError(\"underlying object has vanished\")\n",
      "\u001b[0m\u001b[0m\n",
      "  init_random(n_neighbors, data, current_graph, dist, rng_state)\n",
      "/home/icb/alessandro.palma/miniconda3/envs/celldreamer/lib/python3.10/site-packages/pynndescent/pynndescent_.py:358: NumbaPendingDeprecationWarning: \u001b[1m\u001b[1m\u001b[1mCode using Numba extension API maybe depending on 'old_style' error-capturing, which is deprecated and will be replaced by 'new_style' in a future release. See details at https://numba.readthedocs.io/en/latest/reference/deprecation.html#deprecation-of-old-style-numba-captured-errors\n",
      "Exception origin:\n",
      "  File \"/home/icb/alessandro.palma/miniconda3/envs/celldreamer/lib/python3.10/site-packages/numba/core/types/functions.py\", line 486, in __getnewargs__\n",
      "    raise ReferenceError(\"underlying object has vanished\")\n",
      "\u001b[0m\u001b[0m\u001b[0m\n",
      "  nn_descent_internal_low_memory_parallel(\n"
     ]
    }
   ],
   "source": [
    "sc.pp.normalize_total(adata, target_sum=1e4)\n",
    "sc.pp.log1p(adata)\n",
    "sc.tl.pca(adata)\n",
    "sc.pp.neighbors(adata)\n",
    "sc.tl.umap(adata)"
   ]
  },
  {
   "cell_type": "markdown",
   "id": "9c2fd95d-4f4f-4864-8d6a-c41c1dbb4544",
   "metadata": {},
   "source": [
    "## Train Test split "
   ]
  },
  {
   "cell_type": "code",
   "execution_count": 11,
   "id": "bfc59a1e-23c9-4d1d-9381-ee5754a3ace7",
   "metadata": {},
   "outputs": [],
   "source": [
    "# Generate random indices for train and test sets\n",
    "total_samples = adata.n_obs\n",
    "train_frac = 0.8\n",
    "train_size = int(total_samples * train_frac)\n",
    "train_indices = np.random.choice(total_samples, size=train_size, replace=False)\n",
    "test_indices = np.setdiff1d(np.arange(total_samples), train_indices)\n",
    "\n",
    "# Separate data into train and test sets by indexing the Anndata object\n",
    "train_adata = adata[train_indices, :]\n",
    "test_adata = adata[test_indices, :]"
   ]
  },
  {
   "cell_type": "code",
   "execution_count": 12,
   "id": "1dd0d1d2-f916-4d89-9d3d-e9bdd5d2148a",
   "metadata": {},
   "outputs": [
    {
     "data": {
      "text/plain": [
       "View of AnnData object with n_obs × n_vars = 467955 × 27997\n",
       "    obs: 'suspension_type', 'donor_id', 'is_primary_data', 'assay_ontology_term_id', 'cell_type_ontology_term_id', 'development_stage_ontology_term_id', 'disease_ontology_term_id', 'self_reported_ethnicity_ontology_term_id', 'tissue_ontology_term_id', 'organism_ontology_term_id', 'sex_ontology_term_id', 'BMI', 'age_or_mean_of_age_range', 'age_range', 'anatomical_region_ccf_score', 'ann_coarse_for_GWAS_and_modeling', 'ann_finest_level', 'ann_level_1', 'ann_level_2', 'ann_level_3', 'ann_level_4', 'ann_level_5', 'cause_of_death', 'dataset', 'entropy_dataset_leiden_3', 'entropy_original_ann_level_1_leiden_3', 'entropy_original_ann_level_2_clean_leiden_3', 'entropy_original_ann_level_3_clean_leiden_3', 'entropy_subject_ID_leiden_3', 'fresh_or_frozen', 'leiden_1', 'leiden_2', 'leiden_3', 'leiden_4', 'leiden_5', 'log10_total_counts', 'lung_condition', 'mixed_ancestry', 'n_genes_detected', 'original_ann_highest_res', 'original_ann_level_1', 'original_ann_level_2', 'original_ann_level_3', 'original_ann_level_4', 'original_ann_level_5', 'original_ann_nonharmonized', 'reannotation_type', 'reference_genome', 'sample', 'scanvi_label', 'sequencing_platform', 'size_factors', 'smoking_status', 'study', 'subject_type', 'tissue_dissociation_protocol', 'tissue_level_2', 'tissue_level_3', 'tissue_sampling_method', 'tissue_type', 'cell_type', 'assay', 'disease', 'organism', 'sex', 'tissue', 'self_reported_ethnicity', 'development_stage', 'observation_joinid'\n",
       "    var: 'feature_is_filtered', 'feature_name', 'feature_reference', 'feature_biotype', 'feature_length', 'n_cells'\n",
       "    uns: 'batch_condition', 'citation', 'default_embedding', 'schema_reference', 'schema_version', 'title', 'log1p', 'pca', 'neighbors', 'umap'\n",
       "    obsm: 'X_scanvi_emb', 'X_umap', 'X_pca'\n",
       "    varm: 'PCs'\n",
       "    layers: 'X_counts'\n",
       "    obsp: 'connectivities', 'distances'"
      ]
     },
     "execution_count": 12,
     "metadata": {},
     "output_type": "execute_result"
    }
   ],
   "source": [
    "train_adata"
   ]
  },
  {
   "cell_type": "code",
   "execution_count": 13,
   "id": "0403531b-a75d-4978-89d4-765510c11990",
   "metadata": {},
   "outputs": [
    {
     "data": {
      "text/plain": [
       "View of AnnData object with n_obs × n_vars = 116989 × 27997\n",
       "    obs: 'suspension_type', 'donor_id', 'is_primary_data', 'assay_ontology_term_id', 'cell_type_ontology_term_id', 'development_stage_ontology_term_id', 'disease_ontology_term_id', 'self_reported_ethnicity_ontology_term_id', 'tissue_ontology_term_id', 'organism_ontology_term_id', 'sex_ontology_term_id', 'BMI', 'age_or_mean_of_age_range', 'age_range', 'anatomical_region_ccf_score', 'ann_coarse_for_GWAS_and_modeling', 'ann_finest_level', 'ann_level_1', 'ann_level_2', 'ann_level_3', 'ann_level_4', 'ann_level_5', 'cause_of_death', 'dataset', 'entropy_dataset_leiden_3', 'entropy_original_ann_level_1_leiden_3', 'entropy_original_ann_level_2_clean_leiden_3', 'entropy_original_ann_level_3_clean_leiden_3', 'entropy_subject_ID_leiden_3', 'fresh_or_frozen', 'leiden_1', 'leiden_2', 'leiden_3', 'leiden_4', 'leiden_5', 'log10_total_counts', 'lung_condition', 'mixed_ancestry', 'n_genes_detected', 'original_ann_highest_res', 'original_ann_level_1', 'original_ann_level_2', 'original_ann_level_3', 'original_ann_level_4', 'original_ann_level_5', 'original_ann_nonharmonized', 'reannotation_type', 'reference_genome', 'sample', 'scanvi_label', 'sequencing_platform', 'size_factors', 'smoking_status', 'study', 'subject_type', 'tissue_dissociation_protocol', 'tissue_level_2', 'tissue_level_3', 'tissue_sampling_method', 'tissue_type', 'cell_type', 'assay', 'disease', 'organism', 'sex', 'tissue', 'self_reported_ethnicity', 'development_stage', 'observation_joinid'\n",
       "    var: 'feature_is_filtered', 'feature_name', 'feature_reference', 'feature_biotype', 'feature_length', 'n_cells'\n",
       "    uns: 'batch_condition', 'citation', 'default_embedding', 'schema_reference', 'schema_version', 'title', 'log1p', 'pca', 'neighbors', 'umap'\n",
       "    obsm: 'X_scanvi_emb', 'X_umap', 'X_pca'\n",
       "    varm: 'PCs'\n",
       "    layers: 'X_counts'\n",
       "    obsp: 'connectivities', 'distances'"
      ]
     },
     "execution_count": 13,
     "metadata": {},
     "output_type": "execute_result"
    }
   ],
   "source": [
    "test_adata"
   ]
  },
  {
   "cell_type": "code",
   "execution_count": 14,
   "id": "8988394c-f958-457c-ac0f-801de34127cb",
   "metadata": {},
   "outputs": [
    {
     "data": {
      "text/plain": [
       "AnnData object with n_obs × n_vars = 584944 × 27997\n",
       "    obs: 'suspension_type', 'donor_id', 'is_primary_data', 'assay_ontology_term_id', 'cell_type_ontology_term_id', 'development_stage_ontology_term_id', 'disease_ontology_term_id', 'self_reported_ethnicity_ontology_term_id', 'tissue_ontology_term_id', 'organism_ontology_term_id', 'sex_ontology_term_id', 'BMI', 'age_or_mean_of_age_range', 'age_range', 'anatomical_region_ccf_score', 'ann_coarse_for_GWAS_and_modeling', 'ann_finest_level', 'ann_level_1', 'ann_level_2', 'ann_level_3', 'ann_level_4', 'ann_level_5', 'cause_of_death', 'dataset', 'entropy_dataset_leiden_3', 'entropy_original_ann_level_1_leiden_3', 'entropy_original_ann_level_2_clean_leiden_3', 'entropy_original_ann_level_3_clean_leiden_3', 'entropy_subject_ID_leiden_3', 'fresh_or_frozen', 'leiden_1', 'leiden_2', 'leiden_3', 'leiden_4', 'leiden_5', 'log10_total_counts', 'lung_condition', 'mixed_ancestry', 'n_genes_detected', 'original_ann_highest_res', 'original_ann_level_1', 'original_ann_level_2', 'original_ann_level_3', 'original_ann_level_4', 'original_ann_level_5', 'original_ann_nonharmonized', 'reannotation_type', 'reference_genome', 'sample', 'scanvi_label', 'sequencing_platform', 'size_factors', 'smoking_status', 'study', 'subject_type', 'tissue_dissociation_protocol', 'tissue_level_2', 'tissue_level_3', 'tissue_sampling_method', 'tissue_type', 'cell_type', 'assay', 'disease', 'organism', 'sex', 'tissue', 'self_reported_ethnicity', 'development_stage', 'observation_joinid'\n",
       "    var: 'feature_is_filtered', 'feature_name', 'feature_reference', 'feature_biotype', 'feature_length', 'n_cells'\n",
       "    uns: 'batch_condition', 'citation', 'default_embedding', 'schema_reference', 'schema_version', 'title', 'log1p', 'pca', 'neighbors', 'umap'\n",
       "    obsm: 'X_scanvi_emb', 'X_umap', 'X_pca'\n",
       "    varm: 'PCs'\n",
       "    layers: 'X_counts'\n",
       "    obsp: 'connectivities', 'distances'"
      ]
     },
     "execution_count": 14,
     "metadata": {},
     "output_type": "execute_result"
    }
   ],
   "source": [
    "adata"
   ]
  },
  {
   "cell_type": "markdown",
   "id": "6d396e91-b212-40f6-b26c-00a9975f81a4",
   "metadata": {},
   "source": [
    "## Save"
   ]
  },
  {
   "cell_type": "code",
   "execution_count": 15,
   "id": "1a205159-37fd-4654-8f4b-bd82978139a9",
   "metadata": {},
   "outputs": [],
   "source": [
    "sc.AnnData.write_h5ad(adata, DATA_DIR / \"processed_full_genome\" / \"hlca_core\" / \"hlca_core.h5ad\")"
   ]
  },
  {
   "cell_type": "code",
   "execution_count": 16,
   "id": "7a89e046-d7f2-42b1-8d5e-4485c569f31b",
   "metadata": {},
   "outputs": [],
   "source": [
    "sc.AnnData.write_h5ad(train_adata, DATA_DIR / \"processed_full_genome\" / \"hlca_core\" / \"hlca_core_train.h5ad\")"
   ]
  },
  {
   "cell_type": "code",
   "execution_count": 17,
   "id": "06b552c6-8672-41fc-bb91-283d504ac903",
   "metadata": {},
   "outputs": [],
   "source": [
    "sc.AnnData.write_h5ad(test_adata, DATA_DIR / \"processed_full_genome\" / \"hlca_core\" / \"hlca_core_test.h5ad\")"
   ]
  },
  {
   "cell_type": "code",
   "execution_count": null,
   "id": "c9387e98-10c9-4de4-9f98-2aa24841485a",
   "metadata": {},
   "outputs": [],
   "source": []
  },
  {
   "cell_type": "code",
   "execution_count": 30,
   "id": "18b094d2-bd6a-4a2e-a3d0-a0655f42536c",
   "metadata": {},
   "outputs": [],
   "source": [
    "# adata.X[:10].A"
   ]
  },
  {
   "cell_type": "code",
   "execution_count": 29,
   "id": "d79456cf-bcae-4804-915f-c7323489d19f",
   "metadata": {},
   "outputs": [],
   "source": [
    "# train_adata[:10].X.A"
   ]
  },
  {
   "cell_type": "code",
   "execution_count": 28,
   "id": "5ea86b38-12e3-4064-811f-47565612d970",
   "metadata": {},
   "outputs": [],
   "source": [
    "# test_adata[:10].X.A"
   ]
  },
  {
   "cell_type": "code",
   "execution_count": 27,
   "id": "551e30b5-43bc-4c82-8335-2cb26428c2c2",
   "metadata": {},
   "outputs": [],
   "source": [
    "# adata.layers[\"X_counts\"][:10].A"
   ]
  },
  {
   "cell_type": "code",
   "execution_count": 26,
   "id": "04ee112a-2e7f-461b-8f63-6eb37f709d88",
   "metadata": {},
   "outputs": [],
   "source": [
    "# train_adata.layers[\"X_counts\"][:10].A"
   ]
  },
  {
   "cell_type": "code",
   "execution_count": 25,
   "id": "e174ab26-faf2-462e-b349-4b132e6ce8ed",
   "metadata": {},
   "outputs": [],
   "source": [
    "# test_adata.layers[\"X_counts\"][:10].A"
   ]
  },
  {
   "cell_type": "code",
   "execution_count": null,
   "id": "c735f9d0-5939-422b-9a15-fb2916e2beed",
   "metadata": {},
   "outputs": [],
   "source": []
  }
 ],
 "metadata": {
  "kernelspec": {
   "display_name": "Python 3 (ipykernel)",
   "language": "python",
   "name": "python3"
  },
  "language_info": {
   "codemirror_mode": {
    "name": "ipython",
    "version": 3
   },
   "file_extension": ".py",
   "mimetype": "text/x-python",
   "name": "python",
   "nbconvert_exporter": "python",
   "pygments_lexer": "ipython3",
   "version": "3.10.13"
  }
 },
 "nbformat": 4,
 "nbformat_minor": 5
}
