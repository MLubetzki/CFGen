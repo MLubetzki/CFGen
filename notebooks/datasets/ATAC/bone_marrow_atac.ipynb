{
 "cells": [
  {
   "cell_type": "code",
   "execution_count": 2,
   "id": "a84e0cf3-ca6f-4066-b23a-729ee9ffe7fa",
   "metadata": {},
   "outputs": [],
   "source": [
    "import scanpy as sc"
   ]
  },
  {
   "cell_type": "markdown",
   "id": "44f49d91-6ded-4b74-aaf5-d9752f59d1fc",
   "metadata": {},
   "source": [
    "Read RNA"
   ]
  },
  {
   "cell_type": "code",
   "execution_count": 17,
   "id": "f1a6faed-0250-424a-9d00-e77171f7bd16",
   "metadata": {},
   "outputs": [],
   "source": [
    "adata_rna = sc.read_h5ad(\"../../datasets/raw/pancreas_multiome_2022_processed_atac.h5ad\")"
   ]
  },
  {
   "cell_type": "markdown",
   "id": "8f26dd2b-2936-4d8c-910b-0d679056ad4c",
   "metadata": {},
   "source": [
    "Read ATAC"
   ]
  },
  {
   "cell_type": "code",
   "execution_count": 12,
   "id": "02dde20d-7c42-4558-b3a2-9803201c8be0",
   "metadata": {},
   "outputs": [],
   "source": [
    "adata_atac = sc.read_h5ad(\"../../datasets/raw/hspc_atac.h5ad\")"
   ]
  },
  {
   "cell_type": "code",
   "execution_count": null,
   "id": "47c3acfa-eb57-4969-aab0-071ce9d78b63",
   "metadata": {},
   "outputs": [],
   "source": []
  },
  {
   "cell_type": "code",
   "execution_count": null,
   "id": "e9b0f7be-0fb2-4614-9a23-d527fdef2705",
   "metadata": {},
   "outputs": [],
   "source": []
  }
 ],
 "metadata": {
  "kernelspec": {
   "display_name": "Python 3 (ipykernel)",
   "language": "python",
   "name": "python3"
  },
  "language_info": {
   "codemirror_mode": {
    "name": "ipython",
    "version": 3
   },
   "file_extension": ".py",
   "mimetype": "text/x-python",
   "name": "python",
   "nbconvert_exporter": "python",
   "pygments_lexer": "ipython3",
   "version": "3.10.13"
  }
 },
 "nbformat": 4,
 "nbformat_minor": 5
}
