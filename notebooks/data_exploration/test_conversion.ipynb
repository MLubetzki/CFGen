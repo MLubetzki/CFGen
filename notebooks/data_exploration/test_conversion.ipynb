{
 "cells": [
  {
   "cell_type": "code",
   "execution_count": 10,
   "id": "7d8d6e82",
   "metadata": {},
   "outputs": [],
   "source": [
    "import torch\n",
    "import torch.nn as nn\n",
    "import math \n",
    "from celldreamer.models.diffusion.distributions import x0_to_xt"
   ]
  },
  {
   "cell_type": "code",
   "execution_count": 11,
   "id": "3630a387",
   "metadata": {},
   "outputs": [],
   "source": [
    "test_tensor = torch.arange(1000).unsqueeze(-1)"
   ]
  },
  {
   "cell_type": "markdown",
   "id": "2d7c30da",
   "metadata": {},
   "source": [
    "**From reference code**"
   ]
  },
  {
   "cell_type": "code",
   "execution_count": 12,
   "id": "762cac5a",
   "metadata": {},
   "outputs": [],
   "source": [
    "class SinusoidalPosEmb(nn.Module):\n",
    "    def __init__(self, dim):\n",
    "        super().__init__()\n",
    "        self.dim = dim\n",
    "\n",
    "    def forward(self, x):\n",
    "        device = x.device\n",
    "        half_dim = self.dim // 2\n",
    "        emb = math.log(10000) / (half_dim - 1)\n",
    "        emb = torch.exp(torch.arange(half_dim, device=device) * -emb)\n",
    "        emb = x[:, None] * emb[None, :]\n",
    "        emb = torch.cat((emb.sin(), emb.cos()), dim=-1)\n",
    "        return emb"
   ]
  },
  {
   "cell_type": "code",
   "execution_count": 13,
   "id": "688d8143",
   "metadata": {},
   "outputs": [],
   "source": [
    "sin = SinusoidalPosEmb(100)"
   ]
  },
  {
   "cell_type": "code",
   "execution_count": 16,
   "id": "65a03be4",
   "metadata": {},
   "outputs": [
    {
     "data": {
      "text/plain": [
       "tensor([[ 0.0000,  0.0000,  0.0000,  ...,  1.0000,  1.0000,  1.0000],\n",
       "        [ 0.8415,  0.7370,  0.6339,  ...,  1.0000,  1.0000,  1.0000],\n",
       "        [ 0.9093,  0.9963,  0.9806,  ...,  1.0000,  1.0000,  1.0000],\n",
       "        ...,\n",
       "        [-0.8980,  0.0819, -0.2747,  ...,  0.9895,  0.9928,  0.9950],\n",
       "        [-0.8555, -0.6792,  0.3971,  ...,  0.9895,  0.9928,  0.9950],\n",
       "        [-0.0265, -1.0000,  0.8889,  ...,  0.9894,  0.9927,  0.9950]])"
      ]
     },
     "execution_count": 16,
     "metadata": {},
     "output_type": "execute_result"
    }
   ],
   "source": [
    "sin(test_tensor).squeeze()"
   ]
  },
  {
   "cell_type": "markdown",
   "id": "bbd68c02",
   "metadata": {},
   "source": [
    "**From our code**"
   ]
  },
  {
   "cell_type": "code",
   "execution_count": 22,
   "id": "0e82f053",
   "metadata": {},
   "outputs": [],
   "source": [
    "def timestep_embedding(t: torch.Tensor, dim: int):\n",
    "    \"\"\"\n",
    "    Create sinusoidal timestep embeddings.\n",
    "    :param timesteps: a 1-D Tensor of N indices, one per batch element.\n",
    "                      These may be fractional.\n",
    "    :param dim: the dimension of the output.\n",
    "    :param max_period: controls the minimum frequency of the embeddings.\n",
    "    :return: an [N x dim] Tensor of positional embeddings.\n",
    "    \"\"\"\n",
    "    half_dim = dim // 2\n",
    "    emb = math.log(10000) / (half_dim - 1)\n",
    "    emb = torch.exp(torch.arange(half_dim) * -emb)\n",
    "    emb = t[:, None] * emb[None, :]\n",
    "    emb = torch.cat((emb.sin(), emb.cos()), dim=-1)\n",
    "    return emb"
   ]
  },
  {
   "cell_type": "code",
   "execution_count": 23,
   "id": "ac15e8b6",
   "metadata": {},
   "outputs": [
    {
     "data": {
      "text/plain": [
       "tensor([[ 0.0000,  0.0000,  0.0000,  ...,  1.0000,  1.0000,  1.0000],\n",
       "        [ 0.8415,  0.7370,  0.6339,  ...,  1.0000,  1.0000,  1.0000],\n",
       "        [ 0.9093,  0.9963,  0.9806,  ...,  1.0000,  1.0000,  1.0000],\n",
       "        ...,\n",
       "        [-0.8980,  0.0819, -0.2747,  ...,  0.9895,  0.9928,  0.9950],\n",
       "        [-0.8555, -0.6792,  0.3971,  ...,  0.9895,  0.9928,  0.9950],\n",
       "        [-0.0265, -1.0000,  0.8889,  ...,  0.9894,  0.9927,  0.9950]])"
      ]
     },
     "execution_count": 23,
     "metadata": {},
     "output_type": "execute_result"
    }
   ],
   "source": [
    "timestep_embedding(test_tensor, 100).squeeze()"
   ]
  },
  {
   "cell_type": "code",
   "execution_count": null,
   "id": "0ab3b0be",
   "metadata": {},
   "outputs": [],
   "source": []
  }
 ],
 "metadata": {
  "kernelspec": {
   "display_name": "Python 3 (ipykernel)",
   "language": "python",
   "name": "python3"
  },
  "language_info": {
   "codemirror_mode": {
    "name": "ipython",
    "version": 3
   },
   "file_extension": ".py",
   "mimetype": "text/x-python",
   "name": "python",
   "nbconvert_exporter": "python",
   "pygments_lexer": "ipython3",
   "version": "3.10.11"
  }
 },
 "nbformat": 4,
 "nbformat_minor": 5
}
