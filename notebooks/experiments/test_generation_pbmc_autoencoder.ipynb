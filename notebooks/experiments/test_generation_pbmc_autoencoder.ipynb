{
 "cells": [
  {
   "cell_type": "code",
   "execution_count": 1,
   "id": "0e922d7a-94d3-4835-b329-a92f7a0cedea",
   "metadata": {},
   "outputs": [
    {
     "name": "stderr",
     "output_type": "stream",
     "text": [
      "An NVIDIA GPU may be present on this machine, but a CUDA-enabled jaxlib is not installed. Falling back to cpu.\n",
      "/home/icb/alessandro.palma/miniconda3/envs/celldreamer/lib/python3.10/site-packages/scvi/_settings.py:63: UserWarning: Since v1.0.0, scvi-tools no longer uses a random seed by default. Run `scvi.settings.seed = 0` to reproduce results from previous versions.\n",
      "  self.seed = seed\n",
      "/home/icb/alessandro.palma/miniconda3/envs/celldreamer/lib/python3.10/site-packages/scvi/_settings.py:70: UserWarning: Setting `dl_pin_memory_gpu_training` is deprecated in v1.0 and will be removed in v1.1. Please pass in `pin_memory` to the data loaders instead.\n",
      "  self.dl_pin_memory_gpu_training = (\n"
     ]
    }
   ],
   "source": [
    "import numpy as np\n",
    "import pandas as pd\n",
    "import yaml\n",
    "import torch\n",
    "from copy import deepcopy\n",
    "import matplotlib.pyplot as plt\n",
    "from celldreamer.eval.eval_utils import normalize_and_compute_metrics\n",
    "import scipy.sparse as sp\n",
    "from celldreamer.eval.evaluate import compute_prdc\n",
    "\n",
    "\n",
    "from torch import nn\n",
    "import scanpy as sc    \n",
    "\n",
    "from celldreamer.data.scrnaseq_loader import RNAseqLoader\n",
    "from celldreamer.models.featurizers.category_featurizer import CategoricalFeaturizer\n",
    "from celldreamer.models.fm.denoising_model import SimpleMLPTimeStep\n",
    "from celldreamer.models.fm.fm import FM\n",
    "from celldreamer.eval.optimal_transport import wasserstein\n",
    "import random\n",
    "from celldreamer.models.base.encoder_model import EncoderModel\n",
    "from celldreamer.models.base.utils import unsqueeze_right\n",
    "\n",
    "device  = \"cuda\" if torch.cuda.is_available() else \"cpu\""
   ]
  },
  {
   "cell_type": "markdown",
   "id": "cf05306c-4156-4e1c-9196-23143c54f727",
   "metadata": {},
   "source": [
    "**Util function**"
   ]
  },
  {
   "cell_type": "code",
   "execution_count": 2,
   "id": "79dfc76b-c597-4116-9f5b-2015ab8681cb",
   "metadata": {},
   "outputs": [],
   "source": [
    "def init_feature_embeddings(dataset, dataset_config, device):\n",
    "    feature_embeddings = {}  \n",
    "    num_classes = {}\n",
    "            \n",
    "    for cov, cov_names in dataset.id2cov.items():\n",
    "        feature_embeddings[cov] = CategoricalFeaturizer(len(cov_names), \n",
    "                                                                  dataset_config[\"one_hot_encode_features\"], \n",
    "                                                                  device, \n",
    "                                                                  embedding_dimensions=dataset_config[\"cov_embedding_dimensions\"])\n",
    "        if dataset_config[\"one_hot_encode_features\"]:\n",
    "            num_classes[cov] = len(cov_names)\n",
    "        else:\n",
    "            num_classes[cov] = dataset_config[\"cov_embedding_dimensions\"]\n",
    "    return feature_embeddings"
   ]
  },
  {
   "cell_type": "markdown",
   "id": "2337906d-bdfa-47b1-a00b-a56ead7770bf",
   "metadata": {},
   "source": [
    "## Step 1: Initialize data"
   ]
  },
  {
   "cell_type": "code",
   "execution_count": null,
   "id": "9d122123-ecb5-407c-a31f-4be515dbc482",
   "metadata": {},
   "outputs": [],
   "source": [
    "dataset_config = {'dataset_path': '../../datasets/processed/pbmc3k.h5ad',\n",
    "                    'layer_key': 'X_counts',\n",
    "                    'covariate_keys': ['cell_type'],\n",
    "                    'conditioning_covariate': 'cell_type',\n",
    "                    'subsample_frac': 1,\n",
    "                    'encoder_type': 'learnt_autoencoder',\n",
    "                    'target_max': 1,\n",
    "                    'target_min': -1,\n",
    "                    'one_hot_encode_features': False,\n",
    "                    'split_rates': [0.90, 0.05, 0.05],\n",
    "                    'cov_embedding_dimensions': 256}\n",
    "\n",
    "data_path = dataset_config[\"dataset_path\"]\n",
    "\n",
    "dataset = RNAseqLoader(data_path=data_path,\n",
    "                                layer_key=dataset_config[\"layer_key\"],\n",
    "                                covariate_keys=dataset_config[\"covariate_keys\"],\n",
    "                                subsample_frac=dataset_config[\"subsample_frac\"], \n",
    "                                encoder_type=dataset_config[\"encoder_type\"],\n",
    "                                target_max=dataset_config[\"target_max\"], \n",
    "                                target_min=dataset_config[\"target_min\"])\n",
    "\n",
    "dataloader = torch.utils.data.DataLoader(dataset,\n",
    "                                            batch_size=256,\n",
    "                                            shuffle=True,\n",
    "                                            num_workers=4, \n",
    "                                            drop_last=True)\n",
    "\n",
    "in_dim = dataset.X.shape[1]\n",
    "size_factor_statistics = {\"mean\": dataset.log_size_factor_mu, \n",
    "                                  \"sd\": dataset.log_size_factor_sd}\n",
    "scaler = dataset.get_scaler()\n",
    "n_cat = len(dataset.id2cov[\"cell_type\"])"
   ]
  },
  {
   "cell_type": "markdown",
   "id": "01e52db6-ea20-4c88-ad5e-8744267372b5",
   "metadata": {},
   "source": [
    "## Step 2: Initialize encoder"
   ]
  },
  {
   "cell_type": "code",
   "execution_count": null,
   "id": "05c31d1f-75d4-41ab-a58e-ff894e8a5cc0",
   "metadata": {},
   "outputs": [],
   "source": [
    "encoder_config = {\n",
    "    \"x0_from_x_kwargs\": {\n",
    "        \"dims\": [512, 512],\n",
    "        \"batch_norm\": True,\n",
    "        \"dropout\": False,\n",
    "        \"dropout_p\": 0.0\n",
    "    },\n",
    "    \"learning_rate\": 0.001,\n",
    "    \"weight_decay\": 0.00001,\n",
    "    \"covariate_specific_theta\": False\n",
    "}\n",
    "\n",
    "state_dict_path = \"/home/icb/alessandro.palma/environment/celldreamer/project_folder/experiments/train_autoencoder_pbmc3k/fadd6319-d854-4da5-b19c-af9e4d16a898/checkpoints/last.ckpt\""
   ]
  },
  {
   "cell_type": "code",
   "execution_count": null,
   "id": "5037fb6f-d5d9-4d51-bfb4-c42e73ff043a",
   "metadata": {},
   "outputs": [],
   "source": [
    "encoder_model = EncoderModel(in_dim=in_dim,\n",
    "                              scaler=scaler, \n",
    "                              n_cat=n_cat,\n",
    "                              conditioning_covariate=dataset_config[\"conditioning_covariate\"], \n",
    "                              encoder_type=dataset_config[\"encoder_type\"],\n",
    "                              **encoder_config)\n",
    "encoder_model.eval()\n",
    "\n",
    "encoder_model.load_state_dict(torch.load(state_dict_path)[\"state_dict\"])"
   ]
  },
  {
   "cell_type": "markdown",
   "id": "fedbd845-234d-437e-80f5-6b1c0a59695c",
   "metadata": {},
   "source": [
    "## Initialize FM model"
   ]
  },
  {
   "cell_type": "code",
   "execution_count": null,
   "id": "39190b2e-831f-4aca-a25c-4651e4b4cdc6",
   "metadata": {},
   "outputs": [],
   "source": [
    "generative_model_config = {'learning_rate': 0.0001,\n",
    "                            'weight_decay': 0.00001,\n",
    "                            'antithetic_time_sampling': True,\n",
    "                            'sigma': 0.5,\n",
    "                            'scaling_factor': None}"
   ]
  },
  {
   "cell_type": "code",
   "execution_count": null,
   "id": "98f49071-05c8-41a8-8a4b-83600981491e",
   "metadata": {
    "scrolled": true
   },
   "outputs": [],
   "source": [
    "ckpt = torch.load(\"/home/icb/alessandro.palma/environment/celldreamer/project_folder/experiments/fm_resnet_autoencoder_pbmc3k/ce7c879e-064d-4bc5-8c03-333e7f5b4bb3/checkpoints/last.ckpt\")\n",
    "\n",
    "denoising_model = ckpt[\"hyper_parameters\"][\"denoising_model\"]\n",
    "denoising_model"
   ]
  },
  {
   "cell_type": "code",
   "execution_count": null,
   "id": "0fd5db02-e71b-4115-9348-5e52d10da9cb",
   "metadata": {
    "scrolled": true
   },
   "outputs": [],
   "source": [
    "print(ckpt[\"hyper_parameters\"][\"feature_embeddings\"][\"cell_type\"].embeddings.weight)\n",
    "feature_embeddings = ckpt[\"hyper_parameters\"][\"feature_embeddings\"]"
   ]
  },
  {
   "cell_type": "markdown",
   "id": "64548d77-2e55-4a4b-8d20-49ee96096e3a",
   "metadata": {},
   "source": [
    "Initializations"
   ]
  },
  {
   "cell_type": "code",
   "execution_count": null,
   "id": "07002cca-2d73-4dad-baa9-6a64cac5e281",
   "metadata": {
    "scrolled": true
   },
   "outputs": [],
   "source": [
    "generative_model = FM(\n",
    "            encoder_model=encoder_model,\n",
    "            denoising_model=denoising_model,\n",
    "            feature_embeddings=feature_embeddings,\n",
    "            plotting_folder=None,\n",
    "            in_dim=512,\n",
    "            size_factor_statistics=size_factor_statistics,\n",
    "            scaler=scaler,\n",
    "            encoder_type=dataset_config[\"encoder_type\"],\n",
    "            conditioning_covariate=dataset_config[\"conditioning_covariate\"],\n",
    "            model_type=denoising_model.model_type, \n",
    "            **generative_model_config  # model_kwargs should contain the rest of the arguments\n",
    "            )\n",
    "\n",
    "generative_model.load_state_dict(ckpt[\"state_dict\"])\n",
    "generative_model.to(\"cuda\")"
   ]
  },
  {
   "cell_type": "markdown",
   "id": "c9b3d1e1-3458-4df1-81f2-3ca45820879e",
   "metadata": {},
   "source": [
    "**Check the data**"
   ]
  },
  {
   "cell_type": "code",
   "execution_count": null,
   "id": "86e7b000-32fd-4c0f-b466-71912b30b104",
   "metadata": {},
   "outputs": [],
   "source": [
    "adata_original = sc.read_h5ad(data_path)\n",
    "adata_original.obs[\"size_factor\"]=adata_original.X.A.sum(1)\n",
    "X = torch.tensor(adata_original.layers[\"X_counts\"].todense())"
   ]
  },
  {
   "cell_type": "markdown",
   "id": "9d629145-0891-4d18-a1a8-43baae9499b1",
   "metadata": {},
   "source": [
    "**Collect checkpoints and run**"
   ]
  },
  {
   "cell_type": "markdown",
   "id": "13c13105-5feb-428a-acad-db115414c546",
   "metadata": {},
   "source": [
    "General conditional"
   ]
  },
  {
   "cell_type": "code",
   "execution_count": null,
   "id": "99d90202-19d8-43ce-b723-7ca0f70cd8cc",
   "metadata": {},
   "outputs": [],
   "source": [
    "num_indices = 2500\n",
    "index_range = len(X)\n",
    "\n",
    "# Generate random dummy indices without replacement\n",
    "indices = random.sample(range(index_range), num_indices)\n",
    "adata_indices = adata_original[indices]\n",
    "\n",
    "classes =  list(adata_indices.obs.cell_type)\n",
    "classes = torch.tensor([dataset.id2cov[\"cell_type\"][c] for  c in classes]).cuda()\n",
    "\n",
    "log_size_factors = torch.log(torch.tensor(adata_indices.layers[\"X_counts\"].sum(1))).cuda()"
   ]
  },
  {
   "cell_type": "code",
   "execution_count": null,
   "id": "672776c6-4e1a-4c35-8e1e-2f1dcbb4a4f0",
   "metadata": {},
   "outputs": [],
   "source": [
    "X_generated = generative_model.batched_sample(batch_size=25,\n",
    "                                                repetitions=100,\n",
    "                                                n_sample_steps=2, \n",
    "                                                covariate=\"cell_type\", \n",
    "                                                covariate_indices=classes, \n",
    "                                                log_size_factor=log_size_factors)\n",
    "\n",
    "X_generated = X_generated.to(\"cpu\")"
   ]
  },
  {
   "cell_type": "code",
   "execution_count": null,
   "id": "84df533d-5f60-4022-a966-14a473cd6cf7",
   "metadata": {},
   "outputs": [],
   "source": [
    "X_generated.shape"
   ]
  },
  {
   "cell_type": "markdown",
   "id": "f92b2c23-03e1-4424-9fcc-937e461b0ddd",
   "metadata": {},
   "source": [
    "Single condition"
   ]
  },
  {
   "cell_type": "markdown",
   "id": "7f662720-7bbe-4861-92b4-7850b10fe6be",
   "metadata": {},
   "source": [
    "**Create adata and check plots**"
   ]
  },
  {
   "cell_type": "code",
   "execution_count": null,
   "id": "4e07bb1b-0be2-480b-aad0-a4916f48d72a",
   "metadata": {},
   "outputs": [],
   "source": [
    "adata_generated = sc.AnnData(X=sp.csr_matrix(deepcopy(X_generated).cpu().numpy()))"
   ]
  },
  {
   "cell_type": "code",
   "execution_count": null,
   "id": "3c63cda6-e85b-4e44-864f-44d1530d3b53",
   "metadata": {
    "scrolled": true
   },
   "outputs": [],
   "source": [
    "sc.pp.log1p(adata_generated)\n",
    "sc.tl.pca(adata_generated)\n",
    "sc.pp.neighbors(adata_generated)\n",
    "sc.tl.umap(adata_generated)"
   ]
  },
  {
   "cell_type": "code",
   "execution_count": null,
   "id": "930d3eef-608f-40e2-83b0-c0e49c2156e2",
   "metadata": {},
   "outputs": [],
   "source": [
    "adata_generated.obs[\"size_factor\"] = adata_generated.X.sum(1)"
   ]
  },
  {
   "cell_type": "code",
   "execution_count": null,
   "id": "79ede7df-2def-43b0-8eac-cd8aad8fc6a8",
   "metadata": {},
   "outputs": [],
   "source": [
    "sc.pl.pca(adata_generated, color=\"size_factor\", annotate_var_explained=True)\n",
    "sc.pl.umap(adata_generated, color=\"size_factor\")"
   ]
  },
  {
   "cell_type": "code",
   "execution_count": null,
   "id": "6400813f-b003-431c-9d9a-0e1d0bb1fc38",
   "metadata": {},
   "outputs": [],
   "source": [
    "sc.pl.pca(adata_original, color=\"size_factor\",  annotate_var_explained=True)\n",
    "sc.pl.umap(adata_original, color=\"size_factor\")"
   ]
  },
  {
   "cell_type": "markdown",
   "id": "8b3c4b92-316c-4d75-8263-23b5fe9d5eb7",
   "metadata": {},
   "source": [
    "Merge and plot the generated and real data"
   ]
  },
  {
   "cell_type": "code",
   "execution_count": null,
   "id": "fe852c98-8a0e-4184-96f1-77c65754f70b",
   "metadata": {},
   "outputs": [],
   "source": [
    "dataset_type = [\"Real\" for _ in range(X.shape[0])] + [\"Generated\" for _ in range(X_generated.shape[0])]\n",
    "dataset_type = pd.DataFrame(dataset_type)\n",
    "dataset_type.columns = [\"dataset_type\"]"
   ]
  },
  {
   "cell_type": "code",
   "execution_count": null,
   "id": "5f071c13-2327-4d67-b8e9-b79cce2e17d2",
   "metadata": {},
   "outputs": [],
   "source": [
    "# # If applicable \n",
    "# cell_type = list(adata_original.obs.clusters) + [condition_name for _ in range(X_generated.shape[0])]\n",
    "# dataset_type[\"cell_type\"] = cell_type"
   ]
  },
  {
   "cell_type": "code",
   "execution_count": null,
   "id": "9f55d375-647a-48a3-a944-542d4e38f88b",
   "metadata": {},
   "outputs": [],
   "source": [
    "adata_merged = sc.AnnData(X=torch.cat([X, X_generated], dim=0).numpy(), \n",
    "                             obs=dataset_type)"
   ]
  },
  {
   "cell_type": "code",
   "execution_count": null,
   "id": "3fc15d7b-929b-4ea9-aa02-78a687e7182e",
   "metadata": {},
   "outputs": [],
   "source": [
    "adata_original"
   ]
  },
  {
   "cell_type": "code",
   "execution_count": null,
   "id": "8e6db6cc-c0ff-40df-8124-62b100b91c6e",
   "metadata": {},
   "outputs": [],
   "source": [
    "sc.pp.log1p(adata_merged) \n",
    "sc.tl.pca(adata_merged)\n",
    "sc.pp.neighbors(adata_merged)\n",
    "sc.tl.umap(adata_merged)"
   ]
  },
  {
   "cell_type": "code",
   "execution_count": null,
   "id": "5046a41a-b42c-4c04-98af-fe03c9ac63c2",
   "metadata": {},
   "outputs": [],
   "source": [
    "sc.pl.pca(adata_merged, color=\"dataset_type\",  annotate_var_explained=True)\n",
    "sc.pl.umap(adata_merged, color=\"dataset_type\")"
   ]
  },
  {
   "cell_type": "code",
   "execution_count": null,
   "id": "bcf61299-c558-4c86-b6a6-fc6b7395e65d",
   "metadata": {},
   "outputs": [],
   "source": [
    "plt.hist(X_generated.sum(1), 100)\n",
    "plt.show()"
   ]
  },
  {
   "cell_type": "code",
   "execution_count": null,
   "id": "bdf040a1-62bd-43c3-8b95-53480a3e611c",
   "metadata": {},
   "outputs": [],
   "source": [
    "plt.hist(X.sum(1), 100)\n",
    "plt.show()"
   ]
  },
  {
   "cell_type": "code",
   "execution_count": null,
   "id": "e1d089b2-0f08-4f99-b69a-249200c50fb5",
   "metadata": {},
   "outputs": [],
   "source": [
    "(X_generated==0).sum(1).float().mean()"
   ]
  },
  {
   "cell_type": "code",
   "execution_count": null,
   "id": "31ddbb2a-5c20-4a59-9fc2-df982a0ef83b",
   "metadata": {},
   "outputs": [],
   "source": [
    "(X==0).sum(1).float().mean()"
   ]
  },
  {
   "cell_type": "code",
   "execution_count": null,
   "id": "8121b7d9-2f75-4bd2-b2c5-2275fecf7d2a",
   "metadata": {},
   "outputs": [],
   "source": [
    "X.mean(1).mean()"
   ]
  },
  {
   "cell_type": "code",
   "execution_count": null,
   "id": "0728753c-5fa2-4656-a267-763d520ec43e",
   "metadata": {},
   "outputs": [],
   "source": [
    "X_generated.mean(1).mean()"
   ]
  },
  {
   "cell_type": "code",
   "execution_count": null,
   "id": "2cde2087-61f7-4ca4-83c1-003e448d5dba",
   "metadata": {},
   "outputs": [],
   "source": [
    "adata_original.X.A"
   ]
  },
  {
   "cell_type": "code",
   "execution_count": null,
   "id": "6615962e-fefa-46db-9f55-9067292ac9cd",
   "metadata": {},
   "outputs": [],
   "source": [
    "adata_generated.X.A"
   ]
  },
  {
   "cell_type": "code",
   "execution_count": null,
   "id": "5dbe05a5-24ed-43d3-a95a-6afb621ea2d8",
   "metadata": {},
   "outputs": [],
   "source": [
    "normalize_and_compute_metrics(adata_original, adata_generated, sparse=True)"
   ]
  },
  {
   "cell_type": "code",
   "execution_count": null,
   "id": "9eb2b279-45cb-4f70-90b1-3a3f81c27f49",
   "metadata": {},
   "outputs": [],
   "source": [
    "compute_prdc(X, X_generated, 10)"
   ]
  },
  {
   "cell_type": "code",
   "execution_count": null,
   "id": "ec9db460-645c-4161-912a-cbfeb51b4e45",
   "metadata": {},
   "outputs": [],
   "source": []
  }
 ],
 "metadata": {
  "kernelspec": {
   "display_name": "Python 3 (ipykernel)",
   "language": "python",
   "name": "python3"
  },
  "language_info": {
   "codemirror_mode": {
    "name": "ipython",
    "version": 3
   },
   "file_extension": ".py",
   "mimetype": "text/x-python",
   "name": "python",
   "nbconvert_exporter": "python",
   "pygments_lexer": "ipython3",
   "version": "3.10.13"
  }
 },
 "nbformat": 4,
 "nbformat_minor": 5
}
