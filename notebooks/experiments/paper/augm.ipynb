{
 "cells": [
  {
   "cell_type": "code",
   "execution_count": 1,
   "id": "9af54b91-f3fd-4bc2-b585-4d674914cd1f",
   "metadata": {},
   "outputs": [],
   "source": [
    "import celldreamer\n",
    "import scanpy as sc\n",
    "import numpy as np\n",
    "import pandas as pd\n",
    "\n",
    "import matplotlib\n",
    "from matplotlib import rc\n",
    "import matplotlib.pyplot as plt \n",
    "matplotlib.rcdefaults()\n",
    "\n",
    "from pathlib import Path\n",
    "matplotlib_rc = { \n",
    "    # 'text': {'usetex': True}, \n",
    "    'font': {'family': 'serif'} } # Apply changes for k, v in matplotlib_rc.items(): rc(k, **v)\n",
    "for k, v in matplotlib_rc.items():\n",
    "          rc(k, **v)\n",
    "\n",
    "from matplotlib import rcParams\n",
    "\n",
    "FIGSIZE = (4, 4)\n",
    "rcParams[\"figure.figsize\"] = FIGSIZE"
   ]
  },
  {
   "cell_type": "code",
   "execution_count": null,
   "id": "07878310-424b-492e-be51-1865965a2be6",
   "metadata": {},
   "outputs": [],
   "source": [
    "hlca_norm = sc.read_h5ad(\"/home/icb/alessandro.palma/environment/celldreamer/project_folder/datasets/processed_full_genome/hlca_core/hlca_core_test.h5ad\") \n",
    "hlca_aug = sc.read_h5ad(\"/home/icb/alessandro.palma/environment/celldreamer/project_folder/datasets/processed_full_genome/hlca_core/hlca_core_test.h5ad\") "
   ]
  },
  {
   "cell_type": "code",
   "execution_count": null,
   "id": "4bab5ae8-e0ac-4481-8213-497540a41546",
   "metadata": {},
   "outputs": [],
   "source": [
    "pbmc_norm = sc.read_h5ad(\"/home/icb/alessandro.palma/environment/celldreamer/project_folder/datasets/processed_full_genome/hlca_core/hlca_core_test.h5ad\") \n",
    "pbmc_aug = sc.read_h5ad(\"/home/icb/alessandro.palma/environment/celldreamer/project_folder/datasets/processed_full_genome/hlca_core/hlca_core_test.h5ad\") "
   ]
  }
 ],
 "metadata": {
  "kernelspec": {
   "display_name": "Python 3 (ipykernel)",
   "language": "python",
   "name": "python3"
  },
  "language_info": {
   "codemirror_mode": {
    "name": "ipython",
    "version": 3
   },
   "file_extension": ".py",
   "mimetype": "text/x-python",
   "name": "python",
   "nbconvert_exporter": "python",
   "pygments_lexer": "ipython3",
   "version": "3.10.13"
  }
 },
 "nbformat": 4,
 "nbformat_minor": 5
}
