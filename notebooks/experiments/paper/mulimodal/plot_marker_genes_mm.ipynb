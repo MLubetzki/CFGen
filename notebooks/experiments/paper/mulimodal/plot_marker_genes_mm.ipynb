{
 "cells": [
  {
   "cell_type": "code",
   "execution_count": 2,
   "id": "08740a79-b3bf-43ca-8f8a-e87234bae650",
   "metadata": {},
   "outputs": [],
   "source": [
    "import numpy as np\n",
    "import scanpy as sc\n",
    "import pandas as pd\n",
    "import scipy as sp\n",
    "import muon as mu\n",
    "from muon import atac as ac\n",
    "import matplotlib\n",
    "from matplotlib import rc\n",
    "import matplotlib.pyplot as plt \n",
    "matplotlib.rcdefaults()\n",
    "\n",
    "from pathlib import Path\n",
    "matplotlib_rc = { \n",
    "    # 'text': {'usetex': True}, \n",
    "    'font': {'family': 'serif'} } # Apply changes for k, v in matplotlib_rc.items(): rc(k, **v)\n",
    "for k, v in matplotlib_rc.items():\n",
    "          rc(k, **v)"
   ]
  },
  {
   "cell_type": "markdown",
   "id": "15d318f5-9dfe-4a65-9b38-fe1724f12c11",
   "metadata": {},
   "source": [
    "## Read multimodal datasets"
   ]
  },
  {
   "cell_type": "code",
   "execution_count": 3,
   "id": "e3cb5c84-42f6-4ca7-9159-d30216a70a5d",
   "metadata": {
    "scrolled": true
   },
   "outputs": [
    {
     "name": "stderr",
     "output_type": "stream",
     "text": [
      "/home/icb/alessandro.palma/miniconda3/envs/celldreamer/lib/python3.10/site-packages/anndata/_core/anndata.py:522: FutureWarning: The dtype argument is deprecated and will be removed in late 2024.\n",
      "  warnings.warn(\n",
      "/home/icb/alessandro.palma/miniconda3/envs/celldreamer/lib/python3.10/site-packages/anndata/_core/anndata.py:522: FutureWarning: The dtype argument is deprecated and will be removed in late 2024.\n",
      "  warnings.warn(\n"
     ]
    }
   ],
   "source": [
    "adata_celldreamer = sc.read_h5ad(\"/home/icb/alessandro.palma/environment/celldreamer/project_folder/datasets/generated/pbmc10k_multimodal/generated_cells_0_rna.h5ad\")\n",
    "adata_scvi = sc.read_h5ad(\"/home/icb/alessandro.palma/environment/celldreamer/project_folder/baseline_experiments/scvi/pbmc10k_multimodal/generated/pbmc_multimodal_0.h5ad\")\n",
    "adata_multivi = sc.read_h5ad(\"/home/icb/alessandro.palma/environment/celldreamer/project_folder/baseline_experiments/multivi/pbmc/generated/expression/pbmc10k_multimodal_0.h5ad\")\n",
    "adata_real = mu.read(\"/home/icb/alessandro.palma/environment/celldreamer/project_folder/datasets/processed/atac/pbmc/pbmc10k_multiome_test.h5mu\")"
   ]
  },
  {
   "cell_type": "code",
   "execution_count": 4,
   "id": "d789390a-f037-4ea4-9ab5-cecca9dc5e31",
   "metadata": {},
   "outputs": [],
   "source": [
    "adata_real_rna = adata_real[\"rna\"]"
   ]
  },
  {
   "cell_type": "code",
   "execution_count": 5,
   "id": "1604c278-0539-467c-b50c-4ab5dc5ca7d2",
   "metadata": {},
   "outputs": [],
   "source": [
    "adata_scvi.obs = adata_real_rna.obs.copy()\n",
    "adata_multivi.obs = adata_real_rna.obs.copy()"
   ]
  },
  {
   "cell_type": "code",
   "execution_count": 6,
   "id": "6c89e40f-9f44-4cc2-ac78-82cc2095e1c6",
   "metadata": {},
   "outputs": [],
   "source": [
    "adata_celldreamer.var = adata_real_rna.var.copy()\n",
    "adata_scvi.var = adata_real_rna.var.copy()\n",
    "adata_multivi.var = adata_real_rna.var.copy()"
   ]
  },
  {
   "cell_type": "code",
   "execution_count": 7,
   "id": "71fccf63-7b8a-4d0e-88ec-c1320fa64641",
   "metadata": {},
   "outputs": [],
   "source": [
    "marker_genes = [\n",
    "    'IL7R', 'TRAC', 'GATA3',                                # CD4+ T\n",
    "    'LEF1', 'FHIT', 'RORA', 'ITGB1',                        # naïve/memory\n",
    "    'CD8A', 'CD8B', 'CD248', 'CCL5',                        # CD8+ T\n",
    "    'GZMH', 'GZMK',                                         # cytotoxic/transitional effector T cells\n",
    "    'KLRB1', 'SLC4A10',                                     # MAIT\n",
    "    'IL32',                                                 # T/NK\n",
    "    'GNLY', 'NKG7',                                         # NK\n",
    "    'CD79A', 'MS4A1', 'IGHD', 'IGHM', 'IL4R', 'TNFRSF13C',  # B\n",
    "    'KLF4', 'LYZ', 'S100A8', 'ITGAM', 'CD14',               # mono\n",
    "    'DPYD', 'ITGAM',                                        # classical/intermediate/non-classical mono\n",
    "    'FCGR3A', 'MS4A7', 'CST3',                              # non-classical mono\n",
    "    'CLEC10A', 'IRF8', 'TCF4'                               # DC\n",
    "]"
   ]
  },
  {
   "cell_type": "markdown",
   "id": "974898e1-dca7-4bed-ab76-f2809dc29f5b",
   "metadata": {},
   "source": [
    "## Get fraction of expressed peaks per cell type "
   ]
  },
  {
   "cell_type": "code",
   "execution_count": 8,
   "id": "86ab5e23-784b-4c6d-b831-06072756d750",
   "metadata": {},
   "outputs": [],
   "source": [
    "adata_scvi.var_names_make_unique()\n",
    "adata_real_rna.var_names_make_unique()\n",
    "adata_multivi.var_names_make_unique()\n",
    "adata_celldreamer.var_names_make_unique()"
   ]
  },
  {
   "cell_type": "code",
   "execution_count": 9,
   "id": "619bd3e1-a353-4b12-ab53-bcb9bbff8f22",
   "metadata": {},
   "outputs": [],
   "source": [
    "adata_scvi = adata_scvi[:, marker_genes]\n",
    "adata_real_rna = adata_real_rna[:, marker_genes]\n",
    "adata_multivi = adata_multivi[:, marker_genes]\n",
    "adata_celldreamer = adata_celldreamer[:, marker_genes]"
   ]
  },
  {
   "cell_type": "code",
   "execution_count": 10,
   "id": "4cc5706b-098f-4dc0-a068-c90fc0e54f80",
   "metadata": {},
   "outputs": [],
   "source": [
    "cell_types = adata_real_rna.obs['cell_type'].unique()\n",
    "marker_genes = adata_real_rna.var_names"
   ]
  },
  {
   "cell_type": "code",
   "execution_count": 48,
   "id": "3a018298-84d4-485b-9fea-e59cc4460466",
   "metadata": {},
   "outputs": [],
   "source": [
    "def ct_acc_matrix(adata):\n",
    "    # Initialize the matrix to store fractions\n",
    "    fraction_matrix = pd.DataFrame(index=cell_types, columns=marker_genes)\n",
    "    \n",
    "    # Iterate over each cell type and marker peak\n",
    "    for cell_type in cell_types:\n",
    "        # Subset the data for the current cell type\n",
    "        cell_type_data = adata[adata.obs['cell_type'] == cell_type]\n",
    "        \n",
    "        # Calculate the fraction of cells with accessible peaks for each marker peak\n",
    "        for gene in marker_genes:\n",
    "            accessible_cells = cell_type_data[:, gene].X.toarray().flatten()  # Convert to a flat array\n",
    "            fraction_accessible = accessible_cells.mean()  # Calculate the fraction of accessible cells\n",
    "            fraction_matrix.loc[cell_type, gene] = fraction_accessible\n",
    "    \n",
    "    # Convert the matrix to float type for consistency\n",
    "    fraction_matrix = fraction_matrix.astype(float)\n",
    "    return fraction_matrix"
   ]
  },
  {
   "cell_type": "code",
   "execution_count": 49,
   "id": "671e7939-6a98-41ab-a13b-cd834af92fb3",
   "metadata": {},
   "outputs": [],
   "source": [
    "ct_acc_mat_scvi = ct_acc_matrix(adata_scvi)\n",
    "ct_acc_mat_multivi = ct_acc_matrix(adata_multivi)\n",
    "ct_acc_mat_celldreamer = ct_acc_matrix(adata_celldreamer)\n",
    "ct_acc_mat_real = ct_acc_matrix(adata_real_rna)\n"
   ]
  },
  {
   "cell_type": "markdown",
   "id": "16360d59-d9a7-4a3c-92fd-9316d6dd6966",
   "metadata": {},
   "source": [
    "## Compute correlations"
   ]
  },
  {
   "cell_type": "code",
   "execution_count": 78,
   "id": "c67341ae-d499-4195-ad1a-8ca609c5bb0b",
   "metadata": {},
   "outputs": [],
   "source": [
    "corr_celldreamer = ct_acc_mat_celldreamer.corrwith(ct_acc_mat_real, axis = 1) "
   ]
  },
  {
   "cell_type": "code",
   "execution_count": 94,
   "id": "ed550fea-d586-4e8d-9c15-cd7a78ac319d",
   "metadata": {},
   "outputs": [],
   "source": [
    "corr_multivi = ct_acc_mat_multivi.corrwith(ct_acc_mat_real, axis = 1) "
   ]
  },
  {
   "cell_type": "code",
   "execution_count": 95,
   "id": "80cefd33-54c4-4aad-9b19-96e0a8a4f109",
   "metadata": {},
   "outputs": [],
   "source": [
    "corr_scvi = ct_acc_mat_scvi.corrwith(ct_acc_mat_real, axis = 1) "
   ]
  },
  {
   "cell_type": "code",
   "execution_count": 96,
   "id": "2fcd3ee7-872f-4832-be24-515fb1d02091",
   "metadata": {},
   "outputs": [],
   "source": [
    "# to_plot = {\"method\": [\"cellFlow\" for _ in range(len(corr_celldreamer))] + [\"multiVI\" for _ in range(len(corr_celldreamer))] + [\"scVI\" for _ in range(len(corr_celldreamer))],\n",
    "#           \"corr\": list(corr_celldreamer) + list(corr_multivi) + list(corr_scvi),\n",
    "#           \"cell_type\": list(corr_celldreamer.index) + list(corr_multivi.index) + list(corr_scvi.index)}\n",
    "\n",
    "# for i, ct in enumerate(to_plot[\"cell_type\"]):\n",
    "#     to_plot[\"cell_type\"][i] = to_plot[\"cell_type\"][i][0].upper() + to_plot[\"cell_type\"][i][1:]"
   ]
  },
  {
   "cell_type": "code",
   "execution_count": 97,
   "id": "e49aac76-167e-495b-8c2f-4d4476f09e98",
   "metadata": {},
   "outputs": [],
   "source": [
    "to_plot = {\"method\": [\"cellFlow\" for _ in range(len(corr_celldreamer))] + [\"multiVI\" for _ in range(len(corr_multivi))] ,\n",
    "          \"corr\": list(corr_celldreamer) + list(corr_multivi),\n",
    "          \"cell_type\": list(corr_celldreamer.index) + list(corr_multivi.index) }\n",
    "\n",
    "for i, ct in enumerate(to_plot[\"cell_type\"]):\n",
    "    to_plot[\"cell_type\"][i] = to_plot[\"cell_type\"][i][0].upper() + to_plot[\"cell_type\"][i][1:]"
   ]
  },
  {
   "cell_type": "code",
   "execution_count": 98,
   "id": "ceb7dd49-6a47-4385-8755-10d371a38b05",
   "metadata": {},
   "outputs": [
    {
     "name": "stderr",
     "output_type": "stream",
     "text": [
      "/home/icb/alessandro.palma/miniconda3/envs/celldreamer/lib/python3.10/site-packages/seaborn/_oldcore.py:1498: FutureWarning: is_categorical_dtype is deprecated and will be removed in a future version. Use isinstance(dtype, CategoricalDtype) instead\n",
      "  if pd.api.types.is_categorical_dtype(vector):\n",
      "/home/icb/alessandro.palma/miniconda3/envs/celldreamer/lib/python3.10/site-packages/seaborn/_oldcore.py:1498: FutureWarning: is_categorical_dtype is deprecated and will be removed in a future version. Use isinstance(dtype, CategoricalDtype) instead\n",
      "  if pd.api.types.is_categorical_dtype(vector):\n",
      "/home/icb/alessandro.palma/miniconda3/envs/celldreamer/lib/python3.10/site-packages/seaborn/_oldcore.py:1765: FutureWarning: unique with argument that is not not a Series, Index, ExtensionArray, or np.ndarray is deprecated and will raise in a future version.\n",
      "  order = pd.unique(vector)\n",
      "/home/icb/alessandro.palma/miniconda3/envs/celldreamer/lib/python3.10/site-packages/seaborn/_oldcore.py:1498: FutureWarning: is_categorical_dtype is deprecated and will be removed in a future version. Use isinstance(dtype, CategoricalDtype) instead\n",
      "  if pd.api.types.is_categorical_dtype(vector):\n",
      "/home/icb/alessandro.palma/miniconda3/envs/celldreamer/lib/python3.10/site-packages/seaborn/_oldcore.py:1765: FutureWarning: unique with argument that is not not a Series, Index, ExtensionArray, or np.ndarray is deprecated and will raise in a future version.\n",
      "  order = pd.unique(vector)\n",
      "/home/icb/alessandro.palma/miniconda3/envs/celldreamer/lib/python3.10/site-packages/seaborn/_oldcore.py:1498: FutureWarning: is_categorical_dtype is deprecated and will be removed in a future version. Use isinstance(dtype, CategoricalDtype) instead\n",
      "  if pd.api.types.is_categorical_dtype(vector):\n"
     ]
    },
    {
     "data": {
      "image/png": "[encoded data removed]",
      "text/plain": [
       "<Figure size 600x300 with 1 Axes>"
      ]
     },
     "metadata": {},
     "output_type": "display_data"
    }
   ],
   "source": [
    "import seaborn as sns\n",
    "\n",
    "\n",
    "fig = plt.figure(figsize=(6,3))\n",
    "sns.barplot(data=to_plot, x=\"cell_type\", hue=\"method\", y=\"corr\", palette=\"Set1\")\n",
    "plt.xticks(rotation=90)\n",
    "plt.legend(bbox_to_anchor=(1.05, 1), loc='upper left', borderaxespad=0.)\n",
    "plt.title(\"Correlation real-generated average marker gene per cell type\", fontsize=10)\n",
    "fig.canvas.draw()\n",
    "plt.tight_layout()\n",
    "plt.savefig(\"/home/icb/alessandro.palma/environment/celldreamer/figs/multimodal/rna_corr.svg\", format=\"svg\")\n",
    "plt.show()"
   ]
  },
  {
   "cell_type": "code",
   "execution_count": null,
   "id": "5db8eb63-140e-46ff-8170-b8d92df1fa07",
   "metadata": {},
   "outputs": [],
   "source": []
  },
  {
   "cell_type": "code",
   "execution_count": null,
   "id": "359b7450-b847-4ab1-b32a-a25534ce1c75",
   "metadata": {},
   "outputs": [],
   "source": []
  }
 ],
 "metadata": {
  "kernelspec": {
   "display_name": "Python 3 (ipykernel)",
   "language": "python",
   "name": "python3"
  },
  "language_info": {
   "codemirror_mode": {
    "name": "ipython",
    "version": 3
   },
   "file_extension": ".py",
   "mimetype": "text/x-python",
   "name": "python",
   "nbconvert_exporter": "python",
   "pygments_lexer": "ipython3",
   "version": "3.10.13"
  }
 },
 "nbformat": 4,
 "nbformat_minor": 5
}
