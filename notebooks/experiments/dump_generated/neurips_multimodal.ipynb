{
 "cells": [
  {
   "cell_type": "code",
   "execution_count": 85,
   "id": "0e922d7a-94d3-4835-b329-a92f7a0cedea",
   "metadata": {},
   "outputs": [],
   "source": [
    "import numpy as np\n",
    "import pandas as pd\n",
    "import yaml\n",
    "import torch\n",
    "from copy import deepcopy\n",
    "from tqdm import tqdm\n",
    "import matplotlib.pyplot as plt\n",
    "from celldreamer.eval.eval_utils import normalize_and_compute_metrics\n",
    "import scipy.sparse as sp\n",
    "\n",
    "import muon as mu\n",
    "from torch import nn\n",
    "import scanpy as sc    \n",
    "\n",
    "from celldreamer.data.scrnaseq_loader import RNAseqLoader\n",
    "from celldreamer.models.featurizers.category_featurizer import CategoricalFeaturizer\n",
    "from celldreamer.models.fm.fm import FM\n",
    "from celldreamer.eval.optimal_transport import wasserstein\n",
    "import random\n",
    "from celldreamer.models.base.encoder_model import EncoderModel\n",
    "from celldreamer.models.base.utils import unsqueeze_right\n",
    "\n",
    "from celldreamer.paths import DATA_DIR\n",
    "\n",
    "device  = \"cuda\" if torch.cuda.is_available() else \"cpu\"\n",
    "\n",
    "sc.settings.figdir = 'figures'  # Directory to save figures\n",
    "sc.settings.set_figure_params(dpi=80, frameon=False, figsize=(6, 6)) "
   ]
  },
  {
   "cell_type": "markdown",
   "id": "2337906d-bdfa-47b1-a00b-a56ead7770bf",
   "metadata": {},
   "source": [
    "## Step 1: Initialize data"
   ]
  },
  {
   "cell_type": "code",
   "execution_count": 86,
   "id": "9d122123-ecb5-407c-a31f-4be515dbc482",
   "metadata": {},
   "outputs": [
    {
     "name": "stderr",
     "output_type": "stream",
     "text": [
      "/home/icb/alessandro.palma/miniconda3/envs/celldreamer/lib/python3.10/site-packages/anndata/_core/anndata.py:522: FutureWarning: The dtype argument is deprecated and will be removed in late 2024.\n",
      "  warnings.warn(\n",
      "/home/icb/alessandro.palma/miniconda3/envs/celldreamer/lib/python3.10/site-packages/anndata/_core/anndata.py:522: FutureWarning: The dtype argument is deprecated and will be removed in late 2024.\n",
      "  warnings.warn(\n",
      "/home/icb/alessandro.palma/miniconda3/envs/celldreamer/lib/python3.10/site-packages/mudata/_core/mudata.py:577: FutureWarning: The behavior of DataFrame concatenation with empty or all-NA entries is deprecated. In a future version, this will no longer exclude empty or all-NA columns when determining the result dtypes. To retain the old behavior, exclude the relevant entries before the concat operation.\n",
      "  data_common = pd.concat(\n"
     ]
    }
   ],
   "source": [
    "dataset_config = {'dataset_path': DATA_DIR / 'processed' / 'atac' / 'neurips' / 'neurips_multiome_test.h5mu',\n",
    "                    'layer_key': 'X_counts',\n",
    "                    'covariate_keys': ['cell_type'],\n",
    "                    'conditioning_covariate': 'cell_type',\n",
    "                    'subsample_frac': 1,\n",
    "                    'encoder_type': 'learnt_autoencoder',\n",
    "                    'one_hot_encode_features': False,\n",
    "                    'split_rates': [0.90, 0.10],\n",
    "                    'cov_embedding_dimensions': 256, \n",
    "                    'multimodal': True,\n",
    "                    'is_binarized': False}\n",
    "\n",
    "data_path = dataset_config[\"dataset_path\"]\n",
    "\n",
    "dataset = RNAseqLoader(data_path = data_path,\n",
    "                        layer_key=dataset_config[\"layer_key\"],\n",
    "                        covariate_keys=dataset_config[\"covariate_keys\"],\n",
    "                        subsample_frac=dataset_config[\"subsample_frac\"], \n",
    "                        encoder_type=dataset_config[\"encoder_type\"], \n",
    "                        multimodal=dataset_config[\"multimodal\"],\n",
    "                        is_binarized=dataset_config[\"is_binarized\"])"
   ]
  },
  {
   "cell_type": "code",
   "execution_count": 87,
   "id": "d17a31a2-9eee-4163-a85a-6b70d7e9e1f9",
   "metadata": {},
   "outputs": [],
   "source": [
    "gene_dim = {mod: dataset.X[mod].shape[1] for mod in dataset.X}\n",
    "modality_list = list(gene_dim.keys())\n",
    "in_dim = {}\n",
    "\n",
    "for mod in dataset.X:\n",
    "    if dataset_config[\"encoder_type\"]!=\"learnt_autoencoder\":\n",
    "        in_dim[mod] = gene_dim[mod]\n",
    "    else:\n",
    "        in_dim[mod] = encoder_config[\"encoder_kwargs\"][mod][\"dims\"][-1]\n",
    "                    \n",
    "size_factor_statistics = {\"mean\": {mod: dataset.log_size_factor_mu[mod] for mod in dataset.log_size_factor_mu}, \n",
    "                            \"sd\": {mod: dataset.log_size_factor_sd[mod] for mod in dataset.log_size_factor_sd}}\n",
    "\n",
    "n_cat = len(dataset.id2cov[\"cell_type\"])"
   ]
  },
  {
   "cell_type": "markdown",
   "id": "01e52db6-ea20-4c88-ad5e-8744267372b5",
   "metadata": {},
   "source": [
    "## Step 2: Initialize encoder"
   ]
  },
  {
   "cell_type": "code",
   "execution_count": 88,
   "id": "05c31d1f-75d4-41ab-a58e-ff894e8a5cc0",
   "metadata": {},
   "outputs": [],
   "source": [
    "encoder_config = {\"encoder_kwargs\": \n",
    "                      {\"rna\": {\"dims\": [512, 300, 100],\n",
    "                               \"batch_norm\": True,\n",
    "                               \"dropout\": False,\n",
    "                               \"dropout_p\": 0.0},\n",
    "                       \"atac\": {\"dims\": [1024, 512, 100],\n",
    "                               \"batch_norm\": True,\n",
    "                               \"dropout\": False,\n",
    "                               \"dropout_p\": 0.0}},\n",
    "                    \"learning_rate\": 0.001,\n",
    "                    \"weight_decay\": 0.00001,\n",
    "                    \"covariate_specific_theta\": False,\n",
    "                    \"multimodal\": True, \n",
    "                    \"is_binarized\": False,\n",
    "                    \"encoder_multimodal_joint_layers\":\n",
    "                        {\"dims\": [100],\n",
    "                        \"batch_norm\": False,\n",
    "                        \"dropout\": False, \n",
    "                        \"dropout_p\": 0.0}\n",
    "                 }\n",
    "\n",
    "state_dict_path = \"/home/icb/alessandro.palma/environment/celldreamer/project_folder/experiments/train_autoencoder_neurips_multimodal_joint/1c26a129-9280-421c-b941-1203cd3887a2/checkpoints/last.ckpt\""
   ]
  },
  {
   "cell_type": "code",
   "execution_count": 89,
   "id": "5037fb6f-d5d9-4d51-bfb4-c42e73ff043a",
   "metadata": {},
   "outputs": [
    {
     "data": {
      "text/plain": [
       "EncoderModel(\n",
       "  (x0_from_x): ModuleDict(\n",
       "    (rna): MLP(\n",
       "      (net): Sequential(\n",
       "        (0): Sequential(\n",
       "          (0): Linear(in_features=4000, out_features=512, bias=True)\n",
       "          (1): BatchNorm1d(512, eps=1e-05, momentum=0.1, affine=True, track_running_stats=True)\n",
       "          (2): ELU(alpha=1.0)\n",
       "        )\n",
       "        (1): Sequential(\n",
       "          (0): Linear(in_features=512, out_features=300, bias=True)\n",
       "          (1): BatchNorm1d(300, eps=1e-05, momentum=0.1, affine=True, track_running_stats=True)\n",
       "          (2): ELU(alpha=1.0)\n",
       "        )\n",
       "        (2): Linear(in_features=300, out_features=100, bias=True)\n",
       "      )\n",
       "    )\n",
       "    (atac): MLP(\n",
       "      (net): Sequential(\n",
       "        (0): Sequential(\n",
       "          (0): Linear(in_features=40002, out_features=1024, bias=True)\n",
       "          (1): BatchNorm1d(1024, eps=1e-05, momentum=0.1, affine=True, track_running_stats=True)\n",
       "          (2): ELU(alpha=1.0)\n",
       "        )\n",
       "        (1): Sequential(\n",
       "          (0): Linear(in_features=1024, out_features=512, bias=True)\n",
       "          (1): BatchNorm1d(512, eps=1e-05, momentum=0.1, affine=True, track_running_stats=True)\n",
       "          (2): ELU(alpha=1.0)\n",
       "        )\n",
       "        (2): Linear(in_features=512, out_features=100, bias=True)\n",
       "      )\n",
       "    )\n",
       "  )\n",
       "  (x_from_x0): ModuleDict(\n",
       "    (rna): MLP(\n",
       "      (net): Sequential(\n",
       "        (0): Sequential(\n",
       "          (0): Linear(in_features=100, out_features=100, bias=True)\n",
       "          (1): BatchNorm1d(100, eps=1e-05, momentum=0.1, affine=True, track_running_stats=True)\n",
       "          (2): ELU(alpha=1.0)\n",
       "        )\n",
       "        (1): Sequential(\n",
       "          (0): Linear(in_features=100, out_features=300, bias=True)\n",
       "          (1): BatchNorm1d(300, eps=1e-05, momentum=0.1, affine=True, track_running_stats=True)\n",
       "          (2): ELU(alpha=1.0)\n",
       "        )\n",
       "        (2): Sequential(\n",
       "          (0): Linear(in_features=300, out_features=512, bias=True)\n",
       "          (1): BatchNorm1d(512, eps=1e-05, momentum=0.1, affine=True, track_running_stats=True)\n",
       "          (2): ELU(alpha=1.0)\n",
       "        )\n",
       "        (3): Linear(in_features=512, out_features=4000, bias=True)\n",
       "      )\n",
       "    )\n",
       "    (atac): MLP(\n",
       "      (net): Sequential(\n",
       "        (0): Sequential(\n",
       "          (0): Linear(in_features=100, out_features=100, bias=True)\n",
       "          (1): BatchNorm1d(100, eps=1e-05, momentum=0.1, affine=True, track_running_stats=True)\n",
       "          (2): ELU(alpha=1.0)\n",
       "        )\n",
       "        (1): Sequential(\n",
       "          (0): Linear(in_features=100, out_features=512, bias=True)\n",
       "          (1): BatchNorm1d(512, eps=1e-05, momentum=0.1, affine=True, track_running_stats=True)\n",
       "          (2): ELU(alpha=1.0)\n",
       "        )\n",
       "        (2): Sequential(\n",
       "          (0): Linear(in_features=512, out_features=1024, bias=True)\n",
       "          (1): BatchNorm1d(1024, eps=1e-05, momentum=0.1, affine=True, track_running_stats=True)\n",
       "          (2): ELU(alpha=1.0)\n",
       "        )\n",
       "        (3): Linear(in_features=1024, out_features=40002, bias=True)\n",
       "      )\n",
       "    )\n",
       "  )\n",
       "  (x0_from_x_joint): MLP(\n",
       "    (net): Sequential(\n",
       "      (0): Linear(in_features=200, out_features=100, bias=True)\n",
       "    )\n",
       "  )\n",
       ")"
      ]
     },
     "execution_count": 89,
     "metadata": {},
     "output_type": "execute_result"
    }
   ],
   "source": [
    "encoder_model = EncoderModel(in_dim=gene_dim,\n",
    "                              n_cat=n_cat,\n",
    "                              conditioning_covariate=dataset_config[\"conditioning_covariate\"], \n",
    "                              encoder_type=dataset_config[\"encoder_type\"],\n",
    "                              **encoder_config)\n",
    "\n",
    "\n",
    "encoder_model.load_state_dict(torch.load(state_dict_path)[\"state_dict\"])\n",
    "\n",
    "encoder_model.eval()"
   ]
  },
  {
   "cell_type": "markdown",
   "id": "fedbd845-234d-437e-80f5-6b1c0a59695c",
   "metadata": {},
   "source": [
    "## Step 3: Initialize FM model"
   ]
  },
  {
   "cell_type": "code",
   "execution_count": 90,
   "id": "39190b2e-831f-4aca-a25c-4651e4b4cdc6",
   "metadata": {},
   "outputs": [],
   "source": [
    "generative_model_config = {'learning_rate': 0.0001,\n",
    "                            'weight_decay': 0.00001,\n",
    "                            'antithetic_time_sampling': True,\n",
    "                            'sigma': 0.0001\n",
    "                        }"
   ]
  },
  {
   "cell_type": "code",
   "execution_count": 91,
   "id": "98f49071-05c8-41a8-8a4b-83600981491e",
   "metadata": {
    "scrolled": true
   },
   "outputs": [
    {
     "data": {
      "text/plain": [
       "MLPTimeStep(\n",
       "  (time_embedder): Sequential(\n",
       "    (0): Linear(in_features=100, out_features=100, bias=True)\n",
       "    (1): SiLU()\n",
       "    (2): Linear(in_features=100, out_features=100, bias=True)\n",
       "  )\n",
       "  (net_in): Linear(in_features=100, out_features=64, bias=True)\n",
       "  (blocks): ModuleList(\n",
       "    (0-2): 3 x ResnetBlock(\n",
       "      (net1): Sequential(\n",
       "        (0): SiLU()\n",
       "        (1): Linear(in_features=64, out_features=64, bias=True)\n",
       "      )\n",
       "      (cond_proj): Sequential(\n",
       "        (0): SiLU()\n",
       "        (1): Linear(in_features=100, out_features=64, bias=True)\n",
       "      )\n",
       "      (net2): Sequential(\n",
       "        (0): SiLU()\n",
       "        (1): Linear(in_features=64, out_features=64, bias=True)\n",
       "      )\n",
       "    )\n",
       "  )\n",
       "  (net_out): Sequential(\n",
       "    (0): SiLU()\n",
       "    (1): Linear(in_features=64, out_features=100, bias=True)\n",
       "  )\n",
       ")"
      ]
     },
     "execution_count": 91,
     "metadata": {},
     "output_type": "execute_result"
    }
   ],
   "source": [
    "ckpt = torch.load(\"/home/icb/alessandro.palma/environment/celldreamer/project_folder/experiments/fm_resnet_autoencoder_neurips_multimodal_joint/dd54e62d-d7a1-4c16-b58a-c8543d33c961/checkpoints/last.ckpt\")\n",
    "\n",
    "denoising_model = ckpt[\"hyper_parameters\"][\"denoising_model\"]\n",
    "denoising_model"
   ]
  },
  {
   "cell_type": "code",
   "execution_count": 92,
   "id": "0fd5db02-e71b-4115-9348-5e52d10da9cb",
   "metadata": {
    "scrolled": true
   },
   "outputs": [
    {
     "name": "stdout",
     "output_type": "stream",
     "text": [
      "Parameter containing:\n",
      "tensor([[-2.2568, -0.7960,  0.8316,  ..., -0.9346, -1.4571, -0.5344],\n",
      "        [ 1.4070,  0.2385,  0.8393,  ...,  2.0130,  2.8556, -0.6506],\n",
      "        [-1.1142,  0.1809,  0.2364,  ...,  0.7844, -0.3658, -1.5056],\n",
      "        ...,\n",
      "        [-0.0850,  2.4505,  0.3571,  ..., -1.1968, -0.5387,  0.7276],\n",
      "        [ 0.8718, -1.0743,  1.3326,  ...,  0.2681, -0.3233, -0.5216],\n",
      "        [ 1.7891,  0.2539, -0.6670,  ..., -0.8340, -1.3430,  1.7463]],\n",
      "       device='cuda:0', requires_grad=True)\n"
     ]
    }
   ],
   "source": [
    "print(ckpt[\"hyper_parameters\"][\"feature_embeddings\"][\"cell_type\"].embeddings.weight)\n",
    "feature_embeddings = ckpt[\"hyper_parameters\"][\"feature_embeddings\"]"
   ]
  },
  {
   "cell_type": "markdown",
   "id": "64548d77-2e55-4a4b-8d20-49ee96096e3a",
   "metadata": {},
   "source": [
    "Initializations"
   ]
  },
  {
   "cell_type": "code",
   "execution_count": 93,
   "id": "07002cca-2d73-4dad-baa9-6a64cac5e281",
   "metadata": {
    "scrolled": true
   },
   "outputs": [
    {
     "name": "stderr",
     "output_type": "stream",
     "text": [
      "/home/icb/alessandro.palma/miniconda3/envs/celldreamer/lib/python3.10/site-packages/pytorch_lightning/utilities/parsing.py:198: Attribute 'encoder_model' is an instance of `nn.Module` and is already saved during checkpointing. It is recommended to ignore them using `self.save_hyperparameters(ignore=['encoder_model'])`.\n",
      "/home/icb/alessandro.palma/miniconda3/envs/celldreamer/lib/python3.10/site-packages/pytorch_lightning/utilities/parsing.py:198: Attribute 'denoising_model' is an instance of `nn.Module` and is already saved during checkpointing. It is recommended to ignore them using `self.save_hyperparameters(ignore=['denoising_model'])`.\n"
     ]
    },
    {
     "data": {
      "text/plain": [
       "FM(\n",
       "  (encoder_model): EncoderModel(\n",
       "    (x0_from_x): ModuleDict(\n",
       "      (rna): MLP(\n",
       "        (net): Sequential(\n",
       "          (0): Sequential(\n",
       "            (0): Linear(in_features=4000, out_features=512, bias=True)\n",
       "            (1): BatchNorm1d(512, eps=1e-05, momentum=0.1, affine=True, track_running_stats=True)\n",
       "            (2): ELU(alpha=1.0)\n",
       "          )\n",
       "          (1): Sequential(\n",
       "            (0): Linear(in_features=512, out_features=300, bias=True)\n",
       "            (1): BatchNorm1d(300, eps=1e-05, momentum=0.1, affine=True, track_running_stats=True)\n",
       "            (2): ELU(alpha=1.0)\n",
       "          )\n",
       "          (2): Linear(in_features=300, out_features=100, bias=True)\n",
       "        )\n",
       "      )\n",
       "      (atac): MLP(\n",
       "        (net): Sequential(\n",
       "          (0): Sequential(\n",
       "            (0): Linear(in_features=40002, out_features=1024, bias=True)\n",
       "            (1): BatchNorm1d(1024, eps=1e-05, momentum=0.1, affine=True, track_running_stats=True)\n",
       "            (2): ELU(alpha=1.0)\n",
       "          )\n",
       "          (1): Sequential(\n",
       "            (0): Linear(in_features=1024, out_features=512, bias=True)\n",
       "            (1): BatchNorm1d(512, eps=1e-05, momentum=0.1, affine=True, track_running_stats=True)\n",
       "            (2): ELU(alpha=1.0)\n",
       "          )\n",
       "          (2): Linear(in_features=512, out_features=100, bias=True)\n",
       "        )\n",
       "      )\n",
       "    )\n",
       "    (x_from_x0): ModuleDict(\n",
       "      (rna): MLP(\n",
       "        (net): Sequential(\n",
       "          (0): Sequential(\n",
       "            (0): Linear(in_features=100, out_features=100, bias=True)\n",
       "            (1): BatchNorm1d(100, eps=1e-05, momentum=0.1, affine=True, track_running_stats=True)\n",
       "            (2): ELU(alpha=1.0)\n",
       "          )\n",
       "          (1): Sequential(\n",
       "            (0): Linear(in_features=100, out_features=300, bias=True)\n",
       "            (1): BatchNorm1d(300, eps=1e-05, momentum=0.1, affine=True, track_running_stats=True)\n",
       "            (2): ELU(alpha=1.0)\n",
       "          )\n",
       "          (2): Sequential(\n",
       "            (0): Linear(in_features=300, out_features=512, bias=True)\n",
       "            (1): BatchNorm1d(512, eps=1e-05, momentum=0.1, affine=True, track_running_stats=True)\n",
       "            (2): ELU(alpha=1.0)\n",
       "          )\n",
       "          (3): Linear(in_features=512, out_features=4000, bias=True)\n",
       "        )\n",
       "      )\n",
       "      (atac): MLP(\n",
       "        (net): Sequential(\n",
       "          (0): Sequential(\n",
       "            (0): Linear(in_features=100, out_features=100, bias=True)\n",
       "            (1): BatchNorm1d(100, eps=1e-05, momentum=0.1, affine=True, track_running_stats=True)\n",
       "            (2): ELU(alpha=1.0)\n",
       "          )\n",
       "          (1): Sequential(\n",
       "            (0): Linear(in_features=100, out_features=512, bias=True)\n",
       "            (1): BatchNorm1d(512, eps=1e-05, momentum=0.1, affine=True, track_running_stats=True)\n",
       "            (2): ELU(alpha=1.0)\n",
       "          )\n",
       "          (2): Sequential(\n",
       "            (0): Linear(in_features=512, out_features=1024, bias=True)\n",
       "            (1): BatchNorm1d(1024, eps=1e-05, momentum=0.1, affine=True, track_running_stats=True)\n",
       "            (2): ELU(alpha=1.0)\n",
       "          )\n",
       "          (3): Linear(in_features=1024, out_features=40002, bias=True)\n",
       "        )\n",
       "      )\n",
       "    )\n",
       "    (x0_from_x_joint): MLP(\n",
       "      (net): Sequential(\n",
       "        (0): Linear(in_features=200, out_features=100, bias=True)\n",
       "      )\n",
       "    )\n",
       "  )\n",
       "  (denoising_model): MLPTimeStep(\n",
       "    (time_embedder): Sequential(\n",
       "      (0): Linear(in_features=100, out_features=100, bias=True)\n",
       "      (1): SiLU()\n",
       "      (2): Linear(in_features=100, out_features=100, bias=True)\n",
       "    )\n",
       "    (net_in): Linear(in_features=100, out_features=64, bias=True)\n",
       "    (blocks): ModuleList(\n",
       "      (0-2): 3 x ResnetBlock(\n",
       "        (net1): Sequential(\n",
       "          (0): SiLU()\n",
       "          (1): Linear(in_features=64, out_features=64, bias=True)\n",
       "        )\n",
       "        (cond_proj): Sequential(\n",
       "          (0): SiLU()\n",
       "          (1): Linear(in_features=100, out_features=64, bias=True)\n",
       "        )\n",
       "        (net2): Sequential(\n",
       "          (0): SiLU()\n",
       "          (1): Linear(in_features=64, out_features=64, bias=True)\n",
       "        )\n",
       "      )\n",
       "    )\n",
       "    (net_out): Sequential(\n",
       "      (0): SiLU()\n",
       "      (1): Linear(in_features=64, out_features=100, bias=True)\n",
       "    )\n",
       "  )\n",
       "  (criterion): MSELoss()\n",
       ")"
      ]
     },
     "execution_count": 93,
     "metadata": {},
     "output_type": "execute_result"
    }
   ],
   "source": [
    "generative_model = FM(\n",
    "            encoder_model=encoder_model,\n",
    "            denoising_model=denoising_model,\n",
    "            feature_embeddings=feature_embeddings,\n",
    "            plotting_folder=None,\n",
    "            in_dim=in_dim,\n",
    "            size_factor_statistics=size_factor_statistics,\n",
    "            encoder_type=dataset_config[\"encoder_type\"],\n",
    "            conditioning_covariate=dataset_config[\"conditioning_covariate\"],\n",
    "            model_type=denoising_model.model_type, \n",
    "            multimodal=dataset_config[\"multimodal\"],\n",
    "            is_binarized=dataset_config[\"is_binarized\"], \n",
    "            modality_list=modality_list,\n",
    "            **generative_model_config  # model_kwargs should contain the rest of the arguments\n",
    "            )\n",
    "\n",
    "# generative_model.denoising_model.embed_size_factor = True\n",
    "generative_model.load_state_dict(ckpt[\"state_dict\"])\n",
    "generative_model.to(\"cuda\")"
   ]
  },
  {
   "cell_type": "markdown",
   "id": "c9b3d1e1-3458-4df1-81f2-3ca45820879e",
   "metadata": {},
   "source": [
    "# Save three copies of generated datasest "
   ]
  },
  {
   "cell_type": "code",
   "execution_count": 79,
   "id": "86e7b000-32fd-4c0f-b466-71912b30b104",
   "metadata": {},
   "outputs": [
    {
     "name": "stderr",
     "output_type": "stream",
     "text": [
      "/home/icb/alessandro.palma/miniconda3/envs/celldreamer/lib/python3.10/site-packages/anndata/_core/anndata.py:522: FutureWarning: The dtype argument is deprecated and will be removed in late 2024.\n",
      "  warnings.warn(\n",
      "/home/icb/alessandro.palma/miniconda3/envs/celldreamer/lib/python3.10/site-packages/anndata/_core/anndata.py:522: FutureWarning: The dtype argument is deprecated and will be removed in late 2024.\n",
      "  warnings.warn(\n",
      "/home/icb/alessandro.palma/miniconda3/envs/celldreamer/lib/python3.10/site-packages/mudata/_core/mudata.py:577: FutureWarning: The behavior of DataFrame concatenation with empty or all-NA entries is deprecated. In a future version, this will no longer exclude empty or all-NA columns when determining the result dtypes. To retain the old behavior, exclude the relevant entries before the concat operation.\n",
      "  data_common = pd.concat(\n"
     ]
    }
   ],
   "source": [
    "adata_original = mu.read(data_path)\n",
    "adata_rna = adata_original.mod[\"rna\"]\n",
    "adata_atac = adata_original.mod[\"atac\"]\n",
    "adata_rna.obs[\"size_factor\"]=adata_rna.X.A.sum(1)\n",
    "adata_atac.obs[\"size_factor\"]=adata_atac.X.A.sum(1)\n",
    "X_rna = torch.tensor(adata_rna.layers[\"X_counts\"].todense())\n",
    "X_atac = torch.tensor(adata_atac.layers[\"X_counts\"].todense())\n",
    "\n",
    "saving_dir = DATA_DIR / \"generated\" / \"neurips_multimodal\""
   ]
  },
  {
   "cell_type": "code",
   "execution_count": 84,
   "id": "99d90202-19d8-43ce-b723-7ca0f70cd8cc",
   "metadata": {},
   "outputs": [
    {
     "name": "stderr",
     "output_type": "stream",
     "text": [
      "100%|██████████| 3/3 [06:30<00:00, 130.24s/it]\n"
     ]
    }
   ],
   "source": [
    "index_range = len(adata_rna)\n",
    "num_indices = 1380\n",
    "\n",
    "for it in tqdm(range(3)):\n",
    "    X_generated_list_rna = []\n",
    "    X_generated_list_atac = []\n",
    "    classes_str = []\n",
    "    for _ in range(10):\n",
    "        \n",
    "        # Generate random dummy indices without replacement\n",
    "        indices = random.sample(range(index_range), num_indices)\n",
    "        adata_rna_indices = adata_rna[indices]\n",
    "        adata_atac_indices = adata_atac[indices]\n",
    "        \n",
    "        classes =  list(adata_rna_indices.obs.cell_type)\n",
    "        classes_str += classes\n",
    "        classes = torch.tensor([dataset.id2cov[\"cell_type\"][c] for  c in classes])\n",
    "\n",
    "        log_size_factors = {\"rna\": torch.log(torch.tensor(adata_rna_indices.layers[\"X_counts\"].sum(1))).cuda(),\n",
    "                        \"atac\": torch.log(torch.tensor(adata_atac_indices.layers[\"X_counts\"].sum(1))).cuda()}\n",
    "    \n",
    "        X_generated = generative_model.batched_sample(batch_size=138,\n",
    "                                                        repetitions=10,\n",
    "                                                        n_sample_steps=2, \n",
    "                                                        covariate=\"cell_type\", \n",
    "                                                        covariate_indices=classes, \n",
    "                                                        log_size_factor=log_size_factors)\n",
    "    \n",
    "        X_generated_list_rna.append(X_generated[\"rna\"].to(\"cpu\"))\n",
    "        X_generated_list_atac.append(X_generated[\"atac\"].to(\"cpu\"))\n",
    "\n",
    "    X_generated_list_rna = torch.cat(X_generated_list_rna, dim=0)\n",
    "    X_generated_list_atac = torch.cat(X_generated_list_atac, dim=0)\n",
    "    \n",
    "    adata_generated_rna = sc.AnnData(X=sp.csr_matrix(deepcopy(X_generated_list_rna).cpu().numpy()))\n",
    "    adata_generated_rna.obs[\"size_factor\"] = adata_generated_rna.X.sum(1)\n",
    "    adata_generated_rna.obs[\"cell_type\"] = classes_str\n",
    "    adata_generated_rna.obs[\"cell_type\"] = adata_generated_rna.obs[\"cell_type\"].astype(\"category\")\n",
    "    adata_generated_rna.layers[\"X_counts\"] = adata_generated_rna.X.copy()\n",
    "    sc.pp.normalize_total(adata_generated_rna, target_sum=10000)\n",
    "    sc.pp.log1p(adata_generated_rna)\n",
    "    sc.tl.pca(adata_generated_rna)\n",
    "    adata_generated_rna.write_h5ad(f\"/home/icb/alessandro.palma/environment/celldreamer/project_folder/datasets/generated/neurips_multimodal/generated_cells_{it}_rna.h5ad\")\n",
    "\n",
    "    adata_generated_atac = sc.AnnData(X=sp.csr_matrix(deepcopy(X_generated_list_atac).cpu().numpy()))\n",
    "    adata_generated_atac.obs[\"size_factor\"] = adata_generated_atac.X.sum(1)\n",
    "    adata_generated_atac.obs[\"cell_type\"] = classes_str\n",
    "    adata_generated_atac.obs[\"cell_type\"] = adata_generated_atac.obs[\"cell_type\"].astype(\"category\")\n",
    "    adata_generated_atac.layers[\"X_counts\"] = adata_generated_atac.X.copy()\n",
    "    sc.pp.normalize_total(adata_generated_atac, target_sum=10000)\n",
    "    sc.pp.log1p(adata_generated_atac)\n",
    "    sc.tl.pca(adata_generated_atac)\n",
    "    adata_generated_atac.write_h5ad(f\"/home/icb/alessandro.palma/environment/celldreamer/project_folder/datasets/generated/neurips_multimodal/generated_cells_{it}_atac.h5ad\")"
   ]
  },
  {
   "cell_type": "code",
   "execution_count": null,
   "id": "2b37460d-48d8-453a-aebe-b941e16b392e",
   "metadata": {},
   "outputs": [],
   "source": []
  },
  {
   "cell_type": "code",
   "execution_count": null,
   "id": "dfd213fa-f35e-4d33-acca-00f0b176064f",
   "metadata": {},
   "outputs": [],
   "source": []
  }
 ],
 "metadata": {
  "kernelspec": {
   "display_name": "Python 3 (ipykernel)",
   "language": "python",
   "name": "python3"
  },
  "language_info": {
   "codemirror_mode": {
    "name": "ipython",
    "version": 3
   },
   "file_extension": ".py",
   "mimetype": "text/x-python",
   "name": "python",
   "nbconvert_exporter": "python",
   "pygments_lexer": "ipython3",
   "version": "3.10.13"
  }
 },
 "nbformat": 4,
 "nbformat_minor": 5
}
