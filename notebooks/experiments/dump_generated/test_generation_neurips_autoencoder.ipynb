{
 "cells": [
  {
   "cell_type": "code",
   "execution_count": 1,
   "id": "0e922d7a-94d3-4835-b329-a92f7a0cedea",
   "metadata": {},
   "outputs": [
    {
     "name": "stderr",
     "output_type": "stream",
     "text": [
      "An NVIDIA GPU may be present on this machine, but a CUDA-enabled jaxlib is not installed. Falling back to cpu.\n",
      "/home/icb/alessandro.palma/miniconda3/envs/celldreamer/lib/python3.10/site-packages/scvi/_settings.py:63: UserWarning: Since v1.0.0, scvi-tools no longer uses a random seed by default. Run `scvi.settings.seed = 0` to reproduce results from previous versions.\n",
      "  self.seed = seed\n",
      "/home/icb/alessandro.palma/miniconda3/envs/celldreamer/lib/python3.10/site-packages/scvi/_settings.py:70: UserWarning: Setting `dl_pin_memory_gpu_training` is deprecated in v1.0 and will be removed in v1.1. Please pass in `pin_memory` to the data loaders instead.\n",
      "  self.dl_pin_memory_gpu_training = (\n"
     ]
    }
   ],
   "source": [
    "import numpy as np\n",
    "import pandas as pd\n",
    "import yaml\n",
    "import torch\n",
    "from copy import deepcopy\n",
    "from tqdm import tqdm\n",
    "import matplotlib.pyplot as plt\n",
    "from celldreamer.eval.eval_utils import normalize_and_compute_metrics\n",
    "import scipy.sparse as sp\n",
    "\n",
    "from torch import nn\n",
    "import scanpy as sc    \n",
    "\n",
    "from celldreamer.data.scrnaseq_loader import RNAseqLoader\n",
    "from celldreamer.models.featurizers.category_featurizer import CategoricalFeaturizer\n",
    "from celldreamer.models.fm.fm import FM\n",
    "from celldreamer.eval.optimal_transport import wasserstein\n",
    "import random\n",
    "from celldreamer.models.base.encoder_model import EncoderModel\n",
    "from celldreamer.models.base.utils import unsqueeze_right\n",
    "\n",
    "from celldreamer.paths import DATA_DIR\n",
    "\n",
    "device  = \"cuda\" if torch.cuda.is_available() else \"cpu\"\n",
    "\n",
    "sc.settings.figdir = 'figures'  # Directory to save figures\n",
    "sc.settings.set_figure_params(dpi=80, frameon=False, figsize=(6, 6)) "
   ]
  },
  {
   "cell_type": "markdown",
   "id": "2337906d-bdfa-47b1-a00b-a56ead7770bf",
   "metadata": {},
   "source": [
    "## Step 1: Initialize data"
   ]
  },
  {
   "cell_type": "code",
   "execution_count": 23,
   "id": "9d122123-ecb5-407c-a31f-4be515dbc482",
   "metadata": {},
   "outputs": [
    {
     "name": "stderr",
     "output_type": "stream",
     "text": [
      "/home/icb/alessandro.palma/miniconda3/envs/celldreamer/lib/python3.10/site-packages/anndata/__init__.py:51: FutureWarning: `anndata.read` is deprecated, use `anndata.read_h5ad` instead. `ad.read` will be removed in mid 2024.\n",
      "  warnings.warn(\n",
      "/home/icb/alessandro.palma/miniconda3/envs/celldreamer/lib/python3.10/site-packages/anndata/_core/anndata.py:1899: UserWarning: Variable names are not unique. To make them unique, call `.var_names_make_unique`.\n",
      "  utils.warn_names_duplicates(\"var\")\n"
     ]
    }
   ],
   "source": [
    "dataset_config = {'dataset_path': DATA_DIR / 'processed_full_genome' / 'neurips' / 'neurips_train.h5ad',\n",
    "                    'layer_key': 'X_counts',\n",
    "                    'covariate_keys': ['cell_type'],\n",
    "                    'conditioning_covariate': 'cell_type',\n",
    "                    'subsample_frac': 1,\n",
    "                    'encoder_type': 'learnt_autoencoder',\n",
    "                    'target_max': 1,\n",
    "                    'target_min': -1,\n",
    "                    'one_hot_encode_features': False,\n",
    "                    'split_rates': [0.90, 0.10],\n",
    "                    'cov_embedding_dimensions': 256}\n",
    "\n",
    "data_path = dataset_config[\"dataset_path\"]\n",
    "\n",
    "dataset = RNAseqLoader(data_path=data_path,\n",
    "                                layer_key=dataset_config[\"layer_key\"],\n",
    "                                covariate_keys=dataset_config[\"covariate_keys\"],\n",
    "                                subsample_frac=dataset_config[\"subsample_frac\"], \n",
    "                                encoder_type=dataset_config[\"encoder_type\"])\n",
    "\n",
    "in_dim = dataset.X.shape[1]\n",
    "size_factor_statistics = {\"mean\": dataset.log_size_factor_mu, \n",
    "                                  \"sd\": dataset.log_size_factor_sd}\n",
    "n_cat = len(dataset.id2cov[\"cell_type\"])"
   ]
  },
  {
   "cell_type": "markdown",
   "id": "01e52db6-ea20-4c88-ad5e-8744267372b5",
   "metadata": {},
   "source": [
    "## Step 2: Initialize encoder"
   ]
  },
  {
   "cell_type": "code",
   "execution_count": 24,
   "id": "05c31d1f-75d4-41ab-a58e-ff894e8a5cc0",
   "metadata": {},
   "outputs": [],
   "source": [
    "encoder_config = {\n",
    "    \"x0_from_x_kwargs\": {\n",
    "        \"dims\": [512, 256, 50],\n",
    "        \"batch_norm\": True,\n",
    "        \"dropout\": False,\n",
    "        \"dropout_p\": 0.0\n",
    "    },\n",
    "    \"learning_rate\": 0.001,\n",
    "    \"weight_decay\": 0.00001,\n",
    "    \"covariate_specific_theta\": False\n",
    "}\n",
    "\n",
    "state_dict_path = \"/home/icb/alessandro.palma/environment/celldreamer/project_folder/experiments/off_train_autoencoder_neurips_whole_genome/eabc6534-947b-4486-8012-c9e351b297ca/checkpoints/epoch_59.ckpt\""
   ]
  },
  {
   "cell_type": "code",
   "execution_count": 25,
   "id": "5037fb6f-d5d9-4d51-bfb4-c42e73ff043a",
   "metadata": {
    "scrolled": true
   },
   "outputs": [
    {
     "data": {
      "text/plain": [
       "EncoderModel(\n",
       "  (x0_from_x): MLP(\n",
       "    (net): Sequential(\n",
       "      (0): Sequential(\n",
       "        (0): Linear(in_features=14087, out_features=512, bias=True)\n",
       "        (1): BatchNorm1d(512, eps=1e-05, momentum=0.1, affine=True, track_running_stats=True)\n",
       "        (2): ELU(alpha=1.0)\n",
       "      )\n",
       "      (1): Sequential(\n",
       "        (0): Linear(in_features=512, out_features=256, bias=True)\n",
       "        (1): BatchNorm1d(256, eps=1e-05, momentum=0.1, affine=True, track_running_stats=True)\n",
       "        (2): ELU(alpha=1.0)\n",
       "      )\n",
       "      (2): Linear(in_features=256, out_features=50, bias=True)\n",
       "    )\n",
       "  )\n",
       "  (x_from_x0): MLP(\n",
       "    (net): Sequential(\n",
       "      (0): Sequential(\n",
       "        (0): Linear(in_features=50, out_features=256, bias=True)\n",
       "        (1): BatchNorm1d(256, eps=1e-05, momentum=0.1, affine=True, track_running_stats=True)\n",
       "        (2): ELU(alpha=1.0)\n",
       "      )\n",
       "      (1): Sequential(\n",
       "        (0): Linear(in_features=256, out_features=512, bias=True)\n",
       "        (1): BatchNorm1d(512, eps=1e-05, momentum=0.1, affine=True, track_running_stats=True)\n",
       "        (2): ELU(alpha=1.0)\n",
       "      )\n",
       "      (2): Linear(in_features=512, out_features=14087, bias=True)\n",
       "    )\n",
       "  )\n",
       ")"
      ]
     },
     "execution_count": 25,
     "metadata": {},
     "output_type": "execute_result"
    }
   ],
   "source": [
    "encoder_model = EncoderModel(in_dim=in_dim,\n",
    "                              n_cat=n_cat,\n",
    "                              conditioning_covariate=dataset_config[\"conditioning_covariate\"], \n",
    "                              encoder_type=dataset_config[\"encoder_type\"],\n",
    "                              **encoder_config)\n",
    "\n",
    "encoder_model.load_state_dict(torch.load(state_dict_path)[\"state_dict\"])\n",
    "\n",
    "encoder_model.eval()"
   ]
  },
  {
   "cell_type": "markdown",
   "id": "fedbd845-234d-437e-80f5-6b1c0a59695c",
   "metadata": {},
   "source": [
    "## Step 3: Initialize FM model"
   ]
  },
  {
   "cell_type": "code",
   "execution_count": 26,
   "id": "39190b2e-831f-4aca-a25c-4651e4b4cdc6",
   "metadata": {},
   "outputs": [],
   "source": [
    "generative_model_config = {'learning_rate': 0.0001,\n",
    "                            'weight_decay': 0.00001,\n",
    "                            'antithetic_time_sampling': True,\n",
    "                            'sigma': 0.0001\n",
    "                        }"
   ]
  },
  {
   "cell_type": "code",
   "execution_count": 27,
   "id": "98f49071-05c8-41a8-8a4b-83600981491e",
   "metadata": {
    "scrolled": true
   },
   "outputs": [],
   "source": [
    "ckpt = torch.load(\"/home/icb/alessandro.palma/environment/celldreamer/project_folder/experiments/off_fm_resnet_autoencoder_neurips_whole_genome/8117877a-f196-4142-a528-2ecdd6294151/checkpoints/last.ckpt\")\n",
    "\n",
    "denoising_model = ckpt[\"hyper_parameters\"][\"denoising_model\"]\n",
    "denoising_model.multimodal = False"
   ]
  },
  {
   "cell_type": "code",
   "execution_count": 28,
   "id": "0fd5db02-e71b-4115-9348-5e52d10da9cb",
   "metadata": {
    "scrolled": true
   },
   "outputs": [
    {
     "name": "stdout",
     "output_type": "stream",
     "text": [
      "Parameter containing:\n",
      "tensor([[ 0.0335, -0.1560, -0.5291,  ...,  0.3735, -0.0941, -0.8921],\n",
      "        [-0.7772,  0.1002,  0.2768,  ..., -0.9797,  0.9892, -0.2922],\n",
      "        [-0.1416, -0.6285, -1.9562,  ..., -0.4058,  1.5861, -1.3475],\n",
      "        ...,\n",
      "        [ 1.1412, -1.0427, -0.4340,  ...,  0.5399, -1.1693,  0.6423],\n",
      "        [-0.2317, -0.1948,  0.5764,  ...,  1.3119, -2.3207,  0.7109],\n",
      "        [-1.7751,  1.2498,  1.1430,  ..., -1.6456,  0.3279,  0.6074]],\n",
      "       device='cuda:0', requires_grad=True)\n"
     ]
    }
   ],
   "source": [
    "print(ckpt[\"hyper_parameters\"][\"feature_embeddings\"][\"cell_type\"].embeddings.weight)\n",
    "feature_embeddings = ckpt[\"hyper_parameters\"][\"feature_embeddings\"]"
   ]
  },
  {
   "cell_type": "markdown",
   "id": "64548d77-2e55-4a4b-8d20-49ee96096e3a",
   "metadata": {},
   "source": [
    "Initializations"
   ]
  },
  {
   "cell_type": "code",
   "execution_count": 29,
   "id": "07002cca-2d73-4dad-baa9-6a64cac5e281",
   "metadata": {
    "scrolled": true
   },
   "outputs": [
    {
     "name": "stderr",
     "output_type": "stream",
     "text": [
      "/home/icb/alessandro.palma/miniconda3/envs/celldreamer/lib/python3.10/site-packages/pytorch_lightning/utilities/parsing.py:198: Attribute 'encoder_model' is an instance of `nn.Module` and is already saved during checkpointing. It is recommended to ignore them using `self.save_hyperparameters(ignore=['encoder_model'])`.\n",
      "/home/icb/alessandro.palma/miniconda3/envs/celldreamer/lib/python3.10/site-packages/pytorch_lightning/utilities/parsing.py:198: Attribute 'denoising_model' is an instance of `nn.Module` and is already saved during checkpointing. It is recommended to ignore them using `self.save_hyperparameters(ignore=['denoising_model'])`.\n"
     ]
    },
    {
     "data": {
      "text/plain": [
       "FM(\n",
       "  (encoder_model): EncoderModel(\n",
       "    (x0_from_x): MLP(\n",
       "      (net): Sequential(\n",
       "        (0): Sequential(\n",
       "          (0): Linear(in_features=14087, out_features=512, bias=True)\n",
       "          (1): BatchNorm1d(512, eps=1e-05, momentum=0.1, affine=True, track_running_stats=True)\n",
       "          (2): ELU(alpha=1.0)\n",
       "        )\n",
       "        (1): Sequential(\n",
       "          (0): Linear(in_features=512, out_features=256, bias=True)\n",
       "          (1): BatchNorm1d(256, eps=1e-05, momentum=0.1, affine=True, track_running_stats=True)\n",
       "          (2): ELU(alpha=1.0)\n",
       "        )\n",
       "        (2): Linear(in_features=256, out_features=50, bias=True)\n",
       "      )\n",
       "    )\n",
       "    (x_from_x0): MLP(\n",
       "      (net): Sequential(\n",
       "        (0): Sequential(\n",
       "          (0): Linear(in_features=50, out_features=256, bias=True)\n",
       "          (1): BatchNorm1d(256, eps=1e-05, momentum=0.1, affine=True, track_running_stats=True)\n",
       "          (2): ELU(alpha=1.0)\n",
       "        )\n",
       "        (1): Sequential(\n",
       "          (0): Linear(in_features=256, out_features=512, bias=True)\n",
       "          (1): BatchNorm1d(512, eps=1e-05, momentum=0.1, affine=True, track_running_stats=True)\n",
       "          (2): ELU(alpha=1.0)\n",
       "        )\n",
       "        (2): Linear(in_features=512, out_features=14087, bias=True)\n",
       "      )\n",
       "    )\n",
       "  )\n",
       "  (denoising_model): MLPTimeStep(\n",
       "    (time_embedder): Sequential(\n",
       "      (0): Linear(in_features=100, out_features=100, bias=True)\n",
       "      (1): SiLU()\n",
       "      (2): Linear(in_features=100, out_features=100, bias=True)\n",
       "    )\n",
       "    (net_in): Linear(in_features=50, out_features=64, bias=True)\n",
       "    (blocks): ModuleList(\n",
       "      (0-2): 3 x ResnetBlock(\n",
       "        (net1): Sequential(\n",
       "          (0): SiLU()\n",
       "          (1): Linear(in_features=64, out_features=64, bias=True)\n",
       "        )\n",
       "        (cond_proj): Sequential(\n",
       "          (0): SiLU()\n",
       "          (1): Linear(in_features=100, out_features=64, bias=True)\n",
       "        )\n",
       "        (net2): Sequential(\n",
       "          (0): SiLU()\n",
       "          (1): Linear(in_features=64, out_features=64, bias=True)\n",
       "        )\n",
       "      )\n",
       "    )\n",
       "    (net_out): Sequential(\n",
       "      (0): SiLU()\n",
       "      (1): Linear(in_features=64, out_features=50, bias=True)\n",
       "    )\n",
       "  )\n",
       "  (criterion): MSELoss()\n",
       ")"
      ]
     },
     "execution_count": 29,
     "metadata": {},
     "output_type": "execute_result"
    }
   ],
   "source": [
    "generative_model = FM(\n",
    "            encoder_model=encoder_model,\n",
    "            denoising_model=denoising_model,\n",
    "            feature_embeddings=feature_embeddings,\n",
    "            plotting_folder=None,\n",
    "            in_dim=512,\n",
    "            size_factor_statistics=size_factor_statistics,\n",
    "            encoder_type=dataset_config[\"encoder_type\"],\n",
    "            conditioning_covariate=dataset_config[\"conditioning_covariate\"],\n",
    "            model_type=denoising_model.model_type, \n",
    "            **generative_model_config  # model_kwargs should contain the rest of the arguments\n",
    "            )\n",
    "\n",
    "generative_model.load_state_dict(ckpt[\"state_dict\"])\n",
    "generative_model.to(\"cuda\")"
   ]
  },
  {
   "cell_type": "markdown",
   "id": "c9b3d1e1-3458-4df1-81f2-3ca45820879e",
   "metadata": {},
   "source": [
    "# Save three copies of generated datasest "
   ]
  },
  {
   "cell_type": "code",
   "execution_count": 30,
   "id": "86e7b000-32fd-4c0f-b466-71912b30b104",
   "metadata": {},
   "outputs": [
    {
     "name": "stderr",
     "output_type": "stream",
     "text": [
      "/home/icb/alessandro.palma/miniconda3/envs/celldreamer/lib/python3.10/site-packages/anndata/_core/anndata.py:1899: UserWarning: Variable names are not unique. To make them unique, call `.var_names_make_unique`.\n",
      "  utils.warn_names_duplicates(\"var\")\n"
     ]
    }
   ],
   "source": [
    "adata_original = sc.read_h5ad(DATA_DIR / 'processed_full_genome' / 'neurips' / 'neurips_test.h5ad')\n",
    "adata_original.X = adata_original.layers[\"X_counts\"].copy()\n",
    "adata_original.obs[\"size_factor\"]=adata_original.X.A.sum(1)\n",
    "saving_dir = DATA_DIR / \"generated\" / \"neurips\""
   ]
  },
  {
   "cell_type": "code",
   "execution_count": 31,
   "id": "c3898bd9-d926-4b04-87ef-15023267be6f",
   "metadata": {},
   "outputs": [
    {
     "data": {
      "text/plain": [
       "AnnData object with n_obs × n_vars = 18053 × 14087\n",
       "    obs: 'GEX_n_genes_by_counts', 'GEX_pct_counts_mt', 'GEX_size_factors', 'GEX_phase', 'ADT_n_antibodies_by_counts', 'ADT_total_counts', 'ADT_iso_count', 'cell_type', 'batch', 'ADT_pseudotime_order', 'GEX_pseudotime_order', 'Samplename', 'Site', 'DonorNumber', 'Modality', 'VendorLot', 'DonorID', 'DonorAge', 'DonorBMI', 'DonorBloodType', 'DonorRace', 'Ethnicity', 'DonorGender', 'QCMeds', 'DonorSmoker', 'is_train', 'size_factor'\n",
       "    var: 'feature_types', 'gene_id', 'n_cells', 'highly_variable', 'highly_variable_rank', 'means', 'variances', 'variances_norm'\n",
       "    uns: 'cell_type_colors', 'dataset_id', 'genome', 'log1p', 'neighbors', 'organism', 'pca', 'umap'\n",
       "    obsm: 'ADT_X_pca', 'ADT_X_umap', 'ADT_isotype_controls', 'GEX_X_pca', 'GEX_X_umap', 'X_pca', 'X_umap'\n",
       "    varm: 'PCs'\n",
       "    layers: 'X_counts'\n",
       "    obsp: 'connectivities', 'distances'"
      ]
     },
     "execution_count": 31,
     "metadata": {},
     "output_type": "execute_result"
    }
   ],
   "source": [
    "adata_original"
   ]
  },
  {
   "cell_type": "code",
   "execution_count": 33,
   "id": "99d90202-19d8-43ce-b723-7ca0f70cd8cc",
   "metadata": {},
   "outputs": [
    {
     "name": "stderr",
     "output_type": "stream",
     "text": [
      "100%|██████████| 3/3 [02:24<00:00, 48.02s/it]\n"
     ]
    }
   ],
   "source": [
    "index_range = len(adata_original)\n",
    "num_indices = 1000\n",
    "\n",
    "for it in tqdm(range(3)):\n",
    "    X_generated_list = []\n",
    "    classes_str = []\n",
    "    for _ in range(18):\n",
    "        \n",
    "        # Generate random dummy indices without replacement\n",
    "        indices = random.sample(range(index_range), num_indices)\n",
    "        adata_indices = adata_original[indices]\n",
    "        \n",
    "        classes =  list(adata_indices.obs.cell_type)\n",
    "        classes_str += classes\n",
    "        classes = torch.tensor([dataset.id2cov[\"cell_type\"][c] for  c in classes])\n",
    "        log_size_factors = torch.log(torch.tensor(adata_indices.layers[\"X_counts\"].sum(1))).cuda()\n",
    "    \n",
    "        X_generated = generative_model.batched_sample(batch_size=100,\n",
    "                                                        repetitions=10,\n",
    "                                                        n_sample_steps=2, \n",
    "                                                        covariate=\"cell_type\", \n",
    "                                                        covariate_indices=classes, \n",
    "                                                        log_size_factor=log_size_factors)\n",
    "    \n",
    "        X_generated_list.append(X_generated.to(\"cpu\"))\n",
    "\n",
    "    X_generated_list = torch.cat(X_generated_list, dim=0)\n",
    "    \n",
    "    adata_generated = sc.AnnData(X=sp.csr_matrix(deepcopy(X_generated_list).cpu().numpy()))\n",
    "    adata_generated.obs[\"size_factor\"] = adata_generated.X.sum(1)\n",
    "    adata_generated.obs[\"cell_type\"] = classes_str\n",
    "    adata_generated.obs[\"cell_type\"] = adata_generated.obs[\"cell_type\"].astype(\"category\")\n",
    "    adata_generated.layers[\"X_counts\"] = adata_generated.X.copy()\n",
    "    sc.pp.normalize_total(adata_generated, target_sum=10000)\n",
    "    sc.pp.log1p(adata_generated)\n",
    "    sc.tl.pca(adata_generated)\n",
    "    adata_generated.write_h5ad(f\"/home/icb/alessandro.palma/environment/celldreamer/project_folder/datasets/generated/neurips/generated_cells_{it}.h5ad\")"
   ]
  },
  {
   "cell_type": "code",
   "execution_count": null,
   "id": "bcebbdf4-9052-41d7-805a-a29acda33fc3",
   "metadata": {},
   "outputs": [],
   "source": []
  }
 ],
 "metadata": {
  "kernelspec": {
   "display_name": "Python 3 (ipykernel)",
   "language": "python",
   "name": "python3"
  },
  "language_info": {
   "codemirror_mode": {
    "name": "ipython",
    "version": 3
   },
   "file_extension": ".py",
   "mimetype": "text/x-python",
   "name": "python",
   "nbconvert_exporter": "python",
   "pygments_lexer": "ipython3",
   "version": "3.10.13"
  }
 },
 "nbformat": 4,
 "nbformat_minor": 5
}
