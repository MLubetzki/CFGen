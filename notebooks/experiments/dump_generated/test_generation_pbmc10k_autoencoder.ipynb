{
 "cells": [
  {
   "cell_type": "code",
   "execution_count": 14,
   "id": "0e922d7a-94d3-4835-b329-a92f7a0cedea",
   "metadata": {},
   "outputs": [],
   "source": [
    "import numpy as np\n",
    "import pandas as pd\n",
    "import yaml\n",
    "import torch\n",
    "from copy import deepcopy\n",
    "from tqdm import tqdm\n",
    "import matplotlib.pyplot as plt\n",
    "from celldreamer.eval.eval_utils import normalize_and_compute_metrics\n",
    "import scipy.sparse as sp\n",
    "\n",
    "from torch import nn\n",
    "import scanpy as sc    \n",
    "\n",
    "from celldreamer.data.scrnaseq_loader import RNAseqLoader\n",
    "from celldreamer.models.featurizers.category_featurizer import CategoricalFeaturizer\n",
    "from celldreamer.models.fm.fm import FM\n",
    "from celldreamer.eval.optimal_transport import wasserstein\n",
    "import random\n",
    "from celldreamer.models.base.encoder_model import EncoderModel\n",
    "from celldreamer.models.base.utils import unsqueeze_right\n",
    "\n",
    "from celldreamer.paths import DATA_DIR\n",
    "\n",
    "device  = \"cuda\" if torch.cuda.is_available() else \"cpu\"\n",
    "\n",
    "sc.settings.figdir = 'figures'  # Directory to save figures\n",
    "sc.settings.set_figure_params(dpi=80, frameon=False, figsize=(6, 6)) "
   ]
  },
  {
   "cell_type": "markdown",
   "id": "2337906d-bdfa-47b1-a00b-a56ead7770bf",
   "metadata": {},
   "source": [
    "## Step 1: Initialize data"
   ]
  },
  {
   "cell_type": "code",
   "execution_count": 15,
   "id": "9d122123-ecb5-407c-a31f-4be515dbc482",
   "metadata": {},
   "outputs": [
    {
     "name": "stderr",
     "output_type": "stream",
     "text": [
      "/home/icb/alessandro.palma/miniconda3/envs/celldreamer/lib/python3.10/site-packages/anndata/__init__.py:51: FutureWarning: `anndata.read` is deprecated, use `anndata.read_h5ad` instead. `ad.read` will be removed in mid 2024.\n",
      "  warnings.warn(\n"
     ]
    }
   ],
   "source": [
    "dataset_config = {'dataset_path': DATA_DIR / 'processed' / 'atac' / 'pbmc' / 'pbmc10k_rna_multiome_test.h5ad',\n",
    "                    'layer_key': 'X_counts',\n",
    "                    'covariate_keys': ['cell_type'],\n",
    "                    'conditioning_covariate': 'cell_type',\n",
    "                    'subsample_frac': 1,\n",
    "                    'encoder_type': 'learnt_autoencoder',\n",
    "                    'target_max': 1,\n",
    "                    'target_min': -1,\n",
    "                    'one_hot_encode_features': False,\n",
    "                    'split_rates': [0.90, 0.10],\n",
    "                    'cov_embedding_dimensions': 256}\n",
    "\n",
    "data_path = dataset_config[\"dataset_path\"]\n",
    "\n",
    "dataset = RNAseqLoader(data_path=data_path,\n",
    "                                layer_key=dataset_config[\"layer_key\"],\n",
    "                                covariate_keys=dataset_config[\"covariate_keys\"],\n",
    "                                subsample_frac=dataset_config[\"subsample_frac\"], \n",
    "                                encoder_type=dataset_config[\"encoder_type\"])\n",
    "\n",
    "in_dim = dataset.X.shape[1]\n",
    "size_factor_statistics = {\"mean\": dataset.log_size_factor_mu, \n",
    "                                  \"sd\": dataset.log_size_factor_sd}\n",
    "n_cat = len(dataset.id2cov[\"cell_type\"])"
   ]
  },
  {
   "cell_type": "markdown",
   "id": "01e52db6-ea20-4c88-ad5e-8744267372b5",
   "metadata": {},
   "source": [
    "## Step 2: Initialize encoder"
   ]
  },
  {
   "cell_type": "code",
   "execution_count": 16,
   "id": "05c31d1f-75d4-41ab-a58e-ff894e8a5cc0",
   "metadata": {},
   "outputs": [],
   "source": [
    "encoder_config = {\n",
    "    \"x0_from_x_kwargs\": {\n",
    "        \"dims\": [512, 256, 100],\n",
    "        \"batch_norm\": True,\n",
    "        \"dropout\": False,\n",
    "        \"dropout_p\": 0.0\n",
    "    },\n",
    "    \"learning_rate\": 0.001,\n",
    "    \"weight_decay\": 0.00001,\n",
    "    \"covariate_specific_theta\": False\n",
    "}\n",
    "\n",
    "state_dict_path = \"/home/icb/alessandro.palma/environment/cfgen/project_folder/experiments/REBUTTALS_PBMC10K/201a2a6e-9dd8-4641-a62b-fc1cdf874724/checkpoints/epoch_39.ckpt\""
   ]
  },
  {
   "cell_type": "code",
   "execution_count": 17,
   "id": "5037fb6f-d5d9-4d51-bfb4-c42e73ff043a",
   "metadata": {},
   "outputs": [
    {
     "data": {
      "text/plain": [
       "<All keys matched successfully>"
      ]
     },
     "execution_count": 17,
     "metadata": {},
     "output_type": "execute_result"
    }
   ],
   "source": [
    "encoder_model = EncoderModel(in_dim=in_dim,\n",
    "                              n_cat=n_cat,\n",
    "                              conditioning_covariate=dataset_config[\"conditioning_covariate\"], \n",
    "                              encoder_type=dataset_config[\"encoder_type\"],\n",
    "                              **encoder_config)\n",
    "encoder_model.eval()\n",
    "\n",
    "encoder_model.load_state_dict(torch.load(state_dict_path)[\"state_dict\"])"
   ]
  },
  {
   "cell_type": "markdown",
   "id": "fedbd845-234d-437e-80f5-6b1c0a59695c",
   "metadata": {},
   "source": [
    "## Step 3: Initialize FM model"
   ]
  },
  {
   "cell_type": "code",
   "execution_count": 18,
   "id": "39190b2e-831f-4aca-a25c-4651e4b4cdc6",
   "metadata": {},
   "outputs": [],
   "source": [
    "generative_model_config = {'learning_rate': 0.0001,\n",
    "                            'weight_decay': 0.00001,\n",
    "                            'antithetic_time_sampling': True,\n",
    "                            'sigma': 0.0001}"
   ]
  },
  {
   "cell_type": "code",
   "execution_count": 19,
   "id": "98f49071-05c8-41a8-8a4b-83600981491e",
   "metadata": {
    "scrolled": true
   },
   "outputs": [],
   "source": [
    "ckpt = torch.load(\"/home/icb/alessandro.palma/environment/cfgen/project_folder/experiments/REBUTTALS_PBMC10K_FM/65501646-66de-44e9-a3ca-bb00e9093777/checkpoints/epoch_1999.ckpt\")\n",
    "\n",
    "denoising_model = ckpt[\"hyper_parameters\"][\"denoising_model\"]\n",
    "denoising_model.multimodal = False"
   ]
  },
  {
   "cell_type": "code",
   "execution_count": 20,
   "id": "0fd5db02-e71b-4115-9348-5e52d10da9cb",
   "metadata": {
    "scrolled": true
   },
   "outputs": [
    {
     "name": "stdout",
     "output_type": "stream",
     "text": [
      "Parameter containing:\n",
      "tensor([[ 1.7880e+00, -2.8397e-01,  3.9826e-01,  1.7119e-01,  7.5272e-01,\n",
      "         -1.7251e+00, -1.0895e+00, -1.5448e+00, -5.6474e-01,  1.1218e-01,\n",
      "         -7.9413e-01, -1.0884e+00,  5.6892e-02, -5.1691e-01, -4.3587e-01,\n",
      "         -6.0709e-01,  7.7477e-01, -2.2496e+00,  7.2479e-01, -1.7671e-01],\n",
      "        [-7.2453e-01, -8.9914e-01,  1.4111e+00, -1.1722e+00,  1.3804e+00,\n",
      "          2.0335e+00, -2.1916e-01, -1.0073e+00,  1.7943e-01, -7.1224e-01,\n",
      "         -9.8337e-01, -8.2886e-01, -1.1758e+00, -1.7524e+00,  3.2087e-01,\n",
      "         -7.5060e-01,  1.0062e+00,  5.5971e-01,  1.0469e+00, -2.7976e-02],\n",
      "        [ 9.2484e-01, -1.6876e+00,  5.1149e-01, -1.3791e+00, -2.3612e+00,\n",
      "          2.2362e-01,  2.5512e-01, -8.8583e-01, -1.1055e-01,  8.2535e-01,\n",
      "          1.3839e+00, -2.9159e-01,  1.3405e+00, -3.8020e-01,  8.8203e-01,\n",
      "          2.8879e-01,  6.3662e-01,  7.0195e-01, -2.3525e+00, -6.7972e-02],\n",
      "        [ 1.6783e+00,  1.6932e+00,  9.7796e-01,  7.8068e-01, -1.5265e+00,\n",
      "          2.0299e+00,  4.3572e-01,  1.3511e+00,  1.0931e+00,  1.2985e+00,\n",
      "          2.5570e+00,  3.7235e-01, -7.6143e-01, -8.6135e-01, -1.3225e+00,\n",
      "          7.7663e-01, -4.9132e-01, -1.7587e-02,  8.4519e-01,  3.6711e-01],\n",
      "        [ 1.0258e+00, -1.6749e+00,  3.5585e-01,  1.1211e+00,  4.5810e-01,\n",
      "          1.1346e+00, -1.0254e+00, -1.5006e+00,  1.2679e+00,  1.2472e+00,\n",
      "         -5.7142e-02, -5.4478e-01, -8.9627e-02,  1.2582e-01, -5.4433e-01,\n",
      "          4.8659e-01, -2.0123e+00,  3.7645e-01, -6.0023e-01, -1.1236e+00],\n",
      "        [-1.4504e+00, -4.3607e-01,  2.2206e+00,  9.9429e-01,  3.8501e-03,\n",
      "          1.0843e+00, -8.1780e-01,  2.3033e+00,  1.6770e+00,  2.3199e+00,\n",
      "         -1.1176e+00, -5.1019e-01, -4.2641e-01,  9.7859e-01, -1.0428e+00,\n",
      "         -5.2294e-01,  1.5200e-02, -1.3316e+00,  6.5887e-01, -3.7687e-01],\n",
      "        [-8.1481e-01, -2.5727e-02,  9.3584e-02, -1.3015e+00, -8.9483e-01,\n",
      "         -2.0057e-01,  1.3115e+00,  8.3180e-02,  2.4235e-01, -1.5652e+00,\n",
      "         -6.8735e-01,  1.4236e+00,  1.2058e+00, -1.6286e+00,  1.6537e+00,\n",
      "         -1.9629e+00, -1.3067e+00,  7.2067e-01, -2.2230e-01,  2.2205e+00],\n",
      "        [-1.2988e+00, -1.4370e+00,  7.3748e-01, -6.5186e-01,  2.1196e+00,\n",
      "         -2.9771e-01,  1.4710e+00, -5.4120e-02,  7.2813e-01,  4.0145e-02,\n",
      "          1.8160e-01,  1.2423e+00, -1.8010e-01, -6.1903e-01,  1.4113e+00,\n",
      "         -1.9892e-01,  2.6523e-01, -8.0409e-02,  2.1379e+00,  1.6313e-01],\n",
      "        [ 3.2689e-01, -2.3508e-01,  1.0283e+00, -1.0417e+00, -4.6129e-02,\n",
      "         -9.1212e-02, -6.5174e-02,  4.6988e-01, -6.7697e-01, -1.6048e+00,\n",
      "          2.0514e-01, -1.7545e-01, -5.8516e-01,  8.4387e-01,  4.0897e-02,\n",
      "         -8.4978e-01,  5.7959e-01, -4.7364e-01, -1.3347e+00,  1.0670e+00],\n",
      "        [ 3.5125e-01, -4.4462e-01, -1.9204e+00,  1.3198e+00, -1.4121e+00,\n",
      "         -3.8151e-02, -1.6510e+00,  1.4055e-02,  1.8957e+00, -6.4378e-01,\n",
      "         -2.0972e-01, -8.8898e-01, -1.6679e+00, -2.2620e-01,  5.1769e-01,\n",
      "         -1.3573e-03,  2.0367e-01,  4.0457e-01, -1.0102e+00,  1.0584e+00],\n",
      "        [ 1.0703e+00,  4.9928e-02, -2.2015e+00, -4.4419e-01, -6.7896e-01,\n",
      "         -1.1860e+00,  1.0924e+00, -1.1941e+00, -1.1593e+00,  3.9934e-01,\n",
      "          3.5709e-01,  4.1588e-01, -2.6648e+00, -6.9991e-01,  4.3426e-01,\n",
      "          6.6277e-01,  2.7104e-01, -2.9804e-01,  2.4602e-01, -5.5707e-01],\n",
      "        [ 1.1672e+00, -9.9778e-01, -2.2260e+00, -2.6947e-01,  7.0006e-01,\n",
      "          1.5524e+00, -2.3044e-01, -4.8124e-01, -1.9198e+00,  2.5812e+00,\n",
      "         -6.8836e-01,  6.1856e-01,  1.5439e+00,  1.5679e+00,  6.1869e-01,\n",
      "          4.6892e-01, -1.5758e+00, -1.0881e-01,  2.5195e-02, -9.7808e-02],\n",
      "        [-2.5292e+00,  1.2124e+00,  7.2201e-01,  2.2611e-01, -1.0210e+00,\n",
      "         -8.7512e-01, -2.2470e-01, -5.3775e-01, -1.3516e+00,  3.8820e-01,\n",
      "          4.4759e-01,  1.2717e+00,  9.9551e-01,  2.0920e+00, -5.3053e-01,\n",
      "         -2.8411e-01, -9.4866e-01,  5.2807e-01,  1.6878e+00,  2.2989e-01],\n",
      "        [-2.6274e+00, -2.7840e-01, -5.7089e-01,  1.0759e+00, -2.5366e-01,\n",
      "         -1.4608e-01, -9.1108e-01, -1.8595e+00, -2.3324e+00,  1.7127e-01,\n",
      "          9.7295e-01,  5.1713e-01, -1.9937e+00,  1.6999e-01,  1.3786e+00,\n",
      "         -1.2080e+00,  6.1663e-02,  1.3503e+00, -1.8436e+00,  7.9308e-01]],\n",
      "       device='cuda:0', requires_grad=True)\n"
     ]
    }
   ],
   "source": [
    "print(ckpt[\"hyper_parameters\"][\"feature_embeddings\"][\"cell_type\"].embeddings.weight)\n",
    "feature_embeddings = ckpt[\"hyper_parameters\"][\"feature_embeddings\"]"
   ]
  },
  {
   "cell_type": "markdown",
   "id": "64548d77-2e55-4a4b-8d20-49ee96096e3a",
   "metadata": {},
   "source": [
    "Initializations"
   ]
  },
  {
   "cell_type": "code",
   "execution_count": 21,
   "id": "07002cca-2d73-4dad-baa9-6a64cac5e281",
   "metadata": {
    "scrolled": true
   },
   "outputs": [
    {
     "name": "stderr",
     "output_type": "stream",
     "text": [
      "/home/icb/alessandro.palma/miniconda3/envs/celldreamer/lib/python3.10/site-packages/pytorch_lightning/utilities/parsing.py:198: Attribute 'encoder_model' is an instance of `nn.Module` and is already saved during checkpointing. It is recommended to ignore them using `self.save_hyperparameters(ignore=['encoder_model'])`.\n",
      "/home/icb/alessandro.palma/miniconda3/envs/celldreamer/lib/python3.10/site-packages/pytorch_lightning/utilities/parsing.py:198: Attribute 'denoising_model' is an instance of `nn.Module` and is already saved during checkpointing. It is recommended to ignore them using `self.save_hyperparameters(ignore=['denoising_model'])`.\n"
     ]
    },
    {
     "data": {
      "text/plain": [
       "FM(\n",
       "  (encoder_model): EncoderModel(\n",
       "    (x0_from_x): MLP(\n",
       "      (net): Sequential(\n",
       "        (0): Sequential(\n",
       "          (0): Linear(in_features=25604, out_features=512, bias=True)\n",
       "          (1): BatchNorm1d(512, eps=1e-05, momentum=0.1, affine=True, track_running_stats=True)\n",
       "          (2): ELU(alpha=1.0)\n",
       "        )\n",
       "        (1): Sequential(\n",
       "          (0): Linear(in_features=512, out_features=256, bias=True)\n",
       "          (1): BatchNorm1d(256, eps=1e-05, momentum=0.1, affine=True, track_running_stats=True)\n",
       "          (2): ELU(alpha=1.0)\n",
       "        )\n",
       "        (2): Linear(in_features=256, out_features=100, bias=True)\n",
       "      )\n",
       "    )\n",
       "    (x_from_x0): MLP(\n",
       "      (net): Sequential(\n",
       "        (0): Sequential(\n",
       "          (0): Linear(in_features=100, out_features=256, bias=True)\n",
       "          (1): BatchNorm1d(256, eps=1e-05, momentum=0.1, affine=True, track_running_stats=True)\n",
       "          (2): ELU(alpha=1.0)\n",
       "        )\n",
       "        (1): Sequential(\n",
       "          (0): Linear(in_features=256, out_features=512, bias=True)\n",
       "          (1): BatchNorm1d(512, eps=1e-05, momentum=0.1, affine=True, track_running_stats=True)\n",
       "          (2): ELU(alpha=1.0)\n",
       "        )\n",
       "        (2): Linear(in_features=512, out_features=25604, bias=True)\n",
       "      )\n",
       "    )\n",
       "  )\n",
       "  (denoising_model): MLPTimeStep(\n",
       "    (time_embedder): Sequential(\n",
       "      (0): Linear(in_features=20, out_features=20, bias=True)\n",
       "      (1): SiLU()\n",
       "      (2): Linear(in_features=20, out_features=20, bias=True)\n",
       "    )\n",
       "    (net_in): Linear(in_features=100, out_features=32, bias=True)\n",
       "    (blocks): ModuleList(\n",
       "      (0-2): 3 x ResnetBlock(\n",
       "        (net1): Sequential(\n",
       "          (0): SiLU()\n",
       "          (1): Linear(in_features=32, out_features=32, bias=True)\n",
       "        )\n",
       "        (cond_proj): Sequential(\n",
       "          (0): SiLU()\n",
       "          (1): Linear(in_features=20, out_features=32, bias=True)\n",
       "        )\n",
       "        (net2): Sequential(\n",
       "          (0): SiLU()\n",
       "          (1): Linear(in_features=32, out_features=32, bias=True)\n",
       "        )\n",
       "      )\n",
       "    )\n",
       "    (net_out): Sequential(\n",
       "      (0): SiLU()\n",
       "      (1): Linear(in_features=32, out_features=100, bias=True)\n",
       "    )\n",
       "  )\n",
       "  (criterion): MSELoss()\n",
       ")"
      ]
     },
     "execution_count": 21,
     "metadata": {},
     "output_type": "execute_result"
    }
   ],
   "source": [
    "generative_model = FM(\n",
    "            encoder_model=encoder_model,\n",
    "            denoising_model=denoising_model,\n",
    "            feature_embeddings=feature_embeddings,\n",
    "            plotting_folder=None,\n",
    "            in_dim=512,\n",
    "            size_factor_statistics=size_factor_statistics,\n",
    "            encoder_type=dataset_config[\"encoder_type\"],\n",
    "            conditioning_covariate=dataset_config[\"conditioning_covariate\"],\n",
    "            model_type=denoising_model.model_type, \n",
    "            **generative_model_config  # model_kwargs should contain the rest of the arguments\n",
    "            )\n",
    "\n",
    "generative_model.load_state_dict(ckpt[\"state_dict\"])\n",
    "generative_model.to(\"cuda\")"
   ]
  },
  {
   "cell_type": "markdown",
   "id": "c9b3d1e1-3458-4df1-81f2-3ca45820879e",
   "metadata": {},
   "source": [
    "# Save three copies of generated datasest "
   ]
  },
  {
   "cell_type": "code",
   "execution_count": 22,
   "id": "86e7b000-32fd-4c0f-b466-71912b30b104",
   "metadata": {},
   "outputs": [],
   "source": [
    "adata_original = sc.read_h5ad(DATA_DIR / 'processed' / 'atac' / 'pbmc' / 'pbmc10k_rna_multiome_test.h5ad')\n",
    "adata_original.X = adata_original.layers[\"X_counts\"].copy()\n",
    "adata_original.obs[\"size_factor\"]=adata_original.X.A.sum(1)\n",
    "saving_dir = DATA_DIR / \"generated\" / \"pbmc10k_rna\""
   ]
  },
  {
   "cell_type": "code",
   "execution_count": 23,
   "id": "0a6c6d1c-a701-4f12-a312-a4afc1321d9b",
   "metadata": {},
   "outputs": [
    {
     "name": "stderr",
     "output_type": "stream",
     "text": [
      "100%|██████████| 3/3 [00:27<00:00,  9.24s/it]\n"
     ]
    }
   ],
   "source": [
    "index_range = len(adata_original)\n",
    "num_indices = 2000\n",
    "\n",
    "for it in tqdm(range(3)):    \n",
    "    classes_str =  list(adata_original.obs[\"cell_type\"])\n",
    "    classes = torch.tensor([dataset.id2cov[\"cell_type\"][c] for  c in classes_str])\n",
    "\n",
    "    X_generated = generative_model.sample(batch_size=num_indices,\n",
    "                                            n_sample_steps=2, \n",
    "                                            covariate=\"cell_type\", \n",
    "                                            covariate_indices=classes, \n",
    "                                            log_size_factor=None)\n",
    "\n",
    "    X_generated = X_generated.to(\"cpu\")\n",
    "    \n",
    "    adata_generated = sc.AnnData(X=sp.csr_matrix(deepcopy(X_generated).cpu().numpy()))\n",
    "    adata_generated.obs[\"size_factor\"] = adata_generated.X.sum(1)\n",
    "    adata_generated.obs[\"cell_type\"] = classes_str\n",
    "    adata_generated.obs[\"cell_type\"] = adata_generated.obs[\"cell_type\"].astype(\"category\")\n",
    "    adata_generated.layers[\"X_counts\"] = adata_generated.X.copy()\n",
    "    sc.pp.normalize_total(adata_generated, target_sum=10000)\n",
    "    sc.pp.log1p(adata_generated)\n",
    "    sc.tl.pca(adata_generated)\n",
    "    adata_generated.write_h5ad(f\"/home/icb/alessandro.palma/environment/cfgen/project_folder/datasets/generated/pbmc10k_rna/generated_cells_{it}.h5ad\")"
   ]
  },
  {
   "cell_type": "code",
   "execution_count": 24,
   "id": "cbcf71c9-9fed-4ebc-90f1-f9dc498a9248",
   "metadata": {},
   "outputs": [
    {
     "data": {
      "text/plain": [
       "PosixPath('/ictstr01/home/icb/alessandro.palma/environment/cfgen/project_folder/datasets/generated/pbmc10k_rna')"
      ]
     },
     "execution_count": 24,
     "metadata": {},
     "output_type": "execute_result"
    }
   ],
   "source": [
    "saving_dir"
   ]
  },
  {
   "cell_type": "code",
   "execution_count": null,
   "id": "21cc33aa-c817-49d2-86e0-59ed067fad8c",
   "metadata": {},
   "outputs": [],
   "source": []
  }
 ],
 "metadata": {
  "kernelspec": {
   "display_name": "Python 3 (ipykernel)",
   "language": "python",
   "name": "python3"
  },
  "language_info": {
   "codemirror_mode": {
    "name": "ipython",
    "version": 3
   },
   "file_extension": ".py",
   "mimetype": "text/x-python",
   "name": "python",
   "nbconvert_exporter": "python",
   "pygments_lexer": "ipython3",
   "version": "3.10.13"
  }
 },
 "nbformat": 4,
 "nbformat_minor": 5
}
