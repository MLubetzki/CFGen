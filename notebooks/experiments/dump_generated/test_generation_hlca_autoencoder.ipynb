{
 "cells": [
  {
   "cell_type": "code",
   "execution_count": 1,
   "id": "0e922d7a-94d3-4835-b329-a92f7a0cedea",
   "metadata": {},
   "outputs": [
    {
     "name": "stderr",
     "output_type": "stream",
     "text": [
      "An NVIDIA GPU may be present on this machine, but a CUDA-enabled jaxlib is not installed. Falling back to cpu.\n",
      "/home/icb/alessandro.palma/miniconda3/envs/celldreamer/lib/python3.10/site-packages/scvi/_settings.py:63: UserWarning: Since v1.0.0, scvi-tools no longer uses a random seed by default. Run `scvi.settings.seed = 0` to reproduce results from previous versions.\n",
      "  self.seed = seed\n",
      "/home/icb/alessandro.palma/miniconda3/envs/celldreamer/lib/python3.10/site-packages/scvi/_settings.py:70: UserWarning: Setting `dl_pin_memory_gpu_training` is deprecated in v1.0 and will be removed in v1.1. Please pass in `pin_memory` to the data loaders instead.\n",
      "  self.dl_pin_memory_gpu_training = (\n"
     ]
    }
   ],
   "source": [
    "import numpy as np\n",
    "import pandas as pd\n",
    "import yaml\n",
    "import torch\n",
    "from copy import deepcopy\n",
    "import matplotlib.pyplot as plt\n",
    "from celldreamer.eval.eval_utils import normalize_and_compute_metrics\n",
    "import scipy.sparse as sp\n",
    "from tqdm import tqdm \n",
    "\n",
    "from torch import nn\n",
    "import pickle\n",
    "import scanpy as sc    \n",
    "\n",
    "from celldreamer.data.scrnaseq_loader import RNAseqLoader\n",
    "from celldreamer.models.featurizers.category_featurizer import CategoricalFeaturizer\n",
    "from celldreamer.models.fm.fm import FM\n",
    "from celldreamer.eval.optimal_transport import wasserstein\n",
    "import random\n",
    "from celldreamer.models.base.encoder_model import EncoderModel\n",
    "from celldreamer.models.base.utils import unsqueeze_right\n",
    "\n",
    "from celldreamer.paths import DATA_DIR\n",
    "\n",
    "device  = \"cuda\" if torch.cuda.is_available() else \"cpu\""
   ]
  },
  {
   "cell_type": "markdown",
   "id": "2337906d-bdfa-47b1-a00b-a56ead7770bf",
   "metadata": {},
   "source": [
    "## Step 1: Initialize data"
   ]
  },
  {
   "cell_type": "code",
   "execution_count": null,
   "id": "c1dff4ce-b1a0-4892-9cce-7c8138b90e04",
   "metadata": {},
   "outputs": [],
   "source": []
  },
  {
   "cell_type": "code",
   "execution_count": 22,
   "id": "9d122123-ecb5-407c-a31f-4be515dbc482",
   "metadata": {},
   "outputs": [
    {
     "name": "stderr",
     "output_type": "stream",
     "text": [
      "/home/icb/alessandro.palma/miniconda3/envs/celldreamer/lib/python3.10/site-packages/anndata/__init__.py:51: FutureWarning: `anndata.read` is deprecated, use `anndata.read_h5ad` instead. `ad.read` will be removed in mid 2024.\n",
      "  warnings.warn(\n"
     ]
    }
   ],
   "source": [
    "dataset_config = {'dataset_path': DATA_DIR / 'processed_full_genome' / 'hlca_core' / 'hlca_core_train.h5ad',\n",
    "                    'layer_key': 'X_counts',\n",
    "                    'covariate_keys': ['cell_type'],\n",
    "                    'conditioning_covariate': 'cell_type',\n",
    "                    'subsample_frac': 1,\n",
    "                    'encoder_type': 'learnt_autoencoder',\n",
    "                    'target_max': 1,\n",
    "                    'target_min': -1,\n",
    "                    'n_dimensions': None,\n",
    "                    'one_hot_encode_features': True,\n",
    "                    'split_rates': [0.90, 0.05, 0.05],\n",
    "                    'cov_embedding_dimensions': None}\n",
    "\n",
    "data_path = dataset_config[\"dataset_path\"]\n",
    "\n",
    "dataset = RNAseqLoader(data_path=data_path,\n",
    "                                layer_key=dataset_config[\"layer_key\"],\n",
    "                                covariate_keys=dataset_config[\"covariate_keys\"],\n",
    "                                subsample_frac=dataset_config[\"subsample_frac\"], \n",
    "                                encoder_type=dataset_config[\"encoder_type\"])\n",
    "\n",
    "in_dim = dataset.X.shape[1]\n",
    "size_factor_statistics = {\"mean\": dataset.log_size_factor_mu, \n",
    "                                  \"sd\": dataset.log_size_factor_sd}\n",
    "n_cat = len(dataset.id2cov[\"cell_type\"])\n",
    "\n",
    "id2cov = dataset.id2cov\n",
    "\n",
    "del dataset"
   ]
  },
  {
   "cell_type": "markdown",
   "id": "01e52db6-ea20-4c88-ad5e-8744267372b5",
   "metadata": {},
   "source": [
    "## Step 2: Initialize encoder"
   ]
  },
  {
   "cell_type": "code",
   "execution_count": 23,
   "id": "05c31d1f-75d4-41ab-a58e-ff894e8a5cc0",
   "metadata": {},
   "outputs": [],
   "source": [
    "encoder_config = {\n",
    "    \"encoder_kwargs\": {\n",
    "        \"dims\": [512, 256, 100],\n",
    "        \"batch_norm\": True,\n",
    "        \"dropout\": False,\n",
    "        \"dropout_p\": 0.0\n",
    "    },\n",
    "    \"learning_rate\": 0.001,\n",
    "    \"weight_decay\": 0.00001,\n",
    "    \"covariate_specific_theta\": False\n",
    "}\n",
    "\n",
    "state_dict_path = \"/home/icb/alessandro.palma/environment/celldreamer/project_folder/experiments/off_train_autoencoder_hlca_core_whole_genome/80ee94e4-ba9f-4481-a2db-8fa005a5cf67/checkpoints/epoch_99.ckpt\""
   ]
  },
  {
   "cell_type": "code",
   "execution_count": 24,
   "id": "5037fb6f-d5d9-4d51-bfb4-c42e73ff043a",
   "metadata": {},
   "outputs": [
    {
     "data": {
      "text/plain": [
       "EncoderModel(\n",
       "  (x0_from_x): MLP(\n",
       "    (net): Sequential(\n",
       "      (0): Sequential(\n",
       "        (0): Linear(in_features=27997, out_features=512, bias=True)\n",
       "        (1): BatchNorm1d(512, eps=1e-05, momentum=0.1, affine=True, track_running_stats=True)\n",
       "        (2): ELU(alpha=1.0)\n",
       "      )\n",
       "      (1): Sequential(\n",
       "        (0): Linear(in_features=512, out_features=256, bias=True)\n",
       "        (1): BatchNorm1d(256, eps=1e-05, momentum=0.1, affine=True, track_running_stats=True)\n",
       "        (2): ELU(alpha=1.0)\n",
       "      )\n",
       "      (2): Linear(in_features=256, out_features=100, bias=True)\n",
       "    )\n",
       "  )\n",
       "  (x_from_x0): MLP(\n",
       "    (net): Sequential(\n",
       "      (0): Sequential(\n",
       "        (0): Linear(in_features=100, out_features=256, bias=True)\n",
       "        (1): BatchNorm1d(256, eps=1e-05, momentum=0.1, affine=True, track_running_stats=True)\n",
       "        (2): ELU(alpha=1.0)\n",
       "      )\n",
       "      (1): Sequential(\n",
       "        (0): Linear(in_features=256, out_features=512, bias=True)\n",
       "        (1): BatchNorm1d(512, eps=1e-05, momentum=0.1, affine=True, track_running_stats=True)\n",
       "        (2): ELU(alpha=1.0)\n",
       "      )\n",
       "      (2): Linear(in_features=512, out_features=27997, bias=True)\n",
       "    )\n",
       "  )\n",
       ")"
      ]
     },
     "execution_count": 24,
     "metadata": {},
     "output_type": "execute_result"
    }
   ],
   "source": [
    "encoder_model = EncoderModel(in_dim=in_dim,\n",
    "                              n_cat=n_cat,\n",
    "                              conditioning_covariate=dataset_config[\"conditioning_covariate\"], \n",
    "                              encoder_type=dataset_config[\"encoder_type\"],\n",
    "                              **encoder_config)\n",
    "\n",
    "encoder_model.load_state_dict(torch.load(state_dict_path)[\"state_dict\"])\n",
    "\n",
    "encoder_model.eval()"
   ]
  },
  {
   "cell_type": "markdown",
   "id": "fedbd845-234d-437e-80f5-6b1c0a59695c",
   "metadata": {},
   "source": [
    "## Step 3: Initialize FM model"
   ]
  },
  {
   "cell_type": "code",
   "execution_count": 25,
   "id": "39190b2e-831f-4aca-a25c-4651e4b4cdc6",
   "metadata": {},
   "outputs": [],
   "source": [
    "generative_model_config = {'learning_rate': 0.0001,\n",
    "                            'weight_decay': 0.00001,\n",
    "                            'antithetic_time_sampling': True,\n",
    "                            'sigma': 0.0001}"
   ]
  },
  {
   "cell_type": "code",
   "execution_count": 26,
   "id": "98f49071-05c8-41a8-8a4b-83600981491e",
   "metadata": {
    "scrolled": true
   },
   "outputs": [],
   "source": [
    "ckpt = torch.load(\"/home/icb/alessandro.palma/environment/celldreamer/project_folder/experiments/off_fm_resnet_autoencoder_hlca_core_whole_genome/f5516523-21b1-422d-b9c7-fd7cbc75a810/checkpoints/last.ckpt\")\n",
    "\n",
    "denoising_model = ckpt[\"hyper_parameters\"][\"denoising_model\"]\n",
    "denoising_model.multimodal = False"
   ]
  },
  {
   "cell_type": "code",
   "execution_count": 27,
   "id": "0ce68755-2176-4f39-8346-c085c0f5d680",
   "metadata": {
    "scrolled": true
   },
   "outputs": [
    {
     "data": {
      "text/plain": [
       "{'encoder_model': EncoderModel(\n",
       "   (x0_from_x): MLP(\n",
       "     (net): Sequential(\n",
       "       (0): Sequential(\n",
       "         (0): Linear(in_features=27997, out_features=512, bias=True)\n",
       "         (1): BatchNorm1d(512, eps=1e-05, momentum=0.1, affine=True, track_running_stats=True)\n",
       "         (2): ELU(alpha=1.0)\n",
       "       )\n",
       "       (1): Sequential(\n",
       "         (0): Linear(in_features=512, out_features=256, bias=True)\n",
       "         (1): BatchNorm1d(256, eps=1e-05, momentum=0.1, affine=True, track_running_stats=True)\n",
       "         (2): ELU(alpha=1.0)\n",
       "       )\n",
       "       (2): Linear(in_features=256, out_features=100, bias=True)\n",
       "     )\n",
       "   )\n",
       "   (x_from_x0): MLP(\n",
       "     (net): Sequential(\n",
       "       (0): Sequential(\n",
       "         (0): Linear(in_features=100, out_features=256, bias=True)\n",
       "         (1): BatchNorm1d(256, eps=1e-05, momentum=0.1, affine=True, track_running_stats=True)\n",
       "         (2): ELU(alpha=1.0)\n",
       "       )\n",
       "       (1): Sequential(\n",
       "         (0): Linear(in_features=256, out_features=512, bias=True)\n",
       "         (1): BatchNorm1d(512, eps=1e-05, momentum=0.1, affine=True, track_running_stats=True)\n",
       "         (2): ELU(alpha=1.0)\n",
       "       )\n",
       "       (2): Linear(in_features=512, out_features=27997, bias=True)\n",
       "     )\n",
       "   )\n",
       " ),\n",
       " 'denoising_model': MLPTimeStep(\n",
       "   (time_embedder): Sequential(\n",
       "     (0): Linear(in_features=100, out_features=100, bias=True)\n",
       "     (1): SiLU()\n",
       "     (2): Linear(in_features=100, out_features=100, bias=True)\n",
       "   )\n",
       "   (net_in): Linear(in_features=100, out_features=64, bias=True)\n",
       "   (blocks): ModuleList(\n",
       "     (0-2): 3 x ResnetBlock(\n",
       "       (net1): Sequential(\n",
       "         (0): SiLU()\n",
       "         (1): Linear(in_features=64, out_features=64, bias=True)\n",
       "       )\n",
       "       (cond_proj): Sequential(\n",
       "         (0): SiLU()\n",
       "         (1): Linear(in_features=100, out_features=64, bias=True)\n",
       "       )\n",
       "       (net2): Sequential(\n",
       "         (0): SiLU()\n",
       "         (1): Linear(in_features=64, out_features=64, bias=True)\n",
       "       )\n",
       "     )\n",
       "   )\n",
       "   (net_out): Sequential(\n",
       "     (0): SiLU()\n",
       "     (1): Linear(in_features=64, out_features=100, bias=True)\n",
       "   )\n",
       " ),\n",
       " 'feature_embeddings': {'cell_type': CategoricalFeaturizer(\n",
       "    (embeddings): Embedding(50, 100)\n",
       "  )},\n",
       " 'plotting_folder': PosixPath('/ictstr01/home/icb/alessandro.palma/environment/celldreamer/project_folder/experiments/off_fm_resnet_autoencoder_hlca_core_whole_genome/f5516523-21b1-422d-b9c7-fd7cbc75a810/plots'),\n",
       " 'in_dim': 100,\n",
       " 'size_factor_statistics': {'mean': {'cell_type': tensor([7.8522, 8.2958, 7.6711, 7.3785, 8.8409, 9.5303, 9.0802, 8.0767, 8.8276,\n",
       "           9.1917, 7.7278, 9.2672, 7.5517, 8.3779, 8.0229, 8.5446, 8.9844, 8.7071,\n",
       "           8.6360, 7.8592, 8.5063, 8.7891, 9.0084, 8.9540, 8.5053, 8.3818, 9.4334,\n",
       "           7.6264, 7.7309, 8.9452, 8.5672, 8.7530, 8.0544, 8.3024, 7.6423, 8.2880,\n",
       "           8.7838, 7.8552, 7.7876, 8.8169, 9.3999, 9.5582, 8.8225, 7.6062, 8.7175,\n",
       "           8.6049, 7.8236, 7.5969, 8.8005, 7.8084])},\n",
       "  'sd': {'cell_type': tensor([0.7232, 0.9024, 0.5965, 0.6350, 0.8392, 0.9931, 0.8290, 0.8257, 0.9852,\n",
       "           0.8945, 0.8160, 0.8898, 0.6276, 1.0401, 0.6956, 0.8404, 0.6675, 0.6524,\n",
       "           0.7524, 0.8107, 0.8534, 0.9265, 0.7982, 0.5393, 1.0212, 0.6606, 0.9870,\n",
       "           0.4814, 0.6737, 0.8937, 0.7020, 0.9045, 0.6311, 1.0727, 0.4804, 0.7309,\n",
       "           0.9787, 0.8303, 0.7792, 1.1805, 1.4187, 0.5663, 0.7295, 0.7543, 0.5344,\n",
       "           0.7183, 0.8385, 0.7367, 0.7604, 0.7762])}},\n",
       " 'conditioning_covariate': 'cell_type',\n",
       " 'model_type': 'conditional_latent',\n",
       " 'encoder_type': 'learnt_autoencoder',\n",
       " 'learning_rate': 0.0001,\n",
       " 'weight_decay': 1e-06,\n",
       " 'antithetic_time_sampling': True,\n",
       " 'scaling_method': 'log_normalization',\n",
       " 'sigma': 0.0001,\n",
       " 'covariate_specific_theta': False,\n",
       " 'plot_and_eval_every': 100,\n",
       " 'use_ot': False,\n",
       " 'multimodal': False,\n",
       " 'is_binarized': False,\n",
       " 'modality_list': None}"
      ]
     },
     "execution_count": 27,
     "metadata": {},
     "output_type": "execute_result"
    }
   ],
   "source": [
    "ckpt[\"hyper_parameters\"]"
   ]
  },
  {
   "cell_type": "code",
   "execution_count": 28,
   "id": "0fd5db02-e71b-4115-9348-5e52d10da9cb",
   "metadata": {
    "scrolled": true
   },
   "outputs": [
    {
     "name": "stdout",
     "output_type": "stream",
     "text": [
      "Parameter containing:\n",
      "tensor([[-1.2769e+00,  7.5715e-01, -1.0924e+00,  ..., -1.6436e-01,\n",
      "          7.0600e-01,  9.7933e-01],\n",
      "        [ 1.9863e-01,  6.9801e-01, -9.6553e-01,  ...,  7.7968e-01,\n",
      "         -1.9831e-01,  1.1236e+00],\n",
      "        [-8.2322e-01, -2.4582e+00, -1.2183e+00,  ...,  7.8510e-01,\n",
      "          2.1482e-03,  1.2392e+00],\n",
      "        ...,\n",
      "        [-8.2123e-01,  1.0490e+00, -1.4387e+00,  ...,  7.0423e-02,\n",
      "          5.0027e-01,  2.8660e-01],\n",
      "        [ 1.1899e-01,  4.9095e-01,  9.3515e-01,  ..., -9.6862e-02,\n",
      "          7.6541e-01, -2.9512e-01],\n",
      "        [-5.7512e-01, -2.3311e-01,  6.7195e-01,  ..., -1.6282e+00,\n",
      "          1.3942e+00, -7.7802e-01]], device='cuda:0', requires_grad=True)\n"
     ]
    }
   ],
   "source": [
    "print(ckpt[\"hyper_parameters\"][\"feature_embeddings\"][\"cell_type\"].embeddings.weight)\n",
    "feature_embeddings = ckpt[\"hyper_parameters\"][\"feature_embeddings\"]"
   ]
  },
  {
   "cell_type": "markdown",
   "id": "64548d77-2e55-4a4b-8d20-49ee96096e3a",
   "metadata": {},
   "source": [
    "Initializations"
   ]
  },
  {
   "cell_type": "code",
   "execution_count": 29,
   "id": "07002cca-2d73-4dad-baa9-6a64cac5e281",
   "metadata": {
    "scrolled": true
   },
   "outputs": [
    {
     "name": "stderr",
     "output_type": "stream",
     "text": [
      "/home/icb/alessandro.palma/miniconda3/envs/celldreamer/lib/python3.10/site-packages/pytorch_lightning/utilities/parsing.py:198: Attribute 'encoder_model' is an instance of `nn.Module` and is already saved during checkpointing. It is recommended to ignore them using `self.save_hyperparameters(ignore=['encoder_model'])`.\n",
      "/home/icb/alessandro.palma/miniconda3/envs/celldreamer/lib/python3.10/site-packages/pytorch_lightning/utilities/parsing.py:198: Attribute 'denoising_model' is an instance of `nn.Module` and is already saved during checkpointing. It is recommended to ignore them using `self.save_hyperparameters(ignore=['denoising_model'])`.\n"
     ]
    },
    {
     "data": {
      "text/plain": [
       "FM(\n",
       "  (encoder_model): EncoderModel(\n",
       "    (x0_from_x): MLP(\n",
       "      (net): Sequential(\n",
       "        (0): Sequential(\n",
       "          (0): Linear(in_features=27997, out_features=512, bias=True)\n",
       "          (1): BatchNorm1d(512, eps=1e-05, momentum=0.1, affine=True, track_running_stats=True)\n",
       "          (2): ELU(alpha=1.0)\n",
       "        )\n",
       "        (1): Sequential(\n",
       "          (0): Linear(in_features=512, out_features=256, bias=True)\n",
       "          (1): BatchNorm1d(256, eps=1e-05, momentum=0.1, affine=True, track_running_stats=True)\n",
       "          (2): ELU(alpha=1.0)\n",
       "        )\n",
       "        (2): Linear(in_features=256, out_features=100, bias=True)\n",
       "      )\n",
       "    )\n",
       "    (x_from_x0): MLP(\n",
       "      (net): Sequential(\n",
       "        (0): Sequential(\n",
       "          (0): Linear(in_features=100, out_features=256, bias=True)\n",
       "          (1): BatchNorm1d(256, eps=1e-05, momentum=0.1, affine=True, track_running_stats=True)\n",
       "          (2): ELU(alpha=1.0)\n",
       "        )\n",
       "        (1): Sequential(\n",
       "          (0): Linear(in_features=256, out_features=512, bias=True)\n",
       "          (1): BatchNorm1d(512, eps=1e-05, momentum=0.1, affine=True, track_running_stats=True)\n",
       "          (2): ELU(alpha=1.0)\n",
       "        )\n",
       "        (2): Linear(in_features=512, out_features=27997, bias=True)\n",
       "      )\n",
       "    )\n",
       "  )\n",
       "  (denoising_model): MLPTimeStep(\n",
       "    (time_embedder): Sequential(\n",
       "      (0): Linear(in_features=100, out_features=100, bias=True)\n",
       "      (1): SiLU()\n",
       "      (2): Linear(in_features=100, out_features=100, bias=True)\n",
       "    )\n",
       "    (net_in): Linear(in_features=100, out_features=64, bias=True)\n",
       "    (blocks): ModuleList(\n",
       "      (0-2): 3 x ResnetBlock(\n",
       "        (net1): Sequential(\n",
       "          (0): SiLU()\n",
       "          (1): Linear(in_features=64, out_features=64, bias=True)\n",
       "        )\n",
       "        (cond_proj): Sequential(\n",
       "          (0): SiLU()\n",
       "          (1): Linear(in_features=100, out_features=64, bias=True)\n",
       "        )\n",
       "        (net2): Sequential(\n",
       "          (0): SiLU()\n",
       "          (1): Linear(in_features=64, out_features=64, bias=True)\n",
       "        )\n",
       "      )\n",
       "    )\n",
       "    (net_out): Sequential(\n",
       "      (0): SiLU()\n",
       "      (1): Linear(in_features=64, out_features=100, bias=True)\n",
       "    )\n",
       "  )\n",
       "  (criterion): MSELoss()\n",
       ")"
      ]
     },
     "execution_count": 29,
     "metadata": {},
     "output_type": "execute_result"
    }
   ],
   "source": [
    "generative_model = FM(\n",
    "            encoder_model=encoder_model,\n",
    "            denoising_model=denoising_model,\n",
    "            feature_embeddings=feature_embeddings,\n",
    "            plotting_folder=None,\n",
    "            in_dim=512,\n",
    "            size_factor_statistics=size_factor_statistics,\n",
    "            encoder_type=dataset_config[\"encoder_type\"],\n",
    "            conditioning_covariate=dataset_config[\"conditioning_covariate\"],\n",
    "            model_type=denoising_model.model_type, \n",
    "            **generative_model_config  # model_kwargs should contain the rest of the arguments\n",
    "            )\n",
    "\n",
    "generative_model.load_state_dict(ckpt[\"state_dict\"])\n",
    "generative_model.to(\"cuda\")"
   ]
  },
  {
   "cell_type": "code",
   "execution_count": null,
   "id": "bac8743c-f386-454f-ae7f-27bb3042cd03",
   "metadata": {},
   "outputs": [],
   "source": [
    "del ckpt\n",
    "del encoder_model"
   ]
  },
  {
   "cell_type": "markdown",
   "id": "c9b3d1e1-3458-4df1-81f2-3ca45820879e",
   "metadata": {},
   "source": [
    "# Save three copies of generated datasest "
   ]
  },
  {
   "cell_type": "code",
   "execution_count": 37,
   "id": "86e7b000-32fd-4c0f-b466-71912b30b104",
   "metadata": {},
   "outputs": [],
   "source": [
    "adata_original = sc.read_h5ad(DATA_DIR / 'processed_full_genome' / 'hlca_core' / 'hlca_core_test.h5ad')\n",
    "adata_original.X = adata_original.layers[\"X_counts\"].copy()\n",
    "adata_original.obs[\"size_factor\"]=adata_original.X.A.sum(1)\n",
    "saving_dir = DATA_DIR / \"generated\" / \"hlca_core\""
   ]
  },
  {
   "cell_type": "code",
   "execution_count": 34,
   "id": "c027aa2b-2b9d-4d04-9612-6ca220d3ed6a",
   "metadata": {
    "scrolled": true
   },
   "outputs": [
    {
     "data": {
      "text/plain": [
       "AnnData object with n_obs × n_vars = 116989 × 27997\n",
       "    obs: 'suspension_type', 'donor_id', 'is_primary_data', 'assay_ontology_term_id', 'cell_type_ontology_term_id', 'development_stage_ontology_term_id', 'disease_ontology_term_id', 'self_reported_ethnicity_ontology_term_id', 'tissue_ontology_term_id', 'organism_ontology_term_id', 'sex_ontology_term_id', 'BMI', 'age_or_mean_of_age_range', 'age_range', 'anatomical_region_ccf_score', 'ann_coarse_for_GWAS_and_modeling', 'ann_finest_level', 'ann_level_1', 'ann_level_2', 'ann_level_3', 'ann_level_4', 'ann_level_5', 'cause_of_death', 'dataset', 'entropy_dataset_leiden_3', 'entropy_original_ann_level_1_leiden_3', 'entropy_original_ann_level_2_clean_leiden_3', 'entropy_original_ann_level_3_clean_leiden_3', 'entropy_subject_ID_leiden_3', 'fresh_or_frozen', 'leiden_1', 'leiden_2', 'leiden_3', 'leiden_4', 'leiden_5', 'log10_total_counts', 'lung_condition', 'mixed_ancestry', 'n_genes_detected', 'original_ann_highest_res', 'original_ann_level_1', 'original_ann_level_2', 'original_ann_level_3', 'original_ann_level_4', 'original_ann_level_5', 'original_ann_nonharmonized', 'reannotation_type', 'reference_genome', 'sample', 'scanvi_label', 'sequencing_platform', 'size_factors', 'smoking_status', 'study', 'subject_type', 'tissue_dissociation_protocol', 'tissue_level_2', 'tissue_level_3', 'tissue_sampling_method', 'tissue_type', 'cell_type', 'assay', 'disease', 'organism', 'sex', 'tissue', 'self_reported_ethnicity', 'development_stage', 'observation_joinid', 'size_factor'\n",
       "    var: 'feature_is_filtered', 'feature_name', 'feature_reference', 'feature_biotype', 'feature_length', 'n_cells'\n",
       "    uns: 'batch_condition', 'citation', 'default_embedding', 'log1p', 'neighbors', 'pca', 'schema_reference', 'schema_version', 'title', 'umap'\n",
       "    obsm: 'X_pca', 'X_scanvi_emb', 'X_umap'\n",
       "    varm: 'PCs'\n",
       "    layers: 'X_counts'\n",
       "    obsp: 'connectivities', 'distances'"
      ]
     },
     "execution_count": 34,
     "metadata": {},
     "output_type": "execute_result"
    }
   ],
   "source": [
    "adata_original"
   ]
  },
  {
   "cell_type": "code",
   "execution_count": 39,
   "id": "1b276e2d-f845-45c5-b4ec-9bfa417fa75f",
   "metadata": {},
   "outputs": [
    {
     "name": "stderr",
     "output_type": "stream",
     "text": [
      "100%|██████████| 3/3 [16:19<00:00, 326.38s/it]\n"
     ]
    }
   ],
   "source": [
    "index_range = len(adata_original)\n",
    "num_indices = 1000\n",
    "\n",
    "for it in tqdm(range(3)):\n",
    "    X_generated_list = []\n",
    "    classes_str = []\n",
    "    for _ in range(116):\n",
    "        \n",
    "        # Generate random dummy indices without replacement\n",
    "        indices = random.sample(range(index_range), num_indices)\n",
    "        adata_indices = adata_original[indices]\n",
    "        \n",
    "        classes =  list(adata_indices.obs.cell_type)\n",
    "        classes_str += classes\n",
    "        classes = torch.tensor([id2cov[\"cell_type\"][c] for  c in classes])\n",
    "    \n",
    "        X_generated = generative_model.batched_sample(batch_size=100,\n",
    "                                                        repetitions=10,\n",
    "                                                        n_sample_steps=2, \n",
    "                                                        covariate=\"cell_type\", \n",
    "                                                        covariate_indices=classes, \n",
    "                                                        log_size_factor=None)\n",
    "    \n",
    "        X_generated_list.append(X_generated.to(\"cpu\"))\n",
    "\n",
    "    X_generated_list = torch.cat(X_generated_list, dim=0)\n",
    "    \n",
    "    adata_generated = sc.AnnData(X=sp.csr_matrix(deepcopy(X_generated_list).cpu().numpy()))\n",
    "    del X_generated_list\n",
    "    adata_generated.obs[\"size_factor\"] = adata_generated.X.sum(1)\n",
    "    adata_generated.obs[\"cell_type\"] = classes_str\n",
    "    adata_generated.obs[\"cell_type\"] = adata_generated.obs[\"cell_type\"].astype(\"category\")\n",
    "    adata_generated.layers[\"X_counts\"] = adata_generated.X.copy()\n",
    "    sc.pp.normalize_total(adata_generated, target_sum=10000)\n",
    "    sc.pp.log1p(adata_generated)\n",
    "    sc.tl.pca(adata_generated)\n",
    "    adata_generated.write_h5ad(f\"/home/icb/alessandro.palma/environment/celldreamer/project_folder/datasets/generated/hlca_core/generated_cells_{it}.h5ad\")"
   ]
  },
  {
   "cell_type": "code",
   "execution_count": null,
   "id": "f8630c7f-e967-4ab1-8a17-e8603b13d40e",
   "metadata": {},
   "outputs": [],
   "source": []
  },
  {
   "cell_type": "code",
   "execution_count": null,
   "id": "321b3ce5-0b57-4fa0-9d27-8e85f5a8ee56",
   "metadata": {},
   "outputs": [],
   "source": []
  }
 ],
 "metadata": {
  "kernelspec": {
   "display_name": "Python 3 (ipykernel)",
   "language": "python",
   "name": "python3"
  },
  "language_info": {
   "codemirror_mode": {
    "name": "ipython",
    "version": 3
   },
   "file_extension": ".py",
   "mimetype": "text/x-python",
   "name": "python",
   "nbconvert_exporter": "python",
   "pygments_lexer": "ipython3",
   "version": "3.10.13"
  }
 },
 "nbformat": 4,
 "nbformat_minor": 5
}
