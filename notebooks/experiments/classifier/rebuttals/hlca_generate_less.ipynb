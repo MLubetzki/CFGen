{
 "cells": [
  {
   "cell_type": "code",
   "execution_count": 1,
   "id": "0e922d7a-94d3-4835-b329-a92f7a0cedea",
   "metadata": {},
   "outputs": [
    {
     "name": "stderr",
     "output_type": "stream",
     "text": [
      "An NVIDIA GPU may be present on this machine, but a CUDA-enabled jaxlib is not installed. Falling back to cpu.\n"
     ]
    }
   ],
   "source": [
    "import numpy as np\n",
    "import pandas as pd\n",
    "import yaml\n",
    "import torch\n",
    "from copy import deepcopy\n",
    "import matplotlib.pyplot as plt\n",
    "from celldreamer.eval.eval_utils import normalize_and_compute_metrics\n",
    "import scipy.sparse as sp\n",
    "import scipy\n",
    "from tqdm import tqdm \n",
    "\n",
    "from torch import nn\n",
    "import pickle\n",
    "import scanpy as sc    \n",
    "\n",
    "from celldreamer.data.scrnaseq_loader import RNAseqLoader\n",
    "from celldreamer.models.featurizers.category_featurizer import CategoricalFeaturizer\n",
    "from celldreamer.models.fm.fm import FM\n",
    "from celldreamer.eval.optimal_transport import wasserstein\n",
    "import random\n",
    "from celldreamer.models.base.encoder_model import EncoderModel\n",
    "from celldreamer.models.base.utils import unsqueeze_right\n",
    "\n",
    "from celldreamer.paths import DATA_DIR\n",
    "\n",
    "device  = \"cuda\" if torch.cuda.is_available() else \"cpu\""
   ]
  },
  {
   "cell_type": "markdown",
   "id": "2337906d-bdfa-47b1-a00b-a56ead7770bf",
   "metadata": {},
   "source": [
    "## Step 1: Initialize data"
   ]
  },
  {
   "cell_type": "code",
   "execution_count": 5,
   "id": "9d122123-ecb5-407c-a31f-4be515dbc482",
   "metadata": {},
   "outputs": [
    {
     "name": "stderr",
     "output_type": "stream",
     "text": [
      "/home/icb/alessandro.palma/miniconda3/envs/celldreamer/lib/python3.10/site-packages/anndata/__init__.py:51: FutureWarning: `anndata.read` is deprecated, use `anndata.read_h5ad` instead. `ad.read` will be removed in mid 2024.\n",
      "  warnings.warn(\n"
     ]
    }
   ],
   "source": [
    "dataset_config = {'dataset_path': DATA_DIR / 'processed' / 'classifier_experiment_hlca' / 'hlca_train.h5ad',\n",
    "                    'layer_key': 'X_counts',\n",
    "                    'covariate_keys': ['cell_type'],\n",
    "                    'conditioning_covariate': 'cell_type',\n",
    "                    'subsample_frac': 1,\n",
    "                    'encoder_type': 'learnt_autoencoder',\n",
    "                    'n_dimensions': None,\n",
    "                    'one_hot_encode_features': True,\n",
    "                    'split_rates': [0.90, 0.05, 0.05],\n",
    "                    'cov_embedding_dimensions': None}\n",
    "\n",
    "data_path = dataset_config[\"dataset_path\"]\n",
    "\n",
    "dataset = RNAseqLoader(data_path=data_path,\n",
    "                                layer_key=dataset_config[\"layer_key\"],\n",
    "                                covariate_keys=dataset_config[\"covariate_keys\"],\n",
    "                                subsample_frac=dataset_config[\"subsample_frac\"], \n",
    "                                encoder_type=dataset_config[\"encoder_type\"])\n",
    "\n",
    "in_dim = dataset.X.shape[1]\n",
    "size_factor_statistics = {\"mean\": dataset.log_size_factor_mu, \n",
    "                                  \"sd\": dataset.log_size_factor_sd}\n",
    "n_cat = len(dataset.id2cov[\"cell_type\"])\n",
    "\n",
    "id2cov = dataset.id2cov"
   ]
  },
  {
   "cell_type": "markdown",
   "id": "01e52db6-ea20-4c88-ad5e-8744267372b5",
   "metadata": {},
   "source": [
    "## Step 2: Initialize encoder"
   ]
  },
  {
   "cell_type": "code",
   "execution_count": 6,
   "id": "05c31d1f-75d4-41ab-a58e-ff894e8a5cc0",
   "metadata": {},
   "outputs": [],
   "source": [
    "encoder_config = {\n",
    "    \"x0_from_x_kwargs\": {\n",
    "        \"dims\": [512, 256, 100],\n",
    "        \"batch_norm\": True,\n",
    "        \"dropout\": False,\n",
    "        \"dropout_p\": 0.0\n",
    "    },\n",
    "    \"learning_rate\": 0.001,\n",
    "    \"weight_decay\": 0.00001,\n",
    "    \"covariate_specific_theta\": False\n",
    "}\n",
    "\n",
    "state_dict_path = \"/home/icb/alessandro.palma/environment/cfgen/project_folder/experiments/CLASSIFICATION_off_train_autoencoder_hlca_core/3dde9d9c-2fbc-4417-bdd7-9e8ebe1c948b/checkpoints/last.ckpt\""
   ]
  },
  {
   "cell_type": "code",
   "execution_count": 7,
   "id": "5037fb6f-d5d9-4d51-bfb4-c42e73ff043a",
   "metadata": {},
   "outputs": [
    {
     "data": {
      "text/plain": [
       "<All keys matched successfully>"
      ]
     },
     "execution_count": 7,
     "metadata": {},
     "output_type": "execute_result"
    }
   ],
   "source": [
    "encoder_model = EncoderModel(in_dim=in_dim,\n",
    "                              n_cat=n_cat,\n",
    "                              conditioning_covariate=dataset_config[\"conditioning_covariate\"], \n",
    "                              encoder_type=dataset_config[\"encoder_type\"],\n",
    "                              **encoder_config)\n",
    "encoder_model.eval()\n",
    "\n",
    "encoder_model.load_state_dict(torch.load(state_dict_path)[\"state_dict\"])"
   ]
  },
  {
   "cell_type": "markdown",
   "id": "fedbd845-234d-437e-80f5-6b1c0a59695c",
   "metadata": {},
   "source": [
    "## Step 3: Initialize FM model"
   ]
  },
  {
   "cell_type": "code",
   "execution_count": 8,
   "id": "39190b2e-831f-4aca-a25c-4651e4b4cdc6",
   "metadata": {},
   "outputs": [],
   "source": [
    "generative_model_config = {'learning_rate': 0.0001,\n",
    "                            'weight_decay': 0.00001,\n",
    "                            'antithetic_time_sampling': True,\n",
    "                            'sigma': 0.0001}"
   ]
  },
  {
   "cell_type": "code",
   "execution_count": 9,
   "id": "98f49071-05c8-41a8-8a4b-83600981491e",
   "metadata": {
    "scrolled": true
   },
   "outputs": [],
   "source": [
    "ckpt = torch.load(\"/home/icb/alessandro.palma/environment/cfgen/project_folder/experiments/CLASSIFIER_off_fm_resnet_autoencoder_hlca_core_whole_genome/b32358e8-ce61-4095-aa92-a9a153cbc8fb/checkpoints/last.ckpt\")\n",
    "\n",
    "denoising_model = ckpt[\"hyper_parameters\"][\"denoising_model\"]\n",
    "denoising_model.multimodal = False"
   ]
  },
  {
   "cell_type": "code",
   "execution_count": 10,
   "id": "0ce68755-2176-4f39-8346-c085c0f5d680",
   "metadata": {
    "scrolled": true
   },
   "outputs": [
    {
     "data": {
      "text/plain": [
       "{'encoder_model': EncoderModel(\n",
       "   (x0_from_x): MLP(\n",
       "     (net): Sequential(\n",
       "       (0): Sequential(\n",
       "         (0): Linear(in_features=2000, out_features=512, bias=True)\n",
       "         (1): BatchNorm1d(512, eps=1e-05, momentum=0.1, affine=True, track_running_stats=True)\n",
       "         (2): ELU(alpha=1.0)\n",
       "       )\n",
       "       (1): Sequential(\n",
       "         (0): Linear(in_features=512, out_features=256, bias=True)\n",
       "         (1): BatchNorm1d(256, eps=1e-05, momentum=0.1, affine=True, track_running_stats=True)\n",
       "         (2): ELU(alpha=1.0)\n",
       "       )\n",
       "       (2): Linear(in_features=256, out_features=100, bias=True)\n",
       "     )\n",
       "   )\n",
       "   (x_from_x0): MLP(\n",
       "     (net): Sequential(\n",
       "       (0): Sequential(\n",
       "         (0): Linear(in_features=100, out_features=256, bias=True)\n",
       "         (1): BatchNorm1d(256, eps=1e-05, momentum=0.1, affine=True, track_running_stats=True)\n",
       "         (2): ELU(alpha=1.0)\n",
       "       )\n",
       "       (1): Sequential(\n",
       "         (0): Linear(in_features=256, out_features=512, bias=True)\n",
       "         (1): BatchNorm1d(512, eps=1e-05, momentum=0.1, affine=True, track_running_stats=True)\n",
       "         (2): ELU(alpha=1.0)\n",
       "       )\n",
       "       (2): Linear(in_features=512, out_features=2000, bias=True)\n",
       "     )\n",
       "   )\n",
       " ),\n",
       " 'denoising_model': MLPTimeStep(\n",
       "   (time_embedder): Sequential(\n",
       "     (0): Linear(in_features=100, out_features=100, bias=True)\n",
       "     (1): SiLU()\n",
       "     (2): Linear(in_features=100, out_features=100, bias=True)\n",
       "   )\n",
       "   (net_in): Linear(in_features=100, out_features=64, bias=True)\n",
       "   (blocks): ModuleList(\n",
       "     (0-2): 3 x ResnetBlock(\n",
       "       (net1): Sequential(\n",
       "         (0): SiLU()\n",
       "         (1): Linear(in_features=64, out_features=64, bias=True)\n",
       "       )\n",
       "       (cond_proj): Sequential(\n",
       "         (0): SiLU()\n",
       "         (1): Linear(in_features=100, out_features=64, bias=True)\n",
       "       )\n",
       "       (net2): Sequential(\n",
       "         (0): SiLU()\n",
       "         (1): Linear(in_features=64, out_features=64, bias=True)\n",
       "       )\n",
       "     )\n",
       "   )\n",
       "   (net_out): Sequential(\n",
       "     (0): SiLU()\n",
       "     (1): Linear(in_features=64, out_features=100, bias=True)\n",
       "   )\n",
       " ),\n",
       " 'feature_embeddings': {'cell_type': CategoricalFeaturizer(\n",
       "    (embeddings): Embedding(50, 100)\n",
       "  )},\n",
       " 'plotting_folder': PosixPath('/ictstr01/home/icb/alessandro.palma/environment/celldreamer/project_folder/experiments/CLASSIFIER_off_fm_resnet_autoencoder_hlca_core_whole_genome/b32358e8-ce61-4095-aa92-a9a153cbc8fb/plots'),\n",
       " 'in_dim': 100,\n",
       " 'size_factor_statistics': {'mean': {'cell_type': tensor([4.9897, 5.9944, 4.5705, 4.6770, 6.2743, 8.2538, 6.8849, 6.2851, 7.0727,\n",
       "           7.9482, 6.0362, 6.2578, 5.5995, 6.7342, 5.8777, 6.7031, 6.4778, 6.1955,\n",
       "           6.1024, 5.6721, 6.6267, 7.9034, 7.1818, 5.5677, 6.0604, 5.9780, 7.2827,\n",
       "           5.4876, 5.3473, 6.9381, 7.0511, 6.7967, 6.0639, 6.4861, 5.1420, 5.7032,\n",
       "           8.2995, 5.4792, 5.7930, 6.1913, 7.3802, 9.1144, 6.8706, 5.8183, 8.4660,\n",
       "           7.9591, 5.9248, 5.4666, 7.2844, 5.5782])},\n",
       "  'sd': {'cell_type': tensor([0.6226, 1.0193, 0.5709, 0.6772, 0.8506, 1.1054, 1.0342, 0.8536, 1.1244,\n",
       "           1.0850, 0.8231, 1.3031, 0.6690, 1.0513, 0.7417, 1.2509, 0.7134, 0.7682,\n",
       "           0.8571, 0.8658, 1.0225, 1.2732, 0.8223, 0.6935, 1.1472, 0.7990, 1.0415,\n",
       "           0.5340, 0.7884, 0.8878, 0.7502, 1.0204, 0.6967, 1.1483, 0.5219, 0.7618,\n",
       "           1.2949, 0.8498, 0.8536, 1.4735, 1.5668, 0.7851, 0.7571, 0.8049, 0.6297,\n",
       "           0.8993, 0.9135, 0.8341, 0.9029, 0.8753])}},\n",
       " 'conditioning_covariate': 'cell_type',\n",
       " 'model_type': 'conditional_latent',\n",
       " 'encoder_type': 'learnt_autoencoder',\n",
       " 'learning_rate': 0.0001,\n",
       " 'weight_decay': 1e-06,\n",
       " 'antithetic_time_sampling': True,\n",
       " 'scaling_method': 'log_normalization',\n",
       " 'sigma': 0.0001,\n",
       " 'covariate_specific_theta': False,\n",
       " 'plot_and_eval_every': 100,\n",
       " 'use_ot': False,\n",
       " 'multimodal': False,\n",
       " 'is_binarized': False,\n",
       " 'modality_list': None}"
      ]
     },
     "execution_count": 10,
     "metadata": {},
     "output_type": "execute_result"
    }
   ],
   "source": [
    "ckpt[\"hyper_parameters\"]"
   ]
  },
  {
   "cell_type": "code",
   "execution_count": 11,
   "id": "0fd5db02-e71b-4115-9348-5e52d10da9cb",
   "metadata": {
    "scrolled": true
   },
   "outputs": [
    {
     "name": "stdout",
     "output_type": "stream",
     "text": [
      "Parameter containing:\n",
      "tensor([[-0.6750,  1.5693, -0.0830,  ..., -3.1055,  1.3521,  1.8101],\n",
      "        [ 0.4216,  0.1655, -3.0730,  ..., -0.9761, -0.6504, -0.3432],\n",
      "        [ 1.1484,  1.6554,  0.4003,  ..., -0.2824,  1.6959,  0.0993],\n",
      "        ...,\n",
      "        [ 0.8393,  0.4958, -2.2871,  ...,  1.3499,  0.6753, -0.8039],\n",
      "        [-0.4984,  0.1710, -1.4032,  ...,  1.5160, -0.7917, -0.8067],\n",
      "        [ 0.7541,  1.8842,  2.0116,  ...,  0.8489,  0.4313,  0.9325]],\n",
      "       device='cuda:0', requires_grad=True)\n"
     ]
    }
   ],
   "source": [
    "print(ckpt[\"hyper_parameters\"][\"feature_embeddings\"][\"cell_type\"].embeddings.weight)\n",
    "feature_embeddings = ckpt[\"hyper_parameters\"][\"feature_embeddings\"]"
   ]
  },
  {
   "cell_type": "markdown",
   "id": "64548d77-2e55-4a4b-8d20-49ee96096e3a",
   "metadata": {},
   "source": [
    "Initializations"
   ]
  },
  {
   "cell_type": "code",
   "execution_count": 12,
   "id": "07002cca-2d73-4dad-baa9-6a64cac5e281",
   "metadata": {
    "scrolled": true
   },
   "outputs": [
    {
     "name": "stderr",
     "output_type": "stream",
     "text": [
      "/home/icb/alessandro.palma/miniconda3/envs/celldreamer/lib/python3.10/site-packages/pytorch_lightning/utilities/parsing.py:208: Attribute 'encoder_model' is an instance of `nn.Module` and is already saved during checkpointing. It is recommended to ignore them using `self.save_hyperparameters(ignore=['encoder_model'])`.\n",
      "/home/icb/alessandro.palma/miniconda3/envs/celldreamer/lib/python3.10/site-packages/pytorch_lightning/utilities/parsing.py:208: Attribute 'denoising_model' is an instance of `nn.Module` and is already saved during checkpointing. It is recommended to ignore them using `self.save_hyperparameters(ignore=['denoising_model'])`.\n"
     ]
    },
    {
     "data": {
      "text/plain": [
       "FM(\n",
       "  (encoder_model): EncoderModel(\n",
       "    (x0_from_x): MLP(\n",
       "      (net): Sequential(\n",
       "        (0): Sequential(\n",
       "          (0): Linear(in_features=2000, out_features=512, bias=True)\n",
       "          (1): BatchNorm1d(512, eps=1e-05, momentum=0.1, affine=True, track_running_stats=True)\n",
       "          (2): ELU(alpha=1.0)\n",
       "        )\n",
       "        (1): Sequential(\n",
       "          (0): Linear(in_features=512, out_features=256, bias=True)\n",
       "          (1): BatchNorm1d(256, eps=1e-05, momentum=0.1, affine=True, track_running_stats=True)\n",
       "          (2): ELU(alpha=1.0)\n",
       "        )\n",
       "        (2): Linear(in_features=256, out_features=100, bias=True)\n",
       "      )\n",
       "    )\n",
       "    (x_from_x0): MLP(\n",
       "      (net): Sequential(\n",
       "        (0): Sequential(\n",
       "          (0): Linear(in_features=100, out_features=256, bias=True)\n",
       "          (1): BatchNorm1d(256, eps=1e-05, momentum=0.1, affine=True, track_running_stats=True)\n",
       "          (2): ELU(alpha=1.0)\n",
       "        )\n",
       "        (1): Sequential(\n",
       "          (0): Linear(in_features=256, out_features=512, bias=True)\n",
       "          (1): BatchNorm1d(512, eps=1e-05, momentum=0.1, affine=True, track_running_stats=True)\n",
       "          (2): ELU(alpha=1.0)\n",
       "        )\n",
       "        (2): Linear(in_features=512, out_features=2000, bias=True)\n",
       "      )\n",
       "    )\n",
       "  )\n",
       "  (denoising_model): MLPTimeStep(\n",
       "    (time_embedder): Sequential(\n",
       "      (0): Linear(in_features=100, out_features=100, bias=True)\n",
       "      (1): SiLU()\n",
       "      (2): Linear(in_features=100, out_features=100, bias=True)\n",
       "    )\n",
       "    (net_in): Linear(in_features=100, out_features=64, bias=True)\n",
       "    (blocks): ModuleList(\n",
       "      (0-2): 3 x ResnetBlock(\n",
       "        (net1): Sequential(\n",
       "          (0): SiLU()\n",
       "          (1): Linear(in_features=64, out_features=64, bias=True)\n",
       "        )\n",
       "        (cond_proj): Sequential(\n",
       "          (0): SiLU()\n",
       "          (1): Linear(in_features=100, out_features=64, bias=True)\n",
       "        )\n",
       "        (net2): Sequential(\n",
       "          (0): SiLU()\n",
       "          (1): Linear(in_features=64, out_features=64, bias=True)\n",
       "        )\n",
       "      )\n",
       "    )\n",
       "    (net_out): Sequential(\n",
       "      (0): SiLU()\n",
       "      (1): Linear(in_features=64, out_features=100, bias=True)\n",
       "    )\n",
       "  )\n",
       "  (criterion): MSELoss()\n",
       ")"
      ]
     },
     "execution_count": 12,
     "metadata": {},
     "output_type": "execute_result"
    }
   ],
   "source": [
    "generative_model = FM(\n",
    "            encoder_model=encoder_model,\n",
    "            denoising_model=denoising_model,\n",
    "            feature_embeddings=feature_embeddings,\n",
    "            plotting_folder=None,\n",
    "            in_dim=512,\n",
    "            size_factor_statistics=size_factor_statistics,\n",
    "            encoder_type=dataset_config[\"encoder_type\"],\n",
    "            conditioning_covariate=dataset_config[\"conditioning_covariate\"],\n",
    "            model_type=denoising_model.model_type, \n",
    "            **generative_model_config  # model_kwargs should contain the rest of the arguments\n",
    "            )\n",
    "\n",
    "generative_model.load_state_dict(ckpt[\"state_dict\"])\n",
    "generative_model.to(\"cuda\")"
   ]
  },
  {
   "cell_type": "code",
   "execution_count": 13,
   "id": "bac8743c-f386-454f-ae7f-27bb3042cd03",
   "metadata": {},
   "outputs": [],
   "source": [
    "del ckpt\n",
    "del encoder_model"
   ]
  },
  {
   "cell_type": "markdown",
   "id": "c9b3d1e1-3458-4df1-81f2-3ca45820879e",
   "metadata": {},
   "source": [
    "## Read original data "
   ]
  },
  {
   "cell_type": "code",
   "execution_count": 14,
   "id": "86e7b000-32fd-4c0f-b466-71912b30b104",
   "metadata": {},
   "outputs": [],
   "source": [
    "adata_original = sc.read_h5ad(data_path)\n",
    "adata_original.obs[\"size_factor\"]=adata_original.X.A.sum(1)\n",
    "X = torch.tensor(adata_original.layers[\"X_counts\"].todense())"
   ]
  },
  {
   "cell_type": "code",
   "execution_count": 15,
   "id": "c027aa2b-2b9d-4d04-9612-6ca220d3ed6a",
   "metadata": {
    "scrolled": true
   },
   "outputs": [
    {
     "data": {
      "text/plain": [
       "AnnData object with n_obs × n_vars = 429918 × 2000\n",
       "    obs: 'suspension_type', 'donor_id', 'is_primary_data', 'assay_ontology_term_id', 'cell_type_ontology_term_id', 'development_stage_ontology_term_id', 'disease_ontology_term_id', 'self_reported_ethnicity_ontology_term_id', 'tissue_ontology_term_id', 'organism_ontology_term_id', 'sex_ontology_term_id', 'BMI', 'age_or_mean_of_age_range', 'age_range', 'anatomical_region_ccf_score', 'ann_coarse_for_GWAS_and_modeling', 'ann_finest_level', 'ann_level_1', 'ann_level_2', 'ann_level_3', 'ann_level_4', 'ann_level_5', 'cause_of_death', 'dataset', 'entropy_dataset_leiden_3', 'entropy_original_ann_level_1_leiden_3', 'entropy_original_ann_level_2_clean_leiden_3', 'entropy_original_ann_level_3_clean_leiden_3', 'entropy_subject_ID_leiden_3', 'fresh_or_frozen', 'leiden_1', 'leiden_2', 'leiden_3', 'leiden_4', 'leiden_5', 'log10_total_counts', 'lung_condition', 'mixed_ancestry', 'n_genes_detected', 'original_ann_highest_res', 'original_ann_level_1', 'original_ann_level_2', 'original_ann_level_3', 'original_ann_level_4', 'original_ann_level_5', 'original_ann_nonharmonized', 'reannotation_type', 'reference_genome', 'sample', 'scanvi_label', 'sequencing_platform', 'size_factors', 'smoking_status', 'study', 'subject_type', 'tissue_dissociation_protocol', 'tissue_level_2', 'tissue_level_3', 'tissue_sampling_method', 'tissue_type', 'cell_type', 'assay', 'disease', 'organism', 'sex', 'tissue', 'self_reported_ethnicity', 'development_stage', 'observation_joinid', 'size_factor'\n",
       "    var: 'feature_is_filtered', 'feature_name', 'feature_reference', 'feature_biotype', 'feature_length', 'n_cells', 'highly_variable', 'highly_variable_rank', 'means', 'variances', 'variances_norm'\n",
       "    uns: 'ann_finest_level_colors', 'assay_colors', 'batch_condition', 'cell_type_colors', 'citation', 'default_embedding', 'donor_id_colors', 'hvg', 'log1p', 'neighbors', 'pca', 'schema_reference', 'schema_version', 'smoking_status_colors', 'study_colors', 'tissue_colors', 'title', 'umap'\n",
       "    obsm: 'X_pca', 'X_scanvi_emb', 'X_umap'\n",
       "    varm: 'PCs'\n",
       "    layers: 'X_counts'\n",
       "    obsp: 'connectivities', 'distances'"
      ]
     },
     "execution_count": 15,
     "metadata": {},
     "output_type": "execute_result"
    }
   ],
   "source": [
    "adata_original"
   ]
  },
  {
   "cell_type": "code",
   "execution_count": 16,
   "id": "5548a1d6-cd07-4e93-b67e-6dce1bff29b9",
   "metadata": {},
   "outputs": [
    {
     "data": {
      "text/plain": [
       "array([3.534778 , 3.1689792, 3.0558972, ..., 3.1154528, 3.119567 ,\n",
       "       3.487646 ], dtype=float32)"
      ]
     },
     "execution_count": 16,
     "metadata": {},
     "output_type": "execute_result"
    }
   ],
   "source": [
    "adata_original.X.A.max(1)"
   ]
  },
  {
   "cell_type": "markdown",
   "id": "22dc0a02-1c37-4d91-93c6-9c509922b8ba",
   "metadata": {},
   "source": [
    "## Generate and save cells"
   ]
  },
  {
   "cell_type": "code",
   "execution_count": 17,
   "id": "2fef3edd-f1b7-48e1-9ac2-eb0450cab44b",
   "metadata": {
    "scrolled": true
   },
   "outputs": [],
   "source": [
    "# unique_classes = np.unique(adata_original.obs.cell_type, return_counts=True)\n",
    "# class_freq_dict = dict(zip(unique_classes[0], unique_classes[1]))\n",
    "# norm_const = np.sum(1/unique_classes[1])\n",
    "# class_prop_dict = dict(zip(unique_classes[0], (1/unique_classes[1])/norm_const))\n",
    "# class_prop = (1/unique_classes[1])/norm_const\n",
    "# class_idx = dict(zip(range(len(unique_classes[0])), unique_classes[0]))"
   ]
  },
  {
   "cell_type": "code",
   "execution_count": 18,
   "id": "f838fd2b-5fac-4322-919c-2302e55fb712",
   "metadata": {},
   "outputs": [],
   "source": [
    "unique_classes = np.unique(adata_original.obs.cell_type, return_counts=True)\n",
    "class_freq_dict = dict(zip(unique_classes[0], unique_classes[1]))\n",
    "norm_const = np.sum(1/unique_classes[1])\n",
    "class_prop_dict = dict(zip(unique_classes[0], (1/unique_classes[1])/norm_const))\n",
    "class_prop = (1/unique_classes[1])/norm_const\n",
    "class_idx = dict(zip(range(len(unique_classes[0])), unique_classes[0]))\n",
    "\n",
    "# Generate 100000 cells\n",
    "to_gen = (class_prop*300100).astype(int)"
   ]
  },
  {
   "cell_type": "code",
   "execution_count": 20,
   "id": "b2bc26fb-bfb8-4a75-bd2f-fc6f58ef2cbd",
   "metadata": {
    "scrolled": true
   },
   "outputs": [],
   "source": [
    "samples = []\n",
    "\n",
    "for i, freq in enumerate(to_gen):\n",
    "    samples += [i] * freq"
   ]
  },
  {
   "cell_type": "code",
   "execution_count": 21,
   "id": "11508810-3ce3-433a-ba94-b32baf6fe5f4",
   "metadata": {},
   "outputs": [],
   "source": [
    "samples = samples[:300000]"
   ]
  },
  {
   "cell_type": "markdown",
   "id": "13c13105-5feb-428a-acad-db115414c546",
   "metadata": {},
   "source": [
    "## General conditional"
   ]
  },
  {
   "cell_type": "code",
   "execution_count": 23,
   "id": "2c670c60-339e-4628-b773-5807cf517b27",
   "metadata": {},
   "outputs": [],
   "source": [
    "condition_names = [class_idx[sample] for sample in samples]\n",
    "condition_names_unique = np.unique(condition_names, return_counts=True)\n",
    "condition_names_unique = dict(zip(condition_names_unique[0], condition_names_unique[1]))\n",
    "condition_names = sorted(condition_names)\n",
    "size_factor = []\n",
    "for ct in sorted(condition_names_unique.keys()):\n",
    "    adata_original_c = adata_original[adata_original.obs[\"cell_type\"]==ct]\n",
    "    i = np.random.choice(len(adata_original_c), condition_names_unique[ct], replace=True)\n",
    "    size_factor += list(adata_original_c[i].layers[\"X_counts\"].A.sum(1))\n",
    "\n",
    "size_factor = torch.log(torch.tensor(size_factor)).unsqueeze(1).cuda()"
   ]
  },
  {
   "cell_type": "code",
   "execution_count": null,
   "id": "f55c39f7-2ebe-4290-9579-b2c68b9f96b8",
   "metadata": {},
   "outputs": [],
   "source": [
    "# GENERATE REAL\n",
    "# ids = np.random.choice(range(len(adata_original)), size=n_to_sample)\n",
    "# condition_names = list(adata_original[ids].obs.cell_type)\n",
    "# log_lib_sizes = torch.log(torch.tensor(adata_original[ids].layers[\"X_counts\"].sum(1))).cuda()"
   ]
  },
  {
   "cell_type": "code",
   "execution_count": 24,
   "id": "99d90202-19d8-43ce-b723-7ca0f70cd8cc",
   "metadata": {},
   "outputs": [],
   "source": [
    "condition_val = torch.tensor([dataset.id2cov[\"cell_type\"][condition_name] for condition_name in condition_names]).long()\n",
    "\n",
    "X_generated = generative_model.batched_sample(batch_size=100,\n",
    "                                            repetitions=3000,\n",
    "                                            n_sample_steps=2, \n",
    "                                            covariate=\"cell_type\", \n",
    "                                            covariate_indices=condition_val, \n",
    "                                            log_size_factor=size_factor)"
   ]
  },
  {
   "cell_type": "code",
   "execution_count": 25,
   "id": "4e07bb1b-0be2-480b-aad0-a4916f48d72a",
   "metadata": {},
   "outputs": [],
   "source": [
    "# sc.pp.normalize_total(adata_generated, target_sum=1e4)\n",
    "# sc.pp.log1p(adata_generated)\n",
    "# sc.tl.pca(adata_generated)\n",
    "# sc.pp.neighbors(adata_generated)\n",
    "# sc.tl.umap(adata_generated)"
   ]
  },
  {
   "cell_type": "code",
   "execution_count": 26,
   "id": "930d3eef-608f-40e2-83b0-c0e49c2156e2",
   "metadata": {},
   "outputs": [],
   "source": [
    "# adata_generated.obs[\"size_factor\"] = adata_generated.X.sum(1)\n",
    "# sc.pl.pca(adata_generated, color=\"size_factor\", annotate_var_explained=True)\n",
    "# sc.pl.umap(adata_generated, color=\"size_factor\")"
   ]
  },
  {
   "cell_type": "markdown",
   "id": "4068574f-061b-45d2-95a5-a95667d5d887",
   "metadata": {},
   "source": [
    "## Preprocess real data object"
   ]
  },
  {
   "cell_type": "code",
   "execution_count": 27,
   "id": "2cc7fd5d-a841-43ea-94e2-2eeafd989889",
   "metadata": {},
   "outputs": [],
   "source": [
    "# sc.pp.normalize_total(adata_original, target_sum=1e4)\n",
    "# sc.pp.log1p(adata_original)\n",
    "# sc.tl.pca(adata_original)\n",
    "# sc.pp.neighbors(adata_original)\n",
    "# sc.tl.umap(adata_original)"
   ]
  },
  {
   "cell_type": "code",
   "execution_count": 28,
   "id": "6400813f-b003-431c-9d9a-0e1d0bb1fc38",
   "metadata": {},
   "outputs": [],
   "source": [
    "# sc.pl.pca(adata_original, color=[\"size_factor\", \"cell_type\"], annotate_var_explained=True)\n",
    "# sc.pl.umap(adata_original, color=[\"size_factor\", \"cell_type\"])"
   ]
  },
  {
   "cell_type": "code",
   "execution_count": 29,
   "id": "457da250-1eea-4193-84f9-029b6d667875",
   "metadata": {},
   "outputs": [],
   "source": [
    "# adata_generated.write_h5ad(\"/home/icb/alessandro.palma/environment/celldreamer/project_folder/datasets/generated/hlca_core.h5ad\")"
   ]
  },
  {
   "cell_type": "markdown",
   "id": "8b3c4b92-316c-4d75-8263-23b5fe9d5eb7",
   "metadata": {},
   "source": [
    "## Merge and plot the generated and real data"
   ]
  },
  {
   "cell_type": "code",
   "execution_count": 30,
   "id": "fe852c98-8a0e-4184-96f1-77c65754f70b",
   "metadata": {},
   "outputs": [],
   "source": [
    "dataset_type = [\"Real\" for _ in range(X.shape[0])] + [\"Generated\" for _ in range(X_generated.shape[0])]\n",
    "dataset_type = pd.DataFrame(dataset_type)\n",
    "dataset_type.columns = [\"dataset_type\"]\n",
    "dataset_type[\"cell_type\"] = list(adata_original.obs.cell_type)+condition_names"
   ]
  },
  {
   "cell_type": "code",
   "execution_count": 31,
   "id": "9f55d375-647a-48a3-a944-542d4e38f88b",
   "metadata": {
    "scrolled": true
   },
   "outputs": [
    {
     "name": "stderr",
     "output_type": "stream",
     "text": [
      "/home/icb/alessandro.palma/miniconda3/envs/celldreamer/lib/python3.10/site-packages/anndata/_core/anndata.py:183: ImplicitModificationWarning: Transforming to str index.\n",
      "  warnings.warn(\"Transforming to str index.\", ImplicitModificationWarning)\n"
     ]
    }
   ],
   "source": [
    "adata_merged = sc.AnnData(X=torch.cat([X, X_generated], dim=0).numpy(), \n",
    "                             obs=dataset_type)"
   ]
  },
  {
   "cell_type": "code",
   "execution_count": 32,
   "id": "8bb4af26-f80b-4cd5-adca-1f38151a39e0",
   "metadata": {},
   "outputs": [],
   "source": [
    "adata_merged.layers[\"X_counts\"] = adata_merged.X.copy()\n",
    "adata_merged.var = adata_original.var.copy()"
   ]
  },
  {
   "cell_type": "code",
   "execution_count": 33,
   "id": "8e6db6cc-c0ff-40df-8124-62b100b91c6e",
   "metadata": {},
   "outputs": [],
   "source": [
    "sc.pp.log1p(adata_merged)\n",
    "sc.tl.pca(adata_merged)\n",
    "# sc.pp.neighbors(adata_merged)\n",
    "# sc.tl.umap(adata_merged)"
   ]
  },
  {
   "cell_type": "code",
   "execution_count": 34,
   "id": "5046a41a-b42c-4c04-98af-fe03c9ac63c2",
   "metadata": {
    "scrolled": true
   },
   "outputs": [],
   "source": [
    "# sc.pl.pca(adata_merged, color=\"dataset_type\",  annotate_var_explained=True)\n",
    "# sc.pl.umap(adata_merged, color=\"dataset_type\")\n",
    "# sc.pl.umap(adata_merged, color=\"cell_type\")"
   ]
  },
  {
   "cell_type": "code",
   "execution_count": 35,
   "id": "05e4f99e-54b7-4d2a-9cdd-71252737b019",
   "metadata": {},
   "outputs": [],
   "source": [
    "adata_merged.write_h5ad(\"/home/icb/alessandro.palma/environment/cfgen/project_folder/datasets/processed/classifier_experiment_hlca/augmented/rebuttals_augmentations/hlca_train_augmented_prop_10000.h5ad\")"
   ]
  },
  {
   "cell_type": "code",
   "execution_count": 36,
   "id": "035b6ac0-1044-4247-a86b-ff04fd8c475e",
   "metadata": {},
   "outputs": [
    {
     "data": {
      "text/plain": [
       "AnnData object with n_obs × n_vars = 729918 × 2000\n",
       "    obs: 'dataset_type', 'cell_type'\n",
       "    var: 'feature_is_filtered', 'feature_name', 'feature_reference', 'feature_biotype', 'feature_length', 'n_cells', 'highly_variable', 'highly_variable_rank', 'means', 'variances', 'variances_norm'\n",
       "    uns: 'log1p', 'pca'\n",
       "    obsm: 'X_pca'\n",
       "    varm: 'PCs'\n",
       "    layers: 'X_counts'"
      ]
     },
     "execution_count": 36,
     "metadata": {},
     "output_type": "execute_result"
    }
   ],
   "source": [
    "adata_merged"
   ]
  },
  {
   "cell_type": "code",
   "execution_count": 37,
   "id": "2b65e242-b3d1-4d73-bb15-49e88a729b8b",
   "metadata": {},
   "outputs": [
    {
     "data": {
      "text/plain": [
       "cell_type\n",
       "hematopoietic stem cell                            73584\n",
       "respiratory basal cell                             66788\n",
       "alveolar macrophage                                47892\n",
       "type II pneumocyte                                 41558\n",
       "lung neuroendocrine cell                           29656\n",
       "club cell                                          29068\n",
       "nasal mucosa goblet cell                           27550\n",
       "brush cell of trachebronchial tree                 25832\n",
       "ciliated columnar cell of tracheobronchial tree    25028\n",
       "elicited macrophage                                22538\n",
       "CD8-positive, alpha-beta T cell                    21610\n",
       "mesothelial cell                                   19426\n",
       "capillary endothelial cell                         19107\n",
       "CD4-positive, alpha-beta T cell                    16209\n",
       "natural killer cell                                14896\n",
       "conventional dendritic cell                        14849\n",
       "fibroblast                                         14364\n",
       "classical monocyte                                 14200\n",
       "plasmacytoid dendritic cell                        13960\n",
       "dendritic cell                                     13912\n",
       "stromal cell                                       12111\n",
       "T cell                                             10612\n",
       "ionocyte                                            9328\n",
       "vein endothelial cell                               8573\n",
       "mucus secreting cell                                8056\n",
       "smooth muscle cell                                  7706\n",
       "alveolar type 2 fibroblast cell                     6969\n",
       "non-classical monocyte                              6928\n",
       "CD1c-positive myeloid dendritic cell                6730\n",
       "myofibroblast cell                                  6427\n",
       "mast cell                                           6277\n",
       "type I pneumocyte                                   6026\n",
       "pulmonary artery endothelial cell                   5377\n",
       "alveolar type 1 fibroblast cell                     5274\n",
       "multi-ciliated epithelial cell                      5017\n",
       "respiratory hillock cell                            4937\n",
       "plasma cell                                         4903\n",
       "tracheobronchial goblet cell                        4866\n",
       "bronchus fibroblast of lung                         4857\n",
       "epithelial cell of alveolus of lung                 4778\n",
       "acinar cell                                         4655\n",
       "B cell                                              4574\n",
       "endothelial cell of lymphatic vessel                4304\n",
       "epithelial cell of lower respiratory tract          4217\n",
       "lung pericyte                                       4182\n",
       "bronchial goblet cell                               4171\n",
       "tracheobronchial serous cell                        4138\n",
       "serous secreting cell                               4022\n",
       "tracheobronchial smooth muscle cell                 3992\n",
       "lung macrophage                                     3884\n",
       "Name: count, dtype: int64"
      ]
     },
     "execution_count": 37,
     "metadata": {},
     "output_type": "execute_result"
    }
   ],
   "source": [
    "adata_merged.obs.cell_type.value_counts()"
   ]
  },
  {
   "cell_type": "code",
   "execution_count": null,
   "id": "1e62f62f-812a-47e1-a688-f8c9473aae17",
   "metadata": {},
   "outputs": [],
   "source": []
  }
 ],
 "metadata": {
  "kernelspec": {
   "display_name": "Python 3 (ipykernel)",
   "language": "python",
   "name": "python3"
  },
  "language_info": {
   "codemirror_mode": {
    "name": "ipython",
    "version": 3
   },
   "file_extension": ".py",
   "mimetype": "text/x-python",
   "name": "python",
   "nbconvert_exporter": "python",
   "pygments_lexer": "ipython3",
   "version": "3.10.13"
  }
 },
 "nbformat": 4,
 "nbformat_minor": 5
}
