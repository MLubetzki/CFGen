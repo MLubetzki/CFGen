{
 "cells": [
  {
   "cell_type": "code",
   "execution_count": 1,
   "id": "0e922d7a-94d3-4835-b329-a92f7a0cedea",
   "metadata": {},
   "outputs": [
    {
     "name": "stderr",
     "output_type": "stream",
     "text": [
      "An NVIDIA GPU may be present on this machine, but a CUDA-enabled jaxlib is not installed. Falling back to cpu.\n"
     ]
    }
   ],
   "source": [
    "import numpy as np\n",
    "import pandas as pd\n",
    "import yaml\n",
    "import torch\n",
    "from copy import deepcopy\n",
    "from tqdm import tqdm\n",
    "import matplotlib.pyplot as plt\n",
    "from celldreamer.eval.eval_utils import normalize_and_compute_metrics\n",
    "import scipy.sparse as sparse\n",
    "import scipy as sp\n",
    "\n",
    "from torch import nn\n",
    "import scanpy as sc    \n",
    "\n",
    "from celldreamer.data.scrnaseq_loader import RNAseqLoader\n",
    "from celldreamer.models.featurizers.category_featurizer import CategoricalFeaturizer\n",
    "from celldreamer.models.fm.fm import FM\n",
    "from celldreamer.eval.optimal_transport import wasserstein\n",
    "import random\n",
    "from celldreamer.models.base.encoder_model import EncoderModel\n",
    "from celldreamer.models.base.utils import unsqueeze_right\n",
    "\n",
    "from celldreamer.paths import DATA_DIR\n",
    "\n",
    "device  = \"cuda\" if torch.cuda.is_available() else \"cpu\""
   ]
  },
  {
   "cell_type": "markdown",
   "id": "2337906d-bdfa-47b1-a00b-a56ead7770bf",
   "metadata": {},
   "source": [
    "## Step 1: Initialize data"
   ]
  },
  {
   "cell_type": "code",
   "execution_count": 2,
   "id": "9d122123-ecb5-407c-a31f-4be515dbc482",
   "metadata": {},
   "outputs": [
    {
     "name": "stderr",
     "output_type": "stream",
     "text": [
      "/home/icb/alessandro.palma/miniconda3/envs/celldreamer/lib/python3.10/site-packages/anndata/__init__.py:51: FutureWarning: `anndata.read` is deprecated, use `anndata.read_h5ad` instead. `ad.read` will be removed in mid 2024.\n",
      "  warnings.warn(\n"
     ]
    }
   ],
   "source": [
    "dataset_config = {'dataset_path': DATA_DIR / 'processed' / 'classifier_experiment_pbmc' / 'pbmc_covid_train.h5ad',\n",
    "                    'layer_key': 'X_counts',\n",
    "                    'covariate_keys': ['cell_type'],\n",
    "                    'conditioning_covariate': 'cell_type',\n",
    "                    'subsample_frac': 1,\n",
    "                    'encoder_type': 'learnt_autoencoder',\n",
    "                    'target_max': 1,\n",
    "                    'target_min': -1,\n",
    "                    'one_hot_encode_features': False,\n",
    "                    'split_rates': [0.90, 0.05, 0.05],\n",
    "                    'cov_embedding_dimensions': 256}\n",
    "\n",
    "\n",
    "data_path = dataset_config[\"dataset_path\"]\n",
    "\n",
    "dataset = RNAseqLoader(data_path=data_path,\n",
    "                                layer_key=dataset_config[\"layer_key\"],\n",
    "                                covariate_keys=dataset_config[\"covariate_keys\"],\n",
    "                                subsample_frac=dataset_config[\"subsample_frac\"], \n",
    "                                encoder_type=dataset_config[\"encoder_type\"],)\n",
    "\n",
    "dataloader = torch.utils.data.DataLoader(dataset,\n",
    "                                            batch_size=256,\n",
    "                                            shuffle=True,\n",
    "                                            num_workers=4, \n",
    "                                            drop_last=True)\n",
    "\n",
    "in_dim = dataset.X.shape[1]\n",
    "size_factor_statistics = {\"mean\": dataset.log_size_factor_mu, \n",
    "                                  \"sd\": dataset.log_size_factor_sd}\n",
    "n_cat = len(dataset.id2cov[\"cell_type\"])"
   ]
  },
  {
   "cell_type": "markdown",
   "id": "01e52db6-ea20-4c88-ad5e-8744267372b5",
   "metadata": {},
   "source": [
    "## Step 2: Initialize encoder"
   ]
  },
  {
   "cell_type": "code",
   "execution_count": 3,
   "id": "05c31d1f-75d4-41ab-a58e-ff894e8a5cc0",
   "metadata": {},
   "outputs": [],
   "source": [
    "encoder_config = {\n",
    "    \"x0_from_x_kwargs\": {\n",
    "        \"dims\": [512, 256, 50],\n",
    "        \"batch_norm\": True,\n",
    "        \"dropout\": False,\n",
    "        \"dropout_p\": 0.0\n",
    "    },\n",
    "    \"learning_rate\": 0.001,\n",
    "    \"weight_decay\": 0.00001,\n",
    "    \"covariate_specific_theta\": False\n",
    "}\n",
    "\n",
    "state_dict_path = \"/home/icb/alessandro.palma/environment/cfgen/project_folder/experiments/train_autoencoder_pbmc_covid/21d30ca0-932d-4891-9796-938e9033b267/checkpoints/last.ckpt\""
   ]
  },
  {
   "cell_type": "code",
   "execution_count": 4,
   "id": "5037fb6f-d5d9-4d51-bfb4-c42e73ff043a",
   "metadata": {},
   "outputs": [
    {
     "data": {
      "text/plain": [
       "EncoderModel(\n",
       "  (x0_from_x): MLP(\n",
       "    (net): Sequential(\n",
       "      (0): Sequential(\n",
       "        (0): Linear(in_features=2000, out_features=512, bias=True)\n",
       "        (1): BatchNorm1d(512, eps=1e-05, momentum=0.1, affine=True, track_running_stats=True)\n",
       "        (2): ELU(alpha=1.0)\n",
       "      )\n",
       "      (1): Sequential(\n",
       "        (0): Linear(in_features=512, out_features=256, bias=True)\n",
       "        (1): BatchNorm1d(256, eps=1e-05, momentum=0.1, affine=True, track_running_stats=True)\n",
       "        (2): ELU(alpha=1.0)\n",
       "      )\n",
       "      (2): Linear(in_features=256, out_features=50, bias=True)\n",
       "    )\n",
       "  )\n",
       "  (x_from_x0): MLP(\n",
       "    (net): Sequential(\n",
       "      (0): Sequential(\n",
       "        (0): Linear(in_features=50, out_features=256, bias=True)\n",
       "        (1): BatchNorm1d(256, eps=1e-05, momentum=0.1, affine=True, track_running_stats=True)\n",
       "        (2): ELU(alpha=1.0)\n",
       "      )\n",
       "      (1): Sequential(\n",
       "        (0): Linear(in_features=256, out_features=512, bias=True)\n",
       "        (1): BatchNorm1d(512, eps=1e-05, momentum=0.1, affine=True, track_running_stats=True)\n",
       "        (2): ELU(alpha=1.0)\n",
       "      )\n",
       "      (2): Linear(in_features=512, out_features=2000, bias=True)\n",
       "    )\n",
       "  )\n",
       ")"
      ]
     },
     "execution_count": 4,
     "metadata": {},
     "output_type": "execute_result"
    }
   ],
   "source": [
    "encoder_model = EncoderModel(in_dim=in_dim,\n",
    "                              n_cat=n_cat,\n",
    "                              conditioning_covariate=dataset_config[\"conditioning_covariate\"], \n",
    "                              encoder_type=dataset_config[\"encoder_type\"],\n",
    "                              **encoder_config)\n",
    "\n",
    "encoder_model.load_state_dict(torch.load(state_dict_path)[\"state_dict\"])\n",
    "\n",
    "encoder_model.eval()"
   ]
  },
  {
   "cell_type": "markdown",
   "id": "fedbd845-234d-437e-80f5-6b1c0a59695c",
   "metadata": {},
   "source": [
    "## Initialize FM model"
   ]
  },
  {
   "cell_type": "code",
   "execution_count": 5,
   "id": "39190b2e-831f-4aca-a25c-4651e4b4cdc6",
   "metadata": {},
   "outputs": [],
   "source": [
    "generative_model_config = {'learning_rate': 0.0001,\n",
    "                            'weight_decay': 0.00001,\n",
    "                            'antithetic_time_sampling': True,\n",
    "                            'sigma': 0.0001\n",
    "                        }"
   ]
  },
  {
   "cell_type": "code",
   "execution_count": 6,
   "id": "98f49071-05c8-41a8-8a4b-83600981491e",
   "metadata": {
    "scrolled": true
   },
   "outputs": [],
   "source": [
    "ckpt = torch.load(\"/home/icb/alessandro.palma/environment/cfgen/project_folder/experiments/fm_resnet_autoencoder_pbmc_covid_whole_genome/a075cbb3-f9d8-4c34-bc3d-139ba928ba56/checkpoints/last.ckpt\")\n",
    "\n",
    "denoising_model = ckpt[\"hyper_parameters\"][\"denoising_model\"]\n",
    "denoising_model.multimodal = False"
   ]
  },
  {
   "cell_type": "code",
   "execution_count": 7,
   "id": "59a17bd5-74ba-4c14-b1f5-dce9f6158332",
   "metadata": {},
   "outputs": [],
   "source": [
    "denoising_model.embed_size_factor = True"
   ]
  },
  {
   "cell_type": "code",
   "execution_count": 8,
   "id": "0fd5db02-e71b-4115-9348-5e52d10da9cb",
   "metadata": {
    "scrolled": true
   },
   "outputs": [
    {
     "name": "stdout",
     "output_type": "stream",
     "text": [
      "Parameter containing:\n",
      "tensor([[-2.6352, -0.3629, -0.4067,  ...,  0.2508, -0.0170, -0.7093],\n",
      "        [ 2.3055, -0.2089,  0.3508,  ...,  0.0629,  1.0793,  1.6488],\n",
      "        [ 1.5015,  1.1049, -0.8106,  ...,  0.3859, -0.1244,  1.3552],\n",
      "        ...,\n",
      "        [ 1.3194,  1.0029, -3.6609,  ...,  0.3767, -0.1811,  1.9171],\n",
      "        [ 0.7573,  1.5707,  0.3263,  ...,  1.5110,  0.9219, -2.6991],\n",
      "        [-0.5664,  0.6156, -0.3074,  ...,  1.2680,  0.8071,  1.5441]],\n",
      "       device='cuda:0', requires_grad=True)\n"
     ]
    }
   ],
   "source": [
    "print(ckpt[\"hyper_parameters\"][\"feature_embeddings\"][\"cell_type\"].embeddings.weight)\n",
    "feature_embeddings = ckpt[\"hyper_parameters\"][\"feature_embeddings\"]"
   ]
  },
  {
   "cell_type": "markdown",
   "id": "64548d77-2e55-4a4b-8d20-49ee96096e3a",
   "metadata": {},
   "source": [
    "Initializations"
   ]
  },
  {
   "cell_type": "code",
   "execution_count": 9,
   "id": "07002cca-2d73-4dad-baa9-6a64cac5e281",
   "metadata": {
    "scrolled": true
   },
   "outputs": [
    {
     "name": "stderr",
     "output_type": "stream",
     "text": [
      "/home/icb/alessandro.palma/miniconda3/envs/celldreamer/lib/python3.10/site-packages/pytorch_lightning/utilities/parsing.py:208: Attribute 'encoder_model' is an instance of `nn.Module` and is already saved during checkpointing. It is recommended to ignore them using `self.save_hyperparameters(ignore=['encoder_model'])`.\n",
      "/home/icb/alessandro.palma/miniconda3/envs/celldreamer/lib/python3.10/site-packages/pytorch_lightning/utilities/parsing.py:208: Attribute 'denoising_model' is an instance of `nn.Module` and is already saved during checkpointing. It is recommended to ignore them using `self.save_hyperparameters(ignore=['denoising_model'])`.\n"
     ]
    },
    {
     "data": {
      "text/plain": [
       "FM(\n",
       "  (encoder_model): EncoderModel(\n",
       "    (x0_from_x): MLP(\n",
       "      (net): Sequential(\n",
       "        (0): Sequential(\n",
       "          (0): Linear(in_features=2000, out_features=512, bias=True)\n",
       "          (1): BatchNorm1d(512, eps=1e-05, momentum=0.1, affine=True, track_running_stats=True)\n",
       "          (2): ELU(alpha=1.0)\n",
       "        )\n",
       "        (1): Sequential(\n",
       "          (0): Linear(in_features=512, out_features=256, bias=True)\n",
       "          (1): BatchNorm1d(256, eps=1e-05, momentum=0.1, affine=True, track_running_stats=True)\n",
       "          (2): ELU(alpha=1.0)\n",
       "        )\n",
       "        (2): Linear(in_features=256, out_features=50, bias=True)\n",
       "      )\n",
       "    )\n",
       "    (x_from_x0): MLP(\n",
       "      (net): Sequential(\n",
       "        (0): Sequential(\n",
       "          (0): Linear(in_features=50, out_features=256, bias=True)\n",
       "          (1): BatchNorm1d(256, eps=1e-05, momentum=0.1, affine=True, track_running_stats=True)\n",
       "          (2): ELU(alpha=1.0)\n",
       "        )\n",
       "        (1): Sequential(\n",
       "          (0): Linear(in_features=256, out_features=512, bias=True)\n",
       "          (1): BatchNorm1d(512, eps=1e-05, momentum=0.1, affine=True, track_running_stats=True)\n",
       "          (2): ELU(alpha=1.0)\n",
       "        )\n",
       "        (2): Linear(in_features=512, out_features=2000, bias=True)\n",
       "      )\n",
       "    )\n",
       "  )\n",
       "  (denoising_model): MLPTimeStep(\n",
       "    (time_embedder): Sequential(\n",
       "      (0): Linear(in_features=100, out_features=100, bias=True)\n",
       "      (1): SiLU()\n",
       "      (2): Linear(in_features=100, out_features=100, bias=True)\n",
       "    )\n",
       "    (size_factor_embedder): Sequential(\n",
       "      (0): Linear(in_features=100, out_features=100, bias=True)\n",
       "      (1): SiLU()\n",
       "      (2): Linear(in_features=100, out_features=100, bias=True)\n",
       "    )\n",
       "    (net_in): Linear(in_features=50, out_features=64, bias=True)\n",
       "    (blocks): ModuleList(\n",
       "      (0-2): 3 x ResnetBlock(\n",
       "        (net1): Sequential(\n",
       "          (0): SiLU()\n",
       "          (1): Linear(in_features=64, out_features=64, bias=True)\n",
       "        )\n",
       "        (cond_proj): Sequential(\n",
       "          (0): SiLU()\n",
       "          (1): Linear(in_features=100, out_features=64, bias=True)\n",
       "        )\n",
       "        (net2): Sequential(\n",
       "          (0): SiLU()\n",
       "          (1): Linear(in_features=64, out_features=64, bias=True)\n",
       "        )\n",
       "      )\n",
       "    )\n",
       "    (net_out): Sequential(\n",
       "      (0): SiLU()\n",
       "      (1): Linear(in_features=64, out_features=50, bias=True)\n",
       "    )\n",
       "  )\n",
       "  (criterion): MSELoss()\n",
       ")"
      ]
     },
     "execution_count": 9,
     "metadata": {},
     "output_type": "execute_result"
    }
   ],
   "source": [
    "generative_model = FM(\n",
    "            encoder_model=encoder_model,\n",
    "            denoising_model=denoising_model,\n",
    "            feature_embeddings=feature_embeddings,\n",
    "            plotting_folder=None,\n",
    "            in_dim=512,\n",
    "            size_factor_statistics=size_factor_statistics,\n",
    "            encoder_type=dataset_config[\"encoder_type\"],\n",
    "            conditioning_covariate=dataset_config[\"conditioning_covariate\"],\n",
    "            model_type=denoising_model.model_type, \n",
    "            **generative_model_config  # model_kwargs should contain the rest of the arguments\n",
    "            )\n",
    "\n",
    "generative_model.load_state_dict(ckpt[\"state_dict\"])\n",
    "generative_model.to(\"cuda\")"
   ]
  },
  {
   "cell_type": "markdown",
   "id": "c9b3d1e1-3458-4df1-81f2-3ca45820879e",
   "metadata": {},
   "source": [
    "## Read original data "
   ]
  },
  {
   "cell_type": "code",
   "execution_count": 10,
   "id": "86e7b000-32fd-4c0f-b466-71912b30b104",
   "metadata": {},
   "outputs": [],
   "source": [
    "adata_original = sc.read_h5ad(data_path)\n",
    "adata_original.obs[\"size_factor\"]=adata_original.X.A.sum(1)\n",
    "X = torch.tensor(adata_original.layers[\"X_counts\"].todense())"
   ]
  },
  {
   "cell_type": "code",
   "execution_count": 11,
   "id": "81a17b44-1c26-46d8-a80f-33cee66b7d5a",
   "metadata": {},
   "outputs": [
    {
     "data": {
      "text/plain": [
       "CV001_KM10202384-CV001_KM10202394_AAACCTGCAGATGGGT-1                           CD4-positive helper T cell\n",
       "CV001_KM10202384-CV001_KM10202394_AAACCTGGTTACGCGC-1       central memory CD8-positive, alpha-beta T cell\n",
       "CV001_KM10202384-CV001_KM10202394_AAACCTGGTTCGAATC-1                                         naive B cell\n",
       "CV001_KM10202384-CV001_KM10202394_AAACCTGTCAGCACAT-1    naive thymus-derived CD8-positive, alpha-beta ...\n",
       "CV001_KM10202384-CV001_KM10202394_AAACCTGTCCCATTAT-1    naive thymus-derived CD8-positive, alpha-beta ...\n",
       "                                                                              ...                        \n",
       "S28_TTTGTCAGTTCTGTTT-1                                                                natural killer cell\n",
       "S28_TTTGTCATCAACCAAC-1                                                                 classical monocyte\n",
       "S28_TTTGTCATCATTATCC-1                                                                 classical monocyte\n",
       "S28_TTTGTCATCCTATGTT-1                                                        plasmacytoid dendritic cell\n",
       "S28_TTTGTCATCTCAAGTG-1                                          CD8-positive, alpha-beta cytotoxic T cell\n",
       "Name: cell_type, Length: 344820, dtype: category\n",
       "Categories (29, object): ['granulocyte', 'erythrocyte', 'platelet', 'B cell', ..., 'conventional dendritic cell', 'effector memory CD8-positive, alpha-beta T ce..., 'innate lymphoid cell', 'hematopoietic precursor cell']"
      ]
     },
     "execution_count": 11,
     "metadata": {},
     "output_type": "execute_result"
    }
   ],
   "source": [
    "adata_original.obs.cell_type"
   ]
  },
  {
   "cell_type": "markdown",
   "id": "4938cae8-4ed5-40df-bd26-e78a13989bd9",
   "metadata": {},
   "source": [
    "## Generate and save cells"
   ]
  },
  {
   "cell_type": "code",
   "execution_count": 12,
   "id": "8ed58abf-8761-4787-a0c2-0b76a2260e50",
   "metadata": {},
   "outputs": [],
   "source": [
    "unique_classes = np.unique(adata_original.obs.cell_type, return_counts=True)\n",
    "class_freq_dict = dict(zip(unique_classes[0], unique_classes[1]))\n",
    "norm_const = np.sum(1/unique_classes[1])\n",
    "class_prop_dict = dict(zip(unique_classes[0], (1/unique_classes[1])/norm_const))\n",
    "class_prop = (1/unique_classes[1])/norm_const\n",
    "class_idx = dict(zip(range(len(unique_classes[0])), unique_classes[0]))\n",
    "\n",
    "# Generate 100000 cells\n",
    "to_gen = (class_prop*400100).astype(int)"
   ]
  },
  {
   "cell_type": "code",
   "execution_count": 13,
   "id": "79ab3b40-7f54-4003-81fe-0a2a031975f8",
   "metadata": {},
   "outputs": [],
   "source": [
    "samples = []\n",
    "\n",
    "for i, freq in enumerate(to_gen):\n",
    "    samples += [i] * freq"
   ]
  },
  {
   "cell_type": "code",
   "execution_count": 14,
   "id": "ea8240a5-38d7-48e8-8bfe-a3335069bad7",
   "metadata": {},
   "outputs": [
    {
     "data": {
      "text/plain": [
       "400086"
      ]
     },
     "execution_count": 14,
     "metadata": {},
     "output_type": "execute_result"
    }
   ],
   "source": [
    "len(samples)"
   ]
  },
  {
   "cell_type": "code",
   "execution_count": 15,
   "id": "a8f0ffd6-d12b-49a4-9bae-39914077ab38",
   "metadata": {},
   "outputs": [],
   "source": [
    "samples = samples[:400000]"
   ]
  },
  {
   "cell_type": "markdown",
   "id": "13c13105-5feb-428a-acad-db115414c546",
   "metadata": {},
   "source": [
    "## General conditional"
   ]
  },
  {
   "cell_type": "code",
   "execution_count": 16,
   "id": "f3478c0b-50df-405c-af38-5599900d5a90",
   "metadata": {},
   "outputs": [],
   "source": [
    "# n_to_sample = 1000"
   ]
  },
  {
   "cell_type": "code",
   "execution_count": 17,
   "id": "85dc0e1f-6286-4cc3-bcde-f66566b586a5",
   "metadata": {
    "scrolled": true
   },
   "outputs": [],
   "source": [
    "# np.random.seed(42)\n",
    "# samples = np.random.choice(range(len(class_idx)), size=n_to_sample, replace=True, p=sp.special.softmax(class_prop))"
   ]
  },
  {
   "cell_type": "code",
   "execution_count": 18,
   "id": "98ac6c7a-8432-4ba3-b337-9fca96628a8f",
   "metadata": {},
   "outputs": [],
   "source": [
    "condition_names = [class_idx[sample] for sample in samples]\n",
    "condition_names_unique = np.unique(condition_names, return_counts=True)\n",
    "condition_names_unique = dict(zip(condition_names_unique[0], condition_names_unique[1]))\n",
    "condition_names = sorted(condition_names)\n",
    "size_factor = []\n",
    "for ct in sorted(condition_names_unique.keys()):\n",
    "    adata_original_c = adata_original[adata_original.obs[\"cell_type\"]==ct]\n",
    "    i = np.random.choice(len(adata_original_c), condition_names_unique[ct], replace=True)\n",
    "    size_factor += list(adata_original_c[i].layers[\"X_counts\"].A.sum(1))\n",
    "\n",
    "size_factor = torch.log(torch.tensor(size_factor)).unsqueeze(1).cuda()"
   ]
  },
  {
   "cell_type": "code",
   "execution_count": 19,
   "id": "0d159bcd-39aa-4c58-b9c7-fff4d4e32531",
   "metadata": {},
   "outputs": [],
   "source": [
    "condition_val = torch.tensor([dataset.id2cov[\"cell_type\"][condition_name] for condition_name in condition_names]).long()\n",
    "\n",
    "X_generated = generative_model.batched_sample(batch_size=100,\n",
    "                                            repetitions=4000,\n",
    "                                            n_sample_steps=2, \n",
    "                                            covariate=\"cell_type\", \n",
    "                                            covariate_indices=condition_val, \n",
    "                                            log_size_factor=size_factor)\n",
    "\n",
    "X_generated_list= X_generated.to(\"cpu\")"
   ]
  },
  {
   "cell_type": "markdown",
   "id": "7f662720-7bbe-4861-92b4-7850b10fe6be",
   "metadata": {},
   "source": [
    "## Merge and plot the generated and real data"
   ]
  },
  {
   "cell_type": "code",
   "execution_count": 20,
   "id": "62159854-c242-4e1d-b42f-b188694fc788",
   "metadata": {},
   "outputs": [],
   "source": [
    "dataset_type = [\"Real\" for _ in range(X.shape[0])] + [\"Generated\" for _ in range(X_generated.shape[0])]\n",
    "dataset_type = pd.DataFrame(dataset_type)\n",
    "dataset_type.columns = [\"dataset_type\"]\n",
    "dataset_type[\"cell_type\"] = list(adata_original.obs.cell_type)+condition_names"
   ]
  },
  {
   "cell_type": "code",
   "execution_count": 21,
   "id": "711646fc-3e15-4fc1-aac5-2b53804ceb07",
   "metadata": {},
   "outputs": [
    {
     "name": "stderr",
     "output_type": "stream",
     "text": [
      "/home/icb/alessandro.palma/miniconda3/envs/celldreamer/lib/python3.10/site-packages/anndata/_core/anndata.py:183: ImplicitModificationWarning: Transforming to str index.\n",
      "  warnings.warn(\"Transforming to str index.\", ImplicitModificationWarning)\n"
     ]
    }
   ],
   "source": [
    "adata_merged = sc.AnnData(X=torch.cat([X, X_generated], dim=0).numpy(), \n",
    "                             obs=dataset_type)"
   ]
  },
  {
   "cell_type": "code",
   "execution_count": 22,
   "id": "968ff56a-5e68-418b-bb1c-f1460789d705",
   "metadata": {},
   "outputs": [],
   "source": [
    "adata_merged.layers[\"X_counts\"] = adata_merged.X.copy()\n",
    "adata_merged.var = adata_original.var.copy()"
   ]
  },
  {
   "cell_type": "code",
   "execution_count": 23,
   "id": "3c63cda6-e85b-4e44-864f-44d1530d3b53",
   "metadata": {
    "scrolled": true
   },
   "outputs": [],
   "source": [
    "sc.pp.log1p(adata_merged)\n",
    "sc.tl.pca(adata_merged)\n",
    "# sc.pp.neighbors(adata_merged)\n",
    "# sc.tl.umap(adata_merged)"
   ]
  },
  {
   "cell_type": "code",
   "execution_count": 24,
   "id": "79ede7df-2def-43b0-8eac-cd8aad8fc6a8",
   "metadata": {},
   "outputs": [],
   "source": [
    "# sc.pl.pca(adata_merged, color=\"dataset_type\",  annotate_var_explained=True)\n",
    "# sc.pl.umap(adata_merged, color=\"dataset_type\")\n",
    "# sc.pl.umap(adata_merged, color=\"cell_type\")"
   ]
  },
  {
   "cell_type": "code",
   "execution_count": 25,
   "id": "cfc62b6d-32ce-4694-996f-5046012ce732",
   "metadata": {},
   "outputs": [],
   "source": [
    "# sc.write(\"/home/icb/alessandro.palma/environment/celldreamer/project_folder/datasets/processed/classifier_experiment/augmented/pbmc_covid_augmented_prop.h5ad\", adata_merged)"
   ]
  },
  {
   "cell_type": "code",
   "execution_count": 26,
   "id": "52a74d6f-a426-4cff-8ce5-64675fe76578",
   "metadata": {},
   "outputs": [],
   "source": [
    "adata_merged.write_h5ad(\"/home/icb/alessandro.palma/environment/cfgen/project_folder/datasets/processed/classifier_experiment_pbmc/augmented/rebuttals_augmentations/pbmc_covid_train_augmented_prop_10000.h5ad\")"
   ]
  },
  {
   "cell_type": "code",
   "execution_count": null,
   "id": "c9930aa8-5654-46ca-bebf-145255fbec6d",
   "metadata": {},
   "outputs": [],
   "source": []
  },
  {
   "cell_type": "code",
   "execution_count": 28,
   "id": "85c8adad-b52e-4b6d-b5fd-0b23df5b5ba6",
   "metadata": {},
   "outputs": [
    {
     "data": {
      "text/plain": [
       "744820"
      ]
     },
     "execution_count": 28,
     "metadata": {},
     "output_type": "execute_result"
    }
   ],
   "source": [
    "adata_merged.obs.cell_type.value_counts().sum()"
   ]
  },
  {
   "cell_type": "code",
   "execution_count": null,
   "id": "5c34492a-1539-445b-94fa-b49ad74afc80",
   "metadata": {},
   "outputs": [],
   "source": []
  },
  {
   "cell_type": "code",
   "execution_count": null,
   "id": "9e029286-409d-429f-a84c-ba70d333326b",
   "metadata": {},
   "outputs": [],
   "source": []
  },
  {
   "cell_type": "code",
   "execution_count": null,
   "id": "56e0f7e8-3b2a-4eee-9d30-9db7b1c433ae",
   "metadata": {},
   "outputs": [],
   "source": []
  },
  {
   "cell_type": "code",
   "execution_count": null,
   "id": "89080718-7099-46ed-b0f0-25f2b781fd7f",
   "metadata": {},
   "outputs": [],
   "source": []
  }
 ],
 "metadata": {
  "kernelspec": {
   "display_name": "Python 3 (ipykernel)",
   "language": "python",
   "name": "python3"
  },
  "language_info": {
   "codemirror_mode": {
    "name": "ipython",
    "version": 3
   },
   "file_extension": ".py",
   "mimetype": "text/x-python",
   "name": "python",
   "nbconvert_exporter": "python",
   "pygments_lexer": "ipython3",
   "version": "3.10.13"
  }
 },
 "nbformat": 4,
 "nbformat_minor": 5
}
