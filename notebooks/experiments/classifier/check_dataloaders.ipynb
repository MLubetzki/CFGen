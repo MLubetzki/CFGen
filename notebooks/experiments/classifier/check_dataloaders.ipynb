{
 "cells": [
  {
   "cell_type": "code",
   "execution_count": 1,
   "id": "2a50360b-50b5-43e3-8ed0-19acf633f35d",
   "metadata": {},
   "outputs": [],
   "source": [
    "import scanpy as sc\n",
    "from pathlib import Path\n",
    "import numpy as np"
   ]
  },
  {
   "cell_type": "markdown",
   "id": "390ccd47-c187-42b8-8a2a-fc33db469d47",
   "metadata": {},
   "source": [
    "## HLCA "
   ]
  },
  {
   "cell_type": "code",
   "execution_count": 16,
   "id": "91c040d8-9603-4bfa-9290-bd68fef98b4a",
   "metadata": {},
   "outputs": [],
   "source": [
    "path = Path(\"/home/icb/alessandro.palma/environment/cfgen/project_folder/datasets/processed/classifier_experiment_hlca/augmented\")"
   ]
  },
  {
   "cell_type": "code",
   "execution_count": 17,
   "id": "aebb1efe-9559-409f-8f5f-e2550a86d35c",
   "metadata": {},
   "outputs": [],
   "source": [
    "adata_cellflow = sc.read_h5ad(path / \"hlca_train_augmented_prop.h5ad\")"
   ]
  },
  {
   "cell_type": "code",
   "execution_count": 18,
   "id": "1f15e8ba-53d4-4064-a970-be1083a660d5",
   "metadata": {},
   "outputs": [],
   "source": [
    "adata_scdiffusion = sc.read_h5ad(path / \"hlca_train_augmented_prop_scdiffusion.h5ad\")"
   ]
  },
  {
   "cell_type": "code",
   "execution_count": 19,
   "id": "408c577c-75b5-4ca3-99de-045bb1b3cf5e",
   "metadata": {},
   "outputs": [],
   "source": [
    "adata_scvi = sc.read_h5ad(path / \"hlca_train_augmented_prop_scvi.h5ad\")"
   ]
  },
  {
   "cell_type": "code",
   "execution_count": 20,
   "id": "f00860cc-1e23-4d8e-a30d-542fd56b557a",
   "metadata": {},
   "outputs": [],
   "source": [
    "real_hlca = sc.read_h5ad(\"/home/icb/alessandro.palma/environment/cfgen/project_folder/datasets/processed/classifier_experiment_hlca/hlca_test.h5ad\")"
   ]
  },
  {
   "cell_type": "code",
   "execution_count": 13,
   "id": "57d5c0f2-1bbf-4f91-bfd5-648500f5c66d",
   "metadata": {},
   "outputs": [],
   "source": [
    "adata_scdiffusion.var = real_hlca.var.copy()\n",
    "adata_scvi.var = real_hlca.var.copy()\n",
    "\n",
    "adata_scdiffusion.write_h5ad(path / \"hlca_train_augmented_prop_scdiffusion.h5ad\")\n",
    "adata_scvi.write_h5ad(path / \"hlca_train_augmented_prop_scvi.h5ad\")"
   ]
  },
  {
   "cell_type": "markdown",
   "id": "27034dcf-25f7-42f9-b96a-1793ad7daef5",
   "metadata": {},
   "source": [
    "In all cases X should be log-transformed "
   ]
  },
  {
   "cell_type": "code",
   "execution_count": 7,
   "id": "252e9d48-3837-48cb-be21-a32eb4b564dd",
   "metadata": {},
   "outputs": [
    {
     "data": {
      "text/plain": [
       "4.5396533"
      ]
     },
     "execution_count": 7,
     "metadata": {},
     "output_type": "execute_result"
    }
   ],
   "source": [
    "adata_cellflow.X.max(1).mean()"
   ]
  },
  {
   "cell_type": "code",
   "execution_count": 8,
   "id": "051b47f2-5da4-4f0c-8082-261e7d01a2ce",
   "metadata": {},
   "outputs": [
    {
     "data": {
      "text/plain": [
       "4.4862022"
      ]
     },
     "execution_count": 8,
     "metadata": {},
     "output_type": "execute_result"
    }
   ],
   "source": [
    "adata_scdiffusion.X.max(1).mean()"
   ]
  },
  {
   "cell_type": "code",
   "execution_count": 9,
   "id": "9341e4ac-42a5-47b4-897e-55b0fac15e2e",
   "metadata": {},
   "outputs": [
    {
     "data": {
      "text/plain": [
       "3.7857893"
      ]
     },
     "execution_count": 9,
     "metadata": {},
     "output_type": "execute_result"
    }
   ],
   "source": [
    "adata_scvi.X.max(1).mean()"
   ]
  },
  {
   "cell_type": "code",
   "execution_count": 10,
   "id": "5f01d274-006f-4063-8642-b52814e5b2f6",
   "metadata": {},
   "outputs": [
    {
     "data": {
      "text/plain": [
       "3.2185295"
      ]
     },
     "execution_count": 10,
     "metadata": {},
     "output_type": "execute_result"
    }
   ],
   "source": [
    "real_hlca.X.A.max(1).mean()"
   ]
  },
  {
   "cell_type": "markdown",
   "id": "e59bb2db-d375-4bb4-8abf-b141bbdc8e10",
   "metadata": {},
   "source": [
    "Check obs"
   ]
  },
  {
   "cell_type": "code",
   "execution_count": 11,
   "id": "873cb78e-6bb6-4600-853d-853e798fa90f",
   "metadata": {},
   "outputs": [
    {
     "data": {
      "text/plain": [
       "array(['B cell', 'CD1c-positive myeloid dendritic cell',\n",
       "       'CD4-positive, alpha-beta T cell',\n",
       "       'CD8-positive, alpha-beta T cell', 'T cell', 'acinar cell',\n",
       "       'alveolar macrophage', 'alveolar type 1 fibroblast cell',\n",
       "       'alveolar type 2 fibroblast cell', 'bronchial goblet cell',\n",
       "       'bronchus fibroblast of lung',\n",
       "       'brush cell of trachebronchial tree', 'capillary endothelial cell',\n",
       "       'ciliated columnar cell of tracheobronchial tree',\n",
       "       'classical monocyte', 'club cell', 'conventional dendritic cell',\n",
       "       'dendritic cell', 'elicited macrophage',\n",
       "       'endothelial cell of lymphatic vessel',\n",
       "       'epithelial cell of alveolus of lung',\n",
       "       'epithelial cell of lower respiratory tract', 'fibroblast',\n",
       "       'hematopoietic stem cell', 'ionocyte', 'lung macrophage',\n",
       "       'lung neuroendocrine cell', 'lung pericyte', 'mast cell',\n",
       "       'mesothelial cell', 'mucus secreting cell',\n",
       "       'multi-ciliated epithelial cell', 'myofibroblast cell',\n",
       "       'nasal mucosa goblet cell', 'natural killer cell',\n",
       "       'non-classical monocyte', 'plasma cell',\n",
       "       'plasmacytoid dendritic cell', 'pulmonary artery endothelial cell',\n",
       "       'respiratory basal cell', 'respiratory hillock cell',\n",
       "       'serous secreting cell', 'smooth muscle cell', 'stromal cell',\n",
       "       'tracheobronchial goblet cell', 'tracheobronchial serous cell',\n",
       "       'tracheobronchial smooth muscle cell', 'type I pneumocyte',\n",
       "       'type II pneumocyte', 'vein endothelial cell'], dtype=object)"
      ]
     },
     "execution_count": 11,
     "metadata": {},
     "output_type": "execute_result"
    }
   ],
   "source": [
    "np.unique(adata_scdiffusion.obs.cell_type)"
   ]
  },
  {
   "cell_type": "code",
   "execution_count": 12,
   "id": "88f53ecf-2937-47ae-bee4-46bfdd2593d6",
   "metadata": {},
   "outputs": [
    {
     "data": {
      "text/plain": [
       "array(['B cell', 'CD1c-positive myeloid dendritic cell',\n",
       "       'CD4-positive, alpha-beta T cell',\n",
       "       'CD8-positive, alpha-beta T cell', 'T cell', 'acinar cell',\n",
       "       'alveolar macrophage', 'alveolar type 1 fibroblast cell',\n",
       "       'alveolar type 2 fibroblast cell', 'bronchial goblet cell',\n",
       "       'bronchus fibroblast of lung',\n",
       "       'brush cell of trachebronchial tree', 'capillary endothelial cell',\n",
       "       'ciliated columnar cell of tracheobronchial tree',\n",
       "       'classical monocyte', 'club cell', 'conventional dendritic cell',\n",
       "       'dendritic cell', 'elicited macrophage',\n",
       "       'endothelial cell of lymphatic vessel',\n",
       "       'epithelial cell of alveolus of lung',\n",
       "       'epithelial cell of lower respiratory tract', 'fibroblast',\n",
       "       'hematopoietic stem cell', 'ionocyte', 'lung macrophage',\n",
       "       'lung neuroendocrine cell', 'lung pericyte', 'mast cell',\n",
       "       'mesothelial cell', 'mucus secreting cell',\n",
       "       'multi-ciliated epithelial cell', 'myofibroblast cell',\n",
       "       'nasal mucosa goblet cell', 'natural killer cell',\n",
       "       'non-classical monocyte', 'plasma cell',\n",
       "       'plasmacytoid dendritic cell', 'pulmonary artery endothelial cell',\n",
       "       'respiratory basal cell', 'respiratory hillock cell',\n",
       "       'serous secreting cell', 'smooth muscle cell', 'stromal cell',\n",
       "       'tracheobronchial goblet cell', 'tracheobronchial serous cell',\n",
       "       'tracheobronchial smooth muscle cell', 'type I pneumocyte',\n",
       "       'type II pneumocyte', 'vein endothelial cell'], dtype=object)"
      ]
     },
     "execution_count": 12,
     "metadata": {},
     "output_type": "execute_result"
    }
   ],
   "source": [
    "np.unique(adata_cellflow.obs.cell_type)"
   ]
  },
  {
   "cell_type": "code",
   "execution_count": 13,
   "id": "aa3e7e07-d11b-4b75-8f8d-dba1b5d017b0",
   "metadata": {},
   "outputs": [
    {
     "data": {
      "text/plain": [
       "array(['B cell', 'CD1c-positive myeloid dendritic cell',\n",
       "       'CD4-positive, alpha-beta T cell',\n",
       "       'CD8-positive, alpha-beta T cell', 'T cell', 'acinar cell',\n",
       "       'alveolar macrophage', 'alveolar type 1 fibroblast cell',\n",
       "       'alveolar type 2 fibroblast cell', 'bronchial goblet cell',\n",
       "       'bronchus fibroblast of lung',\n",
       "       'brush cell of trachebronchial tree', 'capillary endothelial cell',\n",
       "       'ciliated columnar cell of tracheobronchial tree',\n",
       "       'classical monocyte', 'club cell', 'conventional dendritic cell',\n",
       "       'dendritic cell', 'elicited macrophage',\n",
       "       'endothelial cell of lymphatic vessel',\n",
       "       'epithelial cell of alveolus of lung',\n",
       "       'epithelial cell of lower respiratory tract', 'fibroblast',\n",
       "       'hematopoietic stem cell', 'ionocyte', 'lung macrophage',\n",
       "       'lung neuroendocrine cell', 'lung pericyte', 'mast cell',\n",
       "       'mesothelial cell', 'mucus secreting cell',\n",
       "       'multi-ciliated epithelial cell', 'myofibroblast cell',\n",
       "       'nasal mucosa goblet cell', 'natural killer cell',\n",
       "       'non-classical monocyte', 'plasma cell',\n",
       "       'plasmacytoid dendritic cell', 'pulmonary artery endothelial cell',\n",
       "       'respiratory basal cell', 'respiratory hillock cell',\n",
       "       'serous secreting cell', 'smooth muscle cell', 'stromal cell',\n",
       "       'tracheobronchial goblet cell', 'tracheobronchial serous cell',\n",
       "       'tracheobronchial smooth muscle cell', 'type I pneumocyte',\n",
       "       'type II pneumocyte', 'vein endothelial cell'], dtype=object)"
      ]
     },
     "execution_count": 13,
     "metadata": {},
     "output_type": "execute_result"
    }
   ],
   "source": [
    "np.unique(adata_scvi.obs.cell_type)"
   ]
  },
  {
   "cell_type": "markdown",
   "id": "e0c875bd-151b-4a4d-8a57-cf944dbec8d5",
   "metadata": {},
   "source": [
    "# PBMC covid"
   ]
  },
  {
   "cell_type": "code",
   "execution_count": 2,
   "id": "eb541fb3-f0e4-47ae-9205-4389e971405c",
   "metadata": {},
   "outputs": [],
   "source": [
    "path = Path(\"/home/icb/alessandro.palma/environment/cfgen/project_folder/datasets/processed/classifier_experiment_pbmc/augmented\")"
   ]
  },
  {
   "cell_type": "code",
   "execution_count": 3,
   "id": "80af4bb1-7722-41a0-bb9f-378e88e9cbb6",
   "metadata": {},
   "outputs": [],
   "source": [
    "adata_cellflow = sc.read_h5ad(path / \"pbmc_covid_augmented_prop.h5ad\")"
   ]
  },
  {
   "cell_type": "code",
   "execution_count": 4,
   "id": "d3557a37-5646-4aea-bf8d-423710b64122",
   "metadata": {},
   "outputs": [],
   "source": [
    "adata_scdiffusion = sc.read_h5ad(path / \"pbmc_covid_train_augmented_prop_scdiffusion.h5ad\")"
   ]
  },
  {
   "cell_type": "code",
   "execution_count": 5,
   "id": "3bdfe66d-5c9b-4f40-b6f7-3fb2985dfa28",
   "metadata": {},
   "outputs": [],
   "source": [
    "adata_scvi = sc.read_h5ad(path / \"pbmc_covid_train_augmented_prop_scvi.h5ad\")"
   ]
  },
  {
   "cell_type": "code",
   "execution_count": 6,
   "id": "c8ccf021-ec83-4b5f-8836-c0fced0be323",
   "metadata": {},
   "outputs": [],
   "source": [
    "real_hlca = sc.read_h5ad(\"/home/icb/alessandro.palma/environment/cfgen/project_folder/datasets/processed/classifier_experiment_pbmc/pbmc_covid_train.h5ad\")"
   ]
  },
  {
   "cell_type": "markdown",
   "id": "cc28816d-d878-460b-b4c6-f0716d5fa9ef",
   "metadata": {},
   "source": [
    "In all cases X should be log-transformed"
   ]
  },
  {
   "cell_type": "code",
   "execution_count": 8,
   "id": "7deaaa26-a688-4e60-a3cc-fc3c4c4f6af7",
   "metadata": {},
   "outputs": [
    {
     "data": {
      "text/plain": [
       "3.9546888"
      ]
     },
     "execution_count": 8,
     "metadata": {},
     "output_type": "execute_result"
    }
   ],
   "source": [
    "adata_cellflow.X.max(1).mean()"
   ]
  },
  {
   "cell_type": "code",
   "execution_count": null,
   "id": "dd1660b9-2794-460e-8735-9b35183366f3",
   "metadata": {},
   "outputs": [],
   "source": [
    "adata_scdiffusion.X.max(1).mean()"
   ]
  },
  {
   "cell_type": "code",
   "execution_count": null,
   "id": "227fe717-6dfd-43d4-9913-bbe7ff7e86de",
   "metadata": {},
   "outputs": [],
   "source": [
    "adata_scvi.X.max(1).mean()"
   ]
  },
  {
   "cell_type": "code",
   "execution_count": null,
   "id": "cd8802aa-c511-426d-ab87-a427053cf2f1",
   "metadata": {},
   "outputs": [],
   "source": [
    "real_hlca.X.A.max(1).mean()"
   ]
  },
  {
   "cell_type": "code",
   "execution_count": 7,
   "id": "c66b2fe1-fbfe-468d-b9ee-4a3430512ed8",
   "metadata": {},
   "outputs": [],
   "source": [
    "adata_scdiffusion.var = real_hlca.var.copy()\n",
    "adata_scvi.var = real_hlca.var.copy()\n",
    "\n",
    "adata_scdiffusion.write_h5ad(path / \"pbmc_covid_train_augmented_prop_scdiffusion.h5ad\")\n",
    "adata_scvi.write_h5ad(path / \"pbmc_covid_train_augmented_prop_scvi.h5ad\")"
   ]
  },
  {
   "cell_type": "code",
   "execution_count": null,
   "id": "2fb5804a-07b1-4402-b48d-a149c92b54a3",
   "metadata": {},
   "outputs": [],
   "source": []
  },
  {
   "cell_type": "code",
   "execution_count": null,
   "id": "c975171d-c194-4016-b28b-a3b92e98383c",
   "metadata": {},
   "outputs": [],
   "source": []
  }
 ],
 "metadata": {
  "kernelspec": {
   "display_name": "Python 3 (ipykernel)",
   "language": "python",
   "name": "python3"
  },
  "language_info": {
   "codemirror_mode": {
    "name": "ipython",
    "version": 3
   },
   "file_extension": ".py",
   "mimetype": "text/x-python",
   "name": "python",
   "nbconvert_exporter": "python",
   "pygments_lexer": "ipython3",
   "version": "3.10.13"
  }
 },
 "nbformat": 4,
 "nbformat_minor": 5
}
