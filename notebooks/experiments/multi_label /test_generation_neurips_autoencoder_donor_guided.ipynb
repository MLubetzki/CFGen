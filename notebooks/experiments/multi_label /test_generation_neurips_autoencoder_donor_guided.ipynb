{
 "cells": [
  {
   "cell_type": "code",
   "execution_count": 1,
   "id": "0e922d7a-94d3-4835-b329-a92f7a0cedea",
   "metadata": {},
   "outputs": [
    {
     "ename": "KeyboardInterrupt",
     "evalue": "",
     "output_type": "error",
     "traceback": [
      "\u001b[0;31m---------------------------------------------------------------------------\u001b[0m",
      "\u001b[0;31mKeyboardInterrupt\u001b[0m                         Traceback (most recent call last)",
      "Cell \u001b[0;32mIn[1], line 4\u001b[0m\n\u001b[1;32m      2\u001b[0m \u001b[38;5;28;01mimport\u001b[39;00m \u001b[38;5;21;01mpandas\u001b[39;00m \u001b[38;5;28;01mas\u001b[39;00m \u001b[38;5;21;01mpd\u001b[39;00m\n\u001b[1;32m      3\u001b[0m \u001b[38;5;28;01mimport\u001b[39;00m \u001b[38;5;21;01myaml\u001b[39;00m\n\u001b[0;32m----> 4\u001b[0m \u001b[38;5;28;01mimport\u001b[39;00m \u001b[38;5;21;01mtorch\u001b[39;00m\n\u001b[1;32m      5\u001b[0m \u001b[38;5;28;01mfrom\u001b[39;00m \u001b[38;5;21;01mcopy\u001b[39;00m \u001b[38;5;28;01mimport\u001b[39;00m deepcopy\n\u001b[1;32m      6\u001b[0m \u001b[38;5;28;01mimport\u001b[39;00m \u001b[38;5;21;01mmatplotlib\u001b[39;00m\u001b[38;5;21;01m.\u001b[39;00m\u001b[38;5;21;01mpyplot\u001b[39;00m \u001b[38;5;28;01mas\u001b[39;00m \u001b[38;5;21;01mplt\u001b[39;00m\n",
      "File \u001b[0;32m~/miniconda3/envs/celldreamer/lib/python3.10/site-packages/torch/__init__.py:234\u001b[0m\n\u001b[1;32m    223\u001b[0m \u001b[38;5;28;01melse\u001b[39;00m:\n\u001b[1;32m    224\u001b[0m     \u001b[38;5;66;03m# Easy way.  You want this most of the time, because it will prevent\u001b[39;00m\n\u001b[1;32m    225\u001b[0m     \u001b[38;5;66;03m# C++ symbols from libtorch clobbering C++ symbols from other\u001b[39;00m\n\u001b[0;32m   (...)\u001b[0m\n\u001b[1;32m    231\u001b[0m     \u001b[38;5;66;03m#\u001b[39;00m\n\u001b[1;32m    232\u001b[0m     \u001b[38;5;66;03m# See Note [Global dependencies]\u001b[39;00m\n\u001b[1;32m    233\u001b[0m     \u001b[38;5;28;01mif\u001b[39;00m USE_GLOBAL_DEPS:\n\u001b[0;32m--> 234\u001b[0m         \u001b[43m_load_global_deps\u001b[49m\u001b[43m(\u001b[49m\u001b[43m)\u001b[49m\n\u001b[1;32m    235\u001b[0m     \u001b[38;5;28;01mfrom\u001b[39;00m \u001b[38;5;21;01mtorch\u001b[39;00m\u001b[38;5;21;01m.\u001b[39;00m\u001b[38;5;21;01m_C\u001b[39;00m \u001b[38;5;28;01mimport\u001b[39;00m \u001b[38;5;241m*\u001b[39m  \u001b[38;5;66;03m# noqa: F403\u001b[39;00m\n\u001b[1;32m    237\u001b[0m \u001b[38;5;66;03m# Appease the type checker; ordinarily this binding is inserted by the\u001b[39;00m\n\u001b[1;32m    238\u001b[0m \u001b[38;5;66;03m# torch._C module initialization code in C\u001b[39;00m\n",
      "File \u001b[0;32m~/miniconda3/envs/celldreamer/lib/python3.10/site-packages/torch/__init__.py:174\u001b[0m, in \u001b[0;36m_load_global_deps\u001b[0;34m()\u001b[0m\n\u001b[1;32m    171\u001b[0m lib_path \u001b[38;5;241m=\u001b[39m os\u001b[38;5;241m.\u001b[39mpath\u001b[38;5;241m.\u001b[39mjoin(os\u001b[38;5;241m.\u001b[39mpath\u001b[38;5;241m.\u001b[39mdirname(here), \u001b[38;5;124m'\u001b[39m\u001b[38;5;124mlib\u001b[39m\u001b[38;5;124m'\u001b[39m, lib_name)\n\u001b[1;32m    173\u001b[0m \u001b[38;5;28;01mtry\u001b[39;00m:\n\u001b[0;32m--> 174\u001b[0m     \u001b[43mctypes\u001b[49m\u001b[38;5;241;43m.\u001b[39;49m\u001b[43mCDLL\u001b[49m\u001b[43m(\u001b[49m\u001b[43mlib_path\u001b[49m\u001b[43m,\u001b[49m\u001b[43m \u001b[49m\u001b[43mmode\u001b[49m\u001b[38;5;241;43m=\u001b[39;49m\u001b[43mctypes\u001b[49m\u001b[38;5;241;43m.\u001b[39;49m\u001b[43mRTLD_GLOBAL\u001b[49m\u001b[43m)\u001b[49m\n\u001b[1;32m    175\u001b[0m \u001b[38;5;28;01mexcept\u001b[39;00m \u001b[38;5;167;01mOSError\u001b[39;00m \u001b[38;5;28;01mas\u001b[39;00m err:\n\u001b[1;32m    176\u001b[0m     \u001b[38;5;66;03m# Can only happen for wheel with cuda libs as PYPI deps\u001b[39;00m\n\u001b[1;32m    177\u001b[0m     \u001b[38;5;66;03m# As PyTorch is not purelib, but nvidia-*-cu12 is\u001b[39;00m\n\u001b[1;32m    178\u001b[0m     cuda_libs: Dict[\u001b[38;5;28mstr\u001b[39m, \u001b[38;5;28mstr\u001b[39m] \u001b[38;5;241m=\u001b[39m {\n\u001b[1;32m    179\u001b[0m         \u001b[38;5;124m'\u001b[39m\u001b[38;5;124mcublas\u001b[39m\u001b[38;5;124m'\u001b[39m: \u001b[38;5;124m'\u001b[39m\u001b[38;5;124mlibcublas.so.*[0-9]\u001b[39m\u001b[38;5;124m'\u001b[39m,\n\u001b[1;32m    180\u001b[0m         \u001b[38;5;124m'\u001b[39m\u001b[38;5;124mcudnn\u001b[39m\u001b[38;5;124m'\u001b[39m: \u001b[38;5;124m'\u001b[39m\u001b[38;5;124mlibcudnn.so.*[0-9]\u001b[39m\u001b[38;5;124m'\u001b[39m,\n\u001b[0;32m   (...)\u001b[0m\n\u001b[1;32m    189\u001b[0m         \u001b[38;5;124m'\u001b[39m\u001b[38;5;124mnvtx\u001b[39m\u001b[38;5;124m'\u001b[39m: \u001b[38;5;124m'\u001b[39m\u001b[38;5;124mlibnvToolsExt.so.*[0-9]\u001b[39m\u001b[38;5;124m'\u001b[39m,\n\u001b[1;32m    190\u001b[0m     }\n",
      "File \u001b[0;32m~/miniconda3/envs/celldreamer/lib/python3.10/ctypes/__init__.py:374\u001b[0m, in \u001b[0;36mCDLL.__init__\u001b[0;34m(self, name, mode, handle, use_errno, use_last_error, winmode)\u001b[0m\n\u001b[1;32m    371\u001b[0m \u001b[38;5;28mself\u001b[39m\u001b[38;5;241m.\u001b[39m_FuncPtr \u001b[38;5;241m=\u001b[39m _FuncPtr\n\u001b[1;32m    373\u001b[0m \u001b[38;5;28;01mif\u001b[39;00m handle \u001b[38;5;129;01mis\u001b[39;00m \u001b[38;5;28;01mNone\u001b[39;00m:\n\u001b[0;32m--> 374\u001b[0m     \u001b[38;5;28mself\u001b[39m\u001b[38;5;241m.\u001b[39m_handle \u001b[38;5;241m=\u001b[39m \u001b[43m_dlopen\u001b[49m\u001b[43m(\u001b[49m\u001b[38;5;28;43mself\u001b[39;49m\u001b[38;5;241;43m.\u001b[39;49m\u001b[43m_name\u001b[49m\u001b[43m,\u001b[49m\u001b[43m \u001b[49m\u001b[43mmode\u001b[49m\u001b[43m)\u001b[49m\n\u001b[1;32m    375\u001b[0m \u001b[38;5;28;01melse\u001b[39;00m:\n\u001b[1;32m    376\u001b[0m     \u001b[38;5;28mself\u001b[39m\u001b[38;5;241m.\u001b[39m_handle \u001b[38;5;241m=\u001b[39m handle\n",
      "\u001b[0;31mKeyboardInterrupt\u001b[0m: "
     ]
    }
   ],
   "source": [
    "import numpy as np\n",
    "import pandas as pd\n",
    "import yaml\n",
    "import torch\n",
    "from copy import deepcopy\n",
    "import matplotlib.pyplot as plt\n",
    "from celldreamer.eval.eval_utils import normalize_and_compute_metrics\n",
    "import scipy.sparse as sp\n",
    "from celldreamer.eval.eval_utils import join_real_generated\n",
    "\n",
    "from torch import nn\n",
    "import scanpy as sc    \n",
    "\n",
    "from celldreamer.data.scrnaseq_loader import RNAseqLoader\n",
    "from celldreamer.models.featurizers.category_featurizer import CategoricalFeaturizer\n",
    "from celldreamer.models.fm.fm import FM\n",
    "from celldreamer.eval.optimal_transport import wasserstein\n",
    "import random\n",
    "from celldreamer.models.base.encoder_model import EncoderModel\n",
    "from celldreamer.models.base.utils import unsqueeze_right\n",
    "from celldreamer.paths import DATA_DIR\n",
    "\n",
    "device  = \"cuda\" if torch.cuda.is_available() else \"cpu\"\n",
    "\n",
    "sc.set_figure_params(dpi=100, frameon=False, fontsize=12)\n",
    "\n",
    "\n",
    "import matplotlib\n",
    "from matplotlib import rc\n",
    "import matplotlib.pyplot as plt \n",
    "matplotlib.rcdefaults()\n",
    "\n",
    "from pathlib import Path\n",
    "matplotlib_rc = { \n",
    "    # 'text': {'usetex': True}, \n",
    "    'font': {'family': 'serif'} } # Apply changes for k, v in matplotlib_rc.items(): rc(k, **v)\n",
    "for k, v in matplotlib_rc.items():\n",
    "          rc(k, **v)\n",
    "\n",
    "from matplotlib import rcParams\n",
    "\n",
    "FIGSIZE = (3, 3)\n",
    "rcParams[\"figure.figsize\"] = FIGSIZE"
   ]
  },
  {
   "cell_type": "markdown",
   "id": "2337906d-bdfa-47b1-a00b-a56ead7770bf",
   "metadata": {},
   "source": [
    "## Step 1: Initialize data"
   ]
  },
  {
   "cell_type": "code",
   "execution_count": null,
   "id": "9d122123-ecb5-407c-a31f-4be515dbc482",
   "metadata": {},
   "outputs": [],
   "source": [
    "dataset_config = {'dataset_path': DATA_DIR / 'processed_full_genome' / 'neurips' / 'neurips_test.h5ad',\n",
    "                    'layer_key': 'X_counts',\n",
    "                    'covariate_keys': ['cell_type', 'DonorNumber'],\n",
    "                    'subsample_frac': 1,\n",
    "                    'encoder_type': 'learnt_autoencoder',\n",
    "                    'one_hot_encode_features': False,\n",
    "                    'split_rates': [0.90, 0.10],\n",
    "                    'cov_embedding_dimensions': 128, \n",
    "                    'multimodal': False, \n",
    "                    'is_binarized': False,\n",
    "                    'theta_covariate': 'cell_type', \n",
    "                    'size_factor_covariate': 'DonorNumber',\n",
    "                    'guidance_weights': {'cell_type': 1, 'DonorNumber': 1}\n",
    "                 }\n",
    "\n",
    "data_path = dataset_config[\"dataset_path\"]\n",
    "\n",
    "dataset = RNAseqLoader(data_path=data_path,\n",
    "                        layer_key=dataset_config[\"layer_key\"],\n",
    "                        covariate_keys=dataset_config[\"covariate_keys\"],\n",
    "                        subsample_frac=dataset_config[\"subsample_frac\"], \n",
    "                        encoder_type=dataset_config[\"encoder_type\"],\n",
    "                        multimodal=dataset_config[\"multimodal\"],\n",
    "                        is_binarized=dataset_config[\"is_binarized\"]\n",
    "                      )\n",
    "\n",
    "dataloader = torch.utils.data.DataLoader(dataset,\n",
    "                                            batch_size=256,\n",
    "                                            shuffle=True,\n",
    "                                            num_workers=4, \n",
    "                                            drop_last=True)\n",
    "\n",
    "in_dim = dataset.X.shape[1]\n",
    "size_factor_statistics = {\"mean\": dataset.log_size_factor_mu, \n",
    "                                  \"sd\": dataset.log_size_factor_sd}\n",
    "\n",
    "n_cat = len(dataset.id2cov[\"cell_type\"])"
   ]
  },
  {
   "cell_type": "markdown",
   "id": "01e52db6-ea20-4c88-ad5e-8744267372b5",
   "metadata": {},
   "source": [
    "## Step 2: Initialize encoder"
   ]
  },
  {
   "cell_type": "code",
   "execution_count": null,
   "id": "05c31d1f-75d4-41ab-a58e-ff894e8a5cc0",
   "metadata": {},
   "outputs": [],
   "source": [
    "encoder_config = {\n",
    "    \"x0_from_x_kwargs\": {\n",
    "        \"dims\": [512, 256, 50],\n",
    "        \"batch_norm\": True,\n",
    "        \"dropout\": False,\n",
    "        \"dropout_p\": 0.0\n",
    "    },\n",
    "    \"learning_rate\": 0.001,\n",
    "    \"weight_decay\": 0.00001,\n",
    "    \"covariate_specific_theta\": False, \n",
    "    \"multimodal\": False,\n",
    "    \"is_binarized\": False}\n",
    "\n",
    "\n",
    "state_dict_path = \"/home/icb/alessandro.palma/environment/cfgen/project_folder/experiments/off_train_autoencoder_neurips_whole_genome/eabc6534-947b-4486-8012-c9e351b297ca/checkpoints/epoch_59.ckpt\""
   ]
  },
  {
   "cell_type": "code",
   "execution_count": null,
   "id": "5037fb6f-d5d9-4d51-bfb4-c42e73ff043a",
   "metadata": {},
   "outputs": [],
   "source": [
    "encoder_model = EncoderModel(in_dim=in_dim,\n",
    "                              n_cat=n_cat,\n",
    "                              conditioning_covariate=dataset_config[\"theta_covariate\"], \n",
    "                              encoder_type=dataset_config[\"encoder_type\"],\n",
    "                              **encoder_config)\n",
    "\n",
    "encoder_model.eval()\n",
    "\n",
    "encoder_model.load_state_dict(torch.load(state_dict_path)[\"state_dict\"])"
   ]
  },
  {
   "cell_type": "markdown",
   "id": "fedbd845-234d-437e-80f5-6b1c0a59695c",
   "metadata": {},
   "source": [
    "## Initialize FM model"
   ]
  },
  {
   "cell_type": "code",
   "execution_count": null,
   "id": "39190b2e-831f-4aca-a25c-4651e4b4cdc6",
   "metadata": {},
   "outputs": [],
   "source": [
    "generative_model_config = {'learning_rate': 0.0001,\n",
    "                            'weight_decay': 0.00001,\n",
    "                            'antithetic_time_sampling': True,\n",
    "                            'sigma': 0.5}"
   ]
  },
  {
   "cell_type": "code",
   "execution_count": null,
   "id": "98f49071-05c8-41a8-8a4b-83600981491e",
   "metadata": {
    "scrolled": true
   },
   "outputs": [],
   "source": [
    "ckpt = torch.load(\"/home/icb/alessandro.palma/environment/celldreamer/project_folder/experiments/GUIDED_MULTILAB_NEURIPS/04ddda45-0e7f-4d9c-84fa-00386d0e9668/checkpoints/last.ckpt\")\n",
    "\n",
    "denoising_model = ckpt[\"hyper_parameters\"][\"denoising_model\"]\n",
    "denoising_model.multimodal = False"
   ]
  },
  {
   "cell_type": "code",
   "execution_count": null,
   "id": "0fd5db02-e71b-4115-9348-5e52d10da9cb",
   "metadata": {
    "scrolled": true
   },
   "outputs": [],
   "source": [
    "print(ckpt[\"hyper_parameters\"][\"feature_embeddings\"][\"cell_type\"].embeddings.weight)\n",
    "feature_embeddings = ckpt[\"hyper_parameters\"][\"feature_embeddings\"]"
   ]
  },
  {
   "cell_type": "markdown",
   "id": "64548d77-2e55-4a4b-8d20-49ee96096e3a",
   "metadata": {},
   "source": [
    "Initializations"
   ]
  },
  {
   "cell_type": "code",
   "execution_count": null,
   "id": "07002cca-2d73-4dad-baa9-6a64cac5e281",
   "metadata": {
    "scrolled": true
   },
   "outputs": [],
   "source": [
    "generative_model = FM(\n",
    "            encoder_model=encoder_model,\n",
    "            denoising_model=denoising_model,\n",
    "            feature_embeddings=feature_embeddings,\n",
    "            plotting_folder=None,\n",
    "            in_dim=50,\n",
    "            size_factor_statistics=size_factor_statistics,\n",
    "            covariate_list=dataset_config[\"covariate_keys\"],\n",
    "            theta_covariate=dataset_config[\"theta_covariate\"],\n",
    "            size_factor_covariate=dataset_config[\"size_factor_covariate\"],\n",
    "            model_type=denoising_model.model_type, \n",
    "            encoder_type=dataset_config[\"encoder_type\"],\n",
    "            multimodal=dataset_config[\"multimodal\"],\n",
    "            is_binarized=False,\n",
    "            modality_list=None,\n",
    "            guidance_weights={'cell_type': 1, 'DonorNumber': 1},\n",
    "            **generative_model_config  # model_kwargs should contain the rest of the arguments\n",
    "            )\n",
    "\n",
    "generative_model.load_state_dict(ckpt[\"state_dict\"])\n",
    "generative_model.to(\"cuda\")"
   ]
  },
  {
   "cell_type": "code",
   "execution_count": null,
   "id": "5f41e1f4-218f-482a-88d5-5771f42f57d0",
   "metadata": {},
   "outputs": [],
   "source": [
    "generative_model.denoising_model.guided_conditioning = True"
   ]
  },
  {
   "cell_type": "markdown",
   "id": "c9b3d1e1-3458-4df1-81f2-3ca45820879e",
   "metadata": {},
   "source": [
    "**Check the data**"
   ]
  },
  {
   "cell_type": "code",
   "execution_count": null,
   "id": "86e7b000-32fd-4c0f-b466-71912b30b104",
   "metadata": {},
   "outputs": [],
   "source": [
    "adata_original = sc.read_h5ad(data_path)\n",
    "adata_original.obs[\"size_factor\"]=adata_original.X.A.sum(1)\n",
    "adata_original.X = adata_original.layers[\"X_counts\"].A.copy()\n",
    "X = torch.tensor(adata_original.layers[\"X_counts\"].todense())"
   ]
  },
  {
   "cell_type": "code",
   "execution_count": null,
   "id": "24e00b1f-4f2d-4b2b-85c5-397353f6f2d3",
   "metadata": {},
   "outputs": [],
   "source": [
    "sc.pl.umap(adata_original, color=[\"cell_type\"], s=10)\n",
    "sc.pl.umap(adata_original, color=[\"DonorNumber\"], s=10)"
   ]
  },
  {
   "cell_type": "code",
   "execution_count": null,
   "id": "6b5382ef-8f4b-4d68-b2cc-175402b10469",
   "metadata": {},
   "outputs": [],
   "source": [
    "sc.pl.umap(adata_original, color=\"cell_type\", groups=\"CD4+ T activated\")"
   ]
  },
  {
   "cell_type": "markdown",
   "id": "f92b2c23-03e1-4424-9fcc-937e461b0ddd",
   "metadata": {},
   "source": [
    "# COMBINATION OF CONDITIONS "
   ]
  },
  {
   "cell_type": "markdown",
   "id": "2e81ced6-9528-4df6-a5c6-6c88633386fe",
   "metadata": {},
   "source": [
    " "
   ]
  },
  {
   "cell_type": "code",
   "execution_count": null,
   "id": "c60f346b-6b78-44a5-9d16-787a092ba706",
   "metadata": {},
   "outputs": [],
   "source": [
    "generative_model.guidance_weights"
   ]
  },
  {
   "cell_type": "code",
   "execution_count": null,
   "id": "85dc0e1f-6286-4cc3-bcde-f66566b586a5",
   "metadata": {
    "scrolled": true
   },
   "outputs": [],
   "source": [
    "dataset.id2cov[\"cell_type\"]"
   ]
  },
  {
   "cell_type": "code",
   "execution_count": null,
   "id": "bcc6dcee-b524-4557-a4e3-3821bc896bcd",
   "metadata": {},
   "outputs": [],
   "source": [
    "dataset.id2cov[\"DonorNumber\"]"
   ]
  },
  {
   "cell_type": "code",
   "execution_count": null,
   "id": "98ac6c7a-8432-4ba3-b337-9fca96628a8f",
   "metadata": {},
   "outputs": [],
   "source": [
    "# Pick condition \n",
    "covariates_cell_types = 'CD14+ Mono'\n",
    "covariates_donor = 'donor1'\n",
    "\n",
    "# Get the labels\n",
    "condition_id_ct = dataset.id2cov[\"cell_type\"][covariates_cell_types]\n",
    "condition_id_donor = dataset.id2cov[\"DonorNumber\"][covariates_donor]\n",
    "\n",
    "# Get the labels\n",
    "adata_cond = adata_original[np.logical_and(adata_original.obs.cell_type==covariates_cell_types, \n",
    "                                           adata_original.obs.DonorNumber==covariates_donor)]\n",
    "n_to_generate = adata_cond.shape[0]\n",
    "\n",
    "classes = {\"cell_type\": condition_id_ct*torch.ones(n_to_generate).long(), \n",
    "           \"DonorNumber\": condition_id_donor*torch.ones(n_to_generate).long()}\n",
    "\n",
    "classes_str = {\"cell_type\": [covariates_cell_types for n in range(n_to_generate)], \n",
    "           \"DonorNumber\": [covariates_donor for n in range(n_to_generate)]}\n",
    "\n",
    "log_size_factors = torch.log(torch.tensor(adata_cond.layers[\"X_counts\"].sum(1))).cuda()"
   ]
  },
  {
   "cell_type": "code",
   "execution_count": null,
   "id": "4df4e9a0-0523-4640-9efe-081fcb36a1a9",
   "metadata": {},
   "outputs": [],
   "source": [
    "X_generated = generative_model.sample(batch_size=n_to_generate,\n",
    "                                        n_sample_steps=100, \n",
    "                                        theta_covariate=\"cell_type\", \n",
    "                                        size_factor_covariate=\"cell_type\",\n",
    "                                        conditioning_covariates=[\"cell_type\", \"DonorNumber\"],\n",
    "                                        covariate_indices=classes, \n",
    "                                        log_size_factor=log_size_factors)\n",
    "\n",
    "X_generated = X_generated.to(\"cpu\")\n",
    "\n",
    "adata_generated = sc.AnnData(X=X_generated.numpy())"
   ]
  },
  {
   "cell_type": "code",
   "execution_count": null,
   "id": "8f9d0fe3-0c31-47c3-b882-652684915b25",
   "metadata": {},
   "outputs": [],
   "source": [
    "adata_merged = join_real_generated(adata_original, adata_generated, True, classes_str, [\"cell_type\", \"DonorNumber\"])"
   ]
  },
  {
   "cell_type": "code",
   "execution_count": null,
   "id": "fe852c98-8a0e-4184-96f1-77c65754f70b",
   "metadata": {},
   "outputs": [],
   "source": [
    "sc.pp.neighbors(adata_merged)\n",
    "sc.tl.umap(adata_merged)"
   ]
  },
  {
   "cell_type": "code",
   "execution_count": null,
   "id": "9f55d375-647a-48a3-a944-542d4e38f88b",
   "metadata": {},
   "outputs": [],
   "source": [
    "sc.pl.umap(adata_merged[adata_merged.obs.dataset_type==\"Real\"], color=\"cell_type\")\n",
    "sc.pl.umap(adata_merged[adata_merged.obs.dataset_type==\"Real\"], color=\"DonorNumber\")\n",
    "sc.pl.umap(adata_merged, color=\"dataset_type\", groups=\"Generated\", s=10)"
   ]
  },
  {
   "cell_type": "code",
   "execution_count": null,
   "id": "5046a41a-b42c-4c04-98af-fe03c9ac63c2",
   "metadata": {},
   "outputs": [],
   "source": [
    "# sc.pl.pca(adata_merged, color=\"dataset_type\",  annotate_var_explained=True)\n",
    "sc.pl.umap(adata_merged, color=\"dataset_type\", groups=\"Generated\",s=10)\n",
    "sc.pl.umap(adata_merged, color=\"cell_type\", groups=\"CD14+ Mono\",s=10)\n",
    "sc.pl.umap(adata_merged, color=\"DonorNumber\", groups=\"donor1\",s=10, palette=\"jet\", add_outline=True)"
   ]
  },
  {
   "cell_type": "markdown",
   "id": "f9f20bd1-88d6-4241-8dc8-4d8e020eae69",
   "metadata": {},
   "source": [
    "## Experiment guidance weights"
   ]
  },
  {
   "cell_type": "code",
   "execution_count": null,
   "id": "eba89819-62d9-46d4-992d-d27815a5b739",
   "metadata": {
    "scrolled": true
   },
   "outputs": [],
   "source": [
    "covariates_cell_types = 'CD14+ Mono'\n",
    "covariates_donor = 'donor1'\n",
    "\n",
    "# Get the labels\n",
    "condition_id_ct = dataset.id2cov[\"cell_type\"][covariates_cell_types]\n",
    "condition_id_donor = dataset.id2cov[\"DonorNumber\"][covariates_donor]\n",
    "\n",
    "donor_weight_data = {}\n",
    "adata_cond = adata_original[np.logical_and(adata_original.obs.cell_type==covariates_cell_types, \n",
    "                                           adata_original.obs.DonorNumber==covariates_donor)]\n",
    "n_to_generate = adata_cond.shape[0]\n",
    "\n",
    "classes = {\"cell_type\": condition_id_ct*torch.ones(2000).long(), \n",
    "           \"DonorNumber\": condition_id_donor*torch.ones(2000).long()}\n",
    "\n",
    "classes_str = {\"cell_type\": [covariates_cell_types for n in range(n_to_generate)], \n",
    "           \"DonorNumber\": [covariates_donor for n in range(n_to_generate)]}\n",
    "\n",
    "log_size_factors = torch.log(torch.tensor(adata_cond.layers[\"X_counts\"].sum(1))).cuda()\n",
    "\n",
    "for donor_weight in [0, 1, 2, 5]:\n",
    "    # Get the labels\n",
    "\n",
    "    \n",
    "    X_generated = generative_model.sample(batch_size=2000,\n",
    "                                        n_sample_steps=2, \n",
    "                                        theta_covariate=\"cell_type\", \n",
    "                                        size_factor_covariate=\"cell_type\",\n",
    "                                        conditioning_covariates=[\"cell_type\", \"DonorNumber\"],\n",
    "                                        covariate_indices=classes, \n",
    "                                        log_size_factor=None, \n",
    "                                        guidance_weights={'cell_type': 1, 'DonorNumber': donor_weight})\n",
    "\n",
    "    X_generated = X_generated.to(\"cpu\")\n",
    "        \n",
    "    donor_weight_data[donor_weight] = X_generated"
   ]
  },
  {
   "cell_type": "code",
   "execution_count": null,
   "id": "d9c41185-14db-4fa7-bc21-4b923deb4e0f",
   "metadata": {},
   "outputs": [],
   "source": [
    "adata_joint_mat = [adata_original.layers[\"X_counts\"].A.copy()]\n",
    "weights = [\"Real data\" for _ in range(len(adata_joint_mat[0]))]\n",
    "donor = list(adata_original.obs[\"DonorNumber\"])\n",
    "cell_type = list(adata_original.obs[\"cell_type\"])\n",
    "\n",
    "\n",
    "for w in donor_weight_data:\n",
    "    adata_joint_mat.append(donor_weight_data[w])\n",
    "    weights += [str(w) for _ in range(len(donor_weight_data[w]))]\n",
    "    donor += [\"g_donor1\" for _ in range(len(donor_weight_data[w]))]\n",
    "    cell_type += [\"g_CD14+ Mono\" for _ in range(len(donor_weight_data[w]))]\n",
    "\n",
    "# adata_joint_mat.append(X_generated_uncond)\n",
    "# weights += [\"0_0\" for _ in range(len(X_generated_uncond))]\n",
    "# donor += [\"g_donor1 0_0\" for _ in range(len(X_generated_uncond))]\n",
    "# cell_type += [\"g_CD14+ 0_0\" for _ in range(len(X_generated_uncond))]"
   ]
  },
  {
   "cell_type": "code",
   "execution_count": null,
   "id": "12822f6d-c6a2-43c4-b86b-ba1d6539d9f6",
   "metadata": {},
   "outputs": [],
   "source": [
    "obs = pd.DataFrame(weights)\n",
    "obs.columns = [\"guidance weight\"]\n",
    "obs[\"donor\"] = donor\n",
    "obs[\"cell_type\"] = cell_type"
   ]
  },
  {
   "cell_type": "code",
   "execution_count": null,
   "id": "765fa495-1946-40b9-b1ee-17c1a448f7a6",
   "metadata": {},
   "outputs": [],
   "source": [
    "adata_joint = sc.AnnData(X=np.concatenate(adata_joint_mat,axis=0),\n",
    "                        obs=obs)"
   ]
  },
  {
   "cell_type": "code",
   "execution_count": null,
   "id": "44ad0ed7-abab-41b1-a5b7-31b3068ceef1",
   "metadata": {},
   "outputs": [],
   "source": [
    "sc.pp.normalize_total(adata_joint, target_sum=1e4)\n",
    "sc.pp.log1p(adata_joint)\n",
    "sc.tl.pca(adata_joint)\n",
    "sc.pp.neighbors(adata_joint)\n",
    "sc.tl.umap(adata_joint)"
   ]
  },
  {
   "cell_type": "code",
   "execution_count": null,
   "id": "260c6f89-d983-44df-ac09-33a8810e8b73",
   "metadata": {},
   "outputs": [],
   "source": [
    "sc.pl.umap(adata_joint, color=\"cell_type\")"
   ]
  },
  {
   "cell_type": "code",
   "execution_count": null,
   "id": "d4c80b21-0252-42dd-afd0-2a6e6a5174d5",
   "metadata": {},
   "outputs": [],
   "source": [
    "sc.pl.umap(adata_joint, color=\"donor\")"
   ]
  },
  {
   "cell_type": "code",
   "execution_count": null,
   "id": "1da0a22f-aad5-415a-a223-b6f207b81999",
   "metadata": {},
   "outputs": [],
   "source": [
    "sc.pl.umap(adata_joint, color=\"guidance weight\")"
   ]
  },
  {
   "cell_type": "code",
   "execution_count": null,
   "id": "fb242fcf-8be3-436d-acb3-4375d1b27e86",
   "metadata": {},
   "outputs": [],
   "source": [
    "adata_joint.uns[\"cell_type_colors\"][15]=\"steelblue\"\n",
    "sc.pl.umap(adata_joint, color='cell_type', groups=\"CD14+ Mono\",s=8,save=\"real_neurips_cd14.png\")"
   ]
  },
  {
   "cell_type": "code",
   "execution_count": null,
   "id": "24bc30da-72e1-429f-bbed-4d4864067064",
   "metadata": {},
   "outputs": [],
   "source": [
    "adata_joint.uns[\"donor_colors\"][0]=\"steelblue\"\n",
    "sc.pl.umap(adata_joint, color='donor', groups=\"donor1\",s=8,save=\"real_neurips_d1.png\")"
   ]
  },
  {
   "cell_type": "code",
   "execution_count": null,
   "id": "fa47e3ee-9cde-4a54-9c24-260c7aa90a6c",
   "metadata": {},
   "outputs": [],
   "source": [
    "adata_joint.uns[\"guidance weight_colors\"][0] = \"firebrick\"\n",
    "sc.pl.umap(adata_joint, color='guidance weight', groups=\"0\", save=\"neurips_cd14_d1_0.png\")"
   ]
  },
  {
   "cell_type": "code",
   "execution_count": null,
   "id": "fe11d890-72c7-43f4-9aa8-ca67b2915a70",
   "metadata": {},
   "outputs": [],
   "source": [
    "adata_joint.uns[\"guidance weight_colors\"][1] = \"firebrick\"\n",
    "sc.pl.umap(adata_joint, color='guidance weight', groups=\"1\", save=\"neurips_cd14_d1_1.png\")"
   ]
  },
  {
   "cell_type": "code",
   "execution_count": null,
   "id": "a9fd2db9-931d-4e49-8177-b672b5f17981",
   "metadata": {},
   "outputs": [],
   "source": [
    "adata_joint.uns[\"guidance weight_colors\"][2] = \"firebrick\"\n",
    "sc.pl.umap(adata_joint, color='guidance weight', groups=\"2\", save=\"neurips_cd14_d1_2.png\")"
   ]
  },
  {
   "cell_type": "code",
   "execution_count": null,
   "id": "4e43ec2a-2bae-43b5-9cd5-955cc4e4d704",
   "metadata": {},
   "outputs": [],
   "source": [
    "adata_joint.uns[\"guidance weight_colors\"][3] = \"firebrick\"\n",
    "sc.pl.umap(adata_joint, color='guidance weight', groups=\"5\", save=\"neurips_cd14_d1_5.png\")"
   ]
  },
  {
   "cell_type": "markdown",
   "id": "57e4e965-c58d-4bf2-b4d3-69769664e8ee",
   "metadata": {},
   "source": [
    "Add uncond generation"
   ]
  },
  {
   "cell_type": "code",
   "execution_count": null,
   "id": "5a795ebd-8769-4a48-9a1d-70d93ea7d2ed",
   "metadata": {},
   "outputs": [],
   "source": [
    "classes = {\"cell_type\": condition_id_ct*torch.ones(12000).long(), \n",
    "           \"DonorNumber\": condition_id_donor*torch.ones(12000).long()}\n",
    "X_generated_uncond = generative_model.sample(batch_size=12000,\n",
    "                                    n_sample_steps=2, \n",
    "                                    theta_covariate=\"cell_type\", \n",
    "                                    size_factor_covariate=\"cell_type\",\n",
    "                                    conditioning_covariates=[\"cell_type\", \"DonorNumber\"],\n",
    "                                    covariate_indices=classes, \n",
    "                                    log_size_factor=None, \n",
    "                                    guidance_weights={'cell_type': 0, 'DonorNumber': 0})\n",
    "\n",
    "X_generated_uncond = X_generated_uncond.to(\"cpu\")"
   ]
  },
  {
   "cell_type": "code",
   "execution_count": null,
   "id": "15b4d7fb-96de-4c81-bfb0-5b021ea70c46",
   "metadata": {},
   "outputs": [],
   "source": [
    "adata_joint_uncond.obs[\"dataset_type\"] = np.where(adata_joint_uncond.obs[\"dataset_type\"]==\"gen\", \"Generated\", \"Real\")"
   ]
  },
  {
   "cell_type": "code",
   "execution_count": null,
   "id": "e91223bd-a41b-4733-a65d-25a27a220b00",
   "metadata": {},
   "outputs": [],
   "source": [
    "gener_uncond = sc.AnnData(X = X_generated_uncond.numpy())"
   ]
  },
  {
   "cell_type": "code",
   "execution_count": null,
   "id": "739bddde-965a-4722-86be-cfe6768cdbed",
   "metadata": {},
   "outputs": [],
   "source": [
    "adata_joint_uncond = sc.AnnData(X=np.concatenate([adata_original.layers[\"X_counts\"].A, gener_uncond.X], axis=0), \n",
    "                               obs={\"dataset_type\":[\"real\" for _ in range(len(adata_original))]+[\"gen\" for _ in range(len(gener_uncond))]})"
   ]
  },
  {
   "cell_type": "code",
   "execution_count": null,
   "id": "b69e1220-7fac-466a-8d5d-c19300d6d849",
   "metadata": {},
   "outputs": [],
   "source": [
    "sc.pp.normalize_total(adata_joint_uncond, target_sum=1e4)\n",
    "sc.pp.log1p(adata_joint_uncond)"
   ]
  },
  {
   "cell_type": "code",
   "execution_count": null,
   "id": "bc1eeb12-877d-4a13-a4df-e0b284799a69",
   "metadata": {},
   "outputs": [],
   "source": [
    "sc.tl.pca(adata_joint_uncond)\n",
    "sc.pp.neighbors(adata_joint_uncond)\n",
    "sc.tl.umap(adata_joint_uncond)"
   ]
  },
  {
   "cell_type": "code",
   "execution_count": null,
   "id": "ac3d235d-2e56-47b0-bf18-c26044241152",
   "metadata": {},
   "outputs": [],
   "source": [
    "sc.pl.umap(adata_joint_uncond, color=\"dataset_type\", palette=\"tab20\", save=\"neurips_0_0.png\")"
   ]
  },
  {
   "cell_type": "code",
   "execution_count": null,
   "id": "e212addc-7488-4844-afcd-5738b87a015c",
   "metadata": {},
   "outputs": [],
   "source": []
  },
  {
   "cell_type": "code",
   "execution_count": null,
   "id": "5303c61f-f725-41c4-b267-3ff599474175",
   "metadata": {},
   "outputs": [],
   "source": []
  }
 ],
 "metadata": {
  "kernelspec": {
   "display_name": "Python 3 (ipykernel)",
   "language": "python",
   "name": "python3"
  },
  "language_info": {
   "codemirror_mode": {
    "name": "ipython",
    "version": 3
   },
   "file_extension": ".py",
   "mimetype": "text/x-python",
   "name": "python",
   "nbconvert_exporter": "python",
   "pygments_lexer": "ipython3",
   "version": "3.10.13"
  }
 },
 "nbformat": 4,
 "nbformat_minor": 5
}
