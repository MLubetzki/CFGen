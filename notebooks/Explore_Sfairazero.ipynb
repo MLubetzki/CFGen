{
 "cells": [
  {
   "cell_type": "markdown",
   "id": "986a62ea-cbe8-4fb8-8f61-dfe5139adf49",
   "metadata": {},
   "source": [
    "### Imports"
   ]
  },
  {
   "cell_type": "code",
   "execution_count": 1,
   "id": "2650c2de-cfa2-494d-a074-ee950000f22a",
   "metadata": {},
   "outputs": [],
   "source": [
    "%load_ext autoreload"
   ]
  },
  {
   "cell_type": "code",
   "execution_count": 2,
   "id": "7af21903-b5ab-4e95-ab1c-46bf12249c00",
   "metadata": {},
   "outputs": [
    {
     "name": "stderr",
     "output_type": "stream",
     "text": [
      "2023-01-12 10:50:31.849909: I tensorflow/core/platform/cpu_feature_guard.cc:193] This TensorFlow binary is optimized with oneAPI Deep Neural Network Library (oneDNN) to use the following CPU instructions in performance-critical operations:  AVX2 AVX512F AVX512_VNNI FMA\n",
      "To enable them in other operations, rebuild TensorFlow with the appropriate compiler flags.\n",
      "2023-01-12 10:50:41.535473: I tensorflow/core/util/port.cc:104] oneDNN custom operations are on. You may see slightly different numerical results due to floating-point round-off errors from different computation orders. To turn them off, set the environment variable `TF_ENABLE_ONEDNN_OPTS=0`.\n"
     ]
    }
   ],
   "source": [
    "from os.path import join\n",
    "import torch\n",
    "from pytorch_lightning.utilities.seed import seed_everything\n",
    "from pytorch_lightning.loggers import TensorBoardLogger\n",
    "from pytorch_lightning.callbacks import ModelCheckpoint, TQDMProgressBar, LearningRateMonitor\n",
    "from pytorch_lightning.utilities.model_summary import ModelSummary\n",
    "import sfaira\n",
    "import pandas as pd\n",
    "import numpy as np\n",
    "import matplotlib.pyplot as plt\n",
    "import seaborn as sns\n",
    "import sys\n",
    "import yaml\n",
    "from pathlib import Path\n",
    "from math import ceil\n",
    "import os\n",
    "root = os.path.dirname(os.path.abspath(os.curdir))\n",
    "sys.path.append(root)"
   ]
  },
  {
   "cell_type": "code",
   "execution_count": 3,
   "id": "8202a76a-1384-4fca-a93e-243e2c43b132",
   "metadata": {},
   "outputs": [],
   "source": [
    "%autoreload\n",
    "# from scgm.models.estimators.base import EstimatorGM\n",
    "from scgm.models.generative_models.autoencoder import AutoEncoder\n",
    "from scgm.data.utils import get_estimator, get_model_checkpoint, get_train_val_test_split\n",
    "from sfairazero.estimators.torch.datamodules import SfairaDataModule"
   ]
  },
  {
   "cell_type": "markdown",
   "id": "a8e1b47d-fd16-4ed8-962c-0f0dffbc1444",
   "metadata": {},
   "source": [
    "### Explore MLP Autoencoder with sfairazero"
   ]
  },
  {
   "cell_type": "code",
   "execution_count": 6,
   "id": "dcebb3fb-0ba9-40d5-819f-65a82e011f92",
   "metadata": {},
   "outputs": [],
   "source": [
    "model_type = 'mlp'\n",
    "weight_decay = 0.0\n",
    "loss_func = 'MSE'\n",
    "batch_size = 4096  # To Do: increase this to get less noisy loss curves\n",
    "lr = 0.1\n",
    "RETRIEVAL_BATCH_SIZE = 35000\n",
    "SHUFFLE_BUFFER_SIZE = 15000\n",
    "version = 'Dummy'\n",
    "resume_from_checkpoint = None\n",
    "checkpoint_interval = 1\n",
    "batch_norm = True\n",
    "dropout = 0.25\n",
    "gain_weight_init_first_layer = 4.\n",
    "gain_weight_init = 0.75"
   ]
  },
  {
   "cell_type": "code",
   "execution_count": 8,
   "id": "b561ac0e-5407-45a7-a237-2e49c367db0d",
   "metadata": {},
   "outputs": [
    {
     "name": "stderr",
     "output_type": "stream",
     "text": [
      "Global seed set to 90\n"
     ]
    },
    {
     "name": "stdout",
     "output_type": "stream",
     "text": [
      "CUDA_VISIBLE_DEVICES: 0\n"
     ]
    },
    {
     "name": "stderr",
     "output_type": "stream",
     "text": [
      "GPU available: True (cuda), used: True\n",
      "TPU available: False, using: 0 TPU cores\n",
      "IPU available: False, using: 0 IPUs\n",
      "HPU available: False, using: 0 HPUs\n"
     ]
    }
   ],
   "source": [
    "# GET GPU AND ARGS\n",
    "if torch.cuda.is_available():\n",
    "    print(f'CUDA_VISIBLE_DEVICES: {os.environ[\"CUDA_VISIBLE_DEVICES\"]}')\n",
    "\n",
    "# GET HYPERPARAMETER\n",
    "if model_type == 'mlp':\n",
    "    hparams = yaml.safe_load(Path(root + '/scgm/models/generative_models/hparams_ae.yaml').read_text())\n",
    "    model_class = AutoEncoder  # maybe we need better variable names...\n",
    "else:\n",
    "    raise ValueError('Only MLP is implemented yet, TO DO: implement TabNet')\n",
    "\n",
    "# FIX SEED FOR REPRODUCIBILITY\n",
    "seed_everything(90)\n",
    "\n",
    "# CHECKPOINT HANDLING\n",
    "subfolder = model_type + '_' + version + \"/\"\n",
    "CHECKPOINT_PATH = root + \"/trained_models/autoencoder/\" \\\n",
    "                  + subfolder\n",
    "Path(CHECKPOINT_PATH).mkdir(parents=True, exist_ok=True)\n",
    "\n",
    "# GET ESTIMATOR\n",
    "estim = get_estimator()  # returns blank estimator without initializations\n",
    "\n",
    "estim.yield_cell_type=True\n",
    "estim.yield_organ=True\n",
    "estim.yield_assay_sc=True\n",
    "# estim.yield_dataset_id=True\n",
    "estim.yield_data_batch=True\n",
    "estim.yield_tech_sample=True\n",
    "\n",
    "\n",
    "estim.init_datamodule(\n",
    "    batch_size=batch_size,\n",
    "    validation_batch_size=batch_size,\n",
    "    retrieval_batch_size=RETRIEVAL_BATCH_SIZE,\n",
    "    shuffle_buffer=SHUFFLE_BUFFER_SIZE,\n",
    "    prefetch=ceil(RETRIEVAL_BATCH_SIZE / batch_size),\n",
    ")\n",
    "\n",
    "estim.init_trainer(\n",
    "    trainer_kwargs={\n",
    "        'max_epochs': 1000,\n",
    "        'gradient_clip_val': 1.,\n",
    "        'gradient_clip_algorithm': 'norm',\n",
    "        'default_root_dir': CHECKPOINT_PATH,\n",
    "        'resume_from_checkpoint': get_model_checkpoint(CHECKPOINT_PATH, resume_from_checkpoint),\n",
    "        'accelerator': 'gpu',\n",
    "        'devices': 1,\n",
    "        'num_sanity_val_steps': 0,\n",
    "        'check_val_every_n_epoch': 1,\n",
    "        'limit_train_batches': int(len(estim.datamodule.idx_train) / batch_size),\n",
    "        'limit_val_batches': int(len(estim.datamodule.idx_val) / batch_size),\n",
    "        'logger': [TensorBoardLogger(CHECKPOINT_PATH, name='default')],\n",
    "        'log_every_n_steps': 100,\n",
    "        'detect_anomaly': False,\n",
    "        'enable_progress_bar': True,\n",
    "        'enable_model_summary': False,\n",
    "        'enable_checkpointing': True,\n",
    "        'callbacks': [\n",
    "            TQDMProgressBar(refresh_rate=300),\n",
    "            LearningRateMonitor(logging_interval='step'),\n",
    "            # Save the model with the best training loss\n",
    "            ModelCheckpoint(filename='best_checkpoint_train', monitor='train_loss_epoch', mode='min',\n",
    "                            every_n_epochs=checkpoint_interval, save_top_k=1),\n",
    "            # Save the model with the best validation loss\n",
    "            ModelCheckpoint(filename='best_checkpoint_val', monitor='val_loss', mode='min',\n",
    "                            every_n_epochs=checkpoint_interval, save_top_k=1)\n",
    "        ],\n",
    "    }\n",
    ")\n",
    "\n",
    "estim.init_model(\n",
    "    model_type=model_type,\n",
    "    model_kwargs={\n",
    "    'units_encoder': hparams['units'],\n",
    "    'units_decoder': hparams['units'][::-1][1:],\n",
    "    }\n",
    ")"
   ]
  },
  {
   "cell_type": "code",
   "execution_count": 10,
   "id": "13bc5ae5-737f-412c-8afc-15f6bdd7ed6b",
   "metadata": {},
   "outputs": [
    {
     "name": "stderr",
     "output_type": "stream",
     "text": [
      "LOCAL_RANK: 0 - CUDA_VISIBLE_DEVICES: [0]\n"
     ]
    },
    {
     "data": {
      "application/vnd.jupyter.widget-view+json": {
       "model_id": "4e1f49e56fb04bd2a01cf738d62e8dae",
       "version_major": 2,
       "version_minor": 0
      },
      "text/plain": [
       "Finding best initial lr:   0%|          | 0/120 [00:00<?, ?it/s]"
      ]
     },
     "metadata": {},
     "output_type": "display_data"
    },
    {
     "name": "stderr",
     "output_type": "stream",
     "text": [
      "`Trainer.fit` stopped: `max_steps=120` reached.\n",
      "Restoring states from the checkpoint path at /home/icb/till.richter/git/scgm/trained_models/autoencoder/mlp_Dummy/.lr_find_3bd1e0db-4303-4f82-ae3b-95d805f6d519.ckpt\n"
     ]
    },
    {
     "name": "stdout",
     "output_type": "stream",
     "text": [
      "New lr:  0.03349654391578275\n"
     ]
    },
    {
     "data": {
      "image/png": "[encoded data removed]",
      "text/plain": [
       "<Figure size 640x480 with 1 Axes>"
      ]
     },
     "metadata": {},
     "output_type": "display_data"
    }
   ],
   "source": [
    "# Run learning rate finder\n",
    "lr_find_kwargs = {'early_stop_threshold': None, 'min_lr': 1e-8, 'max_lr': 10., 'num_training': 120}\n",
    "\n",
    "lr_finder = estim.trainer.tuner.lr_find(estim.model, estim.datamodule, **lr_find_kwargs)\n",
    "\n",
    "# Results can be found in\n",
    "lr_finder.results\n",
    "\n",
    "# Plot with\n",
    "fig = lr_finder.plot(suggest=True)\n",
    "# fig.savefig('lr_finder_' + model + '_' + contrastive_method + '_' + augment_type +\n",
    "#             str(augment_intensity) + '.jpg')\n",
    "\n",
    "# Pick point based on plot, or get suggestion\n",
    "new_lr = lr_finder.suggestion()\n",
    "print('New lr: ', new_lr)\n",
    "\n",
    "# update hparams of the model\n",
    "estim.model.hparams.lr = new_lr"
   ]
  },
  {
   "cell_type": "code",
   "execution_count": null,
   "id": "4f76ea41-db3c-4678-a1e6-31502404c176",
   "metadata": {},
   "outputs": [],
   "source": []
  }
 ],
 "metadata": {
  "kernelspec": {
   "display_name": "ss_env",
   "language": "python",
   "name": "ss_env"
  },
  "language_info": {
   "codemirror_mode": {
    "name": "ipython",
    "version": 3
   },
   "file_extension": ".py",
   "mimetype": "text/x-python",
   "name": "python",
   "nbconvert_exporter": "python",
   "pygments_lexer": "ipython3",
   "version": "3.8.15"
  }
 },
 "nbformat": 4,
 "nbformat_minor": 5
}
