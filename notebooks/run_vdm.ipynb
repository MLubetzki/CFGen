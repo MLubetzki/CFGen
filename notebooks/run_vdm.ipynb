{
 "cells": [
  {
   "cell_type": "code",
   "execution_count": 4,
   "id": "dc295e96",
   "metadata": {
    "scrolled": true
   },
   "outputs": [
    {
     "name": "stderr",
     "output_type": "stream",
     "text": [
      "/home/icb/alessandro.palma/miniconda3/envs/celldreamer/lib/python3.10/site-packages/scvi/_settings.py:63: UserWarning: Since v1.0.0, scvi-tools no longer uses a random seed by default. Run `scvi.settings.seed = 0` to reproduce results from previous versions.\n",
      "  self.seed = seed\n",
      "/home/icb/alessandro.palma/miniconda3/envs/celldreamer/lib/python3.10/site-packages/scvi/_settings.py:70: UserWarning: Setting `dl_pin_memory_gpu_training` is deprecated in v1.0 and will be removed in v1.1. Please pass in `pin_memory` to the data loaders instead.\n",
      "  self.dl_pin_memory_gpu_training = (\n"
     ]
    }
   ],
   "source": [
    "import os\n",
    "import scanpy as sc\n",
    "import numpy as np\n",
    "import pandas as pd\n",
    "import torch\n",
    "import yaml\n",
    "from celldreamer.paths import ROOT\n",
    "\n",
    "from celldreamer.estimator.celldreamer_estimator import CellDreamerEstimator\n",
    "from celldreamer.paths import DATA_DIR\n",
    "from celldreamer.data.utils import Args\n",
    "\n",
    "from pytorch_lightning.callbacks import ModelCheckpoint, LearningRateMonitor, TQDMProgressBar\n",
    "from pytorch_lightning.loggers import TensorBoardLogger\n",
    "from pytorch_lightning.utilities.model_summary import ModelSummary\n",
    "\n",
    "from scvi.distributions import NegativeBinomial\n",
    "import torch.nn.functional as F"
   ]
  },
  {
   "cell_type": "code",
   "execution_count": 2,
   "id": "cfbb1c47",
   "metadata": {},
   "outputs": [],
   "source": [
    "def tensor2adata(X, annot=None):\n",
    "    if annot is None:\n",
    "        adata = sc.AnnData(X=X.numpy())\n",
    "    else:\n",
    "        adata = sc.AnnData(X=X.numpy(),\n",
    "                       obs=annot)\n",
    "    sc.tl.pca(adata)\n",
    "    sc.pp.neighbors(adata)\n",
    "    sc.tl.umap(adata)\n",
    "    return adata"
   ]
  },
  {
   "cell_type": "markdown",
   "id": "9feba762",
   "metadata": {},
   "source": [
    "Read config"
   ]
  },
  {
   "cell_type": "code",
   "execution_count": 3,
   "id": "d5c99b2e",
   "metadata": {},
   "outputs": [],
   "source": [
    "config = yaml.safe_load(open(ROOT / \"configs/scrna_seq/config.yaml\", \n",
    "                            \"rb\"))\n",
    "args = Args(config[\"args\"]) "
   ]
  },
  {
   "cell_type": "markdown",
   "id": "17bd5b83",
   "metadata": {},
   "source": [
    "Initialize data"
   ]
  },
  {
   "cell_type": "code",
   "execution_count": 4,
   "id": "91ca1a1b",
   "metadata": {},
   "outputs": [
    {
     "name": "stdout",
     "output_type": "stream",
     "text": [
      "Create the training folders...\n",
      "Initialize data module...\n"
     ]
    },
    {
     "name": "stderr",
     "output_type": "stream",
     "text": [
      "/home/icb/alessandro.palma/miniconda3/envs/celldreamer/lib/python3.10/site-packages/anndata/_core/anndata.py:1830: UserWarning: Observation names are not unique. To make them unique, call `.obs_names_make_unique`.\n",
      "  utils.warn_names_duplicates(\"obs\")\n"
     ]
    },
    {
     "ename": "KeyError",
     "evalue": "'X_norm'",
     "output_type": "error",
     "traceback": [
      "\u001b[0;31m---------------------------------------------------------------------------\u001b[0m",
      "\u001b[0;31mKeyError\u001b[0m                                  Traceback (most recent call last)",
      "Cell \u001b[0;32mIn[4], line 1\u001b[0m\n\u001b[0;32m----> 1\u001b[0m estimator \u001b[38;5;241m=\u001b[39m \u001b[43mCellDreamerEstimator\u001b[49m\u001b[43m(\u001b[49m\u001b[43margs\u001b[49m\u001b[43m)\u001b[49m\n",
      "File \u001b[0;32m~/environment/celldreamer/celldreamer/estimator/celldreamer_estimator.py:37\u001b[0m, in \u001b[0;36mCellDreamerEstimator.__init__\u001b[0;34m(self, args)\u001b[0m\n\u001b[1;32m     34\u001b[0m \u001b[38;5;28mself\u001b[39m\u001b[38;5;241m.\u001b[39mdevice \u001b[38;5;241m=\u001b[39m \u001b[38;5;124m\"\u001b[39m\u001b[38;5;124mcuda\u001b[39m\u001b[38;5;124m\"\u001b[39m \u001b[38;5;28;01mif\u001b[39;00m torch\u001b[38;5;241m.\u001b[39mcuda\u001b[38;5;241m.\u001b[39mis_available() \u001b[38;5;28;01melse\u001b[39;00m \u001b[38;5;124m\"\u001b[39m\u001b[38;5;124mcpu\u001b[39m\u001b[38;5;124m\"\u001b[39m\n\u001b[1;32m     36\u001b[0m \u001b[38;5;28mprint\u001b[39m(\u001b[38;5;124m\"\u001b[39m\u001b[38;5;124mInitialize data module...\u001b[39m\u001b[38;5;124m\"\u001b[39m)\n\u001b[0;32m---> 37\u001b[0m \u001b[38;5;28;43mself\u001b[39;49m\u001b[38;5;241;43m.\u001b[39;49m\u001b[43minit_datamodule\u001b[49m\u001b[43m(\u001b[49m\u001b[43m)\u001b[49m  \u001b[38;5;66;03m# Initialize the data module  \u001b[39;00m\n\u001b[1;32m     38\u001b[0m \u001b[38;5;28mself\u001b[39m\u001b[38;5;241m.\u001b[39mget_fixed_rna_model_params()  \u001b[38;5;66;03m# Initialize the data derived model params \u001b[39;00m\n\u001b[1;32m     39\u001b[0m \u001b[38;5;28mself\u001b[39m\u001b[38;5;241m.\u001b[39minit_trainer()\n",
      "File \u001b[0;32m~/environment/celldreamer/celldreamer/estimator/celldreamer_estimator.py:52\u001b[0m, in \u001b[0;36mCellDreamerEstimator.init_datamodule\u001b[0;34m(self)\u001b[0m\n\u001b[1;32m     48\u001b[0m \u001b[38;5;250m\u001b[39m\u001b[38;5;124;03m\"\"\"\u001b[39;00m\n\u001b[1;32m     49\u001b[0m \u001b[38;5;124;03mInitialization of the data module\u001b[39;00m\n\u001b[1;32m     50\u001b[0m \u001b[38;5;124;03m\"\"\"\u001b[39;00m        \n\u001b[1;32m     51\u001b[0m \u001b[38;5;66;03m# Initialize dataloaders for the different tasks \u001b[39;00m\n\u001b[0;32m---> 52\u001b[0m \u001b[38;5;28mself\u001b[39m\u001b[38;5;241m.\u001b[39mdataset \u001b[38;5;241m=\u001b[39m \u001b[43mRNAseqLoader\u001b[49m\u001b[43m(\u001b[49m\u001b[43mdata_path\u001b[49m\u001b[38;5;241;43m=\u001b[39;49m\u001b[38;5;28;43mself\u001b[39;49m\u001b[38;5;241;43m.\u001b[39;49m\u001b[43mdata_path\u001b[49m\u001b[43m,\u001b[49m\n\u001b[1;32m     53\u001b[0m \u001b[43m                    \u001b[49m\u001b[43mcovariate_keys\u001b[49m\u001b[38;5;241;43m=\u001b[39;49m\u001b[38;5;28;43mself\u001b[39;49m\u001b[38;5;241;43m.\u001b[39;49m\u001b[43margs\u001b[49m\u001b[38;5;241;43m.\u001b[39;49m\u001b[43mcovariate_keys\u001b[49m\u001b[43m,\u001b[49m\n\u001b[1;32m     54\u001b[0m \u001b[43m                    \u001b[49m\u001b[43msubsample_frac\u001b[49m\u001b[38;5;241;43m=\u001b[39;49m\u001b[38;5;28;43mself\u001b[39;49m\u001b[38;5;241;43m.\u001b[39;49m\u001b[43margs\u001b[49m\u001b[38;5;241;43m.\u001b[39;49m\u001b[43msubsample_frac\u001b[49m\u001b[43m,\u001b[49m\u001b[43m \u001b[49m\n\u001b[1;32m     55\u001b[0m \u001b[43m                    \u001b[49m\u001b[43muse_pca\u001b[49m\u001b[38;5;241;43m=\u001b[39;49m\u001b[38;5;28;43mself\u001b[39;49m\u001b[38;5;241;43m.\u001b[39;49m\u001b[43margs\u001b[49m\u001b[38;5;241;43m.\u001b[39;49m\u001b[43muse_pca\u001b[49m\u001b[43m,\u001b[49m\u001b[43m \u001b[49m\n\u001b[1;32m     56\u001b[0m \u001b[43m                    \u001b[49m\u001b[43mn_dimensions\u001b[49m\u001b[38;5;241;43m=\u001b[39;49m\u001b[38;5;28;43mself\u001b[39;49m\u001b[38;5;241;43m.\u001b[39;49m\u001b[43margs\u001b[49m\u001b[38;5;241;43m.\u001b[39;49m\u001b[43mn_dimensions\u001b[49m\u001b[43m,\u001b[49m\u001b[43m \u001b[49m\n\u001b[1;32m     57\u001b[0m \u001b[43m                    \u001b[49m\u001b[43mlayer\u001b[49m\u001b[38;5;241;43m=\u001b[39;49m\u001b[38;5;28;43mself\u001b[39;49m\u001b[38;5;241;43m.\u001b[39;49m\u001b[43margs\u001b[49m\u001b[38;5;241;43m.\u001b[39;49m\u001b[43mlayer\u001b[49m\u001b[43m)\u001b[49m\n\u001b[1;32m     59\u001b[0m train_data, test_data, valid_data \u001b[38;5;241m=\u001b[39m random_split(\u001b[38;5;28mself\u001b[39m\u001b[38;5;241m.\u001b[39mdataset, lengths\u001b[38;5;241m=\u001b[39m\u001b[38;5;28mself\u001b[39m\u001b[38;5;241m.\u001b[39margs\u001b[38;5;241m.\u001b[39msplit_rates)\n\u001b[1;32m     60\u001b[0m \u001b[38;5;28mself\u001b[39m\u001b[38;5;241m.\u001b[39mdatamodule \u001b[38;5;241m=\u001b[39m Args({\u001b[38;5;124m\"\u001b[39m\u001b[38;5;124mtrain_dataloader\u001b[39m\u001b[38;5;124m\"\u001b[39m: torch\u001b[38;5;241m.\u001b[39mutils\u001b[38;5;241m.\u001b[39mdata\u001b[38;5;241m.\u001b[39mDataLoader(\n\u001b[1;32m     61\u001b[0m                                             train_data,\n\u001b[1;32m     62\u001b[0m                                             batch_size\u001b[38;5;241m=\u001b[39m\u001b[38;5;28mself\u001b[39m\u001b[38;5;241m.\u001b[39margs\u001b[38;5;241m.\u001b[39mbatch_size,\n\u001b[0;32m   (...)\u001b[0m\n\u001b[1;32m     76\u001b[0m                                             num_workers\u001b[38;5;241m=\u001b[39m\u001b[38;5;241m8\u001b[39m\n\u001b[1;32m     77\u001b[0m                         )})\n",
      "File \u001b[0;32m~/environment/celldreamer/celldreamer/data/scrnaseq_loader.py:27\u001b[0m, in \u001b[0;36mRNAseqLoader.__init__\u001b[0;34m(self, data_path, covariate_keys, subsample_frac, use_pca, n_dimensions, layer)\u001b[0m\n\u001b[1;32m     25\u001b[0m     \u001b[38;5;28mself\u001b[39m\u001b[38;5;241m.\u001b[39mgenes \u001b[38;5;241m=\u001b[39m torch\u001b[38;5;241m.\u001b[39mTensor(data\u001b[38;5;241m.\u001b[39mobsm[\u001b[38;5;124m\"\u001b[39m\u001b[38;5;124mX_pca\u001b[39m\u001b[38;5;124m\"\u001b[39m])[:, :n_dimensions]\n\u001b[1;32m     26\u001b[0m \u001b[38;5;28;01melse\u001b[39;00m:\n\u001b[0;32m---> 27\u001b[0m     \u001b[38;5;28mself\u001b[39m\u001b[38;5;241m.\u001b[39mgenes \u001b[38;5;241m=\u001b[39m torch\u001b[38;5;241m.\u001b[39mTensor(\u001b[43mdata\u001b[49m\u001b[38;5;241;43m.\u001b[39;49m\u001b[43mlayers\u001b[49m\u001b[43m[\u001b[49m\u001b[43mlayer\u001b[49m\u001b[43m]\u001b[49m\u001b[38;5;241m.\u001b[39mA)\n\u001b[1;32m     29\u001b[0m \u001b[38;5;66;03m# Covariate to index\u001b[39;00m\n\u001b[1;32m     30\u001b[0m \u001b[38;5;28mself\u001b[39m\u001b[38;5;241m.\u001b[39mid2cov \u001b[38;5;241m=\u001b[39m {}\n",
      "File \u001b[0;32m~/miniconda3/envs/celldreamer/lib/python3.10/site-packages/anndata/_core/aligned_mapping.py:178\u001b[0m, in \u001b[0;36mAlignedActualMixin.__getitem__\u001b[0;34m(self, key)\u001b[0m\n\u001b[1;32m    177\u001b[0m \u001b[38;5;28;01mdef\u001b[39;00m \u001b[38;5;21m__getitem__\u001b[39m(\u001b[38;5;28mself\u001b[39m, key: \u001b[38;5;28mstr\u001b[39m) \u001b[38;5;241m-\u001b[39m\u001b[38;5;241m>\u001b[39m V:\n\u001b[0;32m--> 178\u001b[0m     \u001b[38;5;28;01mreturn\u001b[39;00m \u001b[38;5;28;43mself\u001b[39;49m\u001b[38;5;241;43m.\u001b[39;49m\u001b[43m_data\u001b[49m\u001b[43m[\u001b[49m\u001b[43mkey\u001b[49m\u001b[43m]\u001b[49m\n",
      "\u001b[0;31mKeyError\u001b[0m: 'X_norm'"
     ]
    }
   ],
   "source": [
    "estimator = CellDreamerEstimator(args)"
   ]
  },
  {
   "cell_type": "code",
   "execution_count": null,
   "id": "85e8a7a8",
   "metadata": {},
   "outputs": [],
   "source": [
    "# estimator.train()"
   ]
  },
  {
   "cell_type": "code",
   "execution_count": null,
   "id": "a125f4ae",
   "metadata": {},
   "outputs": [],
   "source": [
    "estimator.generative_model.load_state_dict(torch.load(\"/nfs/homedirs/pala/celldreamer/project_dir/try_experiment_eb/checkpoints/epoch_132.ckpt\")[\"state_dict\"])"
   ]
  },
  {
   "cell_type": "markdown",
   "id": "c65deba8",
   "metadata": {},
   "source": [
    "Collect the batches "
   ]
  },
  {
   "cell_type": "code",
   "execution_count": null,
   "id": "4cc64f76",
   "metadata": {},
   "outputs": [],
   "source": [
    "real_data = []\n",
    "annot = []\n",
    " \n",
    "for batch in estimator.datamodule.train_dataloader:\n",
    "    real_data.append(batch[\"X\"])\n",
    "    annot.append(batch[\"y\"][\"y_experimental_time\"])\n",
    "\n",
    "real_data = torch.cat(real_data, dim=0) \n",
    "annot = pd.DataFrame(torch.cat(annot))\n",
    "annot.columns = [\"experimental_time\"]"
   ]
  },
  {
   "cell_type": "code",
   "execution_count": null,
   "id": "f269a5d6",
   "metadata": {},
   "outputs": [],
   "source": [
    "adata_real = tensor2adata(real_data, annot)"
   ]
  },
  {
   "cell_type": "code",
   "execution_count": null,
   "id": "86700a47",
   "metadata": {},
   "outputs": [],
   "source": [
    "sc.pl.umap(adata_real, color=\"experimental_time\")"
   ]
  },
  {
   "cell_type": "markdown",
   "id": "4c5f68d7",
   "metadata": {},
   "source": [
    "Sampling"
   ]
  },
  {
   "cell_type": "code",
   "execution_count": null,
   "id": "7abde7e5",
   "metadata": {
    "scrolled": true
   },
   "outputs": [],
   "source": [
    "fake_data = []\n",
    "zs = []\n",
    "\n",
    "for i in range(20):\n",
    "    sample, z = estimator.generative_model.sample(20, \n",
    "                                       n_sample_steps=100, \n",
    "                                       clip_samples=False, library_size=1e3)\n",
    "    fake_data.append(sample.to(\"cpu\"))\n",
    "    zs.append(z.to(\"cpu\"))"
   ]
  },
  {
   "cell_type": "code",
   "execution_count": null,
   "id": "95bad191",
   "metadata": {},
   "outputs": [],
   "source": [
    "fake_data = torch.cat(fake_data, dim=0)"
   ]
  },
  {
   "cell_type": "code",
   "execution_count": null,
   "id": "17a91ec2",
   "metadata": {
    "scrolled": true
   },
   "outputs": [],
   "source": [
    "fake_data.sum(1)"
   ]
  },
  {
   "cell_type": "code",
   "execution_count": null,
   "id": "8c9393bf",
   "metadata": {},
   "outputs": [],
   "source": [
    "adata_fake = tensor2adata(fake_data, annot=None)"
   ]
  },
  {
   "cell_type": "code",
   "execution_count": null,
   "id": "edf66f37",
   "metadata": {},
   "outputs": [],
   "source": [
    "sc.pl.umap(adata_fake)"
   ]
  },
  {
   "cell_type": "code",
   "execution_count": null,
   "id": "b616a288",
   "metadata": {},
   "outputs": [],
   "source": [
    "z"
   ]
  },
  {
   "cell_type": "markdown",
   "id": "a31c7e84",
   "metadata": {},
   "source": [
    "Match matrices together"
   ]
  },
  {
   "cell_type": "code",
   "execution_count": null,
   "id": "fc0ff97c",
   "metadata": {},
   "outputs": [],
   "source": [
    "real_and_fake_data = torch.cat([real_data, fake_data], dim=0)"
   ]
  },
  {
   "cell_type": "code",
   "execution_count": null,
   "id": "6ce97b62",
   "metadata": {},
   "outputs": [],
   "source": [
    "real_and_fake_data"
   ]
  },
  {
   "cell_type": "code",
   "execution_count": null,
   "id": "ed8b4551",
   "metadata": {},
   "outputs": [],
   "source": [
    "annot = [\"true\" for _ in range(len(real_data))] + [\"fake\" for _ in range(len(fake_data))]\n",
    "annot = pd.DataFrame(annot)\n",
    "annot.columns = [\"Dataset\"]\n",
    "adata_real_and_fake = tensor2adata(real_and_fake_data, annot)"
   ]
  },
  {
   "cell_type": "code",
   "execution_count": null,
   "id": "eef8049a",
   "metadata": {},
   "outputs": [],
   "source": [
    "sc.pl.umap(adata_real_and_fake, color=\"Dataset\")"
   ]
  },
  {
   "cell_type": "code",
   "execution_count": null,
   "id": "0ce98e4f",
   "metadata": {},
   "outputs": [],
   "source": [
    "fake_data.sum(1).max()"
   ]
  },
  {
   "cell_type": "code",
   "execution_count": null,
   "id": "aa7f8d95",
   "metadata": {},
   "outputs": [],
   "source": [
    "for i in fake_data.sum(1):\n",
    "    print(i)"
   ]
  },
  {
   "cell_type": "markdown",
   "id": "72bf5407",
   "metadata": {},
   "source": [
    "Check encoder training"
   ]
  },
  {
   "cell_type": "code",
   "execution_count": null,
   "id": "3c58329e",
   "metadata": {},
   "outputs": [],
   "source": [
    "fake_data_from_z0 = []\n",
    "annot_from_z0 = []\n",
    "\n",
    "for batch in estimator.datamodule.train_dataloader:\n",
    "    library_size = batch[\"X\"].sum(1)\n",
    "    z0 = estimator.generative_model.z0_from_x(estimator.generative_model._scale_batch(batch[\"X\"]))\n",
    "    z0_softmax = F.softmax(z0, dim=1)\n",
    "    distr = NegativeBinomial(mu=library_size.unsqueeze(1)*z0_softmax, \n",
    "                             theta=torch.exp(estimator.generative_model.theta))\n",
    "    fake_data_from_z0.append(distr.sample())\n",
    "    annot_from_z0.append(batch[\"y\"][\"y_experimental_time\"])\n",
    "\n",
    "fake_data_from_z0 = torch.cat(fake_data_from_z0, dim=0) \n",
    "annot_from_z0 = pd.DataFrame(torch.cat(annot_from_z0))\n",
    "annot_from_z0.columns = [\"experimental_time\"]"
   ]
  },
  {
   "cell_type": "code",
   "execution_count": null,
   "id": "f6ab742b",
   "metadata": {},
   "outputs": [],
   "source": [
    "fake_data_from_z0"
   ]
  },
  {
   "cell_type": "code",
   "execution_count": null,
   "id": "e0e611b5",
   "metadata": {},
   "outputs": [],
   "source": [
    "estimator.generative_model.z0_from_x"
   ]
  },
  {
   "cell_type": "code",
   "execution_count": null,
   "id": "446fe16c",
   "metadata": {},
   "outputs": [],
   "source": [
    "estimator.generative_model.z0_from_x(estimator.generative_model._scale_batch(batch[\"X\"]))"
   ]
  },
  {
   "cell_type": "code",
   "execution_count": null,
   "id": "1a04fc3b",
   "metadata": {},
   "outputs": [],
   "source": [
    "F.softmax(estimator.generative_model.z0_from_x(torch.log(1+batch[\"X\"])), dim=1)"
   ]
  },
  {
   "cell_type": "code",
   "execution_count": null,
   "id": "458fb05e",
   "metadata": {},
   "outputs": [],
   "source": [
    "real_and_fake_data = torch.cat([real_data, fake_data_from_z0], dim=0)"
   ]
  },
  {
   "cell_type": "code",
   "execution_count": null,
   "id": "6da170a6",
   "metadata": {},
   "outputs": [],
   "source": [
    "annot = [\"true\" for _ in range(len(real_data))] + [\"fake\" for _ in range(len(fake_data_from_z0))]\n",
    "annot = pd.DataFrame(annot)\n",
    "annot.columns = [\"Dataset\"]\n",
    "adata_real_and_fake = tensor2adata(real_and_fake_data, annot)"
   ]
  },
  {
   "cell_type": "code",
   "execution_count": null,
   "id": "ff5ded17",
   "metadata": {},
   "outputs": [],
   "source": [
    "sc.pl.umap(adata_real_and_fake, color=\"Dataset\")"
   ]
  },
  {
   "cell_type": "code",
   "execution_count": null,
   "id": "d3b873cd",
   "metadata": {},
   "outputs": [],
   "source": [
    "adata_real_and_fake.X.sum(1).mean()"
   ]
  },
  {
   "cell_type": "code",
   "execution_count": null,
   "id": "3b2de6d0",
   "metadata": {},
   "outputs": [],
   "source": [
    "adata_real.X.sum(1)"
   ]
  },
  {
   "cell_type": "code",
   "execution_count": 5,
   "id": "3dc53afd",
   "metadata": {},
   "outputs": [
    {
     "name": "stderr",
     "output_type": "stream",
     "text": [
      "/home/icb/alessandro.palma/miniconda3/envs/celldreamer/lib/python3.10/site-packages/anndata/_core/anndata.py:1830: UserWarning: Observation names are not unique. To make them unique, call `.obs_names_make_unique`.\n",
      "  utils.warn_names_duplicates(\"obs\")\n"
     ]
    }
   ],
   "source": [
    "adata = sc.read_h5ad(\"/home/icb/alessandro.palma/environment/celldreamer/datasets/scrnaseq_dataset/eb_phate.h5ad\")"
   ]
  },
  {
   "cell_type": "code",
   "execution_count": null,
   "id": "cdfbf74e",
   "metadata": {},
   "outputs": [],
   "source": []
  }
 ],
 "metadata": {
  "kernelspec": {
   "display_name": "Python 3 (ipykernel)",
   "language": "python",
   "name": "python3"
  },
  "language_info": {
   "codemirror_mode": {
    "name": "ipython",
    "version": 3
   },
   "file_extension": ".py",
   "mimetype": "text/x-python",
   "name": "python",
   "nbconvert_exporter": "python",
   "pygments_lexer": "ipython3",
   "version": "3.10.11"
  }
 },
 "nbformat": 4,
 "nbformat_minor": 5
}
