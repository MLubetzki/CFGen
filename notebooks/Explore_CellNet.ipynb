{
 "cells": [
  {
   "cell_type": "markdown",
   "id": "986a62ea-cbe8-4fb8-8f61-dfe5139adf49",
   "metadata": {},
   "source": [
    "### Imports"
   ]
  },
  {
   "cell_type": "code",
   "execution_count": 1,
   "id": "2650c2de-cfa2-494d-a074-ee950000f22a",
   "metadata": {},
   "outputs": [],
   "source": [
    "%load_ext autoreload"
   ]
  },
  {
   "cell_type": "code",
   "execution_count": 2,
   "id": "7af21903-b5ab-4e95-ab1c-46bf12249c00",
   "metadata": {},
   "outputs": [],
   "source": [
    "import os\n",
    "import seaborn as sns\n",
    "import torch\n",
    "from pytorch_lightning.callbacks import ModelCheckpoint, LearningRateMonitor, TQDMProgressBar\n",
    "from pytorch_lightning.loggers import TensorBoardLogger\n",
    "from pytorch_lightning.utilities.model_summary import ModelSummary\n",
    "from lightning_fabric.utilities.seed import seed_everything"
   ]
  },
  {
   "cell_type": "code",
   "execution_count": 3,
   "id": "8202a76a-1384-4fca-a93e-243e2c43b132",
   "metadata": {},
   "outputs": [],
   "source": [
    "%autoreload\n",
    "from celldreamer.estimator.estimator import EstimatorAutoEncoder"
   ]
  },
  {
   "cell_type": "code",
   "execution_count": 4,
   "id": "830c4ab5-5a05-4656-a98f-8708f29d56b0",
   "metadata": {},
   "outputs": [],
   "source": [
    "# config parameters\n",
    "MODEL = 'cellnet'\n",
    "root = os.path.dirname(os.path.abspath(os.getcwd()))\n",
    "CHECKPOINT_PATH = os.path.join(root, 'trained_models/tb_logs', MODEL)\n",
    "LOGS_PATH = os.path.join(root, 'trained_models/tb_logs', MODEL)\n",
    "DATA_PATH = '/lustre/scratch/users/felix.fischer/merlin_cxg_norm_parquet'"
   ]
  },
  {
   "cell_type": "markdown",
   "id": "a8e1b47d-fd16-4ed8-962c-0f0dffbc1444",
   "metadata": {},
   "source": [
    "### Explore MLP Autoencoder with CellNet"
   ]
  },
  {
   "cell_type": "code",
   "execution_count": 5,
   "id": "41471115-8e8f-4553-9662-fc544293fda4",
   "metadata": {},
   "outputs": [
    {
     "name": "stderr",
     "output_type": "stream",
     "text": [
      "[rank: 0] Global seed set to 1\n"
     ]
    },
    {
     "data": {
      "text/plain": [
       "1"
      ]
     },
     "execution_count": 5,
     "metadata": {},
     "output_type": "execute_result"
    }
   ],
   "source": [
    "estim = EstimatorAutoEncoder(DATA_PATH)\n",
    "seed_everything(1)"
   ]
  },
  {
   "cell_type": "code",
   "execution_count": 6,
   "id": "f6d2b89a-f824-4228-bcb4-490e26b5a514",
   "metadata": {},
   "outputs": [],
   "source": [
    "estim.init_datamodule(batch_size=4096)"
   ]
  },
  {
   "cell_type": "code",
   "execution_count": 7,
   "id": "69398ec3-aba3-4e0e-81af-f157db70e80d",
   "metadata": {},
   "outputs": [
    {
     "name": "stderr",
     "output_type": "stream",
     "text": [
      "GPU available: True (cuda), used: True\n",
      "TPU available: False, using: 0 TPU cores\n",
      "IPU available: False, using: 0 IPUs\n",
      "HPU available: False, using: 0 HPUs\n"
     ]
    }
   ],
   "source": [
    "estim.init_trainer(\n",
    "    trainer_kwargs={\n",
    "        'max_epochs': 1000,\n",
    "        'gradient_clip_val': 1.,\n",
    "        'gradient_clip_algorithm': 'norm',\n",
    "        'default_root_dir': CHECKPOINT_PATH,\n",
    "        'accelerator': 'gpu',\n",
    "        'devices': 1,\n",
    "        'num_sanity_val_steps': 0,\n",
    "        'check_val_every_n_epoch': 1,\n",
    "        'logger': [TensorBoardLogger(LOGS_PATH, name='default')],\n",
    "        'log_every_n_steps': 100,\n",
    "        'detect_anomaly': False,\n",
    "        'enable_progress_bar': True,\n",
    "        'enable_model_summary': False,\n",
    "        'enable_checkpointing': True,\n",
    "        'callbacks': [\n",
    "            TQDMProgressBar(refresh_rate=100),\n",
    "            LearningRateMonitor(logging_interval='step'),\n",
    "            ModelCheckpoint(filename='best_train_loss', monitor='train_loss_epoch', mode='min',\n",
    "                            every_n_epochs=1, save_top_k=1),\n",
    "            ModelCheckpoint(filename='best_val_loss', monitor='val_loss', mode='min',\n",
    "                            every_n_epochs=1, save_top_k=1)\n",
    "        ],\n",
    "    }\n",
    ")"
   ]
  },
  {
   "cell_type": "code",
   "execution_count": 8,
   "id": "4f76ea41-db3c-4678-a1e6-31502404c176",
   "metadata": {},
   "outputs": [],
   "source": [
    "estim.init_model(\n",
    "    model_type='mlp',\n",
    "    model_kwargs={\n",
    "        'learning_rate': 0.005,\n",
    "        'weight_decay': 0.1,\n",
    "        'lr_scheduler': torch.optim.lr_scheduler.StepLR,\n",
    "        'units_encoder': [512, 512, 256, 256, 64],\n",
    "        'units_decoder': [64, 256, 256, 512, 512],\n",
    "        'lr_scheduler_kwargs': {\n",
    "            'step_size': 2,\n",
    "            'gamma': 0.9,\n",
    "            'verbose': True\n",
    "        },\n",
    "        'optimizer': torch.optim.AdamW,\n",
    "    },\n",
    ")"
   ]
  },
  {
   "cell_type": "code",
   "execution_count": 9,
   "id": "22b147d1-3c73-4c31-aca4-14d2c963f6e9",
   "metadata": {},
   "outputs": [
    {
     "name": "stdout",
     "output_type": "stream",
     "text": [
      "  | Name          | Type             | Params\n",
      "---------------------------------------------------\n",
      "0 | train_metrics | MetricCollection | 0     \n",
      "1 | val_metrics   | MetricCollection | 0     \n",
      "2 | test_metrics  | MetricCollection | 0     \n",
      "3 | encoder       | MLP              | 10.4 M\n",
      "4 | decoder       | Sequential       | 10.4 M\n",
      "---------------------------------------------------\n",
      "20.8 M    Trainable params\n",
      "0         Non-trainable params\n",
      "20.8 M    Total params\n",
      "83.219    Total estimated model params size (MB)\n"
     ]
    }
   ],
   "source": [
    "print(ModelSummary(estim.model))"
   ]
  },
  {
   "cell_type": "markdown",
   "id": "3b07b3ac-26fa-4f62-8f14-19c81358d0f0",
   "metadata": {},
   "source": [
    "### Find learning rate"
   ]
  },
  {
   "cell_type": "code",
   "execution_count": 10,
   "id": "1c243d96-defa-41cc-bfde-abecf0e3c21b",
   "metadata": {},
   "outputs": [
    {
     "name": "stderr",
     "output_type": "stream",
     "text": [
      "LOCAL_RANK: 0 - CUDA_VISIBLE_DEVICES: [0]\n"
     ]
    },
    {
     "name": "stdout",
     "output_type": "stream",
     "text": [
      "Adjusting learning rate of group 0 to 5.0000e-03.\n"
     ]
    },
    {
     "name": "stderr",
     "output_type": "stream",
     "text": [
      "Finding best initial lr:  62%|████████████████████████████████████████████████████████████████████████████████████████████████████████▏                                                                | 74/120 [00:33<00:21,  2.18it/s]\n",
      "LR finder stopped early after 74 steps due to diverging loss.\n",
      "Restoring states from the checkpoint path at /home/icb/till.richter/git/celldreamer/trained_models/tb_logs/cellnet/.lr_find_f45b98b4-2172-412b-a961-6c647f23c168.ckpt\n",
      "Restored all states from the checkpoint file at /home/icb/till.richter/git/celldreamer/trained_models/tb_logs/cellnet/.lr_find_f45b98b4-2172-412b-a961-6c647f23c168.ckpt\n"
     ]
    }
   ],
   "source": [
    "lr_find_res = estim.find_lr(\n",
    "    lr_find_kwargs={'early_stop_threshold': 10., \n",
    "                    'min_lr': 1e-8, \n",
    "                    'max_lr': 10., \n",
    "                    # 'cpkt_path': '/home/icb/till.richter/git/celldreamer/trained_models',\n",
    "                    'num_training': 120})"
   ]
  },
  {
   "cell_type": "code",
   "execution_count": 11,
   "id": "69b9b9da-8df6-4d74-9132-a55d7646694a",
   "metadata": {},
   "outputs": [
    {
     "name": "stdout",
     "output_type": "stream",
     "text": [
      "Suggested learning rate: 0.0029853826189179563\n"
     ]
    },
    {
     "data": {
      "image/png": "[encoded data removed]",
      "text/plain": [
       "<Figure size 640x480 with 1 Axes>"
      ]
     },
     "metadata": {},
     "output_type": "display_data"
    }
   ],
   "source": [
    "ax = sns.lineplot(x=lr_find_res[1]['lr'], y=lr_find_res[1]['loss'])\n",
    "ax.set_xscale('log')\n",
    "# ax.set_ylim(12., top=20.)\n",
    "# ax.set_xlim(1e-6, 10.)\n",
    "print(f'Suggested learning rate: {lr_find_res[0]}')"
   ]
  },
  {
   "cell_type": "markdown",
   "id": "4b10e6ad-c9ff-4985-a8e4-fcca9e79ce89",
   "metadata": {},
   "source": [
    "### Train"
   ]
  },
  {
   "cell_type": "code",
   "execution_count": 12,
   "id": "adac7a5f-b9cc-41ba-a06a-8df4e30091f5",
   "metadata": {
    "tags": []
   },
   "outputs": [],
   "source": [
    "# Train takes a while, but this is how it's called in a script:\n",
    "# estim.train()"
   ]
  }
 ],
 "metadata": {
  "kernelspec": {
   "display_name": "Python [conda env:celldreamer]",
   "language": "python",
   "name": "celldreamer"
  },
  "language_info": {
   "codemirror_mode": {
    "name": "ipython",
    "version": 3
   },
   "file_extension": ".py",
   "mimetype": "text/x-python",
   "name": "python",
   "nbconvert_exporter": "python",
   "pygments_lexer": "ipython3",
   "version": "3.9.16"
  }
 },
 "nbformat": 4,
 "nbformat_minor": 5
}
