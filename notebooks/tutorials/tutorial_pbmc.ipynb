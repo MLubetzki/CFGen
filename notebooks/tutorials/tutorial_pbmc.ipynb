{
 "cells": [
  {
   "cell_type": "code",
   "execution_count": 1,
   "id": "c1373949",
   "metadata": {},
   "outputs": [],
   "source": [
    "import os\n",
    "import scanpy as sc\n",
    "import numpy as np\n",
    "import pandas as pd\n",
    "import torch\n",
    "import yaml\n",
    "from celldreamer.paths import ROOT\n",
    "from celldreamer.estimator.celldreamer_estimator import CellDreamerEstimator\n",
    "from celldreamer.paths import DATA_DIR\n",
    "from celldreamer.data.utils import Args\n",
    "\n",
    "from pytorch_lightning.callbacks import ModelCheckpoint, LearningRateMonitor, TQDMProgressBar\n",
    "from pytorch_lightning.loggers import TensorBoardLogger\n",
    "from pytorch_lightning.utilities.model_summary import ModelSummary"
   ]
  },
  {
   "cell_type": "code",
   "execution_count": 2,
   "id": "cc6b23c4",
   "metadata": {},
   "outputs": [
    {
     "name": "stdout",
     "output_type": "stream",
     "text": [
      "/nfs/homedirs/pala/celldreamer\n"
     ]
    }
   ],
   "source": [
    "cd $ROOT"
   ]
  },
  {
   "cell_type": "code",
   "execution_count": 3,
   "id": "2b5a4698",
   "metadata": {},
   "outputs": [],
   "source": [
    "config = yaml.safe_load(open(ROOT / \"configs/scrnaseq/config_ddpm.yaml\", \n",
    "                            \"rb\"))"
   ]
  },
  {
   "cell_type": "code",
   "execution_count": 4,
   "id": "a16fe966",
   "metadata": {},
   "outputs": [],
   "source": [
    "args_pert = Args(config[\"args\"])"
   ]
  },
  {
   "cell_type": "code",
   "execution_count": 5,
   "id": "a4a35736",
   "metadata": {},
   "outputs": [
    {
     "name": "stdout",
     "output_type": "stream",
     "text": [
      "Create the training folders...\n",
      "Initialize data module...\n"
     ]
    },
    {
     "name": "stderr",
     "output_type": "stream",
     "text": [
      "/nfs/staff-ssd/pala/envs/celldreamer/lib/python3.10/site-packages/anndata/compat/__init__.py:229: FutureWarning: Moving element from .uns['neighbors']['distances'] to .obsp['distances'].\n",
      "\n",
      "This is where adjacency matrices should go now.\n",
      "  warn(\n",
      "/nfs/staff-ssd/pala/envs/celldreamer/lib/python3.10/site-packages/anndata/compat/__init__.py:229: FutureWarning: Moving element from .uns['neighbors']['connectivities'] to .obsp['connectivities'].\n",
      "\n",
      "This is where adjacency matrices should go now.\n",
      "  warn(\n",
      "/nfs/staff-ssd/pala/envs/celldreamer/lib/python3.10/site-packages/torch/utils/data/dataloader.py:560: UserWarning: This DataLoader will create 8 worker processes in total. Our suggested max number of worker in current system is 2, which is smaller than what this DataLoader is going to create. Please be aware that excessive worker creation might get DataLoader running slow or even freeze, lower the worker number to avoid potential slowness/freeze if necessary.\n",
      "  warnings.warn(_create_warning_msg(\n",
      "Failed to detect the name of this notebook, you can set it manually with the WANDB_NOTEBOOK_NAME environment variable to enable code saving.\n",
      "\u001b[34m\u001b[1mwandb\u001b[0m: \u001b[33mWARNING\u001b[0m `resume` will be ignored since W&B syncing is set to `offline`. Starting a new run with run id sz2k5q0x.\n"
     ]
    },
    {
     "data": {
      "text/html": [
       "Tracking run with wandb version 0.15.4"
      ],
      "text/plain": [
       "<IPython.core.display.HTML object>"
      ]
     },
     "metadata": {},
     "output_type": "display_data"
    },
    {
     "data": {
      "text/html": [
       "W&B syncing is set to <code>`offline`<code> in this directory.  <br/>Run <code>`wandb online`<code> or set <code>WANDB_MODE=online<code> to enable cloud syncing."
      ],
      "text/plain": [
       "<IPython.core.display.HTML object>"
      ]
     },
     "metadata": {},
     "output_type": "display_data"
    },
    {
     "name": "stderr",
     "output_type": "stream",
     "text": [
      "/nfs/staff-ssd/pala/envs/celldreamer/lib/python3.10/site-packages/lightning_fabric/plugins/environments/slurm.py:165: PossibleUserWarning: The `srun` command is available on your system but is not used. HINT: If your intention is to run Lightning on SLURM, prepend your python command with `srun` like so: srun python /nfs/staff-ssd/pala/envs/celldreamer/lib/python3.10/ ...\n",
      "  rank_zero_warn(\n",
      "GPU available: True (cuda), used: True\n",
      "TPU available: False, using: 0 TPU cores\n",
      "IPU available: False, using: 0 IPUs\n",
      "HPU available: False, using: 0 HPUs\n"
     ]
    },
    {
     "name": "stdout",
     "output_type": "stream",
     "text": [
      "Initialize feature embeddings...\n",
      "Initialize model...\n"
     ]
    }
   ],
   "source": [
    "estimator = CellDreamerEstimator(args_pert)"
   ]
  },
  {
   "cell_type": "code",
   "execution_count": 6,
   "id": "1145dda7",
   "metadata": {
    "scrolled": true
   },
   "outputs": [
    {
     "name": "stderr",
     "output_type": "stream",
     "text": [
      "/nfs/staff-ssd/pala/envs/celldreamer/lib/python3.10/site-packages/lightning_fabric/plugins/environments/slurm.py:165: PossibleUserWarning: The `srun` command is available on your system but is not used. HINT: If your intention is to run Lightning on SLURM, prepend your python command with `srun` like so: srun python /nfs/staff-ssd/pala/envs/celldreamer/lib/python3.10/ ...\n",
      "  rank_zero_warn(\n",
      "/nfs/staff-ssd/pala/envs/celldreamer/lib/python3.10/site-packages/pytorch_lightning/callbacks/model_checkpoint.py:615: UserWarning: Checkpoint directory /nfs/students/pala/celldreamer/try_experiment_pbmc/checkpoints exists and is not empty.\n",
      "  rank_zero_warn(f\"Checkpoint directory {dirpath} exists and is not empty.\")\n",
      "LOCAL_RANK: 0 - CUDA_VISIBLE_DEVICES: [0]\n",
      "\n",
      "  | Name            | Type        | Params\n",
      "------------------------------------------------\n",
      "0 | denoising_model | MLPTimeStep | 1.1 M \n",
      "1 | mse             | MSELoss     | 0     \n",
      "------------------------------------------------\n",
      "1.1 M     Trainable params\n",
      "0         Non-trainable params\n",
      "1.1 M     Total params\n",
      "4.436     Total estimated model params size (MB)\n"
     ]
    },
    {
     "data": {
      "application/vnd.jupyter.widget-view+json": {
       "model_id": "",
       "version_major": 2,
       "version_minor": 0
      },
      "text/plain": [
       "Sanity Checking: 0it [00:00, ?it/s]"
      ]
     },
     "metadata": {},
     "output_type": "display_data"
    },
    {
     "name": "stderr",
     "output_type": "stream",
     "text": [
      "/nfs/staff-ssd/pala/envs/celldreamer/lib/python3.10/site-packages/torch/utils/data/dataloader.py:560: UserWarning: This DataLoader will create 8 worker processes in total. Our suggested max number of worker in current system is 2, which is smaller than what this DataLoader is going to create. Please be aware that excessive worker creation might get DataLoader running slow or even freeze, lower the worker number to avoid potential slowness/freeze if necessary.\n",
      "  warnings.warn(_create_warning_msg(\n"
     ]
    },
    {
     "data": {
      "application/vnd.jupyter.widget-view+json": {
       "model_id": "73a8e9b7df8542ea8b2c597d6a7f76da",
       "version_major": 2,
       "version_minor": 0
      },
      "text/plain": [
       "Training: 0it [00:00, ?it/s]"
      ]
     },
     "metadata": {},
     "output_type": "display_data"
    },
    {
     "data": {
      "application/vnd.jupyter.widget-view+json": {
       "model_id": "",
       "version_major": 2,
       "version_minor": 0
      },
      "text/plain": [
       "Validation: 0it [00:00, ?it/s]"
      ]
     },
     "metadata": {},
     "output_type": "display_data"
    },
    {
     "data": {
      "application/vnd.jupyter.widget-view+json": {
       "model_id": "",
       "version_major": 2,
       "version_minor": 0
      },
      "text/plain": [
       "Validation: 0it [00:00, ?it/s]"
      ]
     },
     "metadata": {},
     "output_type": "display_data"
    },
    {
     "data": {
      "application/vnd.jupyter.widget-view+json": {
       "model_id": "",
       "version_major": 2,
       "version_minor": 0
      },
      "text/plain": [
       "Validation: 0it [00:00, ?it/s]"
      ]
     },
     "metadata": {},
     "output_type": "display_data"
    },
    {
     "data": {
      "application/vnd.jupyter.widget-view+json": {
       "model_id": "",
       "version_major": 2,
       "version_minor": 0
      },
      "text/plain": [
       "Validation: 0it [00:00, ?it/s]"
      ]
     },
     "metadata": {},
     "output_type": "display_data"
    },
    {
     "data": {
      "application/vnd.jupyter.widget-view+json": {
       "model_id": "",
       "version_major": 2,
       "version_minor": 0
      },
      "text/plain": [
       "Validation: 0it [00:00, ?it/s]"
      ]
     },
     "metadata": {},
     "output_type": "display_data"
    },
    {
     "data": {
      "application/vnd.jupyter.widget-view+json": {
       "model_id": "",
       "version_major": 2,
       "version_minor": 0
      },
      "text/plain": [
       "Validation: 0it [00:00, ?it/s]"
      ]
     },
     "metadata": {},
     "output_type": "display_data"
    },
    {
     "data": {
      "application/vnd.jupyter.widget-view+json": {
       "model_id": "",
       "version_major": 2,
       "version_minor": 0
      },
      "text/plain": [
       "Validation: 0it [00:00, ?it/s]"
      ]
     },
     "metadata": {},
     "output_type": "display_data"
    },
    {
     "data": {
      "application/vnd.jupyter.widget-view+json": {
       "model_id": "",
       "version_major": 2,
       "version_minor": 0
      },
      "text/plain": [
       "Validation: 0it [00:00, ?it/s]"
      ]
     },
     "metadata": {},
     "output_type": "display_data"
    },
    {
     "data": {
      "application/vnd.jupyter.widget-view+json": {
       "model_id": "",
       "version_major": 2,
       "version_minor": 0
      },
      "text/plain": [
       "Validation: 0it [00:00, ?it/s]"
      ]
     },
     "metadata": {},
     "output_type": "display_data"
    },
    {
     "data": {
      "application/vnd.jupyter.widget-view+json": {
       "model_id": "",
       "version_major": 2,
       "version_minor": 0
      },
      "text/plain": [
       "Validation: 0it [00:00, ?it/s]"
      ]
     },
     "metadata": {},
     "output_type": "display_data"
    },
    {
     "data": {
      "application/vnd.jupyter.widget-view+json": {
       "model_id": "",
       "version_major": 2,
       "version_minor": 0
      },
      "text/plain": [
       "Validation: 0it [00:00, ?it/s]"
      ]
     },
     "metadata": {},
     "output_type": "display_data"
    },
    {
     "data": {
      "application/vnd.jupyter.widget-view+json": {
       "model_id": "",
       "version_major": 2,
       "version_minor": 0
      },
      "text/plain": [
       "Validation: 0it [00:00, ?it/s]"
      ]
     },
     "metadata": {},
     "output_type": "display_data"
    },
    {
     "data": {
      "application/vnd.jupyter.widget-view+json": {
       "model_id": "",
       "version_major": 2,
       "version_minor": 0
      },
      "text/plain": [
       "Validation: 0it [00:00, ?it/s]"
      ]
     },
     "metadata": {},
     "output_type": "display_data"
    },
    {
     "data": {
      "application/vnd.jupyter.widget-view+json": {
       "model_id": "",
       "version_major": 2,
       "version_minor": 0
      },
      "text/plain": [
       "Validation: 0it [00:00, ?it/s]"
      ]
     },
     "metadata": {},
     "output_type": "display_data"
    },
    {
     "data": {
      "application/vnd.jupyter.widget-view+json": {
       "model_id": "",
       "version_major": 2,
       "version_minor": 0
      },
      "text/plain": [
       "Validation: 0it [00:00, ?it/s]"
      ]
     },
     "metadata": {},
     "output_type": "display_data"
    },
    {
     "data": {
      "application/vnd.jupyter.widget-view+json": {
       "model_id": "",
       "version_major": 2,
       "version_minor": 0
      },
      "text/plain": [
       "Validation: 0it [00:00, ?it/s]"
      ]
     },
     "metadata": {},
     "output_type": "display_data"
    },
    {
     "data": {
      "application/vnd.jupyter.widget-view+json": {
       "model_id": "",
       "version_major": 2,
       "version_minor": 0
      },
      "text/plain": [
       "Validation: 0it [00:00, ?it/s]"
      ]
     },
     "metadata": {},
     "output_type": "display_data"
    },
    {
     "data": {
      "application/vnd.jupyter.widget-view+json": {
       "model_id": "",
       "version_major": 2,
       "version_minor": 0
      },
      "text/plain": [
       "Validation: 0it [00:00, ?it/s]"
      ]
     },
     "metadata": {},
     "output_type": "display_data"
    },
    {
     "data": {
      "application/vnd.jupyter.widget-view+json": {
       "model_id": "",
       "version_major": 2,
       "version_minor": 0
      },
      "text/plain": [
       "Validation: 0it [00:00, ?it/s]"
      ]
     },
     "metadata": {},
     "output_type": "display_data"
    },
    {
     "data": {
      "application/vnd.jupyter.widget-view+json": {
       "model_id": "",
       "version_major": 2,
       "version_minor": 0
      },
      "text/plain": [
       "Validation: 0it [00:00, ?it/s]"
      ]
     },
     "metadata": {},
     "output_type": "display_data"
    },
    {
     "data": {
      "application/vnd.jupyter.widget-view+json": {
       "model_id": "",
       "version_major": 2,
       "version_minor": 0
      },
      "text/plain": [
       "Validation: 0it [00:00, ?it/s]"
      ]
     },
     "metadata": {},
     "output_type": "display_data"
    },
    {
     "data": {
      "application/vnd.jupyter.widget-view+json": {
       "model_id": "",
       "version_major": 2,
       "version_minor": 0
      },
      "text/plain": [
       "Validation: 0it [00:00, ?it/s]"
      ]
     },
     "metadata": {},
     "output_type": "display_data"
    },
    {
     "data": {
      "application/vnd.jupyter.widget-view+json": {
       "model_id": "",
       "version_major": 2,
       "version_minor": 0
      },
      "text/plain": [
       "Validation: 0it [00:00, ?it/s]"
      ]
     },
     "metadata": {},
     "output_type": "display_data"
    },
    {
     "data": {
      "application/vnd.jupyter.widget-view+json": {
       "model_id": "",
       "version_major": 2,
       "version_minor": 0
      },
      "text/plain": [
       "Validation: 0it [00:00, ?it/s]"
      ]
     },
     "metadata": {},
     "output_type": "display_data"
    },
    {
     "data": {
      "application/vnd.jupyter.widget-view+json": {
       "model_id": "",
       "version_major": 2,
       "version_minor": 0
      },
      "text/plain": [
       "Validation: 0it [00:00, ?it/s]"
      ]
     },
     "metadata": {},
     "output_type": "display_data"
    },
    {
     "data": {
      "application/vnd.jupyter.widget-view+json": {
       "model_id": "",
       "version_major": 2,
       "version_minor": 0
      },
      "text/plain": [
       "Validation: 0it [00:00, ?it/s]"
      ]
     },
     "metadata": {},
     "output_type": "display_data"
    },
    {
     "data": {
      "application/vnd.jupyter.widget-view+json": {
       "model_id": "",
       "version_major": 2,
       "version_minor": 0
      },
      "text/plain": [
       "Validation: 0it [00:00, ?it/s]"
      ]
     },
     "metadata": {},
     "output_type": "display_data"
    },
    {
     "data": {
      "application/vnd.jupyter.widget-view+json": {
       "model_id": "",
       "version_major": 2,
       "version_minor": 0
      },
      "text/plain": [
       "Validation: 0it [00:00, ?it/s]"
      ]
     },
     "metadata": {},
     "output_type": "display_data"
    },
    {
     "data": {
      "application/vnd.jupyter.widget-view+json": {
       "model_id": "",
       "version_major": 2,
       "version_minor": 0
      },
      "text/plain": [
       "Validation: 0it [00:00, ?it/s]"
      ]
     },
     "metadata": {},
     "output_type": "display_data"
    },
    {
     "data": {
      "application/vnd.jupyter.widget-view+json": {
       "model_id": "",
       "version_major": 2,
       "version_minor": 0
      },
      "text/plain": [
       "Validation: 0it [00:00, ?it/s]"
      ]
     },
     "metadata": {},
     "output_type": "display_data"
    },
    {
     "data": {
      "application/vnd.jupyter.widget-view+json": {
       "model_id": "",
       "version_major": 2,
       "version_minor": 0
      },
      "text/plain": [
       "Validation: 0it [00:00, ?it/s]"
      ]
     },
     "metadata": {},
     "output_type": "display_data"
    },
    {
     "data": {
      "application/vnd.jupyter.widget-view+json": {
       "model_id": "",
       "version_major": 2,
       "version_minor": 0
      },
      "text/plain": [
       "Validation: 0it [00:00, ?it/s]"
      ]
     },
     "metadata": {},
     "output_type": "display_data"
    },
    {
     "data": {
      "application/vnd.jupyter.widget-view+json": {
       "model_id": "",
       "version_major": 2,
       "version_minor": 0
      },
      "text/plain": [
       "Validation: 0it [00:00, ?it/s]"
      ]
     },
     "metadata": {},
     "output_type": "display_data"
    },
    {
     "data": {
      "application/vnd.jupyter.widget-view+json": {
       "model_id": "",
       "version_major": 2,
       "version_minor": 0
      },
      "text/plain": [
       "Validation: 0it [00:00, ?it/s]"
      ]
     },
     "metadata": {},
     "output_type": "display_data"
    },
    {
     "data": {
      "application/vnd.jupyter.widget-view+json": {
       "model_id": "",
       "version_major": 2,
       "version_minor": 0
      },
      "text/plain": [
       "Validation: 0it [00:00, ?it/s]"
      ]
     },
     "metadata": {},
     "output_type": "display_data"
    },
    {
     "data": {
      "application/vnd.jupyter.widget-view+json": {
       "model_id": "",
       "version_major": 2,
       "version_minor": 0
      },
      "text/plain": [
       "Validation: 0it [00:00, ?it/s]"
      ]
     },
     "metadata": {},
     "output_type": "display_data"
    },
    {
     "data": {
      "application/vnd.jupyter.widget-view+json": {
       "model_id": "",
       "version_major": 2,
       "version_minor": 0
      },
      "text/plain": [
       "Validation: 0it [00:00, ?it/s]"
      ]
     },
     "metadata": {},
     "output_type": "display_data"
    },
    {
     "data": {
      "application/vnd.jupyter.widget-view+json": {
       "model_id": "",
       "version_major": 2,
       "version_minor": 0
      },
      "text/plain": [
       "Validation: 0it [00:00, ?it/s]"
      ]
     },
     "metadata": {},
     "output_type": "display_data"
    },
    {
     "data": {
      "application/vnd.jupyter.widget-view+json": {
       "model_id": "",
       "version_major": 2,
       "version_minor": 0
      },
      "text/plain": [
       "Validation: 0it [00:00, ?it/s]"
      ]
     },
     "metadata": {},
     "output_type": "display_data"
    },
    {
     "data": {
      "application/vnd.jupyter.widget-view+json": {
       "model_id": "",
       "version_major": 2,
       "version_minor": 0
      },
      "text/plain": [
       "Validation: 0it [00:00, ?it/s]"
      ]
     },
     "metadata": {},
     "output_type": "display_data"
    },
    {
     "data": {
      "application/vnd.jupyter.widget-view+json": {
       "model_id": "",
       "version_major": 2,
       "version_minor": 0
      },
      "text/plain": [
       "Validation: 0it [00:00, ?it/s]"
      ]
     },
     "metadata": {},
     "output_type": "display_data"
    },
    {
     "data": {
      "application/vnd.jupyter.widget-view+json": {
       "model_id": "",
       "version_major": 2,
       "version_minor": 0
      },
      "text/plain": [
       "Validation: 0it [00:00, ?it/s]"
      ]
     },
     "metadata": {},
     "output_type": "display_data"
    },
    {
     "data": {
      "application/vnd.jupyter.widget-view+json": {
       "model_id": "",
       "version_major": 2,
       "version_minor": 0
      },
      "text/plain": [
       "Validation: 0it [00:00, ?it/s]"
      ]
     },
     "metadata": {},
     "output_type": "display_data"
    },
    {
     "data": {
      "application/vnd.jupyter.widget-view+json": {
       "model_id": "",
       "version_major": 2,
       "version_minor": 0
      },
      "text/plain": [
       "Validation: 0it [00:00, ?it/s]"
      ]
     },
     "metadata": {},
     "output_type": "display_data"
    },
    {
     "data": {
      "application/vnd.jupyter.widget-view+json": {
       "model_id": "",
       "version_major": 2,
       "version_minor": 0
      },
      "text/plain": [
       "Validation: 0it [00:00, ?it/s]"
      ]
     },
     "metadata": {},
     "output_type": "display_data"
    },
    {
     "data": {
      "application/vnd.jupyter.widget-view+json": {
       "model_id": "",
       "version_major": 2,
       "version_minor": 0
      },
      "text/plain": [
       "Validation: 0it [00:00, ?it/s]"
      ]
     },
     "metadata": {},
     "output_type": "display_data"
    },
    {
     "data": {
      "application/vnd.jupyter.widget-view+json": {
       "model_id": "",
       "version_major": 2,
       "version_minor": 0
      },
      "text/plain": [
       "Validation: 0it [00:00, ?it/s]"
      ]
     },
     "metadata": {},
     "output_type": "display_data"
    },
    {
     "data": {
      "application/vnd.jupyter.widget-view+json": {
       "model_id": "",
       "version_major": 2,
       "version_minor": 0
      },
      "text/plain": [
       "Validation: 0it [00:00, ?it/s]"
      ]
     },
     "metadata": {},
     "output_type": "display_data"
    },
    {
     "data": {
      "application/vnd.jupyter.widget-view+json": {
       "model_id": "",
       "version_major": 2,
       "version_minor": 0
      },
      "text/plain": [
       "Validation: 0it [00:00, ?it/s]"
      ]
     },
     "metadata": {},
     "output_type": "display_data"
    },
    {
     "data": {
      "application/vnd.jupyter.widget-view+json": {
       "model_id": "",
       "version_major": 2,
       "version_minor": 0
      },
      "text/plain": [
       "Validation: 0it [00:00, ?it/s]"
      ]
     },
     "metadata": {},
     "output_type": "display_data"
    },
    {
     "data": {
      "application/vnd.jupyter.widget-view+json": {
       "model_id": "",
       "version_major": 2,
       "version_minor": 0
      },
      "text/plain": [
       "Validation: 0it [00:00, ?it/s]"
      ]
     },
     "metadata": {},
     "output_type": "display_data"
    },
    {
     "data": {
      "application/vnd.jupyter.widget-view+json": {
       "model_id": "",
       "version_major": 2,
       "version_minor": 0
      },
      "text/plain": [
       "Validation: 0it [00:00, ?it/s]"
      ]
     },
     "metadata": {},
     "output_type": "display_data"
    },
    {
     "data": {
      "application/vnd.jupyter.widget-view+json": {
       "model_id": "",
       "version_major": 2,
       "version_minor": 0
      },
      "text/plain": [
       "Validation: 0it [00:00, ?it/s]"
      ]
     },
     "metadata": {},
     "output_type": "display_data"
    },
    {
     "data": {
      "application/vnd.jupyter.widget-view+json": {
       "model_id": "",
       "version_major": 2,
       "version_minor": 0
      },
      "text/plain": [
       "Validation: 0it [00:00, ?it/s]"
      ]
     },
     "metadata": {},
     "output_type": "display_data"
    },
    {
     "data": {
      "application/vnd.jupyter.widget-view+json": {
       "model_id": "",
       "version_major": 2,
       "version_minor": 0
      },
      "text/plain": [
       "Validation: 0it [00:00, ?it/s]"
      ]
     },
     "metadata": {},
     "output_type": "display_data"
    },
    {
     "data": {
      "application/vnd.jupyter.widget-view+json": {
       "model_id": "",
       "version_major": 2,
       "version_minor": 0
      },
      "text/plain": [
       "Validation: 0it [00:00, ?it/s]"
      ]
     },
     "metadata": {},
     "output_type": "display_data"
    },
    {
     "data": {
      "application/vnd.jupyter.widget-view+json": {
       "model_id": "",
       "version_major": 2,
       "version_minor": 0
      },
      "text/plain": [
       "Validation: 0it [00:00, ?it/s]"
      ]
     },
     "metadata": {},
     "output_type": "display_data"
    },
    {
     "data": {
      "application/vnd.jupyter.widget-view+json": {
       "model_id": "",
       "version_major": 2,
       "version_minor": 0
      },
      "text/plain": [
       "Validation: 0it [00:00, ?it/s]"
      ]
     },
     "metadata": {},
     "output_type": "display_data"
    },
    {
     "data": {
      "application/vnd.jupyter.widget-view+json": {
       "model_id": "",
       "version_major": 2,
       "version_minor": 0
      },
      "text/plain": [
       "Validation: 0it [00:00, ?it/s]"
      ]
     },
     "metadata": {},
     "output_type": "display_data"
    },
    {
     "data": {
      "application/vnd.jupyter.widget-view+json": {
       "model_id": "",
       "version_major": 2,
       "version_minor": 0
      },
      "text/plain": [
       "Validation: 0it [00:00, ?it/s]"
      ]
     },
     "metadata": {},
     "output_type": "display_data"
    },
    {
     "data": {
      "application/vnd.jupyter.widget-view+json": {
       "model_id": "",
       "version_major": 2,
       "version_minor": 0
      },
      "text/plain": [
       "Validation: 0it [00:00, ?it/s]"
      ]
     },
     "metadata": {},
     "output_type": "display_data"
    },
    {
     "data": {
      "application/vnd.jupyter.widget-view+json": {
       "model_id": "",
       "version_major": 2,
       "version_minor": 0
      },
      "text/plain": [
       "Validation: 0it [00:00, ?it/s]"
      ]
     },
     "metadata": {},
     "output_type": "display_data"
    },
    {
     "data": {
      "application/vnd.jupyter.widget-view+json": {
       "model_id": "",
       "version_major": 2,
       "version_minor": 0
      },
      "text/plain": [
       "Validation: 0it [00:00, ?it/s]"
      ]
     },
     "metadata": {},
     "output_type": "display_data"
    },
    {
     "data": {
      "application/vnd.jupyter.widget-view+json": {
       "model_id": "",
       "version_major": 2,
       "version_minor": 0
      },
      "text/plain": [
       "Validation: 0it [00:00, ?it/s]"
      ]
     },
     "metadata": {},
     "output_type": "display_data"
    },
    {
     "data": {
      "application/vnd.jupyter.widget-view+json": {
       "model_id": "",
       "version_major": 2,
       "version_minor": 0
      },
      "text/plain": [
       "Validation: 0it [00:00, ?it/s]"
      ]
     },
     "metadata": {},
     "output_type": "display_data"
    },
    {
     "data": {
      "application/vnd.jupyter.widget-view+json": {
       "model_id": "",
       "version_major": 2,
       "version_minor": 0
      },
      "text/plain": [
       "Validation: 0it [00:00, ?it/s]"
      ]
     },
     "metadata": {},
     "output_type": "display_data"
    },
    {
     "data": {
      "application/vnd.jupyter.widget-view+json": {
       "model_id": "",
       "version_major": 2,
       "version_minor": 0
      },
      "text/plain": [
       "Validation: 0it [00:00, ?it/s]"
      ]
     },
     "metadata": {},
     "output_type": "display_data"
    },
    {
     "data": {
      "application/vnd.jupyter.widget-view+json": {
       "model_id": "",
       "version_major": 2,
       "version_minor": 0
      },
      "text/plain": [
       "Validation: 0it [00:00, ?it/s]"
      ]
     },
     "metadata": {},
     "output_type": "display_data"
    },
    {
     "data": {
      "application/vnd.jupyter.widget-view+json": {
       "model_id": "",
       "version_major": 2,
       "version_minor": 0
      },
      "text/plain": [
       "Validation: 0it [00:00, ?it/s]"
      ]
     },
     "metadata": {},
     "output_type": "display_data"
    },
    {
     "data": {
      "application/vnd.jupyter.widget-view+json": {
       "model_id": "",
       "version_major": 2,
       "version_minor": 0
      },
      "text/plain": [
       "Validation: 0it [00:00, ?it/s]"
      ]
     },
     "metadata": {},
     "output_type": "display_data"
    },
    {
     "data": {
      "application/vnd.jupyter.widget-view+json": {
       "model_id": "",
       "version_major": 2,
       "version_minor": 0
      },
      "text/plain": [
       "Validation: 0it [00:00, ?it/s]"
      ]
     },
     "metadata": {},
     "output_type": "display_data"
    },
    {
     "data": {
      "application/vnd.jupyter.widget-view+json": {
       "model_id": "",
       "version_major": 2,
       "version_minor": 0
      },
      "text/plain": [
       "Validation: 0it [00:00, ?it/s]"
      ]
     },
     "metadata": {},
     "output_type": "display_data"
    },
    {
     "data": {
      "application/vnd.jupyter.widget-view+json": {
       "model_id": "",
       "version_major": 2,
       "version_minor": 0
      },
      "text/plain": [
       "Validation: 0it [00:00, ?it/s]"
      ]
     },
     "metadata": {},
     "output_type": "display_data"
    },
    {
     "data": {
      "application/vnd.jupyter.widget-view+json": {
       "model_id": "",
       "version_major": 2,
       "version_minor": 0
      },
      "text/plain": [
       "Validation: 0it [00:00, ?it/s]"
      ]
     },
     "metadata": {},
     "output_type": "display_data"
    },
    {
     "data": {
      "application/vnd.jupyter.widget-view+json": {
       "model_id": "",
       "version_major": 2,
       "version_minor": 0
      },
      "text/plain": [
       "Validation: 0it [00:00, ?it/s]"
      ]
     },
     "metadata": {},
     "output_type": "display_data"
    },
    {
     "data": {
      "application/vnd.jupyter.widget-view+json": {
       "model_id": "",
       "version_major": 2,
       "version_minor": 0
      },
      "text/plain": [
       "Validation: 0it [00:00, ?it/s]"
      ]
     },
     "metadata": {},
     "output_type": "display_data"
    },
    {
     "data": {
      "application/vnd.jupyter.widget-view+json": {
       "model_id": "",
       "version_major": 2,
       "version_minor": 0
      },
      "text/plain": [
       "Validation: 0it [00:00, ?it/s]"
      ]
     },
     "metadata": {},
     "output_type": "display_data"
    },
    {
     "data": {
      "application/vnd.jupyter.widget-view+json": {
       "model_id": "",
       "version_major": 2,
       "version_minor": 0
      },
      "text/plain": [
       "Validation: 0it [00:00, ?it/s]"
      ]
     },
     "metadata": {},
     "output_type": "display_data"
    },
    {
     "data": {
      "application/vnd.jupyter.widget-view+json": {
       "model_id": "",
       "version_major": 2,
       "version_minor": 0
      },
      "text/plain": [
       "Validation: 0it [00:00, ?it/s]"
      ]
     },
     "metadata": {},
     "output_type": "display_data"
    },
    {
     "data": {
      "application/vnd.jupyter.widget-view+json": {
       "model_id": "",
       "version_major": 2,
       "version_minor": 0
      },
      "text/plain": [
       "Validation: 0it [00:00, ?it/s]"
      ]
     },
     "metadata": {},
     "output_type": "display_data"
    },
    {
     "data": {
      "application/vnd.jupyter.widget-view+json": {
       "model_id": "",
       "version_major": 2,
       "version_minor": 0
      },
      "text/plain": [
       "Validation: 0it [00:00, ?it/s]"
      ]
     },
     "metadata": {},
     "output_type": "display_data"
    },
    {
     "data": {
      "application/vnd.jupyter.widget-view+json": {
       "model_id": "",
       "version_major": 2,
       "version_minor": 0
      },
      "text/plain": [
       "Validation: 0it [00:00, ?it/s]"
      ]
     },
     "metadata": {},
     "output_type": "display_data"
    },
    {
     "data": {
      "application/vnd.jupyter.widget-view+json": {
       "model_id": "",
       "version_major": 2,
       "version_minor": 0
      },
      "text/plain": [
       "Validation: 0it [00:00, ?it/s]"
      ]
     },
     "metadata": {},
     "output_type": "display_data"
    },
    {
     "data": {
      "application/vnd.jupyter.widget-view+json": {
       "model_id": "",
       "version_major": 2,
       "version_minor": 0
      },
      "text/plain": [
       "Validation: 0it [00:00, ?it/s]"
      ]
     },
     "metadata": {},
     "output_type": "display_data"
    },
    {
     "data": {
      "application/vnd.jupyter.widget-view+json": {
       "model_id": "",
       "version_major": 2,
       "version_minor": 0
      },
      "text/plain": [
       "Validation: 0it [00:00, ?it/s]"
      ]
     },
     "metadata": {},
     "output_type": "display_data"
    },
    {
     "data": {
      "application/vnd.jupyter.widget-view+json": {
       "model_id": "",
       "version_major": 2,
       "version_minor": 0
      },
      "text/plain": [
       "Validation: 0it [00:00, ?it/s]"
      ]
     },
     "metadata": {},
     "output_type": "display_data"
    },
    {
     "data": {
      "application/vnd.jupyter.widget-view+json": {
       "model_id": "",
       "version_major": 2,
       "version_minor": 0
      },
      "text/plain": [
       "Validation: 0it [00:00, ?it/s]"
      ]
     },
     "metadata": {},
     "output_type": "display_data"
    },
    {
     "data": {
      "application/vnd.jupyter.widget-view+json": {
       "model_id": "",
       "version_major": 2,
       "version_minor": 0
      },
      "text/plain": [
       "Validation: 0it [00:00, ?it/s]"
      ]
     },
     "metadata": {},
     "output_type": "display_data"
    },
    {
     "data": {
      "application/vnd.jupyter.widget-view+json": {
       "model_id": "",
       "version_major": 2,
       "version_minor": 0
      },
      "text/plain": [
       "Validation: 0it [00:00, ?it/s]"
      ]
     },
     "metadata": {},
     "output_type": "display_data"
    },
    {
     "data": {
      "application/vnd.jupyter.widget-view+json": {
       "model_id": "",
       "version_major": 2,
       "version_minor": 0
      },
      "text/plain": [
       "Validation: 0it [00:00, ?it/s]"
      ]
     },
     "metadata": {},
     "output_type": "display_data"
    },
    {
     "data": {
      "application/vnd.jupyter.widget-view+json": {
       "model_id": "",
       "version_major": 2,
       "version_minor": 0
      },
      "text/plain": [
       "Validation: 0it [00:00, ?it/s]"
      ]
     },
     "metadata": {},
     "output_type": "display_data"
    },
    {
     "data": {
      "application/vnd.jupyter.widget-view+json": {
       "model_id": "",
       "version_major": 2,
       "version_minor": 0
      },
      "text/plain": [
       "Validation: 0it [00:00, ?it/s]"
      ]
     },
     "metadata": {},
     "output_type": "display_data"
    },
    {
     "data": {
      "application/vnd.jupyter.widget-view+json": {
       "model_id": "",
       "version_major": 2,
       "version_minor": 0
      },
      "text/plain": [
       "Validation: 0it [00:00, ?it/s]"
      ]
     },
     "metadata": {},
     "output_type": "display_data"
    },
    {
     "data": {
      "application/vnd.jupyter.widget-view+json": {
       "model_id": "",
       "version_major": 2,
       "version_minor": 0
      },
      "text/plain": [
       "Validation: 0it [00:00, ?it/s]"
      ]
     },
     "metadata": {},
     "output_type": "display_data"
    },
    {
     "data": {
      "application/vnd.jupyter.widget-view+json": {
       "model_id": "",
       "version_major": 2,
       "version_minor": 0
      },
      "text/plain": [
       "Validation: 0it [00:00, ?it/s]"
      ]
     },
     "metadata": {},
     "output_type": "display_data"
    },
    {
     "data": {
      "application/vnd.jupyter.widget-view+json": {
       "model_id": "",
       "version_major": 2,
       "version_minor": 0
      },
      "text/plain": [
       "Validation: 0it [00:00, ?it/s]"
      ]
     },
     "metadata": {},
     "output_type": "display_data"
    },
    {
     "data": {
      "application/vnd.jupyter.widget-view+json": {
       "model_id": "",
       "version_major": 2,
       "version_minor": 0
      },
      "text/plain": [
       "Validation: 0it [00:00, ?it/s]"
      ]
     },
     "metadata": {},
     "output_type": "display_data"
    },
    {
     "data": {
      "application/vnd.jupyter.widget-view+json": {
       "model_id": "",
       "version_major": 2,
       "version_minor": 0
      },
      "text/plain": [
       "Validation: 0it [00:00, ?it/s]"
      ]
     },
     "metadata": {},
     "output_type": "display_data"
    },
    {
     "data": {
      "application/vnd.jupyter.widget-view+json": {
       "model_id": "",
       "version_major": 2,
       "version_minor": 0
      },
      "text/plain": [
       "Validation: 0it [00:00, ?it/s]"
      ]
     },
     "metadata": {},
     "output_type": "display_data"
    },
    {
     "data": {
      "application/vnd.jupyter.widget-view+json": {
       "model_id": "",
       "version_major": 2,
       "version_minor": 0
      },
      "text/plain": [
       "Validation: 0it [00:00, ?it/s]"
      ]
     },
     "metadata": {},
     "output_type": "display_data"
    },
    {
     "data": {
      "application/vnd.jupyter.widget-view+json": {
       "model_id": "",
       "version_major": 2,
       "version_minor": 0
      },
      "text/plain": [
       "Validation: 0it [00:00, ?it/s]"
      ]
     },
     "metadata": {},
     "output_type": "display_data"
    },
    {
     "data": {
      "application/vnd.jupyter.widget-view+json": {
       "model_id": "",
       "version_major": 2,
       "version_minor": 0
      },
      "text/plain": [
       "Validation: 0it [00:00, ?it/s]"
      ]
     },
     "metadata": {},
     "output_type": "display_data"
    },
    {
     "data": {
      "application/vnd.jupyter.widget-view+json": {
       "model_id": "",
       "version_major": 2,
       "version_minor": 0
      },
      "text/plain": [
       "Validation: 0it [00:00, ?it/s]"
      ]
     },
     "metadata": {},
     "output_type": "display_data"
    },
    {
     "data": {
      "application/vnd.jupyter.widget-view+json": {
       "model_id": "",
       "version_major": 2,
       "version_minor": 0
      },
      "text/plain": [
       "Validation: 0it [00:00, ?it/s]"
      ]
     },
     "metadata": {},
     "output_type": "display_data"
    },
    {
     "data": {
      "application/vnd.jupyter.widget-view+json": {
       "model_id": "",
       "version_major": 2,
       "version_minor": 0
      },
      "text/plain": [
       "Validation: 0it [00:00, ?it/s]"
      ]
     },
     "metadata": {},
     "output_type": "display_data"
    },
    {
     "data": {
      "application/vnd.jupyter.widget-view+json": {
       "model_id": "",
       "version_major": 2,
       "version_minor": 0
      },
      "text/plain": [
       "Validation: 0it [00:00, ?it/s]"
      ]
     },
     "metadata": {},
     "output_type": "display_data"
    },
    {
     "data": {
      "application/vnd.jupyter.widget-view+json": {
       "model_id": "",
       "version_major": 2,
       "version_minor": 0
      },
      "text/plain": [
       "Validation: 0it [00:00, ?it/s]"
      ]
     },
     "metadata": {},
     "output_type": "display_data"
    },
    {
     "data": {
      "application/vnd.jupyter.widget-view+json": {
       "model_id": "",
       "version_major": 2,
       "version_minor": 0
      },
      "text/plain": [
       "Validation: 0it [00:00, ?it/s]"
      ]
     },
     "metadata": {},
     "output_type": "display_data"
    },
    {
     "data": {
      "application/vnd.jupyter.widget-view+json": {
       "model_id": "",
       "version_major": 2,
       "version_minor": 0
      },
      "text/plain": [
       "Validation: 0it [00:00, ?it/s]"
      ]
     },
     "metadata": {},
     "output_type": "display_data"
    },
    {
     "data": {
      "application/vnd.jupyter.widget-view+json": {
       "model_id": "",
       "version_major": 2,
       "version_minor": 0
      },
      "text/plain": [
       "Validation: 0it [00:00, ?it/s]"
      ]
     },
     "metadata": {},
     "output_type": "display_data"
    },
    {
     "data": {
      "application/vnd.jupyter.widget-view+json": {
       "model_id": "",
       "version_major": 2,
       "version_minor": 0
      },
      "text/plain": [
       "Validation: 0it [00:00, ?it/s]"
      ]
     },
     "metadata": {},
     "output_type": "display_data"
    },
    {
     "data": {
      "application/vnd.jupyter.widget-view+json": {
       "model_id": "",
       "version_major": 2,
       "version_minor": 0
      },
      "text/plain": [
       "Validation: 0it [00:00, ?it/s]"
      ]
     },
     "metadata": {},
     "output_type": "display_data"
    },
    {
     "data": {
      "application/vnd.jupyter.widget-view+json": {
       "model_id": "",
       "version_major": 2,
       "version_minor": 0
      },
      "text/plain": [
       "Validation: 0it [00:00, ?it/s]"
      ]
     },
     "metadata": {},
     "output_type": "display_data"
    },
    {
     "data": {
      "application/vnd.jupyter.widget-view+json": {
       "model_id": "",
       "version_major": 2,
       "version_minor": 0
      },
      "text/plain": [
       "Validation: 0it [00:00, ?it/s]"
      ]
     },
     "metadata": {},
     "output_type": "display_data"
    },
    {
     "data": {
      "application/vnd.jupyter.widget-view+json": {
       "model_id": "",
       "version_major": 2,
       "version_minor": 0
      },
      "text/plain": [
       "Validation: 0it [00:00, ?it/s]"
      ]
     },
     "metadata": {},
     "output_type": "display_data"
    },
    {
     "data": {
      "application/vnd.jupyter.widget-view+json": {
       "model_id": "",
       "version_major": 2,
       "version_minor": 0
      },
      "text/plain": [
       "Validation: 0it [00:00, ?it/s]"
      ]
     },
     "metadata": {},
     "output_type": "display_data"
    },
    {
     "data": {
      "application/vnd.jupyter.widget-view+json": {
       "model_id": "",
       "version_major": 2,
       "version_minor": 0
      },
      "text/plain": [
       "Validation: 0it [00:00, ?it/s]"
      ]
     },
     "metadata": {},
     "output_type": "display_data"
    },
    {
     "data": {
      "application/vnd.jupyter.widget-view+json": {
       "model_id": "",
       "version_major": 2,
       "version_minor": 0
      },
      "text/plain": [
       "Validation: 0it [00:00, ?it/s]"
      ]
     },
     "metadata": {},
     "output_type": "display_data"
    },
    {
     "data": {
      "application/vnd.jupyter.widget-view+json": {
       "model_id": "",
       "version_major": 2,
       "version_minor": 0
      },
      "text/plain": [
       "Validation: 0it [00:00, ?it/s]"
      ]
     },
     "metadata": {},
     "output_type": "display_data"
    },
    {
     "data": {
      "application/vnd.jupyter.widget-view+json": {
       "model_id": "",
       "version_major": 2,
       "version_minor": 0
      },
      "text/plain": [
       "Validation: 0it [00:00, ?it/s]"
      ]
     },
     "metadata": {},
     "output_type": "display_data"
    },
    {
     "data": {
      "application/vnd.jupyter.widget-view+json": {
       "model_id": "",
       "version_major": 2,
       "version_minor": 0
      },
      "text/plain": [
       "Validation: 0it [00:00, ?it/s]"
      ]
     },
     "metadata": {},
     "output_type": "display_data"
    },
    {
     "data": {
      "application/vnd.jupyter.widget-view+json": {
       "model_id": "",
       "version_major": 2,
       "version_minor": 0
      },
      "text/plain": [
       "Validation: 0it [00:00, ?it/s]"
      ]
     },
     "metadata": {},
     "output_type": "display_data"
    },
    {
     "data": {
      "application/vnd.jupyter.widget-view+json": {
       "model_id": "",
       "version_major": 2,
       "version_minor": 0
      },
      "text/plain": [
       "Validation: 0it [00:00, ?it/s]"
      ]
     },
     "metadata": {},
     "output_type": "display_data"
    },
    {
     "data": {
      "application/vnd.jupyter.widget-view+json": {
       "model_id": "",
       "version_major": 2,
       "version_minor": 0
      },
      "text/plain": [
       "Validation: 0it [00:00, ?it/s]"
      ]
     },
     "metadata": {},
     "output_type": "display_data"
    },
    {
     "data": {
      "application/vnd.jupyter.widget-view+json": {
       "model_id": "",
       "version_major": 2,
       "version_minor": 0
      },
      "text/plain": [
       "Validation: 0it [00:00, ?it/s]"
      ]
     },
     "metadata": {},
     "output_type": "display_data"
    },
    {
     "data": {
      "application/vnd.jupyter.widget-view+json": {
       "model_id": "",
       "version_major": 2,
       "version_minor": 0
      },
      "text/plain": [
       "Validation: 0it [00:00, ?it/s]"
      ]
     },
     "metadata": {},
     "output_type": "display_data"
    },
    {
     "data": {
      "application/vnd.jupyter.widget-view+json": {
       "model_id": "",
       "version_major": 2,
       "version_minor": 0
      },
      "text/plain": [
       "Validation: 0it [00:00, ?it/s]"
      ]
     },
     "metadata": {},
     "output_type": "display_data"
    },
    {
     "data": {
      "application/vnd.jupyter.widget-view+json": {
       "model_id": "",
       "version_major": 2,
       "version_minor": 0
      },
      "text/plain": [
       "Validation: 0it [00:00, ?it/s]"
      ]
     },
     "metadata": {},
     "output_type": "display_data"
    },
    {
     "data": {
      "application/vnd.jupyter.widget-view+json": {
       "model_id": "",
       "version_major": 2,
       "version_minor": 0
      },
      "text/plain": [
       "Validation: 0it [00:00, ?it/s]"
      ]
     },
     "metadata": {},
     "output_type": "display_data"
    },
    {
     "data": {
      "application/vnd.jupyter.widget-view+json": {
       "model_id": "",
       "version_major": 2,
       "version_minor": 0
      },
      "text/plain": [
       "Validation: 0it [00:00, ?it/s]"
      ]
     },
     "metadata": {},
     "output_type": "display_data"
    },
    {
     "data": {
      "application/vnd.jupyter.widget-view+json": {
       "model_id": "",
       "version_major": 2,
       "version_minor": 0
      },
      "text/plain": [
       "Validation: 0it [00:00, ?it/s]"
      ]
     },
     "metadata": {},
     "output_type": "display_data"
    },
    {
     "data": {
      "application/vnd.jupyter.widget-view+json": {
       "model_id": "",
       "version_major": 2,
       "version_minor": 0
      },
      "text/plain": [
       "Validation: 0it [00:00, ?it/s]"
      ]
     },
     "metadata": {},
     "output_type": "display_data"
    },
    {
     "data": {
      "application/vnd.jupyter.widget-view+json": {
       "model_id": "",
       "version_major": 2,
       "version_minor": 0
      },
      "text/plain": [
       "Validation: 0it [00:00, ?it/s]"
      ]
     },
     "metadata": {},
     "output_type": "display_data"
    },
    {
     "data": {
      "application/vnd.jupyter.widget-view+json": {
       "model_id": "",
       "version_major": 2,
       "version_minor": 0
      },
      "text/plain": [
       "Validation: 0it [00:00, ?it/s]"
      ]
     },
     "metadata": {},
     "output_type": "display_data"
    },
    {
     "data": {
      "application/vnd.jupyter.widget-view+json": {
       "model_id": "",
       "version_major": 2,
       "version_minor": 0
      },
      "text/plain": [
       "Validation: 0it [00:00, ?it/s]"
      ]
     },
     "metadata": {},
     "output_type": "display_data"
    },
    {
     "data": {
      "application/vnd.jupyter.widget-view+json": {
       "model_id": "",
       "version_major": 2,
       "version_minor": 0
      },
      "text/plain": [
       "Validation: 0it [00:00, ?it/s]"
      ]
     },
     "metadata": {},
     "output_type": "display_data"
    },
    {
     "data": {
      "application/vnd.jupyter.widget-view+json": {
       "model_id": "",
       "version_major": 2,
       "version_minor": 0
      },
      "text/plain": [
       "Validation: 0it [00:00, ?it/s]"
      ]
     },
     "metadata": {},
     "output_type": "display_data"
    },
    {
     "data": {
      "application/vnd.jupyter.widget-view+json": {
       "model_id": "",
       "version_major": 2,
       "version_minor": 0
      },
      "text/plain": [
       "Validation: 0it [00:00, ?it/s]"
      ]
     },
     "metadata": {},
     "output_type": "display_data"
    },
    {
     "data": {
      "application/vnd.jupyter.widget-view+json": {
       "model_id": "",
       "version_major": 2,
       "version_minor": 0
      },
      "text/plain": [
       "Validation: 0it [00:00, ?it/s]"
      ]
     },
     "metadata": {},
     "output_type": "display_data"
    },
    {
     "data": {
      "application/vnd.jupyter.widget-view+json": {
       "model_id": "",
       "version_major": 2,
       "version_minor": 0
      },
      "text/plain": [
       "Validation: 0it [00:00, ?it/s]"
      ]
     },
     "metadata": {},
     "output_type": "display_data"
    },
    {
     "data": {
      "application/vnd.jupyter.widget-view+json": {
       "model_id": "",
       "version_major": 2,
       "version_minor": 0
      },
      "text/plain": [
       "Validation: 0it [00:00, ?it/s]"
      ]
     },
     "metadata": {},
     "output_type": "display_data"
    },
    {
     "data": {
      "application/vnd.jupyter.widget-view+json": {
       "model_id": "",
       "version_major": 2,
       "version_minor": 0
      },
      "text/plain": [
       "Validation: 0it [00:00, ?it/s]"
      ]
     },
     "metadata": {},
     "output_type": "display_data"
    },
    {
     "data": {
      "application/vnd.jupyter.widget-view+json": {
       "model_id": "",
       "version_major": 2,
       "version_minor": 0
      },
      "text/plain": [
       "Validation: 0it [00:00, ?it/s]"
      ]
     },
     "metadata": {},
     "output_type": "display_data"
    },
    {
     "data": {
      "application/vnd.jupyter.widget-view+json": {
       "model_id": "",
       "version_major": 2,
       "version_minor": 0
      },
      "text/plain": [
       "Validation: 0it [00:00, ?it/s]"
      ]
     },
     "metadata": {},
     "output_type": "display_data"
    },
    {
     "data": {
      "application/vnd.jupyter.widget-view+json": {
       "model_id": "",
       "version_major": 2,
       "version_minor": 0
      },
      "text/plain": [
       "Validation: 0it [00:00, ?it/s]"
      ]
     },
     "metadata": {},
     "output_type": "display_data"
    },
    {
     "data": {
      "application/vnd.jupyter.widget-view+json": {
       "model_id": "",
       "version_major": 2,
       "version_minor": 0
      },
      "text/plain": [
       "Validation: 0it [00:00, ?it/s]"
      ]
     },
     "metadata": {},
     "output_type": "display_data"
    },
    {
     "data": {
      "application/vnd.jupyter.widget-view+json": {
       "model_id": "",
       "version_major": 2,
       "version_minor": 0
      },
      "text/plain": [
       "Validation: 0it [00:00, ?it/s]"
      ]
     },
     "metadata": {},
     "output_type": "display_data"
    },
    {
     "data": {
      "application/vnd.jupyter.widget-view+json": {
       "model_id": "",
       "version_major": 2,
       "version_minor": 0
      },
      "text/plain": [
       "Validation: 0it [00:00, ?it/s]"
      ]
     },
     "metadata": {},
     "output_type": "display_data"
    },
    {
     "data": {
      "application/vnd.jupyter.widget-view+json": {
       "model_id": "",
       "version_major": 2,
       "version_minor": 0
      },
      "text/plain": [
       "Validation: 0it [00:00, ?it/s]"
      ]
     },
     "metadata": {},
     "output_type": "display_data"
    },
    {
     "data": {
      "application/vnd.jupyter.widget-view+json": {
       "model_id": "",
       "version_major": 2,
       "version_minor": 0
      },
      "text/plain": [
       "Validation: 0it [00:00, ?it/s]"
      ]
     },
     "metadata": {},
     "output_type": "display_data"
    },
    {
     "data": {
      "application/vnd.jupyter.widget-view+json": {
       "model_id": "",
       "version_major": 2,
       "version_minor": 0
      },
      "text/plain": [
       "Validation: 0it [00:00, ?it/s]"
      ]
     },
     "metadata": {},
     "output_type": "display_data"
    },
    {
     "data": {
      "application/vnd.jupyter.widget-view+json": {
       "model_id": "",
       "version_major": 2,
       "version_minor": 0
      },
      "text/plain": [
       "Validation: 0it [00:00, ?it/s]"
      ]
     },
     "metadata": {},
     "output_type": "display_data"
    },
    {
     "data": {
      "application/vnd.jupyter.widget-view+json": {
       "model_id": "",
       "version_major": 2,
       "version_minor": 0
      },
      "text/plain": [
       "Validation: 0it [00:00, ?it/s]"
      ]
     },
     "metadata": {},
     "output_type": "display_data"
    },
    {
     "data": {
      "application/vnd.jupyter.widget-view+json": {
       "model_id": "",
       "version_major": 2,
       "version_minor": 0
      },
      "text/plain": [
       "Validation: 0it [00:00, ?it/s]"
      ]
     },
     "metadata": {},
     "output_type": "display_data"
    },
    {
     "data": {
      "application/vnd.jupyter.widget-view+json": {
       "model_id": "",
       "version_major": 2,
       "version_minor": 0
      },
      "text/plain": [
       "Validation: 0it [00:00, ?it/s]"
      ]
     },
     "metadata": {},
     "output_type": "display_data"
    },
    {
     "data": {
      "application/vnd.jupyter.widget-view+json": {
       "model_id": "",
       "version_major": 2,
       "version_minor": 0
      },
      "text/plain": [
       "Validation: 0it [00:00, ?it/s]"
      ]
     },
     "metadata": {},
     "output_type": "display_data"
    },
    {
     "data": {
      "application/vnd.jupyter.widget-view+json": {
       "model_id": "",
       "version_major": 2,
       "version_minor": 0
      },
      "text/plain": [
       "Validation: 0it [00:00, ?it/s]"
      ]
     },
     "metadata": {},
     "output_type": "display_data"
    },
    {
     "data": {
      "application/vnd.jupyter.widget-view+json": {
       "model_id": "",
       "version_major": 2,
       "version_minor": 0
      },
      "text/plain": [
       "Validation: 0it [00:00, ?it/s]"
      ]
     },
     "metadata": {},
     "output_type": "display_data"
    },
    {
     "data": {
      "application/vnd.jupyter.widget-view+json": {
       "model_id": "",
       "version_major": 2,
       "version_minor": 0
      },
      "text/plain": [
       "Validation: 0it [00:00, ?it/s]"
      ]
     },
     "metadata": {},
     "output_type": "display_data"
    },
    {
     "data": {
      "application/vnd.jupyter.widget-view+json": {
       "model_id": "",
       "version_major": 2,
       "version_minor": 0
      },
      "text/plain": [
       "Validation: 0it [00:00, ?it/s]"
      ]
     },
     "metadata": {},
     "output_type": "display_data"
    },
    {
     "data": {
      "application/vnd.jupyter.widget-view+json": {
       "model_id": "",
       "version_major": 2,
       "version_minor": 0
      },
      "text/plain": [
       "Validation: 0it [00:00, ?it/s]"
      ]
     },
     "metadata": {},
     "output_type": "display_data"
    },
    {
     "data": {
      "application/vnd.jupyter.widget-view+json": {
       "model_id": "",
       "version_major": 2,
       "version_minor": 0
      },
      "text/plain": [
       "Validation: 0it [00:00, ?it/s]"
      ]
     },
     "metadata": {},
     "output_type": "display_data"
    },
    {
     "data": {
      "application/vnd.jupyter.widget-view+json": {
       "model_id": "",
       "version_major": 2,
       "version_minor": 0
      },
      "text/plain": [
       "Validation: 0it [00:00, ?it/s]"
      ]
     },
     "metadata": {},
     "output_type": "display_data"
    },
    {
     "data": {
      "application/vnd.jupyter.widget-view+json": {
       "model_id": "",
       "version_major": 2,
       "version_minor": 0
      },
      "text/plain": [
       "Validation: 0it [00:00, ?it/s]"
      ]
     },
     "metadata": {},
     "output_type": "display_data"
    },
    {
     "data": {
      "application/vnd.jupyter.widget-view+json": {
       "model_id": "",
       "version_major": 2,
       "version_minor": 0
      },
      "text/plain": [
       "Validation: 0it [00:00, ?it/s]"
      ]
     },
     "metadata": {},
     "output_type": "display_data"
    },
    {
     "data": {
      "application/vnd.jupyter.widget-view+json": {
       "model_id": "",
       "version_major": 2,
       "version_minor": 0
      },
      "text/plain": [
       "Validation: 0it [00:00, ?it/s]"
      ]
     },
     "metadata": {},
     "output_type": "display_data"
    },
    {
     "data": {
      "application/vnd.jupyter.widget-view+json": {
       "model_id": "",
       "version_major": 2,
       "version_minor": 0
      },
      "text/plain": [
       "Validation: 0it [00:00, ?it/s]"
      ]
     },
     "metadata": {},
     "output_type": "display_data"
    },
    {
     "data": {
      "application/vnd.jupyter.widget-view+json": {
       "model_id": "",
       "version_major": 2,
       "version_minor": 0
      },
      "text/plain": [
       "Validation: 0it [00:00, ?it/s]"
      ]
     },
     "metadata": {},
     "output_type": "display_data"
    },
    {
     "data": {
      "application/vnd.jupyter.widget-view+json": {
       "model_id": "",
       "version_major": 2,
       "version_minor": 0
      },
      "text/plain": [
       "Validation: 0it [00:00, ?it/s]"
      ]
     },
     "metadata": {},
     "output_type": "display_data"
    },
    {
     "data": {
      "application/vnd.jupyter.widget-view+json": {
       "model_id": "",
       "version_major": 2,
       "version_minor": 0
      },
      "text/plain": [
       "Validation: 0it [00:00, ?it/s]"
      ]
     },
     "metadata": {},
     "output_type": "display_data"
    },
    {
     "data": {
      "application/vnd.jupyter.widget-view+json": {
       "model_id": "",
       "version_major": 2,
       "version_minor": 0
      },
      "text/plain": [
       "Validation: 0it [00:00, ?it/s]"
      ]
     },
     "metadata": {},
     "output_type": "display_data"
    },
    {
     "data": {
      "application/vnd.jupyter.widget-view+json": {
       "model_id": "",
       "version_major": 2,
       "version_minor": 0
      },
      "text/plain": [
       "Validation: 0it [00:00, ?it/s]"
      ]
     },
     "metadata": {},
     "output_type": "display_data"
    },
    {
     "data": {
      "application/vnd.jupyter.widget-view+json": {
       "model_id": "",
       "version_major": 2,
       "version_minor": 0
      },
      "text/plain": [
       "Validation: 0it [00:00, ?it/s]"
      ]
     },
     "metadata": {},
     "output_type": "display_data"
    },
    {
     "data": {
      "application/vnd.jupyter.widget-view+json": {
       "model_id": "",
       "version_major": 2,
       "version_minor": 0
      },
      "text/plain": [
       "Validation: 0it [00:00, ?it/s]"
      ]
     },
     "metadata": {},
     "output_type": "display_data"
    },
    {
     "data": {
      "application/vnd.jupyter.widget-view+json": {
       "model_id": "",
       "version_major": 2,
       "version_minor": 0
      },
      "text/plain": [
       "Validation: 0it [00:00, ?it/s]"
      ]
     },
     "metadata": {},
     "output_type": "display_data"
    },
    {
     "data": {
      "application/vnd.jupyter.widget-view+json": {
       "model_id": "",
       "version_major": 2,
       "version_minor": 0
      },
      "text/plain": [
       "Validation: 0it [00:00, ?it/s]"
      ]
     },
     "metadata": {},
     "output_type": "display_data"
    },
    {
     "data": {
      "application/vnd.jupyter.widget-view+json": {
       "model_id": "",
       "version_major": 2,
       "version_minor": 0
      },
      "text/plain": [
       "Validation: 0it [00:00, ?it/s]"
      ]
     },
     "metadata": {},
     "output_type": "display_data"
    },
    {
     "data": {
      "application/vnd.jupyter.widget-view+json": {
       "model_id": "",
       "version_major": 2,
       "version_minor": 0
      },
      "text/plain": [
       "Validation: 0it [00:00, ?it/s]"
      ]
     },
     "metadata": {},
     "output_type": "display_data"
    },
    {
     "data": {
      "application/vnd.jupyter.widget-view+json": {
       "model_id": "",
       "version_major": 2,
       "version_minor": 0
      },
      "text/plain": [
       "Validation: 0it [00:00, ?it/s]"
      ]
     },
     "metadata": {},
     "output_type": "display_data"
    },
    {
     "data": {
      "application/vnd.jupyter.widget-view+json": {
       "model_id": "",
       "version_major": 2,
       "version_minor": 0
      },
      "text/plain": [
       "Validation: 0it [00:00, ?it/s]"
      ]
     },
     "metadata": {},
     "output_type": "display_data"
    },
    {
     "data": {
      "application/vnd.jupyter.widget-view+json": {
       "model_id": "",
       "version_major": 2,
       "version_minor": 0
      },
      "text/plain": [
       "Validation: 0it [00:00, ?it/s]"
      ]
     },
     "metadata": {},
     "output_type": "display_data"
    },
    {
     "data": {
      "application/vnd.jupyter.widget-view+json": {
       "model_id": "",
       "version_major": 2,
       "version_minor": 0
      },
      "text/plain": [
       "Validation: 0it [00:00, ?it/s]"
      ]
     },
     "metadata": {},
     "output_type": "display_data"
    },
    {
     "data": {
      "application/vnd.jupyter.widget-view+json": {
       "model_id": "",
       "version_major": 2,
       "version_minor": 0
      },
      "text/plain": [
       "Validation: 0it [00:00, ?it/s]"
      ]
     },
     "metadata": {},
     "output_type": "display_data"
    },
    {
     "data": {
      "application/vnd.jupyter.widget-view+json": {
       "model_id": "",
       "version_major": 2,
       "version_minor": 0
      },
      "text/plain": [
       "Validation: 0it [00:00, ?it/s]"
      ]
     },
     "metadata": {},
     "output_type": "display_data"
    },
    {
     "data": {
      "application/vnd.jupyter.widget-view+json": {
       "model_id": "",
       "version_major": 2,
       "version_minor": 0
      },
      "text/plain": [
       "Validation: 0it [00:00, ?it/s]"
      ]
     },
     "metadata": {},
     "output_type": "display_data"
    },
    {
     "data": {
      "application/vnd.jupyter.widget-view+json": {
       "model_id": "",
       "version_major": 2,
       "version_minor": 0
      },
      "text/plain": [
       "Validation: 0it [00:00, ?it/s]"
      ]
     },
     "metadata": {},
     "output_type": "display_data"
    },
    {
     "data": {
      "application/vnd.jupyter.widget-view+json": {
       "model_id": "",
       "version_major": 2,
       "version_minor": 0
      },
      "text/plain": [
       "Validation: 0it [00:00, ?it/s]"
      ]
     },
     "metadata": {},
     "output_type": "display_data"
    },
    {
     "data": {
      "application/vnd.jupyter.widget-view+json": {
       "model_id": "",
       "version_major": 2,
       "version_minor": 0
      },
      "text/plain": [
       "Validation: 0it [00:00, ?it/s]"
      ]
     },
     "metadata": {},
     "output_type": "display_data"
    },
    {
     "data": {
      "application/vnd.jupyter.widget-view+json": {
       "model_id": "",
       "version_major": 2,
       "version_minor": 0
      },
      "text/plain": [
       "Validation: 0it [00:00, ?it/s]"
      ]
     },
     "metadata": {},
     "output_type": "display_data"
    },
    {
     "data": {
      "application/vnd.jupyter.widget-view+json": {
       "model_id": "",
       "version_major": 2,
       "version_minor": 0
      },
      "text/plain": [
       "Validation: 0it [00:00, ?it/s]"
      ]
     },
     "metadata": {},
     "output_type": "display_data"
    },
    {
     "data": {
      "application/vnd.jupyter.widget-view+json": {
       "model_id": "",
       "version_major": 2,
       "version_minor": 0
      },
      "text/plain": [
       "Validation: 0it [00:00, ?it/s]"
      ]
     },
     "metadata": {},
     "output_type": "display_data"
    },
    {
     "data": {
      "application/vnd.jupyter.widget-view+json": {
       "model_id": "",
       "version_major": 2,
       "version_minor": 0
      },
      "text/plain": [
       "Validation: 0it [00:00, ?it/s]"
      ]
     },
     "metadata": {},
     "output_type": "display_data"
    },
    {
     "data": {
      "application/vnd.jupyter.widget-view+json": {
       "model_id": "",
       "version_major": 2,
       "version_minor": 0
      },
      "text/plain": [
       "Validation: 0it [00:00, ?it/s]"
      ]
     },
     "metadata": {},
     "output_type": "display_data"
    },
    {
     "data": {
      "application/vnd.jupyter.widget-view+json": {
       "model_id": "",
       "version_major": 2,
       "version_minor": 0
      },
      "text/plain": [
       "Validation: 0it [00:00, ?it/s]"
      ]
     },
     "metadata": {},
     "output_type": "display_data"
    },
    {
     "data": {
      "application/vnd.jupyter.widget-view+json": {
       "model_id": "",
       "version_major": 2,
       "version_minor": 0
      },
      "text/plain": [
       "Validation: 0it [00:00, ?it/s]"
      ]
     },
     "metadata": {},
     "output_type": "display_data"
    },
    {
     "data": {
      "application/vnd.jupyter.widget-view+json": {
       "model_id": "",
       "version_major": 2,
       "version_minor": 0
      },
      "text/plain": [
       "Validation: 0it [00:00, ?it/s]"
      ]
     },
     "metadata": {},
     "output_type": "display_data"
    },
    {
     "data": {
      "application/vnd.jupyter.widget-view+json": {
       "model_id": "",
       "version_major": 2,
       "version_minor": 0
      },
      "text/plain": [
       "Validation: 0it [00:00, ?it/s]"
      ]
     },
     "metadata": {},
     "output_type": "display_data"
    },
    {
     "data": {
      "application/vnd.jupyter.widget-view+json": {
       "model_id": "",
       "version_major": 2,
       "version_minor": 0
      },
      "text/plain": [
       "Validation: 0it [00:00, ?it/s]"
      ]
     },
     "metadata": {},
     "output_type": "display_data"
    },
    {
     "data": {
      "application/vnd.jupyter.widget-view+json": {
       "model_id": "",
       "version_major": 2,
       "version_minor": 0
      },
      "text/plain": [
       "Validation: 0it [00:00, ?it/s]"
      ]
     },
     "metadata": {},
     "output_type": "display_data"
    },
    {
     "data": {
      "application/vnd.jupyter.widget-view+json": {
       "model_id": "",
       "version_major": 2,
       "version_minor": 0
      },
      "text/plain": [
       "Validation: 0it [00:00, ?it/s]"
      ]
     },
     "metadata": {},
     "output_type": "display_data"
    },
    {
     "name": "stderr",
     "output_type": "stream",
     "text": [
      "`Trainer.fit` stopped: `max_epochs=200` reached.\n"
     ]
    }
   ],
   "source": [
    "estimator.train()"
   ]
  },
  {
   "cell_type": "code",
   "execution_count": 7,
   "id": "55a6639e",
   "metadata": {},
   "outputs": [
    {
     "data": {
      "text/plain": [
       "ConditionalGaussianDDPM(\n",
       "  (denoising_model): MLPTimeStep(\n",
       "    (model): MLPTimeEmbedCond(\n",
       "      (net): Sequential(\n",
       "        (0): Linear(in_features=1966, out_features=256, bias=True)\n",
       "        (1): BatchNorm1d(256, eps=1e-05, momentum=0.1, affine=True, track_running_stats=True)\n",
       "        (2): ReLU()\n",
       "        (3): Linear(in_features=256, out_features=256, bias=True)\n",
       "        (4): BatchNorm1d(256, eps=1e-05, momentum=0.1, affine=True, track_running_stats=True)\n",
       "        (5): ReLU()\n",
       "        (6): Linear(in_features=256, out_features=256, bias=True)\n",
       "        (7): BatchNorm1d(256, eps=1e-05, momentum=0.1, affine=True, track_running_stats=True)\n",
       "        (8): ReLU()\n",
       "        (9): Linear(in_features=256, out_features=1838, bias=True)\n",
       "      )\n",
       "    )\n",
       "  )\n",
       "  (mse): MSELoss()\n",
       ")"
      ]
     },
     "execution_count": 7,
     "metadata": {},
     "output_type": "execute_result"
    }
   ],
   "source": [
    "estimator.generative_model"
   ]
  },
  {
   "cell_type": "code",
   "execution_count": null,
   "id": "35730e0d",
   "metadata": {},
   "outputs": [],
   "source": []
  },
  {
   "cell_type": "code",
   "execution_count": null,
   "id": "07eac63f",
   "metadata": {},
   "outputs": [],
   "source": []
  },
  {
   "cell_type": "code",
   "execution_count": 8,
   "id": "05554c42",
   "metadata": {},
   "outputs": [
    {
     "name": "stdout",
     "output_type": "stream",
     "text": [
      "tensor([[-0.0675,  0.2048,  0.4227,  ...,  0.6381,  0.2137,  0.0304],\n",
      "        [ 0.2559,  0.1082,  0.0795,  ..., -0.2091, -0.3002,  0.0830],\n",
      "        [-0.1870,  0.0678,  0.2981,  ...,  0.0035,  0.0374,  0.0459],\n",
      "        ...,\n",
      "        [-0.1156,  0.0065,  0.1497,  ..., -0.4932, -0.0133, -0.1400],\n",
      "        [ 0.0119,  0.3169, -0.2066,  ..., -0.1738,  0.1118,  0.0337],\n",
      "        [ 0.0158, -0.1917, -0.0380,  ..., -0.6164,  0.0220,  0.0416]],\n",
      "       device='cuda:0')\n",
      "tensor([[-0.0674,  0.2047,  0.4218,  ...,  0.6387,  0.2138,  0.0304],\n",
      "        [ 0.2565,  0.1075,  0.0797,  ..., -0.2092, -0.3003,  0.0832],\n",
      "        [-0.1870,  0.0675,  0.2976,  ...,  0.0039,  0.0373,  0.0454],\n",
      "        ...,\n",
      "        [-0.1153,  0.0065,  0.1497,  ..., -0.4930, -0.0136, -0.1397],\n",
      "        [ 0.0119,  0.3173, -0.2067,  ..., -0.1752,  0.1116,  0.0343],\n",
      "        [ 0.0161, -0.1924, -0.0381,  ..., -0.6165,  0.0224,  0.0415]],\n",
      "       device='cuda:0')\n",
      "tensor([[-0.0672,  0.2046,  0.4220,  ...,  0.6390,  0.2139,  0.0308],\n",
      "        [ 0.2561,  0.1065,  0.0807,  ..., -0.2079, -0.2991,  0.0825],\n",
      "        [-0.1868,  0.0673,  0.2974,  ...,  0.0046,  0.0372,  0.0449],\n",
      "        ...,\n",
      "        [-0.1153,  0.0060,  0.1499,  ..., -0.4910, -0.0136, -0.1396],\n",
      "        [ 0.0116,  0.3174, -0.2068,  ..., -0.1749,  0.1111,  0.0341],\n",
      "        [ 0.0167, -0.1920, -0.0378,  ..., -0.6166,  0.0224,  0.0416]],\n",
      "       device='cuda:0')\n",
      "tensor([[-0.0670,  0.2047,  0.4214,  ...,  0.6395,  0.2139,  0.0308],\n",
      "        [ 0.2564,  0.1063,  0.0802,  ..., -0.2061, -0.2984,  0.0819],\n",
      "        [-0.1868,  0.0674,  0.2971,  ...,  0.0040,  0.0369,  0.0447],\n",
      "        ...,\n",
      "        [-0.1148,  0.0056,  0.1502,  ..., -0.4897, -0.0134, -0.1397],\n",
      "        [ 0.0113,  0.3166, -0.2061,  ..., -0.1747,  0.1107,  0.0341],\n",
      "        [ 0.0168, -0.1925, -0.0378,  ..., -0.6172,  0.0222,  0.0419]],\n",
      "       device='cuda:0')\n",
      "tensor([[-0.0669,  0.2047,  0.4212,  ...,  0.6397,  0.2137,  0.0310],\n",
      "        [ 0.2565,  0.1066,  0.0801,  ..., -0.2038, -0.2978,  0.0820],\n",
      "        [-0.1867,  0.0671,  0.2973,  ...,  0.0034,  0.0366,  0.0446],\n",
      "        ...,\n",
      "        [-0.1144,  0.0059,  0.1501,  ..., -0.4892, -0.0136, -0.1398],\n",
      "        [ 0.0113,  0.3165, -0.2059,  ..., -0.1748,  0.1105,  0.0340],\n",
      "        [ 0.0167, -0.1925, -0.0372,  ..., -0.6177,  0.0221,  0.0417]],\n",
      "       device='cuda:0')\n",
      "tensor([[-0.0668,  0.2045,  0.4202,  ...,  0.6390,  0.2135,  0.0310],\n",
      "        [ 0.2566,  0.1068,  0.0805,  ..., -0.2028, -0.2968,  0.0819],\n",
      "        [-0.1863,  0.0672,  0.2975,  ...,  0.0029,  0.0360,  0.0443],\n",
      "        ...,\n",
      "        [-0.1144,  0.0062,  0.1505,  ..., -0.4880, -0.0134, -0.1405],\n",
      "        [ 0.0115,  0.3171, -0.2055,  ..., -0.1759,  0.1108,  0.0341],\n",
      "        [ 0.0168, -0.1924, -0.0368,  ..., -0.6168,  0.0226,  0.0418]],\n",
      "       device='cuda:0')\n",
      "tensor([[-0.0660,  0.2052,  0.4194,  ...,  0.6383,  0.2141,  0.0311],\n",
      "        [ 0.2566,  0.1068,  0.0806,  ..., -0.2027, -0.2960,  0.0821],\n",
      "        [-0.1856,  0.0675,  0.2975,  ...,  0.0026,  0.0358,  0.0440],\n",
      "        ...,\n",
      "        [-0.1140,  0.0056,  0.1513,  ..., -0.4882, -0.0129, -0.1409],\n",
      "        [ 0.0116,  0.3169, -0.2052,  ..., -0.1774,  0.1107,  0.0342],\n",
      "        [ 0.0168, -0.1923, -0.0365,  ..., -0.6167,  0.0227,  0.0417]],\n",
      "       device='cuda:0')\n",
      "tensor([[-0.0660,  0.2054,  0.4191,  ...,  0.6377,  0.2139,  0.0309],\n",
      "        [ 0.2566,  0.1067,  0.0812,  ..., -0.2022, -0.2947,  0.0824],\n",
      "        [-0.1862,  0.0677,  0.2970,  ...,  0.0033,  0.0357,  0.0434],\n",
      "        ...,\n",
      "        [-0.1140,  0.0056,  0.1511,  ..., -0.4880, -0.0131, -0.1410],\n",
      "        [ 0.0118,  0.3162, -0.2050,  ..., -0.1774,  0.1111,  0.0339],\n",
      "        [ 0.0167, -0.1923, -0.0363,  ..., -0.6163,  0.0226,  0.0418]],\n",
      "       device='cuda:0')\n",
      "tensor([[-0.0655,  0.2059,  0.4185,  ...,  0.6379,  0.2141,  0.0310],\n",
      "        [ 0.2568,  0.1070,  0.0815,  ..., -0.2018, -0.2939,  0.0826],\n",
      "        [-0.1864,  0.0681,  0.2967,  ...,  0.0046,  0.0360,  0.0430],\n",
      "        ...,\n",
      "        [-0.1133,  0.0057,  0.1506,  ..., -0.4874, -0.0130, -0.1414],\n",
      "        [ 0.0117,  0.3158, -0.2043,  ..., -0.1780,  0.1117,  0.0340],\n",
      "        [ 0.0166, -0.1924, -0.0355,  ..., -0.6166,  0.0227,  0.0420]],\n",
      "       device='cuda:0')\n",
      "tensor([[-0.0657,  0.2061,  0.4180,  ...,  0.6380,  0.2137,  0.0308],\n",
      "        [ 0.2569,  0.1070,  0.0823,  ..., -0.2015, -0.2931,  0.0825],\n",
      "        [-0.1864,  0.0685,  0.2966,  ...,  0.0045,  0.0361,  0.0429],\n",
      "        ...,\n",
      "        [-0.1128,  0.0057,  0.1507,  ..., -0.4853, -0.0129, -0.1411],\n",
      "        [ 0.0116,  0.3155, -0.2038,  ..., -0.1772,  0.1117,  0.0346],\n",
      "        [ 0.0168, -0.1921, -0.0358,  ..., -0.6149,  0.0224,  0.0422]],\n",
      "       device='cuda:0')\n",
      "tensor([[-0.0653,  0.2062,  0.4175,  ...,  0.6394,  0.2134,  0.0309],\n",
      "        [ 0.2567,  0.1069,  0.0825,  ..., -0.2008, -0.2921,  0.0821],\n",
      "        [-0.1864,  0.0690,  0.2958,  ...,  0.0052,  0.0360,  0.0423],\n",
      "        ...,\n",
      "        [-0.1125,  0.0059,  0.1506,  ..., -0.4847, -0.0129, -0.1412],\n",
      "        [ 0.0121,  0.3152, -0.2030,  ..., -0.1762,  0.1122,  0.0349],\n",
      "        [ 0.0166, -0.1922, -0.0359,  ..., -0.6148,  0.0232,  0.0425]],\n",
      "       device='cuda:0')\n",
      "tensor([[-0.0651,  0.2066,  0.4174,  ...,  0.6383,  0.2137,  0.0309],\n",
      "        [ 0.2562,  0.1064,  0.0827,  ..., -0.1997, -0.2915,  0.0814],\n",
      "        [-0.1865,  0.0691,  0.2955,  ...,  0.0057,  0.0362,  0.0415],\n",
      "        ...,\n",
      "        [-0.1124,  0.0058,  0.1499,  ..., -0.4843, -0.0128, -0.1414],\n",
      "        [ 0.0119,  0.3144, -0.2026,  ..., -0.1772,  0.1119,  0.0351],\n",
      "        [ 0.0163, -0.1925, -0.0353,  ..., -0.6141,  0.0231,  0.0425]],\n",
      "       device='cuda:0')\n",
      "tensor([[-0.0651,  0.2069,  0.4177,  ...,  0.6384,  0.2136,  0.0307],\n",
      "        [ 0.2564,  0.1054,  0.0828,  ..., -0.1992, -0.2907,  0.0814],\n",
      "        [-0.1866,  0.0688,  0.2953,  ...,  0.0054,  0.0361,  0.0414],\n",
      "        ...,\n",
      "        [-0.1119,  0.0056,  0.1500,  ..., -0.4840, -0.0122, -0.1411],\n",
      "        [ 0.0117,  0.3138, -0.2018,  ..., -0.1776,  0.1119,  0.0350],\n",
      "        [ 0.0165, -0.1927, -0.0352,  ..., -0.6142,  0.0234,  0.0423]],\n",
      "       device='cuda:0')\n",
      "tensor([[-0.0648,  0.2072,  0.4171,  ...,  0.6382,  0.2129,  0.0308],\n",
      "        [ 0.2564,  0.1050,  0.0829,  ..., -0.1994, -0.2906,  0.0810],\n",
      "        [-0.1871,  0.0687,  0.2958,  ...,  0.0058,  0.0364,  0.0413],\n",
      "        ...,\n",
      "        [-0.1118,  0.0047,  0.1498,  ..., -0.4831, -0.0122, -0.1412],\n",
      "        [ 0.0117,  0.3128, -0.2013,  ..., -0.1767,  0.1120,  0.0349],\n",
      "        [ 0.0164, -0.1924, -0.0349,  ..., -0.6131,  0.0234,  0.0426]],\n",
      "       device='cuda:0')\n",
      "tensor([[-0.0647,  0.2071,  0.4164,  ...,  0.6374,  0.2127,  0.0312],\n",
      "        [ 0.2559,  0.1050,  0.0834,  ..., -0.1989, -0.2895,  0.0809],\n",
      "        [-0.1867,  0.0684,  0.2961,  ...,  0.0053,  0.0366,  0.0410],\n",
      "        ...,\n",
      "        [-0.1115,  0.0044,  0.1505,  ..., -0.4823, -0.0123, -0.1412],\n",
      "        [ 0.0120,  0.3130, -0.2009,  ..., -0.1773,  0.1119,  0.0352],\n",
      "        [ 0.0167, -0.1928, -0.0346,  ..., -0.6120,  0.0230,  0.0428]],\n",
      "       device='cuda:0')\n",
      "tensor([[-0.0642,  0.2078,  0.4161,  ...,  0.6377,  0.2129,  0.0310],\n",
      "        [ 0.2560,  0.1045,  0.0838,  ..., -0.2001, -0.2888,  0.0805],\n",
      "        [-0.1859,  0.0684,  0.2957,  ...,  0.0042,  0.0360,  0.0408],\n",
      "        ...,\n",
      "        [-0.1112,  0.0047,  0.1504,  ..., -0.4819, -0.0119, -0.1411],\n",
      "        [ 0.0117,  0.3126, -0.2002,  ..., -0.1774,  0.1115,  0.0354],\n",
      "        [ 0.0168, -0.1925, -0.0344,  ..., -0.6133,  0.0234,  0.0428]],\n",
      "       device='cuda:0')\n",
      "tensor([[-0.0641,  0.2084,  0.4158,  ...,  0.6385,  0.2129,  0.0309],\n",
      "        [ 0.2552,  0.1044,  0.0843,  ..., -0.2014, -0.2882,  0.0804],\n",
      "        [-0.1859,  0.0681,  0.2956,  ...,  0.0045,  0.0356,  0.0406],\n",
      "        ...,\n",
      "        [-0.1111,  0.0051,  0.1498,  ..., -0.4825, -0.0121, -0.1410],\n",
      "        [ 0.0119,  0.3122, -0.1998,  ..., -0.1774,  0.1113,  0.0352],\n",
      "        [ 0.0169, -0.1932, -0.0336,  ..., -0.6135,  0.0235,  0.0427]],\n",
      "       device='cuda:0')\n",
      "tensor([[-0.0638,  0.2087,  0.4152,  ...,  0.6381,  0.2127,  0.0309],\n",
      "        [ 0.2555,  0.1048,  0.0848,  ..., -0.2017, -0.2878,  0.0801],\n",
      "        [-0.1861,  0.0684,  0.2954,  ...,  0.0050,  0.0356,  0.0400],\n",
      "        ...,\n",
      "        [-0.1110,  0.0046,  0.1501,  ..., -0.4823, -0.0121, -0.1413],\n",
      "        [ 0.0122,  0.3115, -0.1995,  ..., -0.1776,  0.1120,  0.0354],\n",
      "        [ 0.0173, -0.1924, -0.0337,  ..., -0.6128,  0.0237,  0.0424]],\n",
      "       device='cuda:0')\n",
      "tensor([[-0.0640,  0.2086,  0.4144,  ...,  0.6379,  0.2126,  0.0311],\n",
      "        [ 0.2552,  0.1041,  0.0851,  ..., -0.2006, -0.2873,  0.0798],\n",
      "        [-0.1861,  0.0683,  0.2947,  ...,  0.0055,  0.0357,  0.0395],\n",
      "        ...,\n",
      "        [-0.1107,  0.0043,  0.1499,  ..., -0.4823, -0.0120, -0.1413],\n",
      "        [ 0.0123,  0.3111, -0.1989,  ..., -0.1772,  0.1121,  0.0354],\n",
      "        [ 0.0173, -0.1926, -0.0335,  ..., -0.6117,  0.0243,  0.0425]],\n",
      "       device='cuda:0')\n",
      "tensor([[-0.0633,  0.2096,  0.4138,  ...,  0.6375,  0.2124,  0.0311],\n",
      "        [ 0.2551,  0.1034,  0.0856,  ..., -0.2004, -0.2863,  0.0796],\n",
      "        [-0.1862,  0.0681,  0.2948,  ...,  0.0055,  0.0355,  0.0390],\n",
      "        ...,\n",
      "        [-0.1108,  0.0046,  0.1493,  ..., -0.4816, -0.0123, -0.1418],\n",
      "        [ 0.0122,  0.3110, -0.1981,  ..., -0.1769,  0.1124,  0.0356],\n",
      "        [ 0.0179, -0.1928, -0.0328,  ..., -0.6109,  0.0243,  0.0428]],\n",
      "       device='cuda:0')\n",
      "tensor([[-0.0629,  0.2101,  0.4139,  ...,  0.6381,  0.2127,  0.0307],\n",
      "        [ 0.2555,  0.1025,  0.0857,  ..., -0.1994, -0.2858,  0.0794],\n",
      "        [-0.1858,  0.0683,  0.2939,  ...,  0.0053,  0.0347,  0.0386],\n",
      "        ...,\n",
      "        [-0.1108,  0.0042,  0.1495,  ..., -0.4809, -0.0124, -0.1420],\n",
      "        [ 0.0119,  0.3103, -0.1981,  ..., -0.1769,  0.1122,  0.0355],\n",
      "        [ 0.0184, -0.1925, -0.0327,  ..., -0.6105,  0.0250,  0.0428]],\n",
      "       device='cuda:0')\n",
      "tensor([[-0.0626,  0.2103,  0.4135,  ...,  0.6371,  0.2121,  0.0310],\n",
      "        [ 0.2553,  0.1015,  0.0860,  ..., -0.1991, -0.2853,  0.0792],\n",
      "        [-0.1855,  0.0683,  0.2936,  ...,  0.0050,  0.0346,  0.0380],\n",
      "        ...,\n",
      "        [-0.1109,  0.0039,  0.1496,  ..., -0.4791, -0.0125, -0.1424],\n",
      "        [ 0.0120,  0.3102, -0.1974,  ..., -0.1770,  0.1122,  0.0357],\n",
      "        [ 0.0183, -0.1927, -0.0318,  ..., -0.6101,  0.0250,  0.0429]],\n",
      "       device='cuda:0')\n",
      "tensor([[-0.0625,  0.2102,  0.4130,  ...,  0.6363,  0.2121,  0.0307],\n",
      "        [ 0.2557,  0.1008,  0.0863,  ..., -0.1991, -0.2847,  0.0791],\n",
      "        [-0.1857,  0.0682,  0.2939,  ...,  0.0045,  0.0343,  0.0375],\n",
      "        ...,\n",
      "        [-0.1108,  0.0045,  0.1495,  ..., -0.4786, -0.0123, -0.1426],\n",
      "        [ 0.0120,  0.3097, -0.1972,  ..., -0.1777,  0.1122,  0.0354],\n",
      "        [ 0.0189, -0.1922, -0.0318,  ..., -0.6100,  0.0251,  0.0428]],\n",
      "       device='cuda:0')\n",
      "tensor([[-0.0628,  0.2098,  0.4129,  ...,  0.6358,  0.2116,  0.0307],\n",
      "        [ 0.2559,  0.1001,  0.0869,  ..., -0.1986, -0.2838,  0.0792],\n",
      "        [-0.1860,  0.0689,  0.2936,  ...,  0.0040,  0.0337,  0.0371],\n",
      "        ...,\n",
      "        [-0.1107,  0.0043,  0.1494,  ..., -0.4785, -0.0122, -0.1424],\n",
      "        [ 0.0122,  0.3094, -0.1968,  ..., -0.1777,  0.1127,  0.0351],\n",
      "        [ 0.0190, -0.1920, -0.0318,  ..., -0.6092,  0.0249,  0.0430]],\n",
      "       device='cuda:0')\n",
      "tensor([[-0.0630,  0.2097,  0.4127,  ...,  0.6356,  0.2115,  0.0306],\n",
      "        [ 0.2555,  0.1000,  0.0871,  ..., -0.1990, -0.2832,  0.0794],\n",
      "        [-0.1861,  0.0690,  0.2933,  ...,  0.0034,  0.0334,  0.0367],\n",
      "        ...,\n",
      "        [-0.1105,  0.0035,  0.1497,  ..., -0.4790, -0.0119, -0.1421],\n",
      "        [ 0.0119,  0.3082, -0.1966,  ..., -0.1784,  0.1130,  0.0350],\n",
      "        [ 0.0187, -0.1928, -0.0315,  ..., -0.6092,  0.0246,  0.0431]],\n",
      "       device='cuda:0')\n",
      "tensor([[-0.0629,  0.2099,  0.4126,  ...,  0.6361,  0.2116,  0.0304],\n",
      "        [ 0.2557,  0.0996,  0.0876,  ..., -0.1980, -0.2824,  0.0795],\n",
      "        [-0.1856,  0.0684,  0.2929,  ...,  0.0021,  0.0335,  0.0367],\n",
      "        ...,\n",
      "        [-0.1101,  0.0038,  0.1501,  ..., -0.4804, -0.0122, -0.1415],\n",
      "        [ 0.0121,  0.3085, -0.1967,  ..., -0.1794,  0.1133,  0.0356],\n",
      "        [ 0.0188, -0.1926, -0.0313,  ..., -0.6090,  0.0243,  0.0430]],\n",
      "       device='cuda:0')\n",
      "tensor([[-0.0632,  0.2100,  0.4124,  ...,  0.6369,  0.2115,  0.0298],\n",
      "        [ 0.2558,  0.0998,  0.0875,  ..., -0.1980, -0.2813,  0.0795],\n",
      "        [-0.1856,  0.0687,  0.2930,  ...,  0.0022,  0.0336,  0.0362],\n",
      "        ...,\n",
      "        [-0.1099,  0.0034,  0.1502,  ..., -0.4796, -0.0121, -0.1415],\n",
      "        [ 0.0123,  0.3076, -0.1959,  ..., -0.1794,  0.1134,  0.0356],\n",
      "        [ 0.0194, -0.1929, -0.0311,  ..., -0.6084,  0.0250,  0.0431]],\n",
      "       device='cuda:0')\n",
      "tensor([[-0.0628,  0.2106,  0.4116,  ...,  0.6366,  0.2115,  0.0299],\n",
      "        [ 0.2557,  0.0991,  0.0878,  ..., -0.1967, -0.2810,  0.0788],\n",
      "        [-0.1852,  0.0687,  0.2925,  ...,  0.0012,  0.0334,  0.0358],\n",
      "        ...,\n",
      "        [-0.1098,  0.0033,  0.1501,  ..., -0.4789, -0.0125, -0.1416],\n",
      "        [ 0.0124,  0.3068, -0.1954,  ..., -0.1799,  0.1137,  0.0360],\n",
      "        [ 0.0198, -0.1926, -0.0309,  ..., -0.6088,  0.0250,  0.0431]],\n",
      "       device='cuda:0')\n",
      "tensor([[-0.0624,  0.2114,  0.4111,  ...,  0.6363,  0.2118,  0.0299],\n",
      "        [ 0.2562,  0.0993,  0.0878,  ..., -0.1967, -0.2801,  0.0787],\n",
      "        [-0.1851,  0.0683,  0.2921,  ...,  0.0010,  0.0333,  0.0354],\n",
      "        ...,\n",
      "        [-0.1099,  0.0028,  0.1499,  ..., -0.4778, -0.0126, -0.1422],\n",
      "        [ 0.0128,  0.3063, -0.1947,  ..., -0.1808,  0.1142,  0.0362],\n",
      "        [ 0.0199, -0.1928, -0.0309,  ..., -0.6075,  0.0251,  0.0429]],\n",
      "       device='cuda:0')\n",
      "tensor([[-0.0624,  0.2114,  0.4108,  ...,  0.6361,  0.2115,  0.0297],\n",
      "        [ 0.2564,  0.0994,  0.0876,  ..., -0.1960, -0.2794,  0.0789],\n",
      "        [-0.1851,  0.0687,  0.2918,  ...,  0.0022,  0.0332,  0.0354],\n",
      "        ...,\n",
      "        [-0.1096,  0.0021,  0.1500,  ..., -0.4764, -0.0128, -0.1425],\n",
      "        [ 0.0128,  0.3059, -0.1947,  ..., -0.1811,  0.1136,  0.0362],\n",
      "        [ 0.0210, -0.1925, -0.0312,  ..., -0.6081,  0.0258,  0.0430]],\n",
      "       device='cuda:0')\n",
      "tensor([[-0.0623,  0.2116,  0.4101,  ...,  0.6357,  0.2111,  0.0299],\n",
      "        [ 0.2560,  0.0988,  0.0879,  ..., -0.1955, -0.2785,  0.0785],\n",
      "        [-0.1853,  0.0690,  0.2916,  ...,  0.0023,  0.0333,  0.0352],\n",
      "        ...,\n",
      "        [-0.1095,  0.0028,  0.1500,  ..., -0.4775, -0.0127, -0.1421],\n",
      "        [ 0.0126,  0.3054, -0.1940,  ..., -0.1801,  0.1141,  0.0362],\n",
      "        [ 0.0213, -0.1925, -0.0306,  ..., -0.6082,  0.0259,  0.0435]],\n",
      "       device='cuda:0')\n",
      "tensor([[-0.0624,  0.2122,  0.4098,  ...,  0.6359,  0.2109,  0.0299],\n",
      "        [ 0.2560,  0.0980,  0.0885,  ..., -0.1950, -0.2774,  0.0783],\n",
      "        [-0.1855,  0.0696,  0.2914,  ...,  0.0020,  0.0334,  0.0348],\n",
      "        ...,\n",
      "        [-0.1092,  0.0024,  0.1500,  ..., -0.4767, -0.0130, -0.1425],\n",
      "        [ 0.0127,  0.3056, -0.1938,  ..., -0.1809,  0.1140,  0.0367],\n",
      "        [ 0.0217, -0.1925, -0.0306,  ..., -0.6077,  0.0257,  0.0435]],\n",
      "       device='cuda:0')\n",
      "tensor([[-0.0623,  0.2124,  0.4097,  ...,  0.6350,  0.2107,  0.0302],\n",
      "        [ 0.2560,  0.0976,  0.0884,  ..., -0.1959, -0.2764,  0.0785],\n",
      "        [-0.1858,  0.0693,  0.2913,  ...,  0.0016,  0.0334,  0.0349],\n",
      "        ...,\n",
      "        [-0.1091,  0.0024,  0.1507,  ..., -0.4770, -0.0131, -0.1420],\n",
      "        [ 0.0129,  0.3051, -0.1932,  ..., -0.1803,  0.1138,  0.0363],\n",
      "        [ 0.0217, -0.1930, -0.0308,  ..., -0.6070,  0.0258,  0.0433]],\n",
      "       device='cuda:0')\n",
      "tensor([[-0.0618,  0.2124,  0.4092,  ...,  0.6343,  0.2104,  0.0306],\n",
      "        [ 0.2559,  0.0962,  0.0888,  ..., -0.1958, -0.2754,  0.0784],\n",
      "        [-0.1853,  0.0693,  0.2907,  ...,  0.0010,  0.0334,  0.0349],\n",
      "        ...,\n",
      "        [-0.1090,  0.0025,  0.1505,  ..., -0.4763, -0.0126, -0.1417],\n",
      "        [ 0.0132,  0.3054, -0.1928,  ..., -0.1805,  0.1139,  0.0364],\n",
      "        [ 0.0225, -0.1922, -0.0309,  ..., -0.6066,  0.0266,  0.0432]],\n",
      "       device='cuda:0')\n",
      "tensor([[-0.0620,  0.2124,  0.4091,  ...,  0.6341,  0.2103,  0.0309],\n",
      "        [ 0.2563,  0.0963,  0.0890,  ..., -0.1945, -0.2747,  0.0783],\n",
      "        [-0.1848,  0.0689,  0.2905,  ...,  0.0010,  0.0332,  0.0346],\n",
      "        ...,\n",
      "        [-0.1091,  0.0027,  0.1506,  ..., -0.4771, -0.0126, -0.1421],\n",
      "        [ 0.0131,  0.3052, -0.1925,  ..., -0.1803,  0.1138,  0.0367],\n",
      "        [ 0.0228, -0.1921, -0.0305,  ..., -0.6057,  0.0267,  0.0433]],\n",
      "       device='cuda:0')\n",
      "tensor([[-0.0624,  0.2122,  0.4086,  ...,  0.6342,  0.2107,  0.0312],\n",
      "        [ 0.2563,  0.0958,  0.0896,  ..., -0.1944, -0.2738,  0.0780],\n",
      "        [-0.1846,  0.0690,  0.2902,  ...,  0.0007,  0.0329,  0.0338],\n",
      "        ...,\n",
      "        [-0.1089,  0.0027,  0.1514,  ..., -0.4778, -0.0128, -0.1425],\n",
      "        [ 0.0133,  0.3034, -0.1917,  ..., -0.1810,  0.1137,  0.0370],\n",
      "        [ 0.0234, -0.1919, -0.0302,  ..., -0.6047,  0.0275,  0.0429]],\n",
      "       device='cuda:0')\n",
      "tensor([[-6.2260e-02,  2.1269e-01,  4.0829e-01,  ...,  6.3454e-01,\n",
      "          2.1106e-01,  3.1536e-02],\n",
      "        [ 2.5658e-01,  9.5314e-02,  8.9929e-02,  ..., -1.9305e-01,\n",
      "         -2.7297e-01,  7.7960e-02],\n",
      "        [-1.8456e-01,  6.9497e-02,  2.8982e-01,  ...,  4.2778e-05,\n",
      "          3.2804e-02,  3.3377e-02],\n",
      "        ...,\n",
      "        [-1.0870e-01,  2.3384e-03,  1.5139e-01,  ..., -4.7823e-01,\n",
      "         -1.2627e-02, -1.4240e-01],\n",
      "        [ 1.3319e-02,  3.0277e-01, -1.9081e-01,  ..., -1.8102e-01,\n",
      "          1.1363e-01,  3.7229e-02],\n",
      "        [ 2.3173e-02, -1.9247e-01, -2.9573e-02,  ..., -6.0466e-01,\n",
      "          2.7250e-02,  4.3071e-02]], device='cuda:0')\n",
      "tensor([[-6.2276e-02,  2.1290e-01,  4.0758e-01,  ...,  6.3451e-01,\n",
      "          2.1066e-01,  3.1435e-02],\n",
      "        [ 2.5616e-01,  9.5173e-02,  9.0068e-02,  ..., -1.9277e-01,\n",
      "         -2.7249e-01,  7.8232e-02],\n",
      "        [-1.8459e-01,  6.9277e-02,  2.8989e-01,  ..., -3.4513e-04,\n",
      "          3.2754e-02,  3.2659e-02],\n",
      "        ...,\n",
      "        [-1.0801e-01,  2.3179e-03,  1.5116e-01,  ..., -4.7665e-01,\n",
      "         -1.2855e-02, -1.4274e-01],\n",
      "        [ 1.3060e-02,  3.0182e-01, -1.9052e-01,  ..., -1.8129e-01,\n",
      "          1.1404e-01,  3.7219e-02],\n",
      "        [ 2.3779e-02, -1.9258e-01, -2.9719e-02,  ..., -6.0515e-01,\n",
      "          2.7583e-02,  4.2874e-02]], device='cuda:0')\n",
      "tensor([[-6.2239e-02,  2.1317e-01,  4.0708e-01,  ...,  6.3453e-01,\n",
      "          2.1080e-01,  3.1667e-02],\n",
      "        [ 2.5564e-01,  9.5002e-02,  9.0283e-02,  ..., -1.9371e-01,\n",
      "         -2.7127e-01,  7.8640e-02],\n",
      "        [-1.8419e-01,  6.9311e-02,  2.8948e-01,  ...,  3.3323e-04,\n",
      "          3.2408e-02,  3.2095e-02],\n",
      "        ...,\n",
      "        [-1.0796e-01,  1.6237e-03,  1.5103e-01,  ..., -4.7609e-01,\n",
      "         -1.3283e-02, -1.4251e-01],\n",
      "        [ 1.3416e-02,  3.0113e-01, -1.9016e-01,  ..., -1.8041e-01,\n",
      "          1.1495e-01,  3.7277e-02],\n",
      "        [ 2.3452e-02, -1.9265e-01, -2.9468e-02,  ..., -6.0416e-01,\n",
      "          2.7394e-02,  4.2962e-02]], device='cuda:0')\n",
      "tensor([[-6.2222e-02,  2.1367e-01,  4.0661e-01,  ...,  6.3444e-01,\n",
      "          2.1091e-01,  3.1735e-02],\n",
      "        [ 2.5580e-01,  9.4055e-02,  9.0457e-02,  ..., -1.9317e-01,\n",
      "         -2.7043e-01,  7.8562e-02],\n",
      "        [-1.8409e-01,  6.9390e-02,  2.8927e-01,  ..., -5.5037e-04,\n",
      "          3.2295e-02,  3.1772e-02],\n",
      "        ...,\n",
      "        [-1.0786e-01,  1.4051e-03,  1.5123e-01,  ..., -4.7580e-01,\n",
      "         -1.3390e-02, -1.4265e-01],\n",
      "        [ 1.3326e-02,  2.9963e-01, -1.8942e-01,  ..., -1.8015e-01,\n",
      "          1.1483e-01,  3.7002e-02],\n",
      "        [ 2.3263e-02, -1.9288e-01, -2.9334e-02,  ..., -6.0405e-01,\n",
      "          2.7589e-02,  4.2898e-02]], device='cuda:0')\n",
      "tensor([[-6.2197e-02,  2.1344e-01,  4.0559e-01,  ...,  6.3532e-01,\n",
      "          2.1045e-01,  3.1500e-02],\n",
      "        [ 2.5581e-01,  9.3091e-02,  9.0679e-02,  ..., -1.9243e-01,\n",
      "         -2.6988e-01,  7.8417e-02],\n",
      "        [-1.8450e-01,  6.9771e-02,  2.8898e-01,  ..., -4.7610e-04,\n",
      "          3.2276e-02,  3.1197e-02],\n",
      "        ...,\n",
      "        [-1.0813e-01,  2.0933e-05,  1.5129e-01,  ..., -4.7516e-01,\n",
      "         -1.3302e-02, -1.4302e-01],\n",
      "        [ 1.3625e-02,  2.9934e-01, -1.8917e-01,  ..., -1.8006e-01,\n",
      "          1.1515e-01,  3.7167e-02],\n",
      "        [ 2.3061e-02, -1.9296e-01, -2.9847e-02,  ..., -6.0425e-01,\n",
      "          2.7522e-02,  4.2637e-02]], device='cuda:0')\n",
      "tensor([[-6.1994e-02,  2.1439e-01,  4.0503e-01,  ...,  6.3541e-01,\n",
      "          2.1089e-01,  3.1481e-02],\n",
      "        [ 2.5539e-01,  9.2531e-02,  9.1163e-02,  ..., -1.9226e-01,\n",
      "         -2.6899e-01,  7.8155e-02],\n",
      "        [-1.8419e-01,  6.9333e-02,  2.8868e-01,  ..., -8.9855e-04,\n",
      "          3.2251e-02,  3.1188e-02],\n",
      "        ...,\n",
      "        [-1.0787e-01,  2.5736e-04,  1.5152e-01,  ..., -4.7520e-01,\n",
      "         -1.3615e-02, -1.4310e-01],\n",
      "        [ 1.3710e-02,  2.9815e-01, -1.8841e-01,  ..., -1.7928e-01,\n",
      "          1.1551e-01,  3.6735e-02],\n",
      "        [ 2.3462e-02, -1.9303e-01, -2.9479e-02,  ..., -6.0385e-01,\n",
      "          2.7175e-02,  4.2261e-02]], device='cuda:0')\n",
      "tensor([[-6.1754e-02,  2.1453e-01,  4.0448e-01,  ...,  6.3440e-01,\n",
      "          2.1057e-01,  3.1484e-02],\n",
      "        [ 2.5552e-01,  9.2485e-02,  9.1111e-02,  ..., -1.9059e-01,\n",
      "         -2.6850e-01,  7.8129e-02],\n",
      "        [-1.8423e-01,  6.9394e-02,  2.8887e-01,  ...,  2.3387e-04,\n",
      "          3.2593e-02,  3.0490e-02],\n",
      "        ...,\n",
      "        [-1.0733e-01, -3.8463e-04,  1.5160e-01,  ..., -4.7388e-01,\n",
      "         -1.3641e-02, -1.4300e-01],\n",
      "        [ 1.3616e-02,  2.9779e-01, -1.8793e-01,  ..., -1.8032e-01,\n",
      "          1.1578e-01,  3.6722e-02],\n",
      "        [ 2.4023e-02, -1.9254e-01, -2.9396e-02,  ..., -6.0345e-01,\n",
      "          2.7337e-02,  4.2371e-02]], device='cuda:0')\n",
      "tensor([[-6.2329e-02,  2.1444e-01,  4.0355e-01,  ...,  6.3418e-01,\n",
      "          2.1022e-01,  3.1707e-02],\n",
      "        [ 2.5546e-01,  9.2888e-02,  9.1109e-02,  ..., -1.8995e-01,\n",
      "         -2.6756e-01,  7.8385e-02],\n",
      "        [-1.8417e-01,  6.9588e-02,  2.8873e-01,  ...,  5.9038e-04,\n",
      "          3.2376e-02,  3.0131e-02],\n",
      "        ...,\n",
      "        [-1.0704e-01, -1.4335e-04,  1.5143e-01,  ..., -4.7369e-01,\n",
      "         -1.3567e-02, -1.4255e-01],\n",
      "        [ 1.3016e-02,  2.9743e-01, -1.8754e-01,  ..., -1.8121e-01,\n",
      "          1.1552e-01,  3.6630e-02],\n",
      "        [ 2.4318e-02, -1.9250e-01, -2.9346e-02,  ..., -6.0280e-01,\n",
      "          2.7552e-02,  4.2524e-02]], device='cuda:0')\n",
      "tensor([[-6.2532e-02,  2.1412e-01,  4.0288e-01,  ...,  6.3476e-01,\n",
      "          2.0993e-01,  3.1894e-02],\n",
      "        [ 2.5577e-01,  9.2162e-02,  9.2105e-02,  ..., -1.8973e-01,\n",
      "         -2.6634e-01,  7.8087e-02],\n",
      "        [-1.8455e-01,  6.9828e-02,  2.8833e-01,  ...,  7.9590e-04,\n",
      "          3.1912e-02,  2.9843e-02],\n",
      "        ...,\n",
      "        [-1.0687e-01,  3.7393e-04,  1.5180e-01,  ..., -4.7396e-01,\n",
      "         -1.3336e-02, -1.4266e-01],\n",
      "        [ 1.3280e-02,  2.9672e-01, -1.8756e-01,  ..., -1.8108e-01,\n",
      "          1.1560e-01,  3.6609e-02],\n",
      "        [ 2.4697e-02, -1.9210e-01, -2.8866e-02,  ..., -6.0181e-01,\n",
      "          2.7797e-02,  4.2511e-02]], device='cuda:0')\n",
      "tensor([[-6.2769e-02,  2.1397e-01,  4.0242e-01,  ...,  6.3455e-01,\n",
      "          2.0975e-01,  3.1668e-02],\n",
      "        [ 2.5555e-01,  9.2081e-02,  9.2614e-02,  ..., -1.9011e-01,\n",
      "         -2.6609e-01,  7.7919e-02],\n",
      "        [-1.8477e-01,  7.0010e-02,  2.8810e-01,  ...,  6.1378e-04,\n",
      "          3.1751e-02,  2.9946e-02],\n",
      "        ...,\n",
      "        [-1.0652e-01,  8.0212e-04,  1.5192e-01,  ..., -4.7418e-01,\n",
      "         -1.3062e-02, -1.4238e-01],\n",
      "        [ 1.3551e-02,  2.9723e-01, -1.8752e-01,  ..., -1.8113e-01,\n",
      "          1.1548e-01,  3.6959e-02],\n",
      "        [ 2.4841e-02, -1.9262e-01, -2.8846e-02,  ..., -6.0178e-01,\n",
      "          2.7726e-02,  4.2576e-02]], device='cuda:0')\n",
      "tensor([[-6.2707e-02,  2.1484e-01,  4.0149e-01,  ...,  6.3386e-01,\n",
      "          2.0938e-01,  3.1972e-02],\n",
      "        [ 2.5533e-01,  9.1037e-02,  9.2762e-02,  ..., -1.9012e-01,\n",
      "         -2.6488e-01,  7.7879e-02],\n",
      "        [-1.8426e-01,  7.0492e-02,  2.8736e-01,  ...,  5.2550e-04,\n",
      "          3.1457e-02,  2.9216e-02],\n",
      "        ...,\n",
      "        [-1.0632e-01,  1.2345e-03,  1.5210e-01,  ..., -4.7346e-01,\n",
      "         -1.3018e-02, -1.4257e-01],\n",
      "        [ 1.3389e-02,  2.9713e-01, -1.8745e-01,  ..., -1.8217e-01,\n",
      "          1.1519e-01,  3.7339e-02],\n",
      "        [ 2.5073e-02, -1.9266e-01, -2.8391e-02,  ..., -6.0073e-01,\n",
      "          2.8277e-02,  4.2100e-02]], device='cuda:0')\n",
      "tensor([[-6.2265e-02,  2.1529e-01,  4.0051e-01,  ...,  6.3390e-01,\n",
      "          2.0931e-01,  3.1833e-02],\n",
      "        [ 2.5526e-01,  9.0305e-02,  9.3195e-02,  ..., -1.8930e-01,\n",
      "         -2.6457e-01,  7.7509e-02],\n",
      "        [-1.8458e-01,  7.0760e-02,  2.8777e-01,  ...,  5.5254e-04,\n",
      "          3.1809e-02,  2.8952e-02],\n",
      "        ...,\n",
      "        [-1.0600e-01,  1.8444e-03,  1.5165e-01,  ..., -4.7177e-01,\n",
      "         -1.3075e-02, -1.4244e-01],\n",
      "        [ 1.3209e-02,  2.9683e-01, -1.8678e-01,  ..., -1.8280e-01,\n",
      "          1.1492e-01,  3.7545e-02],\n",
      "        [ 2.4947e-02, -1.9338e-01, -2.8084e-02,  ..., -6.0054e-01,\n",
      "          2.8311e-02,  4.2131e-02]], device='cuda:0')\n",
      "tensor([[-0.0620,  0.2152,  0.3995,  ...,  0.6337,  0.2091,  0.0318],\n",
      "        [ 0.2547,  0.0904,  0.0937,  ..., -0.1894, -0.2641,  0.0773],\n",
      "        [-0.1844,  0.0706,  0.2881,  ...,  0.0007,  0.0319,  0.0285],\n",
      "        ...,\n",
      "        [-0.1060,  0.0025,  0.1520,  ..., -0.4721, -0.0131, -0.1422],\n",
      "        [ 0.0134,  0.2965, -0.1865,  ..., -0.1807,  0.1152,  0.0372],\n",
      "        [ 0.0248, -0.1936, -0.0281,  ..., -0.5995,  0.0281,  0.0420]],\n",
      "       device='cuda:0')\n",
      "tensor([[-0.0621,  0.2149,  0.3987,  ...,  0.6343,  0.2089,  0.0314],\n",
      "        [ 0.2542,  0.0903,  0.0942,  ..., -0.1885, -0.2632,  0.0771],\n",
      "        [-0.1846,  0.0711,  0.2879,  ...,  0.0010,  0.0321,  0.0278],\n",
      "        ...,\n",
      "        [-0.1059,  0.0035,  0.1524,  ..., -0.4714, -0.0127, -0.1417],\n",
      "        [ 0.0136,  0.2961, -0.1860,  ..., -0.1810,  0.1156,  0.0374],\n",
      "        [ 0.0249, -0.1940, -0.0277,  ..., -0.5994,  0.0280,  0.0423]],\n",
      "       device='cuda:0')\n",
      "tensor([[-0.0622,  0.2149,  0.3982,  ...,  0.6340,  0.2088,  0.0313],\n",
      "        [ 0.2540,  0.0894,  0.0946,  ..., -0.1882, -0.2632,  0.0765],\n",
      "        [-0.1845,  0.0714,  0.2876,  ...,  0.0020,  0.0319,  0.0268],\n",
      "        ...,\n",
      "        [-0.1059,  0.0032,  0.1524,  ..., -0.4713, -0.0125, -0.1417],\n",
      "        [ 0.0136,  0.2958, -0.1857,  ..., -0.1812,  0.1163,  0.0379],\n",
      "        [ 0.0251, -0.1942, -0.0277,  ..., -0.5982,  0.0275,  0.0422]],\n",
      "       device='cuda:0')\n",
      "tensor([[-0.0618,  0.2151,  0.3977,  ...,  0.6348,  0.2088,  0.0307],\n",
      "        [ 0.2542,  0.0883,  0.0945,  ..., -0.1875, -0.2622,  0.0762],\n",
      "        [-0.1847,  0.0711,  0.2877,  ...,  0.0017,  0.0316,  0.0262],\n",
      "        ...,\n",
      "        [-0.1053,  0.0031,  0.1527,  ..., -0.4708, -0.0122, -0.1416],\n",
      "        [ 0.0139,  0.2960, -0.1860,  ..., -0.1815,  0.1163,  0.0379],\n",
      "        [ 0.0254, -0.1939, -0.0276,  ..., -0.5980,  0.0277,  0.0422]],\n",
      "       device='cuda:0')\n",
      "tensor([[-0.0619,  0.2154,  0.3972,  ...,  0.6338,  0.2085,  0.0308],\n",
      "        [ 0.2539,  0.0877,  0.0948,  ..., -0.1880, -0.2610,  0.0763],\n",
      "        [-0.1848,  0.0704,  0.2877,  ...,  0.0019,  0.0309,  0.0255],\n",
      "        ...,\n",
      "        [-0.1052,  0.0040,  0.1525,  ..., -0.4709, -0.0127, -0.1415],\n",
      "        [ 0.0134,  0.2951, -0.1853,  ..., -0.1817,  0.1164,  0.0382],\n",
      "        [ 0.0258, -0.1937, -0.0278,  ..., -0.5973,  0.0280,  0.0419]],\n",
      "       device='cuda:0')\n",
      "tensor([[-0.0618,  0.2156,  0.3966,  ...,  0.6326,  0.2081,  0.0310],\n",
      "        [ 0.2540,  0.0873,  0.0957,  ..., -0.1884, -0.2610,  0.0762],\n",
      "        [-0.1849,  0.0704,  0.2874,  ...,  0.0024,  0.0304,  0.0251],\n",
      "        ...,\n",
      "        [-0.1054,  0.0046,  0.1530,  ..., -0.4706, -0.0127, -0.1412],\n",
      "        [ 0.0134,  0.2949, -0.1847,  ..., -0.1815,  0.1167,  0.0384],\n",
      "        [ 0.0263, -0.1937, -0.0277,  ..., -0.5972,  0.0279,  0.0420]],\n",
      "       device='cuda:0')\n",
      "tensor([[-0.0620,  0.2164,  0.3955,  ...,  0.6333,  0.2080,  0.0311],\n",
      "        [ 0.2543,  0.0868,  0.0962,  ..., -0.1888, -0.2606,  0.0759],\n",
      "        [-0.1849,  0.0704,  0.2873,  ...,  0.0027,  0.0303,  0.0244],\n",
      "        ...,\n",
      "        [-0.1053,  0.0045,  0.1534,  ..., -0.4706, -0.0128, -0.1408],\n",
      "        [ 0.0132,  0.2932, -0.1845,  ..., -0.1815,  0.1169,  0.0380],\n",
      "        [ 0.0269, -0.1931, -0.0275,  ..., -0.5967,  0.0284,  0.0419]],\n",
      "       device='cuda:0')\n",
      "tensor([[-0.0620,  0.2167,  0.3953,  ...,  0.6341,  0.2079,  0.0311],\n",
      "        [ 0.2546,  0.0871,  0.0969,  ..., -0.1880, -0.2597,  0.0755],\n",
      "        [-0.1846,  0.0705,  0.2874,  ...,  0.0029,  0.0305,  0.0242],\n",
      "        ...,\n",
      "        [-0.1052,  0.0041,  0.1535,  ..., -0.4713, -0.0128, -0.1408],\n",
      "        [ 0.0134,  0.2935, -0.1845,  ..., -0.1824,  0.1171,  0.0380],\n",
      "        [ 0.0268, -0.1933, -0.0272,  ..., -0.5958,  0.0286,  0.0418]],\n",
      "       device='cuda:0')\n",
      "tensor([[-0.0620,  0.2171,  0.3946,  ...,  0.6338,  0.2077,  0.0310],\n",
      "        [ 0.2542,  0.0870,  0.0968,  ..., -0.1863, -0.2587,  0.0752],\n",
      "        [-0.1846,  0.0709,  0.2871,  ...,  0.0029,  0.0303,  0.0240],\n",
      "        ...,\n",
      "        [-0.1049,  0.0037,  0.1536,  ..., -0.4711, -0.0128, -0.1408],\n",
      "        [ 0.0129,  0.2936, -0.1841,  ..., -0.1836,  0.1171,  0.0385],\n",
      "        [ 0.0269, -0.1932, -0.0270,  ..., -0.5953,  0.0291,  0.0418]],\n",
      "       device='cuda:0')\n",
      "tensor([[-0.0618,  0.2176,  0.3941,  ...,  0.6337,  0.2077,  0.0308],\n",
      "        [ 0.2542,  0.0864,  0.0972,  ..., -0.1861, -0.2583,  0.0748],\n",
      "        [-0.1848,  0.0718,  0.2868,  ...,  0.0031,  0.0298,  0.0235],\n",
      "        ...,\n",
      "        [-0.1050,  0.0042,  0.1538,  ..., -0.4704, -0.0132, -0.1409],\n",
      "        [ 0.0129,  0.2933, -0.1829,  ..., -0.1835,  0.1170,  0.0385],\n",
      "        [ 0.0271, -0.1931, -0.0276,  ..., -0.5956,  0.0294,  0.0415]],\n",
      "       device='cuda:0')\n",
      "tensor([[-0.0619,  0.2178,  0.3937,  ...,  0.6332,  0.2073,  0.0308],\n",
      "        [ 0.2535,  0.0857,  0.0978,  ..., -0.1857, -0.2576,  0.0748],\n",
      "        [-0.1847,  0.0718,  0.2868,  ...,  0.0030,  0.0296,  0.0230],\n",
      "        ...,\n",
      "        [-0.1049,  0.0042,  0.1536,  ..., -0.4705, -0.0130, -0.1407],\n",
      "        [ 0.0127,  0.2929, -0.1827,  ..., -0.1838,  0.1170,  0.0383],\n",
      "        [ 0.0272, -0.1927, -0.0273,  ..., -0.5961,  0.0291,  0.0415]],\n",
      "       device='cuda:0')\n",
      "tensor([[-0.0619,  0.2181,  0.3930,  ...,  0.6321,  0.2069,  0.0307],\n",
      "        [ 0.2534,  0.0859,  0.0978,  ..., -0.1865, -0.2565,  0.0747],\n",
      "        [-0.1845,  0.0721,  0.2872,  ...,  0.0032,  0.0296,  0.0227],\n",
      "        ...,\n",
      "        [-0.1048,  0.0042,  0.1538,  ..., -0.4707, -0.0132, -0.1412],\n",
      "        [ 0.0129,  0.2927, -0.1821,  ..., -0.1826,  0.1172,  0.0383],\n",
      "        [ 0.0272, -0.1930, -0.0270,  ..., -0.5958,  0.0290,  0.0415]],\n",
      "       device='cuda:0')\n",
      "tensor([[-0.0622,  0.2183,  0.3922,  ...,  0.6309,  0.2068,  0.0307],\n",
      "        [ 0.2534,  0.0856,  0.0982,  ..., -0.1866, -0.2566,  0.0743],\n",
      "        [-0.1848,  0.0721,  0.2868,  ...,  0.0038,  0.0292,  0.0223],\n",
      "        ...,\n",
      "        [-0.1042,  0.0036,  0.1539,  ..., -0.4700, -0.0133, -0.1413],\n",
      "        [ 0.0131,  0.2924, -0.1811,  ..., -0.1827,  0.1177,  0.0383],\n",
      "        [ 0.0270, -0.1928, -0.0270,  ..., -0.5951,  0.0289,  0.0416]],\n",
      "       device='cuda:0')\n",
      "tensor([[-0.0624,  0.2185,  0.3909,  ...,  0.6303,  0.2070,  0.0305],\n",
      "        [ 0.2532,  0.0854,  0.0982,  ..., -0.1863, -0.2560,  0.0737],\n",
      "        [-0.1849,  0.0715,  0.2865,  ...,  0.0039,  0.0290,  0.0220],\n",
      "        ...,\n",
      "        [-0.1040,  0.0029,  0.1542,  ..., -0.4697, -0.0135, -0.1411],\n",
      "        [ 0.0130,  0.2921, -0.1807,  ..., -0.1831,  0.1182,  0.0386],\n",
      "        [ 0.0267, -0.1929, -0.0271,  ..., -0.5945,  0.0288,  0.0415]],\n",
      "       device='cuda:0')\n"
     ]
    },
    {
     "name": "stdout",
     "output_type": "stream",
     "text": [
      "tensor([[-0.0625,  0.2187,  0.3894,  ...,  0.6293,  0.2068,  0.0304],\n",
      "        [ 0.2529,  0.0851,  0.0982,  ..., -0.1872, -0.2555,  0.0741],\n",
      "        [-0.1844,  0.0711,  0.2861,  ...,  0.0042,  0.0288,  0.0218],\n",
      "        ...,\n",
      "        [-0.1041,  0.0030,  0.1539,  ..., -0.4692, -0.0132, -0.1407],\n",
      "        [ 0.0129,  0.2921, -0.1803,  ..., -0.1838,  0.1180,  0.0386],\n",
      "        [ 0.0266, -0.1931, -0.0270,  ..., -0.5949,  0.0288,  0.0414]],\n",
      "       device='cuda:0')\n",
      "tensor([[-0.0627,  0.2192,  0.3884,  ...,  0.6286,  0.2069,  0.0302],\n",
      "        [ 0.2535,  0.0848,  0.0987,  ..., -0.1856, -0.2547,  0.0741],\n",
      "        [-0.1847,  0.0712,  0.2858,  ...,  0.0037,  0.0284,  0.0214],\n",
      "        ...,\n",
      "        [-0.1033,  0.0033,  0.1538,  ..., -0.4683, -0.0131, -0.1406],\n",
      "        [ 0.0127,  0.2912, -0.1797,  ..., -0.1828,  0.1182,  0.0389],\n",
      "        [ 0.0268, -0.1927, -0.0272,  ..., -0.5946,  0.0286,  0.0411]],\n",
      "       device='cuda:0')\n",
      "tensor([[-0.0626,  0.2194,  0.3877,  ...,  0.6287,  0.2068,  0.0303],\n",
      "        [ 0.2535,  0.0849,  0.0990,  ..., -0.1856, -0.2540,  0.0741],\n",
      "        [-0.1846,  0.0715,  0.2852,  ...,  0.0032,  0.0282,  0.0212],\n",
      "        ...,\n",
      "        [-0.1029,  0.0028,  0.1539,  ..., -0.4691, -0.0125, -0.1404],\n",
      "        [ 0.0126,  0.2904, -0.1791,  ..., -0.1821,  0.1184,  0.0389],\n",
      "        [ 0.0263, -0.1937, -0.0273,  ..., -0.5947,  0.0284,  0.0409]],\n",
      "       device='cuda:0')\n",
      "tensor([[-0.0624,  0.2197,  0.3873,  ...,  0.6282,  0.2068,  0.0302],\n",
      "        [ 0.2530,  0.0845,  0.0994,  ..., -0.1859, -0.2525,  0.0739],\n",
      "        [-0.1847,  0.0714,  0.2852,  ...,  0.0033,  0.0277,  0.0207],\n",
      "        ...,\n",
      "        [-0.1027,  0.0023,  0.1540,  ..., -0.4694, -0.0128, -0.1406],\n",
      "        [ 0.0129,  0.2899, -0.1791,  ..., -0.1826,  0.1190,  0.0392],\n",
      "        [ 0.0264, -0.1942, -0.0271,  ..., -0.5950,  0.0282,  0.0408]],\n",
      "       device='cuda:0')\n",
      "tensor([[-0.0623,  0.2195,  0.3869,  ...,  0.6278,  0.2068,  0.0301],\n",
      "        [ 0.2525,  0.0840,  0.0999,  ..., -0.1849, -0.2516,  0.0736],\n",
      "        [-0.1851,  0.0716,  0.2848,  ...,  0.0027,  0.0270,  0.0207],\n",
      "        ...,\n",
      "        [-0.1025,  0.0023,  0.1542,  ..., -0.4688, -0.0128, -0.1405],\n",
      "        [ 0.0128,  0.2901, -0.1789,  ..., -0.1827,  0.1195,  0.0392],\n",
      "        [ 0.0263, -0.1941, -0.0270,  ..., -0.5939,  0.0280,  0.0407]],\n",
      "       device='cuda:0')\n",
      "tensor([[-0.0624,  0.2198,  0.3862,  ...,  0.6282,  0.2064,  0.0301],\n",
      "        [ 0.2526,  0.0837,  0.0999,  ..., -0.1851, -0.2508,  0.0738],\n",
      "        [-0.1853,  0.0711,  0.2848,  ...,  0.0033,  0.0266,  0.0204],\n",
      "        ...,\n",
      "        [-0.1022,  0.0022,  0.1542,  ..., -0.4692, -0.0130, -0.1402],\n",
      "        [ 0.0129,  0.2893, -0.1782,  ..., -0.1828,  0.1203,  0.0392],\n",
      "        [ 0.0260, -0.1946, -0.0267,  ..., -0.5940,  0.0282,  0.0407]],\n",
      "       device='cuda:0')\n",
      "tensor([[-0.0623,  0.2200,  0.3855,  ...,  0.6274,  0.2063,  0.0301],\n",
      "        [ 0.2529,  0.0826,  0.1005,  ..., -0.1844, -0.2498,  0.0738],\n",
      "        [-0.1854,  0.0714,  0.2848,  ...,  0.0031,  0.0268,  0.0201],\n",
      "        ...,\n",
      "        [-0.1018,  0.0025,  0.1546,  ..., -0.4689, -0.0128, -0.1399],\n",
      "        [ 0.0127,  0.2896, -0.1783,  ..., -0.1834,  0.1208,  0.0389],\n",
      "        [ 0.0260, -0.1944, -0.0267,  ..., -0.5932,  0.0281,  0.0407]],\n",
      "       device='cuda:0')\n",
      "tensor([[-0.0626,  0.2199,  0.3845,  ...,  0.6267,  0.2056,  0.0303],\n",
      "        [ 0.2524,  0.0818,  0.1006,  ..., -0.1846, -0.2494,  0.0734],\n",
      "        [-0.1854,  0.0711,  0.2848,  ...,  0.0025,  0.0267,  0.0199],\n",
      "        ...,\n",
      "        [-0.1015,  0.0017,  0.1542,  ..., -0.4686, -0.0124, -0.1397],\n",
      "        [ 0.0127,  0.2901, -0.1776,  ..., -0.1834,  0.1210,  0.0389],\n",
      "        [ 0.0258, -0.1945, -0.0265,  ..., -0.5926,  0.0285,  0.0406]],\n",
      "       device='cuda:0')\n",
      "tensor([[-0.0625,  0.2193,  0.3838,  ...,  0.6266,  0.2055,  0.0302],\n",
      "        [ 0.2526,  0.0814,  0.1009,  ..., -0.1835, -0.2487,  0.0730],\n",
      "        [-0.1853,  0.0715,  0.2846,  ...,  0.0024,  0.0273,  0.0194],\n",
      "        ...,\n",
      "        [-0.1009,  0.0013,  0.1538,  ..., -0.4679, -0.0120, -0.1393],\n",
      "        [ 0.0124,  0.2895, -0.1770,  ..., -0.1826,  0.1213,  0.0391],\n",
      "        [ 0.0262, -0.1944, -0.0262,  ..., -0.5917,  0.0288,  0.0405]],\n",
      "       device='cuda:0')\n",
      "tensor([[-0.0627,  0.2194,  0.3834,  ...,  0.6258,  0.2055,  0.0303],\n",
      "        [ 0.2526,  0.0811,  0.1009,  ..., -0.1826, -0.2478,  0.0729],\n",
      "        [-0.1853,  0.0719,  0.2840,  ...,  0.0031,  0.0270,  0.0189],\n",
      "        ...,\n",
      "        [-0.1005,  0.0010,  0.1536,  ..., -0.4676, -0.0115, -0.1392],\n",
      "        [ 0.0125,  0.2890, -0.1767,  ..., -0.1828,  0.1217,  0.0389],\n",
      "        [ 0.0262, -0.1951, -0.0259,  ..., -0.5923,  0.0287,  0.0406]],\n",
      "       device='cuda:0')\n",
      "tensor([[-6.2414e-02,  2.1918e-01,  3.8235e-01,  ...,  6.2517e-01,\n",
      "          2.0551e-01,  3.0389e-02],\n",
      "        [ 2.5248e-01,  8.0154e-02,  1.0134e-01,  ..., -1.8218e-01,\n",
      "         -2.4678e-01,  7.3032e-02],\n",
      "        [-1.8490e-01,  7.1077e-02,  2.8362e-01,  ...,  1.6687e-03,\n",
      "          2.6355e-02,  1.8687e-02],\n",
      "        ...,\n",
      "        [-9.9863e-02,  5.4766e-04,  1.5344e-01,  ..., -4.6665e-01,\n",
      "         -1.1295e-02, -1.3921e-01],\n",
      "        [ 1.2703e-02,  2.8923e-01, -1.7638e-01,  ..., -1.8259e-01,\n",
      "          1.2200e-01,  3.8727e-02],\n",
      "        [ 2.5852e-02, -1.9503e-01, -2.5256e-02,  ..., -5.9188e-01,\n",
      "          2.8615e-02,  4.0659e-02]], device='cuda:0')\n",
      "tensor([[-0.0623,  0.2201,  0.3820,  ...,  0.6245,  0.2054,  0.0302],\n",
      "        [ 0.2519,  0.0798,  0.1017,  ..., -0.1827, -0.2459,  0.0733],\n",
      "        [-0.1844,  0.0710,  0.2834,  ...,  0.0014,  0.0262,  0.0185],\n",
      "        ...,\n",
      "        [-0.0998,  0.0009,  0.1534,  ..., -0.4662, -0.0113, -0.1392],\n",
      "        [ 0.0129,  0.2883, -0.1765,  ..., -0.1830,  0.1222,  0.0388],\n",
      "        [ 0.0262, -0.1952, -0.0250,  ..., -0.5916,  0.0286,  0.0407]],\n",
      "       device='cuda:0')\n",
      "tensor([[-0.0621,  0.2204,  0.3818,  ...,  0.6246,  0.2055,  0.0302],\n",
      "        [ 0.2524,  0.0789,  0.1016,  ..., -0.1822, -0.2458,  0.0732],\n",
      "        [-0.1841,  0.0711,  0.2833,  ...,  0.0011,  0.0261,  0.0184],\n",
      "        ...,\n",
      "        [-0.0995,  0.0014,  0.1539,  ..., -0.4659, -0.0118, -0.1388],\n",
      "        [ 0.0131,  0.2882, -0.1760,  ..., -0.1832,  0.1228,  0.0392],\n",
      "        [ 0.0269, -0.1951, -0.0244,  ..., -0.5908,  0.0287,  0.0408]],\n",
      "       device='cuda:0')\n",
      "tensor([[-0.0620,  0.2196,  0.3810,  ...,  0.6242,  0.2048,  0.0300],\n",
      "        [ 0.2525,  0.0792,  0.1014,  ..., -0.1827, -0.2448,  0.0733],\n",
      "        [-0.1843,  0.0710,  0.2835,  ...,  0.0015,  0.0263,  0.0183],\n",
      "        ...,\n",
      "        [-0.0990,  0.0012,  0.1540,  ..., -0.4651, -0.0115, -0.1389],\n",
      "        [ 0.0133,  0.2876, -0.1756,  ..., -0.1830,  0.1230,  0.0394],\n",
      "        [ 0.0267, -0.1956, -0.0240,  ..., -0.5906,  0.0293,  0.0410]],\n",
      "       device='cuda:0')\n",
      "tensor([[-6.2082e-02,  2.1946e-01,  3.8040e-01,  ...,  6.2266e-01,\n",
      "          2.0474e-01,  2.9979e-02],\n",
      "        [ 2.5257e-01,  7.8571e-02,  1.0155e-01,  ..., -1.8249e-01,\n",
      "         -2.4363e-01,  7.3164e-02],\n",
      "        [-1.8451e-01,  7.0940e-02,  2.8321e-01,  ...,  1.3135e-03,\n",
      "          2.5949e-02,  1.7802e-02],\n",
      "        ...,\n",
      "        [-9.8833e-02,  5.1196e-04,  1.5421e-01,  ..., -4.6423e-01,\n",
      "         -1.1549e-02, -1.3890e-01],\n",
      "        [ 1.3278e-02,  2.8730e-01, -1.7521e-01,  ..., -1.8376e-01,\n",
      "          1.2266e-01,  3.9425e-02],\n",
      "        [ 2.7176e-02, -1.9488e-01, -2.3876e-02,  ..., -5.9052e-01,\n",
      "          2.9366e-02,  4.1045e-02]], device='cuda:0')\n",
      "tensor([[-6.2154e-02,  2.1971e-01,  3.7928e-01,  ...,  6.2131e-01,\n",
      "          2.0465e-01,  2.9944e-02],\n",
      "        [ 2.5312e-01,  7.7942e-02,  1.0176e-01,  ..., -1.8170e-01,\n",
      "         -2.4287e-01,  7.2923e-02],\n",
      "        [-1.8493e-01,  7.0915e-02,  2.8362e-01,  ...,  1.3301e-03,\n",
      "          2.6099e-02,  1.7179e-02],\n",
      "        ...,\n",
      "        [-9.8611e-02,  3.0853e-04,  1.5393e-01,  ..., -4.6424e-01,\n",
      "         -1.1294e-02, -1.3905e-01],\n",
      "        [ 1.3197e-02,  2.8741e-01, -1.7538e-01,  ..., -1.8310e-01,\n",
      "          1.2268e-01,  3.9010e-02],\n",
      "        [ 2.7535e-02, -1.9525e-01, -2.3692e-02,  ..., -5.8939e-01,\n",
      "          2.9005e-02,  4.0829e-02]], device='cuda:0')\n",
      "tensor([[-6.1989e-02,  2.1958e-01,  3.7830e-01,  ...,  6.2190e-01,\n",
      "          2.0434e-01,  2.9860e-02],\n",
      "        [ 2.5355e-01,  7.7983e-02,  1.0263e-01,  ..., -1.8147e-01,\n",
      "         -2.4214e-01,  7.2759e-02],\n",
      "        [-1.8478e-01,  7.1169e-02,  2.8316e-01,  ...,  9.7967e-04,\n",
      "          2.5661e-02,  1.7005e-02],\n",
      "        ...,\n",
      "        [-9.8352e-02,  4.9221e-04,  1.5479e-01,  ..., -4.6388e-01,\n",
      "         -1.1330e-02, -1.3896e-01],\n",
      "        [ 1.3114e-02,  2.8711e-01, -1.7511e-01,  ..., -1.8291e-01,\n",
      "          1.2271e-01,  3.8743e-02],\n",
      "        [ 2.7926e-02, -1.9479e-01, -2.3604e-02,  ..., -5.8795e-01,\n",
      "          2.8913e-02,  4.0704e-02]], device='cuda:0')\n",
      "tensor([[-0.0619,  0.2196,  0.3775,  ...,  0.6206,  0.2039,  0.0300],\n",
      "        [ 0.2538,  0.0779,  0.1026,  ..., -0.1810, -0.2414,  0.0728],\n",
      "        [-0.1849,  0.0713,  0.2832,  ...,  0.0015,  0.0257,  0.0164],\n",
      "        ...,\n",
      "        [-0.0981,  0.0012,  0.1550,  ..., -0.4628, -0.0116, -0.1389],\n",
      "        [ 0.0128,  0.2871, -0.1747,  ..., -0.1833,  0.1226,  0.0388],\n",
      "        [ 0.0280, -0.1943, -0.0234,  ..., -0.5871,  0.0291,  0.0405]],\n",
      "       device='cuda:0')\n",
      "tensor([[-0.0617,  0.2200,  0.3769,  ...,  0.6200,  0.2041,  0.0302],\n",
      "        [ 0.2538,  0.0774,  0.1025,  ..., -0.1806, -0.2408,  0.0727],\n",
      "        [-0.1848,  0.0715,  0.2828,  ...,  0.0013,  0.0258,  0.0163],\n",
      "        ...,\n",
      "        [-0.0980,  0.0006,  0.1549,  ..., -0.4624, -0.0112, -0.1391],\n",
      "        [ 0.0130,  0.2872, -0.1744,  ..., -0.1825,  0.1232,  0.0387],\n",
      "        [ 0.0284, -0.1943, -0.0231,  ..., -0.5866,  0.0296,  0.0409]],\n",
      "       device='cuda:0')\n",
      "tensor([[-6.1833e-02,  2.2064e-01,  3.7624e-01,  ...,  6.1865e-01,\n",
      "          2.0394e-01,  3.0636e-02],\n",
      "        [ 2.5380e-01,  7.7404e-02,  1.0281e-01,  ..., -1.8160e-01,\n",
      "         -2.4013e-01,  7.2950e-02],\n",
      "        [-1.8504e-01,  7.1416e-02,  2.8283e-01,  ...,  1.5367e-03,\n",
      "          2.5610e-02,  1.5956e-02],\n",
      "        ...,\n",
      "        [-9.7447e-02,  4.4471e-04,  1.5514e-01,  ..., -4.6169e-01,\n",
      "         -1.1051e-02, -1.3894e-01],\n",
      "        [ 1.2928e-02,  2.8720e-01, -1.7454e-01,  ..., -1.8215e-01,\n",
      "          1.2341e-01,  3.8273e-02],\n",
      "        [ 2.8495e-02, -1.9409e-01, -2.2668e-02,  ..., -5.8542e-01,\n",
      "          2.9909e-02,  4.0977e-02]], device='cuda:0')\n",
      "tensor([[-0.0615,  0.2207,  0.3754,  ...,  0.6185,  0.2041,  0.0305],\n",
      "        [ 0.2545,  0.0776,  0.1033,  ..., -0.1815, -0.2386,  0.0727],\n",
      "        [-0.1847,  0.0715,  0.2825,  ...,  0.0013,  0.0254,  0.0157],\n",
      "        ...,\n",
      "        [-0.0971,  0.0007,  0.1543,  ..., -0.4613, -0.0108, -0.1386],\n",
      "        [ 0.0128,  0.2870, -0.1744,  ..., -0.1825,  0.1234,  0.0383],\n",
      "        [ 0.0286, -0.1936, -0.0225,  ..., -0.5845,  0.0296,  0.0407]],\n",
      "       device='cuda:0')\n",
      "tensor([[-6.1335e-02,  2.2095e-01,  3.7479e-01,  ...,  6.1806e-01,\n",
      "          2.0404e-01,  3.0017e-02],\n",
      "        [ 2.5442e-01,  7.6996e-02,  1.0371e-01,  ..., -1.8107e-01,\n",
      "         -2.3789e-01,  7.2223e-02],\n",
      "        [-1.8469e-01,  7.2037e-02,  2.8196e-01,  ...,  1.4510e-03,\n",
      "          2.5279e-02,  1.5247e-02],\n",
      "        ...,\n",
      "        [-9.6967e-02,  3.2348e-04,  1.5469e-01,  ..., -4.6069e-01,\n",
      "         -1.1192e-02, -1.3868e-01],\n",
      "        [ 1.2673e-02,  2.8662e-01, -1.7404e-01,  ..., -1.8236e-01,\n",
      "          1.2355e-01,  3.8743e-02],\n",
      "        [ 2.7965e-02, -1.9406e-01, -2.2522e-02,  ..., -5.8411e-01,\n",
      "          2.9993e-02,  4.0623e-02]], device='cuda:0')\n",
      "tensor([[-6.0867e-02,  2.2075e-01,  3.7414e-01,  ...,  6.1693e-01,\n",
      "          2.0387e-01,  2.9839e-02],\n",
      "        [ 2.5422e-01,  7.6606e-02,  1.0415e-01,  ..., -1.8134e-01,\n",
      "         -2.3746e-01,  7.2442e-02],\n",
      "        [-1.8434e-01,  7.1830e-02,  2.8235e-01,  ...,  1.2076e-03,\n",
      "          2.5019e-02,  1.5036e-02],\n",
      "        ...,\n",
      "        [-9.6315e-02, -3.3194e-04,  1.5458e-01,  ..., -4.6020e-01,\n",
      "         -1.1011e-02, -1.3858e-01],\n",
      "        [ 1.2417e-02,  2.8586e-01, -1.7397e-01,  ..., -1.8300e-01,\n",
      "          1.2332e-01,  3.8895e-02],\n",
      "        [ 2.7897e-02, -1.9371e-01, -2.2694e-02,  ..., -5.8334e-01,\n",
      "          3.0036e-02,  4.0663e-02]], device='cuda:0')\n",
      "tensor([[-6.0968e-02,  2.2053e-01,  3.7377e-01,  ...,  6.1623e-01,\n",
      "          2.0371e-01,  2.9754e-02],\n",
      "        [ 2.5428e-01,  7.6682e-02,  1.0435e-01,  ..., -1.8075e-01,\n",
      "         -2.3647e-01,  7.2170e-02],\n",
      "        [-1.8468e-01,  7.2157e-02,  2.8188e-01,  ...,  1.7961e-03,\n",
      "          2.4842e-02,  1.4614e-02],\n",
      "        ...,\n",
      "        [-9.5793e-02, -1.8679e-05,  1.5461e-01,  ..., -4.5996e-01,\n",
      "         -1.1241e-02, -1.3845e-01],\n",
      "        [ 1.2385e-02,  2.8592e-01, -1.7331e-01,  ..., -1.8373e-01,\n",
      "          1.2328e-01,  3.8453e-02],\n",
      "        [ 2.7500e-02, -1.9370e-01, -2.2789e-02,  ..., -5.8400e-01,\n",
      "          3.0648e-02,  4.0322e-02]], device='cuda:0')\n",
      "tensor([[-0.0607,  0.2202,  0.3731,  ...,  0.6172,  0.2034,  0.0297],\n",
      "        [ 0.2539,  0.0758,  0.1051,  ..., -0.1815, -0.2359,  0.0717],\n",
      "        [-0.1845,  0.0724,  0.2816,  ...,  0.0019,  0.0249,  0.0142],\n",
      "        ...,\n",
      "        [-0.0953,  0.0007,  0.1542,  ..., -0.4592, -0.0114, -0.1386],\n",
      "        [ 0.0123,  0.2850, -0.1727,  ..., -0.1830,  0.1232,  0.0386],\n",
      "        [ 0.0275, -0.1942, -0.0226,  ..., -0.5839,  0.0304,  0.0405]],\n",
      "       device='cuda:0')\n",
      "tensor([[-0.0610,  0.2199,  0.3728,  ...,  0.6167,  0.2029,  0.0298],\n",
      "        [ 0.2541,  0.0754,  0.1052,  ..., -0.1804, -0.2349,  0.0714],\n",
      "        [-0.1843,  0.0722,  0.2812,  ...,  0.0019,  0.0250,  0.0136],\n",
      "        ...,\n",
      "        [-0.0951,  0.0007,  0.1545,  ..., -0.4586, -0.0114, -0.1383],\n",
      "        [ 0.0121,  0.2842, -0.1719,  ..., -0.1824,  0.1235,  0.0385],\n",
      "        [ 0.0272, -0.1944, -0.0222,  ..., -0.5837,  0.0309,  0.0406]],\n",
      "       device='cuda:0')\n",
      "tensor([[-6.0832e-02,  2.1984e-01,  3.7174e-01,  ...,  6.1701e-01,\n",
      "          2.0270e-01,  2.9823e-02],\n",
      "        [ 2.5376e-01,  7.5486e-02,  1.0585e-01,  ..., -1.8019e-01,\n",
      "         -2.3407e-01,  7.1415e-02],\n",
      "        [-1.8423e-01,  7.2257e-02,  2.8125e-01,  ...,  1.7840e-03,\n",
      "          2.5215e-02,  1.3665e-02],\n",
      "        ...,\n",
      "        [-9.4805e-02,  3.8534e-04,  1.5479e-01,  ..., -4.5827e-01,\n",
      "         -1.1571e-02, -1.3802e-01],\n",
      "        [ 1.1473e-02,  2.8357e-01, -1.7117e-01,  ..., -1.8219e-01,\n",
      "          1.2316e-01,  3.8684e-02],\n",
      "        [ 2.7497e-02, -1.9443e-01, -2.1925e-02,  ..., -5.8357e-01,\n",
      "          3.1186e-02,  4.0657e-02]], device='cuda:0')\n",
      "tensor([[-0.0606,  0.2200,  0.3713,  ...,  0.6161,  0.2028,  0.0298],\n",
      "        [ 0.2535,  0.0746,  0.1063,  ..., -0.1799, -0.2332,  0.0713],\n",
      "        [-0.1840,  0.0722,  0.2810,  ...,  0.0022,  0.0248,  0.0134],\n",
      "        ...,\n",
      "        [-0.0946,  0.0007,  0.1540,  ..., -0.4582, -0.0117, -0.1381],\n",
      "        [ 0.0113,  0.2840, -0.1711,  ..., -0.1830,  0.1227,  0.0386],\n",
      "        [ 0.0276, -0.1947, -0.0216,  ..., -0.5828,  0.0317,  0.0407]],\n",
      "       device='cuda:0')\n",
      "tensor([[-6.0502e-02,  2.1987e-01,  3.7100e-01,  ...,  6.1617e-01,\n",
      "          2.0242e-01,  2.9481e-02],\n",
      "        [ 2.5364e-01,  7.4171e-02,  1.0586e-01,  ..., -1.8032e-01,\n",
      "         -2.3244e-01,  7.1561e-02],\n",
      "        [-1.8345e-01,  7.1495e-02,  2.8049e-01,  ...,  1.9747e-03,\n",
      "          2.4648e-02,  1.2931e-02],\n",
      "        ...,\n",
      "        [-9.3709e-02,  4.3155e-04,  1.5410e-01,  ..., -4.5767e-01,\n",
      "         -1.2096e-02, -1.3817e-01],\n",
      "        [ 1.1319e-02,  2.8471e-01, -1.7091e-01,  ..., -1.8489e-01,\n",
      "          1.2297e-01,  3.8487e-02],\n",
      "        [ 2.7113e-02, -1.9538e-01, -2.1511e-02,  ..., -5.8228e-01,\n",
      "          3.1590e-02,  4.0563e-02]], device='cuda:0')\n",
      "tensor([[-6.0294e-02,  2.1982e-01,  3.7027e-01,  ...,  6.1473e-01,\n",
      "          2.0234e-01,  2.9415e-02],\n",
      "        [ 2.5345e-01,  7.4263e-02,  1.0602e-01,  ..., -1.8083e-01,\n",
      "         -2.3165e-01,  7.1603e-02],\n",
      "        [-1.8328e-01,  7.1093e-02,  2.8040e-01,  ...,  1.0577e-03,\n",
      "          2.4129e-02,  1.2488e-02],\n",
      "        ...,\n",
      "        [-9.3568e-02,  5.1389e-04,  1.5411e-01,  ..., -4.5762e-01,\n",
      "         -1.2332e-02, -1.3823e-01],\n",
      "        [ 1.1363e-02,  2.8386e-01, -1.7040e-01,  ..., -1.8414e-01,\n",
      "          1.2322e-01,  3.8209e-02],\n",
      "        [ 2.7578e-02, -1.9561e-01, -2.1320e-02,  ..., -5.8182e-01,\n",
      "          3.1709e-02,  4.0508e-02]], device='cuda:0')\n",
      "tensor([[-6.0111e-02,  2.2019e-01,  3.7000e-01,  ...,  6.1499e-01,\n",
      "          2.0223e-01,  2.9319e-02],\n",
      "        [ 2.5361e-01,  7.3588e-02,  1.0667e-01,  ..., -1.7979e-01,\n",
      "         -2.3073e-01,  7.1406e-02],\n",
      "        [-1.8335e-01,  7.1161e-02,  2.8036e-01,  ...,  1.2068e-03,\n",
      "          2.3988e-02,  1.2244e-02],\n",
      "        ...,\n",
      "        [-9.3369e-02, -2.5312e-05,  1.5411e-01,  ..., -4.5717e-01,\n",
      "         -1.2139e-02, -1.3834e-01],\n",
      "        [ 1.1750e-02,  2.8364e-01, -1.7035e-01,  ..., -1.8504e-01,\n",
      "          1.2316e-01,  3.8540e-02],\n",
      "        [ 2.7661e-02, -1.9567e-01, -2.0879e-02,  ..., -5.8098e-01,\n",
      "          3.1343e-02,  4.0703e-02]], device='cuda:0')\n",
      "tensor([[-6.0012e-02,  2.2072e-01,  3.7020e-01,  ...,  6.1526e-01,\n",
      "          2.0224e-01,  2.9048e-02],\n",
      "        [ 2.5334e-01,  7.2388e-02,  1.0686e-01,  ..., -1.7952e-01,\n",
      "         -2.2961e-01,  7.1273e-02],\n",
      "        [-1.8310e-01,  7.1169e-02,  2.8022e-01,  ...,  1.4554e-03,\n",
      "          2.4089e-02,  1.1866e-02],\n",
      "        ...,\n",
      "        [-9.3473e-02,  1.2018e-05,  1.5433e-01,  ..., -4.5652e-01,\n",
      "         -1.2307e-02, -1.3852e-01],\n",
      "        [ 1.1472e-02,  2.8335e-01, -1.6961e-01,  ..., -1.8520e-01,\n",
      "          1.2325e-01,  3.8740e-02],\n",
      "        [ 2.7421e-02, -1.9592e-01, -2.0322e-02,  ..., -5.8127e-01,\n",
      "          3.1300e-02,  4.0812e-02]], device='cuda:0')\n",
      "tensor([[-0.0599,  0.2205,  0.3699,  ...,  0.6156,  0.2020,  0.0289],\n",
      "        [ 0.2534,  0.0720,  0.1073,  ..., -0.1790, -0.2285,  0.0708],\n",
      "        [-0.1829,  0.0713,  0.2797,  ...,  0.0014,  0.0243,  0.0114],\n",
      "        ...,\n",
      "        [-0.0935, -0.0009,  0.1545,  ..., -0.4560, -0.0122, -0.1390],\n",
      "        [ 0.0116,  0.2832, -0.1698,  ..., -0.1848,  0.1236,  0.0391],\n",
      "        [ 0.0281, -0.1954, -0.0200,  ..., -0.5807,  0.0314,  0.0407]],\n",
      "       device='cuda:0')\n",
      "tensor([[-0.0599,  0.2209,  0.3698,  ...,  0.6145,  0.2017,  0.0290],\n",
      "        [ 0.2533,  0.0720,  0.1073,  ..., -0.1783, -0.2278,  0.0708],\n",
      "        [-0.1830,  0.0710,  0.2795,  ...,  0.0018,  0.0238,  0.0113],\n",
      "        ...,\n",
      "        [-0.0938, -0.0008,  0.1549,  ..., -0.4551, -0.0123, -0.1390],\n",
      "        [ 0.0115,  0.2837, -0.1696,  ..., -0.1854,  0.1237,  0.0390],\n",
      "        [ 0.0285, -0.1955, -0.0195,  ..., -0.5796,  0.0313,  0.0406]],\n",
      "       device='cuda:0')\n",
      "tensor([[-0.0599,  0.2211,  0.3691,  ...,  0.6136,  0.2016,  0.0293],\n",
      "        [ 0.2533,  0.0716,  0.1078,  ..., -0.1777, -0.2267,  0.0702],\n",
      "        [-0.1825,  0.0709,  0.2790,  ...,  0.0009,  0.0239,  0.0112],\n",
      "        ...,\n",
      "        [-0.0940, -0.0009,  0.1551,  ..., -0.4550, -0.0126, -0.1393],\n",
      "        [ 0.0117,  0.2836, -0.1692,  ..., -0.1860,  0.1239,  0.0392],\n",
      "        [ 0.0284, -0.1958, -0.0194,  ..., -0.5786,  0.0314,  0.0408]],\n",
      "       device='cuda:0')\n",
      "tensor([[-0.0600,  0.2211,  0.3687,  ...,  0.6122,  0.2012,  0.0298],\n",
      "        [ 0.2537,  0.0714,  0.1078,  ..., -0.1762, -0.2258,  0.0702],\n",
      "        [-0.1829,  0.0709,  0.2791,  ...,  0.0008,  0.0242,  0.0111],\n",
      "        ...,\n",
      "        [-0.0931, -0.0009,  0.1552,  ..., -0.4550, -0.0122, -0.1391],\n",
      "        [ 0.0118,  0.2836, -0.1686,  ..., -0.1862,  0.1245,  0.0394],\n",
      "        [ 0.0286, -0.1958, -0.0196,  ..., -0.5790,  0.0318,  0.0406]],\n",
      "       device='cuda:0')\n",
      "tensor([[-0.0602,  0.2208,  0.3677,  ...,  0.6113,  0.2008,  0.0298],\n",
      "        [ 0.2533,  0.0722,  0.1082,  ..., -0.1754, -0.2252,  0.0701],\n",
      "        [-0.1827,  0.0712,  0.2786,  ...,  0.0009,  0.0240,  0.0108],\n",
      "        ...,\n",
      "        [-0.0929, -0.0011,  0.1552,  ..., -0.4538, -0.0123, -0.1391],\n",
      "        [ 0.0114,  0.2827, -0.1686,  ..., -0.1866,  0.1246,  0.0391],\n",
      "        [ 0.0285, -0.1959, -0.0194,  ..., -0.5793,  0.0321,  0.0405]],\n",
      "       device='cuda:0')\n",
      "tensor([[-0.0598,  0.2209,  0.3670,  ...,  0.6110,  0.2006,  0.0299],\n",
      "        [ 0.2537,  0.0723,  0.1086,  ..., -0.1755, -0.2246,  0.0697],\n",
      "        [-0.1827,  0.0708,  0.2784,  ...,  0.0009,  0.0235,  0.0103],\n",
      "        ...,\n",
      "        [-0.0926, -0.0012,  0.1548,  ..., -0.4538, -0.0122, -0.1392],\n",
      "        [ 0.0112,  0.2818, -0.1677,  ..., -0.1860,  0.1250,  0.0391],\n",
      "        [ 0.0287, -0.1952, -0.0195,  ..., -0.5791,  0.0326,  0.0407]],\n",
      "       device='cuda:0')\n",
      "tensor([[-0.0597,  0.2216,  0.3660,  ...,  0.6104,  0.2003,  0.0300],\n",
      "        [ 0.2538,  0.0717,  0.1089,  ..., -0.1747, -0.2242,  0.0693],\n",
      "        [-0.1823,  0.0715,  0.2775,  ...,  0.0008,  0.0237,  0.0097],\n",
      "        ...,\n",
      "        [-0.0920, -0.0021,  0.1550,  ..., -0.4524, -0.0121, -0.1391],\n",
      "        [ 0.0111,  0.2814, -0.1675,  ..., -0.1867,  0.1253,  0.0389],\n",
      "        [ 0.0291, -0.1950, -0.0190,  ..., -0.5782,  0.0331,  0.0408]],\n",
      "       device='cuda:0')\n",
      "tensor([[-0.0597,  0.2220,  0.3656,  ...,  0.6092,  0.2004,  0.0302],\n",
      "        [ 0.2544,  0.0714,  0.1090,  ..., -0.1735, -0.2230,  0.0691],\n",
      "        [-0.1825,  0.0712,  0.2775,  ...,  0.0012,  0.0233,  0.0096],\n",
      "        ...,\n",
      "        [-0.0918, -0.0023,  0.1549,  ..., -0.4517, -0.0116, -0.1390],\n",
      "        [ 0.0114,  0.2817, -0.1671,  ..., -0.1857,  0.1257,  0.0390],\n",
      "        [ 0.0297, -0.1952, -0.0187,  ..., -0.5778,  0.0329,  0.0407]],\n",
      "       device='cuda:0')\n",
      "tensor([[-0.0597,  0.2216,  0.3645,  ...,  0.6081,  0.2005,  0.0302],\n",
      "        [ 0.2548,  0.0716,  0.1091,  ..., -0.1734, -0.2220,  0.0692],\n",
      "        [-0.1826,  0.0716,  0.2773,  ...,  0.0011,  0.0232,  0.0092],\n",
      "        ...,\n",
      "        [-0.0915, -0.0029,  0.1547,  ..., -0.4510, -0.0113, -0.1390],\n",
      "        [ 0.0114,  0.2812, -0.1665,  ..., -0.1852,  0.1262,  0.0387],\n",
      "        [ 0.0301, -0.1952, -0.0180,  ..., -0.5770,  0.0330,  0.0409]],\n",
      "       device='cuda:0')\n",
      "tensor([[-0.0596,  0.2213,  0.3634,  ...,  0.6074,  0.2005,  0.0301],\n",
      "        [ 0.2551,  0.0707,  0.1095,  ..., -0.1730, -0.2211,  0.0693],\n",
      "        [-0.1824,  0.0718,  0.2771,  ...,  0.0016,  0.0232,  0.0091],\n",
      "        ...,\n",
      "        [-0.0911, -0.0024,  0.1549,  ..., -0.4504, -0.0115, -0.1390],\n",
      "        [ 0.0111,  0.2803, -0.1664,  ..., -0.1852,  0.1266,  0.0390],\n",
      "        [ 0.0303, -0.1955, -0.0177,  ..., -0.5767,  0.0331,  0.0407]],\n",
      "       device='cuda:0')\n",
      "tensor([[-0.0596,  0.2213,  0.3634,  ...,  0.6070,  0.2007,  0.0301],\n",
      "        [ 0.2549,  0.0703,  0.1100,  ..., -0.1722, -0.2204,  0.0693],\n",
      "        [-0.1825,  0.0713,  0.2771,  ...,  0.0020,  0.0229,  0.0087],\n",
      "        ...,\n",
      "        [-0.0909, -0.0022,  0.1549,  ..., -0.4499, -0.0116, -0.1389],\n",
      "        [ 0.0112,  0.2799, -0.1656,  ..., -0.1853,  0.1273,  0.0391],\n",
      "        [ 0.0310, -0.1951, -0.0175,  ..., -0.5766,  0.0332,  0.0405]],\n",
      "       device='cuda:0')\n",
      "tensor([[-0.0601,  0.2202,  0.3625,  ...,  0.6065,  0.2003,  0.0300],\n",
      "        [ 0.2551,  0.0702,  0.1104,  ..., -0.1716, -0.2194,  0.0692],\n",
      "        [-0.1822,  0.0709,  0.2771,  ...,  0.0018,  0.0222,  0.0084],\n",
      "        ...,\n",
      "        [-0.0901, -0.0022,  0.1547,  ..., -0.4498, -0.0112, -0.1389],\n",
      "        [ 0.0110,  0.2792, -0.1653,  ..., -0.1854,  0.1277,  0.0391],\n",
      "        [ 0.0309, -0.1953, -0.0170,  ..., -0.5765,  0.0335,  0.0402]],\n",
      "       device='cuda:0')\n",
      "tensor([[-0.0602,  0.2207,  0.3620,  ...,  0.6053,  0.2002,  0.0300],\n",
      "        [ 0.2549,  0.0701,  0.1110,  ..., -0.1721, -0.2185,  0.0692],\n",
      "        [-0.1823,  0.0708,  0.2769,  ...,  0.0010,  0.0222,  0.0081],\n",
      "        ...,\n",
      "        [-0.0895, -0.0027,  0.1550,  ..., -0.4497, -0.0114, -0.1389],\n",
      "        [ 0.0109,  0.2793, -0.1650,  ..., -0.1860,  0.1274,  0.0391],\n",
      "        [ 0.0310, -0.1957, -0.0168,  ..., -0.5758,  0.0337,  0.0401]],\n",
      "       device='cuda:0')\n",
      "tensor([[-0.0601,  0.2206,  0.3612,  ...,  0.6051,  0.2001,  0.0297],\n",
      "        [ 0.2551,  0.0693,  0.1108,  ..., -0.1726, -0.2183,  0.0692],\n",
      "        [-0.1824,  0.0705,  0.2767,  ...,  0.0009,  0.0219,  0.0078],\n",
      "        ...,\n",
      "        [-0.0895, -0.0029,  0.1549,  ..., -0.4494, -0.0120, -0.1389],\n",
      "        [ 0.0111,  0.2791, -0.1647,  ..., -0.1868,  0.1275,  0.0390],\n",
      "        [ 0.0308, -0.1961, -0.0166,  ..., -0.5758,  0.0336,  0.0399]],\n",
      "       device='cuda:0')\n",
      "tensor([[-0.0596,  0.2204,  0.3606,  ...,  0.6050,  0.1998,  0.0296],\n",
      "        [ 0.2554,  0.0687,  0.1106,  ..., -0.1723, -0.2172,  0.0689],\n",
      "        [-0.1821,  0.0706,  0.2764,  ...,  0.0011,  0.0218,  0.0075],\n",
      "        ...,\n",
      "        [-0.0896, -0.0027,  0.1552,  ..., -0.4493, -0.0125, -0.1391],\n",
      "        [ 0.0107,  0.2785, -0.1646,  ..., -0.1872,  0.1277,  0.0394],\n",
      "        [ 0.0311, -0.1959, -0.0162,  ..., -0.5757,  0.0332,  0.0399]],\n",
      "       device='cuda:0')\n",
      "tensor([[-0.0595,  0.2206,  0.3604,  ...,  0.6040,  0.1994,  0.0296],\n",
      "        [ 0.2555,  0.0677,  0.1103,  ..., -0.1724, -0.2167,  0.0689],\n",
      "        [-0.1821,  0.0706,  0.2762,  ...,  0.0011,  0.0219,  0.0071],\n",
      "        ...,\n",
      "        [-0.0892, -0.0023,  0.1549,  ..., -0.4497, -0.0123, -0.1390],\n",
      "        [ 0.0105,  0.2790, -0.1645,  ..., -0.1881,  0.1280,  0.0393],\n",
      "        [ 0.0309, -0.1962, -0.0156,  ..., -0.5752,  0.0327,  0.0401]],\n",
      "       device='cuda:0')\n",
      "tensor([[-0.0593,  0.2204,  0.3600,  ...,  0.6031,  0.1992,  0.0292],\n",
      "        [ 0.2558,  0.0672,  0.1104,  ..., -0.1717, -0.2164,  0.0688],\n",
      "        [-0.1826,  0.0705,  0.2764,  ...,  0.0019,  0.0219,  0.0068],\n",
      "        ...,\n",
      "        [-0.0887, -0.0026,  0.1547,  ..., -0.4496, -0.0120, -0.1390],\n",
      "        [ 0.0104,  0.2792, -0.1640,  ..., -0.1884,  0.1279,  0.0393],\n",
      "        [ 0.0311, -0.1964, -0.0153,  ..., -0.5744,  0.0323,  0.0403]],\n",
      "       device='cuda:0')\n",
      "tensor([[-0.0592,  0.2203,  0.3591,  ...,  0.6024,  0.1994,  0.0290],\n",
      "        [ 0.2560,  0.0672,  0.1105,  ..., -0.1708, -0.2157,  0.0687],\n",
      "        [-0.1827,  0.0707,  0.2763,  ...,  0.0024,  0.0218,  0.0063],\n",
      "        ...,\n",
      "        [-0.0887, -0.0027,  0.1547,  ..., -0.4486, -0.0117, -0.1387],\n",
      "        [ 0.0100,  0.2792, -0.1638,  ..., -0.1888,  0.1279,  0.0391],\n",
      "        [ 0.0313, -0.1960, -0.0151,  ..., -0.5746,  0.0326,  0.0402]],\n",
      "       device='cuda:0')\n",
      "tensor([[-0.0589,  0.2205,  0.3586,  ...,  0.6018,  0.1994,  0.0290],\n",
      "        [ 0.2562,  0.0669,  0.1105,  ..., -0.1712, -0.2156,  0.0689],\n",
      "        [-0.1828,  0.0706,  0.2761,  ...,  0.0027,  0.0217,  0.0060],\n",
      "        ...,\n",
      "        [-0.0884, -0.0033,  0.1545,  ..., -0.4482, -0.0118, -0.1386],\n",
      "        [ 0.0100,  0.2782, -0.1636,  ..., -0.1893,  0.1280,  0.0397],\n",
      "        [ 0.0310, -0.1963, -0.0148,  ..., -0.5742,  0.0326,  0.0401]],\n",
      "       device='cuda:0')\n",
      "tensor([[-0.0587,  0.2200,  0.3576,  ...,  0.6013,  0.1991,  0.0288],\n",
      "        [ 0.2564,  0.0671,  0.1106,  ..., -0.1710, -0.2147,  0.0690],\n",
      "        [-0.1827,  0.0706,  0.2761,  ...,  0.0027,  0.0217,  0.0057],\n",
      "        ...,\n",
      "        [-0.0882, -0.0038,  0.1545,  ..., -0.4488, -0.0115, -0.1381],\n",
      "        [ 0.0100,  0.2773, -0.1634,  ..., -0.1893,  0.1284,  0.0398],\n",
      "        [ 0.0312, -0.1962, -0.0142,  ..., -0.5741,  0.0327,  0.0401]],\n",
      "       device='cuda:0')\n",
      "tensor([[-0.0587,  0.2200,  0.3567,  ...,  0.6000,  0.1989,  0.0287],\n",
      "        [ 0.2568,  0.0662,  0.1107,  ..., -0.1703, -0.2143,  0.0687],\n",
      "        [-0.1822,  0.0707,  0.2758,  ...,  0.0022,  0.0216,  0.0056],\n",
      "        ...,\n",
      "        [-0.0881, -0.0036,  0.1541,  ..., -0.4487, -0.0115, -0.1377],\n",
      "        [ 0.0097,  0.2773, -0.1631,  ..., -0.1893,  0.1282,  0.0401],\n",
      "        [ 0.0311, -0.1965, -0.0142,  ..., -0.5730,  0.0327,  0.0401]],\n",
      "       device='cuda:0')\n",
      "tensor([[-0.0588,  0.2203,  0.3564,  ...,  0.5992,  0.1992,  0.0286],\n",
      "        [ 0.2566,  0.0660,  0.1111,  ..., -0.1704, -0.2134,  0.0686],\n",
      "        [-0.1819,  0.0710,  0.2754,  ...,  0.0018,  0.0217,  0.0052],\n",
      "        ...,\n",
      "        [-0.0879, -0.0032,  0.1542,  ..., -0.4484, -0.0119, -0.1373],\n",
      "        [ 0.0097,  0.2772, -0.1630,  ..., -0.1897,  0.1285,  0.0403],\n",
      "        [ 0.0306, -0.1972, -0.0137,  ..., -0.5727,  0.0328,  0.0400]],\n",
      "       device='cuda:0')\n",
      "tensor([[-0.0589,  0.2203,  0.3556,  ...,  0.5982,  0.1991,  0.0284],\n",
      "        [ 0.2566,  0.0652,  0.1111,  ..., -0.1707, -0.2132,  0.0684],\n",
      "        [-0.1821,  0.0707,  0.2751,  ...,  0.0013,  0.0215,  0.0051],\n",
      "        ...,\n",
      "        [-0.0875, -0.0035,  0.1544,  ..., -0.4477, -0.0121, -0.1372],\n",
      "        [ 0.0099,  0.2771, -0.1628,  ..., -0.1905,  0.1285,  0.0404],\n",
      "        [ 0.0308, -0.1970, -0.0133,  ..., -0.5725,  0.0329,  0.0401]],\n",
      "       device='cuda:0')\n",
      "tensor([[-0.0588,  0.2208,  0.3550,  ...,  0.5984,  0.1989,  0.0281],\n",
      "        [ 0.2573,  0.0650,  0.1108,  ..., -0.1697, -0.2121,  0.0682],\n",
      "        [-0.1823,  0.0704,  0.2749,  ...,  0.0009,  0.0213,  0.0051],\n",
      "        ...,\n",
      "        [-0.0870, -0.0036,  0.1544,  ..., -0.4475, -0.0121, -0.1374],\n",
      "        [ 0.0095,  0.2766, -0.1622,  ..., -0.1906,  0.1285,  0.0402],\n",
      "        [ 0.0308, -0.1967, -0.0126,  ..., -0.5728,  0.0333,  0.0401]],\n",
      "       device='cuda:0')\n",
      "tensor([[-0.0590,  0.2206,  0.3549,  ...,  0.5987,  0.1987,  0.0278],\n",
      "        [ 0.2571,  0.0646,  0.1110,  ..., -0.1698, -0.2114,  0.0681],\n",
      "        [-0.1818,  0.0707,  0.2746,  ...,  0.0014,  0.0213,  0.0045],\n",
      "        ...,\n",
      "        [-0.0869, -0.0040,  0.1542,  ..., -0.4473, -0.0121, -0.1373],\n",
      "        [ 0.0095,  0.2763, -0.1617,  ..., -0.1911,  0.1287,  0.0400],\n",
      "        [ 0.0312, -0.1964, -0.0125,  ..., -0.5724,  0.0334,  0.0400]],\n",
      "       device='cuda:0')\n",
      "tensor([[-0.0592,  0.2205,  0.3548,  ...,  0.5983,  0.1985,  0.0282],\n",
      "        [ 0.2574,  0.0638,  0.1110,  ..., -0.1695, -0.2110,  0.0682],\n",
      "        [-0.1823,  0.0707,  0.2747,  ...,  0.0019,  0.0212,  0.0042],\n",
      "        ...,\n",
      "        [-0.0863, -0.0042,  0.1541,  ..., -0.4462, -0.0122, -0.1374],\n",
      "        [ 0.0094,  0.2762, -0.1614,  ..., -0.1908,  0.1288,  0.0403],\n",
      "        [ 0.0311, -0.1967, -0.0124,  ..., -0.5720,  0.0337,  0.0401]],\n",
      "       device='cuda:0')\n",
      "tensor([[-0.0593,  0.2202,  0.3544,  ...,  0.5978,  0.1984,  0.0279],\n",
      "        [ 0.2575,  0.0634,  0.1114,  ..., -0.1688, -0.2102,  0.0677],\n",
      "        [-0.1825,  0.0706,  0.2744,  ...,  0.0015,  0.0211,  0.0039],\n",
      "        ...,\n",
      "        [-0.0862, -0.0044,  0.1542,  ..., -0.4457, -0.0123, -0.1375],\n",
      "        [ 0.0094,  0.2759, -0.1610,  ..., -0.1910,  0.1288,  0.0403],\n",
      "        [ 0.0313, -0.1963, -0.0122,  ..., -0.5714,  0.0336,  0.0397]],\n",
      "       device='cuda:0')\n",
      "tensor([[-0.0593,  0.2201,  0.3535,  ...,  0.5978,  0.1982,  0.0279],\n",
      "        [ 0.2578,  0.0629,  0.1113,  ..., -0.1695, -0.2100,  0.0679],\n",
      "        [-0.1825,  0.0707,  0.2742,  ...,  0.0009,  0.0212,  0.0037],\n",
      "        ...,\n",
      "        [-0.0857, -0.0048,  0.1547,  ..., -0.4460, -0.0119, -0.1373],\n",
      "        [ 0.0093,  0.2754, -0.1607,  ..., -0.1910,  0.1285,  0.0402],\n",
      "        [ 0.0316, -0.1960, -0.0117,  ..., -0.5708,  0.0333,  0.0396]],\n",
      "       device='cuda:0')\n",
      "tensor([[-0.0589,  0.2203,  0.3532,  ...,  0.5975,  0.1983,  0.0277],\n",
      "        [ 0.2580,  0.0633,  0.1109,  ..., -0.1691, -0.2093,  0.0677],\n",
      "        [-0.1826,  0.0704,  0.2743,  ...,  0.0008,  0.0214,  0.0036],\n",
      "        ...,\n",
      "        [-0.0857, -0.0052,  0.1546,  ..., -0.4459, -0.0121, -0.1375],\n",
      "        [ 0.0093,  0.2753, -0.1604,  ..., -0.1906,  0.1290,  0.0403],\n",
      "        [ 0.0318, -0.1965, -0.0116,  ..., -0.5701,  0.0338,  0.0396]],\n",
      "       device='cuda:0')\n",
      "tensor([[-0.0585,  0.2210,  0.3528,  ...,  0.5977,  0.1981,  0.0275],\n",
      "        [ 0.2582,  0.0637,  0.1111,  ..., -0.1681, -0.2087,  0.0677],\n",
      "        [-0.1830,  0.0699,  0.2740,  ...,  0.0009,  0.0214,  0.0032],\n",
      "        ...,\n",
      "        [-0.0851, -0.0060,  0.1545,  ..., -0.4450, -0.0121, -0.1376],\n",
      "        [ 0.0095,  0.2746, -0.1604,  ..., -0.1908,  0.1293,  0.0402],\n",
      "        [ 0.0318, -0.1966, -0.0112,  ..., -0.5701,  0.0335,  0.0395]],\n",
      "       device='cuda:0')\n",
      "tensor([[-0.0583,  0.2213,  0.3523,  ...,  0.5966,  0.1981,  0.0274],\n",
      "        [ 0.2584,  0.0631,  0.1111,  ..., -0.1683, -0.2078,  0.0676],\n",
      "        [-0.1827,  0.0699,  0.2737,  ...,  0.0009,  0.0213,  0.0031],\n",
      "        ...,\n",
      "        [-0.0845, -0.0060,  0.1545,  ..., -0.4444, -0.0116, -0.1374],\n",
      "        [ 0.0095,  0.2742, -0.1601,  ..., -0.1914,  0.1300,  0.0403],\n",
      "        [ 0.0322, -0.1963, -0.0108,  ..., -0.5699,  0.0334,  0.0394]],\n",
      "       device='cuda:0')\n",
      "tensor([[-0.0583,  0.2221,  0.3516,  ...,  0.5954,  0.1980,  0.0275],\n",
      "        [ 0.2583,  0.0629,  0.1114,  ..., -0.1687, -0.2071,  0.0676],\n",
      "        [-0.1826,  0.0701,  0.2736,  ...,  0.0011,  0.0217,  0.0030],\n",
      "        ...,\n",
      "        [-0.0837, -0.0057,  0.1545,  ..., -0.4433, -0.0115, -0.1376],\n",
      "        [ 0.0098,  0.2732, -0.1597,  ..., -0.1910,  0.1303,  0.0403],\n",
      "        [ 0.0326, -0.1960, -0.0101,  ..., -0.5694,  0.0333,  0.0393]],\n",
      "       device='cuda:0')\n",
      "tensor([[-0.0582,  0.2224,  0.3512,  ...,  0.5951,  0.1978,  0.0275],\n",
      "        [ 0.2581,  0.0631,  0.1118,  ..., -0.1681, -0.2062,  0.0676],\n",
      "        [-0.1826,  0.0699,  0.2735,  ...,  0.0013,  0.0218,  0.0027],\n",
      "        ...,\n",
      "        [-0.0836, -0.0063,  0.1541,  ..., -0.4430, -0.0118, -0.1379],\n",
      "        [ 0.0099,  0.2732, -0.1597,  ..., -0.1912,  0.1303,  0.0406],\n",
      "        [ 0.0329, -0.1957, -0.0099,  ..., -0.5687,  0.0336,  0.0391]],\n",
      "       device='cuda:0')\n",
      "tensor([[-0.0586,  0.2221,  0.3502,  ...,  0.5946,  0.1972,  0.0274],\n",
      "        [ 0.2584,  0.0629,  0.1123,  ..., -0.1678, -0.2053,  0.0677],\n",
      "        [-0.1828,  0.0698,  0.2739,  ...,  0.0015,  0.0220,  0.0023],\n",
      "        ...,\n",
      "        [-0.0830, -0.0069,  0.1542,  ..., -0.4416, -0.0115, -0.1376],\n",
      "        [ 0.0100,  0.2730, -0.1593,  ..., -0.1919,  0.1306,  0.0404],\n",
      "        [ 0.0328, -0.1962, -0.0095,  ..., -0.5685,  0.0332,  0.0390]],\n",
      "       device='cuda:0')\n",
      "tensor([[-0.0584,  0.2225,  0.3496,  ...,  0.5941,  0.1970,  0.0276],\n",
      "        [ 0.2583,  0.0627,  0.1130,  ..., -0.1671, -0.2039,  0.0676],\n",
      "        [-0.1828,  0.0697,  0.2739,  ...,  0.0012,  0.0220,  0.0021],\n",
      "        ...,\n",
      "        [-0.0830, -0.0074,  0.1545,  ..., -0.4411, -0.0111, -0.1375],\n",
      "        [ 0.0101,  0.2728, -0.1589,  ..., -0.1930,  0.1306,  0.0405],\n",
      "        [ 0.0333, -0.1964, -0.0095,  ..., -0.5683,  0.0338,  0.0388]],\n",
      "       device='cuda:0')\n",
      "tensor([[-0.0585,  0.2221,  0.3491,  ...,  0.5939,  0.1967,  0.0273],\n",
      "        [ 0.2583,  0.0622,  0.1129,  ..., -0.1675, -0.2033,  0.0676],\n",
      "        [-0.1828,  0.0695,  0.2737,  ...,  0.0017,  0.0217,  0.0015],\n",
      "        ...,\n",
      "        [-0.0829, -0.0069,  0.1547,  ..., -0.4401, -0.0115, -0.1370],\n",
      "        [ 0.0103,  0.2730, -0.1586,  ..., -0.1932,  0.1310,  0.0404],\n",
      "        [ 0.0339, -0.1960, -0.0095,  ..., -0.5680,  0.0338,  0.0388]],\n",
      "       device='cuda:0')\n",
      "tensor([[-0.0587,  0.2226,  0.3486,  ...,  0.5937,  0.1964,  0.0273],\n",
      "        [ 0.2586,  0.0618,  0.1130,  ..., -0.1665, -0.2025,  0.0672],\n",
      "        [-0.1828,  0.0699,  0.2734,  ...,  0.0016,  0.0219,  0.0014],\n",
      "        ...,\n",
      "        [-0.0824, -0.0069,  0.1544,  ..., -0.4393, -0.0111, -0.1370],\n",
      "        [ 0.0104,  0.2733, -0.1582,  ..., -0.1924,  0.1311,  0.0403],\n",
      "        [ 0.0340, -0.1961, -0.0090,  ..., -0.5676,  0.0341,  0.0387]],\n",
      "       device='cuda:0')\n",
      "tensor([[-0.0583,  0.2232,  0.3480,  ...,  0.5931,  0.1967,  0.0272],\n",
      "        [ 0.2587,  0.0613,  0.1136,  ..., -0.1673, -0.2016,  0.0673],\n",
      "        [-0.1822,  0.0699,  0.2731,  ...,  0.0016,  0.0218,  0.0012],\n",
      "        ...,\n",
      "        [-0.0819, -0.0075,  0.1546,  ..., -0.4390, -0.0108, -0.1371],\n",
      "        [ 0.0104,  0.2729, -0.1579,  ..., -0.1925,  0.1313,  0.0406],\n",
      "        [ 0.0345, -0.1956, -0.0089,  ..., -0.5666,  0.0344,  0.0388]],\n",
      "       device='cuda:0')\n",
      "tensor([[-0.0583,  0.2235,  0.3473,  ...,  0.5925,  0.1967,  0.0270],\n",
      "        [ 0.2590,  0.0608,  0.1140,  ..., -0.1682, -0.2008,  0.0674],\n",
      "        [-0.1822,  0.0695,  0.2730,  ...,  0.0013,  0.0214,  0.0012],\n",
      "        ...,\n",
      "        [-0.0816, -0.0079,  0.1546,  ..., -0.4380, -0.0111, -0.1370],\n",
      "        [ 0.0102,  0.2728, -0.1575,  ..., -0.1929,  0.1315,  0.0408],\n",
      "        [ 0.0346, -0.1955, -0.0087,  ..., -0.5665,  0.0345,  0.0387]],\n",
      "       device='cuda:0')\n",
      "tensor([[-0.0582,  0.2231,  0.3469,  ...,  0.5915,  0.1965,  0.0271],\n",
      "        [ 0.2595,  0.0599,  0.1141,  ..., -0.1668, -0.2001,  0.0673],\n",
      "        [-0.1821,  0.0696,  0.2733,  ...,  0.0008,  0.0213,  0.0011],\n",
      "        ...,\n",
      "        [-0.0812, -0.0084,  0.1542,  ..., -0.4369, -0.0107, -0.1368],\n",
      "        [ 0.0103,  0.2720, -0.1570,  ..., -0.1932,  0.1321,  0.0409],\n",
      "        [ 0.0349, -0.1954, -0.0081,  ..., -0.5659,  0.0350,  0.0387]],\n",
      "       device='cuda:0')\n"
     ]
    },
    {
     "name": "stdout",
     "output_type": "stream",
     "text": [
      "tensor([[-5.7906e-02,  2.2350e-01,  3.4654e-01,  ...,  5.9073e-01,\n",
      "          1.9634e-01,  2.6837e-02],\n",
      "        [ 2.5974e-01,  5.9880e-02,  1.1391e-01,  ..., -1.6779e-01,\n",
      "         -1.9972e-01,  6.7644e-02],\n",
      "        [-1.8195e-01,  6.9806e-02,  2.7303e-01,  ...,  5.2092e-04,\n",
      "          2.1609e-02,  7.2580e-04],\n",
      "        ...,\n",
      "        [-8.1118e-02, -8.5030e-03,  1.5468e-01,  ..., -4.3529e-01,\n",
      "         -1.0453e-02, -1.3706e-01],\n",
      "        [ 1.0074e-02,  2.7170e-01, -1.5658e-01,  ..., -1.9389e-01,\n",
      "          1.3172e-01,  4.0866e-02],\n",
      "        [ 3.4827e-02, -1.9537e-01, -7.7366e-03,  ..., -5.6540e-01,\n",
      "          3.5136e-02,  3.8860e-02]], device='cuda:0')\n",
      "tensor([[-5.7755e-02,  2.2408e-01,  3.4609e-01,  ...,  5.9070e-01,\n",
      "          1.9574e-01,  2.6606e-02],\n",
      "        [ 2.5982e-01,  5.9532e-02,  1.1394e-01,  ..., -1.6777e-01,\n",
      "         -1.9875e-01,  6.7701e-02],\n",
      "        [-1.8232e-01,  7.0011e-02,  2.7239e-01,  ...,  1.2569e-03,\n",
      "          2.1260e-02, -3.3126e-05],\n",
      "        ...,\n",
      "        [-8.0743e-02, -8.7110e-03,  1.5468e-01,  ..., -4.3472e-01,\n",
      "         -9.9881e-03, -1.3729e-01],\n",
      "        [ 1.0313e-02,  2.7144e-01, -1.5676e-01,  ..., -1.9424e-01,\n",
      "          1.3194e-01,  4.0819e-02],\n",
      "        [ 3.5168e-02, -1.9481e-01, -7.7366e-03,  ..., -5.6501e-01,\n",
      "          3.5120e-02,  3.8715e-02]], device='cuda:0')\n",
      "tensor([[-5.7909e-02,  2.2424e-01,  3.4558e-01,  ...,  5.9014e-01,\n",
      "          1.9525e-01,  2.6589e-02],\n",
      "        [ 2.5987e-01,  5.9200e-02,  1.1440e-01,  ..., -1.6759e-01,\n",
      "         -1.9824e-01,  6.7312e-02],\n",
      "        [-1.8244e-01,  7.0065e-02,  2.7214e-01,  ...,  1.3163e-03,\n",
      "          2.1404e-02, -5.7676e-04],\n",
      "        ...,\n",
      "        [-8.0256e-02, -9.3443e-03,  1.5511e-01,  ..., -4.3436e-01,\n",
      "         -9.6998e-03, -1.3721e-01],\n",
      "        [ 1.0358e-02,  2.7139e-01, -1.5665e-01,  ..., -1.9492e-01,\n",
      "          1.3216e-01,  4.0470e-02],\n",
      "        [ 3.5514e-02, -1.9440e-01, -7.3849e-03,  ..., -5.6418e-01,\n",
      "          3.5284e-02,  3.8686e-02]], device='cuda:0')\n",
      "tensor([[-0.0581,  0.2239,  0.3453,  ...,  0.5888,  0.1952,  0.0265],\n",
      "        [ 0.2602,  0.0588,  0.1145,  ..., -0.1676, -0.1974,  0.0673],\n",
      "        [-0.1823,  0.0699,  0.2721,  ...,  0.0013,  0.0212, -0.0009],\n",
      "        ...,\n",
      "        [-0.0798, -0.0094,  0.1552,  ..., -0.4338, -0.0097, -0.1374],\n",
      "        [ 0.0102,  0.2710, -0.1563,  ..., -0.1956,  0.1326,  0.0405],\n",
      "        [ 0.0357, -0.1947, -0.0070,  ..., -0.5641,  0.0355,  0.0386]],\n",
      "       device='cuda:0')\n",
      "tensor([[-0.0580,  0.2236,  0.3447,  ...,  0.5881,  0.1953,  0.0263],\n",
      "        [ 0.2607,  0.0585,  0.1147,  ..., -0.1676, -0.1966,  0.0670],\n",
      "        [-0.1824,  0.0693,  0.2723,  ...,  0.0017,  0.0208, -0.0011],\n",
      "        ...,\n",
      "        [-0.0791, -0.0093,  0.1549,  ..., -0.4337, -0.0098, -0.1372],\n",
      "        [ 0.0104,  0.2707, -0.1562,  ..., -0.1965,  0.1325,  0.0401],\n",
      "        [ 0.0355, -0.1946, -0.0066,  ..., -0.5635,  0.0357,  0.0385]],\n",
      "       device='cuda:0')\n",
      "tensor([[-0.0577,  0.2241,  0.3443,  ...,  0.5876,  0.1953,  0.0263],\n",
      "        [ 0.2611,  0.0579,  0.1148,  ..., -0.1670, -0.1957,  0.0669],\n",
      "        [-0.1821,  0.0695,  0.2720,  ...,  0.0014,  0.0205, -0.0016],\n",
      "        ...,\n",
      "        [-0.0789, -0.0094,  0.1547,  ..., -0.4333, -0.0098, -0.1373],\n",
      "        [ 0.0105,  0.2703, -0.1558,  ..., -0.1973,  0.1327,  0.0400],\n",
      "        [ 0.0352, -0.1946, -0.0065,  ..., -0.5621,  0.0354,  0.0385]],\n",
      "       device='cuda:0')\n",
      "tensor([[-0.0578,  0.2237,  0.3436,  ...,  0.5868,  0.1947,  0.0263],\n",
      "        [ 0.2609,  0.0574,  0.1151,  ..., -0.1665, -0.1950,  0.0666],\n",
      "        [-0.1818,  0.0697,  0.2715,  ...,  0.0007,  0.0205, -0.0017],\n",
      "        ...,\n",
      "        [-0.0786, -0.0097,  0.1551,  ..., -0.4314, -0.0094, -0.1375],\n",
      "        [ 0.0102,  0.2694, -0.1552,  ..., -0.1978,  0.1325,  0.0401],\n",
      "        [ 0.0352, -0.1949, -0.0064,  ..., -0.5616,  0.0356,  0.0381]],\n",
      "       device='cuda:0')\n",
      "tensor([[-5.7539e-02,  2.2395e-01,  3.4275e-01,  ...,  5.8670e-01,\n",
      "          1.9443e-01,  2.6016e-02],\n",
      "        [ 2.6085e-01,  5.7281e-02,  1.1524e-01,  ..., -1.6625e-01,\n",
      "         -1.9430e-01,  6.6317e-02],\n",
      "        [-1.8207e-01,  6.9699e-02,  2.7109e-01,  ...,  2.6864e-04,\n",
      "          2.0438e-02, -2.0197e-03],\n",
      "        ...,\n",
      "        [-7.8914e-02, -9.7527e-03,  1.5578e-01,  ..., -4.3032e-01,\n",
      "         -9.4677e-03, -1.3732e-01],\n",
      "        [ 1.0168e-02,  2.6973e-01, -1.5490e-01,  ..., -1.9829e-01,\n",
      "          1.3289e-01,  4.0259e-02],\n",
      "        [ 3.5423e-02, -1.9468e-01, -6.2477e-03,  ..., -5.6124e-01,\n",
      "          3.5461e-02,  3.7839e-02]], device='cuda:0')\n",
      "tensor([[-5.7704e-02,  2.2408e-01,  3.4240e-01,  ...,  5.8548e-01,\n",
      "          1.9447e-01,  2.6015e-02],\n",
      "        [ 2.6071e-01,  5.7465e-02,  1.1555e-01,  ..., -1.6600e-01,\n",
      "         -1.9320e-01,  6.6258e-02],\n",
      "        [-1.8242e-01,  6.9554e-02,  2.7059e-01,  ..., -1.3254e-04,\n",
      "          2.0075e-02, -2.3250e-03],\n",
      "        ...,\n",
      "        [-7.8506e-02, -1.0533e-02,  1.5616e-01,  ..., -4.3050e-01,\n",
      "         -9.3325e-03, -1.3743e-01],\n",
      "        [ 9.9663e-03,  2.6861e-01, -1.5435e-01,  ..., -1.9782e-01,\n",
      "          1.3271e-01,  4.0446e-02],\n",
      "        [ 3.5427e-02, -1.9479e-01, -6.0674e-03,  ..., -5.6027e-01,\n",
      "          3.5353e-02,  3.7897e-02]], device='cuda:0')\n",
      "tensor([[-5.7518e-02,  2.2386e-01,  3.4217e-01,  ...,  5.8510e-01,\n",
      "          1.9444e-01,  2.5972e-02],\n",
      "        [ 2.6069e-01,  5.6871e-02,  1.1565e-01,  ..., -1.6553e-01,\n",
      "         -1.9198e-01,  6.6217e-02],\n",
      "        [-1.8200e-01,  6.9431e-02,  2.7028e-01,  ..., -2.9684e-04,\n",
      "          2.0076e-02, -2.5924e-03],\n",
      "        ...,\n",
      "        [-7.8173e-02, -1.0365e-02,  1.5617e-01,  ..., -4.2899e-01,\n",
      "         -9.4469e-03, -1.3736e-01],\n",
      "        [ 9.8840e-03,  2.6830e-01, -1.5423e-01,  ..., -1.9960e-01,\n",
      "          1.3217e-01,  4.0277e-02],\n",
      "        [ 3.5215e-02, -1.9528e-01, -5.6357e-03,  ..., -5.5990e-01,\n",
      "          3.5239e-02,  3.7764e-02]], device='cuda:0')\n",
      "tensor([[-5.7630e-02,  2.2389e-01,  3.4125e-01,  ...,  5.8488e-01,\n",
      "          1.9408e-01,  2.6035e-02],\n",
      "        [ 2.6088e-01,  5.6845e-02,  1.1616e-01,  ..., -1.6379e-01,\n",
      "         -1.9072e-01,  6.5864e-02],\n",
      "        [-1.8194e-01,  6.9476e-02,  2.7008e-01,  ..., -4.6298e-04,\n",
      "          2.0156e-02, -2.9361e-03],\n",
      "        ...,\n",
      "        [-7.8289e-02, -1.0653e-02,  1.5652e-01,  ..., -4.2788e-01,\n",
      "         -9.3333e-03, -1.3755e-01],\n",
      "        [ 9.6912e-03,  2.6802e-01, -1.5383e-01,  ..., -1.9978e-01,\n",
      "          1.3236e-01,  4.0118e-02],\n",
      "        [ 3.5267e-02, -1.9521e-01, -5.1848e-03,  ..., -5.6012e-01,\n",
      "          3.5482e-02,  3.7658e-02]], device='cuda:0')\n",
      "tensor([[-0.0576,  0.2234,  0.3402,  ...,  0.5851,  0.1937,  0.0261],\n",
      "        [ 0.2609,  0.0569,  0.1166,  ..., -0.1625, -0.1894,  0.0655],\n",
      "        [-0.1818,  0.0685,  0.2699,  ..., -0.0015,  0.0197, -0.0034],\n",
      "        ...,\n",
      "        [-0.0782, -0.0106,  0.1567,  ..., -0.4260, -0.0095, -0.1375],\n",
      "        [ 0.0097,  0.2684, -0.1533,  ..., -0.2002,  0.1326,  0.0403],\n",
      "        [ 0.0349, -0.1954, -0.0048,  ..., -0.5602,  0.0355,  0.0377]],\n",
      "       device='cuda:0')\n",
      "tensor([[-0.0574,  0.2235,  0.3397,  ...,  0.5842,  0.1935,  0.0263],\n",
      "        [ 0.2609,  0.0569,  0.1169,  ..., -0.1631, -0.1883,  0.0655],\n",
      "        [-0.1819,  0.0688,  0.2697,  ..., -0.0013,  0.0200, -0.0038],\n",
      "        ...,\n",
      "        [-0.0777, -0.0108,  0.1565,  ..., -0.4246, -0.0099, -0.1376],\n",
      "        [ 0.0098,  0.2679, -0.1531,  ..., -0.1995,  0.1325,  0.0402],\n",
      "        [ 0.0348, -0.1957, -0.0043,  ..., -0.5587,  0.0354,  0.0376]],\n",
      "       device='cuda:0')\n",
      "tensor([[-0.0573,  0.2236,  0.3393,  ...,  0.5837,  0.1933,  0.0261],\n",
      "        [ 0.2605,  0.0564,  0.1171,  ..., -0.1628, -0.1871,  0.0656],\n",
      "        [-0.1822,  0.0682,  0.2697,  ..., -0.0012,  0.0201, -0.0044],\n",
      "        ...,\n",
      "        [-0.0772, -0.0108,  0.1563,  ..., -0.4242, -0.0096, -0.1373],\n",
      "        [ 0.0101,  0.2684, -0.1531,  ..., -0.1998,  0.1324,  0.0403],\n",
      "        [ 0.0343, -0.1960, -0.0039,  ..., -0.5585,  0.0352,  0.0377]],\n",
      "       device='cuda:0')\n",
      "tensor([[-0.0571,  0.2231,  0.3390,  ...,  0.5838,  0.1933,  0.0259],\n",
      "        [ 0.2605,  0.0556,  0.1177,  ..., -0.1624, -0.1866,  0.0656],\n",
      "        [-0.1825,  0.0680,  0.2700,  ..., -0.0010,  0.0197, -0.0044],\n",
      "        ...,\n",
      "        [-0.0770, -0.0108,  0.1565,  ..., -0.4236, -0.0099, -0.1371],\n",
      "        [ 0.0104,  0.2672, -0.1533,  ..., -0.2005,  0.1328,  0.0401],\n",
      "        [ 0.0347, -0.1958, -0.0040,  ..., -0.5588,  0.0353,  0.0376]],\n",
      "       device='cuda:0')\n",
      "tensor([[-5.6972e-02,  2.2332e-01,  3.3849e-01,  ...,  5.8365e-01,\n",
      "          1.9338e-01,  2.5428e-02],\n",
      "        [ 2.6030e-01,  5.4776e-02,  1.1768e-01,  ..., -1.6120e-01,\n",
      "         -1.8522e-01,  6.5805e-02],\n",
      "        [-1.8273e-01,  6.7987e-02,  2.6984e-01,  ...,  1.6364e-04,\n",
      "          1.9577e-02, -4.8319e-03],\n",
      "        ...,\n",
      "        [-7.6832e-02, -1.0570e-02,  1.5674e-01,  ..., -4.2216e-01,\n",
      "         -9.8452e-03, -1.3709e-01],\n",
      "        [ 1.0431e-02,  2.6732e-01, -1.5307e-01,  ..., -2.0092e-01,\n",
      "          1.3292e-01,  4.0098e-02],\n",
      "        [ 3.4518e-02, -1.9573e-01, -3.8598e-03,  ..., -5.5865e-01,\n",
      "          3.5634e-02,  3.7726e-02]], device='cuda:0')\n",
      "tensor([[-0.0572,  0.2233,  0.3384,  ...,  0.5834,  0.1934,  0.0252],\n",
      "        [ 0.2604,  0.0548,  0.1181,  ..., -0.1597, -0.1840,  0.0655],\n",
      "        [-0.1826,  0.0678,  0.2698,  ...,  0.0012,  0.0196, -0.0051],\n",
      "        ...,\n",
      "        [-0.0763, -0.0103,  0.1566,  ..., -0.4204, -0.0098, -0.1373],\n",
      "        [ 0.0104,  0.2672, -0.1526,  ..., -0.2005,  0.1327,  0.0400],\n",
      "        [ 0.0351, -0.1953, -0.0037,  ..., -0.5580,  0.0352,  0.0373]],\n",
      "       device='cuda:0')\n",
      "tensor([[-0.0575,  0.2229,  0.3378,  ...,  0.5827,  0.1931,  0.0248],\n",
      "        [ 0.2599,  0.0546,  0.1186,  ..., -0.1589, -0.1829,  0.0658],\n",
      "        [-0.1823,  0.0673,  0.2696,  ...,  0.0008,  0.0192, -0.0053],\n",
      "        ...,\n",
      "        [-0.0758, -0.0099,  0.1568,  ..., -0.4201, -0.0095, -0.1371],\n",
      "        [ 0.0102,  0.2676, -0.1524,  ..., -0.2020,  0.1327,  0.0400],\n",
      "        [ 0.0351, -0.1957, -0.0037,  ..., -0.5573,  0.0354,  0.0373]],\n",
      "       device='cuda:0')\n",
      "tensor([[-5.7422e-02,  2.2324e-01,  3.3723e-01,  ...,  5.8244e-01,\n",
      "          1.9310e-01,  2.4836e-02],\n",
      "        [ 2.5989e-01,  5.3884e-02,  1.1874e-01,  ..., -1.5864e-01,\n",
      "         -1.8201e-01,  6.5663e-02],\n",
      "        [-1.8240e-01,  6.7014e-02,  2.6912e-01,  ...,  2.1403e-05,\n",
      "          1.9425e-02, -5.4346e-03],\n",
      "        ...,\n",
      "        [-7.5628e-02, -1.0049e-02,  1.5653e-01,  ..., -4.1900e-01,\n",
      "         -9.6441e-03, -1.3722e-01],\n",
      "        [ 1.0113e-02,  2.6737e-01, -1.5214e-01,  ..., -2.0304e-01,\n",
      "          1.3294e-01,  4.0017e-02],\n",
      "        [ 3.5260e-02, -1.9589e-01, -3.2066e-03,  ..., -5.5702e-01,\n",
      "          3.5546e-02,  3.7419e-02]], device='cuda:0')\n",
      "tensor([[-5.7405e-02,  2.2321e-01,  3.3683e-01,  ...,  5.8189e-01,\n",
      "          1.9293e-01,  2.4827e-02],\n",
      "        [ 2.5972e-01,  5.4269e-02,  1.1944e-01,  ..., -1.5757e-01,\n",
      "         -1.8097e-01,  6.5822e-02],\n",
      "        [-1.8228e-01,  6.7301e-02,  2.6900e-01,  ..., -2.9095e-05,\n",
      "          1.9310e-02, -5.3841e-03],\n",
      "        ...,\n",
      "        [-7.5466e-02, -1.0388e-02,  1.5683e-01,  ..., -4.1770e-01,\n",
      "         -9.7237e-03, -1.3737e-01],\n",
      "        [ 1.0017e-02,  2.6717e-01, -1.5197e-01,  ..., -2.0368e-01,\n",
      "          1.3307e-01,  4.0102e-02],\n",
      "        [ 3.5289e-02, -1.9565e-01, -3.3106e-03,  ..., -5.5680e-01,\n",
      "          3.5844e-02,  3.7298e-02]], device='cuda:0')\n",
      "tensor([[-5.7295e-02,  2.2297e-01,  3.3646e-01,  ...,  5.8105e-01,\n",
      "          1.9255e-01,  2.4891e-02],\n",
      "        [ 2.5995e-01,  5.4046e-02,  1.1936e-01,  ..., -1.5666e-01,\n",
      "         -1.8038e-01,  6.5934e-02],\n",
      "        [-1.8253e-01,  6.7167e-02,  2.6871e-01,  ...,  1.4438e-04,\n",
      "          1.9070e-02, -5.5957e-03],\n",
      "        ...,\n",
      "        [-7.4980e-02, -1.0493e-02,  1.5728e-01,  ..., -4.1694e-01,\n",
      "         -9.6065e-03, -1.3710e-01],\n",
      "        [ 1.0098e-02,  2.6769e-01, -1.5180e-01,  ..., -2.0407e-01,\n",
      "          1.3326e-01,  4.0138e-02],\n",
      "        [ 3.4926e-02, -1.9588e-01, -3.0014e-03,  ..., -5.5715e-01,\n",
      "          3.6016e-02,  3.7398e-02]], device='cuda:0')\n",
      "tensor([[-5.7453e-02,  2.2288e-01,  3.3622e-01,  ...,  5.8060e-01,\n",
      "          1.9220e-01,  2.4772e-02],\n",
      "        [ 2.5965e-01,  5.4062e-02,  1.1969e-01,  ..., -1.5573e-01,\n",
      "         -1.7881e-01,  6.6080e-02],\n",
      "        [-1.8274e-01,  6.6581e-02,  2.6839e-01,  ...,  2.1833e-04,\n",
      "          1.8929e-02, -5.7922e-03],\n",
      "        ...,\n",
      "        [-7.4522e-02, -1.0644e-02,  1.5747e-01,  ..., -4.1584e-01,\n",
      "         -9.6345e-03, -1.3724e-01],\n",
      "        [ 1.0167e-02,  2.6700e-01, -1.5131e-01,  ..., -2.0423e-01,\n",
      "          1.3351e-01,  4.0485e-02],\n",
      "        [ 3.4977e-02, -1.9582e-01, -2.5671e-03,  ..., -5.5645e-01,\n",
      "          3.6124e-02,  3.7363e-02]], device='cuda:0')\n",
      "tensor([[-5.7562e-02,  2.2254e-01,  3.3541e-01,  ...,  5.7967e-01,\n",
      "          1.9209e-01,  2.4725e-02],\n",
      "        [ 2.5947e-01,  5.3477e-02,  1.2024e-01,  ..., -1.5497e-01,\n",
      "         -1.7793e-01,  6.5677e-02],\n",
      "        [-1.8273e-01,  6.6191e-02,  2.6808e-01,  ...,  1.7969e-04,\n",
      "          1.8914e-02, -6.2569e-03],\n",
      "        ...,\n",
      "        [-7.4307e-02, -1.1149e-02,  1.5803e-01,  ..., -4.1596e-01,\n",
      "         -9.3301e-03, -1.3677e-01],\n",
      "        [ 1.0081e-02,  2.6697e-01, -1.5085e-01,  ..., -2.0475e-01,\n",
      "          1.3369e-01,  4.0780e-02],\n",
      "        [ 3.4785e-02, -1.9592e-01, -2.3376e-03,  ..., -5.5596e-01,\n",
      "          3.6289e-02,  3.7306e-02]], device='cuda:0')\n",
      "tensor([[-5.7579e-02,  2.2255e-01,  3.3499e-01,  ...,  5.8035e-01,\n",
      "          1.9180e-01,  2.4549e-02],\n",
      "        [ 2.5958e-01,  5.2921e-02,  1.2047e-01,  ..., -1.5433e-01,\n",
      "         -1.7756e-01,  6.5640e-02],\n",
      "        [-1.8263e-01,  6.6195e-02,  2.6782e-01,  ..., -5.9204e-05,\n",
      "          1.8546e-02, -6.4225e-03],\n",
      "        ...,\n",
      "        [-7.3919e-02, -1.1561e-02,  1.5777e-01,  ..., -4.1527e-01,\n",
      "         -9.2128e-03, -1.3692e-01],\n",
      "        [ 1.0075e-02,  2.6723e-01, -1.5057e-01,  ..., -2.0539e-01,\n",
      "          1.3356e-01,  4.0706e-02],\n",
      "        [ 3.4866e-02, -1.9596e-01, -2.3419e-03,  ..., -5.5641e-01,\n",
      "          3.6549e-02,  3.7439e-02]], device='cuda:0')\n",
      "tensor([[-5.7542e-02,  2.2246e-01,  3.3428e-01,  ...,  5.7908e-01,\n",
      "          1.9178e-01,  2.4553e-02],\n",
      "        [ 2.5977e-01,  5.2413e-02,  1.2066e-01,  ..., -1.5413e-01,\n",
      "         -1.7671e-01,  6.5259e-02],\n",
      "        [-1.8262e-01,  6.5519e-02,  2.6773e-01,  ..., -4.8539e-04,\n",
      "          1.8063e-02, -6.6316e-03],\n",
      "        ...,\n",
      "        [-7.3707e-02, -1.1769e-02,  1.5782e-01,  ..., -4.1336e-01,\n",
      "         -9.1559e-03, -1.3688e-01],\n",
      "        [ 9.9411e-03,  2.6708e-01, -1.5031e-01,  ..., -2.0497e-01,\n",
      "          1.3396e-01,  4.0568e-02],\n",
      "        [ 3.4877e-02, -1.9569e-01, -2.1132e-03,  ..., -5.5565e-01,\n",
      "          3.7125e-02,  3.7386e-02]], device='cuda:0')\n",
      "tensor([[-0.0577,  0.2225,  0.3335,  ...,  0.5789,  0.1915,  0.0241],\n",
      "        [ 0.2595,  0.0524,  0.1202,  ..., -0.1540, -0.1757,  0.0652],\n",
      "        [-0.1826,  0.0652,  0.2673,  ..., -0.0009,  0.0182, -0.0071],\n",
      "        ...,\n",
      "        [-0.0737, -0.0114,  0.1580,  ..., -0.4126, -0.0089, -0.1365],\n",
      "        [ 0.0100,  0.2667, -0.1503,  ..., -0.2043,  0.1343,  0.0410],\n",
      "        [ 0.0353, -0.1954, -0.0022,  ..., -0.5557,  0.0377,  0.0372]],\n",
      "       device='cuda:0')\n",
      "tensor([[-0.0574,  0.2231,  0.3330,  ...,  0.5783,  0.1911,  0.0240],\n",
      "        [ 0.2594,  0.0519,  0.1205,  ..., -0.1537, -0.1746,  0.0651],\n",
      "        [-0.1830,  0.0654,  0.2673,  ..., -0.0011,  0.0179, -0.0074],\n",
      "        ...,\n",
      "        [-0.0732, -0.0113,  0.1580,  ..., -0.4122, -0.0089, -0.1365],\n",
      "        [ 0.0099,  0.2661, -0.1495,  ..., -0.2049,  0.1347,  0.0411],\n",
      "        [ 0.0353, -0.1958, -0.0025,  ..., -0.5547,  0.0377,  0.0371]],\n",
      "       device='cuda:0')\n",
      "tensor([[-0.0572,  0.2228,  0.3324,  ...,  0.5774,  0.1906,  0.0241],\n",
      "        [ 0.2591,  0.0512,  0.1212,  ..., -0.1531, -0.1737,  0.0652],\n",
      "        [-0.1828,  0.0651,  0.2671,  ..., -0.0016,  0.0179, -0.0076],\n",
      "        ...,\n",
      "        [-0.0731, -0.0109,  0.1582,  ..., -0.4112, -0.0090, -0.1365],\n",
      "        [ 0.0101,  0.2656, -0.1492,  ..., -0.2059,  0.1345,  0.0411],\n",
      "        [ 0.0353, -0.1955, -0.0021,  ..., -0.5546,  0.0372,  0.0371]],\n",
      "       device='cuda:0')\n",
      "tensor([[-0.0570,  0.2225,  0.3322,  ...,  0.5766,  0.1903,  0.0240],\n",
      "        [ 0.2590,  0.0511,  0.1214,  ..., -0.1539, -0.1729,  0.0649],\n",
      "        [-0.1826,  0.0654,  0.2667,  ..., -0.0018,  0.0178, -0.0078],\n",
      "        ...,\n",
      "        [-0.0726, -0.0106,  0.1582,  ..., -0.4097, -0.0090, -0.1366],\n",
      "        [ 0.0100,  0.2656, -0.1486,  ..., -0.2055,  0.1343,  0.0414],\n",
      "        [ 0.0352, -0.1955, -0.0020,  ..., -0.5538,  0.0373,  0.0369]],\n",
      "       device='cuda:0')\n",
      "tensor([[-0.0566,  0.2227,  0.3321,  ...,  0.5768,  0.1902,  0.0239],\n",
      "        [ 0.2593,  0.0517,  0.1214,  ..., -0.1531, -0.1719,  0.0649],\n",
      "        [-0.1827,  0.0650,  0.2663,  ..., -0.0013,  0.0175, -0.0081],\n",
      "        ...,\n",
      "        [-0.0725, -0.0104,  0.1582,  ..., -0.4093, -0.0090, -0.1365],\n",
      "        [ 0.0101,  0.2659, -0.1486,  ..., -0.2061,  0.1347,  0.0413],\n",
      "        [ 0.0351, -0.1955, -0.0018,  ..., -0.5538,  0.0373,  0.0367]],\n",
      "       device='cuda:0')\n",
      "tensor([[-0.0563,  0.2230,  0.3319,  ...,  0.5762,  0.1902,  0.0237],\n",
      "        [ 0.2590,  0.0517,  0.1217,  ..., -0.1523, -0.1708,  0.0650],\n",
      "        [-0.1823,  0.0647,  0.2661,  ..., -0.0019,  0.0176, -0.0081],\n",
      "        ...,\n",
      "        [-0.0717, -0.0105,  0.1581,  ..., -0.4083, -0.0090, -0.1364],\n",
      "        [ 0.0102,  0.2660, -0.1490,  ..., -0.2063,  0.1349,  0.0410],\n",
      "        [ 0.0350, -0.1953, -0.0011,  ..., -0.5542,  0.0372,  0.0367]],\n",
      "       device='cuda:0')\n",
      "tensor([[-0.0562,  0.2233,  0.3315,  ...,  0.5755,  0.1904,  0.0238],\n",
      "        [ 0.2588,  0.0514,  0.1215,  ..., -0.1522, -0.1697,  0.0652],\n",
      "        [-0.1823,  0.0648,  0.2658,  ..., -0.0024,  0.0180, -0.0081],\n",
      "        ...,\n",
      "        [-0.0714, -0.0110,  0.1587,  ..., -0.4073, -0.0092, -0.1364],\n",
      "        [ 0.0103,  0.2656, -0.1484,  ..., -0.2068,  0.1349,  0.0413],\n",
      "        [ 0.0351, -0.1956, -0.0007,  ..., -0.5533,  0.0371,  0.0366]],\n",
      "       device='cuda:0')\n",
      "tensor([[-0.0561,  0.2239,  0.3309,  ...,  0.5754,  0.1904,  0.0236],\n",
      "        [ 0.2592,  0.0507,  0.1218,  ..., -0.1517, -0.1689,  0.0653],\n",
      "        [-0.1824,  0.0649,  0.2657,  ..., -0.0020,  0.0181, -0.0083],\n",
      "        ...,\n",
      "        [-0.0711, -0.0106,  0.1592,  ..., -0.4059, -0.0096, -0.1364],\n",
      "        [ 0.0103,  0.2652, -0.1481,  ..., -0.2069,  0.1347,  0.0413],\n",
      "        [ 0.0350, -0.1954, -0.0006,  ..., -0.5522,  0.0371,  0.0366]],\n",
      "       device='cuda:0')\n",
      "tensor([[-5.6246e-02,  2.2363e-01,  3.3043e-01,  ...,  5.7414e-01,\n",
      "          1.9002e-01,  2.3581e-02],\n",
      "        [ 2.5894e-01,  5.0018e-02,  1.2199e-01,  ..., -1.5121e-01,\n",
      "         -1.6789e-01,  6.4775e-02],\n",
      "        [-1.8271e-01,  6.4837e-02,  2.6550e-01,  ..., -1.3857e-03,\n",
      "          1.7634e-02, -8.4397e-03],\n",
      "        ...,\n",
      "        [-7.0741e-02, -1.0497e-02,  1.5923e-01,  ..., -4.0590e-01,\n",
      "         -9.5844e-03, -1.3623e-01],\n",
      "        [ 1.0467e-02,  2.6445e-01, -1.4794e-01,  ..., -2.0633e-01,\n",
      "          1.3513e-01,  4.0988e-02],\n",
      "        [ 3.4929e-02, -1.9512e-01, -5.2503e-04,  ..., -5.5155e-01,\n",
      "          3.7381e-02,  3.6417e-02]], device='cuda:0')\n",
      "tensor([[-5.6151e-02,  2.2374e-01,  3.3007e-01,  ...,  5.7371e-01,\n",
      "          1.8996e-01,  2.3468e-02],\n",
      "        [ 2.5912e-01,  5.0076e-02,  1.2194e-01,  ..., -1.4975e-01,\n",
      "         -1.6711e-01,  6.4689e-02],\n",
      "        [-1.8263e-01,  6.4613e-02,  2.6539e-01,  ..., -4.4043e-04,\n",
      "          1.7562e-02, -8.8226e-03],\n",
      "        ...,\n",
      "        [-7.0558e-02, -1.0690e-02,  1.5896e-01,  ..., -4.0539e-01,\n",
      "         -9.7504e-03, -1.3636e-01],\n",
      "        [ 1.0467e-02,  2.6437e-01, -1.4753e-01,  ..., -2.0552e-01,\n",
      "          1.3503e-01,  4.1241e-02],\n",
      "        [ 3.4945e-02, -1.9515e-01, -4.6605e-05,  ..., -5.5150e-01,\n",
      "          3.7356e-02,  3.6329e-02]], device='cuda:0')\n",
      "tensor([[-5.6500e-02,  2.2365e-01,  3.2957e-01,  ...,  5.7256e-01,\n",
      "          1.8953e-01,  2.3625e-02],\n",
      "        [ 2.5925e-01,  5.0271e-02,  1.2192e-01,  ..., -1.4847e-01,\n",
      "         -1.6610e-01,  6.4792e-02],\n",
      "        [-1.8276e-01,  6.4724e-02,  2.6515e-01,  ..., -3.6457e-04,\n",
      "          1.7399e-02, -9.0490e-03],\n",
      "        ...,\n",
      "        [-7.0241e-02, -1.0579e-02,  1.5911e-01,  ..., -4.0441e-01,\n",
      "         -9.8413e-03, -1.3688e-01],\n",
      "        [ 1.0524e-02,  2.6442e-01, -1.4687e-01,  ..., -2.0586e-01,\n",
      "          1.3556e-01,  4.1317e-02],\n",
      "        [ 3.5201e-02, -1.9500e-01, -2.6488e-04,  ..., -5.5104e-01,\n",
      "          3.7422e-02,  3.5956e-02]], device='cuda:0')\n",
      "tensor([[-5.6709e-02,  2.2331e-01,  3.2902e-01,  ...,  5.7162e-01,\n",
      "          1.8935e-01,  2.3680e-02],\n",
      "        [ 2.5932e-01,  4.9916e-02,  1.2210e-01,  ..., -1.4817e-01,\n",
      "         -1.6526e-01,  6.4453e-02],\n",
      "        [-1.8269e-01,  6.4599e-02,  2.6505e-01,  ..., -9.1837e-05,\n",
      "          1.7273e-02, -9.4520e-03],\n",
      "        ...,\n",
      "        [-7.0292e-02, -1.0337e-02,  1.5926e-01,  ..., -4.0359e-01,\n",
      "         -9.7212e-03, -1.3659e-01],\n",
      "        [ 1.0409e-02,  2.6371e-01, -1.4639e-01,  ..., -2.0545e-01,\n",
      "          1.3592e-01,  4.1800e-02],\n",
      "        [ 3.5294e-02, -1.9527e-01, -2.6765e-04,  ..., -5.5095e-01,\n",
      "          3.7149e-02,  3.5938e-02]], device='cuda:0')\n",
      "tensor([[-5.6707e-02,  2.2351e-01,  3.2861e-01,  ...,  5.7015e-01,\n",
      "          1.8916e-01,  2.3587e-02],\n",
      "        [ 2.5928e-01,  4.9292e-02,  1.2209e-01,  ..., -1.4763e-01,\n",
      "         -1.6488e-01,  6.4375e-02],\n",
      "        [-1.8255e-01,  6.4331e-02,  2.6498e-01,  ...,  2.3673e-04,\n",
      "          1.7390e-02, -1.0002e-02],\n",
      "        ...,\n",
      "        [-6.9975e-02, -1.0732e-02,  1.5927e-01,  ..., -4.0265e-01,\n",
      "         -9.3923e-03, -1.3629e-01],\n",
      "        [ 1.0516e-02,  2.6354e-01, -1.4573e-01,  ..., -2.0501e-01,\n",
      "          1.3597e-01,  4.1862e-02],\n",
      "        [ 3.5487e-02, -1.9511e-01,  1.0605e-04,  ..., -5.5117e-01,\n",
      "          3.6989e-02,  3.5924e-02]], device='cuda:0')\n",
      "tensor([[-5.6363e-02,  2.2394e-01,  3.2828e-01,  ...,  5.6924e-01,\n",
      "          1.8934e-01,  2.3551e-02],\n",
      "        [ 2.5933e-01,  4.8994e-02,  1.2194e-01,  ..., -1.4820e-01,\n",
      "         -1.6418e-01,  6.4440e-02],\n",
      "        [-1.8230e-01,  6.4542e-02,  2.6441e-01,  ...,  7.6044e-04,\n",
      "          1.7845e-02, -1.0203e-02],\n",
      "        ...,\n",
      "        [-6.9552e-02, -1.0445e-02,  1.5962e-01,  ..., -4.0165e-01,\n",
      "         -9.5501e-03, -1.3670e-01],\n",
      "        [ 1.0521e-02,  2.6320e-01, -1.4520e-01,  ..., -2.0429e-01,\n",
      "          1.3578e-01,  4.2107e-02],\n",
      "        [ 3.5611e-02, -1.9497e-01,  5.2502e-04,  ..., -5.5053e-01,\n",
      "          3.7374e-02,  3.5689e-02]], device='cuda:0')\n",
      "tensor([[-5.6515e-02,  2.2438e-01,  3.2786e-01,  ...,  5.6882e-01,\n",
      "          1.8928e-01,  2.3451e-02],\n",
      "        [ 2.5942e-01,  4.9031e-02,  1.2212e-01,  ..., -1.4839e-01,\n",
      "         -1.6341e-01,  6.4358e-02],\n",
      "        [-1.8202e-01,  6.3919e-02,  2.6469e-01,  ..., -2.9191e-04,\n",
      "          1.7582e-02, -1.0252e-02],\n",
      "        ...,\n",
      "        [-6.8770e-02, -1.0021e-02,  1.5968e-01,  ..., -4.0020e-01,\n",
      "         -9.5688e-03, -1.3658e-01],\n",
      "        [ 1.0250e-02,  2.6339e-01, -1.4480e-01,  ..., -2.0489e-01,\n",
      "          1.3539e-01,  4.2119e-02],\n",
      "        [ 3.5930e-02, -1.9499e-01,  2.7172e-04,  ..., -5.4940e-01,\n",
      "          3.7508e-02,  3.5538e-02]], device='cuda:0')\n",
      "tensor([[-0.0563,  0.2246,  0.3274,  ...,  0.5680,  0.1892,  0.0232],\n",
      "        [ 0.2593,  0.0489,  0.1224,  ..., -0.1487, -0.1626,  0.0643],\n",
      "        [-0.1818,  0.0636,  0.2643,  ..., -0.0010,  0.0174, -0.0103],\n",
      "        ...,\n",
      "        [-0.0685, -0.0109,  0.1598,  ..., -0.3991, -0.0096, -0.1367],\n",
      "        [ 0.0106,  0.2632, -0.1443,  ..., -0.2041,  0.1357,  0.0420],\n",
      "        [ 0.0361, -0.1950,  0.0008,  ..., -0.5484,  0.0378,  0.0352]],\n",
      "       device='cuda:0')\n",
      "tensor([[-0.0561,  0.2246,  0.3267,  ...,  0.5674,  0.1890,  0.0233],\n",
      "        [ 0.2593,  0.0486,  0.1226,  ..., -0.1486, -0.1619,  0.0642],\n",
      "        [-0.1813,  0.0634,  0.2642,  ..., -0.0015,  0.0175, -0.0105],\n",
      "        ...,\n",
      "        [-0.0679, -0.0108,  0.1601,  ..., -0.3975, -0.0096, -0.1367],\n",
      "        [ 0.0107,  0.2627, -0.1442,  ..., -0.2044,  0.1359,  0.0420],\n",
      "        [ 0.0363, -0.1951,  0.0011,  ..., -0.5481,  0.0380,  0.0352]],\n",
      "       device='cuda:0')\n",
      "tensor([[-0.0561,  0.2249,  0.3261,  ...,  0.5669,  0.1889,  0.0232],\n",
      "        [ 0.2592,  0.0478,  0.1224,  ..., -0.1485, -0.1609,  0.0639],\n",
      "        [-0.1812,  0.0631,  0.2640,  ..., -0.0020,  0.0175, -0.0108],\n",
      "        ...,\n",
      "        [-0.0673, -0.0113,  0.1600,  ..., -0.3959, -0.0095, -0.1369],\n",
      "        [ 0.0109,  0.2620, -0.1436,  ..., -0.2047,  0.1363,  0.0420],\n",
      "        [ 0.0361, -0.1947,  0.0015,  ..., -0.5480,  0.0381,  0.0351]],\n",
      "       device='cuda:0')\n",
      "tensor([[-0.0560,  0.2255,  0.3256,  ...,  0.5656,  0.1888,  0.0232],\n",
      "        [ 0.2592,  0.0474,  0.1227,  ..., -0.1480, -0.1603,  0.0636],\n",
      "        [-0.1809,  0.0630,  0.2638,  ..., -0.0014,  0.0171, -0.0109],\n",
      "        ...,\n",
      "        [-0.0668, -0.0115,  0.1604,  ..., -0.3953, -0.0096, -0.1365],\n",
      "        [ 0.0109,  0.2624, -0.1430,  ..., -0.2041,  0.1364,  0.0418],\n",
      "        [ 0.0364, -0.1945,  0.0015,  ..., -0.5478,  0.0384,  0.0349]],\n",
      "       device='cuda:0')\n",
      "tensor([[-0.0554,  0.2262,  0.3254,  ...,  0.5650,  0.1890,  0.0230],\n",
      "        [ 0.2595,  0.0468,  0.1226,  ..., -0.1469, -0.1594,  0.0632],\n",
      "        [-0.1810,  0.0623,  0.2639,  ..., -0.0014,  0.0169, -0.0112],\n",
      "        ...,\n",
      "        [-0.0665, -0.0121,  0.1603,  ..., -0.3955, -0.0096, -0.1366],\n",
      "        [ 0.0112,  0.2623, -0.1426,  ..., -0.2050,  0.1364,  0.0419],\n",
      "        [ 0.0364, -0.1944,  0.0016,  ..., -0.5471,  0.0383,  0.0346]],\n",
      "       device='cuda:0')\n",
      "tensor([[-0.0554,  0.2262,  0.3250,  ...,  0.5642,  0.1887,  0.0231],\n",
      "        [ 0.2597,  0.0465,  0.1224,  ..., -0.1461, -0.1584,  0.0634],\n",
      "        [-0.1810,  0.0618,  0.2640,  ..., -0.0010,  0.0167, -0.0115],\n",
      "        ...,\n",
      "        [-0.0661, -0.0121,  0.1604,  ..., -0.3952, -0.0095, -0.1366],\n",
      "        [ 0.0111,  0.2616, -0.1424,  ..., -0.2055,  0.1364,  0.0420],\n",
      "        [ 0.0365, -0.1945,  0.0016,  ..., -0.5461,  0.0386,  0.0346]],\n",
      "       device='cuda:0')\n",
      "tensor([[-0.0551,  0.2264,  0.3241,  ...,  0.5635,  0.1884,  0.0230],\n",
      "        [ 0.2598,  0.0462,  0.1221,  ..., -0.1453, -0.1577,  0.0633],\n",
      "        [-0.1811,  0.0618,  0.2637,  ..., -0.0006,  0.0165, -0.0117],\n",
      "        ...,\n",
      "        [-0.0659, -0.0116,  0.1604,  ..., -0.3945, -0.0095, -0.1366],\n",
      "        [ 0.0112,  0.2611, -0.1422,  ..., -0.2057,  0.1362,  0.0421],\n",
      "        [ 0.0365, -0.1946,  0.0020,  ..., -0.5463,  0.0384,  0.0345]],\n",
      "       device='cuda:0')\n",
      "tensor([[-5.5129e-02,  2.2574e-01,  3.2316e-01,  ...,  5.6288e-01,\n",
      "          1.8805e-01,  2.3183e-02],\n",
      "        [ 2.5981e-01,  4.5989e-02,  1.2261e-01,  ..., -1.4444e-01,\n",
      "         -1.5688e-01,  6.3264e-02],\n",
      "        [-1.8078e-01,  6.1856e-02,  2.6353e-01,  ..., -4.8936e-04,\n",
      "          1.6514e-02, -1.2197e-02],\n",
      "        ...,\n",
      "        [-6.5363e-02, -1.1933e-02,  1.6095e-01,  ..., -3.9399e-01,\n",
      "         -9.5424e-03, -1.3639e-01],\n",
      "        [ 1.1157e-02,  2.6042e-01, -1.4141e-01,  ..., -2.0571e-01,\n",
      "          1.3597e-01,  4.2174e-02],\n",
      "        [ 3.6884e-02, -1.9456e-01,  1.9028e-03,  ..., -5.4532e-01,\n",
      "          3.8620e-02,  3.4242e-02]], device='cuda:0')\n",
      "tensor([[-5.5141e-02,  2.2556e-01,  3.2293e-01,  ...,  5.6225e-01,\n",
      "          1.8752e-01,  2.3258e-02],\n",
      "        [ 2.5971e-01,  4.5726e-02,  1.2286e-01,  ..., -1.4420e-01,\n",
      "         -1.5600e-01,  6.3089e-02],\n",
      "        [-1.8070e-01,  6.1764e-02,  2.6342e-01,  ...,  4.3130e-06,\n",
      "          1.6200e-02, -1.2288e-02],\n",
      "        ...,\n",
      "        [-6.5130e-02, -1.2073e-02,  1.6133e-01,  ..., -3.9282e-01,\n",
      "         -9.3327e-03, -1.3650e-01],\n",
      "        [ 1.1048e-02,  2.6078e-01, -1.4125e-01,  ..., -2.0613e-01,\n",
      "          1.3562e-01,  4.2134e-02],\n",
      "        [ 3.6923e-02, -1.9448e-01,  2.1770e-03,  ..., -5.4451e-01,\n",
      "          3.8852e-02,  3.3897e-02]], device='cuda:0')\n",
      "tensor([[-5.5422e-02,  2.2607e-01,  3.2247e-01,  ...,  5.6052e-01,\n",
      "          1.8750e-01,  2.3021e-02],\n",
      "        [ 2.5954e-01,  4.5683e-02,  1.2296e-01,  ..., -1.4505e-01,\n",
      "         -1.5572e-01,  6.3251e-02],\n",
      "        [-1.8089e-01,  6.1448e-02,  2.6337e-01,  ..., -3.3357e-04,\n",
      "          1.6217e-02, -1.2631e-02],\n",
      "        ...,\n",
      "        [-6.4707e-02, -1.2535e-02,  1.6159e-01,  ..., -3.9155e-01,\n",
      "         -9.4428e-03, -1.3656e-01],\n",
      "        [ 1.0875e-02,  2.6075e-01, -1.4082e-01,  ..., -2.0624e-01,\n",
      "          1.3534e-01,  4.2169e-02],\n",
      "        [ 3.7194e-02, -1.9442e-01,  2.5346e-03,  ..., -5.4332e-01,\n",
      "          3.8796e-02,  3.3879e-02]], device='cuda:0')\n",
      "tensor([[-5.5383e-02,  2.2640e-01,  3.2192e-01,  ...,  5.5943e-01,\n",
      "          1.8730e-01,  2.3190e-02],\n",
      "        [ 2.5932e-01,  4.5366e-02,  1.2280e-01,  ..., -1.4419e-01,\n",
      "         -1.5479e-01,  6.2973e-02],\n",
      "        [-1.8101e-01,  6.1364e-02,  2.6327e-01,  ...,  3.8876e-04,\n",
      "          1.6245e-02, -1.2667e-02],\n",
      "        ...,\n",
      "        [-6.4740e-02, -1.2381e-02,  1.6168e-01,  ..., -3.9135e-01,\n",
      "         -9.9256e-03, -1.3684e-01],\n",
      "        [ 1.1238e-02,  2.6065e-01, -1.4045e-01,  ..., -2.0653e-01,\n",
      "          1.3537e-01,  4.2360e-02],\n",
      "        [ 3.7208e-02, -1.9428e-01,  2.9963e-03,  ..., -5.4255e-01,\n",
      "          3.8438e-02,  3.3675e-02]], device='cuda:0')\n",
      "tensor([[-5.5310e-02,  2.2610e-01,  3.2176e-01,  ...,  5.5911e-01,\n",
      "          1.8696e-01,  2.3152e-02],\n",
      "        [ 2.5916e-01,  4.4572e-02,  1.2281e-01,  ..., -1.4481e-01,\n",
      "         -1.5434e-01,  6.2932e-02],\n",
      "        [-1.8101e-01,  6.0761e-02,  2.6316e-01,  ...,  4.8470e-04,\n",
      "          1.6315e-02, -1.2941e-02],\n",
      "        ...,\n",
      "        [-6.4237e-02, -1.2859e-02,  1.6182e-01,  ..., -3.9116e-01,\n",
      "         -9.8120e-03, -1.3686e-01],\n",
      "        [ 1.1322e-02,  2.6066e-01, -1.4015e-01,  ..., -2.0664e-01,\n",
      "          1.3563e-01,  4.2700e-02],\n",
      "        [ 3.7414e-02, -1.9404e-01,  3.5163e-03,  ..., -5.4189e-01,\n",
      "          3.8214e-02,  3.3632e-02]], device='cuda:0')\n",
      "tensor([[-0.0552,  0.2260,  0.3215,  ...,  0.5586,  0.1871,  0.0230],\n",
      "        [ 0.2593,  0.0443,  0.1233,  ..., -0.1444, -0.1537,  0.0626],\n",
      "        [-0.1809,  0.0603,  0.2630,  ...,  0.0011,  0.0159, -0.0132],\n",
      "        ...,\n",
      "        [-0.0639, -0.0127,  0.1621,  ..., -0.3904, -0.0100, -0.1370],\n",
      "        [ 0.0112,  0.2607, -0.1401,  ..., -0.2078,  0.1353,  0.0428],\n",
      "        [ 0.0376, -0.1939,  0.0039,  ..., -0.5417,  0.0379,  0.0338]],\n",
      "       device='cuda:0')\n",
      "tensor([[-0.0556,  0.2258,  0.3214,  ...,  0.5581,  0.1866,  0.0229],\n",
      "        [ 0.2594,  0.0443,  0.1232,  ..., -0.1442, -0.1527,  0.0629],\n",
      "        [-0.1811,  0.0600,  0.2628,  ...,  0.0014,  0.0158, -0.0135],\n",
      "        ...,\n",
      "        [-0.0637, -0.0128,  0.1624,  ..., -0.3895, -0.0101, -0.1372],\n",
      "        [ 0.0113,  0.2597, -0.1396,  ..., -0.2082,  0.1350,  0.0428],\n",
      "        [ 0.0375, -0.1938,  0.0043,  ..., -0.5412,  0.0375,  0.0340]],\n",
      "       device='cuda:0')\n",
      "tensor([[-0.0554,  0.2259,  0.3211,  ...,  0.5572,  0.1865,  0.0228],\n",
      "        [ 0.2595,  0.0440,  0.1233,  ..., -0.1430, -0.1518,  0.0627],\n",
      "        [-0.1815,  0.0596,  0.2626,  ...,  0.0012,  0.0157, -0.0136],\n",
      "        ...,\n",
      "        [-0.0635, -0.0127,  0.1624,  ..., -0.3887, -0.0101, -0.1373],\n",
      "        [ 0.0111,  0.2599, -0.1394,  ..., -0.2087,  0.1350,  0.0426],\n",
      "        [ 0.0375, -0.1934,  0.0048,  ..., -0.5411,  0.0373,  0.0340]],\n",
      "       device='cuda:0')\n",
      "tensor([[-0.0551,  0.2264,  0.3207,  ...,  0.5574,  0.1867,  0.0225],\n",
      "        [ 0.2593,  0.0434,  0.1235,  ..., -0.1434, -0.1511,  0.0630],\n",
      "        [-0.1814,  0.0595,  0.2625,  ...,  0.0008,  0.0157, -0.0140],\n",
      "        ...,\n",
      "        [-0.0632, -0.0126,  0.1622,  ..., -0.3870, -0.0104, -0.1373],\n",
      "        [ 0.0110,  0.2600, -0.1395,  ..., -0.2091,  0.1349,  0.0427],\n",
      "        [ 0.0371, -0.1938,  0.0050,  ..., -0.5406,  0.0372,  0.0338]],\n",
      "       device='cuda:0')\n",
      "tensor([[-0.0552,  0.2261,  0.3202,  ...,  0.5579,  0.1864,  0.0222],\n",
      "        [ 0.2592,  0.0429,  0.1238,  ..., -0.1430, -0.1497,  0.0632],\n",
      "        [-0.1808,  0.0589,  0.2624,  ...,  0.0011,  0.0155, -0.0143],\n",
      "        ...,\n",
      "        [-0.0628, -0.0128,  0.1624,  ..., -0.3869, -0.0103, -0.1371],\n",
      "        [ 0.0111,  0.2602, -0.1393,  ..., -0.2094,  0.1350,  0.0427],\n",
      "        [ 0.0372, -0.1933,  0.0051,  ..., -0.5403,  0.0369,  0.0338]],\n",
      "       device='cuda:0')\n",
      "tensor([[-0.0552,  0.2255,  0.3194,  ...,  0.5572,  0.1860,  0.0222],\n",
      "        [ 0.2588,  0.0420,  0.1242,  ..., -0.1431, -0.1490,  0.0632],\n",
      "        [-0.1811,  0.0587,  0.2622,  ...,  0.0012,  0.0156, -0.0145],\n",
      "        ...,\n",
      "        [-0.0625, -0.0131,  0.1626,  ..., -0.3865, -0.0098, -0.1371],\n",
      "        [ 0.0114,  0.2602, -0.1390,  ..., -0.2101,  0.1349,  0.0430],\n",
      "        [ 0.0371, -0.1934,  0.0055,  ..., -0.5394,  0.0371,  0.0336]],\n",
      "       device='cuda:0')\n",
      "tensor([[-0.0548,  0.2256,  0.3189,  ...,  0.5560,  0.1862,  0.0224],\n",
      "        [ 0.2586,  0.0412,  0.1244,  ..., -0.1427, -0.1481,  0.0631],\n",
      "        [-0.1812,  0.0584,  0.2618,  ...,  0.0008,  0.0153, -0.0148],\n",
      "        ...,\n",
      "        [-0.0620, -0.0131,  0.1627,  ..., -0.3852, -0.0096, -0.1372],\n",
      "        [ 0.0113,  0.2603, -0.1388,  ..., -0.2102,  0.1352,  0.0429],\n",
      "        [ 0.0371, -0.1932,  0.0055,  ..., -0.5394,  0.0367,  0.0338]],\n",
      "       device='cuda:0')\n",
      "tensor([[-0.0546,  0.2254,  0.3187,  ...,  0.5555,  0.1858,  0.0225],\n",
      "        [ 0.2581,  0.0407,  0.1248,  ..., -0.1426, -0.1470,  0.0632],\n",
      "        [-0.1812,  0.0584,  0.2616,  ...,  0.0006,  0.0151, -0.0151],\n",
      "        ...,\n",
      "        [-0.0616, -0.0131,  0.1629,  ..., -0.3835, -0.0097, -0.1375],\n",
      "        [ 0.0110,  0.2601, -0.1386,  ..., -0.2102,  0.1354,  0.0426],\n",
      "        [ 0.0371, -0.1932,  0.0059,  ..., -0.5394,  0.0368,  0.0336]],\n",
      "       device='cuda:0')\n",
      "tensor([[-0.0546,  0.2255,  0.3182,  ...,  0.5547,  0.1857,  0.0224],\n",
      "        [ 0.2580,  0.0410,  0.1249,  ..., -0.1420, -0.1457,  0.0631],\n",
      "        [-0.1814,  0.0583,  0.2614,  ...,  0.0009,  0.0152, -0.0151],\n",
      "        ...,\n",
      "        [-0.0611, -0.0125,  0.1629,  ..., -0.3825, -0.0100, -0.1373],\n",
      "        [ 0.0109,  0.2601, -0.1384,  ..., -0.2105,  0.1353,  0.0427],\n",
      "        [ 0.0373, -0.1927,  0.0062,  ..., -0.5391,  0.0366,  0.0335]],\n",
      "       device='cuda:0')\n",
      "tensor([[-0.0547,  0.2254,  0.3179,  ...,  0.5546,  0.1855,  0.0224],\n",
      "        [ 0.2576,  0.0411,  0.1249,  ..., -0.1421, -0.1448,  0.0632],\n",
      "        [-0.1817,  0.0585,  0.2612,  ...,  0.0018,  0.0150, -0.0155],\n",
      "        ...,\n",
      "        [-0.0608, -0.0128,  0.1637,  ..., -0.3823, -0.0100, -0.1370],\n",
      "        [ 0.0107,  0.2596, -0.1382,  ..., -0.2106,  0.1354,  0.0428],\n",
      "        [ 0.0372, -0.1930,  0.0065,  ..., -0.5387,  0.0363,  0.0335]],\n",
      "       device='cuda:0')\n",
      "tensor([[-0.0543,  0.2256,  0.3177,  ...,  0.5542,  0.1854,  0.0220],\n",
      "        [ 0.2577,  0.0409,  0.1251,  ..., -0.1419, -0.1438,  0.0633],\n",
      "        [-0.1817,  0.0584,  0.2609,  ...,  0.0013,  0.0149, -0.0156],\n",
      "        ...,\n",
      "        [-0.0606, -0.0127,  0.1638,  ..., -0.3814, -0.0103, -0.1371],\n",
      "        [ 0.0107,  0.2588, -0.1378,  ..., -0.2115,  0.1352,  0.0428],\n",
      "        [ 0.0368, -0.1929,  0.0064,  ..., -0.5382,  0.0360,  0.0335]],\n",
      "       device='cuda:0')\n",
      "tensor([[-0.0545,  0.2254,  0.3167,  ...,  0.5533,  0.1853,  0.0221],\n",
      "        [ 0.2579,  0.0406,  0.1254,  ..., -0.1416, -0.1431,  0.0632],\n",
      "        [-0.1819,  0.0582,  0.2608,  ...,  0.0014,  0.0149, -0.0159],\n",
      "        ...,\n",
      "        [-0.0603, -0.0127,  0.1641,  ..., -0.3803, -0.0102, -0.1371],\n",
      "        [ 0.0106,  0.2584, -0.1373,  ..., -0.2119,  0.1352,  0.0429],\n",
      "        [ 0.0369, -0.1925,  0.0065,  ..., -0.5374,  0.0359,  0.0334]],\n",
      "       device='cuda:0')\n",
      "tensor([[-0.0545,  0.2252,  0.3163,  ...,  0.5526,  0.1851,  0.0221],\n",
      "        [ 0.2579,  0.0402,  0.1250,  ..., -0.1410, -0.1420,  0.0631],\n",
      "        [-0.1819,  0.0583,  0.2604,  ...,  0.0017,  0.0151, -0.0161],\n",
      "        ...,\n",
      "        [-0.0600, -0.0131,  0.1645,  ..., -0.3793, -0.0100, -0.1369],\n",
      "        [ 0.0105,  0.2583, -0.1368,  ..., -0.2112,  0.1350,  0.0430],\n",
      "        [ 0.0369, -0.1925,  0.0068,  ..., -0.5374,  0.0360,  0.0335]],\n",
      "       device='cuda:0')\n",
      "tensor([[-0.0545,  0.2249,  0.3159,  ...,  0.5522,  0.1849,  0.0222],\n",
      "        [ 0.2579,  0.0398,  0.1250,  ..., -0.1405, -0.1409,  0.0631],\n",
      "        [-0.1818,  0.0580,  0.2602,  ...,  0.0027,  0.0145, -0.0163],\n",
      "        ...,\n",
      "        [-0.0598, -0.0134,  0.1649,  ..., -0.3791, -0.0101, -0.1368],\n",
      "        [ 0.0104,  0.2586, -0.1364,  ..., -0.2118,  0.1351,  0.0432],\n",
      "        [ 0.0366, -0.1933,  0.0068,  ..., -0.5362,  0.0364,  0.0336]],\n",
      "       device='cuda:0')\n",
      "tensor([[-0.0544,  0.2251,  0.3156,  ...,  0.5511,  0.1846,  0.0220],\n",
      "        [ 0.2578,  0.0396,  0.1252,  ..., -0.1405, -0.1401,  0.0628],\n",
      "        [-0.1815,  0.0582,  0.2599,  ...,  0.0025,  0.0148, -0.0165],\n",
      "        ...,\n",
      "        [-0.0596, -0.0133,  0.1652,  ..., -0.3788, -0.0101, -0.1366],\n",
      "        [ 0.0106,  0.2587, -0.1362,  ..., -0.2116,  0.1349,  0.0431],\n",
      "        [ 0.0365, -0.1932,  0.0070,  ..., -0.5355,  0.0367,  0.0335]],\n",
      "       device='cuda:0')\n",
      "tensor([[-0.0542,  0.2252,  0.3151,  ...,  0.5504,  0.1842,  0.0218],\n",
      "        [ 0.2576,  0.0394,  0.1252,  ..., -0.1408, -0.1392,  0.0630],\n",
      "        [-0.1816,  0.0579,  0.2598,  ...,  0.0029,  0.0148, -0.0165],\n",
      "        ...,\n",
      "        [-0.0592, -0.0134,  0.1654,  ..., -0.3780, -0.0101, -0.1367],\n",
      "        [ 0.0107,  0.2584, -0.1360,  ..., -0.2116,  0.1349,  0.0430],\n",
      "        [ 0.0361, -0.1931,  0.0074,  ..., -0.5351,  0.0368,  0.0336]],\n",
      "       device='cuda:0')\n",
      "tensor([[-0.0540,  0.2252,  0.3147,  ...,  0.5500,  0.1842,  0.0216],\n",
      "        [ 0.2576,  0.0394,  0.1252,  ..., -0.1410, -0.1382,  0.0629],\n",
      "        [-0.1818,  0.0572,  0.2598,  ...,  0.0032,  0.0148, -0.0168],\n",
      "        ...,\n",
      "        [-0.0589, -0.0137,  0.1658,  ..., -0.3780, -0.0098, -0.1368],\n",
      "        [ 0.0105,  0.2583, -0.1355,  ..., -0.2116,  0.1345,  0.0431],\n",
      "        [ 0.0361, -0.1930,  0.0076,  ..., -0.5350,  0.0371,  0.0334]],\n",
      "       device='cuda:0')\n",
      "tensor([[-0.0541,  0.2252,  0.3147,  ...,  0.5502,  0.1839,  0.0215],\n",
      "        [ 0.2577,  0.0390,  0.1256,  ..., -0.1407, -0.1372,  0.0629],\n",
      "        [-0.1816,  0.0567,  0.2598,  ...,  0.0034,  0.0150, -0.0171],\n",
      "        ...,\n",
      "        [-0.0587, -0.0137,  0.1662,  ..., -0.3763, -0.0097, -0.1370],\n",
      "        [ 0.0104,  0.2576, -0.1352,  ..., -0.2126,  0.1343,  0.0433],\n",
      "        [ 0.0359, -0.1926,  0.0076,  ..., -0.5345,  0.0367,  0.0332]],\n",
      "       device='cuda:0')\n",
      "tensor([[-0.0536,  0.2257,  0.3144,  ...,  0.5493,  0.1836,  0.0214],\n",
      "        [ 0.2578,  0.0391,  0.1257,  ..., -0.1403, -0.1364,  0.0630],\n",
      "        [-0.1814,  0.0565,  0.2597,  ...,  0.0030,  0.0152, -0.0174],\n",
      "        ...,\n",
      "        [-0.0584, -0.0137,  0.1665,  ..., -0.3752, -0.0101, -0.1373],\n",
      "        [ 0.0103,  0.2577, -0.1349,  ..., -0.2135,  0.1343,  0.0434],\n",
      "        [ 0.0358, -0.1921,  0.0074,  ..., -0.5346,  0.0366,  0.0331]],\n",
      "       device='cuda:0')\n",
      "tensor([[-0.0533,  0.2258,  0.3139,  ...,  0.5480,  0.1833,  0.0214],\n",
      "        [ 0.2579,  0.0387,  0.1256,  ..., -0.1405, -0.1359,  0.0630],\n",
      "        [-0.1812,  0.0564,  0.2597,  ...,  0.0033,  0.0150, -0.0176],\n",
      "        ...,\n",
      "        [-0.0580, -0.0139,  0.1664,  ..., -0.3739, -0.0103, -0.1372],\n",
      "        [ 0.0106,  0.2573, -0.1348,  ..., -0.2144,  0.1343,  0.0437],\n",
      "        [ 0.0359, -0.1919,  0.0075,  ..., -0.5340,  0.0365,  0.0331]],\n",
      "       device='cuda:0')\n",
      "tensor([[-0.0535,  0.2263,  0.3133,  ...,  0.5465,  0.1832,  0.0213],\n",
      "        [ 0.2578,  0.0385,  0.1257,  ..., -0.1406, -0.1351,  0.0628],\n",
      "        [-0.1812,  0.0565,  0.2594,  ...,  0.0041,  0.0152, -0.0179],\n",
      "        ...,\n",
      "        [-0.0574, -0.0138,  0.1665,  ..., -0.3726, -0.0107, -0.1372],\n",
      "        [ 0.0105,  0.2575, -0.1343,  ..., -0.2141,  0.1345,  0.0436],\n",
      "        [ 0.0358, -0.1923,  0.0079,  ..., -0.5341,  0.0364,  0.0332]],\n",
      "       device='cuda:0')\n"
     ]
    },
    {
     "name": "stdout",
     "output_type": "stream",
     "text": [
      "tensor([[-0.0532,  0.2264,  0.3125,  ...,  0.5461,  0.1833,  0.0212],\n",
      "        [ 0.2577,  0.0380,  0.1256,  ..., -0.1399, -0.1340,  0.0627],\n",
      "        [-0.1809,  0.0563,  0.2591,  ...,  0.0036,  0.0151, -0.0180],\n",
      "        ...,\n",
      "        [-0.0571, -0.0142,  0.1665,  ..., -0.3724, -0.0107, -0.1372],\n",
      "        [ 0.0105,  0.2576, -0.1342,  ..., -0.2144,  0.1348,  0.0438],\n",
      "        [ 0.0357, -0.1922,  0.0082,  ..., -0.5330,  0.0364,  0.0331]],\n",
      "       device='cuda:0')\n",
      "tensor([[-0.0529,  0.2262,  0.3119,  ...,  0.5453,  0.1831,  0.0211],\n",
      "        [ 0.2581,  0.0370,  0.1258,  ..., -0.1396, -0.1334,  0.0623],\n",
      "        [-0.1807,  0.0563,  0.2589,  ...,  0.0037,  0.0151, -0.0181],\n",
      "        ...,\n",
      "        [-0.0566, -0.0139,  0.1664,  ..., -0.3715, -0.0102, -0.1371],\n",
      "        [ 0.0102,  0.2573, -0.1341,  ..., -0.2152,  0.1345,  0.0436],\n",
      "        [ 0.0354, -0.1921,  0.0083,  ..., -0.5322,  0.0366,  0.0332]],\n",
      "       device='cuda:0')\n",
      "tensor([[-0.0527,  0.2262,  0.3115,  ...,  0.5447,  0.1829,  0.0209],\n",
      "        [ 0.2579,  0.0364,  0.1261,  ..., -0.1391, -0.1329,  0.0621],\n",
      "        [-0.1807,  0.0560,  0.2587,  ...,  0.0039,  0.0152, -0.0182],\n",
      "        ...,\n",
      "        [-0.0564, -0.0142,  0.1667,  ..., -0.3706, -0.0100, -0.1373],\n",
      "        [ 0.0101,  0.2572, -0.1338,  ..., -0.2152,  0.1344,  0.0436],\n",
      "        [ 0.0355, -0.1921,  0.0085,  ..., -0.5320,  0.0368,  0.0332]],\n",
      "       device='cuda:0')\n",
      "tensor([[-0.0522,  0.2261,  0.3106,  ...,  0.5445,  0.1829,  0.0206],\n",
      "        [ 0.2580,  0.0361,  0.1263,  ..., -0.1395, -0.1320,  0.0622],\n",
      "        [-0.1809,  0.0557,  0.2586,  ...,  0.0034,  0.0151, -0.0183],\n",
      "        ...,\n",
      "        [-0.0560, -0.0141,  0.1666,  ..., -0.3689, -0.0100, -0.1373],\n",
      "        [ 0.0104,  0.2573, -0.1335,  ..., -0.2150,  0.1344,  0.0436],\n",
      "        [ 0.0356, -0.1923,  0.0088,  ..., -0.5319,  0.0369,  0.0332]],\n",
      "       device='cuda:0')\n",
      "tensor([[-0.0524,  0.2262,  0.3103,  ...,  0.5439,  0.1826,  0.0204],\n",
      "        [ 0.2580,  0.0359,  0.1262,  ..., -0.1391, -0.1310,  0.0627],\n",
      "        [-0.1810,  0.0556,  0.2584,  ...,  0.0033,  0.0149, -0.0186],\n",
      "        ...,\n",
      "        [-0.0558, -0.0139,  0.1671,  ..., -0.3678, -0.0100, -0.1373],\n",
      "        [ 0.0105,  0.2570, -0.1330,  ..., -0.2153,  0.1347,  0.0435],\n",
      "        [ 0.0358, -0.1924,  0.0088,  ..., -0.5316,  0.0368,  0.0331]],\n",
      "       device='cuda:0')\n",
      "tensor([[-0.0523,  0.2263,  0.3099,  ...,  0.5440,  0.1824,  0.0205],\n",
      "        [ 0.2575,  0.0357,  0.1267,  ..., -0.1397, -0.1298,  0.0632],\n",
      "        [-0.1808,  0.0553,  0.2581,  ...,  0.0041,  0.0148, -0.0189],\n",
      "        ...,\n",
      "        [-0.0553, -0.0141,  0.1674,  ..., -0.3664, -0.0099, -0.1375],\n",
      "        [ 0.0105,  0.2567, -0.1326,  ..., -0.2159,  0.1349,  0.0436],\n",
      "        [ 0.0359, -0.1920,  0.0095,  ..., -0.5314,  0.0367,  0.0332]],\n",
      "       device='cuda:0')\n",
      "tensor([[-0.0519,  0.2260,  0.3096,  ...,  0.5437,  0.1826,  0.0203],\n",
      "        [ 0.2578,  0.0354,  0.1269,  ..., -0.1394, -0.1289,  0.0630],\n",
      "        [-0.1804,  0.0551,  0.2582,  ...,  0.0050,  0.0150, -0.0193],\n",
      "        ...,\n",
      "        [-0.0550, -0.0142,  0.1677,  ..., -0.3650, -0.0100, -0.1376],\n",
      "        [ 0.0105,  0.2564, -0.1324,  ..., -0.2164,  0.1352,  0.0436],\n",
      "        [ 0.0354, -0.1922,  0.0097,  ..., -0.5311,  0.0369,  0.0334]],\n",
      "       device='cuda:0')\n",
      "tensor([[-0.0519,  0.2257,  0.3088,  ...,  0.5442,  0.1820,  0.0201],\n",
      "        [ 0.2578,  0.0349,  0.1272,  ..., -0.1386, -0.1282,  0.0630],\n",
      "        [-0.1802,  0.0552,  0.2580,  ...,  0.0050,  0.0151, -0.0196],\n",
      "        ...,\n",
      "        [-0.0546, -0.0141,  0.1680,  ..., -0.3638, -0.0099, -0.1371],\n",
      "        [ 0.0105,  0.2563, -0.1324,  ..., -0.2167,  0.1351,  0.0435],\n",
      "        [ 0.0353, -0.1923,  0.0103,  ..., -0.5307,  0.0369,  0.0336]],\n",
      "       device='cuda:0')\n",
      "tensor([[-0.0517,  0.2255,  0.3084,  ...,  0.5431,  0.1818,  0.0201],\n",
      "        [ 0.2577,  0.0347,  0.1274,  ..., -0.1386, -0.1271,  0.0634],\n",
      "        [-0.1799,  0.0550,  0.2576,  ...,  0.0048,  0.0152, -0.0198],\n",
      "        ...,\n",
      "        [-0.0543, -0.0148,  0.1678,  ..., -0.3626, -0.0098, -0.1373],\n",
      "        [ 0.0104,  0.2555, -0.1315,  ..., -0.2168,  0.1354,  0.0437],\n",
      "        [ 0.0355, -0.1921,  0.0108,  ..., -0.5302,  0.0370,  0.0337]],\n",
      "       device='cuda:0')\n",
      "tensor([[-0.0513,  0.2258,  0.3078,  ...,  0.5425,  0.1815,  0.0201],\n",
      "        [ 0.2578,  0.0346,  0.1276,  ..., -0.1382, -0.1264,  0.0634],\n",
      "        [-0.1795,  0.0547,  0.2575,  ...,  0.0050,  0.0154, -0.0199],\n",
      "        ...,\n",
      "        [-0.0538, -0.0151,  0.1680,  ..., -0.3610, -0.0099, -0.1375],\n",
      "        [ 0.0103,  0.2556, -0.1311,  ..., -0.2161,  0.1354,  0.0438],\n",
      "        [ 0.0356, -0.1918,  0.0116,  ..., -0.5305,  0.0367,  0.0339]],\n",
      "       device='cuda:0')\n",
      "tensor([[-0.0510,  0.2261,  0.3079,  ...,  0.5420,  0.1810,  0.0199],\n",
      "        [ 0.2580,  0.0340,  0.1274,  ..., -0.1378, -0.1255,  0.0634],\n",
      "        [-0.1794,  0.0544,  0.2574,  ...,  0.0051,  0.0150, -0.0203],\n",
      "        ...,\n",
      "        [-0.0531, -0.0154,  0.1679,  ..., -0.3598, -0.0100, -0.1374],\n",
      "        [ 0.0103,  0.2553, -0.1308,  ..., -0.2161,  0.1357,  0.0439],\n",
      "        [ 0.0352, -0.1917,  0.0120,  ..., -0.5300,  0.0373,  0.0340]],\n",
      "       device='cuda:0')\n",
      "tensor([[-0.0509,  0.2264,  0.3078,  ...,  0.5415,  0.1809,  0.0198],\n",
      "        [ 0.2577,  0.0335,  0.1272,  ..., -0.1378, -0.1246,  0.0634],\n",
      "        [-0.1791,  0.0543,  0.2572,  ...,  0.0049,  0.0148, -0.0204],\n",
      "        ...,\n",
      "        [-0.0526, -0.0156,  0.1680,  ..., -0.3586, -0.0101, -0.1374],\n",
      "        [ 0.0102,  0.2552, -0.1306,  ..., -0.2157,  0.1358,  0.0437],\n",
      "        [ 0.0349, -0.1919,  0.0120,  ..., -0.5294,  0.0372,  0.0340]],\n",
      "       device='cuda:0')\n",
      "tensor([[-0.0508,  0.2266,  0.3073,  ...,  0.5408,  0.1808,  0.0197],\n",
      "        [ 0.2576,  0.0334,  0.1272,  ..., -0.1377, -0.1233,  0.0635],\n",
      "        [-0.1792,  0.0541,  0.2573,  ...,  0.0051,  0.0144, -0.0208],\n",
      "        ...,\n",
      "        [-0.0523, -0.0155,  0.1683,  ..., -0.3576, -0.0097, -0.1373],\n",
      "        [ 0.0103,  0.2553, -0.1301,  ..., -0.2154,  0.1361,  0.0437],\n",
      "        [ 0.0349, -0.1922,  0.0123,  ..., -0.5286,  0.0374,  0.0338]],\n",
      "       device='cuda:0')\n",
      "tensor([[-0.0508,  0.2268,  0.3067,  ...,  0.5402,  0.1807,  0.0195],\n",
      "        [ 0.2576,  0.0334,  0.1273,  ..., -0.1366, -0.1224,  0.0632],\n",
      "        [-0.1790,  0.0539,  0.2572,  ...,  0.0053,  0.0145, -0.0208],\n",
      "        ...,\n",
      "        [-0.0521, -0.0154,  0.1687,  ..., -0.3567, -0.0099, -0.1376],\n",
      "        [ 0.0103,  0.2549, -0.1297,  ..., -0.2160,  0.1363,  0.0437],\n",
      "        [ 0.0346, -0.1921,  0.0126,  ..., -0.5288,  0.0369,  0.0338]],\n",
      "       device='cuda:0')\n",
      "tensor([[-0.0507,  0.2265,  0.3061,  ...,  0.5393,  0.1805,  0.0194],\n",
      "        [ 0.2576,  0.0328,  0.1275,  ..., -0.1363, -0.1216,  0.0632],\n",
      "        [-0.1792,  0.0542,  0.2571,  ...,  0.0059,  0.0147, -0.0212],\n",
      "        ...,\n",
      "        [-0.0516, -0.0153,  0.1690,  ..., -0.3555, -0.0104, -0.1374],\n",
      "        [ 0.0102,  0.2551, -0.1295,  ..., -0.2164,  0.1360,  0.0436],\n",
      "        [ 0.0345, -0.1921,  0.0128,  ..., -0.5285,  0.0368,  0.0339]],\n",
      "       device='cuda:0')\n",
      "tensor([[-0.0506,  0.2265,  0.3058,  ...,  0.5390,  0.1802,  0.0192],\n",
      "        [ 0.2576,  0.0322,  0.1276,  ..., -0.1359, -0.1207,  0.0631],\n",
      "        [-0.1791,  0.0536,  0.2570,  ...,  0.0058,  0.0147, -0.0212],\n",
      "        ...,\n",
      "        [-0.0510, -0.0155,  0.1690,  ..., -0.3552, -0.0105, -0.1375],\n",
      "        [ 0.0102,  0.2553, -0.1290,  ..., -0.2167,  0.1361,  0.0438],\n",
      "        [ 0.0347, -0.1919,  0.0129,  ..., -0.5278,  0.0370,  0.0339]],\n",
      "       device='cuda:0')\n",
      "tensor([[-0.0504,  0.2266,  0.3054,  ...,  0.5385,  0.1801,  0.0192],\n",
      "        [ 0.2572,  0.0315,  0.1276,  ..., -0.1353, -0.1197,  0.0628],\n",
      "        [-0.1789,  0.0537,  0.2568,  ...,  0.0058,  0.0144, -0.0215],\n",
      "        ...,\n",
      "        [-0.0506, -0.0153,  0.1691,  ..., -0.3543, -0.0104, -0.1374],\n",
      "        [ 0.0102,  0.2547, -0.1287,  ..., -0.2168,  0.1364,  0.0436],\n",
      "        [ 0.0346, -0.1918,  0.0133,  ..., -0.5274,  0.0369,  0.0339]],\n",
      "       device='cuda:0')\n",
      "tensor([[-0.0503,  0.2263,  0.3049,  ...,  0.5386,  0.1800,  0.0190],\n",
      "        [ 0.2571,  0.0310,  0.1280,  ..., -0.1354, -0.1187,  0.0628],\n",
      "        [-0.1788,  0.0532,  0.2570,  ...,  0.0063,  0.0141, -0.0218],\n",
      "        ...,\n",
      "        [-0.0504, -0.0155,  0.1692,  ..., -0.3538, -0.0105, -0.1372],\n",
      "        [ 0.0103,  0.2546, -0.1287,  ..., -0.2179,  0.1362,  0.0438],\n",
      "        [ 0.0346, -0.1914,  0.0134,  ..., -0.5271,  0.0372,  0.0340]],\n",
      "       device='cuda:0')\n",
      "tensor([[-0.0500,  0.2267,  0.3049,  ...,  0.5379,  0.1798,  0.0192],\n",
      "        [ 0.2569,  0.0314,  0.1283,  ..., -0.1343, -0.1177,  0.0628],\n",
      "        [-0.1787,  0.0528,  0.2564,  ...,  0.0059,  0.0139, -0.0218],\n",
      "        ...,\n",
      "        [-0.0499, -0.0160,  0.1693,  ..., -0.3528, -0.0107, -0.1373],\n",
      "        [ 0.0102,  0.2542, -0.1284,  ..., -0.2180,  0.1361,  0.0439],\n",
      "        [ 0.0344, -0.1915,  0.0136,  ..., -0.5264,  0.0375,  0.0339]],\n",
      "       device='cuda:0')\n",
      "tensor([[-0.0500,  0.2268,  0.3047,  ...,  0.5374,  0.1795,  0.0193],\n",
      "        [ 0.2569,  0.0310,  0.1283,  ..., -0.1343, -0.1163,  0.0629],\n",
      "        [-0.1788,  0.0527,  0.2562,  ...,  0.0061,  0.0137, -0.0221],\n",
      "        ...,\n",
      "        [-0.0496, -0.0162,  0.1695,  ..., -0.3518, -0.0106, -0.1374],\n",
      "        [ 0.0102,  0.2539, -0.1280,  ..., -0.2181,  0.1363,  0.0439],\n",
      "        [ 0.0344, -0.1910,  0.0141,  ..., -0.5262,  0.0373,  0.0343]],\n",
      "       device='cuda:0')\n",
      "tensor([[-0.0499,  0.2270,  0.3039,  ...,  0.5364,  0.1796,  0.0194],\n",
      "        [ 0.2567,  0.0308,  0.1281,  ..., -0.1338, -0.1150,  0.0633],\n",
      "        [-0.1786,  0.0525,  0.2559,  ...,  0.0065,  0.0136, -0.0222],\n",
      "        ...,\n",
      "        [-0.0490, -0.0161,  0.1700,  ..., -0.3502, -0.0107, -0.1374],\n",
      "        [ 0.0101,  0.2536, -0.1275,  ..., -0.2184,  0.1365,  0.0440],\n",
      "        [ 0.0342, -0.1912,  0.0139,  ..., -0.5260,  0.0372,  0.0340]],\n",
      "       device='cuda:0')\n",
      "tensor([[-0.0500,  0.2272,  0.3034,  ...,  0.5351,  0.1796,  0.0195],\n",
      "        [ 0.2564,  0.0302,  0.1281,  ..., -0.1339, -0.1143,  0.0633],\n",
      "        [-0.1787,  0.0522,  0.2557,  ...,  0.0067,  0.0136, -0.0224],\n",
      "        ...,\n",
      "        [-0.0486, -0.0164,  0.1701,  ..., -0.3496, -0.0107, -0.1375],\n",
      "        [ 0.0104,  0.2537, -0.1271,  ..., -0.2191,  0.1364,  0.0443],\n",
      "        [ 0.0340, -0.1908,  0.0141,  ..., -0.5252,  0.0375,  0.0340]],\n",
      "       device='cuda:0')\n",
      "tensor([[-0.0498,  0.2272,  0.3029,  ...,  0.5352,  0.1794,  0.0194],\n",
      "        [ 0.2564,  0.0296,  0.1282,  ..., -0.1346, -0.1134,  0.0631],\n",
      "        [-0.1786,  0.0527,  0.2555,  ...,  0.0073,  0.0138, -0.0225],\n",
      "        ...,\n",
      "        [-0.0485, -0.0169,  0.1701,  ..., -0.3492, -0.0107, -0.1376],\n",
      "        [ 0.0107,  0.2536, -0.1267,  ..., -0.2194,  0.1366,  0.0445],\n",
      "        [ 0.0336, -0.1908,  0.0143,  ..., -0.5251,  0.0373,  0.0340]],\n",
      "       device='cuda:0')\n",
      "tensor([[-0.0498,  0.2274,  0.3021,  ...,  0.5339,  0.1793,  0.0192],\n",
      "        [ 0.2562,  0.0289,  0.1284,  ..., -0.1339, -0.1126,  0.0629],\n",
      "        [-0.1785,  0.0524,  0.2555,  ...,  0.0073,  0.0138, -0.0228],\n",
      "        ...,\n",
      "        [-0.0479, -0.0173,  0.1703,  ..., -0.3478, -0.0107, -0.1375],\n",
      "        [ 0.0107,  0.2540, -0.1265,  ..., -0.2193,  0.1366,  0.0446],\n",
      "        [ 0.0336, -0.1903,  0.0145,  ..., -0.5248,  0.0376,  0.0340]],\n",
      "       device='cuda:0')\n",
      "tensor([[-0.0498,  0.2276,  0.3015,  ...,  0.5327,  0.1791,  0.0191],\n",
      "        [ 0.2565,  0.0286,  0.1285,  ..., -0.1337, -0.1115,  0.0628],\n",
      "        [-0.1783,  0.0525,  0.2554,  ...,  0.0076,  0.0138, -0.0229],\n",
      "        ...,\n",
      "        [-0.0476, -0.0177,  0.1702,  ..., -0.3458, -0.0105, -0.1375],\n",
      "        [ 0.0109,  0.2539, -0.1258,  ..., -0.2203,  0.1365,  0.0446],\n",
      "        [ 0.0336, -0.1906,  0.0144,  ..., -0.5238,  0.0379,  0.0339]],\n",
      "       device='cuda:0')\n",
      "tensor([[-0.0497,  0.2276,  0.3009,  ...,  0.5316,  0.1789,  0.0191],\n",
      "        [ 0.2565,  0.0279,  0.1287,  ..., -0.1336, -0.1108,  0.0627],\n",
      "        [-0.1783,  0.0521,  0.2554,  ...,  0.0072,  0.0140, -0.0233],\n",
      "        ...,\n",
      "        [-0.0474, -0.0179,  0.1707,  ..., -0.3452, -0.0107, -0.1373],\n",
      "        [ 0.0108,  0.2541, -0.1256,  ..., -0.2207,  0.1366,  0.0448],\n",
      "        [ 0.0333, -0.1910,  0.0147,  ..., -0.5237,  0.0381,  0.0339]],\n",
      "       device='cuda:0')\n",
      "tensor([[-0.0494,  0.2275,  0.3004,  ...,  0.5311,  0.1789,  0.0190],\n",
      "        [ 0.2570,  0.0280,  0.1288,  ..., -0.1325, -0.1100,  0.0628],\n",
      "        [-0.1784,  0.0519,  0.2555,  ...,  0.0075,  0.0140, -0.0236],\n",
      "        ...,\n",
      "        [-0.0468, -0.0180,  0.1705,  ..., -0.3447, -0.0106, -0.1371],\n",
      "        [ 0.0109,  0.2542, -0.1250,  ..., -0.2210,  0.1368,  0.0447],\n",
      "        [ 0.0330, -0.1909,  0.0149,  ..., -0.5235,  0.0384,  0.0341]],\n",
      "       device='cuda:0')\n",
      "tensor([[-0.0492,  0.2275,  0.2999,  ...,  0.5304,  0.1786,  0.0188],\n",
      "        [ 0.2569,  0.0277,  0.1292,  ..., -0.1326, -0.1088,  0.0628],\n",
      "        [-0.1782,  0.0518,  0.2554,  ...,  0.0073,  0.0141, -0.0235],\n",
      "        ...,\n",
      "        [-0.0463, -0.0180,  0.1708,  ..., -0.3442, -0.0105, -0.1375],\n",
      "        [ 0.0110,  0.2542, -0.1247,  ..., -0.2211,  0.1367,  0.0448],\n",
      "        [ 0.0330, -0.1911,  0.0153,  ..., -0.5227,  0.0385,  0.0343]],\n",
      "       device='cuda:0')\n",
      "tensor([[-0.0491,  0.2276,  0.2996,  ...,  0.5302,  0.1783,  0.0185],\n",
      "        [ 0.2567,  0.0274,  0.1292,  ..., -0.1322, -0.1077,  0.0631],\n",
      "        [-0.1784,  0.0517,  0.2552,  ...,  0.0083,  0.0142, -0.0239],\n",
      "        ...,\n",
      "        [-0.0459, -0.0181,  0.1711,  ..., -0.3436, -0.0102, -0.1376],\n",
      "        [ 0.0110,  0.2539, -0.1245,  ..., -0.2202,  0.1370,  0.0450],\n",
      "        [ 0.0331, -0.1909,  0.0151,  ..., -0.5227,  0.0386,  0.0340]],\n",
      "       device='cuda:0')\n",
      "tensor([[-0.0493,  0.2277,  0.2998,  ...,  0.5292,  0.1783,  0.0181],\n",
      "        [ 0.2569,  0.0270,  0.1293,  ..., -0.1315, -0.1068,  0.0628],\n",
      "        [-0.1784,  0.0519,  0.2550,  ...,  0.0084,  0.0145, -0.0241],\n",
      "        ...,\n",
      "        [-0.0456, -0.0185,  0.1714,  ..., -0.3430, -0.0104, -0.1379],\n",
      "        [ 0.0110,  0.2536, -0.1242,  ..., -0.2204,  0.1367,  0.0450],\n",
      "        [ 0.0332, -0.1911,  0.0155,  ..., -0.5219,  0.0390,  0.0341]],\n",
      "       device='cuda:0')\n",
      "tensor([[-0.0491,  0.2278,  0.2993,  ...,  0.5284,  0.1782,  0.0179],\n",
      "        [ 0.2568,  0.0264,  0.1293,  ..., -0.1311, -0.1060,  0.0628],\n",
      "        [-0.1781,  0.0516,  0.2548,  ...,  0.0082,  0.0143, -0.0241],\n",
      "        ...,\n",
      "        [-0.0453, -0.0187,  0.1714,  ..., -0.3423, -0.0104, -0.1378],\n",
      "        [ 0.0109,  0.2534, -0.1236,  ..., -0.2207,  0.1368,  0.0450],\n",
      "        [ 0.0329, -0.1912,  0.0159,  ..., -0.5212,  0.0390,  0.0342]],\n",
      "       device='cuda:0')\n",
      "tensor([[-0.0494,  0.2279,  0.2989,  ...,  0.5274,  0.1779,  0.0179],\n",
      "        [ 0.2564,  0.0258,  0.1294,  ..., -0.1311, -0.1051,  0.0627],\n",
      "        [-0.1779,  0.0514,  0.2548,  ...,  0.0082,  0.0145, -0.0243],\n",
      "        ...,\n",
      "        [-0.0451, -0.0185,  0.1715,  ..., -0.3409, -0.0106, -0.1376],\n",
      "        [ 0.0108,  0.2533, -0.1234,  ..., -0.2210,  0.1366,  0.0449],\n",
      "        [ 0.0326, -0.1915,  0.0163,  ..., -0.5209,  0.0390,  0.0341]],\n",
      "       device='cuda:0')\n",
      "tensor([[-0.0492,  0.2277,  0.2988,  ...,  0.5263,  0.1779,  0.0179],\n",
      "        [ 0.2564,  0.0250,  0.1297,  ..., -0.1305, -0.1040,  0.0627],\n",
      "        [-0.1777,  0.0512,  0.2549,  ...,  0.0080,  0.0145, -0.0244],\n",
      "        ...,\n",
      "        [-0.0447, -0.0185,  0.1714,  ..., -0.3398, -0.0106, -0.1375],\n",
      "        [ 0.0106,  0.2530, -0.1230,  ..., -0.2213,  0.1363,  0.0448],\n",
      "        [ 0.0325, -0.1913,  0.0163,  ..., -0.5204,  0.0393,  0.0341]],\n",
      "       device='cuda:0')\n",
      "tensor([[-0.0491,  0.2276,  0.2983,  ...,  0.5259,  0.1777,  0.0178],\n",
      "        [ 0.2565,  0.0242,  0.1298,  ..., -0.1306, -0.1035,  0.0625],\n",
      "        [-0.1778,  0.0508,  0.2547,  ...,  0.0080,  0.0143, -0.0246],\n",
      "        ...,\n",
      "        [-0.0445, -0.0185,  0.1712,  ..., -0.3394, -0.0109, -0.1375],\n",
      "        [ 0.0106,  0.2532, -0.1227,  ..., -0.2220,  0.1363,  0.0447],\n",
      "        [ 0.0322, -0.1911,  0.0164,  ..., -0.5193,  0.0393,  0.0342]],\n",
      "       device='cuda:0')\n",
      "tensor([[-0.0491,  0.2274,  0.2979,  ...,  0.5256,  0.1774,  0.0176],\n",
      "        [ 0.2566,  0.0234,  0.1301,  ..., -0.1300, -0.1026,  0.0622],\n",
      "        [-0.1779,  0.0513,  0.2543,  ...,  0.0082,  0.0144, -0.0247],\n",
      "        ...,\n",
      "        [-0.0440, -0.0180,  0.1715,  ..., -0.3390, -0.0110, -0.1374],\n",
      "        [ 0.0104,  0.2530, -0.1224,  ..., -0.2223,  0.1361,  0.0447],\n",
      "        [ 0.0318, -0.1912,  0.0169,  ..., -0.5182,  0.0393,  0.0341]],\n",
      "       device='cuda:0')\n",
      "tensor([[-0.0490,  0.2274,  0.2974,  ...,  0.5245,  0.1772,  0.0175],\n",
      "        [ 0.2567,  0.0229,  0.1305,  ..., -0.1299, -0.1020,  0.0621],\n",
      "        [-0.1778,  0.0513,  0.2540,  ...,  0.0085,  0.0146, -0.0249],\n",
      "        ...,\n",
      "        [-0.0437, -0.0185,  0.1716,  ..., -0.3380, -0.0112, -0.1375],\n",
      "        [ 0.0103,  0.2530, -0.1221,  ..., -0.2223,  0.1361,  0.0450],\n",
      "        [ 0.0312, -0.1914,  0.0170,  ..., -0.5185,  0.0394,  0.0341]],\n",
      "       device='cuda:0')\n",
      "tensor([[-0.0490,  0.2271,  0.2968,  ...,  0.5237,  0.1769,  0.0175],\n",
      "        [ 0.2564,  0.0220,  0.1306,  ..., -0.1297, -0.1014,  0.0621],\n",
      "        [-0.1780,  0.0510,  0.2540,  ...,  0.0088,  0.0145, -0.0250],\n",
      "        ...,\n",
      "        [-0.0433, -0.0181,  0.1716,  ..., -0.3364, -0.0113, -0.1374],\n",
      "        [ 0.0101,  0.2526, -0.1216,  ..., -0.2231,  0.1360,  0.0449],\n",
      "        [ 0.0306, -0.1916,  0.0174,  ..., -0.5183,  0.0395,  0.0342]],\n",
      "       device='cuda:0')\n",
      "tensor([[-0.0487,  0.2272,  0.2962,  ...,  0.5237,  0.1766,  0.0173],\n",
      "        [ 0.2563,  0.0213,  0.1305,  ..., -0.1286, -0.1004,  0.0617],\n",
      "        [-0.1780,  0.0508,  0.2540,  ...,  0.0087,  0.0147, -0.0251],\n",
      "        ...,\n",
      "        [-0.0430, -0.0181,  0.1716,  ..., -0.3361, -0.0111, -0.1373],\n",
      "        [ 0.0103,  0.2522, -0.1212,  ..., -0.2230,  0.1360,  0.0449],\n",
      "        [ 0.0303, -0.1918,  0.0175,  ..., -0.5177,  0.0400,  0.0340]],\n",
      "       device='cuda:0')\n",
      "tensor([[-0.0488,  0.2272,  0.2960,  ...,  0.5228,  0.1762,  0.0173],\n",
      "        [ 0.2564,  0.0204,  0.1305,  ..., -0.1279, -0.0997,  0.0612],\n",
      "        [-0.1779,  0.0507,  0.2536,  ...,  0.0087,  0.0143, -0.0255],\n",
      "        ...,\n",
      "        [-0.0427, -0.0176,  0.1721,  ..., -0.3358, -0.0109, -0.1372],\n",
      "        [ 0.0102,  0.2521, -0.1211,  ..., -0.2233,  0.1359,  0.0451],\n",
      "        [ 0.0300, -0.1918,  0.0176,  ..., -0.5173,  0.0399,  0.0340]],\n",
      "       device='cuda:0')\n",
      "tensor([[-0.0486,  0.2267,  0.2955,  ...,  0.5223,  0.1760,  0.0171],\n",
      "        [ 0.2565,  0.0203,  0.1305,  ..., -0.1272, -0.0991,  0.0612],\n",
      "        [-0.1780,  0.0505,  0.2535,  ...,  0.0086,  0.0143, -0.0259],\n",
      "        ...,\n",
      "        [-0.0425, -0.0181,  0.1721,  ..., -0.3345, -0.0111, -0.1373],\n",
      "        [ 0.0100,  0.2521, -0.1208,  ..., -0.2232,  0.1356,  0.0453],\n",
      "        [ 0.0297, -0.1922,  0.0176,  ..., -0.5170,  0.0398,  0.0338]],\n",
      "       device='cuda:0')\n",
      "tensor([[-0.0485,  0.2263,  0.2953,  ...,  0.5218,  0.1759,  0.0170],\n",
      "        [ 0.2565,  0.0199,  0.1306,  ..., -0.1264, -0.0987,  0.0612],\n",
      "        [-0.1780,  0.0502,  0.2534,  ...,  0.0090,  0.0140, -0.0260],\n",
      "        ...,\n",
      "        [-0.0419, -0.0180,  0.1721,  ..., -0.3336, -0.0113, -0.1373],\n",
      "        [ 0.0100,  0.2518, -0.1208,  ..., -0.2234,  0.1354,  0.0453],\n",
      "        [ 0.0296, -0.1922,  0.0179,  ..., -0.5165,  0.0399,  0.0339]],\n",
      "       device='cuda:0')\n",
      "tensor([[-0.0485,  0.2263,  0.2945,  ...,  0.5208,  0.1756,  0.0170],\n",
      "        [ 0.2565,  0.0198,  0.1307,  ..., -0.1262, -0.0980,  0.0609],\n",
      "        [-0.1782,  0.0501,  0.2534,  ...,  0.0091,  0.0142, -0.0265],\n",
      "        ...,\n",
      "        [-0.0419, -0.0182,  0.1724,  ..., -0.3334, -0.0115, -0.1373],\n",
      "        [ 0.0099,  0.2523, -0.1205,  ..., -0.2232,  0.1353,  0.0454],\n",
      "        [ 0.0293, -0.1924,  0.0185,  ..., -0.5161,  0.0402,  0.0340]],\n",
      "       device='cuda:0')\n",
      "tensor([[-0.0482,  0.2262,  0.2942,  ...,  0.5200,  0.1753,  0.0170],\n",
      "        [ 0.2568,  0.0192,  0.1311,  ..., -0.1258, -0.0970,  0.0605],\n",
      "        [-0.1782,  0.0499,  0.2534,  ...,  0.0096,  0.0141, -0.0267],\n",
      "        ...,\n",
      "        [-0.0415, -0.0185,  0.1725,  ..., -0.3324, -0.0116, -0.1374],\n",
      "        [ 0.0102,  0.2523, -0.1204,  ..., -0.2232,  0.1351,  0.0454],\n",
      "        [ 0.0293, -0.1918,  0.0189,  ..., -0.5158,  0.0401,  0.0341]],\n",
      "       device='cuda:0')\n",
      "tensor([[-0.0483,  0.2259,  0.2934,  ...,  0.5197,  0.1751,  0.0170],\n",
      "        [ 0.2565,  0.0189,  0.1314,  ..., -0.1254, -0.0961,  0.0606],\n",
      "        [-0.1784,  0.0499,  0.2531,  ...,  0.0105,  0.0141, -0.0270],\n",
      "        ...,\n",
      "        [-0.0415, -0.0186,  0.1728,  ..., -0.3324, -0.0115, -0.1372],\n",
      "        [ 0.0102,  0.2517, -0.1199,  ..., -0.2230,  0.1350,  0.0454],\n",
      "        [ 0.0290, -0.1922,  0.0191,  ..., -0.5154,  0.0406,  0.0343]],\n",
      "       device='cuda:0')\n",
      "tensor([[-0.0482,  0.2262,  0.2930,  ...,  0.5189,  0.1748,  0.0171],\n",
      "        [ 0.2565,  0.0183,  0.1316,  ..., -0.1245, -0.0954,  0.0603],\n",
      "        [-0.1785,  0.0500,  0.2531,  ...,  0.0104,  0.0140, -0.0274],\n",
      "        ...,\n",
      "        [-0.0416, -0.0187,  0.1731,  ..., -0.3317, -0.0114, -0.1370],\n",
      "        [ 0.0104,  0.2519, -0.1197,  ..., -0.2233,  0.1352,  0.0455],\n",
      "        [ 0.0291, -0.1917,  0.0190,  ..., -0.5154,  0.0405,  0.0341]],\n",
      "       device='cuda:0')\n",
      "tensor([[-0.0480,  0.2259,  0.2925,  ...,  0.5189,  0.1744,  0.0168],\n",
      "        [ 0.2564,  0.0179,  0.1317,  ..., -0.1249, -0.0945,  0.0603],\n",
      "        [-0.1783,  0.0500,  0.2530,  ...,  0.0107,  0.0139, -0.0274],\n",
      "        ...,\n",
      "        [-0.0409, -0.0183,  0.1731,  ..., -0.3304, -0.0113, -0.1368],\n",
      "        [ 0.0104,  0.2519, -0.1193,  ..., -0.2230,  0.1352,  0.0454],\n",
      "        [ 0.0286, -0.1921,  0.0189,  ..., -0.5147,  0.0407,  0.0342]],\n",
      "       device='cuda:0')\n",
      "tensor([[-0.0478,  0.2257,  0.2922,  ...,  0.5174,  0.1744,  0.0166],\n",
      "        [ 0.2562,  0.0176,  0.1318,  ..., -0.1248, -0.0938,  0.0600],\n",
      "        [-0.1785,  0.0505,  0.2527,  ...,  0.0110,  0.0140, -0.0277],\n",
      "        ...,\n",
      "        [-0.0406, -0.0179,  0.1733,  ..., -0.3288, -0.0113, -0.1366],\n",
      "        [ 0.0104,  0.2519, -0.1190,  ..., -0.2232,  0.1351,  0.0454],\n",
      "        [ 0.0284, -0.1921,  0.0193,  ..., -0.5146,  0.0413,  0.0345]],\n",
      "       device='cuda:0')\n",
      "tensor([[-0.0477,  0.2256,  0.2921,  ...,  0.5163,  0.1743,  0.0165],\n",
      "        [ 0.2562,  0.0167,  0.1319,  ..., -0.1247, -0.0929,  0.0599],\n",
      "        [-0.1785,  0.0504,  0.2526,  ...,  0.0105,  0.0141, -0.0277],\n",
      "        ...,\n",
      "        [-0.0403, -0.0178,  0.1735,  ..., -0.3279, -0.0115, -0.1367],\n",
      "        [ 0.0106,  0.2511, -0.1188,  ..., -0.2231,  0.1351,  0.0455],\n",
      "        [ 0.0285, -0.1915,  0.0198,  ..., -0.5144,  0.0417,  0.0347]],\n",
      "       device='cuda:0')\n",
      "tensor([[-0.0477,  0.2254,  0.2919,  ...,  0.5157,  0.1742,  0.0164],\n",
      "        [ 0.2560,  0.0162,  0.1322,  ..., -0.1248, -0.0921,  0.0597],\n",
      "        [-0.1783,  0.0503,  0.2525,  ...,  0.0104,  0.0140, -0.0279],\n",
      "        ...,\n",
      "        [-0.0401, -0.0178,  0.1736,  ..., -0.3277, -0.0113, -0.1364],\n",
      "        [ 0.0107,  0.2513, -0.1182,  ..., -0.2237,  0.1350,  0.0455],\n",
      "        [ 0.0284, -0.1915,  0.0199,  ..., -0.5142,  0.0416,  0.0347]],\n",
      "       device='cuda:0')\n",
      "tensor([[-0.0476,  0.2252,  0.2915,  ...,  0.5157,  0.1739,  0.0163],\n",
      "        [ 0.2559,  0.0156,  0.1325,  ..., -0.1236, -0.0914,  0.0596],\n",
      "        [-0.1783,  0.0503,  0.2521,  ...,  0.0102,  0.0138, -0.0281],\n",
      "        ...,\n",
      "        [-0.0396, -0.0176,  0.1736,  ..., -0.3265, -0.0114, -0.1365],\n",
      "        [ 0.0107,  0.2506, -0.1181,  ..., -0.2244,  0.1350,  0.0454],\n",
      "        [ 0.0282, -0.1913,  0.0202,  ..., -0.5138,  0.0417,  0.0348]],\n",
      "       device='cuda:0')\n",
      "tensor([[-0.0476,  0.2254,  0.2906,  ...,  0.5149,  0.1738,  0.0162],\n",
      "        [ 0.2564,  0.0150,  0.1325,  ..., -0.1229, -0.0907,  0.0596],\n",
      "        [-0.1785,  0.0502,  0.2521,  ...,  0.0106,  0.0136, -0.0281],\n",
      "        ...,\n",
      "        [-0.0394, -0.0175,  0.1739,  ..., -0.3258, -0.0115, -0.1366],\n",
      "        [ 0.0109,  0.2506, -0.1179,  ..., -0.2242,  0.1350,  0.0454],\n",
      "        [ 0.0280, -0.1915,  0.0202,  ..., -0.5137,  0.0419,  0.0351]],\n",
      "       device='cuda:0')\n",
      "tensor([[-0.0474,  0.2252,  0.2904,  ...,  0.5142,  0.1735,  0.0161],\n",
      "        [ 0.2565,  0.0150,  0.1326,  ..., -0.1223, -0.0897,  0.0596],\n",
      "        [-0.1780,  0.0502,  0.2519,  ...,  0.0101,  0.0138, -0.0281],\n",
      "        ...,\n",
      "        [-0.0397, -0.0177,  0.1740,  ..., -0.3248, -0.0115, -0.1368],\n",
      "        [ 0.0106,  0.2501, -0.1174,  ..., -0.2244,  0.1347,  0.0454],\n",
      "        [ 0.0281, -0.1916,  0.0206,  ..., -0.5133,  0.0420,  0.0352]],\n",
      "       device='cuda:0')\n",
      "tensor([[-0.0472,  0.2248,  0.2900,  ...,  0.5135,  0.1734,  0.0158],\n",
      "        [ 0.2565,  0.0146,  0.1328,  ..., -0.1220, -0.0888,  0.0596],\n",
      "        [-0.1782,  0.0499,  0.2515,  ...,  0.0098,  0.0136, -0.0284],\n",
      "        ...,\n",
      "        [-0.0395, -0.0175,  0.1743,  ..., -0.3248, -0.0115, -0.1364],\n",
      "        [ 0.0105,  0.2504, -0.1173,  ..., -0.2245,  0.1344,  0.0454],\n",
      "        [ 0.0281, -0.1916,  0.0208,  ..., -0.5132,  0.0423,  0.0353]],\n",
      "       device='cuda:0')\n",
      "tensor([[-0.0471,  0.2249,  0.2895,  ...,  0.5126,  0.1732,  0.0158],\n",
      "        [ 0.2564,  0.0145,  0.1328,  ..., -0.1217, -0.0879,  0.0597],\n",
      "        [-0.1782,  0.0498,  0.2513,  ...,  0.0098,  0.0138, -0.0283],\n",
      "        ...,\n",
      "        [-0.0390, -0.0173,  0.1742,  ..., -0.3230, -0.0115, -0.1365],\n",
      "        [ 0.0106,  0.2503, -0.1172,  ..., -0.2241,  0.1345,  0.0454],\n",
      "        [ 0.0278, -0.1916,  0.0212,  ..., -0.5125,  0.0423,  0.0353]],\n",
      "       device='cuda:0')\n",
      "tensor([[-0.0470,  0.2244,  0.2891,  ...,  0.5122,  0.1730,  0.0157],\n",
      "        [ 0.2561,  0.0142,  0.1332,  ..., -0.1214, -0.0872,  0.0596],\n",
      "        [-0.1781,  0.0497,  0.2511,  ...,  0.0097,  0.0140, -0.0286],\n",
      "        ...,\n",
      "        [-0.0387, -0.0174,  0.1746,  ..., -0.3221, -0.0118, -0.1368],\n",
      "        [ 0.0105,  0.2498, -0.1170,  ..., -0.2243,  0.1345,  0.0454],\n",
      "        [ 0.0276, -0.1918,  0.0213,  ..., -0.5118,  0.0425,  0.0354]],\n",
      "       device='cuda:0')\n",
      "tensor([[-0.0471,  0.2242,  0.2889,  ...,  0.5116,  0.1727,  0.0156],\n",
      "        [ 0.2564,  0.0136,  0.1333,  ..., -0.1207, -0.0862,  0.0594],\n",
      "        [-0.1781,  0.0498,  0.2511,  ...,  0.0099,  0.0141, -0.0288],\n",
      "        ...,\n",
      "        [-0.0385, -0.0172,  0.1743,  ..., -0.3209, -0.0120, -0.1370],\n",
      "        [ 0.0106,  0.2502, -0.1169,  ..., -0.2248,  0.1344,  0.0455],\n",
      "        [ 0.0277, -0.1918,  0.0218,  ..., -0.5118,  0.0426,  0.0354]],\n",
      "       device='cuda:0')\n",
      "tensor([[-0.0472,  0.2240,  0.2885,  ...,  0.5113,  0.1722,  0.0158],\n",
      "        [ 0.2563,  0.0132,  0.1333,  ..., -0.1203, -0.0853,  0.0595],\n",
      "        [-0.1781,  0.0494,  0.2509,  ...,  0.0103,  0.0142, -0.0292],\n",
      "        ...,\n",
      "        [-0.0384, -0.0171,  0.1744,  ..., -0.3202, -0.0121, -0.1369],\n",
      "        [ 0.0109,  0.2503, -0.1166,  ..., -0.2247,  0.1346,  0.0454],\n",
      "        [ 0.0276, -0.1916,  0.0221,  ..., -0.5110,  0.0427,  0.0356]],\n",
      "       device='cuda:0')\n",
      "tensor([[-0.0471,  0.2241,  0.2880,  ...,  0.5108,  0.1720,  0.0158],\n",
      "        [ 0.2565,  0.0125,  0.1335,  ..., -0.1201, -0.0844,  0.0593],\n",
      "        [-0.1781,  0.0494,  0.2507,  ...,  0.0103,  0.0142, -0.0295],\n",
      "        ...,\n",
      "        [-0.0382, -0.0173,  0.1747,  ..., -0.3192, -0.0124, -0.1371],\n",
      "        [ 0.0108,  0.2498, -0.1162,  ..., -0.2246,  0.1344,  0.0455],\n",
      "        [ 0.0276, -0.1915,  0.0224,  ..., -0.5106,  0.0428,  0.0357]],\n",
      "       device='cuda:0')\n",
      "tensor([[-0.0469,  0.2245,  0.2878,  ...,  0.5097,  0.1719,  0.0158],\n",
      "        [ 0.2567,  0.0119,  0.1337,  ..., -0.1207, -0.0836,  0.0592],\n",
      "        [-0.1780,  0.0493,  0.2507,  ...,  0.0104,  0.0141, -0.0295],\n",
      "        ...,\n",
      "        [-0.0382, -0.0174,  0.1749,  ..., -0.3181, -0.0126, -0.1372],\n",
      "        [ 0.0105,  0.2493, -0.1161,  ..., -0.2250,  0.1342,  0.0456],\n",
      "        [ 0.0271, -0.1914,  0.0227,  ..., -0.5101,  0.0429,  0.0358]],\n",
      "       device='cuda:0')\n",
      "tensor([[-0.0469,  0.2242,  0.2873,  ...,  0.5091,  0.1715,  0.0158],\n",
      "        [ 0.2566,  0.0115,  0.1340,  ..., -0.1201, -0.0828,  0.0595],\n",
      "        [-0.1780,  0.0492,  0.2502,  ...,  0.0108,  0.0143, -0.0298],\n",
      "        ...,\n",
      "        [-0.0379, -0.0173,  0.1750,  ..., -0.3176, -0.0127, -0.1372],\n",
      "        [ 0.0104,  0.2492, -0.1157,  ..., -0.2255,  0.1341,  0.0457],\n",
      "        [ 0.0271, -0.1913,  0.0231,  ..., -0.5091,  0.0431,  0.0359]],\n",
      "       device='cuda:0')\n",
      "tensor([[-0.0467,  0.2242,  0.2870,  ...,  0.5083,  0.1710,  0.0156],\n",
      "        [ 0.2568,  0.0109,  0.1342,  ..., -0.1201, -0.0820,  0.0593],\n",
      "        [-0.1780,  0.0487,  0.2501,  ...,  0.0116,  0.0143, -0.0302],\n",
      "        ...,\n",
      "        [-0.0375, -0.0174,  0.1752,  ..., -0.3165, -0.0128, -0.1371],\n",
      "        [ 0.0105,  0.2490, -0.1155,  ..., -0.2267,  0.1340,  0.0457],\n",
      "        [ 0.0267, -0.1915,  0.0234,  ..., -0.5085,  0.0434,  0.0359]],\n",
      "       device='cuda:0')\n",
      "tensor([[-0.0464,  0.2243,  0.2865,  ...,  0.5074,  0.1709,  0.0156],\n",
      "        [ 0.2566,  0.0106,  0.1341,  ..., -0.1198, -0.0809,  0.0593],\n",
      "        [-0.1782,  0.0486,  0.2500,  ...,  0.0119,  0.0142, -0.0305],\n",
      "        ...,\n",
      "        [-0.0375, -0.0173,  0.1751,  ..., -0.3157, -0.0131, -0.1370],\n",
      "        [ 0.0103,  0.2485, -0.1151,  ..., -0.2266,  0.1340,  0.0459],\n",
      "        [ 0.0266, -0.1915,  0.0237,  ..., -0.5081,  0.0436,  0.0359]],\n",
      "       device='cuda:0')\n",
      "tensor([[-0.0464,  0.2242,  0.2862,  ...,  0.5067,  0.1708,  0.0153],\n",
      "        [ 0.2565,  0.0097,  0.1345,  ..., -0.1196, -0.0802,  0.0593],\n",
      "        [-0.1783,  0.0484,  0.2499,  ...,  0.0117,  0.0142, -0.0305],\n",
      "        ...,\n",
      "        [-0.0374, -0.0169,  0.1751,  ..., -0.3146, -0.0132, -0.1372],\n",
      "        [ 0.0103,  0.2484, -0.1146,  ..., -0.2266,  0.1338,  0.0459],\n",
      "        [ 0.0266, -0.1916,  0.0237,  ..., -0.5073,  0.0435,  0.0357]],\n",
      "       device='cuda:0')\n",
      "tensor([[-0.0463,  0.2243,  0.2856,  ...,  0.5058,  0.1708,  0.0153],\n",
      "        [ 0.2566,  0.0094,  0.1346,  ..., -0.1195, -0.0794,  0.0592],\n",
      "        [-0.1784,  0.0482,  0.2496,  ...,  0.0118,  0.0141, -0.0309],\n",
      "        ...,\n",
      "        [-0.0373, -0.0173,  0.1751,  ..., -0.3143, -0.0135, -0.1373],\n",
      "        [ 0.0102,  0.2484, -0.1145,  ..., -0.2267,  0.1336,  0.0461],\n",
      "        [ 0.0268, -0.1918,  0.0239,  ..., -0.5071,  0.0436,  0.0355]],\n",
      "       device='cuda:0')\n",
      "tensor([[-0.0461,  0.2242,  0.2853,  ...,  0.5052,  0.1706,  0.0152],\n",
      "        [ 0.2565,  0.0089,  0.1348,  ..., -0.1195, -0.0789,  0.0590],\n",
      "        [-0.1782,  0.0480,  0.2494,  ...,  0.0119,  0.0140, -0.0310],\n",
      "        ...,\n",
      "        [-0.0372, -0.0175,  0.1750,  ..., -0.3135, -0.0140, -0.1377],\n",
      "        [ 0.0102,  0.2482, -0.1143,  ..., -0.2271,  0.1333,  0.0460],\n",
      "        [ 0.0267, -0.1919,  0.0240,  ..., -0.5068,  0.0437,  0.0356]],\n",
      "       device='cuda:0')\n",
      "tensor([[-0.0459,  0.2242,  0.2848,  ...,  0.5050,  0.1703,  0.0150],\n",
      "        [ 0.2565,  0.0084,  0.1347,  ..., -0.1192, -0.0783,  0.0589],\n",
      "        [-0.1782,  0.0478,  0.2492,  ...,  0.0122,  0.0140, -0.0313],\n",
      "        ...,\n",
      "        [-0.0369, -0.0175,  0.1753,  ..., -0.3130, -0.0139, -0.1379],\n",
      "        [ 0.0102,  0.2479, -0.1142,  ..., -0.2270,  0.1332,  0.0459],\n",
      "        [ 0.0264, -0.1919,  0.0245,  ..., -0.5062,  0.0437,  0.0355]],\n",
      "       device='cuda:0')\n",
      "tensor([[-0.0459,  0.2243,  0.2841,  ...,  0.5036,  0.1702,  0.0149],\n",
      "        [ 0.2563,  0.0078,  0.1346,  ..., -0.1193, -0.0776,  0.0587],\n",
      "        [-0.1783,  0.0480,  0.2489,  ...,  0.0125,  0.0138, -0.0315],\n",
      "        ...,\n",
      "        [-0.0369, -0.0171,  0.1754,  ..., -0.3118, -0.0139, -0.1379],\n",
      "        [ 0.0102,  0.2475, -0.1140,  ..., -0.2270,  0.1330,  0.0458],\n",
      "        [ 0.0261, -0.1921,  0.0246,  ..., -0.5053,  0.0440,  0.0354]],\n",
      "       device='cuda:0')\n",
      "tensor([[-0.0458,  0.2247,  0.2839,  ...,  0.5027,  0.1700,  0.0149],\n",
      "        [ 0.2560,  0.0073,  0.1346,  ..., -0.1199, -0.0771,  0.0587],\n",
      "        [-0.1784,  0.0480,  0.2489,  ...,  0.0126,  0.0138, -0.0318],\n",
      "        ...,\n",
      "        [-0.0371, -0.0172,  0.1753,  ..., -0.3109, -0.0139, -0.1381],\n",
      "        [ 0.0102,  0.2473, -0.1138,  ..., -0.2278,  0.1329,  0.0459],\n",
      "        [ 0.0260, -0.1921,  0.0249,  ..., -0.5052,  0.0442,  0.0356]],\n",
      "       device='cuda:0')\n",
      "tensor([[-0.0457,  0.2252,  0.2836,  ...,  0.5021,  0.1697,  0.0148],\n",
      "        [ 0.2560,  0.0069,  0.1349,  ..., -0.1190, -0.0763,  0.0586],\n",
      "        [-0.1785,  0.0477,  0.2488,  ...,  0.0128,  0.0138, -0.0321],\n",
      "        ...,\n",
      "        [-0.0369, -0.0167,  0.1755,  ..., -0.3096, -0.0139, -0.1379],\n",
      "        [ 0.0102,  0.2471, -0.1136,  ..., -0.2278,  0.1328,  0.0460],\n",
      "        [ 0.0257, -0.1919,  0.0250,  ..., -0.5051,  0.0442,  0.0356]],\n",
      "       device='cuda:0')\n",
      "tensor([[-0.0456,  0.2254,  0.2831,  ...,  0.5009,  0.1695,  0.0149],\n",
      "        [ 0.2560,  0.0066,  0.1353,  ..., -0.1187, -0.0756,  0.0586],\n",
      "        [-0.1788,  0.0474,  0.2486,  ...,  0.0127,  0.0136, -0.0323],\n",
      "        ...,\n",
      "        [-0.0368, -0.0165,  0.1756,  ..., -0.3087, -0.0141, -0.1379],\n",
      "        [ 0.0101,  0.2468, -0.1128,  ..., -0.2273,  0.1327,  0.0461],\n",
      "        [ 0.0253, -0.1919,  0.0250,  ..., -0.5050,  0.0441,  0.0357]],\n",
      "       device='cuda:0')\n",
      "tensor([[-0.0454,  0.2252,  0.2824,  ...,  0.5002,  0.1694,  0.0147],\n",
      "        [ 0.2560,  0.0061,  0.1354,  ..., -0.1180, -0.0749,  0.0584],\n",
      "        [-0.1790,  0.0473,  0.2483,  ...,  0.0126,  0.0134, -0.0326],\n",
      "        ...,\n",
      "        [-0.0368, -0.0167,  0.1757,  ..., -0.3084, -0.0145, -0.1379],\n",
      "        [ 0.0102,  0.2469, -0.1123,  ..., -0.2269,  0.1323,  0.0462],\n",
      "        [ 0.0251, -0.1921,  0.0256,  ..., -0.5039,  0.0439,  0.0358]],\n",
      "       device='cuda:0')\n",
      "tensor([[-0.0453,  0.2251,  0.2816,  ...,  0.4997,  0.1694,  0.0146],\n",
      "        [ 0.2558,  0.0054,  0.1357,  ..., -0.1175, -0.0741,  0.0582],\n",
      "        [-0.1792,  0.0476,  0.2482,  ...,  0.0130,  0.0133, -0.0327],\n",
      "        ...,\n",
      "        [-0.0366, -0.0167,  0.1758,  ..., -0.3076, -0.0146, -0.1379],\n",
      "        [ 0.0100,  0.2468, -0.1121,  ..., -0.2272,  0.1323,  0.0462],\n",
      "        [ 0.0250, -0.1921,  0.0259,  ..., -0.5039,  0.0437,  0.0357]],\n",
      "       device='cuda:0')\n",
      "tensor([[-0.0449,  0.2253,  0.2809,  ...,  0.4989,  0.1692,  0.0145],\n",
      "        [ 0.2558,  0.0049,  0.1359,  ..., -0.1168, -0.0730,  0.0581],\n",
      "        [-0.1791,  0.0474,  0.2478,  ...,  0.0129,  0.0134, -0.0328],\n",
      "        ...,\n",
      "        [-0.0362, -0.0168,  0.1758,  ..., -0.3070, -0.0148, -0.1378],\n",
      "        [ 0.0097,  0.2464, -0.1118,  ..., -0.2276,  0.1322,  0.0463],\n",
      "        [ 0.0250, -0.1921,  0.0260,  ..., -0.5040,  0.0435,  0.0357]],\n",
      "       device='cuda:0')\n",
      "tensor([[-0.0446,  0.2255,  0.2804,  ...,  0.4984,  0.1691,  0.0142],\n",
      "        [ 0.2558,  0.0045,  0.1359,  ..., -0.1165, -0.0724,  0.0581],\n",
      "        [-0.1790,  0.0477,  0.2475,  ...,  0.0133,  0.0134, -0.0331],\n",
      "        ...,\n",
      "        [-0.0357, -0.0166,  0.1762,  ..., -0.3061, -0.0147, -0.1377],\n",
      "        [ 0.0097,  0.2466, -0.1115,  ..., -0.2274,  0.1319,  0.0462],\n",
      "        [ 0.0248, -0.1922,  0.0263,  ..., -0.5031,  0.0436,  0.0358]],\n",
      "       device='cuda:0')\n",
      "tensor([[-0.0445,  0.2256,  0.2802,  ...,  0.4977,  0.1688,  0.0140],\n",
      "        [ 0.2558,  0.0039,  0.1358,  ..., -0.1161, -0.0717,  0.0580],\n",
      "        [-0.1792,  0.0475,  0.2476,  ...,  0.0137,  0.0136, -0.0335],\n",
      "        ...,\n",
      "        [-0.0357, -0.0168,  0.1766,  ..., -0.3061, -0.0148, -0.1378],\n",
      "        [ 0.0095,  0.2462, -0.1112,  ..., -0.2274,  0.1315,  0.0463],\n",
      "        [ 0.0245, -0.1925,  0.0267,  ..., -0.5027,  0.0435,  0.0358]],\n",
      "       device='cuda:0')\n",
      "tensor([[-0.0446,  0.2254,  0.2804,  ...,  0.4972,  0.1687,  0.0138],\n",
      "        [ 0.2555,  0.0037,  0.1362,  ..., -0.1158, -0.0712,  0.0579],\n",
      "        [-0.1792,  0.0474,  0.2475,  ...,  0.0140,  0.0138, -0.0339],\n",
      "        ...,\n",
      "        [-0.0354, -0.0164,  0.1765,  ..., -0.3054, -0.0149, -0.1382],\n",
      "        [ 0.0094,  0.2459, -0.1110,  ..., -0.2278,  0.1315,  0.0462],\n",
      "        [ 0.0242, -0.1924,  0.0270,  ..., -0.5026,  0.0433,  0.0359]],\n",
      "       device='cuda:0')\n"
     ]
    },
    {
     "name": "stdout",
     "output_type": "stream",
     "text": [
      "tensor([[-0.0447,  0.2252,  0.2800,  ...,  0.4965,  0.1687,  0.0136],\n",
      "        [ 0.2553,  0.0030,  0.1364,  ..., -0.1158, -0.0706,  0.0580],\n",
      "        [-0.1792,  0.0475,  0.2472,  ...,  0.0140,  0.0138, -0.0341],\n",
      "        ...,\n",
      "        [-0.0352, -0.0162,  0.1763,  ..., -0.3045, -0.0151, -0.1380],\n",
      "        [ 0.0092,  0.2452, -0.1103,  ..., -0.2280,  0.1312,  0.0461],\n",
      "        [ 0.0240, -0.1926,  0.0272,  ..., -0.5025,  0.0434,  0.0359]],\n",
      "       device='cuda:0')\n",
      "tensor([[-0.0444,  0.2253,  0.2795,  ...,  0.4961,  0.1685,  0.0135],\n",
      "        [ 0.2553,  0.0027,  0.1364,  ..., -0.1157, -0.0699,  0.0580],\n",
      "        [-0.1793,  0.0475,  0.2470,  ...,  0.0145,  0.0137, -0.0344],\n",
      "        ...,\n",
      "        [-0.0350, -0.0157,  0.1767,  ..., -0.3035, -0.0153, -0.1380],\n",
      "        [ 0.0091,  0.2450, -0.1101,  ..., -0.2277,  0.1309,  0.0462],\n",
      "        [ 0.0240, -0.1925,  0.0275,  ..., -0.5018,  0.0436,  0.0359]],\n",
      "       device='cuda:0')\n",
      "tensor([[-0.0444,  0.2249,  0.2792,  ...,  0.4953,  0.1682,  0.0133],\n",
      "        [ 0.2555,  0.0027,  0.1367,  ..., -0.1151, -0.0691,  0.0579],\n",
      "        [-0.1792,  0.0473,  0.2465,  ...,  0.0146,  0.0135, -0.0345],\n",
      "        ...,\n",
      "        [-0.0349, -0.0159,  0.1766,  ..., -0.3034, -0.0154, -0.1382],\n",
      "        [ 0.0089,  0.2447, -0.1097,  ..., -0.2282,  0.1307,  0.0460],\n",
      "        [ 0.0237, -0.1928,  0.0277,  ..., -0.5013,  0.0438,  0.0359]],\n",
      "       device='cuda:0')\n",
      "tensor([[-0.0443,  0.2252,  0.2788,  ...,  0.4943,  0.1681,  0.0131],\n",
      "        [ 0.2556,  0.0022,  0.1369,  ..., -0.1147, -0.0687,  0.0577],\n",
      "        [-0.1793,  0.0470,  0.2462,  ...,  0.0147,  0.0135, -0.0348],\n",
      "        ...,\n",
      "        [-0.0349, -0.0158,  0.1770,  ..., -0.3031, -0.0154, -0.1384],\n",
      "        [ 0.0090,  0.2446, -0.1096,  ..., -0.2279,  0.1302,  0.0461],\n",
      "        [ 0.0233, -0.1929,  0.0281,  ..., -0.5012,  0.0437,  0.0361]],\n",
      "       device='cuda:0')\n",
      "tensor([[-0.0444,  0.2248,  0.2784,  ...,  0.4940,  0.1677,  0.0128],\n",
      "        [ 0.2553,  0.0015,  0.1370,  ..., -0.1148, -0.0678,  0.0576],\n",
      "        [-0.1793,  0.0469,  0.2459,  ...,  0.0150,  0.0135, -0.0350],\n",
      "        ...,\n",
      "        [-0.0347, -0.0159,  0.1771,  ..., -0.3022, -0.0157, -0.1385],\n",
      "        [ 0.0092,  0.2447, -0.1094,  ..., -0.2281,  0.1300,  0.0462],\n",
      "        [ 0.0230, -0.1930,  0.0283,  ..., -0.5011,  0.0438,  0.0361]],\n",
      "       device='cuda:0')\n",
      "tensor([[-0.0443,  0.2243,  0.2779,  ...,  0.4930,  0.1675,  0.0125],\n",
      "        [ 0.2551,  0.0007,  0.1375,  ..., -0.1146, -0.0669,  0.0577],\n",
      "        [-0.1791,  0.0468,  0.2453,  ...,  0.0152,  0.0135, -0.0352],\n",
      "        ...,\n",
      "        [-0.0346, -0.0159,  0.1772,  ..., -0.3022, -0.0159, -0.1386],\n",
      "        [ 0.0093,  0.2444, -0.1093,  ..., -0.2280,  0.1297,  0.0462],\n",
      "        [ 0.0229, -0.1930,  0.0284,  ..., -0.5011,  0.0439,  0.0362]],\n",
      "       device='cuda:0')\n",
      "tensor([[-4.4215e-02,  2.2386e-01,  2.7725e-01,  ...,  4.9282e-01,\n",
      "          1.6722e-01,  1.2148e-02],\n",
      "        [ 2.5495e-01,  2.9528e-04,  1.3761e-01,  ..., -1.1394e-01,\n",
      "         -6.6373e-02,  5.7645e-02],\n",
      "        [-1.7929e-01,  4.7070e-02,  2.4484e-01,  ...,  1.4957e-02,\n",
      "          1.3556e-02, -3.5402e-02],\n",
      "        ...,\n",
      "        [-3.4595e-02, -1.6163e-02,  1.7763e-01,  ..., -3.0165e-01,\n",
      "         -1.6219e-02, -1.3870e-01],\n",
      "        [ 9.2911e-03,  2.4422e-01, -1.0905e-01,  ..., -2.2793e-01,\n",
      "          1.2958e-01,  4.6145e-02],\n",
      "        [ 2.2770e-02, -1.9269e-01,  2.8749e-02,  ..., -5.0054e-01,\n",
      "          4.4215e-02,  3.6192e-02]], device='cuda:0')\n",
      "tensor([[-4.4086e-02,  2.2386e-01,  2.7686e-01,  ...,  4.9255e-01,\n",
      "          1.6706e-01,  1.1844e-02],\n",
      "        [ 2.5484e-01, -6.7502e-05,  1.3774e-01,  ..., -1.1415e-01,\n",
      "         -6.5456e-02,  5.7617e-02],\n",
      "        [-1.7913e-01,  4.7131e-02,  2.4451e-01,  ...,  1.5449e-02,\n",
      "          1.3535e-02, -3.5706e-02],\n",
      "        ...,\n",
      "        [-3.4608e-02, -1.6262e-02,  1.7768e-01,  ..., -3.0101e-01,\n",
      "         -1.6306e-02, -1.3860e-01],\n",
      "        [ 9.4279e-03,  2.4446e-01, -1.0886e-01,  ..., -2.2841e-01,\n",
      "          1.2959e-01,  4.6186e-02],\n",
      "        [ 2.2527e-02, -1.9272e-01,  2.8965e-02,  ..., -4.9990e-01,\n",
      "          4.4300e-02,  3.6281e-02]], device='cuda:0')\n",
      "tensor([[-0.0437,  0.2241,  0.2763,  ...,  0.4918,  0.1668,  0.0116],\n",
      "        [ 0.2548, -0.0006,  0.1376,  ..., -0.1142, -0.0649,  0.0576],\n",
      "        [-0.1793,  0.0472,  0.2444,  ...,  0.0157,  0.0136, -0.0362],\n",
      "        ...,\n",
      "        [-0.0345, -0.0162,  0.1776,  ..., -0.2999, -0.0163, -0.1387],\n",
      "        [ 0.0094,  0.2444, -0.1086,  ..., -0.2289,  0.1292,  0.0461],\n",
      "        [ 0.0223, -0.1929,  0.0293,  ..., -0.4996,  0.0441,  0.0364]],\n",
      "       device='cuda:0')\n",
      "tensor([[-0.0435,  0.2240,  0.2760,  ...,  0.4917,  0.1666,  0.0113],\n",
      "        [ 0.2549, -0.0007,  0.1375,  ..., -0.1141, -0.0642,  0.0576],\n",
      "        [-0.1793,  0.0471,  0.2441,  ...,  0.0155,  0.0139, -0.0365],\n",
      "        ...,\n",
      "        [-0.0344, -0.0161,  0.1778,  ..., -0.2989, -0.0162, -0.1387],\n",
      "        [ 0.0094,  0.2443, -0.1085,  ..., -0.2294,  0.1292,  0.0463],\n",
      "        [ 0.0219, -0.1930,  0.0296,  ..., -0.4992,  0.0443,  0.0363]],\n",
      "       device='cuda:0')\n",
      "tensor([[-0.0432,  0.2237,  0.2756,  ...,  0.4918,  0.1664,  0.0110],\n",
      "        [ 0.2548, -0.0010,  0.1376,  ..., -0.1144, -0.0635,  0.0577],\n",
      "        [-0.1792,  0.0468,  0.2439,  ...,  0.0157,  0.0141, -0.0369],\n",
      "        ...,\n",
      "        [-0.0344, -0.0163,  0.1780,  ..., -0.2983, -0.0161, -0.1388],\n",
      "        [ 0.0094,  0.2437, -0.1081,  ..., -0.2294,  0.1290,  0.0464],\n",
      "        [ 0.0216, -0.1932,  0.0296,  ..., -0.4989,  0.0446,  0.0363]],\n",
      "       device='cuda:0')\n",
      "tensor([[-0.0432,  0.2238,  0.2752,  ...,  0.4911,  0.1661,  0.0108],\n",
      "        [ 0.2548, -0.0017,  0.1378,  ..., -0.1145, -0.0627,  0.0575],\n",
      "        [-0.1791,  0.0469,  0.2436,  ...,  0.0154,  0.0140, -0.0370],\n",
      "        ...,\n",
      "        [-0.0345, -0.0164,  0.1783,  ..., -0.2981, -0.0162, -0.1389],\n",
      "        [ 0.0091,  0.2433, -0.1080,  ..., -0.2296,  0.1289,  0.0464],\n",
      "        [ 0.0215, -0.1932,  0.0297,  ..., -0.4986,  0.0444,  0.0363]],\n",
      "       device='cuda:0')\n",
      "tensor([[-0.0432,  0.2237,  0.2751,  ...,  0.4906,  0.1656,  0.0109],\n",
      "        [ 0.2549, -0.0022,  0.1383,  ..., -0.1138, -0.0617,  0.0572],\n",
      "        [-0.1789,  0.0470,  0.2433,  ...,  0.0158,  0.0140, -0.0374],\n",
      "        ...,\n",
      "        [-0.0345, -0.0163,  0.1784,  ..., -0.2969, -0.0162, -0.1391],\n",
      "        [ 0.0092,  0.2431, -0.1077,  ..., -0.2297,  0.1288,  0.0464],\n",
      "        [ 0.0213, -0.1932,  0.0299,  ..., -0.4982,  0.0444,  0.0362]],\n",
      "       device='cuda:0')\n",
      "tensor([[-0.0430,  0.2239,  0.2748,  ...,  0.4897,  0.1652,  0.0108],\n",
      "        [ 0.2547, -0.0025,  0.1384,  ..., -0.1133, -0.0607,  0.0570],\n",
      "        [-0.1791,  0.0468,  0.2429,  ...,  0.0159,  0.0140, -0.0376],\n",
      "        ...,\n",
      "        [-0.0345, -0.0162,  0.1785,  ..., -0.2961, -0.0164, -0.1393],\n",
      "        [ 0.0091,  0.2433, -0.1074,  ..., -0.2301,  0.1286,  0.0465],\n",
      "        [ 0.0214, -0.1931,  0.0299,  ..., -0.4980,  0.0447,  0.0364]],\n",
      "       device='cuda:0')\n",
      "tensor([[-0.0429,  0.2238,  0.2743,  ...,  0.4891,  0.1648,  0.0107],\n",
      "        [ 0.2549, -0.0026,  0.1386,  ..., -0.1126, -0.0601,  0.0567],\n",
      "        [-0.1788,  0.0468,  0.2427,  ...,  0.0162,  0.0140, -0.0379],\n",
      "        ...,\n",
      "        [-0.0343, -0.0159,  0.1787,  ..., -0.2952, -0.0165, -0.1391],\n",
      "        [ 0.0090,  0.2429, -0.1072,  ..., -0.2305,  0.1284,  0.0466],\n",
      "        [ 0.0211, -0.1928,  0.0301,  ..., -0.4975,  0.0446,  0.0363]],\n",
      "       device='cuda:0')\n",
      "tensor([[-0.0428,  0.2236,  0.2741,  ...,  0.4885,  0.1645,  0.0105],\n",
      "        [ 0.2549, -0.0027,  0.1390,  ..., -0.1125, -0.0592,  0.0565],\n",
      "        [-0.1789,  0.0467,  0.2427,  ...,  0.0163,  0.0139, -0.0380],\n",
      "        ...,\n",
      "        [-0.0343, -0.0158,  0.1787,  ..., -0.2948, -0.0165, -0.1390],\n",
      "        [ 0.0091,  0.2427, -0.1069,  ..., -0.2302,  0.1281,  0.0466],\n",
      "        [ 0.0211, -0.1930,  0.0302,  ..., -0.4973,  0.0446,  0.0364]],\n",
      "       device='cuda:0')\n",
      "tensor([[-0.0427,  0.2235,  0.2735,  ...,  0.4880,  0.1642,  0.0101],\n",
      "        [ 0.2550, -0.0033,  0.1392,  ..., -0.1123, -0.0584,  0.0564],\n",
      "        [-0.1788,  0.0467,  0.2424,  ...,  0.0167,  0.0138, -0.0385],\n",
      "        ...,\n",
      "        [-0.0342, -0.0156,  0.1790,  ..., -0.2946, -0.0164, -0.1391],\n",
      "        [ 0.0091,  0.2428, -0.1066,  ..., -0.2307,  0.1280,  0.0468],\n",
      "        [ 0.0210, -0.1930,  0.0304,  ..., -0.4969,  0.0449,  0.0364]],\n",
      "       device='cuda:0')\n",
      "tensor([[-0.0423,  0.2233,  0.2729,  ...,  0.4877,  0.1640,  0.0100],\n",
      "        [ 0.2550, -0.0037,  0.1396,  ..., -0.1121, -0.0575,  0.0562],\n",
      "        [-0.1790,  0.0469,  0.2421,  ...,  0.0168,  0.0140, -0.0388],\n",
      "        ...,\n",
      "        [-0.0343, -0.0151,  0.1789,  ..., -0.2942, -0.0166, -0.1392],\n",
      "        [ 0.0090,  0.2425, -0.1062,  ..., -0.2310,  0.1278,  0.0468],\n",
      "        [ 0.0209, -0.1929,  0.0309,  ..., -0.4965,  0.0450,  0.0363]],\n",
      "       device='cuda:0')\n",
      "tensor([[-0.0424,  0.2230,  0.2721,  ...,  0.4874,  0.1635,  0.0096],\n",
      "        [ 0.2549, -0.0042,  0.1398,  ..., -0.1120, -0.0568,  0.0560],\n",
      "        [-0.1790,  0.0471,  0.2418,  ...,  0.0170,  0.0138, -0.0392],\n",
      "        ...,\n",
      "        [-0.0342, -0.0155,  0.1790,  ..., -0.2937, -0.0166, -0.1391],\n",
      "        [ 0.0090,  0.2423, -0.1058,  ..., -0.2311,  0.1273,  0.0470],\n",
      "        [ 0.0207, -0.1929,  0.0313,  ..., -0.4958,  0.0452,  0.0365]],\n",
      "       device='cuda:0')\n",
      "tensor([[-0.0423,  0.2229,  0.2716,  ...,  0.4870,  0.1633,  0.0094],\n",
      "        [ 0.2548, -0.0043,  0.1399,  ..., -0.1119, -0.0561,  0.0562],\n",
      "        [-0.1789,  0.0466,  0.2417,  ...,  0.0174,  0.0134, -0.0393],\n",
      "        ...,\n",
      "        [-0.0340, -0.0156,  0.1792,  ..., -0.2936, -0.0166, -0.1391],\n",
      "        [ 0.0088,  0.2419, -0.1054,  ..., -0.2317,  0.1270,  0.0468],\n",
      "        [ 0.0208, -0.1928,  0.0315,  ..., -0.4954,  0.0454,  0.0365]],\n",
      "       device='cuda:0')\n",
      "tensor([[-0.0423,  0.2229,  0.2711,  ...,  0.4866,  0.1633,  0.0093],\n",
      "        [ 0.2547, -0.0046,  0.1403,  ..., -0.1115, -0.0551,  0.0562],\n",
      "        [-0.1790,  0.0464,  0.2415,  ...,  0.0177,  0.0133, -0.0395],\n",
      "        ...,\n",
      "        [-0.0337, -0.0154,  0.1791,  ..., -0.2929, -0.0168, -0.1391],\n",
      "        [ 0.0085,  0.2412, -0.1049,  ..., -0.2320,  0.1268,  0.0466],\n",
      "        [ 0.0208, -0.1928,  0.0318,  ..., -0.4950,  0.0454,  0.0367]],\n",
      "       device='cuda:0')\n",
      "tensor([[-0.0420,  0.2231,  0.2705,  ...,  0.4857,  0.1629,  0.0093],\n",
      "        [ 0.2546, -0.0050,  0.1406,  ..., -0.1117, -0.0544,  0.0562],\n",
      "        [-0.1791,  0.0464,  0.2413,  ...,  0.0183,  0.0134, -0.0397],\n",
      "        ...,\n",
      "        [-0.0335, -0.0155,  0.1794,  ..., -0.2918, -0.0167, -0.1391],\n",
      "        [ 0.0086,  0.2414, -0.1048,  ..., -0.2323,  0.1267,  0.0465],\n",
      "        [ 0.0205, -0.1927,  0.0320,  ..., -0.4944,  0.0455,  0.0368]],\n",
      "       device='cuda:0')\n",
      "tensor([[-0.0419,  0.2229,  0.2701,  ...,  0.4853,  0.1624,  0.0091],\n",
      "        [ 0.2545, -0.0055,  0.1408,  ..., -0.1116, -0.0538,  0.0561],\n",
      "        [-0.1791,  0.0464,  0.2409,  ...,  0.0183,  0.0133, -0.0399],\n",
      "        ...,\n",
      "        [-0.0332, -0.0152,  0.1796,  ..., -0.2915, -0.0167, -0.1392],\n",
      "        [ 0.0086,  0.2416, -0.1043,  ..., -0.2331,  0.1262,  0.0467],\n",
      "        [ 0.0202, -0.1926,  0.0325,  ..., -0.4943,  0.0454,  0.0369]],\n",
      "       device='cuda:0')\n",
      "tensor([[-0.0419,  0.2230,  0.2699,  ...,  0.4848,  0.1623,  0.0089],\n",
      "        [ 0.2543, -0.0058,  0.1409,  ..., -0.1119, -0.0529,  0.0561],\n",
      "        [-0.1790,  0.0465,  0.2408,  ...,  0.0190,  0.0134, -0.0402],\n",
      "        ...,\n",
      "        [-0.0330, -0.0152,  0.1797,  ..., -0.2912, -0.0167, -0.1392],\n",
      "        [ 0.0085,  0.2412, -0.1037,  ..., -0.2336,  0.1260,  0.0467],\n",
      "        [ 0.0201, -0.1926,  0.0328,  ..., -0.4936,  0.0457,  0.0369]],\n",
      "       device='cuda:0')\n",
      "tensor([[-0.0420,  0.2227,  0.2693,  ...,  0.4845,  0.1620,  0.0086],\n",
      "        [ 0.2543, -0.0063,  0.1415,  ..., -0.1113, -0.0519,  0.0561],\n",
      "        [-0.1791,  0.0464,  0.2407,  ...,  0.0193,  0.0136, -0.0405],\n",
      "        ...,\n",
      "        [-0.0332, -0.0155,  0.1802,  ..., -0.2907, -0.0168, -0.1393],\n",
      "        [ 0.0085,  0.2415, -0.1032,  ..., -0.2338,  0.1257,  0.0468],\n",
      "        [ 0.0200, -0.1929,  0.0331,  ..., -0.4925,  0.0461,  0.0369]],\n",
      "       device='cuda:0')\n",
      "tensor([[-0.0419,  0.2229,  0.2688,  ...,  0.4837,  0.1616,  0.0085],\n",
      "        [ 0.2540, -0.0064,  0.1417,  ..., -0.1115, -0.0507,  0.0561],\n",
      "        [-0.1793,  0.0462,  0.2404,  ...,  0.0193,  0.0135, -0.0407],\n",
      "        ...,\n",
      "        [-0.0332, -0.0154,  0.1804,  ..., -0.2902, -0.0171, -0.1393],\n",
      "        [ 0.0085,  0.2410, -0.1027,  ..., -0.2343,  0.1253,  0.0467],\n",
      "        [ 0.0196, -0.1930,  0.0334,  ..., -0.4921,  0.0462,  0.0369]],\n",
      "       device='cuda:0')\n",
      "tensor([[-0.0419,  0.2227,  0.2683,  ...,  0.4835,  0.1614,  0.0083],\n",
      "        [ 0.2537, -0.0066,  0.1419,  ..., -0.1116, -0.0499,  0.0559],\n",
      "        [-0.1794,  0.0461,  0.2402,  ...,  0.0191,  0.0133, -0.0410],\n",
      "        ...,\n",
      "        [-0.0331, -0.0152,  0.1808,  ..., -0.2903, -0.0172, -0.1391],\n",
      "        [ 0.0085,  0.2407, -0.1025,  ..., -0.2348,  0.1250,  0.0467],\n",
      "        [ 0.0196, -0.1932,  0.0338,  ..., -0.4915,  0.0464,  0.0370]],\n",
      "       device='cuda:0')\n",
      "tensor([[-0.0419,  0.2224,  0.2678,  ...,  0.4833,  0.1611,  0.0081],\n",
      "        [ 0.2537, -0.0068,  0.1422,  ..., -0.1117, -0.0492,  0.0560],\n",
      "        [-0.1795,  0.0462,  0.2401,  ...,  0.0191,  0.0132, -0.0412],\n",
      "        ...,\n",
      "        [-0.0332, -0.0151,  0.1812,  ..., -0.2895, -0.0173, -0.1393],\n",
      "        [ 0.0084,  0.2405, -0.1023,  ..., -0.2352,  0.1244,  0.0465],\n",
      "        [ 0.0195, -0.1930,  0.0341,  ..., -0.4910,  0.0464,  0.0372]],\n",
      "       device='cuda:0')\n",
      "tensor([[-0.0418,  0.2227,  0.2673,  ...,  0.4830,  0.1611,  0.0080],\n",
      "        [ 0.2536, -0.0069,  0.1423,  ..., -0.1118, -0.0482,  0.0560],\n",
      "        [-0.1797,  0.0458,  0.2398,  ...,  0.0189,  0.0130, -0.0414],\n",
      "        ...,\n",
      "        [-0.0330, -0.0151,  0.1812,  ..., -0.2886, -0.0174, -0.1393],\n",
      "        [ 0.0083,  0.2406, -0.1019,  ..., -0.2356,  0.1240,  0.0465],\n",
      "        [ 0.0194, -0.1929,  0.0345,  ..., -0.4904,  0.0466,  0.0373]],\n",
      "       device='cuda:0')\n",
      "tensor([[-0.0418,  0.2228,  0.2671,  ...,  0.4827,  0.1606,  0.0079],\n",
      "        [ 0.2537, -0.0068,  0.1425,  ..., -0.1122, -0.0473,  0.0560],\n",
      "        [-0.1797,  0.0461,  0.2395,  ...,  0.0188,  0.0130, -0.0415],\n",
      "        ...,\n",
      "        [-0.0329, -0.0150,  0.1813,  ..., -0.2881, -0.0176, -0.1394],\n",
      "        [ 0.0083,  0.2404, -0.1016,  ..., -0.2359,  0.1236,  0.0465],\n",
      "        [ 0.0193, -0.1928,  0.0347,  ..., -0.4900,  0.0466,  0.0374]],\n",
      "       device='cuda:0')\n",
      "tensor([[-0.0417,  0.2225,  0.2663,  ...,  0.4819,  0.1605,  0.0078],\n",
      "        [ 0.2536, -0.0073,  0.1429,  ..., -0.1121, -0.0467,  0.0559],\n",
      "        [-0.1796,  0.0462,  0.2391,  ...,  0.0195,  0.0131, -0.0419],\n",
      "        ...,\n",
      "        [-0.0329, -0.0149,  0.1814,  ..., -0.2875, -0.0177, -0.1394],\n",
      "        [ 0.0083,  0.2400, -0.1010,  ..., -0.2362,  0.1234,  0.0466],\n",
      "        [ 0.0193, -0.1926,  0.0350,  ..., -0.4893,  0.0467,  0.0374]],\n",
      "       device='cuda:0')\n",
      "tensor([[-0.0417,  0.2224,  0.2659,  ...,  0.4810,  0.1602,  0.0077],\n",
      "        [ 0.2535, -0.0076,  0.1433,  ..., -0.1123, -0.0460,  0.0559],\n",
      "        [-0.1795,  0.0462,  0.2390,  ...,  0.0200,  0.0130, -0.0422],\n",
      "        ...,\n",
      "        [-0.0329, -0.0148,  0.1817,  ..., -0.2870, -0.0177, -0.1395],\n",
      "        [ 0.0082,  0.2399, -0.1007,  ..., -0.2367,  0.1230,  0.0465],\n",
      "        [ 0.0192, -0.1927,  0.0354,  ..., -0.4884,  0.0469,  0.0375]],\n",
      "       device='cuda:0')\n",
      "tensor([[-0.0414,  0.2224,  0.2654,  ...,  0.4802,  0.1602,  0.0076],\n",
      "        [ 0.2532, -0.0076,  0.1433,  ..., -0.1115, -0.0453,  0.0556],\n",
      "        [-0.1797,  0.0461,  0.2388,  ...,  0.0205,  0.0129, -0.0425],\n",
      "        ...,\n",
      "        [-0.0327, -0.0149,  0.1820,  ..., -0.2863, -0.0181, -0.1398],\n",
      "        [ 0.0081,  0.2397, -0.1003,  ..., -0.2375,  0.1227,  0.0466],\n",
      "        [ 0.0192, -0.1927,  0.0354,  ..., -0.4881,  0.0473,  0.0376]],\n",
      "       device='cuda:0')\n",
      "tensor([[-0.0413,  0.2223,  0.2651,  ...,  0.4799,  0.1599,  0.0074],\n",
      "        [ 0.2531, -0.0080,  0.1436,  ..., -0.1114, -0.0446,  0.0555],\n",
      "        [-0.1796,  0.0460,  0.2385,  ...,  0.0207,  0.0133, -0.0429],\n",
      "        ...,\n",
      "        [-0.0325, -0.0151,  0.1824,  ..., -0.2856, -0.0181, -0.1398],\n",
      "        [ 0.0080,  0.2398, -0.1001,  ..., -0.2378,  0.1224,  0.0465],\n",
      "        [ 0.0189, -0.1929,  0.0355,  ..., -0.4879,  0.0473,  0.0377]],\n",
      "       device='cuda:0')\n",
      "tensor([[-0.0414,  0.2220,  0.2645,  ...,  0.4791,  0.1598,  0.0071],\n",
      "        [ 0.2532, -0.0084,  0.1438,  ..., -0.1109, -0.0439,  0.0554],\n",
      "        [-0.1796,  0.0458,  0.2383,  ...,  0.0210,  0.0130, -0.0432],\n",
      "        ...,\n",
      "        [-0.0325, -0.0150,  0.1825,  ..., -0.2852, -0.0180, -0.1396],\n",
      "        [ 0.0079,  0.2394, -0.0998,  ..., -0.2383,  0.1223,  0.0466],\n",
      "        [ 0.0185, -0.1931,  0.0357,  ..., -0.4874,  0.0472,  0.0378]],\n",
      "       device='cuda:0')\n",
      "tensor([[-0.0413,  0.2221,  0.2639,  ...,  0.4785,  0.1597,  0.0070],\n",
      "        [ 0.2532, -0.0084,  0.1440,  ..., -0.1114, -0.0430,  0.0554],\n",
      "        [-0.1795,  0.0459,  0.2381,  ...,  0.0209,  0.0129, -0.0433],\n",
      "        ...,\n",
      "        [-0.0322, -0.0151,  0.1827,  ..., -0.2842, -0.0181, -0.1396],\n",
      "        [ 0.0077,  0.2390, -0.0991,  ..., -0.2386,  0.1220,  0.0467],\n",
      "        [ 0.0185, -0.1929,  0.0359,  ..., -0.4873,  0.0473,  0.0378]],\n",
      "       device='cuda:0')\n",
      "tensor([[-0.0412,  0.2221,  0.2636,  ...,  0.4785,  0.1595,  0.0069],\n",
      "        [ 0.2532, -0.0088,  0.1443,  ..., -0.1110, -0.0422,  0.0557],\n",
      "        [-0.1794,  0.0459,  0.2378,  ...,  0.0208,  0.0129, -0.0433],\n",
      "        ...,\n",
      "        [-0.0324, -0.0148,  0.1829,  ..., -0.2835, -0.0183, -0.1395],\n",
      "        [ 0.0077,  0.2390, -0.0987,  ..., -0.2386,  0.1216,  0.0466],\n",
      "        [ 0.0184, -0.1930,  0.0360,  ..., -0.4868,  0.0471,  0.0378]],\n",
      "       device='cuda:0')\n",
      "tensor([[-0.0411,  0.2223,  0.2632,  ...,  0.4782,  0.1590,  0.0066],\n",
      "        [ 0.2532, -0.0092,  0.1443,  ..., -0.1108, -0.0414,  0.0558],\n",
      "        [-0.1793,  0.0461,  0.2376,  ...,  0.0210,  0.0129, -0.0434],\n",
      "        ...,\n",
      "        [-0.0322, -0.0146,  0.1830,  ..., -0.2829, -0.0184, -0.1395],\n",
      "        [ 0.0078,  0.2388, -0.0982,  ..., -0.2390,  0.1215,  0.0465],\n",
      "        [ 0.0182, -0.1926,  0.0365,  ..., -0.4861,  0.0473,  0.0381]],\n",
      "       device='cuda:0')\n",
      "tensor([[-0.0411,  0.2221,  0.2628,  ...,  0.4778,  0.1588,  0.0066],\n",
      "        [ 0.2531, -0.0093,  0.1445,  ..., -0.1108, -0.0405,  0.0558],\n",
      "        [-0.1795,  0.0459,  0.2375,  ...,  0.0213,  0.0130, -0.0436],\n",
      "        ...,\n",
      "        [-0.0321, -0.0147,  0.1831,  ..., -0.2823, -0.0182, -0.1396],\n",
      "        [ 0.0077,  0.2383, -0.0980,  ..., -0.2394,  0.1212,  0.0466],\n",
      "        [ 0.0180, -0.1924,  0.0364,  ..., -0.4858,  0.0475,  0.0380]],\n",
      "       device='cuda:0')\n",
      "tensor([[-0.0411,  0.2223,  0.2623,  ...,  0.4772,  0.1586,  0.0064],\n",
      "        [ 0.2532, -0.0096,  0.1447,  ..., -0.1103, -0.0396,  0.0558],\n",
      "        [-0.1795,  0.0458,  0.2370,  ...,  0.0213,  0.0130, -0.0439],\n",
      "        ...,\n",
      "        [-0.0321, -0.0146,  0.1836,  ..., -0.2821, -0.0182, -0.1396],\n",
      "        [ 0.0077,  0.2385, -0.0977,  ..., -0.2397,  0.1210,  0.0467],\n",
      "        [ 0.0179, -0.1923,  0.0368,  ..., -0.4851,  0.0478,  0.0379]],\n",
      "       device='cuda:0')\n",
      "tensor([[-0.0410,  0.2222,  0.2619,  ...,  0.4767,  0.1584,  0.0062],\n",
      "        [ 0.2533, -0.0101,  0.1450,  ..., -0.1107, -0.0389,  0.0558],\n",
      "        [-0.1795,  0.0456,  0.2367,  ...,  0.0218,  0.0130, -0.0441],\n",
      "        ...,\n",
      "        [-0.0320, -0.0143,  0.1836,  ..., -0.2816, -0.0183, -0.1396],\n",
      "        [ 0.0075,  0.2383, -0.0974,  ..., -0.2400,  0.1205,  0.0466],\n",
      "        [ 0.0176, -0.1923,  0.0373,  ..., -0.4852,  0.0480,  0.0379]],\n",
      "       device='cuda:0')\n",
      "tensor([[-0.0408,  0.2224,  0.2611,  ...,  0.4763,  0.1582,  0.0060],\n",
      "        [ 0.2532, -0.0101,  0.1451,  ..., -0.1106, -0.0381,  0.0559],\n",
      "        [-0.1797,  0.0454,  0.2363,  ...,  0.0215,  0.0129, -0.0442],\n",
      "        ...,\n",
      "        [-0.0318, -0.0144,  0.1838,  ..., -0.2807, -0.0183, -0.1397],\n",
      "        [ 0.0075,  0.2380, -0.0970,  ..., -0.2399,  0.1206,  0.0466],\n",
      "        [ 0.0175, -0.1920,  0.0377,  ..., -0.4847,  0.0481,  0.0379]],\n",
      "       device='cuda:0')\n",
      "tensor([[-0.0408,  0.2218,  0.2604,  ...,  0.4757,  0.1579,  0.0058],\n",
      "        [ 0.2530, -0.0104,  0.1454,  ..., -0.1105, -0.0374,  0.0559],\n",
      "        [-0.1796,  0.0453,  0.2360,  ...,  0.0222,  0.0127, -0.0446],\n",
      "        ...,\n",
      "        [-0.0317, -0.0143,  0.1840,  ..., -0.2797, -0.0182, -0.1396],\n",
      "        [ 0.0075,  0.2378, -0.0965,  ..., -0.2404,  0.1201,  0.0466],\n",
      "        [ 0.0174, -0.1919,  0.0380,  ..., -0.4838,  0.0483,  0.0380]],\n",
      "       device='cuda:0')\n",
      "tensor([[-0.0408,  0.2216,  0.2600,  ...,  0.4754,  0.1575,  0.0056],\n",
      "        [ 0.2530, -0.0105,  0.1456,  ..., -0.1109, -0.0368,  0.0560],\n",
      "        [-0.1797,  0.0454,  0.2357,  ...,  0.0225,  0.0125, -0.0447],\n",
      "        ...,\n",
      "        [-0.0316, -0.0146,  0.1842,  ..., -0.2787, -0.0184, -0.1398],\n",
      "        [ 0.0075,  0.2377, -0.0963,  ..., -0.2412,  0.1198,  0.0465],\n",
      "        [ 0.0174, -0.1917,  0.0381,  ..., -0.4839,  0.0485,  0.0379]],\n",
      "       device='cuda:0')\n",
      "tensor([[-0.0408,  0.2214,  0.2595,  ...,  0.4752,  0.1572,  0.0056],\n",
      "        [ 0.2529, -0.0109,  0.1460,  ..., -0.1108, -0.0360,  0.0559],\n",
      "        [-0.1796,  0.0455,  0.2357,  ...,  0.0227,  0.0127, -0.0448],\n",
      "        ...,\n",
      "        [-0.0315, -0.0143,  0.1846,  ..., -0.2782, -0.0185, -0.1399],\n",
      "        [ 0.0075,  0.2374, -0.0958,  ..., -0.2413,  0.1197,  0.0464],\n",
      "        [ 0.0172, -0.1915,  0.0385,  ..., -0.4834,  0.0489,  0.0380]],\n",
      "       device='cuda:0')\n",
      "tensor([[-0.0408,  0.2214,  0.2593,  ...,  0.4746,  0.1571,  0.0055],\n",
      "        [ 0.2529, -0.0113,  0.1463,  ..., -0.1106, -0.0353,  0.0559],\n",
      "        [-0.1797,  0.0457,  0.2356,  ...,  0.0233,  0.0127, -0.0451],\n",
      "        ...,\n",
      "        [-0.0314, -0.0140,  0.1848,  ..., -0.2777, -0.0186, -0.1402],\n",
      "        [ 0.0076,  0.2374, -0.0955,  ..., -0.2412,  0.1195,  0.0462],\n",
      "        [ 0.0169, -0.1915,  0.0389,  ..., -0.4829,  0.0493,  0.0380]],\n",
      "       device='cuda:0')\n",
      "tensor([[-0.0406,  0.2213,  0.2586,  ...,  0.4741,  0.1569,  0.0052],\n",
      "        [ 0.2527, -0.0117,  0.1464,  ..., -0.1104, -0.0344,  0.0558],\n",
      "        [-0.1797,  0.0458,  0.2354,  ...,  0.0239,  0.0126, -0.0453],\n",
      "        ...,\n",
      "        [-0.0312, -0.0140,  0.1849,  ..., -0.2770, -0.0187, -0.1405],\n",
      "        [ 0.0076,  0.2369, -0.0953,  ..., -0.2411,  0.1192,  0.0463],\n",
      "        [ 0.0166, -0.1913,  0.0391,  ..., -0.4829,  0.0491,  0.0381]],\n",
      "       device='cuda:0')\n",
      "tensor([[-0.0406,  0.2212,  0.2580,  ...,  0.4732,  0.1565,  0.0050],\n",
      "        [ 0.2527, -0.0121,  0.1469,  ..., -0.1105, -0.0334,  0.0558],\n",
      "        [-0.1796,  0.0454,  0.2351,  ...,  0.0236,  0.0124, -0.0455],\n",
      "        ...,\n",
      "        [-0.0312, -0.0140,  0.1851,  ..., -0.2761, -0.0187, -0.1407],\n",
      "        [ 0.0077,  0.2368, -0.0950,  ..., -0.2411,  0.1189,  0.0462],\n",
      "        [ 0.0168, -0.1911,  0.0393,  ..., -0.4819,  0.0493,  0.0380]],\n",
      "       device='cuda:0')\n",
      "tensor([[-0.0405,  0.2212,  0.2575,  ...,  0.4727,  0.1564,  0.0049],\n",
      "        [ 0.2527, -0.0125,  0.1471,  ..., -0.1102, -0.0324,  0.0558],\n",
      "        [-0.1797,  0.0453,  0.2350,  ...,  0.0239,  0.0124, -0.0456],\n",
      "        ...,\n",
      "        [-0.0311, -0.0139,  0.1853,  ..., -0.2752, -0.0188, -0.1410],\n",
      "        [ 0.0076,  0.2363, -0.0948,  ..., -0.2416,  0.1187,  0.0463],\n",
      "        [ 0.0167, -0.1909,  0.0395,  ..., -0.4820,  0.0493,  0.0381]],\n",
      "       device='cuda:0')\n",
      "tensor([[-0.0405,  0.2210,  0.2572,  ...,  0.4723,  0.1562,  0.0048],\n",
      "        [ 0.2525, -0.0128,  0.1474,  ..., -0.1105, -0.0318,  0.0560],\n",
      "        [-0.1798,  0.0450,  0.2349,  ...,  0.0238,  0.0120, -0.0458],\n",
      "        ...,\n",
      "        [-0.0309, -0.0138,  0.1855,  ..., -0.2743, -0.0190, -0.1410],\n",
      "        [ 0.0076,  0.2358, -0.0943,  ..., -0.2416,  0.1186,  0.0461],\n",
      "        [ 0.0166, -0.1909,  0.0398,  ..., -0.4818,  0.0493,  0.0382]],\n",
      "       device='cuda:0')\n",
      "tensor([[-0.0406,  0.2207,  0.2569,  ...,  0.4720,  0.1558,  0.0047],\n",
      "        [ 0.2522, -0.0131,  0.1477,  ..., -0.1105, -0.0309,  0.0558],\n",
      "        [-0.1800,  0.0449,  0.2347,  ...,  0.0241,  0.0120, -0.0458],\n",
      "        ...,\n",
      "        [-0.0308, -0.0143,  0.1859,  ..., -0.2740, -0.0190, -0.1412],\n",
      "        [ 0.0076,  0.2354, -0.0941,  ..., -0.2421,  0.1185,  0.0461],\n",
      "        [ 0.0165, -0.1908,  0.0400,  ..., -0.4812,  0.0496,  0.0382]],\n",
      "       device='cuda:0')\n",
      "tensor([[-0.0403,  0.2209,  0.2565,  ...,  0.4720,  0.1555,  0.0046],\n",
      "        [ 0.2523, -0.0139,  0.1479,  ..., -0.1106, -0.0303,  0.0557],\n",
      "        [-0.1802,  0.0446,  0.2345,  ...,  0.0242,  0.0119, -0.0461],\n",
      "        ...,\n",
      "        [-0.0307, -0.0145,  0.1864,  ..., -0.2736, -0.0191, -0.1412],\n",
      "        [ 0.0076,  0.2353, -0.0939,  ..., -0.2426,  0.1183,  0.0459],\n",
      "        [ 0.0165, -0.1905,  0.0401,  ..., -0.4807,  0.0497,  0.0382]],\n",
      "       device='cuda:0')\n",
      "tensor([[-0.0403,  0.2207,  0.2561,  ...,  0.4716,  0.1554,  0.0045],\n",
      "        [ 0.2521, -0.0141,  0.1481,  ..., -0.1102, -0.0298,  0.0556],\n",
      "        [-0.1799,  0.0447,  0.2342,  ...,  0.0245,  0.0118, -0.0463],\n",
      "        ...,\n",
      "        [-0.0306, -0.0148,  0.1868,  ..., -0.2735, -0.0190, -0.1413],\n",
      "        [ 0.0076,  0.2349, -0.0934,  ..., -0.2433,  0.1180,  0.0459],\n",
      "        [ 0.0162, -0.1903,  0.0402,  ..., -0.4808,  0.0496,  0.0383]],\n",
      "       device='cuda:0')\n",
      "tensor([[-0.0403,  0.2206,  0.2558,  ...,  0.4710,  0.1554,  0.0044],\n",
      "        [ 0.2520, -0.0145,  0.1484,  ..., -0.1101, -0.0291,  0.0554],\n",
      "        [-0.1799,  0.0447,  0.2338,  ...,  0.0245,  0.0119, -0.0463],\n",
      "        ...,\n",
      "        [-0.0305, -0.0148,  0.1873,  ..., -0.2730, -0.0191, -0.1414],\n",
      "        [ 0.0076,  0.2345, -0.0930,  ..., -0.2436,  0.1179,  0.0459],\n",
      "        [ 0.0160, -0.1902,  0.0402,  ..., -0.4801,  0.0498,  0.0384]],\n",
      "       device='cuda:0')\n",
      "tensor([[-0.0402,  0.2204,  0.2552,  ...,  0.4708,  0.1551,  0.0043],\n",
      "        [ 0.2519, -0.0149,  0.1489,  ..., -0.1096, -0.0282,  0.0551],\n",
      "        [-0.1799,  0.0450,  0.2335,  ...,  0.0249,  0.0120, -0.0465],\n",
      "        ...,\n",
      "        [-0.0304, -0.0147,  0.1874,  ..., -0.2723, -0.0192, -0.1416],\n",
      "        [ 0.0075,  0.2346, -0.0925,  ..., -0.2442,  0.1175,  0.0459],\n",
      "        [ 0.0158, -0.1903,  0.0405,  ..., -0.4795,  0.0498,  0.0384]],\n",
      "       device='cuda:0')\n",
      "tensor([[-0.0401,  0.2205,  0.2547,  ...,  0.4708,  0.1549,  0.0039],\n",
      "        [ 0.2518, -0.0153,  0.1492,  ..., -0.1097, -0.0275,  0.0549],\n",
      "        [-0.1801,  0.0451,  0.2334,  ...,  0.0253,  0.0119, -0.0468],\n",
      "        ...,\n",
      "        [-0.0304, -0.0144,  0.1878,  ..., -0.2718, -0.0194, -0.1415],\n",
      "        [ 0.0073,  0.2345, -0.0922,  ..., -0.2446,  0.1170,  0.0459],\n",
      "        [ 0.0157, -0.1903,  0.0407,  ..., -0.4790,  0.0498,  0.0385]],\n",
      "       device='cuda:0')\n",
      "tensor([[-0.0401,  0.2202,  0.2539,  ...,  0.4707,  0.1548,  0.0038],\n",
      "        [ 0.2519, -0.0155,  0.1493,  ..., -0.1101, -0.0267,  0.0548],\n",
      "        [-0.1801,  0.0453,  0.2333,  ...,  0.0255,  0.0119, -0.0471],\n",
      "        ...,\n",
      "        [-0.0304, -0.0143,  0.1879,  ..., -0.2713, -0.0194, -0.1415],\n",
      "        [ 0.0072,  0.2341, -0.0918,  ..., -0.2449,  0.1166,  0.0459],\n",
      "        [ 0.0153, -0.1903,  0.0407,  ..., -0.4785,  0.0499,  0.0384]],\n",
      "       device='cuda:0')\n",
      "tensor([[-0.0400,  0.2201,  0.2534,  ...,  0.4697,  0.1547,  0.0036],\n",
      "        [ 0.2520, -0.0158,  0.1498,  ..., -0.1096, -0.0259,  0.0548],\n",
      "        [-0.1801,  0.0452,  0.2332,  ...,  0.0259,  0.0118, -0.0474],\n",
      "        ...,\n",
      "        [-0.0304, -0.0144,  0.1880,  ..., -0.2709, -0.0196, -0.1417],\n",
      "        [ 0.0071,  0.2341, -0.0915,  ..., -0.2446,  0.1162,  0.0459],\n",
      "        [ 0.0150, -0.1902,  0.0409,  ..., -0.4782,  0.0500,  0.0385]],\n",
      "       device='cuda:0')\n",
      "tensor([[-0.0400,  0.2199,  0.2529,  ...,  0.4690,  0.1547,  0.0035],\n",
      "        [ 0.2522, -0.0160,  0.1499,  ..., -0.1092, -0.0248,  0.0548],\n",
      "        [-0.1802,  0.0450,  0.2328,  ...,  0.0260,  0.0115, -0.0477],\n",
      "        ...,\n",
      "        [-0.0304, -0.0144,  0.1883,  ..., -0.2704, -0.0195, -0.1417],\n",
      "        [ 0.0070,  0.2336, -0.0909,  ..., -0.2448,  0.1159,  0.0460],\n",
      "        [ 0.0149, -0.1905,  0.0411,  ..., -0.4778,  0.0499,  0.0385]],\n",
      "       device='cuda:0')\n",
      "tensor([[-0.0398,  0.2197,  0.2526,  ...,  0.4684,  0.1546,  0.0034],\n",
      "        [ 0.2522, -0.0164,  0.1501,  ..., -0.1093, -0.0242,  0.0547],\n",
      "        [-0.1800,  0.0449,  0.2327,  ...,  0.0260,  0.0114, -0.0478],\n",
      "        ...,\n",
      "        [-0.0304, -0.0140,  0.1884,  ..., -0.2701, -0.0197, -0.1416],\n",
      "        [ 0.0069,  0.2331, -0.0904,  ..., -0.2453,  0.1156,  0.0459],\n",
      "        [ 0.0148, -0.1905,  0.0413,  ..., -0.4771,  0.0502,  0.0384]],\n",
      "       device='cuda:0')\n",
      "tensor([[-0.0397,  0.2197,  0.2522,  ...,  0.4679,  0.1545,  0.0033],\n",
      "        [ 0.2522, -0.0167,  0.1504,  ..., -0.1091, -0.0233,  0.0546],\n",
      "        [-0.1798,  0.0447,  0.2325,  ...,  0.0259,  0.0113, -0.0479],\n",
      "        ...,\n",
      "        [-0.0303, -0.0141,  0.1886,  ..., -0.2699, -0.0198, -0.1415],\n",
      "        [ 0.0068,  0.2329, -0.0901,  ..., -0.2460,  0.1155,  0.0459],\n",
      "        [ 0.0147, -0.1903,  0.0413,  ..., -0.4763,  0.0501,  0.0384]],\n",
      "       device='cuda:0')\n",
      "tensor([[-0.0395,  0.2197,  0.2518,  ...,  0.4675,  0.1541,  0.0032],\n",
      "        [ 0.2522, -0.0167,  0.1507,  ..., -0.1087, -0.0227,  0.0544],\n",
      "        [-0.1796,  0.0446,  0.2323,  ...,  0.0255,  0.0111, -0.0480],\n",
      "        ...,\n",
      "        [-0.0304, -0.0143,  0.1889,  ..., -0.2700, -0.0201, -0.1416],\n",
      "        [ 0.0067,  0.2329, -0.0896,  ..., -0.2463,  0.1152,  0.0459],\n",
      "        [ 0.0146, -0.1902,  0.0418,  ..., -0.4759,  0.0502,  0.0384]],\n",
      "       device='cuda:0')\n",
      "tensor([[-0.0394,  0.2198,  0.2512,  ...,  0.4673,  0.1540,  0.0029],\n",
      "        [ 0.2520, -0.0172,  0.1511,  ..., -0.1092, -0.0220,  0.0544],\n",
      "        [-0.1795,  0.0446,  0.2320,  ...,  0.0257,  0.0110, -0.0482],\n",
      "        ...,\n",
      "        [-0.0303, -0.0146,  0.1890,  ..., -0.2690, -0.0202, -0.1417],\n",
      "        [ 0.0065,  0.2327, -0.0893,  ..., -0.2468,  0.1151,  0.0460],\n",
      "        [ 0.0144, -0.1899,  0.0419,  ..., -0.4756,  0.0501,  0.0385]],\n",
      "       device='cuda:0')\n",
      "tensor([[-0.0393,  0.2200,  0.2507,  ...,  0.4660,  0.1540,  0.0027],\n",
      "        [ 0.2517, -0.0174,  0.1513,  ..., -0.1088, -0.0211,  0.0543],\n",
      "        [-0.1795,  0.0444,  0.2320,  ...,  0.0259,  0.0108, -0.0484],\n",
      "        ...,\n",
      "        [-0.0304, -0.0144,  0.1891,  ..., -0.2689, -0.0202, -0.1417],\n",
      "        [ 0.0064,  0.2323, -0.0889,  ..., -0.2473,  0.1147,  0.0461],\n",
      "        [ 0.0141, -0.1900,  0.0421,  ..., -0.4749,  0.0501,  0.0384]],\n",
      "       device='cuda:0')\n",
      "tensor([[-0.0393,  0.2200,  0.2501,  ...,  0.4649,  0.1538,  0.0026],\n",
      "        [ 0.2515, -0.0176,  0.1514,  ..., -0.1089, -0.0204,  0.0544],\n",
      "        [-0.1794,  0.0444,  0.2316,  ...,  0.0260,  0.0107, -0.0486],\n",
      "        ...,\n",
      "        [-0.0303, -0.0140,  0.1892,  ..., -0.2680, -0.0203, -0.1417],\n",
      "        [ 0.0065,  0.2318, -0.0887,  ..., -0.2478,  0.1143,  0.0461],\n",
      "        [ 0.0139, -0.1901,  0.0421,  ..., -0.4742,  0.0501,  0.0384]],\n",
      "       device='cuda:0')\n",
      "tensor([[-0.0392,  0.2200,  0.2497,  ...,  0.4643,  0.1538,  0.0024],\n",
      "        [ 0.2514, -0.0175,  0.1517,  ..., -0.1093, -0.0196,  0.0542],\n",
      "        [-0.1794,  0.0444,  0.2314,  ...,  0.0255,  0.0108, -0.0486],\n",
      "        ...,\n",
      "        [-0.0303, -0.0140,  0.1894,  ..., -0.2677, -0.0206, -0.1419],\n",
      "        [ 0.0063,  0.2314, -0.0882,  ..., -0.2483,  0.1139,  0.0461],\n",
      "        [ 0.0137, -0.1902,  0.0423,  ..., -0.4735,  0.0502,  0.0384]],\n",
      "       device='cuda:0')\n",
      "tensor([[-0.0389,  0.2199,  0.2493,  ...,  0.4636,  0.1535,  0.0023],\n",
      "        [ 0.2514, -0.0180,  0.1517,  ..., -0.1096, -0.0190,  0.0541],\n",
      "        [-0.1792,  0.0444,  0.2312,  ...,  0.0261,  0.0108, -0.0488],\n",
      "        ...,\n",
      "        [-0.0303, -0.0137,  0.1898,  ..., -0.2672, -0.0207, -0.1420],\n",
      "        [ 0.0062,  0.2311, -0.0878,  ..., -0.2487,  0.1137,  0.0462],\n",
      "        [ 0.0135, -0.1899,  0.0425,  ..., -0.4732,  0.0501,  0.0385]],\n",
      "       device='cuda:0')\n",
      "tensor([[-0.0389,  0.2197,  0.2489,  ...,  0.4629,  0.1533,  0.0023],\n",
      "        [ 0.2513, -0.0181,  0.1520,  ..., -0.1098, -0.0182,  0.0540],\n",
      "        [-0.1791,  0.0443,  0.2310,  ...,  0.0260,  0.0106, -0.0490],\n",
      "        ...,\n",
      "        [-0.0302, -0.0138,  0.1900,  ..., -0.2669, -0.0207, -0.1422],\n",
      "        [ 0.0062,  0.2306, -0.0875,  ..., -0.2489,  0.1135,  0.0460],\n",
      "        [ 0.0135, -0.1901,  0.0425,  ..., -0.4731,  0.0503,  0.0385]],\n",
      "       device='cuda:0')\n",
      "tensor([[-0.0389,  0.2190,  0.2486,  ...,  0.4621,  0.1530,  0.0022],\n",
      "        [ 0.2512, -0.0184,  0.1522,  ..., -0.1099, -0.0173,  0.0538],\n",
      "        [-0.1793,  0.0442,  0.2309,  ...,  0.0260,  0.0107, -0.0491],\n",
      "        ...,\n",
      "        [-0.0304, -0.0137,  0.1902,  ..., -0.2667, -0.0207, -0.1423],\n",
      "        [ 0.0060,  0.2303, -0.0870,  ..., -0.2490,  0.1132,  0.0460],\n",
      "        [ 0.0133, -0.1903,  0.0428,  ..., -0.4726,  0.0505,  0.0385]],\n",
      "       device='cuda:0')\n",
      "tensor([[-0.0387,  0.2192,  0.2479,  ...,  0.4613,  0.1530,  0.0020],\n",
      "        [ 0.2511, -0.0189,  0.1526,  ..., -0.1098, -0.0168,  0.0538],\n",
      "        [-0.1793,  0.0440,  0.2306,  ...,  0.0261,  0.0104, -0.0493],\n",
      "        ...,\n",
      "        [-0.0305, -0.0138,  0.1904,  ..., -0.2665, -0.0207, -0.1423],\n",
      "        [ 0.0060,  0.2302, -0.0866,  ..., -0.2494,  0.1130,  0.0460],\n",
      "        [ 0.0132, -0.1902,  0.0430,  ..., -0.4719,  0.0506,  0.0386]],\n",
      "       device='cuda:0')\n",
      "tensor([[-0.0385,  0.2190,  0.2476,  ...,  0.4608,  0.1526,  0.0018],\n",
      "        [ 0.2508, -0.0192,  0.1528,  ..., -0.1101, -0.0161,  0.0536],\n",
      "        [-0.1791,  0.0440,  0.2302,  ...,  0.0265,  0.0105, -0.0493],\n",
      "        ...,\n",
      "        [-0.0303, -0.0137,  0.1906,  ..., -0.2661, -0.0208, -0.1425],\n",
      "        [ 0.0058,  0.2300, -0.0863,  ..., -0.2497,  0.1127,  0.0460],\n",
      "        [ 0.0130, -0.1898,  0.0432,  ..., -0.4715,  0.0505,  0.0385]],\n",
      "       device='cuda:0')\n",
      "tensor([[-0.0385,  0.2191,  0.2472,  ...,  0.4599,  0.1526,  0.0018],\n",
      "        [ 0.2507, -0.0193,  0.1531,  ..., -0.1103, -0.0155,  0.0533],\n",
      "        [-0.1791,  0.0439,  0.2299,  ...,  0.0268,  0.0103, -0.0497],\n",
      "        ...,\n",
      "        [-0.0304, -0.0135,  0.1910,  ..., -0.2655, -0.0208, -0.1427],\n",
      "        [ 0.0057,  0.2300, -0.0861,  ..., -0.2501,  0.1125,  0.0460],\n",
      "        [ 0.0128, -0.1896,  0.0433,  ..., -0.4711,  0.0505,  0.0386]],\n",
      "       device='cuda:0')\n",
      "tensor([[-0.0383,  0.2187,  0.2469,  ...,  0.4591,  0.1524,  0.0016],\n",
      "        [ 0.2505, -0.0195,  0.1533,  ..., -0.1107, -0.0149,  0.0530],\n",
      "        [-0.1789,  0.0439,  0.2296,  ...,  0.0268,  0.0103, -0.0498],\n",
      "        ...,\n",
      "        [-0.0303, -0.0134,  0.1911,  ..., -0.2651, -0.0209, -0.1428],\n",
      "        [ 0.0056,  0.2298, -0.0858,  ..., -0.2503,  0.1122,  0.0460],\n",
      "        [ 0.0125, -0.1896,  0.0433,  ..., -0.4706,  0.0506,  0.0386]],\n",
      "       device='cuda:0')\n",
      "tensor([[-0.0382,  0.2188,  0.2465,  ...,  0.4581,  0.1523,  0.0015],\n",
      "        [ 0.2505, -0.0201,  0.1538,  ..., -0.1107, -0.0141,  0.0528],\n",
      "        [-0.1788,  0.0440,  0.2293,  ...,  0.0273,  0.0101, -0.0499],\n",
      "        ...,\n",
      "        [-0.0303, -0.0133,  0.1911,  ..., -0.2646, -0.0209, -0.1428],\n",
      "        [ 0.0056,  0.2294, -0.0854,  ..., -0.2505,  0.1121,  0.0459],\n",
      "        [ 0.0123, -0.1895,  0.0434,  ..., -0.4699,  0.0505,  0.0386]],\n",
      "       device='cuda:0')\n",
      "tensor([[-0.0380,  0.2187,  0.2460,  ...,  0.4575,  0.1522,  0.0014],\n",
      "        [ 0.2504, -0.0205,  0.1541,  ..., -0.1108, -0.0134,  0.0527],\n",
      "        [-0.1788,  0.0439,  0.2290,  ...,  0.0272,  0.0100, -0.0501],\n",
      "        ...,\n",
      "        [-0.0303, -0.0130,  0.1912,  ..., -0.2637, -0.0212, -0.1430],\n",
      "        [ 0.0056,  0.2290, -0.0850,  ..., -0.2509,  0.1118,  0.0460],\n",
      "        [ 0.0121, -0.1892,  0.0436,  ..., -0.4694,  0.0507,  0.0385]],\n",
      "       device='cuda:0')\n"
     ]
    },
    {
     "name": "stdout",
     "output_type": "stream",
     "text": [
      "tensor([[-0.0378,  0.2187,  0.2455,  ...,  0.4568,  0.1522,  0.0013],\n",
      "        [ 0.2502, -0.0208,  0.1544,  ..., -0.1110, -0.0124,  0.0527],\n",
      "        [-0.1787,  0.0439,  0.2289,  ...,  0.0275,  0.0099, -0.0502],\n",
      "        ...,\n",
      "        [-0.0302, -0.0128,  0.1913,  ..., -0.2631, -0.0213, -0.1431],\n",
      "        [ 0.0055,  0.2289, -0.0846,  ..., -0.2509,  0.1116,  0.0460],\n",
      "        [ 0.0119, -0.1891,  0.0435,  ..., -0.4683,  0.0510,  0.0384]],\n",
      "       device='cuda:0')\n",
      "tensor([[-0.0378,  0.2185,  0.2451,  ...,  0.4561,  0.1520,  0.0011],\n",
      "        [ 0.2499, -0.0211,  0.1547,  ..., -0.1112, -0.0117,  0.0525],\n",
      "        [-0.1785,  0.0441,  0.2289,  ...,  0.0276,  0.0098, -0.0504],\n",
      "        ...,\n",
      "        [-0.0302, -0.0126,  0.1914,  ..., -0.2623, -0.0215, -0.1431],\n",
      "        [ 0.0053,  0.2284, -0.0843,  ..., -0.2512,  0.1114,  0.0459],\n",
      "        [ 0.0116, -0.1891,  0.0437,  ..., -0.4677,  0.0509,  0.0385]],\n",
      "       device='cuda:0')\n",
      "tensor([[-0.0376,  0.2185,  0.2447,  ...,  0.4552,  0.1520,  0.0009],\n",
      "        [ 0.2498, -0.0213,  0.1546,  ..., -0.1116, -0.0110,  0.0524],\n",
      "        [-0.1786,  0.0439,  0.2287,  ...,  0.0277,  0.0098, -0.0505],\n",
      "        ...,\n",
      "        [-0.0302, -0.0125,  0.1917,  ..., -0.2617, -0.0215, -0.1432],\n",
      "        [ 0.0052,  0.2280, -0.0838,  ..., -0.2517,  0.1111,  0.0459],\n",
      "        [ 0.0115, -0.1891,  0.0439,  ..., -0.4674,  0.0510,  0.0384]],\n",
      "       device='cuda:0')\n",
      "tensor([[-0.0376,  0.2182,  0.2442,  ...,  0.4547,  0.1519,  0.0009],\n",
      "        [ 0.2498, -0.0216,  0.1550,  ..., -0.1119, -0.0105,  0.0523],\n",
      "        [-0.1787,  0.0441,  0.2285,  ...,  0.0278,  0.0097, -0.0505],\n",
      "        ...,\n",
      "        [-0.0302, -0.0125,  0.1921,  ..., -0.2609, -0.0216, -0.1433],\n",
      "        [ 0.0052,  0.2282, -0.0834,  ..., -0.2522,  0.1110,  0.0458],\n",
      "        [ 0.0112, -0.1890,  0.0442,  ..., -0.4670,  0.0512,  0.0384]],\n",
      "       device='cuda:0')\n",
      "tensor([[-0.0375,  0.2178,  0.2437,  ...,  0.4540,  0.1518,  0.0009],\n",
      "        [ 0.2496, -0.0218,  0.1552,  ..., -0.1120, -0.0099,  0.0520],\n",
      "        [-0.1787,  0.0443,  0.2282,  ...,  0.0277,  0.0096, -0.0507],\n",
      "        ...,\n",
      "        [-0.0303, -0.0125,  0.1922,  ..., -0.2605, -0.0216, -0.1434],\n",
      "        [ 0.0052,  0.2281, -0.0831,  ..., -0.2523,  0.1110,  0.0458],\n",
      "        [ 0.0111, -0.1889,  0.0444,  ..., -0.4663,  0.0512,  0.0385]],\n",
      "       device='cuda:0')\n",
      "tensor([[-0.0375,  0.2175,  0.2434,  ...,  0.4533,  0.1517,  0.0006],\n",
      "        [ 0.2495, -0.0221,  0.1554,  ..., -0.1120, -0.0092,  0.0518],\n",
      "        [-0.1789,  0.0443,  0.2279,  ...,  0.0279,  0.0097, -0.0509],\n",
      "        ...,\n",
      "        [-0.0301, -0.0124,  0.1923,  ..., -0.2602, -0.0218, -0.1434],\n",
      "        [ 0.0051,  0.2277, -0.0827,  ..., -0.2525,  0.1107,  0.0459],\n",
      "        [ 0.0108, -0.1889,  0.0446,  ..., -0.4659,  0.0513,  0.0387]],\n",
      "       device='cuda:0')\n",
      "tensor([[-0.0375,  0.2169,  0.2428,  ...,  0.4525,  0.1515,  0.0005],\n",
      "        [ 0.2494, -0.0223,  0.1555,  ..., -0.1123, -0.0089,  0.0517],\n",
      "        [-0.1788,  0.0442,  0.2276,  ...,  0.0278,  0.0097, -0.0509],\n",
      "        ...,\n",
      "        [-0.0301, -0.0124,  0.1925,  ..., -0.2599, -0.0221, -0.1435],\n",
      "        [ 0.0049,  0.2276, -0.0822,  ..., -0.2527,  0.1106,  0.0459],\n",
      "        [ 0.0105, -0.1890,  0.0447,  ..., -0.4654,  0.0513,  0.0386]],\n",
      "       device='cuda:0')\n",
      "tensor([[-3.7418e-02,  2.1684e-01,  2.4240e-01,  ...,  4.5167e-01,\n",
      "          1.5138e-01,  2.4292e-04],\n",
      "        [ 2.4933e-01, -2.2592e-02,  1.5584e-01,  ..., -1.1251e-01,\n",
      "         -8.2603e-03,  5.1447e-02],\n",
      "        [-1.7877e-01,  4.4362e-02,  2.2747e-01,  ...,  2.7981e-02,\n",
      "          9.5529e-03, -5.1127e-02],\n",
      "        ...,\n",
      "        [-2.9993e-02, -1.2007e-02,  1.9259e-01,  ..., -2.5925e-01,\n",
      "         -2.2035e-02, -1.4347e-01],\n",
      "        [ 4.8238e-03,  2.2733e-01, -8.1876e-02,  ..., -2.5316e-01,\n",
      "          1.1039e-01,  4.5885e-02],\n",
      "        [ 1.0284e-02, -1.8878e-01,  4.4851e-02,  ..., -4.6479e-01,\n",
      "          5.1307e-02,  3.8589e-02]], device='cuda:0')\n",
      "tensor([[-3.7247e-02,  2.1675e-01,  2.4199e-01,  ...,  4.5100e-01,\n",
      "          1.5126e-01,  2.2519e-05],\n",
      "        [ 2.4931e-01, -2.2977e-02,  1.5605e-01,  ..., -1.1254e-01,\n",
      "         -7.6063e-03,  5.1288e-02],\n",
      "        [-1.7874e-01,  4.4579e-02,  2.2734e-01,  ...,  2.8090e-02,\n",
      "          9.6874e-03, -5.1211e-02],\n",
      "        ...,\n",
      "        [-3.0100e-02, -1.2088e-02,  1.9289e-01,  ..., -2.5876e-01,\n",
      "         -2.2033e-02, -1.4341e-01],\n",
      "        [ 4.7577e-03,  2.2726e-01, -8.1695e-02,  ..., -2.5377e-01,\n",
      "          1.1013e-01,  4.5888e-02],\n",
      "        [ 1.0119e-02, -1.8873e-01,  4.5032e-02,  ..., -4.6441e-01,\n",
      "          5.1540e-02,  3.8487e-02]], device='cuda:0')\n",
      "tensor([[-3.7132e-02,  2.1656e-01,  2.4172e-01,  ...,  4.5010e-01,\n",
      "          1.5117e-01, -7.0882e-05],\n",
      "        [ 2.4921e-01, -2.3341e-02,  1.5641e-01,  ..., -1.1301e-01,\n",
      "         -6.9035e-03,  5.1171e-02],\n",
      "        [-1.7860e-01,  4.4680e-02,  2.2713e-01,  ...,  2.7884e-02,\n",
      "          9.6816e-03, -5.1316e-02],\n",
      "        ...,\n",
      "        [-3.0043e-02, -1.1972e-02,  1.9315e-01,  ..., -2.5812e-01,\n",
      "         -2.1998e-02, -1.4345e-01],\n",
      "        [ 4.7044e-03,  2.2717e-01, -8.1338e-02,  ..., -2.5417e-01,\n",
      "          1.0992e-01,  4.5852e-02],\n",
      "        [ 9.8575e-03, -1.8872e-01,  4.5240e-02,  ..., -4.6401e-01,\n",
      "          5.1594e-02,  3.8542e-02]], device='cuda:0')\n",
      "tensor([[-3.7015e-02,  2.1599e-01,  2.4122e-01,  ...,  4.4976e-01,\n",
      "          1.5075e-01, -2.8525e-04],\n",
      "        [ 2.4917e-01, -2.3634e-02,  1.5650e-01,  ..., -1.1333e-01,\n",
      "         -6.3604e-03,  5.0975e-02],\n",
      "        [-1.7851e-01,  4.4656e-02,  2.2681e-01,  ...,  2.8191e-02,\n",
      "          9.6929e-03, -5.1384e-02],\n",
      "        ...,\n",
      "        [-3.0003e-02, -1.1625e-02,  1.9321e-01,  ..., -2.5741e-01,\n",
      "         -2.2043e-02, -1.4366e-01],\n",
      "        [ 4.6971e-03,  2.2694e-01, -8.0988e-02,  ..., -2.5424e-01,\n",
      "          1.0981e-01,  4.5832e-02],\n",
      "        [ 9.7703e-03, -1.8855e-01,  4.5224e-02,  ..., -4.6308e-01,\n",
      "          5.1688e-02,  3.8368e-02]], device='cuda:0')\n",
      "tensor([[-3.7019e-02,  2.1578e-01,  2.4087e-01,  ...,  4.4896e-01,\n",
      "          1.5064e-01, -3.0871e-04],\n",
      "        [ 2.4925e-01, -2.4039e-02,  1.5671e-01,  ..., -1.1310e-01,\n",
      "         -5.6922e-03,  5.0715e-02],\n",
      "        [-1.7849e-01,  4.4465e-02,  2.2660e-01,  ...,  2.8494e-02,\n",
      "          9.7400e-03, -5.1499e-02],\n",
      "        ...,\n",
      "        [-3.0023e-02, -1.1637e-02,  1.9323e-01,  ..., -2.5662e-01,\n",
      "         -2.2140e-02, -1.4356e-01],\n",
      "        [ 4.6335e-03,  2.2663e-01, -8.0514e-02,  ..., -2.5491e-01,\n",
      "          1.0940e-01,  4.5976e-02],\n",
      "        [ 9.5371e-03, -1.8873e-01,  4.5472e-02,  ..., -4.6234e-01,\n",
      "          5.1830e-02,  3.8305e-02]], device='cuda:0')\n",
      "tensor([[-0.0369,  0.2155,  0.2402,  ...,  0.4484,  0.1506, -0.0005],\n",
      "        [ 0.2492, -0.0241,  0.1567,  ..., -0.1135, -0.0050,  0.0508],\n",
      "        [-0.1785,  0.0446,  0.2265,  ...,  0.0288,  0.0098, -0.0517],\n",
      "        ...,\n",
      "        [-0.0300, -0.0114,  0.1933,  ..., -0.2556, -0.0222, -0.1436],\n",
      "        [ 0.0046,  0.2263, -0.0802,  ..., -0.2553,  0.1091,  0.0458],\n",
      "        [ 0.0092, -0.1885,  0.0455,  ..., -0.4615,  0.0519,  0.0384]],\n",
      "       device='cuda:0')\n",
      "tensor([[-0.0369,  0.2155,  0.2399,  ...,  0.4477,  0.1503, -0.0005],\n",
      "        [ 0.2490, -0.0244,  0.1569,  ..., -0.1138, -0.0042,  0.0506],\n",
      "        [-0.1785,  0.0448,  0.2262,  ...,  0.0293,  0.0099, -0.0519],\n",
      "        ...,\n",
      "        [-0.0299, -0.0116,  0.1934,  ..., -0.2551, -0.0224, -0.1437],\n",
      "        [ 0.0046,  0.2263, -0.0800,  ..., -0.2555,  0.1089,  0.0458],\n",
      "        [ 0.0091, -0.1884,  0.0456,  ..., -0.4606,  0.0522,  0.0384]],\n",
      "       device='cuda:0')\n",
      "tensor([[-0.0369,  0.2156,  0.2395,  ...,  0.4469,  0.1502, -0.0006],\n",
      "        [ 0.2488, -0.0247,  0.1572,  ..., -0.1140, -0.0036,  0.0505],\n",
      "        [-0.1784,  0.0449,  0.2259,  ...,  0.0295,  0.0097, -0.0521],\n",
      "        ...,\n",
      "        [-0.0298, -0.0115,  0.1934,  ..., -0.2547, -0.0225, -0.1437],\n",
      "        [ 0.0046,  0.2261, -0.0795,  ..., -0.2556,  0.1086,  0.0456],\n",
      "        [ 0.0090, -0.1883,  0.0456,  ..., -0.4600,  0.0521,  0.0383]],\n",
      "       device='cuda:0')\n",
      "tensor([[-0.0368,  0.2154,  0.2394,  ...,  0.4464,  0.1501, -0.0006],\n",
      "        [ 0.2486, -0.0250,  0.1577,  ..., -0.1143, -0.0029,  0.0503],\n",
      "        [-0.1784,  0.0447,  0.2257,  ...,  0.0298,  0.0097, -0.0523],\n",
      "        ...,\n",
      "        [-0.0298, -0.0113,  0.1936,  ..., -0.2538, -0.0227, -0.1438],\n",
      "        [ 0.0044,  0.2256, -0.0789,  ..., -0.2557,  0.1082,  0.0455],\n",
      "        [ 0.0090, -0.1883,  0.0456,  ..., -0.4594,  0.0523,  0.0382]],\n",
      "       device='cuda:0')\n",
      "tensor([[-0.0368,  0.2150,  0.2390,  ...,  0.4458,  0.1500, -0.0008],\n",
      "        [ 0.2486, -0.0253,  0.1580,  ..., -0.1142, -0.0025,  0.0502],\n",
      "        [-0.1783,  0.0446,  0.2255,  ...,  0.0297,  0.0095, -0.0524],\n",
      "        ...,\n",
      "        [-0.0299, -0.0113,  0.1938,  ..., -0.2534, -0.0229, -0.1440],\n",
      "        [ 0.0044,  0.2255, -0.0785,  ..., -0.2561,  0.1079,  0.0456],\n",
      "        [ 0.0088, -0.1882,  0.0458,  ..., -0.4590,  0.0523,  0.0381]],\n",
      "       device='cuda:0')\n",
      "tensor([[-0.0367,  0.2149,  0.2385,  ...,  0.4450,  0.1498, -0.0009],\n",
      "        [ 0.2485, -0.0255,  0.1582,  ..., -0.1143, -0.0017,  0.0499],\n",
      "        [-0.1783,  0.0446,  0.2252,  ...,  0.0300,  0.0095, -0.0525],\n",
      "        ...,\n",
      "        [-0.0299, -0.0113,  0.1939,  ..., -0.2531, -0.0230, -0.1441],\n",
      "        [ 0.0042,  0.2251, -0.0783,  ..., -0.2566,  0.1077,  0.0454],\n",
      "        [ 0.0085, -0.1881,  0.0460,  ..., -0.4586,  0.0522,  0.0381]],\n",
      "       device='cuda:0')\n",
      "tensor([[-0.0366,  0.2148,  0.2382,  ...,  0.4440,  0.1496, -0.0009],\n",
      "        [ 0.2483, -0.0257,  0.1584,  ..., -0.1147, -0.0011,  0.0498],\n",
      "        [-0.1785,  0.0448,  0.2250,  ...,  0.0303,  0.0095, -0.0526],\n",
      "        ...,\n",
      "        [-0.0300, -0.0112,  0.1940,  ..., -0.2525, -0.0232, -0.1443],\n",
      "        [ 0.0041,  0.2248, -0.0778,  ..., -0.2572,  0.1074,  0.0454],\n",
      "        [ 0.0084, -0.1880,  0.0462,  ..., -0.4582,  0.0522,  0.0381]],\n",
      "       device='cuda:0')\n",
      "tensor([[-3.6549e-02,  2.1487e-01,  2.3778e-01,  ...,  4.4323e-01,\n",
      "          1.4953e-01, -9.5170e-04],\n",
      "        [ 2.4808e-01, -2.5842e-02,  1.5877e-01,  ..., -1.1474e-01,\n",
      "         -3.9394e-04,  4.9576e-02],\n",
      "        [-1.7843e-01,  4.4618e-02,  2.2483e-01,  ...,  3.0425e-02,\n",
      "          9.4533e-03, -5.2828e-02],\n",
      "        ...,\n",
      "        [-2.9984e-02, -1.0910e-02,  1.9402e-01,  ..., -2.5170e-01,\n",
      "         -2.3526e-02, -1.4445e-01],\n",
      "        [ 4.1007e-03,  2.2436e-01, -7.7532e-02,  ..., -2.5772e-01,\n",
      "          1.0696e-01,  4.5433e-02],\n",
      "        [ 8.1044e-03, -1.8794e-01,  4.6305e-02,  ..., -4.5735e-01,\n",
      "          5.2194e-02,  3.8060e-02]], device='cuda:0')\n",
      "tensor([[-3.6538e-02,  2.1462e-01,  2.3741e-01,  ...,  4.4260e-01,\n",
      "          1.4941e-01, -1.1127e-03],\n",
      "        [ 2.4802e-01, -2.5859e-02,  1.5900e-01,  ..., -1.1495e-01,\n",
      "          3.8951e-04,  4.9523e-02],\n",
      "        [-1.7832e-01,  4.4572e-02,  2.2471e-01,  ...,  3.0469e-02,\n",
      "          9.4307e-03, -5.3003e-02],\n",
      "        ...,\n",
      "        [-3.0003e-02, -1.0773e-02,  1.9417e-01,  ..., -2.5173e-01,\n",
      "         -2.3654e-02, -1.4438e-01],\n",
      "        [ 4.1129e-03,  2.2382e-01, -7.7132e-02,  ..., -2.5807e-01,\n",
      "          1.0656e-01,  4.5270e-02],\n",
      "        [ 7.9846e-03, -1.8776e-01,  4.6534e-02,  ..., -4.5671e-01,\n",
      "          5.2265e-02,  3.8109e-02]], device='cuda:0')\n",
      "tensor([[-0.0365,  0.2145,  0.2371,  ...,  0.4416,  0.1492, -0.0012],\n",
      "        [ 0.2479, -0.0260,  0.1592,  ..., -0.1149,  0.0011,  0.0494],\n",
      "        [-0.1782,  0.0444,  0.2244,  ...,  0.0307,  0.0092, -0.0531],\n",
      "        ...,\n",
      "        [-0.0300, -0.0106,  0.1945,  ..., -0.2511, -0.0238, -0.1444],\n",
      "        [ 0.0040,  0.2234, -0.0766,  ..., -0.2581,  0.1063,  0.0451],\n",
      "        [ 0.0078, -0.1877,  0.0467,  ..., -0.4561,  0.0523,  0.0382]],\n",
      "       device='cuda:0')\n",
      "tensor([[-0.0364,  0.2143,  0.2365,  ...,  0.4412,  0.1491, -0.0013],\n",
      "        [ 0.2478, -0.0261,  0.1594,  ..., -0.1150,  0.0018,  0.0492],\n",
      "        [-0.1781,  0.0444,  0.2242,  ...,  0.0305,  0.0093, -0.0533],\n",
      "        ...,\n",
      "        [-0.0300, -0.0104,  0.1947,  ..., -0.2504, -0.0239, -0.1444],\n",
      "        [ 0.0039,  0.2230, -0.0763,  ..., -0.2582,  0.1061,  0.0449],\n",
      "        [ 0.0075, -0.1877,  0.0468,  ..., -0.4556,  0.0525,  0.0381]],\n",
      "       device='cuda:0')\n",
      "tensor([[-0.0363,  0.2142,  0.2360,  ...,  0.4406,  0.1490, -0.0014],\n",
      "        [ 0.2479, -0.0261,  0.1595,  ..., -0.1152,  0.0025,  0.0490],\n",
      "        [-0.1781,  0.0444,  0.2241,  ...,  0.0306,  0.0095, -0.0535],\n",
      "        ...,\n",
      "        [-0.0298, -0.0101,  0.1948,  ..., -0.2499, -0.0240, -0.1446],\n",
      "        [ 0.0038,  0.2230, -0.0761,  ..., -0.2585,  0.1057,  0.0448],\n",
      "        [ 0.0074, -0.1877,  0.0470,  ..., -0.4552,  0.0526,  0.0381]],\n",
      "       device='cuda:0')\n",
      "tensor([[-0.0363,  0.2139,  0.2357,  ...,  0.4398,  0.1489, -0.0016],\n",
      "        [ 0.2478, -0.0263,  0.1596,  ..., -0.1150,  0.0031,  0.0489],\n",
      "        [-0.1779,  0.0445,  0.2240,  ...,  0.0308,  0.0094, -0.0536],\n",
      "        ...,\n",
      "        [-0.0296, -0.0098,  0.1952,  ..., -0.2491, -0.0240, -0.1445],\n",
      "        [ 0.0037,  0.2227, -0.0759,  ..., -0.2587,  0.1056,  0.0447],\n",
      "        [ 0.0072, -0.1874,  0.0473,  ..., -0.4547,  0.0526,  0.0382]],\n",
      "       device='cuda:0')\n",
      "tensor([[-0.0363,  0.2137,  0.2353,  ...,  0.4391,  0.1487, -0.0017],\n",
      "        [ 0.2477, -0.0266,  0.1599,  ..., -0.1151,  0.0038,  0.0486],\n",
      "        [-0.1779,  0.0445,  0.2237,  ...,  0.0310,  0.0094, -0.0537],\n",
      "        ...,\n",
      "        [-0.0296, -0.0095,  0.1953,  ..., -0.2486, -0.0242, -0.1445],\n",
      "        [ 0.0038,  0.2224, -0.0756,  ..., -0.2591,  0.1053,  0.0445],\n",
      "        [ 0.0071, -0.1874,  0.0473,  ..., -0.4543,  0.0526,  0.0381]],\n",
      "       device='cuda:0')\n",
      "tensor([[-0.0362,  0.2137,  0.2349,  ...,  0.4383,  0.1487, -0.0018],\n",
      "        [ 0.2477, -0.0268,  0.1600,  ..., -0.1158,  0.0043,  0.0485],\n",
      "        [-0.1778,  0.0445,  0.2235,  ...,  0.0314,  0.0094, -0.0538],\n",
      "        ...,\n",
      "        [-0.0296, -0.0093,  0.1957,  ..., -0.2479, -0.0242, -0.1445],\n",
      "        [ 0.0038,  0.2222, -0.0751,  ..., -0.2596,  0.1050,  0.0444],\n",
      "        [ 0.0069, -0.1874,  0.0474,  ..., -0.4536,  0.0526,  0.0381]],\n",
      "       device='cuda:0')\n",
      "tensor([[-0.0361,  0.2134,  0.2347,  ...,  0.4377,  0.1487, -0.0019],\n",
      "        [ 0.2476, -0.0270,  0.1604,  ..., -0.1162,  0.0050,  0.0483],\n",
      "        [-0.1777,  0.0444,  0.2234,  ...,  0.0318,  0.0094, -0.0539],\n",
      "        ...,\n",
      "        [-0.0295, -0.0091,  0.1960,  ..., -0.2472, -0.0243, -0.1445],\n",
      "        [ 0.0036,  0.2219, -0.0747,  ..., -0.2602,  0.1047,  0.0444],\n",
      "        [ 0.0068, -0.1873,  0.0475,  ..., -0.4527,  0.0525,  0.0381]],\n",
      "       device='cuda:0')\n",
      "tensor([[-0.0359,  0.2133,  0.2343,  ...,  0.4367,  0.1487, -0.0020],\n",
      "        [ 0.2476, -0.0272,  0.1603,  ..., -0.1166,  0.0055,  0.0482],\n",
      "        [-0.1776,  0.0445,  0.2232,  ...,  0.0320,  0.0094, -0.0540],\n",
      "        ...,\n",
      "        [-0.0293, -0.0091,  0.1963,  ..., -0.2466, -0.0243, -0.1445],\n",
      "        [ 0.0035,  0.2216, -0.0744,  ..., -0.2605,  0.1044,  0.0443],\n",
      "        [ 0.0067, -0.1873,  0.0477,  ..., -0.4518,  0.0524,  0.0380]],\n",
      "       device='cuda:0')\n",
      "tensor([[-0.0358,  0.2134,  0.2339,  ...,  0.4361,  0.1488, -0.0022],\n",
      "        [ 0.2476, -0.0275,  0.1606,  ..., -0.1167,  0.0061,  0.0481],\n",
      "        [-0.1775,  0.0446,  0.2230,  ...,  0.0322,  0.0095, -0.0542],\n",
      "        ...,\n",
      "        [-0.0291, -0.0087,  0.1965,  ..., -0.2461, -0.0243, -0.1444],\n",
      "        [ 0.0035,  0.2213, -0.0742,  ..., -0.2610,  0.1042,  0.0442],\n",
      "        [ 0.0064, -0.1874,  0.0477,  ..., -0.4513,  0.0523,  0.0379]],\n",
      "       device='cuda:0')\n",
      "tensor([[-0.0356,  0.2134,  0.2335,  ...,  0.4355,  0.1487, -0.0021],\n",
      "        [ 0.2475, -0.0278,  0.1608,  ..., -0.1172,  0.0066,  0.0480],\n",
      "        [-0.1774,  0.0445,  0.2227,  ...,  0.0324,  0.0094, -0.0544],\n",
      "        ...,\n",
      "        [-0.0290, -0.0087,  0.1966,  ..., -0.2457, -0.0245, -0.1444],\n",
      "        [ 0.0035,  0.2211, -0.0740,  ..., -0.2615,  0.1040,  0.0441],\n",
      "        [ 0.0062, -0.1873,  0.0479,  ..., -0.4510,  0.0522,  0.0380]],\n",
      "       device='cuda:0')\n",
      "tensor([[-0.0357,  0.2131,  0.2332,  ...,  0.4346,  0.1486, -0.0022],\n",
      "        [ 0.2473, -0.0277,  0.1610,  ..., -0.1171,  0.0075,  0.0479],\n",
      "        [-0.1774,  0.0445,  0.2226,  ...,  0.0327,  0.0093, -0.0546],\n",
      "        ...,\n",
      "        [-0.0289, -0.0085,  0.1968,  ..., -0.2451, -0.0247, -0.1445],\n",
      "        [ 0.0034,  0.2207, -0.0736,  ..., -0.2621,  0.1038,  0.0441],\n",
      "        [ 0.0061, -0.1875,  0.0482,  ..., -0.4503,  0.0523,  0.0380]],\n",
      "       device='cuda:0')\n",
      "tensor([[-0.0357,  0.2129,  0.2329,  ...,  0.4340,  0.1485, -0.0023],\n",
      "        [ 0.2473, -0.0277,  0.1612,  ..., -0.1173,  0.0082,  0.0478],\n",
      "        [-0.1774,  0.0444,  0.2225,  ...,  0.0330,  0.0093, -0.0548],\n",
      "        ...,\n",
      "        [-0.0289, -0.0086,  0.1969,  ..., -0.2444, -0.0249, -0.1445],\n",
      "        [ 0.0034,  0.2205, -0.0731,  ..., -0.2625,  0.1035,  0.0440],\n",
      "        [ 0.0058, -0.1874,  0.0485,  ..., -0.4496,  0.0525,  0.0380]],\n",
      "       device='cuda:0')\n",
      "tensor([[-0.0357,  0.2126,  0.2325,  ...,  0.4336,  0.1484, -0.0024],\n",
      "        [ 0.2471, -0.0279,  0.1615,  ..., -0.1181,  0.0089,  0.0478],\n",
      "        [-0.1772,  0.0445,  0.2223,  ...,  0.0331,  0.0094, -0.0550],\n",
      "        ...,\n",
      "        [-0.0290, -0.0086,  0.1971,  ..., -0.2439, -0.0249, -0.1445],\n",
      "        [ 0.0033,  0.2204, -0.0729,  ..., -0.2629,  0.1034,  0.0440],\n",
      "        [ 0.0055, -0.1875,  0.0488,  ..., -0.4493,  0.0523,  0.0381]],\n",
      "       device='cuda:0')\n",
      "tensor([[-0.0355,  0.2125,  0.2323,  ...,  0.4331,  0.1484, -0.0024],\n",
      "        [ 0.2471, -0.0281,  0.1616,  ..., -0.1185,  0.0096,  0.0477],\n",
      "        [-0.1771,  0.0445,  0.2222,  ...,  0.0332,  0.0094, -0.0551],\n",
      "        ...,\n",
      "        [-0.0289, -0.0083,  0.1975,  ..., -0.2431, -0.0250, -0.1446],\n",
      "        [ 0.0033,  0.2200, -0.0726,  ..., -0.2634,  0.1030,  0.0439],\n",
      "        [ 0.0054, -0.1876,  0.0490,  ..., -0.4487,  0.0521,  0.0381]],\n",
      "       device='cuda:0')\n",
      "tensor([[-0.0354,  0.2121,  0.2320,  ...,  0.4325,  0.1482, -0.0027],\n",
      "        [ 0.2469, -0.0283,  0.1616,  ..., -0.1189,  0.0101,  0.0476],\n",
      "        [-0.1770,  0.0446,  0.2220,  ...,  0.0335,  0.0094, -0.0553],\n",
      "        ...,\n",
      "        [-0.0288, -0.0080,  0.1978,  ..., -0.2425, -0.0253, -0.1445],\n",
      "        [ 0.0034,  0.2198, -0.0722,  ..., -0.2638,  0.1028,  0.0438],\n",
      "        [ 0.0050, -0.1877,  0.0492,  ..., -0.4483,  0.0521,  0.0381]],\n",
      "       device='cuda:0')\n",
      "tensor([[-0.0353,  0.2120,  0.2316,  ...,  0.4317,  0.1480, -0.0028],\n",
      "        [ 0.2469, -0.0284,  0.1620,  ..., -0.1192,  0.0109,  0.0474],\n",
      "        [-0.1770,  0.0445,  0.2220,  ...,  0.0338,  0.0094, -0.0555],\n",
      "        ...,\n",
      "        [-0.0287, -0.0081,  0.1979,  ..., -0.2424, -0.0255, -0.1446],\n",
      "        [ 0.0034,  0.2195, -0.0717,  ..., -0.2643,  0.1026,  0.0438],\n",
      "        [ 0.0048, -0.1876,  0.0494,  ..., -0.4477,  0.0521,  0.0382]],\n",
      "       device='cuda:0')\n",
      "tensor([[-0.0351,  0.2119,  0.2312,  ...,  0.4309,  0.1477, -0.0029],\n",
      "        [ 0.2467, -0.0284,  0.1623,  ..., -0.1197,  0.0115,  0.0473],\n",
      "        [-0.1768,  0.0445,  0.2218,  ...,  0.0339,  0.0095, -0.0555],\n",
      "        ...,\n",
      "        [-0.0285, -0.0081,  0.1981,  ..., -0.2415, -0.0256, -0.1445],\n",
      "        [ 0.0033,  0.2190, -0.0714,  ..., -0.2648,  0.1024,  0.0437],\n",
      "        [ 0.0045, -0.1876,  0.0498,  ..., -0.4470,  0.0521,  0.0382]],\n",
      "       device='cuda:0')\n",
      "tensor([[-0.0350,  0.2118,  0.2309,  ...,  0.4303,  0.1476, -0.0031],\n",
      "        [ 0.2467, -0.0284,  0.1624,  ..., -0.1200,  0.0120,  0.0471],\n",
      "        [-0.1768,  0.0447,  0.2217,  ...,  0.0341,  0.0095, -0.0557],\n",
      "        ...,\n",
      "        [-0.0283, -0.0078,  0.1981,  ..., -0.2407, -0.0257, -0.1445],\n",
      "        [ 0.0032,  0.2186, -0.0711,  ..., -0.2653,  0.1023,  0.0436],\n",
      "        [ 0.0044, -0.1877,  0.0499,  ..., -0.4464,  0.0522,  0.0382]],\n",
      "       device='cuda:0')\n",
      "tensor([[-0.0349,  0.2117,  0.2304,  ...,  0.4292,  0.1475, -0.0033],\n",
      "        [ 0.2466, -0.0284,  0.1627,  ..., -0.1202,  0.0124,  0.0470],\n",
      "        [-0.1768,  0.0445,  0.2214,  ...,  0.0343,  0.0095, -0.0559],\n",
      "        ...,\n",
      "        [-0.0283, -0.0075,  0.1983,  ..., -0.2402, -0.0257, -0.1446],\n",
      "        [ 0.0032,  0.2182, -0.0708,  ..., -0.2660,  0.1020,  0.0436],\n",
      "        [ 0.0042, -0.1875,  0.0500,  ..., -0.4459,  0.0521,  0.0382]],\n",
      "       device='cuda:0')\n",
      "tensor([[-0.0348,  0.2116,  0.2302,  ...,  0.4283,  0.1474, -0.0034],\n",
      "        [ 0.2465, -0.0285,  0.1630,  ..., -0.1203,  0.0131,  0.0467],\n",
      "        [-0.1767,  0.0445,  0.2213,  ...,  0.0346,  0.0095, -0.0561],\n",
      "        ...,\n",
      "        [-0.0283, -0.0073,  0.1982,  ..., -0.2395, -0.0260, -0.1447],\n",
      "        [ 0.0032,  0.2177, -0.0704,  ..., -0.2664,  0.1019,  0.0436],\n",
      "        [ 0.0040, -0.1877,  0.0501,  ..., -0.4449,  0.0522,  0.0382]],\n",
      "       device='cuda:0')\n",
      "tensor([[-0.0345,  0.2119,  0.2298,  ...,  0.4274,  0.1475, -0.0036],\n",
      "        [ 0.2466, -0.0287,  0.1633,  ..., -0.1204,  0.0137,  0.0466],\n",
      "        [-0.1766,  0.0443,  0.2211,  ...,  0.0349,  0.0095, -0.0562],\n",
      "        ...,\n",
      "        [-0.0281, -0.0071,  0.1984,  ..., -0.2389, -0.0260, -0.1448],\n",
      "        [ 0.0031,  0.2173, -0.0702,  ..., -0.2671,  0.1015,  0.0436],\n",
      "        [ 0.0037, -0.1875,  0.0503,  ..., -0.4444,  0.0522,  0.0382]],\n",
      "       device='cuda:0')\n",
      "tensor([[-0.0346,  0.2118,  0.2295,  ...,  0.4264,  0.1474, -0.0038],\n",
      "        [ 0.2465, -0.0288,  0.1635,  ..., -0.1204,  0.0142,  0.0465],\n",
      "        [-0.1764,  0.0441,  0.2209,  ...,  0.0347,  0.0094, -0.0562],\n",
      "        ...,\n",
      "        [-0.0282, -0.0070,  0.1984,  ..., -0.2381, -0.0260, -0.1450],\n",
      "        [ 0.0030,  0.2168, -0.0697,  ..., -0.2677,  0.1013,  0.0435],\n",
      "        [ 0.0035, -0.1877,  0.0504,  ..., -0.4437,  0.0522,  0.0382]],\n",
      "       device='cuda:0')\n",
      "tensor([[-0.0346,  0.2114,  0.2291,  ...,  0.4254,  0.1472, -0.0041],\n",
      "        [ 0.2464, -0.0291,  0.1639,  ..., -0.1202,  0.0147,  0.0464],\n",
      "        [-0.1764,  0.0440,  0.2207,  ...,  0.0349,  0.0094, -0.0564],\n",
      "        ...,\n",
      "        [-0.0282, -0.0069,  0.1987,  ..., -0.2377, -0.0261, -0.1450],\n",
      "        [ 0.0029,  0.2165, -0.0694,  ..., -0.2681,  0.1013,  0.0434],\n",
      "        [ 0.0033, -0.1876,  0.0505,  ..., -0.4431,  0.0522,  0.0381]],\n",
      "       device='cuda:0')\n",
      "tensor([[-0.0344,  0.2115,  0.2287,  ...,  0.4247,  0.1470, -0.0043],\n",
      "        [ 0.2464, -0.0292,  0.1640,  ..., -0.1204,  0.0154,  0.0463],\n",
      "        [-0.1763,  0.0439,  0.2206,  ...,  0.0352,  0.0093, -0.0566],\n",
      "        ...,\n",
      "        [-0.0281, -0.0068,  0.1988,  ..., -0.2369, -0.0262, -0.1451],\n",
      "        [ 0.0029,  0.2163, -0.0691,  ..., -0.2683,  0.1011,  0.0433],\n",
      "        [ 0.0031, -0.1874,  0.0507,  ..., -0.4428,  0.0521,  0.0382]],\n",
      "       device='cuda:0')\n",
      "tensor([[-0.0342,  0.2116,  0.2285,  ...,  0.4239,  0.1468, -0.0044],\n",
      "        [ 0.2463, -0.0294,  0.1641,  ..., -0.1204,  0.0161,  0.0462],\n",
      "        [-0.1763,  0.0441,  0.2203,  ...,  0.0357,  0.0093, -0.0567],\n",
      "        ...,\n",
      "        [-0.0281, -0.0068,  0.1990,  ..., -0.2363, -0.0263, -0.1451],\n",
      "        [ 0.0028,  0.2158, -0.0687,  ..., -0.2688,  0.1009,  0.0433],\n",
      "        [ 0.0030, -0.1872,  0.0508,  ..., -0.4423,  0.0521,  0.0382]],\n",
      "       device='cuda:0')\n",
      "tensor([[-0.0341,  0.2115,  0.2282,  ...,  0.4231,  0.1466, -0.0047],\n",
      "        [ 0.2462, -0.0293,  0.1642,  ..., -0.1205,  0.0168,  0.0461],\n",
      "        [-0.1762,  0.0442,  0.2201,  ...,  0.0359,  0.0093, -0.0568],\n",
      "        ...,\n",
      "        [-0.0280, -0.0068,  0.1991,  ..., -0.2357, -0.0265, -0.1452],\n",
      "        [ 0.0028,  0.2156, -0.0682,  ..., -0.2692,  0.1006,  0.0433],\n",
      "        [ 0.0028, -0.1871,  0.0509,  ..., -0.4415,  0.0521,  0.0382]],\n",
      "       device='cuda:0')\n",
      "tensor([[-0.0340,  0.2112,  0.2278,  ...,  0.4226,  0.1464, -0.0048],\n",
      "        [ 0.2462, -0.0296,  0.1645,  ..., -0.1207,  0.0175,  0.0459],\n",
      "        [-0.1761,  0.0442,  0.2200,  ...,  0.0364,  0.0093, -0.0570],\n",
      "        ...,\n",
      "        [-0.0280, -0.0069,  0.1992,  ..., -0.2354, -0.0266, -0.1454],\n",
      "        [ 0.0027,  0.2151, -0.0677,  ..., -0.2695,  0.1003,  0.0432],\n",
      "        [ 0.0028, -0.1871,  0.0510,  ..., -0.4410,  0.0522,  0.0382]],\n",
      "       device='cuda:0')\n",
      "tensor([[-0.0339,  0.2110,  0.2274,  ...,  0.4220,  0.1462, -0.0050],\n",
      "        [ 0.2460, -0.0297,  0.1648,  ..., -0.1211,  0.0182,  0.0459],\n",
      "        [-0.1761,  0.0443,  0.2198,  ...,  0.0367,  0.0092, -0.0570],\n",
      "        ...,\n",
      "        [-0.0278, -0.0067,  0.1995,  ..., -0.2346, -0.0267, -0.1454],\n",
      "        [ 0.0026,  0.2146, -0.0674,  ..., -0.2700,  0.1001,  0.0430],\n",
      "        [ 0.0025, -0.1870,  0.0512,  ..., -0.4403,  0.0523,  0.0381]],\n",
      "       device='cuda:0')\n",
      "tensor([[-0.0338,  0.2106,  0.2272,  ...,  0.4215,  0.1459, -0.0052],\n",
      "        [ 0.2459, -0.0298,  0.1649,  ..., -0.1214,  0.0189,  0.0457],\n",
      "        [-0.1759,  0.0442,  0.2197,  ...,  0.0371,  0.0091, -0.0572],\n",
      "        ...,\n",
      "        [-0.0278, -0.0063,  0.1998,  ..., -0.2340, -0.0268, -0.1454],\n",
      "        [ 0.0026,  0.2140, -0.0672,  ..., -0.2706,  0.0999,  0.0430],\n",
      "        [ 0.0024, -0.1869,  0.0515,  ..., -0.4397,  0.0524,  0.0381]],\n",
      "       device='cuda:0')\n",
      "tensor([[-0.0336,  0.2104,  0.2266,  ...,  0.4208,  0.1457, -0.0053],\n",
      "        [ 0.2458, -0.0298,  0.1651,  ..., -0.1218,  0.0195,  0.0456],\n",
      "        [-0.1759,  0.0443,  0.2195,  ...,  0.0373,  0.0090, -0.0574],\n",
      "        ...,\n",
      "        [-0.0277, -0.0061,  0.1999,  ..., -0.2333, -0.0269, -0.1454],\n",
      "        [ 0.0025,  0.2136, -0.0668,  ..., -0.2711,  0.0996,  0.0430],\n",
      "        [ 0.0021, -0.1870,  0.0517,  ..., -0.4392,  0.0525,  0.0380]],\n",
      "       device='cuda:0')\n",
      "tensor([[-0.0334,  0.2107,  0.2263,  ...,  0.4200,  0.1455, -0.0055],\n",
      "        [ 0.2456, -0.0297,  0.1652,  ..., -0.1221,  0.0202,  0.0456],\n",
      "        [-0.1757,  0.0444,  0.2192,  ...,  0.0375,  0.0090, -0.0576],\n",
      "        ...,\n",
      "        [-0.0276, -0.0059,  0.2001,  ..., -0.2328, -0.0270, -0.1455],\n",
      "        [ 0.0024,  0.2129, -0.0665,  ..., -0.2715,  0.0993,  0.0429],\n",
      "        [ 0.0020, -0.1870,  0.0518,  ..., -0.4386,  0.0525,  0.0380]],\n",
      "       device='cuda:0')\n",
      "tensor([[-0.0333,  0.2107,  0.2260,  ...,  0.4192,  0.1453, -0.0056],\n",
      "        [ 0.2454, -0.0297,  0.1655,  ..., -0.1225,  0.0209,  0.0455],\n",
      "        [-0.1756,  0.0445,  0.2189,  ...,  0.0378,  0.0089, -0.0578],\n",
      "        ...,\n",
      "        [-0.0275, -0.0057,  0.2002,  ..., -0.2323, -0.0270, -0.1455],\n",
      "        [ 0.0024,  0.2124, -0.0661,  ..., -0.2717,  0.0992,  0.0428],\n",
      "        [ 0.0017, -0.1870,  0.0520,  ..., -0.4381,  0.0526,  0.0380]],\n",
      "       device='cuda:0')\n",
      "tensor([[-0.0332,  0.2104,  0.2258,  ...,  0.4184,  0.1450, -0.0056],\n",
      "        [ 0.2452, -0.0299,  0.1658,  ..., -0.1230,  0.0215,  0.0453],\n",
      "        [-0.1755,  0.0445,  0.2188,  ...,  0.0381,  0.0088, -0.0579],\n",
      "        ...,\n",
      "        [-0.0274, -0.0057,  0.2003,  ..., -0.2319, -0.0273, -0.1456],\n",
      "        [ 0.0024,  0.2120, -0.0658,  ..., -0.2721,  0.0989,  0.0427],\n",
      "        [ 0.0014, -0.1868,  0.0522,  ..., -0.4376,  0.0524,  0.0381]],\n",
      "       device='cuda:0')\n",
      "tensor([[-0.0330,  0.2104,  0.2254,  ...,  0.4178,  0.1448, -0.0058],\n",
      "        [ 0.2452, -0.0299,  0.1659,  ..., -0.1236,  0.0222,  0.0451],\n",
      "        [-0.1756,  0.0445,  0.2187,  ...,  0.0383,  0.0088, -0.0581],\n",
      "        ...,\n",
      "        [-0.0274, -0.0057,  0.2004,  ..., -0.2315, -0.0274, -0.1456],\n",
      "        [ 0.0023,  0.2116, -0.0654,  ..., -0.2727,  0.0986,  0.0427],\n",
      "        [ 0.0013, -0.1868,  0.0522,  ..., -0.4371,  0.0525,  0.0381]],\n",
      "       device='cuda:0')\n",
      "tensor([[-0.0330,  0.2102,  0.2250,  ...,  0.4169,  0.1447, -0.0059],\n",
      "        [ 0.2451, -0.0300,  0.1661,  ..., -0.1240,  0.0228,  0.0451],\n",
      "        [-0.1755,  0.0447,  0.2185,  ...,  0.0384,  0.0088, -0.0582],\n",
      "        ...,\n",
      "        [-0.0273, -0.0055,  0.2005,  ..., -0.2310, -0.0275, -0.1456],\n",
      "        [ 0.0022,  0.2113, -0.0649,  ..., -0.2731,  0.0984,  0.0426],\n",
      "        [ 0.0011, -0.1867,  0.0524,  ..., -0.4365,  0.0525,  0.0381]],\n",
      "       device='cuda:0')\n",
      "tensor([[-0.0329,  0.2100,  0.2246,  ...,  0.4162,  0.1445, -0.0060],\n",
      "        [ 0.2450, -0.0302,  0.1664,  ..., -0.1243,  0.0233,  0.0449],\n",
      "        [-0.1755,  0.0446,  0.2184,  ...,  0.0385,  0.0087, -0.0583],\n",
      "        ...,\n",
      "        [-0.0272, -0.0054,  0.2008,  ..., -0.2306, -0.0276, -0.1457],\n",
      "        [ 0.0021,  0.2109, -0.0646,  ..., -0.2733,  0.0982,  0.0425],\n",
      "        [ 0.0009, -0.1867,  0.0526,  ..., -0.4360,  0.0524,  0.0382]],\n",
      "       device='cuda:0')\n",
      "tensor([[-0.0327,  0.2099,  0.2243,  ...,  0.4156,  0.1443, -0.0062],\n",
      "        [ 0.2449, -0.0302,  0.1666,  ..., -0.1245,  0.0240,  0.0448],\n",
      "        [-0.1754,  0.0446,  0.2183,  ...,  0.0387,  0.0086, -0.0584],\n",
      "        ...,\n",
      "        [-0.0271, -0.0052,  0.2011,  ..., -0.2299, -0.0277, -0.1457],\n",
      "        [ 0.0020,  0.2106, -0.0643,  ..., -0.2737,  0.0979,  0.0425],\n",
      "        [ 0.0007, -0.1868,  0.0527,  ..., -0.4356,  0.0526,  0.0381]],\n",
      "       device='cuda:0')\n",
      "tensor([[-0.0325,  0.2100,  0.2240,  ...,  0.4148,  0.1441, -0.0063],\n",
      "        [ 0.2448, -0.0301,  0.1668,  ..., -0.1248,  0.0246,  0.0446],\n",
      "        [-0.1753,  0.0447,  0.2182,  ...,  0.0386,  0.0085, -0.0585],\n",
      "        ...,\n",
      "        [-0.0270, -0.0048,  0.2011,  ..., -0.2295, -0.0278, -0.1457],\n",
      "        [ 0.0019,  0.2103, -0.0640,  ..., -0.2741,  0.0978,  0.0424],\n",
      "        [ 0.0006, -0.1869,  0.0529,  ..., -0.4351,  0.0526,  0.0381]],\n",
      "       device='cuda:0')\n",
      "tensor([[-0.0325,  0.2098,  0.2238,  ...,  0.4138,  0.1438, -0.0064],\n",
      "        [ 0.2448, -0.0305,  0.1670,  ..., -0.1252,  0.0252,  0.0445],\n",
      "        [-0.1751,  0.0447,  0.2180,  ...,  0.0388,  0.0084, -0.0587],\n",
      "        ...,\n",
      "        [-0.0270, -0.0048,  0.2013,  ..., -0.2289, -0.0279, -0.1457],\n",
      "        [ 0.0018,  0.2097, -0.0636,  ..., -0.2745,  0.0977,  0.0424],\n",
      "        [ 0.0005, -0.1870,  0.0531,  ..., -0.4343,  0.0526,  0.0382]],\n",
      "       device='cuda:0')\n",
      "tensor([[-3.2315e-02,  2.0984e-01,  2.2342e-01,  ...,  4.1323e-01,\n",
      "          1.4360e-01, -6.6369e-03],\n",
      "        [ 2.4474e-01, -3.0628e-02,  1.6715e-01,  ..., -1.2522e-01,\n",
      "          2.5838e-02,  4.4337e-02],\n",
      "        [-1.7504e-01,  4.4706e-02,  2.1785e-01,  ...,  3.9047e-02,\n",
      "          8.2974e-03, -5.8916e-02],\n",
      "        ...,\n",
      "        [-2.6896e-02, -4.6863e-03,  2.0145e-01,  ..., -2.2831e-01,\n",
      "         -2.7919e-02, -1.4579e-01],\n",
      "        [ 1.8136e-03,  2.0960e-01, -6.3237e-02,  ..., -2.7506e-01,\n",
      "          9.7405e-02,  4.2389e-02],\n",
      "        [ 3.7759e-04, -1.8717e-01,  5.3241e-02,  ..., -4.3374e-01,\n",
      "          5.2636e-02,  3.8154e-02]], device='cuda:0')\n",
      "tensor([[-3.2228e-02,  2.0972e-01,  2.2318e-01,  ...,  4.1234e-01,\n",
      "          1.4333e-01, -6.8207e-03],\n",
      "        [ 2.4466e-01, -3.0851e-02,  1.6733e-01,  ..., -1.2551e-01,\n",
      "          2.6383e-02,  4.4167e-02],\n",
      "        [-1.7486e-01,  4.4840e-02,  2.1763e-01,  ...,  3.9374e-02,\n",
      "          8.3440e-03, -5.9127e-02],\n",
      "        ...,\n",
      "        [-2.6871e-02, -4.5480e-03,  2.0161e-01,  ..., -2.2781e-01,\n",
      "         -2.7904e-02, -1.4589e-01],\n",
      "        [ 1.8829e-03,  2.0912e-01, -6.2872e-02,  ..., -2.7550e-01,\n",
      "          9.7171e-02,  4.2281e-02],\n",
      "        [ 2.1542e-04, -1.8719e-01,  5.3428e-02,  ..., -4.3330e-01,\n",
      "          5.2643e-02,  3.8221e-02]], device='cuda:0')\n",
      "tensor([[-3.1988e-02,  2.0969e-01,  2.2284e-01,  ...,  4.1180e-01,\n",
      "          1.4329e-01, -7.1219e-03],\n",
      "        [ 2.4446e-01, -3.0776e-02,  1.6752e-01,  ..., -1.2601e-01,\n",
      "          2.7071e-02,  4.4015e-02],\n",
      "        [-1.7467e-01,  4.4913e-02,  2.1743e-01,  ...,  3.9425e-02,\n",
      "          8.3705e-03, -5.9325e-02],\n",
      "        ...,\n",
      "        [-2.6981e-02, -4.4440e-03,  2.0163e-01,  ..., -2.2730e-01,\n",
      "         -2.7975e-02, -1.4592e-01],\n",
      "        [ 1.8362e-03,  2.0864e-01, -6.2473e-02,  ..., -2.7579e-01,\n",
      "          9.6979e-02,  4.2240e-02],\n",
      "        [ 3.3070e-05, -1.8735e-01,  5.3611e-02,  ..., -4.3292e-01,\n",
      "          5.2726e-02,  3.8181e-02]], device='cuda:0')\n",
      "tensor([[-3.1822e-02,  2.0976e-01,  2.2238e-01,  ...,  4.1111e-01,\n",
      "          1.4317e-01, -7.3446e-03],\n",
      "        [ 2.4433e-01, -3.0839e-02,  1.6774e-01,  ..., -1.2608e-01,\n",
      "          2.7826e-02,  4.3887e-02],\n",
      "        [-1.7456e-01,  4.5021e-02,  2.1720e-01,  ...,  3.9887e-02,\n",
      "          8.3245e-03, -5.9491e-02],\n",
      "        ...,\n",
      "        [-2.6951e-02, -4.1520e-03,  2.0183e-01,  ..., -2.2652e-01,\n",
      "         -2.8099e-02, -1.4601e-01],\n",
      "        [ 1.8073e-03,  2.0808e-01, -6.2027e-02,  ..., -2.7610e-01,\n",
      "          9.6664e-02,  4.2244e-02],\n",
      "        [-1.8261e-04, -1.8748e-01,  5.3855e-02,  ..., -4.3231e-01,\n",
      "          5.2819e-02,  3.8194e-02]], device='cuda:0')\n",
      "tensor([[-3.1614e-02,  2.0956e-01,  2.2199e-01,  ...,  4.1035e-01,\n",
      "          1.4291e-01, -7.6081e-03],\n",
      "        [ 2.4431e-01, -3.1047e-02,  1.6792e-01,  ..., -1.2622e-01,\n",
      "          2.8540e-02,  4.3785e-02],\n",
      "        [-1.7448e-01,  4.5075e-02,  2.1705e-01,  ...,  4.0315e-02,\n",
      "          8.1268e-03, -5.9656e-02],\n",
      "        ...,\n",
      "        [-2.6922e-02, -3.7558e-03,  2.0202e-01,  ..., -2.2590e-01,\n",
      "         -2.8271e-02, -1.4600e-01],\n",
      "        [ 1.7277e-03,  2.0772e-01, -6.1635e-02,  ..., -2.7651e-01,\n",
      "          9.6371e-02,  4.2220e-02],\n",
      "        [-3.3212e-04, -1.8758e-01,  5.3969e-02,  ..., -4.3207e-01,\n",
      "          5.2791e-02,  3.8225e-02]], device='cuda:0')\n",
      "tensor([[-3.1444e-02,  2.0947e-01,  2.2164e-01,  ...,  4.0946e-01,\n",
      "          1.4271e-01, -7.8632e-03],\n",
      "        [ 2.4422e-01, -3.1229e-02,  1.6810e-01,  ..., -1.2632e-01,\n",
      "          2.9020e-02,  4.3621e-02],\n",
      "        [-1.7430e-01,  4.4970e-02,  2.1682e-01,  ...,  4.0561e-02,\n",
      "          7.9937e-03, -5.9741e-02],\n",
      "        ...,\n",
      "        [-2.6884e-02, -3.6187e-03,  2.0229e-01,  ..., -2.2535e-01,\n",
      "         -2.8344e-02, -1.4603e-01],\n",
      "        [ 1.7267e-03,  2.0745e-01, -6.1289e-02,  ..., -2.7692e-01,\n",
      "          9.6324e-02,  4.2097e-02],\n",
      "        [-4.1416e-04, -1.8757e-01,  5.4012e-02,  ..., -4.3145e-01,\n",
      "          5.2747e-02,  3.8226e-02]], device='cuda:0')\n",
      "tensor([[-0.0314,  0.2093,  0.2214,  ...,  0.4089,  0.1426, -0.0081],\n",
      "        [ 0.2442, -0.0313,  0.1682,  ..., -0.1266,  0.0297,  0.0435],\n",
      "        [-0.1742,  0.0450,  0.2166,  ...,  0.0407,  0.0080, -0.0598],\n",
      "        ...,\n",
      "        [-0.0268, -0.0036,  0.2024,  ..., -0.2251, -0.0285, -0.1461],\n",
      "        [ 0.0017,  0.2071, -0.0609,  ..., -0.2775,  0.0959,  0.0420],\n",
      "        [-0.0006, -0.1876,  0.0542,  ..., -0.4308,  0.0528,  0.0383]],\n",
      "       device='cuda:0')\n",
      "tensor([[-0.0313,  0.2094,  0.2211,  ...,  0.4083,  0.1422, -0.0082],\n",
      "        [ 0.2441, -0.0313,  0.1684,  ..., -0.1269,  0.0304,  0.0434],\n",
      "        [-0.1741,  0.0449,  0.2165,  ...,  0.0411,  0.0078, -0.0600],\n",
      "        ...,\n",
      "        [-0.0268, -0.0034,  0.2025,  ..., -0.2244, -0.0287, -0.1461],\n",
      "        [ 0.0017,  0.2067, -0.0606,  ..., -0.2778,  0.0956,  0.0420],\n",
      "        [-0.0008, -0.1878,  0.0544,  ..., -0.4304,  0.0528,  0.0382]],\n",
      "       device='cuda:0')\n",
      "tensor([[-0.0311,  0.2095,  0.2209,  ...,  0.4078,  0.1420, -0.0084],\n",
      "        [ 0.2441, -0.0312,  0.1686,  ..., -0.1273,  0.0310,  0.0433],\n",
      "        [-0.1741,  0.0449,  0.2163,  ...,  0.0415,  0.0077, -0.0602],\n",
      "        ...,\n",
      "        [-0.0267, -0.0031,  0.2026,  ..., -0.2238, -0.0289, -0.1460],\n",
      "        [ 0.0016,  0.2063, -0.0604,  ..., -0.2783,  0.0953,  0.0418],\n",
      "        [-0.0010, -0.1879,  0.0546,  ..., -0.4300,  0.0529,  0.0382]],\n",
      "       device='cuda:0')\n",
      "tensor([[-0.0309,  0.2094,  0.2205,  ...,  0.4072,  0.1418, -0.0087],\n",
      "        [ 0.2440, -0.0313,  0.1687,  ..., -0.1278,  0.0315,  0.0431],\n",
      "        [-0.1740,  0.0450,  0.2161,  ...,  0.0416,  0.0076, -0.0603],\n",
      "        ...,\n",
      "        [-0.0267, -0.0031,  0.2027,  ..., -0.2233, -0.0289, -0.1461],\n",
      "        [ 0.0016,  0.2059, -0.0600,  ..., -0.2785,  0.0950,  0.0417],\n",
      "        [-0.0012, -0.1880,  0.0549,  ..., -0.4294,  0.0528,  0.0382]],\n",
      "       device='cuda:0')\n",
      "tensor([[-0.0308,  0.2093,  0.2203,  ...,  0.4067,  0.1415, -0.0088],\n",
      "        [ 0.2439, -0.0315,  0.1689,  ..., -0.1278,  0.0321,  0.0430],\n",
      "        [-0.1740,  0.0451,  0.2159,  ...,  0.0419,  0.0075, -0.0604],\n",
      "        ...,\n",
      "        [-0.0266, -0.0029,  0.2028,  ..., -0.2227, -0.0291, -0.1462],\n",
      "        [ 0.0015,  0.2056, -0.0596,  ..., -0.2790,  0.0948,  0.0416],\n",
      "        [-0.0013, -0.1881,  0.0550,  ..., -0.4289,  0.0528,  0.0382]],\n",
      "       device='cuda:0')\n",
      "tensor([[-0.0306,  0.2092,  0.2198,  ...,  0.4063,  0.1412, -0.0091],\n",
      "        [ 0.2438, -0.0315,  0.1691,  ..., -0.1279,  0.0327,  0.0428],\n",
      "        [-0.1739,  0.0450,  0.2157,  ...,  0.0421,  0.0074, -0.0606],\n",
      "        ...,\n",
      "        [-0.0266, -0.0028,  0.2030,  ..., -0.2220, -0.0293, -0.1462],\n",
      "        [ 0.0014,  0.2054, -0.0593,  ..., -0.2793,  0.0945,  0.0415],\n",
      "        [-0.0015, -0.1881,  0.0552,  ..., -0.4284,  0.0527,  0.0382]],\n",
      "       device='cuda:0')\n",
      "tensor([[-0.0305,  0.2091,  0.2194,  ...,  0.4056,  0.1410, -0.0092],\n",
      "        [ 0.2437, -0.0315,  0.1694,  ..., -0.1282,  0.0333,  0.0427],\n",
      "        [-0.1737,  0.0451,  0.2154,  ...,  0.0423,  0.0073, -0.0607],\n",
      "        ...,\n",
      "        [-0.0266, -0.0027,  0.2031,  ..., -0.2215, -0.0293, -0.1463],\n",
      "        [ 0.0013,  0.2051, -0.0590,  ..., -0.2800,  0.0942,  0.0414],\n",
      "        [-0.0017, -0.1880,  0.0554,  ..., -0.4279,  0.0526,  0.0382]],\n",
      "       device='cuda:0')\n",
      "tensor([[-0.0303,  0.2090,  0.2190,  ...,  0.4051,  0.1408, -0.0094],\n",
      "        [ 0.2436, -0.0314,  0.1695,  ..., -0.1286,  0.0339,  0.0426],\n",
      "        [-0.1735,  0.0452,  0.2152,  ...,  0.0424,  0.0073, -0.0608],\n",
      "        ...,\n",
      "        [-0.0266, -0.0025,  0.2033,  ..., -0.2206, -0.0295, -0.1464],\n",
      "        [ 0.0013,  0.2046, -0.0587,  ..., -0.2806,  0.0939,  0.0413],\n",
      "        [-0.0019, -0.1880,  0.0556,  ..., -0.4274,  0.0527,  0.0382]],\n",
      "       device='cuda:0')\n",
      "tensor([[-0.0302,  0.2089,  0.2188,  ...,  0.4047,  0.1406, -0.0096],\n",
      "        [ 0.2435, -0.0315,  0.1698,  ..., -0.1287,  0.0345,  0.0424],\n",
      "        [-0.1735,  0.0453,  0.2150,  ...,  0.0427,  0.0072, -0.0610],\n",
      "        ...,\n",
      "        [-0.0266, -0.0021,  0.2033,  ..., -0.2198, -0.0296, -0.1464],\n",
      "        [ 0.0011,  0.2042, -0.0584,  ..., -0.2809,  0.0936,  0.0412],\n",
      "        [-0.0021, -0.1881,  0.0556,  ..., -0.4267,  0.0527,  0.0382]],\n",
      "       device='cuda:0')\n",
      "tensor([[-0.0301,  0.2087,  0.2185,  ...,  0.4043,  0.1403, -0.0099],\n",
      "        [ 0.2435, -0.0317,  0.1700,  ..., -0.1289,  0.0351,  0.0423],\n",
      "        [-0.1734,  0.0453,  0.2148,  ...,  0.0429,  0.0072, -0.0611],\n",
      "        ...,\n",
      "        [-0.0264, -0.0018,  0.2036,  ..., -0.2191, -0.0298, -0.1465],\n",
      "        [ 0.0010,  0.2037, -0.0580,  ..., -0.2812,  0.0933,  0.0412],\n",
      "        [-0.0023, -0.1881,  0.0557,  ..., -0.4262,  0.0527,  0.0382]],\n",
      "       device='cuda:0')\n"
     ]
    },
    {
     "name": "stdout",
     "output_type": "stream",
     "text": [
      "tensor([[-0.0300,  0.2085,  0.2181,  ...,  0.4036,  0.1400, -0.0101],\n",
      "        [ 0.2434, -0.0318,  0.1701,  ..., -0.1293,  0.0358,  0.0422],\n",
      "        [-0.1733,  0.0453,  0.2146,  ...,  0.0431,  0.0070, -0.0612],\n",
      "        ...,\n",
      "        [-0.0265, -0.0018,  0.2037,  ..., -0.2185, -0.0299, -0.1465],\n",
      "        [ 0.0009,  0.2035, -0.0577,  ..., -0.2816,  0.0931,  0.0411],\n",
      "        [-0.0024, -0.1881,  0.0558,  ..., -0.4256,  0.0527,  0.0381]],\n",
      "       device='cuda:0')\n",
      "tensor([[-0.0299,  0.2083,  0.2179,  ...,  0.4032,  0.1397, -0.0103],\n",
      "        [ 0.2433, -0.0319,  0.1703,  ..., -0.1297,  0.0364,  0.0421],\n",
      "        [-0.1732,  0.0453,  0.2144,  ...,  0.0434,  0.0070, -0.0613],\n",
      "        ...,\n",
      "        [-0.0264, -0.0016,  0.2038,  ..., -0.2180, -0.0300, -0.1466],\n",
      "        [ 0.0008,  0.2032, -0.0574,  ..., -0.2818,  0.0929,  0.0410],\n",
      "        [-0.0026, -0.1883,  0.0561,  ..., -0.4249,  0.0527,  0.0381]],\n",
      "       device='cuda:0')\n",
      "tensor([[-0.0298,  0.2082,  0.2176,  ...,  0.4027,  0.1394, -0.0105],\n",
      "        [ 0.2432, -0.0320,  0.1706,  ..., -0.1298,  0.0369,  0.0420],\n",
      "        [-0.1732,  0.0453,  0.2142,  ...,  0.0435,  0.0069, -0.0614],\n",
      "        ...,\n",
      "        [-0.0264, -0.0015,  0.2039,  ..., -0.2173, -0.0302, -0.1467],\n",
      "        [ 0.0008,  0.2026, -0.0570,  ..., -0.2821,  0.0926,  0.0410],\n",
      "        [-0.0028, -0.1883,  0.0563,  ..., -0.4245,  0.0527,  0.0381]],\n",
      "       device='cuda:0')\n",
      "tensor([[-0.0296,  0.2081,  0.2172,  ...,  0.4023,  0.1393, -0.0106],\n",
      "        [ 0.2431, -0.0320,  0.1707,  ..., -0.1300,  0.0376,  0.0419],\n",
      "        [-0.1730,  0.0454,  0.2139,  ...,  0.0437,  0.0068, -0.0615],\n",
      "        ...,\n",
      "        [-0.0264, -0.0013,  0.2041,  ..., -0.2169, -0.0303, -0.1467],\n",
      "        [ 0.0007,  0.2024, -0.0567,  ..., -0.2826,  0.0923,  0.0409],\n",
      "        [-0.0030, -0.1884,  0.0565,  ..., -0.4240,  0.0527,  0.0381]],\n",
      "       device='cuda:0')\n",
      "tensor([[-0.0294,  0.2080,  0.2169,  ...,  0.4018,  0.1391, -0.0108],\n",
      "        [ 0.2429, -0.0324,  0.1710,  ..., -0.1304,  0.0382,  0.0418],\n",
      "        [-0.1729,  0.0455,  0.2137,  ...,  0.0440,  0.0068, -0.0616],\n",
      "        ...,\n",
      "        [-0.0263, -0.0011,  0.2042,  ..., -0.2164, -0.0303, -0.1467],\n",
      "        [ 0.0006,  0.2020, -0.0563,  ..., -0.2830,  0.0920,  0.0408],\n",
      "        [-0.0031, -0.1884,  0.0567,  ..., -0.4236,  0.0528,  0.0381]],\n",
      "       device='cuda:0')\n",
      "tensor([[-0.0293,  0.2080,  0.2165,  ...,  0.4013,  0.1389, -0.0110],\n",
      "        [ 0.2430, -0.0326,  0.1713,  ..., -0.1304,  0.0388,  0.0417],\n",
      "        [-0.1728,  0.0456,  0.2135,  ...,  0.0443,  0.0066, -0.0618],\n",
      "        ...,\n",
      "        [-0.0262, -0.0009,  0.2043,  ..., -0.2160, -0.0305, -0.1468],\n",
      "        [ 0.0004,  0.2017, -0.0560,  ..., -0.2835,  0.0917,  0.0407],\n",
      "        [-0.0033, -0.1885,  0.0569,  ..., -0.4233,  0.0528,  0.0381]],\n",
      "       device='cuda:0')\n",
      "tensor([[-2.9239e-02,  2.0795e-01,  2.1612e-01,  ...,  4.0065e-01,\n",
      "          1.3867e-01, -1.1107e-02],\n",
      "        [ 2.4284e-01, -3.2767e-02,  1.7145e-01,  ..., -1.3066e-01,\n",
      "          3.9438e-02,  4.1622e-02],\n",
      "        [-1.7268e-01,  4.5638e-02,  2.1328e-01,  ...,  4.4317e-02,\n",
      "          6.4845e-03, -6.1864e-02],\n",
      "        ...,\n",
      "        [-2.6146e-02, -7.1638e-04,  2.0436e-01,  ..., -2.1551e-01,\n",
      "         -3.0564e-02, -1.4684e-01],\n",
      "        [ 2.8071e-04,  2.0143e-01, -5.5719e-02,  ..., -2.8384e-01,\n",
      "          9.1435e-02,  4.0633e-02],\n",
      "        [-3.5743e-03, -1.8861e-01,  5.7088e-02,  ..., -4.2282e-01,\n",
      "          5.2902e-02,  3.8133e-02]], device='cuda:0')\n",
      "tensor([[-2.9078e-02,  2.0791e-01,  2.1579e-01,  ...,  4.0012e-01,\n",
      "          1.3837e-01, -1.1316e-02],\n",
      "        [ 2.4278e-01, -3.2953e-02,  1.7173e-01,  ..., -1.3064e-01,\n",
      "          3.9927e-02,  4.1496e-02],\n",
      "        [-1.7258e-01,  4.5656e-02,  2.1305e-01,  ...,  4.4487e-02,\n",
      "          6.3877e-03, -6.1993e-02],\n",
      "        ...,\n",
      "        [-2.6134e-02, -5.5222e-04,  2.0451e-01,  ..., -2.1507e-01,\n",
      "         -3.0685e-02, -1.4695e-01],\n",
      "        [ 2.3508e-04,  2.0111e-01, -5.5409e-02,  ..., -2.8426e-01,\n",
      "          9.1158e-02,  4.0514e-02],\n",
      "        [-3.7740e-03, -1.8866e-01,  5.7206e-02,  ..., -4.2215e-01,\n",
      "          5.2935e-02,  3.8104e-02]], device='cuda:0')\n",
      "tensor([[-2.8914e-02,  2.0786e-01,  2.1544e-01,  ...,  3.9950e-01,\n",
      "          1.3803e-01, -1.1487e-02],\n",
      "        [ 2.4266e-01, -3.3186e-02,  1.7196e-01,  ..., -1.3086e-01,\n",
      "          4.0474e-02,  4.1385e-02],\n",
      "        [-1.7244e-01,  4.5685e-02,  2.1279e-01,  ...,  4.4607e-02,\n",
      "          6.2312e-03, -6.2090e-02],\n",
      "        ...,\n",
      "        [-2.6188e-02, -3.8580e-04,  2.0471e-01,  ..., -2.1463e-01,\n",
      "         -3.0726e-02, -1.4701e-01],\n",
      "        [ 1.3789e-04,  2.0060e-01, -5.5040e-02,  ..., -2.8458e-01,\n",
      "          9.0823e-02,  4.0443e-02],\n",
      "        [-4.0129e-03, -1.8873e-01,  5.7347e-02,  ..., -4.2159e-01,\n",
      "          5.2963e-02,  3.8102e-02]], device='cuda:0')\n",
      "tensor([[-2.8778e-02,  2.0785e-01,  2.1519e-01,  ...,  3.9886e-01,\n",
      "          1.3770e-01, -1.1601e-02],\n",
      "        [ 2.4253e-01, -3.3443e-02,  1.7219e-01,  ..., -1.3087e-01,\n",
      "          4.1076e-02,  4.1266e-02],\n",
      "        [-1.7236e-01,  4.5723e-02,  2.1263e-01,  ...,  4.4732e-02,\n",
      "          6.1294e-03, -6.2145e-02],\n",
      "        ...,\n",
      "        [-2.6016e-02, -2.8455e-04,  2.0488e-01,  ..., -2.1404e-01,\n",
      "         -3.0870e-02, -1.4701e-01],\n",
      "        [ 5.5505e-05,  2.0030e-01, -5.4742e-02,  ..., -2.8496e-01,\n",
      "          9.0555e-02,  4.0474e-02],\n",
      "        [-4.2609e-03, -1.8875e-01,  5.7462e-02,  ..., -4.2108e-01,\n",
      "          5.2849e-02,  3.8092e-02]], device='cuda:0')\n",
      "tensor([[-2.8662e-02,  2.0761e-01,  2.1490e-01,  ...,  3.9834e-01,\n",
      "          1.3738e-01, -1.1749e-02],\n",
      "        [ 2.4246e-01, -3.3649e-02,  1.7237e-01,  ..., -1.3085e-01,\n",
      "          4.1731e-02,  4.1160e-02],\n",
      "        [-1.7233e-01,  4.5804e-02,  2.1242e-01,  ...,  4.4926e-02,\n",
      "          6.1055e-03, -6.2276e-02],\n",
      "        ...,\n",
      "        [-2.5933e-02, -9.4239e-05,  2.0498e-01,  ..., -2.1339e-01,\n",
      "         -3.1159e-02, -1.4706e-01],\n",
      "        [-4.1829e-05,  1.9988e-01, -5.4547e-02,  ..., -2.8560e-01,\n",
      "          9.0266e-02,  4.0493e-02],\n",
      "        [-4.4837e-03, -1.8898e-01,  5.7581e-02,  ..., -4.2065e-01,\n",
      "          5.2730e-02,  3.8067e-02]], device='cuda:0')\n",
      "tensor([[-2.8520e-02,  2.0744e-01,  2.1459e-01,  ...,  3.9774e-01,\n",
      "          1.3713e-01, -1.1893e-02],\n",
      "        [ 2.4228e-01, -3.3798e-02,  1.7255e-01,  ..., -1.3113e-01,\n",
      "          4.2411e-02,  4.0992e-02],\n",
      "        [-1.7219e-01,  4.5857e-02,  2.1227e-01,  ...,  4.5116e-02,\n",
      "          6.0325e-03, -6.2377e-02],\n",
      "        ...,\n",
      "        [-2.5777e-02,  8.7448e-05,  2.0515e-01,  ..., -2.1269e-01,\n",
      "         -3.1219e-02, -1.4714e-01],\n",
      "        [-1.8057e-04,  1.9952e-01, -5.4108e-02,  ..., -2.8613e-01,\n",
      "          9.0004e-02,  4.0427e-02],\n",
      "        [-4.6478e-03, -1.8909e-01,  5.7737e-02,  ..., -4.2023e-01,\n",
      "          5.2706e-02,  3.8082e-02]], device='cuda:0')\n",
      "tensor([[-2.8351e-02,  2.0731e-01,  2.1424e-01,  ...,  3.9714e-01,\n",
      "          1.3682e-01, -1.2071e-02],\n",
      "        [ 2.4223e-01, -3.3983e-02,  1.7278e-01,  ..., -1.3140e-01,\n",
      "          4.2943e-02,  4.0899e-02],\n",
      "        [-1.7208e-01,  4.5905e-02,  2.1203e-01,  ...,  4.5269e-02,\n",
      "          5.8948e-03, -6.2511e-02],\n",
      "        ...,\n",
      "        [-2.5670e-02,  3.0858e-04,  2.0530e-01,  ..., -2.1211e-01,\n",
      "         -3.1435e-02, -1.4724e-01],\n",
      "        [-3.4376e-04,  1.9919e-01, -5.3693e-02,  ..., -2.8666e-01,\n",
      "          8.9729e-02,  4.0444e-02],\n",
      "        [-4.7454e-03, -1.8911e-01,  5.7939e-02,  ..., -4.1974e-01,\n",
      "          5.2644e-02,  3.8108e-02]], device='cuda:0')\n",
      "tensor([[-2.8227e-02,  2.0716e-01,  2.1388e-01,  ...,  3.9657e-01,\n",
      "          1.3657e-01, -1.2254e-02],\n",
      "        [ 2.4218e-01, -3.4126e-02,  1.7308e-01,  ..., -1.3142e-01,\n",
      "          4.3444e-02,  4.0801e-02],\n",
      "        [-1.7204e-01,  4.5987e-02,  2.1184e-01,  ...,  4.5603e-02,\n",
      "          5.8087e-03, -6.2596e-02],\n",
      "        ...,\n",
      "        [-2.5544e-02,  2.4734e-04,  2.0552e-01,  ..., -2.1142e-01,\n",
      "         -3.1636e-02, -1.4731e-01],\n",
      "        [-4.9222e-04,  1.9896e-01, -5.3374e-02,  ..., -2.8723e-01,\n",
      "          8.9459e-02,  4.0391e-02],\n",
      "        [-4.8784e-03, -1.8906e-01,  5.8094e-02,  ..., -4.1930e-01,\n",
      "          5.2662e-02,  3.8096e-02]], device='cuda:0')\n",
      "tensor([[-0.0281,  0.2071,  0.2135,  ...,  0.3960,  0.1363, -0.0124],\n",
      "        [ 0.2420, -0.0343,  0.1733,  ..., -0.1315,  0.0440,  0.0407],\n",
      "        [-0.1720,  0.0460,  0.2116,  ...,  0.0458,  0.0057, -0.0627],\n",
      "        ...,\n",
      "        [-0.0255,  0.0005,  0.2056,  ..., -0.2109, -0.0318, -0.1473],\n",
      "        [-0.0006,  0.1985, -0.0530,  ..., -0.2878,  0.0892,  0.0403],\n",
      "        [-0.0051, -0.1891,  0.0582,  ..., -0.4187,  0.0527,  0.0381]],\n",
      "       device='cuda:0')\n",
      "tensor([[-0.0280,  0.2070,  0.2132,  ...,  0.3953,  0.1360, -0.0126],\n",
      "        [ 0.2420, -0.0344,  0.1735,  ..., -0.1315,  0.0446,  0.0406],\n",
      "        [-0.1718,  0.0460,  0.2115,  ...,  0.0460,  0.0056, -0.0628],\n",
      "        ...,\n",
      "        [-0.0255,  0.0007,  0.2057,  ..., -0.2104, -0.0319, -0.1474],\n",
      "        [-0.0007,  0.1981, -0.0526,  ..., -0.2882,  0.0889,  0.0402],\n",
      "        [-0.0053, -0.1891,  0.0584,  ..., -0.4182,  0.0526,  0.0381]],\n",
      "       device='cuda:0')\n",
      "tensor([[-0.0279,  0.2068,  0.2128,  ...,  0.3948,  0.1358, -0.0128],\n",
      "        [ 0.2419, -0.0346,  0.1737,  ..., -0.1318,  0.0451,  0.0406],\n",
      "        [-0.1718,  0.0460,  0.2113,  ...,  0.0463,  0.0054, -0.0630],\n",
      "        ...,\n",
      "        [-0.0254,  0.0008,  0.2059,  ..., -0.2099, -0.0320, -0.1474],\n",
      "        [-0.0009,  0.1977, -0.0521,  ..., -0.2886,  0.0886,  0.0402],\n",
      "        [-0.0055, -0.1891,  0.0585,  ..., -0.4177,  0.0526,  0.0381]],\n",
      "       device='cuda:0')\n",
      "tensor([[-0.0278,  0.2067,  0.2125,  ...,  0.3942,  0.1354, -0.0129],\n",
      "        [ 0.2419, -0.0348,  0.1740,  ..., -0.1319,  0.0458,  0.0405],\n",
      "        [-0.1716,  0.0460,  0.2110,  ...,  0.0466,  0.0053, -0.0631],\n",
      "        ...,\n",
      "        [-0.0253,  0.0009,  0.2061,  ..., -0.2093, -0.0322, -0.1474],\n",
      "        [-0.0010,  0.1973, -0.0517,  ..., -0.2889,  0.0884,  0.0401],\n",
      "        [-0.0058, -0.1892,  0.0587,  ..., -0.4172,  0.0525,  0.0381]],\n",
      "       device='cuda:0')\n",
      "tensor([[-0.0276,  0.2066,  0.2122,  ...,  0.3936,  0.1353, -0.0130],\n",
      "        [ 0.2417, -0.0349,  0.1743,  ..., -0.1319,  0.0463,  0.0405],\n",
      "        [-0.1714,  0.0460,  0.2108,  ...,  0.0468,  0.0052, -0.0632],\n",
      "        ...,\n",
      "        [-0.0253,  0.0010,  0.2061,  ..., -0.2087, -0.0323, -0.1474],\n",
      "        [-0.0011,  0.1969, -0.0513,  ..., -0.2893,  0.0881,  0.0400],\n",
      "        [-0.0060, -0.1893,  0.0588,  ..., -0.4167,  0.0525,  0.0381]],\n",
      "       device='cuda:0')\n",
      "tensor([[-0.0275,  0.2064,  0.2119,  ...,  0.3931,  0.1350, -0.0132],\n",
      "        [ 0.2417, -0.0352,  0.1746,  ..., -0.1320,  0.0468,  0.0403],\n",
      "        [-0.1713,  0.0459,  0.2106,  ...,  0.0469,  0.0051, -0.0634],\n",
      "        ...,\n",
      "        [-0.0252,  0.0011,  0.2062,  ..., -0.2080, -0.0325, -0.1474],\n",
      "        [-0.0012,  0.1967, -0.0509,  ..., -0.2898,  0.0877,  0.0400],\n",
      "        [-0.0062, -0.1893,  0.0590,  ..., -0.4161,  0.0524,  0.0381]],\n",
      "       device='cuda:0')\n",
      "tensor([[-0.0274,  0.2064,  0.2116,  ...,  0.3926,  0.1348, -0.0133],\n",
      "        [ 0.2415, -0.0354,  0.1749,  ..., -0.1318,  0.0473,  0.0402],\n",
      "        [-0.1711,  0.0458,  0.2103,  ...,  0.0472,  0.0050, -0.0635],\n",
      "        ...,\n",
      "        [-0.0251,  0.0011,  0.2064,  ..., -0.2076, -0.0327, -0.1475],\n",
      "        [-0.0014,  0.1963, -0.0506,  ..., -0.2902,  0.0874,  0.0400],\n",
      "        [-0.0064, -0.1894,  0.0591,  ..., -0.4156,  0.0523,  0.0381]],\n",
      "       device='cuda:0')\n",
      "tensor([[-0.0271,  0.2064,  0.2113,  ...,  0.3921,  0.1346, -0.0135],\n",
      "        [ 0.2414, -0.0356,  0.1751,  ..., -0.1319,  0.0478,  0.0402],\n",
      "        [-0.1709,  0.0459,  0.2101,  ...,  0.0475,  0.0049, -0.0636],\n",
      "        ...,\n",
      "        [-0.0251,  0.0013,  0.2065,  ..., -0.2071, -0.0329, -0.1476],\n",
      "        [-0.0015,  0.1960, -0.0502,  ..., -0.2907,  0.0871,  0.0399],\n",
      "        [-0.0066, -0.1894,  0.0593,  ..., -0.4152,  0.0522,  0.0381]],\n",
      "       device='cuda:0')\n",
      "tensor([[-0.0270,  0.2063,  0.2110,  ...,  0.3916,  0.1343, -0.0136],\n",
      "        [ 0.2413, -0.0357,  0.1754,  ..., -0.1317,  0.0482,  0.0401],\n",
      "        [-0.1708,  0.0459,  0.2099,  ...,  0.0477,  0.0047, -0.0637],\n",
      "        ...,\n",
      "        [-0.0251,  0.0015,  0.2067,  ..., -0.2065, -0.0331, -0.1476],\n",
      "        [-0.0017,  0.1958, -0.0498,  ..., -0.2912,  0.0868,  0.0399],\n",
      "        [-0.0068, -0.1895,  0.0594,  ..., -0.4148,  0.0522,  0.0381]],\n",
      "       device='cuda:0')\n",
      "tensor([[-0.0269,  0.2062,  0.2107,  ...,  0.3911,  0.1341, -0.0137],\n",
      "        [ 0.2413, -0.0358,  0.1756,  ..., -0.1317,  0.0486,  0.0400],\n",
      "        [-0.1706,  0.0458,  0.2096,  ...,  0.0479,  0.0047, -0.0638],\n",
      "        ...,\n",
      "        [-0.0250,  0.0016,  0.2068,  ..., -0.2059, -0.0333, -0.1477],\n",
      "        [-0.0018,  0.1955, -0.0493,  ..., -0.2916,  0.0866,  0.0399],\n",
      "        [-0.0069, -0.1895,  0.0595,  ..., -0.4143,  0.0521,  0.0381]],\n",
      "       device='cuda:0')\n",
      "tensor([[-0.0267,  0.2062,  0.2104,  ...,  0.3904,  0.1340, -0.0139],\n",
      "        [ 0.2411, -0.0359,  0.1758,  ..., -0.1316,  0.0491,  0.0400],\n",
      "        [-0.1705,  0.0457,  0.2094,  ...,  0.0481,  0.0045, -0.0639],\n",
      "        ...,\n",
      "        [-0.0249,  0.0017,  0.2069,  ..., -0.2053, -0.0334, -0.1477],\n",
      "        [-0.0019,  0.1952, -0.0490,  ..., -0.2920,  0.0863,  0.0398],\n",
      "        [-0.0071, -0.1896,  0.0597,  ..., -0.4138,  0.0520,  0.0381]],\n",
      "       device='cuda:0')\n",
      "tensor([[-0.0265,  0.2061,  0.2100,  ...,  0.3898,  0.1338, -0.0140],\n",
      "        [ 0.2410, -0.0361,  0.1760,  ..., -0.1317,  0.0495,  0.0399],\n",
      "        [-0.1704,  0.0457,  0.2092,  ...,  0.0483,  0.0044, -0.0640],\n",
      "        ...,\n",
      "        [-0.0249,  0.0019,  0.2070,  ..., -0.2048, -0.0336, -0.1478],\n",
      "        [-0.0021,  0.1949, -0.0485,  ..., -0.2924,  0.0861,  0.0398],\n",
      "        [-0.0073, -0.1896,  0.0599,  ..., -0.4133,  0.0520,  0.0381]],\n",
      "       device='cuda:0')\n",
      "tensor([[-0.0264,  0.2060,  0.2096,  ...,  0.3891,  0.1336, -0.0142],\n",
      "        [ 0.2409, -0.0363,  0.1763,  ..., -0.1315,  0.0500,  0.0398],\n",
      "        [-0.1702,  0.0456,  0.2090,  ...,  0.0486,  0.0043, -0.0641],\n",
      "        ...,\n",
      "        [-0.0248,  0.0021,  0.2071,  ..., -0.2041, -0.0337, -0.1478],\n",
      "        [-0.0021,  0.1946, -0.0482,  ..., -0.2927,  0.0858,  0.0397],\n",
      "        [-0.0075, -0.1897,  0.0600,  ..., -0.4128,  0.0519,  0.0381]],\n",
      "       device='cuda:0')\n",
      "tensor([[-0.0262,  0.2059,  0.2093,  ...,  0.3885,  0.1334, -0.0143],\n",
      "        [ 0.2408, -0.0365,  0.1766,  ..., -0.1314,  0.0505,  0.0397],\n",
      "        [-0.1701,  0.0456,  0.2088,  ...,  0.0488,  0.0042, -0.0643],\n",
      "        ...,\n",
      "        [-0.0246,  0.0021,  0.2073,  ..., -0.2037, -0.0338, -0.1477],\n",
      "        [-0.0023,  0.1942, -0.0477,  ..., -0.2930,  0.0855,  0.0396],\n",
      "        [-0.0076, -0.1898,  0.0602,  ..., -0.4123,  0.0519,  0.0381]],\n",
      "       device='cuda:0')\n",
      "tensor([[-0.0260,  0.2059,  0.2090,  ...,  0.3880,  0.1331, -0.0145],\n",
      "        [ 0.2406, -0.0367,  0.1768,  ..., -0.1313,  0.0509,  0.0396],\n",
      "        [-0.1700,  0.0456,  0.2086,  ...,  0.0490,  0.0042, -0.0644],\n",
      "        ...,\n",
      "        [-0.0246,  0.0022,  0.2074,  ..., -0.2033, -0.0340, -0.1477],\n",
      "        [-0.0024,  0.1939, -0.0473,  ..., -0.2933,  0.0852,  0.0396],\n",
      "        [-0.0077, -0.1899,  0.0603,  ..., -0.4119,  0.0519,  0.0381]],\n",
      "       device='cuda:0')\n",
      "tensor([[-0.0259,  0.2057,  0.2087,  ...,  0.3875,  0.1330, -0.0147],\n",
      "        [ 0.2405, -0.0369,  0.1770,  ..., -0.1312,  0.0513,  0.0395],\n",
      "        [-0.1699,  0.0456,  0.2083,  ...,  0.0492,  0.0041, -0.0645],\n",
      "        ...,\n",
      "        [-0.0245,  0.0023,  0.2075,  ..., -0.2028, -0.0341, -0.1477],\n",
      "        [-0.0025,  0.1935, -0.0469,  ..., -0.2935,  0.0850,  0.0395],\n",
      "        [-0.0079, -0.1899,  0.0605,  ..., -0.4113,  0.0518,  0.0381]],\n",
      "       device='cuda:0')\n",
      "tensor([[-0.0257,  0.2057,  0.2083,  ...,  0.3870,  0.1328, -0.0148],\n",
      "        [ 0.2403, -0.0370,  0.1772,  ..., -0.1311,  0.0517,  0.0394],\n",
      "        [-0.1697,  0.0455,  0.2081,  ...,  0.0494,  0.0040, -0.0646],\n",
      "        ...,\n",
      "        [-0.0245,  0.0024,  0.2076,  ..., -0.2022, -0.0343, -0.1478],\n",
      "        [-0.0026,  0.1932, -0.0465,  ..., -0.2938,  0.0847,  0.0395],\n",
      "        [-0.0080, -0.1900,  0.0606,  ..., -0.4107,  0.0518,  0.0381]],\n",
      "       device='cuda:0')\n",
      "tensor([[-0.0255,  0.2056,  0.2080,  ...,  0.3865,  0.1325, -0.0150],\n",
      "        [ 0.2402, -0.0371,  0.1775,  ..., -0.1311,  0.0521,  0.0394],\n",
      "        [-0.1695,  0.0455,  0.2079,  ...,  0.0496,  0.0039, -0.0647],\n",
      "        ...,\n",
      "        [-0.0244,  0.0025,  0.2077,  ..., -0.2018, -0.0344, -0.1478],\n",
      "        [-0.0028,  0.1927, -0.0460,  ..., -0.2941,  0.0845,  0.0394],\n",
      "        [-0.0082, -0.1901,  0.0607,  ..., -0.4102,  0.0517,  0.0381]],\n",
      "       device='cuda:0')\n",
      "tensor([[-0.0254,  0.2056,  0.2076,  ...,  0.3860,  0.1323, -0.0151],\n",
      "        [ 0.2400, -0.0372,  0.1777,  ..., -0.1311,  0.0525,  0.0394],\n",
      "        [-0.1694,  0.0454,  0.2076,  ...,  0.0497,  0.0038, -0.0648],\n",
      "        ...,\n",
      "        [-0.0244,  0.0027,  0.2077,  ..., -0.2014, -0.0346, -0.1478],\n",
      "        [-0.0029,  0.1925, -0.0457,  ..., -0.2944,  0.0842,  0.0393],\n",
      "        [-0.0083, -0.1901,  0.0608,  ..., -0.4097,  0.0517,  0.0381]],\n",
      "       device='cuda:0')\n",
      "tensor([[-0.0254,  0.2056,  0.2074,  ...,  0.3855,  0.1320, -0.0153],\n",
      "        [ 0.2398, -0.0373,  0.1780,  ..., -0.1311,  0.0530,  0.0393],\n",
      "        [-0.1693,  0.0453,  0.2074,  ...,  0.0500,  0.0037, -0.0650],\n",
      "        ...,\n",
      "        [-0.0243,  0.0029,  0.2077,  ..., -0.2008, -0.0348, -0.1478],\n",
      "        [-0.0031,  0.1921, -0.0452,  ..., -0.2945,  0.0839,  0.0392],\n",
      "        [-0.0084, -0.1901,  0.0610,  ..., -0.4092,  0.0517,  0.0381]],\n",
      "       device='cuda:0')\n",
      "tensor([[-0.0253,  0.2056,  0.2070,  ...,  0.3850,  0.1318, -0.0154],\n",
      "        [ 0.2397, -0.0375,  0.1783,  ..., -0.1310,  0.0534,  0.0393],\n",
      "        [-0.1691,  0.0452,  0.2071,  ...,  0.0502,  0.0036, -0.0651],\n",
      "        ...,\n",
      "        [-0.0242,  0.0030,  0.2078,  ..., -0.2004, -0.0350, -0.1477],\n",
      "        [-0.0032,  0.1918, -0.0448,  ..., -0.2949,  0.0836,  0.0392],\n",
      "        [-0.0086, -0.1902,  0.0612,  ..., -0.4088,  0.0516,  0.0381]],\n",
      "       device='cuda:0')\n",
      "tensor([[-0.0252,  0.2055,  0.2068,  ...,  0.3845,  0.1316, -0.0156],\n",
      "        [ 0.2395, -0.0375,  0.1785,  ..., -0.1310,  0.0538,  0.0393],\n",
      "        [-0.1689,  0.0452,  0.2069,  ...,  0.0506,  0.0034, -0.0652],\n",
      "        ...,\n",
      "        [-0.0242,  0.0032,  0.2078,  ..., -0.2000, -0.0352, -0.1477],\n",
      "        [-0.0033,  0.1915, -0.0444,  ..., -0.2951,  0.0834,  0.0392],\n",
      "        [-0.0087, -0.1903,  0.0613,  ..., -0.4084,  0.0516,  0.0381]],\n",
      "       device='cuda:0')\n",
      "tensor([[-0.0251,  0.2055,  0.2065,  ...,  0.3840,  0.1313, -0.0158],\n",
      "        [ 0.2394, -0.0376,  0.1787,  ..., -0.1310,  0.0543,  0.0392],\n",
      "        [-0.1687,  0.0452,  0.2066,  ...,  0.0508,  0.0034, -0.0653],\n",
      "        ...,\n",
      "        [-0.0241,  0.0034,  0.2079,  ..., -0.1997, -0.0354, -0.1477],\n",
      "        [-0.0034,  0.1912, -0.0439,  ..., -0.2953,  0.0831,  0.0391],\n",
      "        [-0.0089, -0.1903,  0.0616,  ..., -0.4080,  0.0515,  0.0381]],\n",
      "       device='cuda:0')\n",
      "tensor([[-0.0250,  0.2055,  0.2062,  ...,  0.3835,  0.1310, -0.0159],\n",
      "        [ 0.2393, -0.0378,  0.1790,  ..., -0.1308,  0.0547,  0.0391],\n",
      "        [-0.1686,  0.0451,  0.2064,  ...,  0.0511,  0.0033, -0.0654],\n",
      "        ...,\n",
      "        [-0.0240,  0.0036,  0.2079,  ..., -0.1992, -0.0356, -0.1477],\n",
      "        [-0.0035,  0.1907, -0.0435,  ..., -0.2956,  0.0828,  0.0391],\n",
      "        [-0.0090, -0.1903,  0.0617,  ..., -0.4076,  0.0515,  0.0382]],\n",
      "       device='cuda:0')\n",
      "tensor([[-0.0250,  0.2055,  0.2061,  ...,  0.3834,  0.1309, -0.0160],\n",
      "        [ 0.2393, -0.0378,  0.1791,  ..., -0.1308,  0.0548,  0.0391],\n",
      "        [-0.1685,  0.0451,  0.2063,  ...,  0.0511,  0.0032, -0.0654],\n",
      "        ...,\n",
      "        [-0.0240,  0.0037,  0.2079,  ..., -0.1991, -0.0356, -0.1477],\n",
      "        [-0.0035,  0.1906, -0.0434,  ..., -0.2956,  0.0827,  0.0391],\n",
      "        [-0.0091, -0.1903,  0.0617,  ..., -0.4074,  0.0515,  0.0382]],\n",
      "       device='cuda:0')\n",
      "tensor([[-0.0250,  0.2055,  0.2061,  ...,  0.3834,  0.1309, -0.0160],\n",
      "        [ 0.2393, -0.0378,  0.1791,  ..., -0.1308,  0.0548,  0.0391],\n",
      "        [-0.1685,  0.0451,  0.2063,  ...,  0.0511,  0.0032, -0.0654],\n",
      "        ...,\n",
      "        [-0.0240,  0.0037,  0.2079,  ..., -0.1991, -0.0356, -0.1477],\n",
      "        [-0.0035,  0.1906, -0.0434,  ..., -0.2956,  0.0827,  0.0391],\n",
      "        [-0.0091, -0.1903,  0.0617,  ..., -0.4074,  0.0515,  0.0382]],\n",
      "       device='cuda:0')\n",
      "tensor([[-0.0250,  0.2055,  0.2061,  ...,  0.3834,  0.1309, -0.0160],\n",
      "        [ 0.2393, -0.0378,  0.1791,  ..., -0.1308,  0.0548,  0.0391],\n",
      "        [-0.1685,  0.0451,  0.2063,  ...,  0.0511,  0.0032, -0.0654],\n",
      "        ...,\n",
      "        [-0.0240,  0.0037,  0.2079,  ..., -0.1991, -0.0356, -0.1477],\n",
      "        [-0.0035,  0.1906, -0.0434,  ..., -0.2956,  0.0827,  0.0391],\n",
      "        [-0.0091, -0.1903,  0.0617,  ..., -0.4074,  0.0515,  0.0382]],\n",
      "       device='cuda:0')\n",
      "tensor([[-0.0250,  0.2055,  0.2061,  ...,  0.3834,  0.1309, -0.0160],\n",
      "        [ 0.2393, -0.0378,  0.1791,  ..., -0.1308,  0.0548,  0.0391],\n",
      "        [-0.1685,  0.0451,  0.2063,  ...,  0.0511,  0.0032, -0.0654],\n",
      "        ...,\n",
      "        [-0.0240,  0.0037,  0.2079,  ..., -0.1991, -0.0356, -0.1477],\n",
      "        [-0.0035,  0.1906, -0.0434,  ..., -0.2956,  0.0827,  0.0391],\n",
      "        [-0.0091, -0.1903,  0.0617,  ..., -0.4074,  0.0515,  0.0382]],\n",
      "       device='cuda:0')\n",
      "tensor([[-0.0250,  0.2055,  0.2061,  ...,  0.3834,  0.1309, -0.0160],\n",
      "        [ 0.2393, -0.0378,  0.1791,  ..., -0.1308,  0.0548,  0.0391],\n",
      "        [-0.1685,  0.0451,  0.2063,  ...,  0.0511,  0.0032, -0.0654],\n",
      "        ...,\n",
      "        [-0.0240,  0.0037,  0.2079,  ..., -0.1991, -0.0356, -0.1477],\n",
      "        [-0.0035,  0.1906, -0.0434,  ..., -0.2956,  0.0827,  0.0391],\n",
      "        [-0.0091, -0.1903,  0.0617,  ..., -0.4074,  0.0515,  0.0382]],\n",
      "       device='cuda:0')\n",
      "tensor([[-0.0250,  0.2055,  0.2061,  ...,  0.3834,  0.1309, -0.0160],\n",
      "        [ 0.2393, -0.0378,  0.1791,  ..., -0.1308,  0.0548,  0.0391],\n",
      "        [-0.1685,  0.0451,  0.2063,  ...,  0.0511,  0.0032, -0.0654],\n",
      "        ...,\n",
      "        [-0.0240,  0.0037,  0.2079,  ..., -0.1991, -0.0356, -0.1477],\n",
      "        [-0.0035,  0.1906, -0.0434,  ..., -0.2956,  0.0827,  0.0391],\n",
      "        [-0.0091, -0.1903,  0.0617,  ..., -0.4074,  0.0515,  0.0382]],\n",
      "       device='cuda:0')\n",
      "tensor([[-0.0250,  0.2055,  0.2061,  ...,  0.3834,  0.1309, -0.0160],\n",
      "        [ 0.2393, -0.0378,  0.1791,  ..., -0.1308,  0.0548,  0.0391],\n",
      "        [-0.1685,  0.0451,  0.2063,  ...,  0.0511,  0.0032, -0.0654],\n",
      "        ...,\n",
      "        [-0.0240,  0.0037,  0.2079,  ..., -0.1991, -0.0356, -0.1477],\n",
      "        [-0.0035,  0.1906, -0.0434,  ..., -0.2956,  0.0827,  0.0391],\n",
      "        [-0.0091, -0.1903,  0.0617,  ..., -0.4074,  0.0515,  0.0382]],\n",
      "       device='cuda:0')\n",
      "tensor([[-0.0250,  0.2055,  0.2061,  ...,  0.3834,  0.1309, -0.0160],\n",
      "        [ 0.2393, -0.0378,  0.1791,  ..., -0.1308,  0.0548,  0.0391],\n",
      "        [-0.1685,  0.0451,  0.2063,  ...,  0.0511,  0.0032, -0.0654],\n",
      "        ...,\n",
      "        [-0.0240,  0.0037,  0.2079,  ..., -0.1991, -0.0356, -0.1477],\n",
      "        [-0.0035,  0.1906, -0.0434,  ..., -0.2956,  0.0827,  0.0391],\n",
      "        [-0.0091, -0.1903,  0.0617,  ..., -0.4074,  0.0515,  0.0382]],\n",
      "       device='cuda:0')\n",
      "tensor([[-0.0250,  0.2055,  0.2061,  ...,  0.3834,  0.1309, -0.0160],\n",
      "        [ 0.2393, -0.0378,  0.1791,  ..., -0.1308,  0.0548,  0.0391],\n",
      "        [-0.1685,  0.0451,  0.2063,  ...,  0.0511,  0.0032, -0.0654],\n",
      "        ...,\n",
      "        [-0.0240,  0.0037,  0.2079,  ..., -0.1991, -0.0356, -0.1477],\n",
      "        [-0.0035,  0.1906, -0.0434,  ..., -0.2956,  0.0827,  0.0391],\n",
      "        [-0.0091, -0.1903,  0.0617,  ..., -0.4074,  0.0515,  0.0382]],\n",
      "       device='cuda:0')\n",
      "tensor([[-0.0250,  0.2055,  0.2061,  ...,  0.3834,  0.1309, -0.0160],\n",
      "        [ 0.2393, -0.0378,  0.1791,  ..., -0.1308,  0.0548,  0.0391],\n",
      "        [-0.1685,  0.0451,  0.2063,  ...,  0.0511,  0.0032, -0.0654],\n",
      "        ...,\n",
      "        [-0.0240,  0.0037,  0.2079,  ..., -0.1991, -0.0356, -0.1477],\n",
      "        [-0.0035,  0.1906, -0.0434,  ..., -0.2956,  0.0827,  0.0391],\n",
      "        [-0.0091, -0.1903,  0.0617,  ..., -0.4074,  0.0515,  0.0382]],\n",
      "       device='cuda:0')\n",
      "tensor([[-0.0250,  0.2055,  0.2061,  ...,  0.3834,  0.1309, -0.0160],\n",
      "        [ 0.2393, -0.0378,  0.1791,  ..., -0.1308,  0.0548,  0.0391],\n",
      "        [-0.1685,  0.0451,  0.2063,  ...,  0.0511,  0.0032, -0.0654],\n",
      "        ...,\n",
      "        [-0.0240,  0.0037,  0.2079,  ..., -0.1991, -0.0356, -0.1477],\n",
      "        [-0.0035,  0.1906, -0.0434,  ..., -0.2956,  0.0827,  0.0391],\n",
      "        [-0.0091, -0.1903,  0.0617,  ..., -0.4074,  0.0515,  0.0382]],\n",
      "       device='cuda:0')\n",
      "tensor([[-0.0250,  0.2055,  0.2061,  ...,  0.3834,  0.1309, -0.0160],\n",
      "        [ 0.2393, -0.0378,  0.1791,  ..., -0.1308,  0.0548,  0.0391],\n",
      "        [-0.1685,  0.0451,  0.2063,  ...,  0.0511,  0.0032, -0.0654],\n",
      "        ...,\n",
      "        [-0.0240,  0.0037,  0.2079,  ..., -0.1991, -0.0356, -0.1477],\n",
      "        [-0.0035,  0.1906, -0.0434,  ..., -0.2956,  0.0827,  0.0391],\n",
      "        [-0.0091, -0.1903,  0.0617,  ..., -0.4074,  0.0515,  0.0382]],\n",
      "       device='cuda:0')\n",
      "tensor([[-0.0250,  0.2055,  0.2061,  ...,  0.3834,  0.1309, -0.0160],\n",
      "        [ 0.2393, -0.0378,  0.1791,  ..., -0.1308,  0.0548,  0.0391],\n",
      "        [-0.1685,  0.0451,  0.2063,  ...,  0.0511,  0.0032, -0.0654],\n",
      "        ...,\n",
      "        [-0.0240,  0.0037,  0.2079,  ..., -0.1991, -0.0356, -0.1477],\n",
      "        [-0.0035,  0.1906, -0.0434,  ..., -0.2956,  0.0827,  0.0391],\n",
      "        [-0.0091, -0.1903,  0.0617,  ..., -0.4074,  0.0515,  0.0382]],\n",
      "       device='cuda:0')\n",
      "tensor([[-0.0250,  0.2055,  0.2061,  ...,  0.3834,  0.1309, -0.0160],\n",
      "        [ 0.2393, -0.0378,  0.1791,  ..., -0.1308,  0.0548,  0.0391],\n",
      "        [-0.1685,  0.0451,  0.2063,  ...,  0.0511,  0.0032, -0.0654],\n",
      "        ...,\n",
      "        [-0.0240,  0.0037,  0.2079,  ..., -0.1991, -0.0356, -0.1477],\n",
      "        [-0.0035,  0.1906, -0.0434,  ..., -0.2956,  0.0827,  0.0391],\n",
      "        [-0.0091, -0.1903,  0.0617,  ..., -0.4074,  0.0515,  0.0382]],\n",
      "       device='cuda:0')\n",
      "tensor([[-0.0250,  0.2055,  0.2061,  ...,  0.3834,  0.1309, -0.0160],\n",
      "        [ 0.2393, -0.0378,  0.1791,  ..., -0.1308,  0.0548,  0.0391],\n",
      "        [-0.1685,  0.0451,  0.2063,  ...,  0.0511,  0.0032, -0.0654],\n",
      "        ...,\n",
      "        [-0.0240,  0.0037,  0.2079,  ..., -0.1991, -0.0356, -0.1477],\n",
      "        [-0.0035,  0.1906, -0.0434,  ..., -0.2956,  0.0827,  0.0391],\n",
      "        [-0.0091, -0.1903,  0.0617,  ..., -0.4074,  0.0515,  0.0382]],\n",
      "       device='cuda:0')\n",
      "tensor([[-0.0250,  0.2055,  0.2061,  ...,  0.3834,  0.1309, -0.0160],\n",
      "        [ 0.2393, -0.0378,  0.1791,  ..., -0.1308,  0.0548,  0.0391],\n",
      "        [-0.1685,  0.0451,  0.2063,  ...,  0.0511,  0.0032, -0.0654],\n",
      "        ...,\n",
      "        [-0.0240,  0.0037,  0.2079,  ..., -0.1991, -0.0356, -0.1477],\n",
      "        [-0.0035,  0.1906, -0.0434,  ..., -0.2956,  0.0827,  0.0391],\n",
      "        [-0.0091, -0.1903,  0.0617,  ..., -0.4074,  0.0515,  0.0382]],\n",
      "       device='cuda:0')\n",
      "tensor([[-0.0250,  0.2055,  0.2061,  ...,  0.3834,  0.1309, -0.0160],\n",
      "        [ 0.2393, -0.0378,  0.1791,  ..., -0.1308,  0.0548,  0.0391],\n",
      "        [-0.1685,  0.0451,  0.2063,  ...,  0.0511,  0.0032, -0.0654],\n",
      "        ...,\n",
      "        [-0.0240,  0.0037,  0.2079,  ..., -0.1991, -0.0356, -0.1477],\n",
      "        [-0.0035,  0.1906, -0.0434,  ..., -0.2956,  0.0827,  0.0391],\n",
      "        [-0.0091, -0.1903,  0.0617,  ..., -0.4074,  0.0515,  0.0382]],\n",
      "       device='cuda:0')\n",
      "tensor([[-0.0250,  0.2055,  0.2061,  ...,  0.3834,  0.1309, -0.0160],\n",
      "        [ 0.2393, -0.0378,  0.1791,  ..., -0.1308,  0.0548,  0.0391],\n",
      "        [-0.1685,  0.0451,  0.2063,  ...,  0.0511,  0.0032, -0.0654],\n",
      "        ...,\n",
      "        [-0.0240,  0.0037,  0.2079,  ..., -0.1991, -0.0356, -0.1477],\n",
      "        [-0.0035,  0.1906, -0.0434,  ..., -0.2956,  0.0827,  0.0391],\n",
      "        [-0.0091, -0.1903,  0.0617,  ..., -0.4074,  0.0515,  0.0382]],\n",
      "       device='cuda:0')\n",
      "tensor([[-0.0250,  0.2055,  0.2061,  ...,  0.3834,  0.1309, -0.0160],\n",
      "        [ 0.2393, -0.0378,  0.1791,  ..., -0.1308,  0.0548,  0.0391],\n",
      "        [-0.1685,  0.0451,  0.2063,  ...,  0.0511,  0.0032, -0.0654],\n",
      "        ...,\n",
      "        [-0.0240,  0.0037,  0.2079,  ..., -0.1991, -0.0356, -0.1477],\n",
      "        [-0.0035,  0.1906, -0.0434,  ..., -0.2956,  0.0827,  0.0391],\n",
      "        [-0.0091, -0.1903,  0.0617,  ..., -0.4074,  0.0515,  0.0382]],\n",
      "       device='cuda:0')\n",
      "tensor([[-0.0250,  0.2055,  0.2061,  ...,  0.3834,  0.1309, -0.0160],\n",
      "        [ 0.2393, -0.0378,  0.1791,  ..., -0.1308,  0.0548,  0.0391],\n",
      "        [-0.1685,  0.0451,  0.2063,  ...,  0.0511,  0.0032, -0.0654],\n",
      "        ...,\n",
      "        [-0.0240,  0.0037,  0.2079,  ..., -0.1991, -0.0356, -0.1477],\n",
      "        [-0.0035,  0.1906, -0.0434,  ..., -0.2956,  0.0827,  0.0391],\n",
      "        [-0.0091, -0.1903,  0.0617,  ..., -0.4074,  0.0515,  0.0382]],\n",
      "       device='cuda:0')\n",
      "tensor([[-0.0250,  0.2055,  0.2061,  ...,  0.3834,  0.1309, -0.0160],\n",
      "        [ 0.2393, -0.0378,  0.1791,  ..., -0.1308,  0.0548,  0.0391],\n",
      "        [-0.1685,  0.0451,  0.2063,  ...,  0.0511,  0.0032, -0.0654],\n",
      "        ...,\n",
      "        [-0.0240,  0.0037,  0.2079,  ..., -0.1991, -0.0356, -0.1477],\n",
      "        [-0.0035,  0.1906, -0.0434,  ..., -0.2956,  0.0827,  0.0391],\n",
      "        [-0.0091, -0.1903,  0.0617,  ..., -0.4074,  0.0515,  0.0382]],\n",
      "       device='cuda:0')\n",
      "tensor([[-0.0250,  0.2055,  0.2061,  ...,  0.3834,  0.1309, -0.0160],\n",
      "        [ 0.2393, -0.0378,  0.1791,  ..., -0.1308,  0.0548,  0.0391],\n",
      "        [-0.1685,  0.0451,  0.2063,  ...,  0.0511,  0.0032, -0.0654],\n",
      "        ...,\n",
      "        [-0.0240,  0.0037,  0.2079,  ..., -0.1991, -0.0356, -0.1477],\n",
      "        [-0.0035,  0.1906, -0.0434,  ..., -0.2956,  0.0827,  0.0391],\n",
      "        [-0.0091, -0.1903,  0.0617,  ..., -0.4074,  0.0515,  0.0382]],\n",
      "       device='cuda:0')\n",
      "tensor([[-0.0250,  0.2055,  0.2061,  ...,  0.3834,  0.1309, -0.0160],\n",
      "        [ 0.2393, -0.0378,  0.1791,  ..., -0.1308,  0.0548,  0.0391],\n",
      "        [-0.1685,  0.0451,  0.2063,  ...,  0.0511,  0.0032, -0.0654],\n",
      "        ...,\n",
      "        [-0.0240,  0.0037,  0.2079,  ..., -0.1991, -0.0356, -0.1477],\n",
      "        [-0.0035,  0.1906, -0.0434,  ..., -0.2956,  0.0827,  0.0391],\n",
      "        [-0.0091, -0.1903,  0.0617,  ..., -0.4074,  0.0515,  0.0382]],\n",
      "       device='cuda:0')\n",
      "tensor([[-0.0250,  0.2055,  0.2061,  ...,  0.3834,  0.1309, -0.0160],\n",
      "        [ 0.2393, -0.0378,  0.1791,  ..., -0.1308,  0.0548,  0.0391],\n",
      "        [-0.1685,  0.0451,  0.2063,  ...,  0.0511,  0.0032, -0.0654],\n",
      "        ...,\n",
      "        [-0.0240,  0.0037,  0.2079,  ..., -0.1991, -0.0356, -0.1477],\n",
      "        [-0.0035,  0.1906, -0.0434,  ..., -0.2956,  0.0827,  0.0391],\n",
      "        [-0.0091, -0.1903,  0.0617,  ..., -0.4074,  0.0515,  0.0382]],\n",
      "       device='cuda:0')\n",
      "tensor([[-0.0250,  0.2055,  0.2061,  ...,  0.3834,  0.1309, -0.0160],\n",
      "        [ 0.2393, -0.0378,  0.1791,  ..., -0.1308,  0.0548,  0.0391],\n",
      "        [-0.1685,  0.0451,  0.2063,  ...,  0.0511,  0.0032, -0.0654],\n",
      "        ...,\n",
      "        [-0.0240,  0.0037,  0.2079,  ..., -0.1991, -0.0356, -0.1477],\n",
      "        [-0.0035,  0.1906, -0.0434,  ..., -0.2956,  0.0827,  0.0391],\n",
      "        [-0.0091, -0.1903,  0.0617,  ..., -0.4074,  0.0515,  0.0382]],\n",
      "       device='cuda:0')\n",
      "tensor([[-0.0250,  0.2055,  0.2061,  ...,  0.3834,  0.1309, -0.0160],\n",
      "        [ 0.2393, -0.0378,  0.1791,  ..., -0.1308,  0.0548,  0.0391],\n",
      "        [-0.1685,  0.0451,  0.2063,  ...,  0.0511,  0.0032, -0.0654],\n",
      "        ...,\n",
      "        [-0.0240,  0.0037,  0.2079,  ..., -0.1991, -0.0356, -0.1477],\n",
      "        [-0.0035,  0.1906, -0.0434,  ..., -0.2956,  0.0827,  0.0391],\n",
      "        [-0.0091, -0.1903,  0.0617,  ..., -0.4074,  0.0515,  0.0382]],\n",
      "       device='cuda:0')\n",
      "tensor([[-0.0250,  0.2055,  0.2061,  ...,  0.3834,  0.1309, -0.0160],\n",
      "        [ 0.2393, -0.0378,  0.1791,  ..., -0.1308,  0.0548,  0.0391],\n",
      "        [-0.1685,  0.0451,  0.2063,  ...,  0.0511,  0.0032, -0.0654],\n",
      "        ...,\n",
      "        [-0.0240,  0.0037,  0.2079,  ..., -0.1991, -0.0356, -0.1477],\n",
      "        [-0.0035,  0.1906, -0.0434,  ..., -0.2956,  0.0827,  0.0391],\n",
      "        [-0.0091, -0.1903,  0.0617,  ..., -0.4074,  0.0515,  0.0382]],\n",
      "       device='cuda:0')\n"
     ]
    }
   ],
   "source": [
    "estimator.generative_model = estimator.generative_model.to(\"cuda\")\n",
    "with torch.no_grad():\n",
    "    X_gen = estimator.generative_model.generate(batch_size=1000, \n",
    "                                         y=torch.zeros(1000,3), \n",
    "               \n",
    "                                                z_t=None, \n",
    "                                         T=500)"
   ]
  },
  {
   "cell_type": "code",
   "execution_count": 9,
   "id": "83689e49",
   "metadata": {},
   "outputs": [
    {
     "name": "stderr",
     "output_type": "stream",
     "text": [
      "/nfs/staff-ssd/pala/envs/celldreamer/lib/python3.10/site-packages/umap/distances.py:1063: NumbaDeprecationWarning: \u001b[1mThe 'nopython' keyword argument was not supplied to the 'numba.jit' decorator. The implicit default value for this argument is currently False, but it will be changed to True in Numba 0.59.0. See https://numba.readthedocs.io/en/stable/reference/deprecation.html#deprecation-of-object-mode-fall-back-behaviour-when-using-jit for details.\u001b[0m\n",
      "  @numba.jit()\n",
      "/nfs/staff-ssd/pala/envs/celldreamer/lib/python3.10/site-packages/umap/distances.py:1071: NumbaDeprecationWarning: \u001b[1mThe 'nopython' keyword argument was not supplied to the 'numba.jit' decorator. The implicit default value for this argument is currently False, but it will be changed to True in Numba 0.59.0. See https://numba.readthedocs.io/en/stable/reference/deprecation.html#deprecation-of-object-mode-fall-back-behaviour-when-using-jit for details.\u001b[0m\n",
      "  @numba.jit()\n",
      "/nfs/staff-ssd/pala/envs/celldreamer/lib/python3.10/site-packages/umap/distances.py:1086: NumbaDeprecationWarning: \u001b[1mThe 'nopython' keyword argument was not supplied to the 'numba.jit' decorator. The implicit default value for this argument is currently False, but it will be changed to True in Numba 0.59.0. See https://numba.readthedocs.io/en/stable/reference/deprecation.html#deprecation-of-object-mode-fall-back-behaviour-when-using-jit for details.\u001b[0m\n",
      "  @numba.jit()\n",
      "/nfs/staff-ssd/pala/envs/celldreamer/lib/python3.10/site-packages/umap/umap_.py:660: NumbaDeprecationWarning: \u001b[1mThe 'nopython' keyword argument was not supplied to the 'numba.jit' decorator. The implicit default value for this argument is currently False, but it will be changed to True in Numba 0.59.0. See https://numba.readthedocs.io/en/stable/reference/deprecation.html#deprecation-of-object-mode-fall-back-behaviour-when-using-jit for details.\u001b[0m\n",
      "  @numba.jit()\n"
     ]
    }
   ],
   "source": [
    "adata_tmp = sc.AnnData(X=X_gen.cpu().numpy())\n",
    "sc.tl.pca(adata_tmp)\n",
    "sc.pp.neighbors(adata_tmp)\n",
    "sc.tl.umap(adata_tmp)"
   ]
  },
  {
   "cell_type": "code",
   "execution_count": 10,
   "id": "8e16e2e0",
   "metadata": {},
   "outputs": [
    {
     "name": "stderr",
     "output_type": "stream",
     "text": [
      "/nfs/staff-ssd/pala/envs/celldreamer/lib/python3.10/site-packages/scanpy/plotting/_tools/scatterplots.py:392: UserWarning: No data for colormapping provided via 'c'. Parameters 'cmap', 'norm' will be ignored\n",
      "  cax = scatter(\n"
     ]
    },
    {
     "data": {
      "image/png": "[encoded data removed]",
      "text/plain": [
       "<Figure size 640x480 with 1 Axes>"
      ]
     },
     "metadata": {},
     "output_type": "display_data"
    }
   ],
   "source": [
    "sc.pl.umap(adata_tmp)"
   ]
  },
  {
   "cell_type": "code",
   "execution_count": 11,
   "id": "03870437",
   "metadata": {},
   "outputs": [
    {
     "data": {
      "text/plain": [
       "tensor([[ -5.6531,  34.6034, -44.2887,  ..., -12.4306, -12.1085,   1.7959],\n",
       "        [  7.8269,   6.1325,   7.0421,  ...,  -6.2797,   7.7877, -18.5917],\n",
       "        [-30.5165,  -0.3947, -35.0782,  ...,   8.6900,  -8.9583, -30.8193],\n",
       "        ...,\n",
       "        [  4.4479,  12.4129,  18.5209,  ...,  13.2422,  25.5495, -33.6635],\n",
       "        [ -9.4108, -30.5183,  19.5596,  ...,  13.6449,  45.9368,  28.8677],\n",
       "        [-21.0019,  12.2500,  46.1729,  ...,  -2.4137,  -6.1193,  11.8197]],\n",
       "       device='cuda:0')"
      ]
     },
     "execution_count": 11,
     "metadata": {},
     "output_type": "execute_result"
    }
   ],
   "source": [
    "X_gen"
   ]
  },
  {
   "cell_type": "code",
   "execution_count": null,
   "id": "94ed5238",
   "metadata": {},
   "outputs": [],
   "source": []
  }
 ],
 "metadata": {
  "kernelspec": {
   "display_name": "Python 3 (ipykernel)",
   "language": "python",
   "name": "python3"
  },
  "language_info": {
   "codemirror_mode": {
    "name": "ipython",
    "version": 3
   },
   "file_extension": ".py",
   "mimetype": "text/x-python",
   "name": "python",
   "nbconvert_exporter": "python",
   "pygments_lexer": "ipython3",
   "version": "3.10.11"
  }
 },
 "nbformat": 4,
 "nbformat_minor": 5
}
