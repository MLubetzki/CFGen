{
 "cells": [
  {
   "cell_type": "markdown",
   "id": "e05ea3f3",
   "metadata": {},
   "source": [
    "# Test the estimator class "
   ]
  },
  {
   "cell_type": "code",
   "execution_count": 1,
   "id": "b531e762",
   "metadata": {},
   "outputs": [],
   "source": [
    "import os\n",
    "import scanpy as sc\n",
    "import numpy as np\n",
    "import pandas as pd\n",
    "import torch\n",
    "from celldreamer.estimator.celldreamer_estimator import CellDreamerEstimator\n",
    "from celldreamer.paths import DATA_DIR\n",
    "from celldreamer.data.utils import Args\n",
    "\n",
    "from pytorch_lightning.callbacks import ModelCheckpoint, LearningRateMonitor, TQDMProgressBar\n",
    "from pytorch_lightning.loggers import TensorBoardLogger\n",
    "from pytorch_lightning.utilities.model_summary import ModelSummary"
   ]
  },
  {
   "cell_type": "markdown",
   "id": "1c1b9127",
   "metadata": {},
   "source": [
    "Initialize the ```args``` dict and the estimator class"
   ]
  },
  {
   "cell_type": "code",
   "execution_count": 2,
   "id": "caf2462d",
   "metadata": {},
   "outputs": [],
   "source": [
    "args_pert = Args(\n",
    "                   {   \n",
    "                    #General \n",
    "                    \"train\": True, \n",
    "                    \"experiment_name\": \"try_experiment\",\n",
    "                    \"task\": \"perturbation_modelling\",\n",
    "                    \"dataset_path\": 'sciplex/sciplex_complete_middle_subset.h5ad',\n",
    "                    \"batch_size\": 256,\n",
    "                    \"resume\": False,\n",
    "                    \"train_autoencoder\": False, \n",
    "                    \"use_latent_repr\": False,\n",
    "                    \"pretrained_autoencoder\": False, \n",
    "                    \"checkpoint_autoencoder\": None,\n",
    "                    \"pretrained_generative\":False,\n",
    "                    \"checkpoint_generative\": True, \n",
    "                       \n",
    "                    # Perturbation setting specific\n",
    "                    \"perturbation_key\": \"condition\",\n",
    "                    \"dose_key\": \"dose\",\n",
    "                    \"covariate_keys\": \"cell_type\",\n",
    "                    \"smile_keys\": \"SMILES\",\n",
    "                    \"degs_key\": \"lincs_DEGs\",\n",
    "                    \"pert_category\": \"cov_drug_dose_name\",\n",
    "                    \"split_key\": \"split_ho_pathway\", \n",
    "                    \"use_drugs\":False,\n",
    "                    \"feature_type\": \"rdkit\",\n",
    "                    \"freeze_embeddings\": True,\n",
    "                    \"doser_width\": 128,\n",
    "                    \"doser_depth\": 3,\n",
    "                    \"embedding_dimensions\": 100,\n",
    "                    \"one_hot_encode_features\": True,\n",
    "                     \n",
    "                    # General model \n",
    "                    \"generative_model\": \"diffusion\", \n",
    "                    \"denoising_model\": \"mlp\",\n",
    "                    \n",
    "                    # Autoencoder \n",
    "                    \"autoencoder_kwargs\": None,\n",
    "                       \n",
    "                    # Checkpoint kwargs \n",
    "                    \"checkpoint_kwargs\": \n",
    "                        {\"filename\": \"epoch_{epoch:01d}\",\n",
    "                          \"monitor\": \"loss/valid_loss\", \n",
    "                          \"mode\": \"min\", \n",
    "                          \"save_last\": True,\n",
    "                          \"auto_insert_metric_name\": False\n",
    "                        }, \n",
    "                       \n",
    "                    # Early stopping kwargs \n",
    "                    \"early_stopping_kwargs\": \n",
    "                        {\"monitor\": \"loss/valid_loss\",\n",
    "                          \"patience\": 20,\n",
    "                          \"mode\": \"min\",\n",
    "                          \"min_delta\": 0.,\n",
    "                          \"verbose\": False,\n",
    "                          \"strict\": True, \n",
    "                          \"check_finite\": True, \n",
    "                          \"stopping_threshold\": None,\n",
    "                          \"divergence_threshold\": None,\n",
    "                          \"check_on_train_epoch_end\": None},    \n",
    "                    \n",
    "                    # Logger kwargs\n",
    "                    \"logger_kwargs\": \n",
    "                        {\"offline\": False,\n",
    "                          \"id\": None ,\n",
    "                          \"anonymous\": None ,\n",
    "                          \"project\": \"celldreamer\",\n",
    "                          \"log_model\": False ,\n",
    "                          \"prefix\": \"\", \n",
    "                          \"tags\": [],\n",
    "                          \"job_type\": \"\",\n",
    "                        },   \n",
    "                       \n",
    "                    # Denoising model specific \n",
    "                    \"denoising_module_kwargs\": \n",
    "                        {\n",
    "                         \"dims\":  [64],\n",
    "                         \"time_embed_size\": 128, \n",
    "                         \"class_emb_size\": 10,\n",
    "                         \"dropout\": 0.0,\n",
    "                         \"encode_class\": False\n",
    "                        }, \n",
    "                    \n",
    "                    # Diffusion model specific\n",
    "                    \"generative_model_kwargs\": \n",
    "                        {\n",
    "                         \"T\": 1000, \n",
    "                         \"w\": 0.3, \n",
    "                         \"p_uncond\": 0.2, \n",
    "                         \"classifier_free\": False, \n",
    "                         \"learning_rate\": 0.0001, \n",
    "                         \"weight_decay\": 0.0001\n",
    "                        },\n",
    "                    \n",
    "                    # Autoencoder trainer hparams\n",
    "                    \"trainer_kwargs\": {\n",
    "                        \"max_epochs\": 100,\n",
    "                        \"gradient_clip_val\": 1.,\n",
    "                        \"gradient_clip_algorithm\": \"norm\",\n",
    "                        \"accelerator\": 'gpu',\n",
    "                        \"devices\": 1,\n",
    "                        \"check_val_every_n_epoch\": 1,\n",
    "                        \"log_every_n_steps\": 1,\n",
    "                        \"detect_anomaly\": False,\n",
    "                        \"deterministic\": False},      \n",
    "                 })"
   ]
  },
  {
   "cell_type": "markdown",
   "id": "3cd5511c",
   "metadata": {},
   "source": [
    "Initialize the cell estimator "
   ]
  },
  {
   "cell_type": "code",
   "execution_count": 3,
   "id": "426560c0",
   "metadata": {
    "scrolled": true
   },
   "outputs": [
    {
     "name": "stdout",
     "output_type": "stream",
     "text": [
      "Create the training folders...\n",
      "Initialize data module...\n"
     ]
    },
    {
     "name": "stderr",
     "output_type": "stream",
     "text": [
      "/nfs/homedirs/pala/miniconda3/envs/celldreamer/lib/python3.10/site-packages/sklearn/preprocessing/_encoders.py:868: FutureWarning: `sparse` was renamed to `sparse_output` in version 1.2 and will be removed in 1.4. `sparse_output` is ignored unless you leave `sparse` to its default value.\n",
      "  warnings.warn(\n",
      "/nfs/homedirs/pala/miniconda3/envs/celldreamer/lib/python3.10/site-packages/torch/utils/data/dataloader.py:554: UserWarning: This DataLoader will create 8 worker processes in total. Our suggested max number of worker in current system is 2, which is smaller than what this DataLoader is going to create. Please be aware that excessive worker creation might get DataLoader running slow or even freeze, lower the worker number to avoid potential slowness/freeze if necessary.\n",
      "  warnings.warn(_create_warning_msg(\n",
      "ERROR:wandb.jupyter:Failed to detect the name of this notebook, you can set it manually with the WANDB_NOTEBOOK_NAME environment variable to enable code saving.\n",
      "\u001b[34m\u001b[1mwandb\u001b[0m: Currently logged in as: \u001b[33mallepalma\u001b[0m. Use \u001b[1m`wandb login --relogin`\u001b[0m to force relogin\n",
      "\u001b[34m\u001b[1mwandb\u001b[0m: \u001b[33mWARNING\u001b[0m Path /nfs/students/pala/celldreamer/try_experiment/logs/wandb/ wasn't writable, using system temp directory.\n",
      "wandb: WARNING Path /nfs/students/pala/celldreamer/try_experiment/logs/wandb/ wasn't writable, using system temp directory\n"
     ]
    },
    {
     "data": {
      "text/html": [
       "Tracking run with wandb version 0.15.3"
      ],
      "text/plain": [
       "<IPython.core.display.HTML object>"
      ]
     },
     "metadata": {},
     "output_type": "display_data"
    },
    {
     "data": {
      "text/html": [
       "Run data is saved locally in <code>/tmp/wandb/run-20230604_183735-34konj0w</code>"
      ],
      "text/plain": [
       "<IPython.core.display.HTML object>"
      ]
     },
     "metadata": {},
     "output_type": "display_data"
    },
    {
     "data": {
      "text/html": [
       "Syncing run <strong><a href='https://wandb.ai/allepalma/celldreamer/runs/34konj0w' target=\"_blank\">leafy-smoke-22</a></strong> to <a href='https://wandb.ai/allepalma/celldreamer' target=\"_blank\">Weights & Biases</a> (<a href='https://wandb.me/run' target=\"_blank\">docs</a>)<br/>"
      ],
      "text/plain": [
       "<IPython.core.display.HTML object>"
      ]
     },
     "metadata": {},
     "output_type": "display_data"
    },
    {
     "data": {
      "text/html": [
       " View project at <a href='https://wandb.ai/allepalma/celldreamer' target=\"_blank\">https://wandb.ai/allepalma/celldreamer</a>"
      ],
      "text/plain": [
       "<IPython.core.display.HTML object>"
      ]
     },
     "metadata": {},
     "output_type": "display_data"
    },
    {
     "data": {
      "text/html": [
       " View run at <a href='https://wandb.ai/allepalma/celldreamer/runs/34konj0w' target=\"_blank\">https://wandb.ai/allepalma/celldreamer/runs/34konj0w</a>"
      ],
      "text/plain": [
       "<IPython.core.display.HTML object>"
      ]
     },
     "metadata": {},
     "output_type": "display_data"
    },
    {
     "name": "stderr",
     "output_type": "stream",
     "text": [
      "/nfs/homedirs/pala/miniconda3/envs/celldreamer/lib/python3.10/site-packages/lightning_fabric/plugins/environments/slurm.py:165: PossibleUserWarning: The `srun` command is available on your system but is not used. HINT: If your intention is to run Lightning on SLURM, prepend your python command with `srun` like so: srun python /nfs/homedirs/pala/miniconda3/envs/celldreamer/lib/p ...\n",
      "  rank_zero_warn(\n",
      "GPU available: True (cuda), used: True\n",
      "TPU available: False, using: 0 TPU cores\n",
      "IPU available: False, using: 0 IPUs\n",
      "HPU available: False, using: 0 HPUs\n"
     ]
    },
    {
     "name": "stdout",
     "output_type": "stream",
     "text": [
      "Initialize feature embeddings...\n",
      "Initialize model...\n"
     ]
    }
   ],
   "source": [
    "estimator = CellDreamerEstimator(args_pert)"
   ]
  },
  {
   "cell_type": "markdown",
   "id": "b07f64b4",
   "metadata": {},
   "source": [
    "Check training batches "
   ]
  },
  {
   "cell_type": "code",
   "execution_count": 4,
   "id": "fce1bb6d",
   "metadata": {
    "scrolled": true
   },
   "outputs": [
    {
     "data": {
      "text/plain": [
       "ConditionalGaussianDDPM(\n",
       "  (denoising_model): MLPTimeStep(\n",
       "    (encoder): ModuleList(\n",
       "      (0): MLPTimeEmbedCond(\n",
       "        (linear_map_class): Identity()\n",
       "        (l_embedding): Sequential(\n",
       "          (0): GELU(approximate='none')\n",
       "          (1): Linear(in_features=128, out_features=64, bias=True)\n",
       "        )\n",
       "        (net): Sequential(\n",
       "          (0): Linear(in_features=2003, out_features=64, bias=True)\n",
       "          (1): GELU(approximate='none')\n",
       "          (2): Linear(in_features=64, out_features=64, bias=True)\n",
       "        )\n",
       "        (relu): ReLU()\n",
       "        (out_layer): Sequential(\n",
       "          (0): GELU(approximate='none')\n",
       "          (1): Dropout(p=0.0, inplace=False)\n",
       "          (2): Linear(in_features=64, out_features=64, bias=True)\n",
       "        )\n",
       "        (skip_connection): Sequential(\n",
       "          (0): Linear(in_features=2003, out_features=64, bias=True)\n",
       "          (1): GELU(approximate='none')\n",
       "          (2): Linear(in_features=64, out_features=64, bias=True)\n",
       "        )\n",
       "      )\n",
       "    )\n",
       "    (middle_block): MLPTimeEmbedCond(\n",
       "      (linear_map_class): Identity()\n",
       "      (l_embedding): Sequential(\n",
       "        (0): GELU(approximate='none')\n",
       "        (1): Linear(in_features=128, out_features=64, bias=True)\n",
       "      )\n",
       "      (net): Sequential(\n",
       "        (0): Linear(in_features=67, out_features=64, bias=True)\n",
       "        (1): GELU(approximate='none')\n",
       "        (2): Linear(in_features=64, out_features=64, bias=True)\n",
       "      )\n",
       "      (relu): ReLU()\n",
       "      (out_layer): Sequential(\n",
       "        (0): GELU(approximate='none')\n",
       "        (1): Dropout(p=0.0, inplace=False)\n",
       "        (2): Linear(in_features=64, out_features=64, bias=True)\n",
       "      )\n",
       "      (skip_connection): Sequential(\n",
       "        (0): Linear(in_features=67, out_features=64, bias=True)\n",
       "        (1): GELU(approximate='none')\n",
       "        (2): Linear(in_features=64, out_features=64, bias=True)\n",
       "      )\n",
       "    )\n",
       "    (decoder): ModuleList(\n",
       "      (0): MLPTimeEmbedCond(\n",
       "        (linear_map_class): Identity()\n",
       "        (l_embedding): Sequential(\n",
       "          (0): GELU(approximate='none')\n",
       "          (1): Linear(in_features=128, out_features=2000, bias=True)\n",
       "        )\n",
       "        (net): Sequential(\n",
       "          (0): Linear(in_features=67, out_features=2000, bias=True)\n",
       "          (1): GELU(approximate='none')\n",
       "          (2): Linear(in_features=2000, out_features=2000, bias=True)\n",
       "        )\n",
       "        (relu): ReLU()\n",
       "        (out_layer): Sequential(\n",
       "          (0): GELU(approximate='none')\n",
       "          (1): Dropout(p=0.0, inplace=False)\n",
       "          (2): Linear(in_features=2000, out_features=2000, bias=True)\n",
       "        )\n",
       "        (skip_connection): Sequential(\n",
       "          (0): Linear(in_features=67, out_features=2000, bias=True)\n",
       "          (1): GELU(approximate='none')\n",
       "          (2): Linear(in_features=2000, out_features=2000, bias=True)\n",
       "        )\n",
       "      )\n",
       "    )\n",
       "    (time_embed): Sequential(\n",
       "      (0): Linear(in_features=128, out_features=128, bias=True)\n",
       "      (1): SiLU()\n",
       "      (2): Linear(in_features=128, out_features=128, bias=True)\n",
       "    )\n",
       "    (dropout): Dropout(p=0.0, inplace=False)\n",
       "  )\n",
       "  (mse): MSELoss()\n",
       ")"
      ]
     },
     "execution_count": 4,
     "metadata": {},
     "output_type": "execute_result"
    }
   ],
   "source": [
    "estimator.generative_model"
   ]
  },
  {
   "cell_type": "code",
   "execution_count": 5,
   "id": "1436c515",
   "metadata": {
    "scrolled": true
   },
   "outputs": [
    {
     "name": "stderr",
     "output_type": "stream",
     "text": [
      "/nfs/homedirs/pala/miniconda3/envs/celldreamer/lib/python3.10/site-packages/pytorch_lightning/callbacks/model_checkpoint.py:612: UserWarning: Checkpoint directory /nfs/students/pala/celldreamer/try_experiment/checkpoints exists and is not empty.\n",
      "  rank_zero_warn(f\"Checkpoint directory {dirpath} exists and is not empty.\")\n",
      "LOCAL_RANK: 0 - CUDA_VISIBLE_DEVICES: [0]\n",
      "\n",
      "  | Name            | Type        | Params\n",
      "------------------------------------------------\n",
      "0 | denoising_model | MLPTimeStep | 12.9 M\n",
      "1 | mse             | MSELoss     | 0     \n",
      "------------------------------------------------\n",
      "12.9 M    Trainable params\n",
      "0         Non-trainable params\n",
      "12.9 M    Total params\n",
      "51.503    Total estimated model params size (MB)\n"
     ]
    },
    {
     "data": {
      "application/vnd.jupyter.widget-view+json": {
       "model_id": "",
       "version_major": 2,
       "version_minor": 0
      },
      "text/plain": [
       "Sanity Checking: 0it [00:00, ?it/s]"
      ]
     },
     "metadata": {},
     "output_type": "display_data"
    },
    {
     "name": "stderr",
     "output_type": "stream",
     "text": [
      "/nfs/homedirs/pala/miniconda3/envs/celldreamer/lib/python3.10/site-packages/torch/utils/data/dataloader.py:554: UserWarning: This DataLoader will create 8 worker processes in total. Our suggested max number of worker in current system is 2, which is smaller than what this DataLoader is going to create. Please be aware that excessive worker creation might get DataLoader running slow or even freeze, lower the worker number to avoid potential slowness/freeze if necessary.\n",
      "  warnings.warn(_create_warning_msg(\n"
     ]
    },
    {
     "data": {
      "application/vnd.jupyter.widget-view+json": {
       "model_id": "90b159717e5f40c4bca2e3f1086aa2d0",
       "version_major": 2,
       "version_minor": 0
      },
      "text/plain": [
       "Training: 0it [00:00, ?it/s]"
      ]
     },
     "metadata": {},
     "output_type": "display_data"
    },
    {
     "data": {
      "application/vnd.jupyter.widget-view+json": {
       "model_id": "c5375f7d9cec464fbe34fb66f7e8eef4",
       "version_major": 2,
       "version_minor": 0
      },
      "text/plain": [
       "Validation: 0it [00:00, ?it/s]"
      ]
     },
     "metadata": {},
     "output_type": "display_data"
    }
   ],
   "source": [
    "estimator.train()"
   ]
  },
  {
   "cell_type": "code",
   "execution_count": null,
   "id": "31a56a95",
   "metadata": {},
   "outputs": [],
   "source": []
  }
 ],
 "metadata": {
  "kernelspec": {
   "display_name": "PerturbSeq_CMV",
   "language": "python",
   "name": "python3"
  },
  "language_info": {
   "codemirror_mode": {
    "name": "ipython",
    "version": 3
   },
   "file_extension": ".py",
   "mimetype": "text/x-python",
   "name": "python",
   "nbconvert_exporter": "python",
   "pygments_lexer": "ipython3",
   "version": "3.9.16 | packaged by conda-forge | (main, Feb  1 2023, 21:39:03) \n[GCC 11.3.0]"
  },
  "vscode": {
   "interpreter": {
    "hash": "d5240001f602d094a653e72667f1f126473feea48647f48d8a8ce2a6fb0c39cc"
   }
  }
 },
 "nbformat": 4,
 "nbformat_minor": 5
}
