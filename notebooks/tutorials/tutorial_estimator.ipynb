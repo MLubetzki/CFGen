{
 "cells": [
  {
   "cell_type": "markdown",
   "id": "e05ea3f3",
   "metadata": {},
   "source": [
    "# Test the estimator class "
   ]
  },
  {
   "cell_type": "code",
   "execution_count": null,
   "id": "b531e762",
   "metadata": {},
   "outputs": [],
   "source": [
    "import os\n",
    "import scanpy as sc\n",
    "import numpy as np\n",
    "import pandas as pd\n",
    "import torch\n",
    "from celldreamer.estimator.celldreamer_estimator import CellDreamerEstimator\n",
    "from celldreamer.paths import PERT_DATA_DIR\n",
    "from celldreamer.data.utils import Args\n",
    "\n",
    "from pytorch_lightning.callbacks import ModelCheckpoint, LearningRateMonitor, TQDMProgressBar\n",
    "from pytorch_lightning.loggers import TensorBoardLogger\n",
    "from pytorch_lightning.utilities.model_summary import ModelSummary"
   ]
  },
  {
   "cell_type": "markdown",
   "id": "1c1b9127",
   "metadata": {},
   "source": [
    "Initialize the ```args``` dict and the estimator class"
   ]
  },
  {
   "cell_type": "code",
   "execution_count": null,
   "id": "caf2462d",
   "metadata": {},
   "outputs": [],
   "source": [
    "args_pert = Args(\n",
    "                   {   \n",
    "                    #General \n",
    "                    \"train\": True, \n",
    "                    \"experiment_name\": \"try_experiment\",\n",
    "                    \"task\": \"perturbation_modelling\",\n",
    "                    \"data_path\": PERT_DATA_DIR / 'sciplex' / 'sciplex_complete_middle_subset.h5ad',\n",
    "                    \"batch_size\": 512,\n",
    "                    \"resume\": False,\n",
    "                    \"train_autoencoder\": False, \n",
    "                    \"use_latent_repr\": False,\n",
    "                    \"pretrained_autoencoder\": False, \n",
    "                    \"checkpoint_autoencoder\": None,\n",
    "                    \"pretrained_generative\":False,\n",
    "                    \"checkpoint_generative\": True, \n",
    "                       \n",
    "                    # Perturbation setting specific\n",
    "                    \"perturbation_key\": \"condition\",\n",
    "                    \"dose_key\": \"dose\",\n",
    "                    \"covariate_keys\": \"cell_type\",\n",
    "                    \"smile_keys\": \"SMILES\",\n",
    "                    \"degs_key\": \"lincs_DEGs\",\n",
    "                    \"pert_category\": \"cov_drug_dose_name\",\n",
    "                    \"split_key\": \"split_ho_pathway\", \n",
    "                    \"use_drugs\":True,\n",
    "                    \"feature_type\": \"grover\",\n",
    "                    \"freeze_embeddings\": True,\n",
    "                    \"doser_width\": 128,\n",
    "                    \"doser_depth\": 3\n",
    "                    \"embedding_dimensions\": 100,\n",
    "                    \"one_hot_encode_features\": False,\n",
    "                     \n",
    "                    # General model \n",
    "                    \"generative_model\": \"diffusion\", \n",
    "                    \"denoising_model\": \"mlp\",\n",
    "                    \n",
    "                    # Autoencoder \n",
    "                    \"autoencoder_kwargs\": None,\n",
    "                       \n",
    "                    # Checkpoint kwargs \n",
    "                    \"checkpoint_kwargs\": \n",
    "                        {\"filename\": \"epoch_{epoch:01d}\"\n",
    "                          \"monitor\": \"loss/valid_loss\", \n",
    "                          \"mode\": \"min\", \n",
    "                          \"save_last\": True,\n",
    "                          \"auto_insert_metric_name\": False\n",
    "                        }, \n",
    "                       \n",
    "                    # Early stopping kwargs \n",
    "                    \"early_stopping_kwargs\": \n",
    "                        {\"monitor\": \"loss/valid_loss\",\n",
    "                          \"patience\": 20,\n",
    "                          \"mode\": \"min\",\n",
    "                          \"min_delta\": 0.,\n",
    "                          \"verbose\": False,\n",
    "                          \"strict\": True, \n",
    "                          \"check_finite\": True, \n",
    "                          \"stopping_threshold\": None,\n",
    "                          \"divergence_threshold\": None,\n",
    "                          \"check_on_train_epoch_end\": None},    \n",
    "                    \n",
    "                    # Logger kwargs\n",
    "                    \"logger_kwargs\": \n",
    "                        {\"offline\": False\n",
    "                          \"id\": None \n",
    "                          \"anonymous\": None \n",
    "                          \"project\": \"PerturbSeq_CMV\"\n",
    "                          \"log_model\": False \n",
    "                          \"prefix\": \"\" \n",
    "                          \"tags\": []\n",
    "                          \"job_type\": \"\"\n",
    "                        },   \n",
    "                       \n",
    "                    # Denoising model specific \n",
    "                    \"denoising_module_kwargs\": \n",
    "                        {\n",
    "                         \"dims\": [128, 64],\n",
    "                         \"time_embed_size\": 100, \n",
    "                         \"class_emb_size\": 100,\n",
    "                         \"dropout\": 0.0\n",
    "                        }, \n",
    "                    \n",
    "                    # Diffusion model specific\n",
    "                    \"generative_model_kwargs\": \n",
    "                        {\n",
    "                         \"T\": 10, \n",
    "                         \"w\": 0.3, \n",
    "                         \"v\": 0.2,\n",
    "                         \"p_uncond\": 0.2, \n",
    "                         \"logging_freq\": 1000,  \n",
    "                         \"classifier_free\": False, \n",
    "                         \"learning_rate\": 0.001, \n",
    "                         \"weight_decay\": 0.0001\n",
    "                        },\n",
    "                    \n",
    "                    # Autoencoder trainer hparams\n",
    "                    \"trainer_autoencoder_kwargs\": {\n",
    "                        \"max_epochs\": 100,\n",
    "                        \"gradient_clip_val\": 1.,\n",
    "                        \"gradient_clip_algorithm\": \"norm\",\n",
    "                        \"accelerator\": 'gpu',\n",
    "                        \"devices\": 1,\n",
    "                        \"check_val_every_n_epoch\": 10,\n",
    "                        \"log_every_n_steps\": 10,\n",
    "                        \"detect_anomaly\": False,\n",
    "                        \"deterministic\": False}    \n",
    "                       \n",
    "                    # Generative model trainer hyperparams \n",
    "                    \"trainer_generative_kwargs\": {\n",
    "                        \"max_epochs\": 100,\n",
    "                        \"gradient_clip_val\": 1.,\n",
    "                        \"gradient_clip_algorithm\": \"norm\",\n",
    "                        \"accelerator\": 'gpu',\n",
    "                        \"devices\": 1,\n",
    "                        \"check_val_every_n_epoch\": 10,\n",
    "                        \"log_every_n_steps\": 10,\n",
    "                        \"detect_anomaly\": False,\n",
    "                        \"deterministic\": False}                 \n",
    "                 })"
   ]
  },
  {
   "cell_type": "markdown",
   "id": "3cd5511c",
   "metadata": {},
   "source": [
    "Initialize the cell estimator "
   ]
  },
  {
   "cell_type": "code",
   "execution_count": null,
   "id": "426560c0",
   "metadata": {
    "scrolled": false
   },
   "outputs": [],
   "source": [
    "estimator = CellDreamerEstimator(args_pert)"
   ]
  },
  {
   "cell_type": "markdown",
   "id": "b07f64b4",
   "metadata": {},
   "source": [
    "Check training batches "
   ]
  },
  {
   "cell_type": "code",
   "execution_count": null,
   "id": "1436c515",
   "metadata": {},
   "outputs": [],
   "source": [
    "estimator.train()"
   ]
  },
  {
   "cell_type": "code",
   "execution_count": null,
   "id": "9d572c76",
   "metadata": {
    "scrolled": false
   },
   "outputs": [],
   "source": [
    "len(estimator.datamodule.valid_dataloader.dataset)"
   ]
  },
  {
   "cell_type": "code",
   "execution_count": null,
   "id": "fce1bb6d",
   "metadata": {},
   "outputs": [],
   "source": [
    "next(iter(estimator.datamodule.train_dataloader))[\"X\"].device"
   ]
  },
  {
   "cell_type": "code",
   "execution_count": null,
   "id": "f378277c",
   "metadata": {},
   "outputs": [],
   "source": []
  },
  {
   "cell_type": "code",
   "execution_count": null,
   "id": "69544919",
   "metadata": {},
   "outputs": [],
   "source": []
  }
 ],
 "metadata": {
  "kernelspec": {
   "display_name": "scVelo-ml",
   "language": "python",
   "name": "python3"
  },
  "language_info": {
   "codemirror_mode": {
    "name": "ipython",
    "version": 3
   },
   "file_extension": ".py",
   "mimetype": "text/x-python",
   "name": "python",
   "nbconvert_exporter": "python",
   "pygments_lexer": "ipython3",
   "version": "3.9.16 (main, Jan 11 2023, 16:05:54) \n[GCC 11.2.0]"
  },
  "vscode": {
   "interpreter": {
    "hash": "1b7806cfa1e4eb5e724a3cbec8fcabd003bf5b66df0da3b657c471cbb7fafc73"
   }
  }
 },
 "nbformat": 4,
 "nbformat_minor": 5
}
