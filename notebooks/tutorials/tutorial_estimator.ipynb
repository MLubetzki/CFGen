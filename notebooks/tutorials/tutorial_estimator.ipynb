{
 "cells": [
  {
   "cell_type": "markdown",
   "id": "e05ea3f3",
   "metadata": {},
   "source": [
    "# Test the estimator class "
   ]
  },
  {
   "cell_type": "code",
   "execution_count": 1,
   "id": "b531e762",
   "metadata": {},
   "outputs": [],
   "source": [
    "import os\n",
    "import scanpy as sc\n",
    "import numpy as np\n",
    "import pandas as pd\n",
    "import torch\n",
    "import yaml\n",
    "from celldreamer.paths import ROOT\n",
    "from celldreamer.estimator.celldreamer_estimator import CellDreamerEstimator\n",
    "from celldreamer.paths import DATA_DIR\n",
    "from celldreamer.data.utils import Args\n",
    "\n",
    "from pytorch_lightning.callbacks import ModelCheckpoint, LearningRateMonitor, TQDMProgressBar\n",
    "from pytorch_lightning.loggers import TensorBoardLogger\n",
    "from pytorch_lightning.utilities.model_summary import ModelSummary"
   ]
  },
  {
   "cell_type": "code",
   "execution_count": 2,
   "id": "019ca73e",
   "metadata": {},
   "outputs": [
    {
     "name": "stdout",
     "output_type": "stream",
     "text": [
      "/home/icb/alessandro.palma/environment/celldreamer\n"
     ]
    }
   ],
   "source": [
    "cd $ROOT"
   ]
  },
  {
   "cell_type": "markdown",
   "id": "1c1b9127",
   "metadata": {},
   "source": [
    "Initialize the ```args``` dict and the estimator class"
   ]
  },
  {
   "cell_type": "code",
   "execution_count": 3,
   "id": "9d6875d5",
   "metadata": {},
   "outputs": [],
   "source": [
    "config = yaml.safe_load(open(ROOT / \"configs/perturbation_modelling/config_ddpm.yaml\", \n",
    "                            \"rb\"))"
   ]
  },
  {
   "cell_type": "code",
   "execution_count": 4,
   "id": "caf2462d",
   "metadata": {},
   "outputs": [],
   "source": [
    "args_pert = Args(config[\"args\"]) "
   ]
  },
  {
   "cell_type": "markdown",
   "id": "3cd5511c",
   "metadata": {},
   "source": [
    "Initialize the cell estimator "
   ]
  },
  {
   "cell_type": "code",
   "execution_count": 5,
   "id": "426560c0",
   "metadata": {
    "scrolled": true
   },
   "outputs": [
    {
     "name": "stdout",
     "output_type": "stream",
     "text": [
      "Create the training folders...\n",
      "Initialize data module...\n"
     ]
    },
    {
     "name": "stderr",
     "output_type": "stream",
     "text": [
      "/home/icb/alessandro.palma/miniconda3/envs/celldreamer/lib/python3.10/site-packages/sklearn/preprocessing/_encoders.py:868: FutureWarning: `sparse` was renamed to `sparse_output` in version 1.2 and will be removed in 1.4. `sparse_output` is ignored unless you leave `sparse` to its default value.\n",
      "  warnings.warn(\n",
      "\u001b[34m\u001b[1mwandb\u001b[0m: \u001b[33mWARNING\u001b[0m `resume` will be ignored since W&B syncing is set to `offline`. Starting a new run with run id n46h6iue.\n"
     ]
    },
    {
     "data": {
      "text/html": [
       "Tracking run with wandb version 0.15.3"
      ],
      "text/plain": [
       "<IPython.core.display.HTML object>"
      ]
     },
     "metadata": {},
     "output_type": "display_data"
    },
    {
     "data": {
      "text/html": [
       "W&B syncing is set to <code>`offline`<code> in this directory.  <br/>Run <code>`wandb online`<code> or set <code>WANDB_MODE=online<code> to enable cloud syncing."
      ],
      "text/plain": [
       "<IPython.core.display.HTML object>"
      ]
     },
     "metadata": {},
     "output_type": "display_data"
    },
    {
     "name": "stderr",
     "output_type": "stream",
     "text": [
      "/home/icb/alessandro.palma/miniconda3/envs/celldreamer/lib/python3.10/site-packages/lightning_fabric/plugins/environments/slurm.py:165: PossibleUserWarning: The `srun` command is available on your system but is not used. HINT: If your intention is to run Lightning on SLURM, prepend your python command with `srun` like so: srun python /home/icb/alessandro.palma/miniconda3/envs/celldream ...\n",
      "  rank_zero_warn(\n",
      "GPU available: True (cuda), used: True\n",
      "TPU available: False, using: 0 TPU cores\n",
      "IPU available: False, using: 0 IPUs\n",
      "HPU available: False, using: 0 HPUs\n"
     ]
    },
    {
     "name": "stdout",
     "output_type": "stream",
     "text": [
      "Initialize feature embeddings...\n",
      "Initialize model...\n"
     ]
    }
   ],
   "source": [
    "estimator = CellDreamerEstimator(args_pert)"
   ]
  },
  {
   "cell_type": "markdown",
   "id": "b07f64b4",
   "metadata": {},
   "source": [
    "Check training batches "
   ]
  },
  {
   "cell_type": "code",
   "execution_count": 6,
   "id": "1436c515",
   "metadata": {
    "scrolled": true
   },
   "outputs": [
    {
     "name": "stderr",
     "output_type": "stream",
     "text": [
      "/home/icb/alessandro.palma/miniconda3/envs/celldreamer/lib/python3.10/site-packages/lightning_fabric/plugins/environments/slurm.py:165: PossibleUserWarning: The `srun` command is available on your system but is not used. HINT: If your intention is to run Lightning on SLURM, prepend your python command with `srun` like so: srun python /home/icb/alessandro.palma/miniconda3/envs/celldream ...\n",
      "  rank_zero_warn(\n",
      "/home/icb/alessandro.palma/miniconda3/envs/celldreamer/lib/python3.10/site-packages/pytorch_lightning/callbacks/model_checkpoint.py:612: UserWarning: Checkpoint directory /lustre/groups/ml01/workspace/alessandro.palma/celldreamer/try_experiment/checkpoints exists and is not empty.\n",
      "  rank_zero_warn(f\"Checkpoint directory {dirpath} exists and is not empty.\")\n",
      "LOCAL_RANK: 0 - CUDA_VISIBLE_DEVICES: [0]\n",
      "\n",
      "  | Name            | Type        | Params\n",
      "------------------------------------------------\n",
      "0 | denoising_model | MLPTimeStep | 9.2 M \n",
      "1 | mse             | MSELoss     | 0     \n",
      "------------------------------------------------\n",
      "9.2 M     Trainable params\n",
      "0         Non-trainable params\n",
      "9.2 M     Total params\n",
      "36.722    Total estimated model params size (MB)\n"
     ]
    },
    {
     "data": {
      "application/vnd.jupyter.widget-view+json": {
       "model_id": "",
       "version_major": 2,
       "version_minor": 0
      },
      "text/plain": [
       "Sanity Checking: 0it [00:00, ?it/s]"
      ]
     },
     "metadata": {},
     "output_type": "display_data"
    },
    {
     "data": {
      "application/vnd.jupyter.widget-view+json": {
       "model_id": "75bf9df776fb4476b6eea803afecff14",
       "version_major": 2,
       "version_minor": 0
      },
      "text/plain": [
       "Training: 0it [00:00, ?it/s]"
      ]
     },
     "metadata": {},
     "output_type": "display_data"
    },
    {
     "data": {
      "application/vnd.jupyter.widget-view+json": {
       "model_id": "",
       "version_major": 2,
       "version_minor": 0
      },
      "text/plain": [
       "Validation: 0it [00:00, ?it/s]"
      ]
     },
     "metadata": {},
     "output_type": "display_data"
    },
    {
     "data": {
      "application/vnd.jupyter.widget-view+json": {
       "model_id": "",
       "version_major": 2,
       "version_minor": 0
      },
      "text/plain": [
       "Validation: 0it [00:00, ?it/s]"
      ]
     },
     "metadata": {},
     "output_type": "display_data"
    },
    {
     "data": {
      "application/vnd.jupyter.widget-view+json": {
       "model_id": "",
       "version_major": 2,
       "version_minor": 0
      },
      "text/plain": [
       "Validation: 0it [00:00, ?it/s]"
      ]
     },
     "metadata": {},
     "output_type": "display_data"
    },
    {
     "data": {
      "application/vnd.jupyter.widget-view+json": {
       "model_id": "",
       "version_major": 2,
       "version_minor": 0
      },
      "text/plain": [
       "Validation: 0it [00:00, ?it/s]"
      ]
     },
     "metadata": {},
     "output_type": "display_data"
    },
    {
     "data": {
      "application/vnd.jupyter.widget-view+json": {
       "model_id": "",
       "version_major": 2,
       "version_minor": 0
      },
      "text/plain": [
       "Validation: 0it [00:00, ?it/s]"
      ]
     },
     "metadata": {},
     "output_type": "display_data"
    },
    {
     "data": {
      "application/vnd.jupyter.widget-view+json": {
       "model_id": "",
       "version_major": 2,
       "version_minor": 0
      },
      "text/plain": [
       "Validation: 0it [00:00, ?it/s]"
      ]
     },
     "metadata": {},
     "output_type": "display_data"
    },
    {
     "data": {
      "application/vnd.jupyter.widget-view+json": {
       "model_id": "",
       "version_major": 2,
       "version_minor": 0
      },
      "text/plain": [
       "Validation: 0it [00:00, ?it/s]"
      ]
     },
     "metadata": {},
     "output_type": "display_data"
    },
    {
     "data": {
      "application/vnd.jupyter.widget-view+json": {
       "model_id": "",
       "version_major": 2,
       "version_minor": 0
      },
      "text/plain": [
       "Validation: 0it [00:00, ?it/s]"
      ]
     },
     "metadata": {},
     "output_type": "display_data"
    },
    {
     "data": {
      "application/vnd.jupyter.widget-view+json": {
       "model_id": "",
       "version_major": 2,
       "version_minor": 0
      },
      "text/plain": [
       "Validation: 0it [00:00, ?it/s]"
      ]
     },
     "metadata": {},
     "output_type": "display_data"
    },
    {
     "data": {
      "application/vnd.jupyter.widget-view+json": {
       "model_id": "",
       "version_major": 2,
       "version_minor": 0
      },
      "text/plain": [
       "Validation: 0it [00:00, ?it/s]"
      ]
     },
     "metadata": {},
     "output_type": "display_data"
    },
    {
     "data": {
      "application/vnd.jupyter.widget-view+json": {
       "model_id": "",
       "version_major": 2,
       "version_minor": 0
      },
      "text/plain": [
       "Validation: 0it [00:00, ?it/s]"
      ]
     },
     "metadata": {},
     "output_type": "display_data"
    },
    {
     "data": {
      "application/vnd.jupyter.widget-view+json": {
       "model_id": "",
       "version_major": 2,
       "version_minor": 0
      },
      "text/plain": [
       "Validation: 0it [00:00, ?it/s]"
      ]
     },
     "metadata": {},
     "output_type": "display_data"
    },
    {
     "data": {
      "application/vnd.jupyter.widget-view+json": {
       "model_id": "",
       "version_major": 2,
       "version_minor": 0
      },
      "text/plain": [
       "Validation: 0it [00:00, ?it/s]"
      ]
     },
     "metadata": {},
     "output_type": "display_data"
    },
    {
     "data": {
      "application/vnd.jupyter.widget-view+json": {
       "model_id": "",
       "version_major": 2,
       "version_minor": 0
      },
      "text/plain": [
       "Validation: 0it [00:00, ?it/s]"
      ]
     },
     "metadata": {},
     "output_type": "display_data"
    },
    {
     "data": {
      "application/vnd.jupyter.widget-view+json": {
       "model_id": "",
       "version_major": 2,
       "version_minor": 0
      },
      "text/plain": [
       "Validation: 0it [00:00, ?it/s]"
      ]
     },
     "metadata": {},
     "output_type": "display_data"
    },
    {
     "data": {
      "application/vnd.jupyter.widget-view+json": {
       "model_id": "",
       "version_major": 2,
       "version_minor": 0
      },
      "text/plain": [
       "Validation: 0it [00:00, ?it/s]"
      ]
     },
     "metadata": {},
     "output_type": "display_data"
    },
    {
     "data": {
      "application/vnd.jupyter.widget-view+json": {
       "model_id": "",
       "version_major": 2,
       "version_minor": 0
      },
      "text/plain": [
       "Validation: 0it [00:00, ?it/s]"
      ]
     },
     "metadata": {},
     "output_type": "display_data"
    },
    {
     "data": {
      "application/vnd.jupyter.widget-view+json": {
       "model_id": "",
       "version_major": 2,
       "version_minor": 0
      },
      "text/plain": [
       "Validation: 0it [00:00, ?it/s]"
      ]
     },
     "metadata": {},
     "output_type": "display_data"
    },
    {
     "data": {
      "application/vnd.jupyter.widget-view+json": {
       "model_id": "",
       "version_major": 2,
       "version_minor": 0
      },
      "text/plain": [
       "Validation: 0it [00:00, ?it/s]"
      ]
     },
     "metadata": {},
     "output_type": "display_data"
    },
    {
     "data": {
      "application/vnd.jupyter.widget-view+json": {
       "model_id": "",
       "version_major": 2,
       "version_minor": 0
      },
      "text/plain": [
       "Validation: 0it [00:00, ?it/s]"
      ]
     },
     "metadata": {},
     "output_type": "display_data"
    },
    {
     "name": "stderr",
     "output_type": "stream",
     "text": [
      "`Trainer.fit` stopped: `max_epochs=20` reached.\n"
     ]
    }
   ],
   "source": [
    "estimator.train()"
   ]
  },
  {
   "cell_type": "code",
   "execution_count": 17,
   "id": "b7c47eb5",
   "metadata": {},
   "outputs": [],
   "source": [
    "estimator.generative_model = estimator.generative_model.to(\"cuda\")\n",
    "with torch.no_grad():\n",
    "    X_gen = estimator.generative_model.generate(batch_size=500, \n",
    "                                         y=torch.zeros(100,3), \n",
    "                                         z_t=None, \n",
    "                                         T=500)"
   ]
  },
  {
   "cell_type": "code",
   "execution_count": 18,
   "id": "30e31631",
   "metadata": {},
   "outputs": [
    {
     "data": {
      "text/plain": [
       "tensor([[ 23.9120,  -9.3064,  -4.7175,  ...,  -8.2959,   1.2482,   4.2193],\n",
       "        [ -8.7821,   5.0714,  -7.4262,  ...,   8.2025,  22.4198,   1.7601],\n",
       "        [ -6.6905,  13.1606,  26.9784,  ..., -11.2875, -19.2188,  20.8606],\n",
       "        ...,\n",
       "        [-29.1643,  16.8460,  -7.6199,  ...,  13.5905,  -6.2136,  32.1514],\n",
       "        [ -0.3396,   5.7810,  19.4186,  ..., -16.1006,  28.3406,  -7.9612],\n",
       "        [  6.5844,  29.1944,  16.3109,  ...,  32.7512,  -0.3084, -16.9878]],\n",
       "       device='cuda:0')"
      ]
     },
     "execution_count": 18,
     "metadata": {},
     "output_type": "execute_result"
    }
   ],
   "source": [
    "X_gen"
   ]
  },
  {
   "cell_type": "code",
   "execution_count": 19,
   "id": "a6cd23a1",
   "metadata": {
    "scrolled": true
   },
   "outputs": [],
   "source": [
    "adata_tmp = sc.AnnData(X=X_gen.cpu().numpy())\n",
    "sc.tl.pca(adata_tmp)\n",
    "sc.pp.neighbors(adata_tmp)\n",
    "sc.tl.umap(adata_tmp)"
   ]
  },
  {
   "cell_type": "code",
   "execution_count": 20,
   "id": "7bcfe5d2",
   "metadata": {},
   "outputs": [
    {
     "data": {
      "text/plain": [
       "tensor(-94.3970, device='cuda:0')"
      ]
     },
     "execution_count": 20,
     "metadata": {},
     "output_type": "execute_result"
    }
   ],
   "source": [
    "X_gen.min()"
   ]
  },
  {
   "cell_type": "code",
   "execution_count": 21,
   "id": "82d64171",
   "metadata": {},
   "outputs": [
    {
     "name": "stderr",
     "output_type": "stream",
     "text": [
      "/home/icb/alessandro.palma/miniconda3/envs/celldreamer/lib/python3.10/site-packages/scanpy/plotting/_tools/scatterplots.py:392: UserWarning: No data for colormapping provided via 'c'. Parameters 'cmap', 'norm' will be ignored\n",
      "  cax = scatter(\n"
     ]
    },
    {
     "data": {
      "image/png": "[encoded data removed]",
      "text/plain": [
       "<Figure size 640x480 with 1 Axes>"
      ]
     },
     "metadata": {},
     "output_type": "display_data"
    }
   ],
   "source": [
    "sc.pl.umap(adata_tmp)"
   ]
  },
  {
   "cell_type": "code",
   "execution_count": 22,
   "id": "2c0a4124",
   "metadata": {
    "scrolled": true
   },
   "outputs": [],
   "source": [
    "data = []\n",
    "\n",
    "for batch in estimator.datamodule[\"train_dataloader\"]:\n",
    "    data.append(batch[\"X\"])"
   ]
  },
  {
   "cell_type": "code",
   "execution_count": 23,
   "id": "6852743f",
   "metadata": {},
   "outputs": [],
   "source": [
    "d = torch.cat(data)"
   ]
  },
  {
   "cell_type": "code",
   "execution_count": null,
   "id": "74e5ab40",
   "metadata": {
    "scrolled": true
   },
   "outputs": [],
   "source": [
    "adata_tmp = sc.AnnData(X=d.cpu().numpy())\n",
    "sc.tl.pca(adata_tmp)\n",
    "sc.pp.neighbors(adata_tmp)\n",
    "sc.tl.umap(adata_tmp)"
   ]
  },
  {
   "cell_type": "code",
   "execution_count": null,
   "id": "815a1925",
   "metadata": {},
   "outputs": [],
   "source": [
    "d.shape"
   ]
  },
  {
   "cell_type": "code",
   "execution_count": null,
   "id": "9b0cc120",
   "metadata": {},
   "outputs": [],
   "source": [
    "sc.pl.umap(adata_tmp)"
   ]
  },
  {
   "cell_type": "markdown",
   "id": "bcf749a0",
   "metadata": {},
   "source": [
    "**Examine why it does not work**"
   ]
  },
  {
   "cell_type": "code",
   "execution_count": 7,
   "id": "6d08b58a",
   "metadata": {},
   "outputs": [
    {
     "data": {
      "text/plain": [
       "tensor([[-8.0854e-09,  3.6758e-07, -1.5901e-07,  ..., -1.0590e-04,\n",
       "          9.9414e-28, -1.4854e-12],\n",
       "        [ 1.2159e-08, -1.5221e-06,  3.3158e-07,  ..., -3.5521e-04,\n",
       "         -2.9623e-28, -2.9429e-12],\n",
       "        [ 1.3877e-08,  1.5744e-06,  6.2369e-07,  ..., -2.7559e-05,\n",
       "          4.0398e-28,  1.7251e-13],\n",
       "        ...,\n",
       "        [-5.3922e-09,  1.2626e-06, -2.1996e-07,  ...,  8.8867e-05,\n",
       "          2.8873e-28, -2.5050e-12],\n",
       "        [-4.5926e-10, -1.3519e-06, -8.6397e-07,  ...,  1.6750e-04,\n",
       "         -3.6178e-28,  1.1942e-13],\n",
       "        [ 5.2262e-09, -7.5689e-07, -1.6243e-09,  ...,  7.4320e-04,\n",
       "         -3.6120e-28,  1.3108e-13]])"
      ]
     },
     "execution_count": 7,
     "metadata": {},
     "output_type": "execute_result"
    }
   ],
   "source": [
    "estimator.generative_model.state_dict()['denoising_model.decoder.0.out_layer.2.weight']"
   ]
  },
  {
   "cell_type": "code",
   "execution_count": 12,
   "id": "c4ea81e3",
   "metadata": {},
   "outputs": [
    {
     "data": {
      "text/plain": [
       "{'X': tensor([[-0.2312, -0.2312,  3.0452,  ..., -0.2312, -0.2312, -0.2312],\n",
       "         [-0.1532, -0.1532, -0.1532,  ..., -0.1532, -0.1532, -0.1532],\n",
       "         [ 0.2851, -0.3492,  1.8737,  ..., -0.3492, -0.3492, -0.3492],\n",
       "         ...,\n",
       "         [-0.2657, -0.2657,  5.0004,  ..., -0.2657, -0.2657, -0.2657],\n",
       "         [-0.3009, -0.3009,  1.2374,  ..., -0.3009, -0.3009, -0.3009],\n",
       "         [-0.2420, -0.2420,  4.5480,  ..., -0.2420, -0.2420, -0.2420]]),\n",
       " 'X_degs': tensor([[0., 0., 0.,  ..., 0., 0., 0.],\n",
       "         [0., 0., 0.,  ..., 0., 0., 0.],\n",
       "         [0., 0., 0.,  ..., 0., 0., 0.],\n",
       "         ...,\n",
       "         [0., 0., 0.,  ..., 0., 0., 0.],\n",
       "         [0., 0., 1.,  ..., 0., 0., 0.],\n",
       "         [0., 0., 0.,  ..., 0., 0., 0.]]),\n",
       " 'y': {'y_cell_type': tensor([2, 0, 2, 2, 2, 0, 2, 1, 1, 1, 0, 1, 2, 2, 0, 2, 1, 2, 2, 0, 0, 2, 1, 2,\n",
       "          1, 1, 2, 2, 2, 1, 2, 2, 2, 2, 1, 0, 0, 2, 1, 2, 2, 1, 2, 2, 0, 0, 2, 2,\n",
       "          2, 2, 2, 0, 2, 2, 2, 2, 2, 1, 1, 2, 1, 2, 2, 2, 0, 1, 0, 2, 2, 1, 2, 2,\n",
       "          0, 1, 0, 2, 1, 1, 0, 1, 2, 1, 2, 2, 2, 2, 0, 2, 2, 2, 0, 0, 2, 1, 2, 2,\n",
       "          0, 1, 0, 2, 2, 2, 2, 2, 1, 2, 2, 1, 2, 0, 2, 2, 2, 0, 2, 2, 2, 2, 2, 2,\n",
       "          1, 1, 2, 2, 2, 2, 0, 1, 1, 1, 2, 2, 0, 1, 0, 0, 2, 0, 0, 2, 0, 1, 1, 0,\n",
       "          2, 1, 1, 0, 1, 0, 1, 0, 2, 1, 0, 0, 2, 0, 0, 2, 2, 2, 1, 2, 2, 2, 1, 0,\n",
       "          2, 0, 2, 0, 2, 0, 2, 0, 2, 2, 2, 0, 2, 2, 2, 1, 2, 0, 1, 2, 0, 2, 0, 2,\n",
       "          2, 0, 2, 1, 2, 0, 2, 2, 0, 0, 0, 0, 2, 1, 1, 0, 2, 1, 2, 2, 2, 0, 1, 1,\n",
       "          0, 1, 1, 2, 0, 2, 2, 1, 1, 2, 2, 0, 0, 0, 0, 0, 0, 2, 2, 1, 0, 0, 1, 1,\n",
       "          2, 1, 2, 1, 2, 1, 2, 0, 1, 2, 0, 0, 2, 2, 2, 0])}}"
      ]
     },
     "execution_count": 12,
     "metadata": {},
     "output_type": "execute_result"
    }
   ],
   "source": [
    "next(iter(estimator.datamodule[\"train_dataloader\"]))"
   ]
  },
  {
   "cell_type": "code",
   "execution_count": 7,
   "id": "6ce2ca7b",
   "metadata": {},
   "outputs": [],
   "source": [
    "x = torch.randn(1, 2003)"
   ]
  },
  {
   "cell_type": "code",
   "execution_count": 8,
   "id": "3b4bf8bf",
   "metadata": {},
   "outputs": [
    {
     "ename": "RuntimeError",
     "evalue": "mat1 and mat2 shapes cannot be multiplied (1x2003 and 2000x128)",
     "output_type": "error",
     "traceback": [
      "\u001b[0;31m---------------------------------------------------------------------------\u001b[0m",
      "\u001b[0;31mRuntimeError\u001b[0m                              Traceback (most recent call last)",
      "Cell \u001b[0;32mIn[8], line 1\u001b[0m\n\u001b[0;32m----> 1\u001b[0m \u001b[43mestimator\u001b[49m\u001b[38;5;241;43m.\u001b[39;49m\u001b[43mgenerative_model\u001b[49m\u001b[38;5;241;43m.\u001b[39;49m\u001b[43mdenoising_model\u001b[49m\u001b[38;5;241;43m.\u001b[39;49m\u001b[43mencoder\u001b[49m\u001b[43m[\u001b[49m\u001b[38;5;241;43m0\u001b[39;49m\u001b[43m]\u001b[49m\u001b[38;5;241;43m.\u001b[39;49m\u001b[43mnet\u001b[49m\u001b[43m(\u001b[49m\u001b[43mx\u001b[49m\u001b[43m)\u001b[49m\n",
      "File \u001b[0;32m~/miniconda3/envs/celldreamer/lib/python3.10/site-packages/torch/nn/modules/module.py:1501\u001b[0m, in \u001b[0;36mModule._call_impl\u001b[0;34m(self, *args, **kwargs)\u001b[0m\n\u001b[1;32m   1496\u001b[0m \u001b[38;5;66;03m# If we don't have any hooks, we want to skip the rest of the logic in\u001b[39;00m\n\u001b[1;32m   1497\u001b[0m \u001b[38;5;66;03m# this function, and just call forward.\u001b[39;00m\n\u001b[1;32m   1498\u001b[0m \u001b[38;5;28;01mif\u001b[39;00m \u001b[38;5;129;01mnot\u001b[39;00m (\u001b[38;5;28mself\u001b[39m\u001b[38;5;241m.\u001b[39m_backward_hooks \u001b[38;5;129;01mor\u001b[39;00m \u001b[38;5;28mself\u001b[39m\u001b[38;5;241m.\u001b[39m_backward_pre_hooks \u001b[38;5;129;01mor\u001b[39;00m \u001b[38;5;28mself\u001b[39m\u001b[38;5;241m.\u001b[39m_forward_hooks \u001b[38;5;129;01mor\u001b[39;00m \u001b[38;5;28mself\u001b[39m\u001b[38;5;241m.\u001b[39m_forward_pre_hooks\n\u001b[1;32m   1499\u001b[0m         \u001b[38;5;129;01mor\u001b[39;00m _global_backward_pre_hooks \u001b[38;5;129;01mor\u001b[39;00m _global_backward_hooks\n\u001b[1;32m   1500\u001b[0m         \u001b[38;5;129;01mor\u001b[39;00m _global_forward_hooks \u001b[38;5;129;01mor\u001b[39;00m _global_forward_pre_hooks):\n\u001b[0;32m-> 1501\u001b[0m     \u001b[38;5;28;01mreturn\u001b[39;00m \u001b[43mforward_call\u001b[49m\u001b[43m(\u001b[49m\u001b[38;5;241;43m*\u001b[39;49m\u001b[43margs\u001b[49m\u001b[43m,\u001b[49m\u001b[43m \u001b[49m\u001b[38;5;241;43m*\u001b[39;49m\u001b[38;5;241;43m*\u001b[39;49m\u001b[43mkwargs\u001b[49m\u001b[43m)\u001b[49m\n\u001b[1;32m   1502\u001b[0m \u001b[38;5;66;03m# Do not call functions when jit is used\u001b[39;00m\n\u001b[1;32m   1503\u001b[0m full_backward_hooks, non_full_backward_hooks \u001b[38;5;241m=\u001b[39m [], []\n",
      "File \u001b[0;32m~/miniconda3/envs/celldreamer/lib/python3.10/site-packages/torch/nn/modules/container.py:217\u001b[0m, in \u001b[0;36mSequential.forward\u001b[0;34m(self, input)\u001b[0m\n\u001b[1;32m    215\u001b[0m \u001b[38;5;28;01mdef\u001b[39;00m \u001b[38;5;21mforward\u001b[39m(\u001b[38;5;28mself\u001b[39m, \u001b[38;5;28minput\u001b[39m):\n\u001b[1;32m    216\u001b[0m     \u001b[38;5;28;01mfor\u001b[39;00m module \u001b[38;5;129;01min\u001b[39;00m \u001b[38;5;28mself\u001b[39m:\n\u001b[0;32m--> 217\u001b[0m         \u001b[38;5;28minput\u001b[39m \u001b[38;5;241m=\u001b[39m \u001b[43mmodule\u001b[49m\u001b[43m(\u001b[49m\u001b[38;5;28;43minput\u001b[39;49m\u001b[43m)\u001b[49m\n\u001b[1;32m    218\u001b[0m     \u001b[38;5;28;01mreturn\u001b[39;00m \u001b[38;5;28minput\u001b[39m\n",
      "File \u001b[0;32m~/miniconda3/envs/celldreamer/lib/python3.10/site-packages/torch/nn/modules/module.py:1501\u001b[0m, in \u001b[0;36mModule._call_impl\u001b[0;34m(self, *args, **kwargs)\u001b[0m\n\u001b[1;32m   1496\u001b[0m \u001b[38;5;66;03m# If we don't have any hooks, we want to skip the rest of the logic in\u001b[39;00m\n\u001b[1;32m   1497\u001b[0m \u001b[38;5;66;03m# this function, and just call forward.\u001b[39;00m\n\u001b[1;32m   1498\u001b[0m \u001b[38;5;28;01mif\u001b[39;00m \u001b[38;5;129;01mnot\u001b[39;00m (\u001b[38;5;28mself\u001b[39m\u001b[38;5;241m.\u001b[39m_backward_hooks \u001b[38;5;129;01mor\u001b[39;00m \u001b[38;5;28mself\u001b[39m\u001b[38;5;241m.\u001b[39m_backward_pre_hooks \u001b[38;5;129;01mor\u001b[39;00m \u001b[38;5;28mself\u001b[39m\u001b[38;5;241m.\u001b[39m_forward_hooks \u001b[38;5;129;01mor\u001b[39;00m \u001b[38;5;28mself\u001b[39m\u001b[38;5;241m.\u001b[39m_forward_pre_hooks\n\u001b[1;32m   1499\u001b[0m         \u001b[38;5;129;01mor\u001b[39;00m _global_backward_pre_hooks \u001b[38;5;129;01mor\u001b[39;00m _global_backward_hooks\n\u001b[1;32m   1500\u001b[0m         \u001b[38;5;129;01mor\u001b[39;00m _global_forward_hooks \u001b[38;5;129;01mor\u001b[39;00m _global_forward_pre_hooks):\n\u001b[0;32m-> 1501\u001b[0m     \u001b[38;5;28;01mreturn\u001b[39;00m \u001b[43mforward_call\u001b[49m\u001b[43m(\u001b[49m\u001b[38;5;241;43m*\u001b[39;49m\u001b[43margs\u001b[49m\u001b[43m,\u001b[49m\u001b[43m \u001b[49m\u001b[38;5;241;43m*\u001b[39;49m\u001b[38;5;241;43m*\u001b[39;49m\u001b[43mkwargs\u001b[49m\u001b[43m)\u001b[49m\n\u001b[1;32m   1502\u001b[0m \u001b[38;5;66;03m# Do not call functions when jit is used\u001b[39;00m\n\u001b[1;32m   1503\u001b[0m full_backward_hooks, non_full_backward_hooks \u001b[38;5;241m=\u001b[39m [], []\n",
      "File \u001b[0;32m~/miniconda3/envs/celldreamer/lib/python3.10/site-packages/torch/nn/modules/linear.py:114\u001b[0m, in \u001b[0;36mLinear.forward\u001b[0;34m(self, input)\u001b[0m\n\u001b[1;32m    113\u001b[0m \u001b[38;5;28;01mdef\u001b[39;00m \u001b[38;5;21mforward\u001b[39m(\u001b[38;5;28mself\u001b[39m, \u001b[38;5;28minput\u001b[39m: Tensor) \u001b[38;5;241m-\u001b[39m\u001b[38;5;241m>\u001b[39m Tensor:\n\u001b[0;32m--> 114\u001b[0m     \u001b[38;5;28;01mreturn\u001b[39;00m \u001b[43mF\u001b[49m\u001b[38;5;241;43m.\u001b[39;49m\u001b[43mlinear\u001b[49m\u001b[43m(\u001b[49m\u001b[38;5;28;43minput\u001b[39;49m\u001b[43m,\u001b[49m\u001b[43m \u001b[49m\u001b[38;5;28;43mself\u001b[39;49m\u001b[38;5;241;43m.\u001b[39;49m\u001b[43mweight\u001b[49m\u001b[43m,\u001b[49m\u001b[43m \u001b[49m\u001b[38;5;28;43mself\u001b[39;49m\u001b[38;5;241;43m.\u001b[39;49m\u001b[43mbias\u001b[49m\u001b[43m)\u001b[49m\n",
      "\u001b[0;31mRuntimeError\u001b[0m: mat1 and mat2 shapes cannot be multiplied (1x2003 and 2000x128)"
     ]
    }
   ],
   "source": [
    "estimator.generative_model.denoising_model.encoder[0].net(x)"
   ]
  },
  {
   "cell_type": "code",
   "execution_count": null,
   "id": "8ce61584",
   "metadata": {},
   "outputs": [],
   "source": []
  }
 ],
 "metadata": {
  "kernelspec": {
   "display_name": "Python 3 (ipykernel)",
   "language": "python",
   "name": "python3"
  },
  "language_info": {
   "codemirror_mode": {
    "name": "ipython",
    "version": 3
   },
   "file_extension": ".py",
   "mimetype": "text/x-python",
   "name": "python",
   "nbconvert_exporter": "python",
   "pygments_lexer": "ipython3",
   "version": "3.10.11"
  },
  "vscode": {
   "interpreter": {
    "hash": "d5240001f602d094a653e72667f1f126473feea48647f48d8a8ce2a6fb0c39cc"
   }
  }
 },
 "nbformat": 4,
 "nbformat_minor": 5
}
