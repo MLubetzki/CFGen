{
 "cells": [
  {
   "cell_type": "markdown",
   "id": "e05ea3f3",
   "metadata": {},
   "source": [
    "# Test the estimator class "
   ]
  },
  {
   "cell_type": "code",
   "execution_count": 20,
   "id": "b531e762",
   "metadata": {},
   "outputs": [],
   "source": [
    "import os\n",
    "import torch\n",
    "from celldreamer.estimator.celldreamer_estimator import CellDreamerEstimator\n",
    "from celldreamer.paths import PERT_DATA_DIR\n",
    "from celldreamer.data.utils import Args\n",
    "\n",
    "from pytorch_lightning.callbacks import ModelCheckpoint, LearningRateMonitor, TQDMProgressBar\n",
    "from pytorch_lightning.loggers import TensorBoardLogger\n",
    "from pytorch_lightning.utilities.model_summary import ModelSummary"
   ]
  },
  {
   "cell_type": "markdown",
   "id": "1c1b9127",
   "metadata": {},
   "source": [
    "Initialize the ```args``` dict and the estimator class"
   ]
  },
  {
   "cell_type": "code",
   "execution_count": 21,
   "id": "caf2462d",
   "metadata": {},
   "outputs": [],
   "source": [
    "args_pert = Args(\n",
    "                   {   \n",
    "                    #General \n",
    "                    \"train\": True,\n",
    "                    \"train_autoencoder\": True, \n",
    "                    \"experiment_name\": \"try_experiment\",\n",
    "                    \"task\": \"perturbation_modelling\",\n",
    "                    \"freeze_embeddings\": True,\n",
    "                    \"feature_type\": \"grover\",\n",
    "                    \"data_path\": PERT_DATA_DIR / 'sciplex' / 'sciplex_complete_middle_subset.h5ad',\n",
    "                    \"batch_size\": 128, \n",
    "                    \"use_latent_repr\": True,\n",
    "                    \"one_hot_encode_features\": True,\n",
    "                    \"resume\": False,\n",
    "                    \"doser_width\": 128,\n",
    "                    \"doser_depth\": 3, \n",
    "                    \"pretrained_autoencoder\": False, \n",
    "                    \"checkpoint_autoencoder\": None,\n",
    "                    \n",
    "                    # Perturbation setting specific\n",
    "                    \"perturbation_key\": \"condition\",\n",
    "                    \"dose_key\": \"dose\",\n",
    "                    \"covariate_keys\": \"cell_type\",\n",
    "                    \"smile_keys\": \"SMILES\",\n",
    "                    \"degs_key\": \"lincs_DEGs\",\n",
    "                    \"pert_category\": \"cov_drug_dose_name\",\n",
    "                    \"split_key\": \"split_ho_pathway\",\n",
    "                    \"use_drugs_idx\":True,\n",
    "                    \"embedding_dimensions\": 100,\n",
    "                    \"one_hot_encode_features\": False,\n",
    "                    \"doser_width\":128,\n",
    "                    \"doser_depth\":3,\n",
    "                     \n",
    "                    # General model \n",
    "                    \"generative_model\":\"diffusion\", \n",
    "                    \"denoising_model\": \"mlp\",\n",
    "                    \n",
    "                    # Autoencoder \n",
    "                    \"autoencoder_kwargs\": {\"in_dim\": 2000,\n",
    "                                  \"learning_rate\": 0,\n",
    "                                  \"hidden_dim_encoder\": [256, 128, 64], \n",
    "                                  \"hidden_dim_decoder\": [64, 128, 64], \n",
    "                                  \"batch_norm\": True, \n",
    "                                  \"layer_norm\": False,\n",
    "                                  \"activation\": torch.nn.ReLU,\n",
    "                                  \"output_activation\": torch.nn.Identity, \n",
    "                                  \"reconst_loss\": \"mse\", \n",
    "                                  \"dropout\": 0.0,\n",
    "                                  \"weight_decay\": 0.1, \n",
    "                                  \"optimizer\": torch.optim.Adam, \n",
    "                                  \"lr_scheduler\": None,\n",
    "                                  \"lr_scheduler_kwargs\": None\n",
    "                                  },\n",
    "                    \n",
    "                    # Denoising model specific \n",
    "                    \"denoising_module_kwargs\": \n",
    "                        {\n",
    "                         \"dims\": [128, 64],\n",
    "                         \"time_embed_size\": 100, \n",
    "                         \"class_emb_size\": 100,\n",
    "                         \"dropout\": 0.0\n",
    "                        }, \n",
    "                    \n",
    "                    # Diffusion model specific\n",
    "                    \"generative_model_kwargs\": \n",
    "                        {\n",
    "                         \"T\": 4.000, \n",
    "                         \"w\": 0.3, \n",
    "                         \"v\": 0.2,\n",
    "                         \"p_uncond\": 0.2, \n",
    "                         \"logging_freq\": 1000,  \n",
    "                         \"classifier_free\": False\n",
    "                        },\n",
    "                    \n",
    "                    # Autoencoder trainer hparams\n",
    "                    \"trainer_autoencoder_kwargs\": {\n",
    "                        'max_epochs': 1000,\n",
    "                        'gradient_clip_val': 1.,\n",
    "                        'gradient_clip_algorithm': 'norm',\n",
    "                        'default_root_dir': \"\",\n",
    "                        'accelerator': 'gpu',\n",
    "                        'devices': 1,\n",
    "                        'num_sanity_val_steps': 0,\n",
    "                        'check_val_every_n_epoch': 1,\n",
    "                        'log_every_n_steps': 100,\n",
    "                        'detect_anomaly': False,\n",
    "                        'enable_progress_bar': True,\n",
    "                        'enable_model_summary': False,\n",
    "                        'enable_checkpointing': True},  \n",
    "                       \n",
    "                    # Generative model trainer hyperparams \n",
    "                    \"trainer_generative_kwargs\": {\n",
    "                        'max_epochs': 1000,\n",
    "                        'gradient_clip_val': 1.,\n",
    "                        'gradient_clip_algorithm': 'norm',\n",
    "                        'default_root_dir': \"\",\n",
    "                        'accelerator': 'gpu',\n",
    "                        'devices': 1,\n",
    "                        'num_sanity_val_steps': 0,\n",
    "                        'check_val_every_n_epoch': 1,\n",
    "                        'log_every_n_steps': 100,\n",
    "                        'detect_anomaly': False,\n",
    "                        'enable_progress_bar': True,\n",
    "                        'enable_model_summary': False,\n",
    "                        'enable_checkpointing': True}                 \n",
    "                 })"
   ]
  },
  {
   "cell_type": "markdown",
   "id": "3cd5511c",
   "metadata": {},
   "source": [
    "Initialize the cell estimator "
   ]
  },
  {
   "cell_type": "code",
   "execution_count": 22,
   "id": "426560c0",
   "metadata": {
    "scrolled": true
   },
   "outputs": [
    {
     "name": "stdout",
     "output_type": "stream",
     "text": [
      "Create the training folders...\n",
      "Initialize data module...\n"
     ]
    },
    {
     "name": "stderr",
     "output_type": "stream",
     "text": [
      "/usr/local/lib/python3.8/dist-packages/sklearn/preprocessing/_encoders.py:808: FutureWarning: `sparse` was renamed to `sparse_output` in version 1.2 and will be removed in 1.4. `sparse_output` is ignored unless you leave `sparse` to its default value.\n",
      "  warnings.warn(\n",
      "GPU available: True (cuda), used: True\n",
      "TPU available: False, using: 0 TPU cores\n",
      "IPU available: False, using: 0 IPUs\n",
      "HPU available: False, using: 0 HPUs\n",
      "GPU available: True (cuda), used: True\n",
      "TPU available: False, using: 0 TPU cores\n",
      "IPU available: False, using: 0 IPUs\n",
      "HPU available: False, using: 0 HPUs\n"
     ]
    },
    {
     "name": "stdout",
     "output_type": "stream",
     "text": [
      "Initialize feature embeddings...\n",
      "Initialize model...\n"
     ]
    }
   ],
   "source": [
    "estimator = CellDreamerEstimator(args_pert)"
   ]
  },
  {
   "cell_type": "markdown",
   "id": "194efee5",
   "metadata": {},
   "source": [
    "Check feature embeddings "
   ]
  },
  {
   "cell_type": "code",
   "execution_count": 23,
   "id": "9e43d443",
   "metadata": {},
   "outputs": [
    {
     "data": {
      "text/plain": [
       "{'y_drug': 3400, 'y_cell_type': 100}"
      ]
     },
     "execution_count": 23,
     "metadata": {},
     "output_type": "execute_result"
    }
   ],
   "source": [
    "estimator.args.denoising_module_kwargs[\"num_classes\"]"
   ]
  },
  {
   "cell_type": "code",
   "execution_count": 24,
   "id": "62755f9e",
   "metadata": {},
   "outputs": [
    {
     "data": {
      "text/plain": [
       "{'y_drug': DrugsFeaturizer(\n",
       "   (features): Embedding(188, 3400)\n",
       "   (doser): MLP(\n",
       "     (0): Linear(in_features=3401, out_features=128, bias=True)\n",
       "     (1): ReLU(inplace=True)\n",
       "     (2): Dropout(p=0.0, inplace=True)\n",
       "     (3): Linear(in_features=128, out_features=128, bias=True)\n",
       "     (4): ReLU(inplace=True)\n",
       "     (5): Dropout(p=0.0, inplace=True)\n",
       "     (6): Linear(in_features=128, out_features=128, bias=True)\n",
       "     (7): ReLU(inplace=True)\n",
       "     (8): Dropout(p=0.0, inplace=True)\n",
       "     (9): Linear(in_features=128, out_features=1, bias=True)\n",
       "   )\n",
       " ),\n",
       " 'y_cell_type': CategoricalFeaturizer(\n",
       "   (embeddings): Embedding(3, 100)\n",
       " )}"
      ]
     },
     "execution_count": 24,
     "metadata": {},
     "output_type": "execute_result"
    }
   ],
   "source": [
    "estimator.feature_embeddings"
   ]
  },
  {
   "cell_type": "markdown",
   "id": "b07f64b4",
   "metadata": {},
   "source": [
    "Check training batches "
   ]
  },
  {
   "cell_type": "markdown",
   "id": "7bc20ebd",
   "metadata": {},
   "source": [
    "**Try to train**"
   ]
  },
  {
   "cell_type": "code",
   "execution_count": 25,
   "id": "1436c515",
   "metadata": {
    "scrolled": true
   },
   "outputs": [
    {
     "name": "stderr",
     "output_type": "stream",
     "text": [
      "LOCAL_RANK: 0 - CUDA_VISIBLE_DEVICES: [0]\n",
      "SLURM auto-requeueing enabled. Setting signal handlers.\n"
     ]
    },
    {
     "data": {
      "application/vnd.jupyter.widget-view+json": {
       "model_id": "6e623b990a824a4badf77a4e015e8a77",
       "version_major": 2,
       "version_minor": 0
      },
      "text/plain": [
       "Training: 0it [00:00, ?it/s]"
      ]
     },
     "metadata": {},
     "output_type": "display_data"
    },
    {
     "data": {
      "application/vnd.jupyter.widget-view+json": {
       "model_id": "",
       "version_major": 2,
       "version_minor": 0
      },
      "text/plain": [
       "Validation: 0it [00:00, ?it/s]"
      ]
     },
     "metadata": {},
     "output_type": "display_data"
    },
    {
     "data": {
      "application/vnd.jupyter.widget-view+json": {
       "model_id": "",
       "version_major": 2,
       "version_minor": 0
      },
      "text/plain": [
       "Validation: 0it [00:00, ?it/s]"
      ]
     },
     "metadata": {},
     "output_type": "display_data"
    },
    {
     "data": {
      "application/vnd.jupyter.widget-view+json": {
       "model_id": "",
       "version_major": 2,
       "version_minor": 0
      },
      "text/plain": [
       "Validation: 0it [00:00, ?it/s]"
      ]
     },
     "metadata": {},
     "output_type": "display_data"
    },
    {
     "data": {
      "application/vnd.jupyter.widget-view+json": {
       "model_id": "",
       "version_major": 2,
       "version_minor": 0
      },
      "text/plain": [
       "Validation: 0it [00:00, ?it/s]"
      ]
     },
     "metadata": {},
     "output_type": "display_data"
    },
    {
     "data": {
      "application/vnd.jupyter.widget-view+json": {
       "model_id": "",
       "version_major": 2,
       "version_minor": 0
      },
      "text/plain": [
       "Validation: 0it [00:00, ?it/s]"
      ]
     },
     "metadata": {},
     "output_type": "display_data"
    },
    {
     "name": "stderr",
     "output_type": "stream",
     "text": [
      "/usr/local/lib/python3.8/dist-packages/pytorch_lightning/trainer/call.py:54: UserWarning: Detected KeyboardInterrupt, attempting graceful shutdown...\n",
      "  rank_zero_warn(\"Detected KeyboardInterrupt, attempting graceful shutdown...\")\n"
     ]
    },
    {
     "ename": "AttributeError",
     "evalue": "'Args' object has no attribute 'pretrained_generative'",
     "output_type": "error",
     "traceback": [
      "\u001b[0;31m---------------------------------------------------------------------------\u001b[0m",
      "\u001b[0;31mAttributeError\u001b[0m                            Traceback (most recent call last)",
      "Cell \u001b[0;32mIn[25], line 1\u001b[0m\n\u001b[0;32m----> 1\u001b[0m \u001b[43mestimator\u001b[49m\u001b[38;5;241;43m.\u001b[39;49m\u001b[43mtrain\u001b[49m\u001b[43m(\u001b[49m\u001b[43m)\u001b[49m\n",
      "File \u001b[0;32m~/celldreamer/celldreamer/estimator/celldreamer_estimator.py:213\u001b[0m, in \u001b[0;36mCellDreamerEstimator.train\u001b[0;34m(self)\u001b[0m\n\u001b[1;32m    200\u001b[0m \u001b[38;5;28;01mif\u001b[39;00m \u001b[38;5;28mself\u001b[39m\u001b[38;5;241m.\u001b[39margs\u001b[38;5;241m.\u001b[39muse_latent_repr \u001b[38;5;129;01mand\u001b[39;00m \u001b[38;5;28mself\u001b[39m\u001b[38;5;241m.\u001b[39margs\u001b[38;5;241m.\u001b[39mtrain_autoencoder:\n\u001b[1;32m    201\u001b[0m     \u001b[38;5;66;03m# Fit autoencoder model \u001b[39;00m\n\u001b[1;32m    202\u001b[0m     \u001b[38;5;28mself\u001b[39m\u001b[38;5;241m.\u001b[39mtrainer_autoencoder\u001b[38;5;241m.\u001b[39mfit(\n\u001b[1;32m    203\u001b[0m         \u001b[38;5;28mself\u001b[39m\u001b[38;5;241m.\u001b[39mautoencoder,\n\u001b[1;32m    204\u001b[0m         train_dataloaders\u001b[38;5;241m=\u001b[39m\u001b[38;5;28mself\u001b[39m\u001b[38;5;241m.\u001b[39mdatamodule\u001b[38;5;241m.\u001b[39mtrain_dataloader,\n\u001b[1;32m    205\u001b[0m         val_dataloaders\u001b[38;5;241m=\u001b[39m\u001b[38;5;28mself\u001b[39m\u001b[38;5;241m.\u001b[39mdatamodule\u001b[38;5;241m.\u001b[39mvalid_dataloader,\n\u001b[1;32m    206\u001b[0m         ckpt_path\u001b[38;5;241m=\u001b[39m\u001b[38;5;28;01mNone\u001b[39;00m \u001b[38;5;28;01mif\u001b[39;00m \u001b[38;5;129;01mnot\u001b[39;00m \u001b[38;5;28mself\u001b[39m\u001b[38;5;241m.\u001b[39margs\u001b[38;5;241m.\u001b[39mpretrained_autoencoder \u001b[38;5;28;01melse\u001b[39;00m \u001b[38;5;28mself\u001b[39m\u001b[38;5;241m.\u001b[39margs\u001b[38;5;241m.\u001b[39mcheckpoint_autoencoder\n\u001b[1;32m    207\u001b[0m     )\n\u001b[1;32m    209\u001b[0m \u001b[38;5;28mself\u001b[39m\u001b[38;5;241m.\u001b[39mtrainer_generative\u001b[38;5;241m.\u001b[39mfit(\n\u001b[1;32m    210\u001b[0m         \u001b[38;5;28mself\u001b[39m\u001b[38;5;241m.\u001b[39mgenerative_model,\n\u001b[1;32m    211\u001b[0m         train_dataloaders\u001b[38;5;241m=\u001b[39m\u001b[38;5;28mself\u001b[39m\u001b[38;5;241m.\u001b[39mdatamodule\u001b[38;5;241m.\u001b[39mtrain_dataloader,\n\u001b[1;32m    212\u001b[0m         val_dataloaders\u001b[38;5;241m=\u001b[39m\u001b[38;5;28mself\u001b[39m\u001b[38;5;241m.\u001b[39mdatamodule\u001b[38;5;241m.\u001b[39mvalid_dataloader,\n\u001b[0;32m--> 213\u001b[0m         ckpt_path\u001b[38;5;241m=\u001b[39m\u001b[38;5;28;01mNone\u001b[39;00m \u001b[38;5;28;01mif\u001b[39;00m \u001b[38;5;129;01mnot\u001b[39;00m \u001b[38;5;28;43mself\u001b[39;49m\u001b[38;5;241;43m.\u001b[39;49m\u001b[43margs\u001b[49m\u001b[38;5;241;43m.\u001b[39;49m\u001b[43mpretrained_generative\u001b[49m \u001b[38;5;28;01melse\u001b[39;00m \u001b[38;5;28mself\u001b[39m\u001b[38;5;241m.\u001b[39margs\u001b[38;5;241m.\u001b[39mcheckpoint_generative\n\u001b[1;32m    214\u001b[0m         )\n",
      "\u001b[0;31mAttributeError\u001b[0m: 'Args' object has no attribute 'pretrained_generative'"
     ]
    }
   ],
   "source": [
    "estimator.train()"
   ]
  },
  {
   "cell_type": "code",
   "execution_count": null,
   "id": "27e9a048",
   "metadata": {},
   "outputs": [],
   "source": [
    "estimator.autoencoder"
   ]
  },
  {
   "cell_type": "markdown",
   "id": "88834558",
   "metadata": {},
   "source": [
    "**Additional sanity**"
   ]
  },
  {
   "cell_type": "code",
   "execution_count": null,
   "id": "ded323fd",
   "metadata": {},
   "outputs": [],
   "source": [
    "X = next(iter(estimator.datamodule.train_dataloader))"
   ]
  },
  {
   "cell_type": "code",
   "execution_count": null,
   "id": "f25bb1d9",
   "metadata": {},
   "outputs": [],
   "source": [
    "lat, rec = estimator.autoencoder(X)"
   ]
  },
  {
   "cell_type": "code",
   "execution_count": 14,
   "id": "b7b68c27",
   "metadata": {},
   "outputs": [
    {
     "data": {
      "text/plain": [
       "tensor(0.2174, grad_fn=<MeanBackward0>)"
      ]
     },
     "execution_count": 14,
     "metadata": {},
     "output_type": "execute_result"
    }
   ],
   "source": [
    "((rec-X[\"X\"])**2).mean(1).mean()"
   ]
  },
  {
   "cell_type": "code",
   "execution_count": null,
   "id": "ccc9b72c",
   "metadata": {},
   "outputs": [],
   "source": []
  }
 ],
 "metadata": {
  "kernelspec": {
   "display_name": "Python 3 (ipykernel)",
   "language": "python",
   "name": "python3"
  },
  "language_info": {
   "codemirror_mode": {
    "name": "ipython",
    "version": 3
   },
   "file_extension": ".py",
   "mimetype": "text/x-python",
   "name": "python",
   "nbconvert_exporter": "python",
   "pygments_lexer": "ipython3",
   "version": "3.8.10"
  }
 },
 "nbformat": 4,
 "nbformat_minor": 5
}
