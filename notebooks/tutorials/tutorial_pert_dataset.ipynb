{
 "cells": [
  {
   "cell_type": "markdown",
   "id": "5f8c05a9",
   "metadata": {},
   "source": [
    "## Tutorial on perturbation data loader"
   ]
  },
  {
   "cell_type": "code",
   "execution_count": 11,
   "id": "8705b69b",
   "metadata": {},
   "outputs": [],
   "source": [
    "from celldreamer.data.utils import Args\n",
    "from celldreamer.data.pert_loader import PertDataset\n",
    "from celldreamer.paths import PERT_DATA_DIR\n",
    "import torch "
   ]
  },
  {
   "cell_type": "markdown",
   "id": "4c3b9d72",
   "metadata": {},
   "source": [
    "Define hyperparameters to query the data loaders "
   ]
  },
  {
   "cell_type": "code",
   "execution_count": 12,
   "id": "a561cf65",
   "metadata": {},
   "outputs": [],
   "source": [
    "args = Args({\"data_path\": PERT_DATA_DIR / \"sciplex\" / \"sciplex_complete_middle_subset.h5ad\", \n",
    "             \"perturbation_key\": \"condition\",\n",
    "             \"dose_key\": \"dose\",\n",
    "             \"covariate_keys\": \"cell_type\", \n",
    "             \"smiles_key\": \"SMILES\", \n",
    "             \"degs_key\": \"lincs_DEGs\", \n",
    "             \"pert_category\": \"cov_drug_dose_name\",\n",
    "             \"split_key\": \"split_ho_pathway\",\n",
    "             \"use_drugs_idx\": True      , \n",
    "             \"batch_size\": 32\n",
    "            })"
   ]
  },
  {
   "cell_type": "markdown",
   "id": "d6049bdb",
   "metadata": {},
   "source": [
    "Initialize the data class"
   ]
  },
  {
   "cell_type": "code",
   "execution_count": 13,
   "id": "0d8938ec",
   "metadata": {},
   "outputs": [
    {
     "name": "stderr",
     "output_type": "stream",
     "text": [
      "/usr/local/lib/python3.8/dist-packages/sklearn/preprocessing/_encoders.py:808: FutureWarning: `sparse` was renamed to `sparse_output` in version 1.2 and will be removed in 1.4. `sparse_output` is ignored unless you leave `sparse` to its default value.\n",
      "  warnings.warn(\n"
     ]
    }
   ],
   "source": [
    "dataset = PertDataset(data=args.data_path,\n",
    "                        perturbation_key=args.perturbation_key,\n",
    "                        dose_key=args.dose_key,\n",
    "                        covariate_keys=args.covariate_keys,\n",
    "                        smiles_key=args.smiles_key,\n",
    "                        degs_key=args.degs_key,\n",
    "                        pert_category=args.pert_category,\n",
    "                        split_key=args.split_key,\n",
    "                        use_drugs_idx=True)"
   ]
  },
  {
   "cell_type": "markdown",
   "id": "47772023",
   "metadata": {},
   "source": [
    "Define data loaders based on the initialized classes "
   ]
  },
  {
   "cell_type": "code",
   "execution_count": 14,
   "id": "af50b688",
   "metadata": {},
   "outputs": [],
   "source": [
    "datamodule = Args({\"train_dataloader\": torch.utils.data.DataLoader(\n",
    "                                                        dataset.subset(\"train\", \"all\"),\n",
    "                                                        batch_size=args.batch_size,\n",
    "                                                        shuffle=True,\n",
    "                                                    ),\n",
    "                                    \"valid_dataloader\": torch.utils.data.DataLoader(\n",
    "                                                        dataset.subset(\"test\", \"all\"),\n",
    "                                                        batch_size=args.batch_size,\n",
    "                                                        shuffle=True,\n",
    "                                                    ),\n",
    "                                    \"test_dataloader\": torch.utils.data.DataLoader(\n",
    "                                                        dataset.subset(\"ood\", \"all\"),\n",
    "                                                        batch_size=args.batch_size,\n",
    "                                                        shuffle=True,\n",
    "                                    )})"
   ]
  },
  {
   "cell_type": "markdown",
   "id": "d05306e0",
   "metadata": {},
   "source": [
    "Collec a batch for inspection"
   ]
  },
  {
   "cell_type": "code",
   "execution_count": 15,
   "id": "18ff949f",
   "metadata": {
    "scrolled": true
   },
   "outputs": [],
   "source": [
    "batch = next(iter(datamodule.train_dataloader))"
   ]
  },
  {
   "cell_type": "markdown",
   "id": "6102f94f",
   "metadata": {},
   "source": [
    "```batch[\"X\"]``` contains the cell expression profile of dimensionality ```n_batch x n_genes```"
   ]
  },
  {
   "cell_type": "code",
   "execution_count": 16,
   "id": "030ae54d",
   "metadata": {
    "scrolled": true
   },
   "outputs": [
    {
     "data": {
      "text/plain": [
       "tensor([[0.0000, 0.0000, 0.9085,  ..., 0.0000, 0.0000, 0.0000],\n",
       "        [0.0000, 0.0000, 0.0000,  ..., 0.0000, 0.0000, 0.0000],\n",
       "        [0.0000, 0.0000, 0.0000,  ..., 0.0000, 0.0000, 0.0000],\n",
       "        ...,\n",
       "        [0.0000, 0.0000, 0.3214,  ..., 0.0000, 0.0000, 0.0000],\n",
       "        [0.0000, 0.0000, 0.0000,  ..., 0.0000, 0.0000, 0.0000],\n",
       "        [0.0000, 0.0000, 0.6893,  ..., 0.0000, 0.0000, 0.0000]])"
      ]
     },
     "execution_count": 16,
     "metadata": {},
     "output_type": "execute_result"
    }
   ],
   "source": [
    "batch[\"X\"]"
   ]
  },
  {
   "cell_type": "markdown",
   "id": "f3b9de50",
   "metadata": {},
   "source": [
    "```batch[\"X_degs\"]``` contains the (pre-computed) indexes of differentially expressed genes per perturbation "
   ]
  },
  {
   "cell_type": "code",
   "execution_count": 17,
   "id": "4a7bd3f3",
   "metadata": {},
   "outputs": [
    {
     "data": {
      "text/plain": [
       "tensor([[0., 1., 0.,  ..., 0., 0., 0.],\n",
       "        [0., 0., 0.,  ..., 0., 0., 0.],\n",
       "        [0., 0., 0.,  ..., 0., 0., 0.],\n",
       "        ...,\n",
       "        [0., 0., 0.,  ..., 0., 0., 0.],\n",
       "        [0., 0., 0.,  ..., 0., 0., 0.],\n",
       "        [0., 0., 0.,  ..., 0., 0., 0.]])"
      ]
     },
     "execution_count": 17,
     "metadata": {},
     "output_type": "execute_result"
    }
   ],
   "source": [
    "batch[\"X_degs\"]"
   ]
  },
  {
   "cell_type": "markdown",
   "id": "5c7d0024",
   "metadata": {},
   "source": [
    "```batch[\"y\"]``` contains a dictionary representing the covariates associated with an observation"
   ]
  },
  {
   "cell_type": "code",
   "execution_count": 18,
   "id": "00fdff69",
   "metadata": {},
   "outputs": [
    {
     "name": "stdout",
     "output_type": "stream",
     "text": [
      "Keys in the covariate dictionary ['y_drug', 'y_cell_type']\n"
     ]
    }
   ],
   "source": [
    "print(f\"Keys in the covariate dictionary {list(batch['y'].keys())}\")"
   ]
  },
  {
   "cell_type": "markdown",
   "id": "71162d76",
   "metadata": {},
   "source": [
    "The ```y_drug``` key is associated to two elements:\n",
    "* the indexes of the drugs used to extract the structural encoding \n",
    "* the dosage used for dose encoding "
   ]
  },
  {
   "cell_type": "code",
   "execution_count": 19,
   "id": "7a042fb8",
   "metadata": {},
   "outputs": [
    {
     "data": {
      "text/plain": [
       "[tensor([  7,  65, 106, 117, 176, 163, 101, 131,  77, 163,  75, 161,  77,  21,\n",
       "          93,  30, 176,   0, 163, 179, 178,  52,  35,  11, 140,  63,  76, 150,\n",
       "         174, 123,  57,  88]),\n",
       " tensor([ 1000.,    10.,   100.,    10.,  1000.,  1000.,   100.,   100.,   100.,\n",
       "          1000.,   100.,    10.,  1000.,   100.,   100., 10000.,  1000., 10000.,\n",
       "           100., 10000., 10000., 10000., 10000., 10000., 10000.,  1000.,   100.,\n",
       "         10000.,  1000., 10000.,  1000.,   100.])]"
      ]
     },
     "execution_count": 19,
     "metadata": {},
     "output_type": "execute_result"
    }
   ],
   "source": [
    "batch[\"y\"][\"y_drug\"]"
   ]
  },
  {
   "cell_type": "markdown",
   "id": "212217ea",
   "metadata": {},
   "source": [
    "```y_cell_type``` is a one hot encoded array "
   ]
  },
  {
   "cell_type": "code",
   "execution_count": 20,
   "id": "affe649d",
   "metadata": {
    "scrolled": true
   },
   "outputs": [
    {
     "data": {
      "text/plain": [
       "tensor([[1., 0., 0.],\n",
       "        [0., 1., 0.],\n",
       "        [1., 0., 0.],\n",
       "        [0., 0., 1.],\n",
       "        [1., 0., 0.],\n",
       "        [0., 0., 1.],\n",
       "        [0., 1., 0.],\n",
       "        [0., 0., 1.],\n",
       "        [0., 0., 1.],\n",
       "        [0., 1., 0.],\n",
       "        [0., 0., 1.],\n",
       "        [0., 1., 0.],\n",
       "        [0., 0., 1.],\n",
       "        [0., 0., 1.],\n",
       "        [0., 0., 1.],\n",
       "        [0., 1., 0.],\n",
       "        [0., 0., 1.],\n",
       "        [0., 0., 1.],\n",
       "        [0., 0., 1.],\n",
       "        [1., 0., 0.],\n",
       "        [0., 0., 1.],\n",
       "        [1., 0., 0.],\n",
       "        [0., 0., 1.],\n",
       "        [0., 1., 0.],\n",
       "        [0., 0., 1.],\n",
       "        [1., 0., 0.],\n",
       "        [0., 1., 0.],\n",
       "        [0., 1., 0.],\n",
       "        [1., 0., 0.],\n",
       "        [1., 0., 0.],\n",
       "        [0., 1., 0.],\n",
       "        [0., 0., 1.]])"
      ]
     },
     "execution_count": 20,
     "metadata": {},
     "output_type": "execute_result"
    }
   ],
   "source": [
    "batch[\"y\"][\"y_cell_type\"]"
   ]
  },
  {
   "cell_type": "code",
   "execution_count": null,
   "id": "1753aff4",
   "metadata": {},
   "outputs": [],
   "source": []
  }
 ],
 "metadata": {
  "kernelspec": {
   "display_name": "Python 3 (ipykernel)",
   "language": "python",
   "name": "python3"
  },
  "language_info": {
   "codemirror_mode": {
    "name": "ipython",
    "version": 3
   },
   "file_extension": ".py",
   "mimetype": "text/x-python",
   "name": "python",
   "nbconvert_exporter": "python",
   "pygments_lexer": "ipython3",
   "version": "3.8.10"
  }
 },
 "nbformat": 4,
 "nbformat_minor": 5
}
