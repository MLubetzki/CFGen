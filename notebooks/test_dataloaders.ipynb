{
 "cells": [
  {
   "cell_type": "code",
   "execution_count": 20,
   "id": "91fd323d",
   "metadata": {},
   "outputs": [
    {
     "name": "stdout",
     "output_type": "stream",
     "text": [
      "The autoreload extension is already loaded. To reload it, use:\n",
      "  %reload_ext autoreload\n"
     ]
    }
   ],
   "source": [
    "%load_ext autoreload"
   ]
  },
  {
   "cell_type": "code",
   "execution_count": 1,
   "id": "202988ad",
   "metadata": {},
   "outputs": [],
   "source": [
    "from celldreamer.estimator.celldreamer_estimator import CellDreamerEstimator\n",
    "from celldreamer.data.utils import Args\n",
    "from celldreamer.paths import PERT_DATA_DIR\n",
    "from pathlib import Path "
   ]
  },
  {
   "cell_type": "markdown",
   "id": "fd378b00",
   "metadata": {},
   "source": [
    "**Load scRNAseq**"
   ]
  },
  {
   "cell_type": "code",
   "execution_count": 10,
   "id": "97cbd4ec",
   "metadata": {},
   "outputs": [],
   "source": [
    "args_scrnaseq = Args({\"task\": \"cell_generation\",\n",
    "                \"data_path\": \"/lustre/scratch/users/felix.fischer/merlin_cxg_simple_norm_parquet\",\n",
    "                 \"batch_size\": 128,\n",
    "                 \"drop_last\": False,\n",
    "                 \"one_hot_encode_features\": False,\n",
    "                 \"embedding_dimensions\":100, \n",
    "                 \"categories\":[\"cell_type\", \"disease\"],\n",
    "})"
   ]
  },
  {
   "cell_type": "code",
   "execution_count": 12,
   "id": "1edcbc78",
   "metadata": {},
   "outputs": [],
   "source": [
    "estimator_scrnaseq_embeddings = CellDreamerEstimator(args_scrnaseq)\n",
    "estimator_scrnaseq_embeddings.init_datamodule()\n",
    "estimator_scrnaseq_embeddings.init_feature_embeddings()"
   ]
  },
  {
   "cell_type": "code",
   "execution_count": 13,
   "id": "21fcf8a9",
   "metadata": {},
   "outputs": [],
   "source": [
    "batch = next(iter(estimator_scrnaseq_embeddings.datamodule.train_dataloader()))"
   ]
  },
  {
   "cell_type": "code",
   "execution_count": 14,
   "id": "7632a847",
   "metadata": {},
   "outputs": [
    {
     "data": {
      "text/plain": [
       "torch.Size([128, 19357])"
      ]
     },
     "execution_count": 14,
     "metadata": {},
     "output_type": "execute_result"
    }
   ],
   "source": [
    "batch[0][\"X\"].shape"
   ]
  },
  {
   "cell_type": "code",
   "execution_count": 15,
   "id": "e7dc5cbb",
   "metadata": {},
   "outputs": [
    {
     "data": {
      "text/plain": [
       "{'cell_type': CategoricalFeaturizer(\n",
       "   (embeddings): Embedding(128, 100)\n",
       " ),\n",
       " 'disease': CategoricalFeaturizer(\n",
       "   (embeddings): Embedding(29, 100)\n",
       " )}"
      ]
     },
     "execution_count": 15,
     "metadata": {},
     "output_type": "execute_result"
    }
   ],
   "source": [
    "# Test featurizer \n",
    "estimator_scrnaseq_embeddings.feature_embeddings"
   ]
  },
  {
   "cell_type": "code",
   "execution_count": 16,
   "id": "80c90511",
   "metadata": {},
   "outputs": [],
   "source": [
    "batch_disease = batch[0][\"disease\"].squeeze()"
   ]
  },
  {
   "cell_type": "code",
   "execution_count": 17,
   "id": "791f8782",
   "metadata": {},
   "outputs": [
    {
     "name": "stdout",
     "output_type": "stream",
     "text": [
      "torch.Size([128, 100])\n"
     ]
    }
   ],
   "source": [
    "embeddings_batch = estimator_scrnaseq_embeddings.feature_embeddings[\"disease\"](batch_disease)\n",
    "print(embeddings_batch.shape)"
   ]
  },
  {
   "cell_type": "code",
   "execution_count": 18,
   "id": "7068f40d",
   "metadata": {},
   "outputs": [
    {
     "data": {
      "text/plain": [
       "tensor([[-0.4553, -0.7296, -0.2910,  ...,  0.7050,  1.7850, -0.5511],\n",
       "        [-0.2434,  1.1698, -0.4538,  ..., -0.3709, -0.7903,  1.8038],\n",
       "        [ 0.1290,  0.8190,  0.7355,  ...,  0.8869,  1.4369, -0.4915],\n",
       "        ...,\n",
       "        [-0.4553, -0.7296, -0.2910,  ...,  0.7050,  1.7850, -0.5511],\n",
       "        [ 0.2846,  1.5765, -0.6417,  ...,  1.4187, -1.3890,  1.7056],\n",
       "        [ 0.1290,  0.8190,  0.7355,  ...,  0.8869,  1.4369, -0.4915]],\n",
       "       device='cuda:0', grad_fn=<EmbeddingBackward0>)"
      ]
     },
     "execution_count": 18,
     "metadata": {},
     "output_type": "execute_result"
    }
   ],
   "source": [
    "embeddings_batch"
   ]
  },
  {
   "cell_type": "markdown",
   "id": "e7e95c34",
   "metadata": {},
   "source": [
    "**Load perturbation dataset**"
   ]
  },
  {
   "cell_type": "code",
   "execution_count": 2,
   "id": "11d9c09b",
   "metadata": {},
   "outputs": [],
   "source": [
    "path = Path(PERT_DATA_DIR)"
   ]
  },
  {
   "cell_type": "code",
   "execution_count": 3,
   "id": "9f45eaac",
   "metadata": {},
   "outputs": [],
   "source": [
    "args_pert = Args({\"task\": \"perturbation_modelling\",\n",
    "                  \"freeze_embeddings\": True,\n",
    "                  \"feature_type\": \"grover\",\n",
    "                  \"data_path\": path / 'sciplex' / 'sciplex_complete_middle_subset.h5ad',\n",
    "                  \"perturbation_key\": \"condition\",\n",
    "                  \"dose_key\": \"dose\",\n",
    "                  \"covariate_keys\": \"cell_type\",\n",
    "                  \"smile_keys\": \"SMILES\",\n",
    "                  \"degs_key\": \"lincs_DEGs\",\n",
    "                  \"pert_category\": \"cov_drug_dose_name\",\n",
    "                  \"split_key\": \"split_ho_pathway\",\n",
    "                  \"batch_size\": 128, \n",
    "                  \"use_drugs_idx\":True})"
   ]
  },
  {
   "cell_type": "code",
   "execution_count": 4,
   "id": "f6d05006",
   "metadata": {
    "scrolled": true
   },
   "outputs": [
    {
     "name": "stderr",
     "output_type": "stream",
     "text": [
      "/home/icb/alessandro.palma/miniconda3/envs/celldreamer/lib/python3.10/site-packages/sklearn/preprocessing/_encoders.py:828: FutureWarning: `sparse` was renamed to `sparse_output` in version 1.2 and will be removed in 1.4. `sparse_output` is ignored unless you leave `sparse` to its default value.\n",
      "  warnings.warn(\n"
     ]
    }
   ],
   "source": [
    "estimator_drugs = CellDreamerEstimator(args_pert)\n",
    "estimator_drugs.init_datamodule()\n",
    "estimator_drugs.init_feature_embeddings()"
   ]
  },
  {
   "cell_type": "code",
   "execution_count": 10,
   "id": "887f3b06",
   "metadata": {},
   "outputs": [],
   "source": [
    "batch = next(iter(estimator_drugs.datamodule.train_dataloader))"
   ]
  },
  {
   "cell_type": "code",
   "execution_count": 11,
   "id": "3b242328",
   "metadata": {},
   "outputs": [
    {
     "data": {
      "text/plain": [
       "torch.Size([128, 2000])"
      ]
     },
     "execution_count": 11,
     "metadata": {},
     "output_type": "execute_result"
    }
   ],
   "source": [
    "batch[0].shape"
   ]
  },
  {
   "cell_type": "code",
   "execution_count": 12,
   "id": "5a84d0c7",
   "metadata": {},
   "outputs": [
    {
     "data": {
      "text/plain": [
       "tensor([173, 187,  85, 127,  88,  74,  16,  30, 171, 162,  28, 102, 113,  25,\n",
       "        161, 152, 135, 107, 161,  55, 103,  96,  56,  28, 181,  18, 105,  12,\n",
       "         55, 102, 110, 103, 183, 102, 134, 167, 141, 140,  57,  57,  71,  60,\n",
       "        122,  20,  20,   6, 117, 119,  73,  43, 137,  35, 109, 147,  70,  38,\n",
       "        140, 106, 107, 110,  98,  11, 187, 187, 156,  20, 115, 170,  46, 128,\n",
       "         73,  20,  38, 186,  60,  78, 151, 176, 135, 112, 168, 170,   3,  63,\n",
       "        186, 151,  35, 114, 175, 173, 180,  85, 113, 111,  18, 121,   8,  90,\n",
       "         23, 148,  62,  25, 165,  54, 112, 187, 187,  76,  73, 109,  64,  94,\n",
       "        181,  17, 107,  55, 182, 140,  59, 126, 157, 135,  15, 133,  54,  47,\n",
       "        106, 170])"
      ]
     },
     "execution_count": 12,
     "metadata": {},
     "output_type": "execute_result"
    }
   ],
   "source": [
    "batch[1]"
   ]
  },
  {
   "cell_type": "code",
   "execution_count": 13,
   "id": "ee7727b4",
   "metadata": {},
   "outputs": [
    {
     "data": {
      "text/plain": [
       "tensor([10000.,     0.,  1000., 10000.,  1000.,    10.,   100., 10000.,  1000.,\n",
       "          100.,  1000., 10000.,   100.,   100.,   100.,   100.,   100., 10000.,\n",
       "        10000.,  1000.,    10.,  1000.,  1000.,    10.,   100., 10000.,  1000.,\n",
       "        10000., 10000., 10000.,  1000., 10000.,  1000.,   100.,   100.,   100.,\n",
       "         1000.,  1000., 10000., 10000.,  1000., 10000.,   100.,  1000.,    10.,\n",
       "          100., 10000., 10000., 10000.,  1000.,   100., 10000.,    10.,  1000.,\n",
       "        10000.,    10.,    10.,    10., 10000.,  1000., 10000.,  1000.,     0.,\n",
       "            0.,    10., 10000., 10000.,   100.,   100.,   100., 10000., 10000.,\n",
       "         1000.,  1000.,  1000.,  1000.,  1000., 10000.,  1000.,    10., 10000.,\n",
       "          100.,    10.,   100.,    10., 10000., 10000.,   100.,   100.,  1000.,\n",
       "          100.,  1000.,  1000.,    10., 10000., 10000.,   100.,  1000.,    10.,\n",
       "         1000., 10000.,   100.,    10.,  1000.,   100.,     0.,     0.,    10.,\n",
       "        10000.,  1000., 10000.,  1000.,  1000., 10000.,   100.,  1000., 10000.,\n",
       "        10000.,  1000.,  1000., 10000.,  1000.,    10.,   100., 10000.,   100.,\n",
       "         1000., 10000.])"
      ]
     },
     "execution_count": 13,
     "metadata": {},
     "output_type": "execute_result"
    }
   ],
   "source": [
    "batch[2]"
   ]
  },
  {
   "cell_type": "code",
   "execution_count": 9,
   "id": "3b251670",
   "metadata": {},
   "outputs": [
    {
     "data": {
      "text/plain": [
       "tensor([[0., 0., 0.,  ..., 0., 0., 0.],\n",
       "        [0., 0., 0.,  ..., 0., 0., 0.],\n",
       "        [0., 0., 0.,  ..., 0., 0., 0.],\n",
       "        ...,\n",
       "        [0., 0., 0.,  ..., 0., 0., 0.],\n",
       "        [0., 0., 0.,  ..., 0., 0., 0.],\n",
       "        [0., 0., 0.,  ..., 0., 0., 0.]])"
      ]
     },
     "execution_count": 9,
     "metadata": {},
     "output_type": "execute_result"
    }
   ],
   "source": [
    "batch[3]"
   ]
  },
  {
   "cell_type": "code",
   "execution_count": 14,
   "id": "4f14f377",
   "metadata": {},
   "outputs": [
    {
     "data": {
      "text/plain": [
       "tensor([[0., 1., 0.],\n",
       "        [0., 1., 0.],\n",
       "        [0., 1., 0.],\n",
       "        [0., 0., 1.],\n",
       "        [0., 1., 0.],\n",
       "        [0., 1., 0.],\n",
       "        [0., 1., 0.],\n",
       "        [0., 0., 1.],\n",
       "        [1., 0., 0.],\n",
       "        [0., 0., 1.],\n",
       "        [0., 1., 0.],\n",
       "        [0., 1., 0.],\n",
       "        [0., 0., 1.],\n",
       "        [0., 1., 0.],\n",
       "        [1., 0., 0.],\n",
       "        [0., 0., 1.],\n",
       "        [0., 0., 1.],\n",
       "        [1., 0., 0.],\n",
       "        [0., 1., 0.],\n",
       "        [1., 0., 0.],\n",
       "        [1., 0., 0.],\n",
       "        [1., 0., 0.],\n",
       "        [0., 0., 1.],\n",
       "        [0., 1., 0.],\n",
       "        [0., 0., 1.],\n",
       "        [0., 0., 1.],\n",
       "        [1., 0., 0.],\n",
       "        [1., 0., 0.],\n",
       "        [0., 0., 1.],\n",
       "        [0., 0., 1.],\n",
       "        [0., 0., 1.],\n",
       "        [0., 1., 0.],\n",
       "        [0., 0., 1.],\n",
       "        [1., 0., 0.],\n",
       "        [0., 0., 1.],\n",
       "        [0., 0., 1.],\n",
       "        [0., 0., 1.],\n",
       "        [0., 0., 1.],\n",
       "        [0., 0., 1.],\n",
       "        [0., 0., 1.],\n",
       "        [0., 1., 0.],\n",
       "        [1., 0., 0.],\n",
       "        [0., 0., 1.],\n",
       "        [0., 0., 1.],\n",
       "        [1., 0., 0.],\n",
       "        [1., 0., 0.],\n",
       "        [1., 0., 0.],\n",
       "        [1., 0., 0.],\n",
       "        [1., 0., 0.],\n",
       "        [0., 1., 0.],\n",
       "        [0., 1., 0.],\n",
       "        [0., 0., 1.],\n",
       "        [1., 0., 0.],\n",
       "        [0., 0., 1.],\n",
       "        [0., 0., 1.],\n",
       "        [0., 0., 1.],\n",
       "        [0., 0., 1.],\n",
       "        [0., 0., 1.],\n",
       "        [0., 1., 0.],\n",
       "        [1., 0., 0.],\n",
       "        [1., 0., 0.],\n",
       "        [1., 0., 0.],\n",
       "        [1., 0., 0.],\n",
       "        [1., 0., 0.],\n",
       "        [0., 1., 0.],\n",
       "        [0., 0., 1.],\n",
       "        [1., 0., 0.],\n",
       "        [0., 1., 0.],\n",
       "        [0., 1., 0.],\n",
       "        [1., 0., 0.],\n",
       "        [0., 0., 1.],\n",
       "        [0., 1., 0.],\n",
       "        [0., 0., 1.],\n",
       "        [0., 1., 0.],\n",
       "        [1., 0., 0.],\n",
       "        [0., 0., 1.],\n",
       "        [0., 0., 1.],\n",
       "        [0., 0., 1.],\n",
       "        [0., 1., 0.],\n",
       "        [1., 0., 0.],\n",
       "        [1., 0., 0.],\n",
       "        [0., 0., 1.],\n",
       "        [0., 0., 1.],\n",
       "        [0., 1., 0.],\n",
       "        [0., 0., 1.],\n",
       "        [0., 0., 1.],\n",
       "        [0., 0., 1.],\n",
       "        [0., 0., 1.],\n",
       "        [1., 0., 0.],\n",
       "        [0., 0., 1.],\n",
       "        [0., 0., 1.],\n",
       "        [0., 0., 1.],\n",
       "        [0., 0., 1.],\n",
       "        [0., 1., 0.],\n",
       "        [0., 0., 1.],\n",
       "        [1., 0., 0.],\n",
       "        [0., 1., 0.],\n",
       "        [1., 0., 0.],\n",
       "        [0., 0., 1.],\n",
       "        [0., 0., 1.],\n",
       "        [1., 0., 0.],\n",
       "        [0., 1., 0.],\n",
       "        [1., 0., 0.],\n",
       "        [1., 0., 0.],\n",
       "        [1., 0., 0.],\n",
       "        [0., 1., 0.],\n",
       "        [0., 0., 1.],\n",
       "        [0., 0., 1.],\n",
       "        [1., 0., 0.],\n",
       "        [0., 0., 1.],\n",
       "        [0., 0., 1.],\n",
       "        [0., 0., 1.],\n",
       "        [0., 0., 1.],\n",
       "        [0., 1., 0.],\n",
       "        [0., 0., 1.],\n",
       "        [0., 0., 1.],\n",
       "        [0., 0., 1.],\n",
       "        [0., 1., 0.],\n",
       "        [0., 0., 1.],\n",
       "        [0., 0., 1.],\n",
       "        [0., 0., 1.],\n",
       "        [0., 1., 0.],\n",
       "        [0., 1., 0.],\n",
       "        [0., 0., 1.],\n",
       "        [1., 0., 0.],\n",
       "        [1., 0., 0.],\n",
       "        [0., 0., 1.],\n",
       "        [0., 0., 1.]])"
      ]
     },
     "execution_count": 14,
     "metadata": {},
     "output_type": "execute_result"
    }
   ],
   "source": [
    "batch[4]"
   ]
  },
  {
   "cell_type": "code",
   "execution_count": 18,
   "id": "f5e46998",
   "metadata": {},
   "outputs": [
    {
     "name": "stdout",
     "output_type": "stream",
     "text": [
      "torch.Size([128, 3400])\n"
     ]
    }
   ],
   "source": [
    "embeddings_batch = estimator_drugs.feature_embeddings(batch[1])\n",
    "print(embeddings_batch.shape)"
   ]
  }
 ],
 "metadata": {
  "kernelspec": {
   "display_name": "Python 3 (ipykernel)",
   "language": "python",
   "name": "python3"
  },
  "language_info": {
   "codemirror_mode": {
    "name": "ipython",
    "version": 3
   },
   "file_extension": ".py",
   "mimetype": "text/x-python",
   "name": "python",
   "nbconvert_exporter": "python",
   "pygments_lexer": "ipython3",
   "version": "3.10.9"
  }
 },
 "nbformat": 4,
 "nbformat_minor": 5
}
