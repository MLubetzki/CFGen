{
 "cells": [
  {
   "cell_type": "code",
   "execution_count": 1,
   "id": "1d8d638d",
   "metadata": {},
   "outputs": [],
   "source": [
    "import scanpy as sc\n",
    "from rdkit import Chem\n",
    "import pandas as pd\n",
    "import numpy as np\n",
    "from pathlib import Path"
   ]
  },
  {
   "cell_type": "markdown",
   "id": "bfd4a7e6",
   "metadata": {},
   "source": [
    "Create the GROVER embeddings"
   ]
  },
  {
   "cell_type": "code",
   "execution_count": 4,
   "id": "6355ba79",
   "metadata": {},
   "outputs": [
    {
     "name": "stderr",
     "output_type": "stream",
     "text": [
      "+ cp ../../datasets/sciplex/sciplex.smiles ./data/preliminary_embeddings/sciplex_smiles.csv\n",
      "+ file=data/preliminary_embeddings/sciplex_smiles.csv\n",
      "+ echo 'FILE: data/preliminary_embeddings/sciplex_smiles.csv'\n",
      "++ echo data/preliminary_embeddings/sciplex_smiles.csv\n"
     ]
    },
    {
     "name": "stdout",
     "output_type": "stream",
     "text": [
      "FILE: data/preliminary_embeddings/sciplex_smiles.csv\n"
     ]
    },
    {
     "name": "stderr",
     "output_type": "stream",
     "text": [
      "++ sed s:.csv:.npz:\n",
      "+ features=data/preliminary_embeddings/sciplex_smiles.npz\n",
      "+ [[ ! -f data/preliminary_embeddings/sciplex_smiles.npz ]]\n",
      "+ echo 'Generating features: data/preliminary_embeddings/sciplex_smiles.npz'\n",
      "+ python scripts/save_features.py --data_path data/preliminary_embeddings/sciplex_smiles.csv --save_path data/preliminary_embeddings/sciplex_smiles.npz --features_generator rdkit_2d_normalized --restart\n"
     ]
    },
    {
     "name": "stdout",
     "output_type": "stream",
     "text": [
      "Generating features: data/preliminary_embeddings/sciplex_smiles.npz\n"
     ]
    },
    {
     "name": "stderr",
     "output_type": "stream",
     "text": [
      "100%|██████████| 188/188 [00:03<00:00, 58.43it/s]\n",
      "++ echo data/preliminary_embeddings/sciplex_smiles.csv\n",
      "++ sed s:.csv:_grover_base_both.npz:\n",
      "+ outfile=data/preliminary_embeddings/sciplex_smiles_grover_base_both.npz\n",
      "+ echo 'EMB: data/preliminary_embeddings/sciplex_smiles_grover_base_both.npz'\n"
     ]
    },
    {
     "name": "stdout",
     "output_type": "stream",
     "text": [
      "EMB: data/preliminary_embeddings/sciplex_smiles_grover_base_both.npz\n"
     ]
    },
    {
     "name": "stderr",
     "output_type": "stream",
     "text": [
      "+ [[ ! -f data/preliminary_embeddings/sciplex_smiles_grover_base_both.npz ]]\n",
      "+ echo 'Generating embedding: data/preliminary_embeddings/sciplex_smiles_grover_base_both.npz'\n",
      "+ python main.py fingerprint --data_path data/preliminary_embeddings/sciplex_smiles.csv --features_path data/preliminary_embeddings/sciplex_smiles.npz --checkpoint_path data/checkpoints/grover_base.pt --fingerprint_source both --output data/preliminary_embeddings/sciplex_smiles_grover_base_both.npz\n"
     ]
    },
    {
     "name": "stdout",
     "output_type": "stream",
     "text": [
      "Generating embedding: data/preliminary_embeddings/sciplex_smiles_grover_base_both.npz\n"
     ]
    },
    {
     "name": "stderr",
     "output_type": "stream",
     "text": [
      "Total size = 188\n",
      "Generating...\n",
      "Loading pretrained parameter \"grover.encoders.edge_blocks.0.heads.0.mpn_q.act_func.weight\".\n",
      "Loading pretrained parameter \"grover.encoders.edge_blocks.0.heads.0.mpn_q.W_h.weight\".\n",
      "Loading pretrained parameter \"grover.encoders.edge_blocks.0.heads.0.mpn_k.act_func.weight\".\n",
      "Loading pretrained parameter \"grover.encoders.edge_blocks.0.heads.0.mpn_k.W_h.weight\".\n",
      "Loading pretrained parameter \"grover.encoders.edge_blocks.0.heads.0.mpn_v.act_func.weight\".\n",
      "Loading pretrained parameter \"grover.encoders.edge_blocks.0.heads.0.mpn_v.W_h.weight\".\n",
      "Loading pretrained parameter \"grover.encoders.edge_blocks.0.heads.1.mpn_q.act_func.weight\".\n",
      "Loading pretrained parameter \"grover.encoders.edge_blocks.0.heads.1.mpn_q.W_h.weight\".\n",
      "Loading pretrained parameter \"grover.encoders.edge_blocks.0.heads.1.mpn_k.act_func.weight\".\n",
      "Loading pretrained parameter \"grover.encoders.edge_blocks.0.heads.1.mpn_k.W_h.weight\".\n",
      "Loading pretrained parameter \"grover.encoders.edge_blocks.0.heads.1.mpn_v.act_func.weight\".\n",
      "Loading pretrained parameter \"grover.encoders.edge_blocks.0.heads.1.mpn_v.W_h.weight\".\n",
      "Loading pretrained parameter \"grover.encoders.edge_blocks.0.heads.2.mpn_q.act_func.weight\".\n",
      "Loading pretrained parameter \"grover.encoders.edge_blocks.0.heads.2.mpn_q.W_h.weight\".\n",
      "Loading pretrained parameter \"grover.encoders.edge_blocks.0.heads.2.mpn_k.act_func.weight\".\n",
      "Loading pretrained parameter \"grover.encoders.edge_blocks.0.heads.2.mpn_k.W_h.weight\".\n",
      "Loading pretrained parameter \"grover.encoders.edge_blocks.0.heads.2.mpn_v.act_func.weight\".\n",
      "Loading pretrained parameter \"grover.encoders.edge_blocks.0.heads.2.mpn_v.W_h.weight\".\n",
      "Loading pretrained parameter \"grover.encoders.edge_blocks.0.heads.3.mpn_q.act_func.weight\".\n",
      "Loading pretrained parameter \"grover.encoders.edge_blocks.0.heads.3.mpn_q.W_h.weight\".\n",
      "Loading pretrained parameter \"grover.encoders.edge_blocks.0.heads.3.mpn_k.act_func.weight\".\n",
      "Loading pretrained parameter \"grover.encoders.edge_blocks.0.heads.3.mpn_k.W_h.weight\".\n",
      "Loading pretrained parameter \"grover.encoders.edge_blocks.0.heads.3.mpn_v.act_func.weight\".\n",
      "Loading pretrained parameter \"grover.encoders.edge_blocks.0.heads.3.mpn_v.W_h.weight\".\n",
      "Loading pretrained parameter \"grover.encoders.edge_blocks.0.act_func.weight\".\n",
      "Loading pretrained parameter \"grover.encoders.edge_blocks.0.layernorm.weight\".\n",
      "Loading pretrained parameter \"grover.encoders.edge_blocks.0.layernorm.bias\".\n",
      "Loading pretrained parameter \"grover.encoders.edge_blocks.0.W_i.weight\".\n",
      "Loading pretrained parameter \"grover.encoders.edge_blocks.0.attn.linear_layers.0.weight\".\n",
      "Loading pretrained parameter \"grover.encoders.edge_blocks.0.attn.linear_layers.0.bias\".\n",
      "Loading pretrained parameter \"grover.encoders.edge_blocks.0.attn.linear_layers.1.weight\".\n",
      "Loading pretrained parameter \"grover.encoders.edge_blocks.0.attn.linear_layers.1.bias\".\n",
      "Loading pretrained parameter \"grover.encoders.edge_blocks.0.attn.linear_layers.2.weight\".\n",
      "Loading pretrained parameter \"grover.encoders.edge_blocks.0.attn.linear_layers.2.bias\".\n",
      "Loading pretrained parameter \"grover.encoders.edge_blocks.0.attn.output_linear.weight\".\n",
      "Loading pretrained parameter \"grover.encoders.edge_blocks.0.W_o.weight\".\n",
      "Loading pretrained parameter \"grover.encoders.edge_blocks.0.sublayer.norm.weight\".\n",
      "Loading pretrained parameter \"grover.encoders.edge_blocks.0.sublayer.norm.bias\".\n",
      "Loading pretrained parameter \"grover.encoders.node_blocks.0.heads.0.mpn_q.act_func.weight\".\n",
      "Loading pretrained parameter \"grover.encoders.node_blocks.0.heads.0.mpn_q.W_h.weight\".\n",
      "Loading pretrained parameter \"grover.encoders.node_blocks.0.heads.0.mpn_k.act_func.weight\".\n",
      "Loading pretrained parameter \"grover.encoders.node_blocks.0.heads.0.mpn_k.W_h.weight\".\n",
      "Loading pretrained parameter \"grover.encoders.node_blocks.0.heads.0.mpn_v.act_func.weight\".\n",
      "Loading pretrained parameter \"grover.encoders.node_blocks.0.heads.0.mpn_v.W_h.weight\".\n",
      "Loading pretrained parameter \"grover.encoders.node_blocks.0.heads.1.mpn_q.act_func.weight\".\n",
      "Loading pretrained parameter \"grover.encoders.node_blocks.0.heads.1.mpn_q.W_h.weight\".\n",
      "Loading pretrained parameter \"grover.encoders.node_blocks.0.heads.1.mpn_k.act_func.weight\".\n",
      "Loading pretrained parameter \"grover.encoders.node_blocks.0.heads.1.mpn_k.W_h.weight\".\n",
      "Loading pretrained parameter \"grover.encoders.node_blocks.0.heads.1.mpn_v.act_func.weight\".\n",
      "Loading pretrained parameter \"grover.encoders.node_blocks.0.heads.1.mpn_v.W_h.weight\".\n",
      "Loading pretrained parameter \"grover.encoders.node_blocks.0.heads.2.mpn_q.act_func.weight\".\n",
      "Loading pretrained parameter \"grover.encoders.node_blocks.0.heads.2.mpn_q.W_h.weight\".\n",
      "Loading pretrained parameter \"grover.encoders.node_blocks.0.heads.2.mpn_k.act_func.weight\".\n",
      "Loading pretrained parameter \"grover.encoders.node_blocks.0.heads.2.mpn_k.W_h.weight\".\n",
      "Loading pretrained parameter \"grover.encoders.node_blocks.0.heads.2.mpn_v.act_func.weight\".\n",
      "Loading pretrained parameter \"grover.encoders.node_blocks.0.heads.2.mpn_v.W_h.weight\".\n",
      "Loading pretrained parameter \"grover.encoders.node_blocks.0.heads.3.mpn_q.act_func.weight\".\n",
      "Loading pretrained parameter \"grover.encoders.node_blocks.0.heads.3.mpn_q.W_h.weight\".\n",
      "Loading pretrained parameter \"grover.encoders.node_blocks.0.heads.3.mpn_k.act_func.weight\".\n",
      "Loading pretrained parameter \"grover.encoders.node_blocks.0.heads.3.mpn_k.W_h.weight\".\n",
      "Loading pretrained parameter \"grover.encoders.node_blocks.0.heads.3.mpn_v.act_func.weight\".\n",
      "Loading pretrained parameter \"grover.encoders.node_blocks.0.heads.3.mpn_v.W_h.weight\".\n",
      "Loading pretrained parameter \"grover.encoders.node_blocks.0.act_func.weight\".\n",
      "Loading pretrained parameter \"grover.encoders.node_blocks.0.layernorm.weight\".\n",
      "Loading pretrained parameter \"grover.encoders.node_blocks.0.layernorm.bias\".\n",
      "Loading pretrained parameter \"grover.encoders.node_blocks.0.W_i.weight\".\n",
      "Loading pretrained parameter \"grover.encoders.node_blocks.0.attn.linear_layers.0.weight\".\n",
      "Loading pretrained parameter \"grover.encoders.node_blocks.0.attn.linear_layers.0.bias\".\n",
      "Loading pretrained parameter \"grover.encoders.node_blocks.0.attn.linear_layers.1.weight\".\n",
      "Loading pretrained parameter \"grover.encoders.node_blocks.0.attn.linear_layers.1.bias\".\n",
      "Loading pretrained parameter \"grover.encoders.node_blocks.0.attn.linear_layers.2.weight\".\n",
      "Loading pretrained parameter \"grover.encoders.node_blocks.0.attn.linear_layers.2.bias\".\n",
      "Loading pretrained parameter \"grover.encoders.node_blocks.0.attn.output_linear.weight\".\n",
      "Loading pretrained parameter \"grover.encoders.node_blocks.0.W_o.weight\".\n",
      "Loading pretrained parameter \"grover.encoders.node_blocks.0.sublayer.norm.weight\".\n",
      "Loading pretrained parameter \"grover.encoders.node_blocks.0.sublayer.norm.bias\".\n",
      "Loading pretrained parameter \"grover.encoders.ffn_atom_from_atom.W_1.weight\".\n",
      "Loading pretrained parameter \"grover.encoders.ffn_atom_from_atom.W_1.bias\".\n",
      "Loading pretrained parameter \"grover.encoders.ffn_atom_from_atom.W_2.weight\".\n",
      "Loading pretrained parameter \"grover.encoders.ffn_atom_from_atom.W_2.bias\".\n",
      "Loading pretrained parameter \"grover.encoders.ffn_atom_from_atom.act_func.weight\".\n",
      "Loading pretrained parameter \"grover.encoders.ffn_atom_from_bond.W_1.weight\".\n",
      "Loading pretrained parameter \"grover.encoders.ffn_atom_from_bond.W_1.bias\".\n",
      "Loading pretrained parameter \"grover.encoders.ffn_atom_from_bond.W_2.weight\".\n",
      "Loading pretrained parameter \"grover.encoders.ffn_atom_from_bond.W_2.bias\".\n",
      "Loading pretrained parameter \"grover.encoders.ffn_atom_from_bond.act_func.weight\".\n",
      "Loading pretrained parameter \"grover.encoders.ffn_bond_from_atom.W_1.weight\".\n",
      "Loading pretrained parameter \"grover.encoders.ffn_bond_from_atom.W_1.bias\".\n",
      "Loading pretrained parameter \"grover.encoders.ffn_bond_from_atom.W_2.weight\".\n",
      "Loading pretrained parameter \"grover.encoders.ffn_bond_from_atom.W_2.bias\".\n",
      "Loading pretrained parameter \"grover.encoders.ffn_bond_from_atom.act_func.weight\".\n",
      "Loading pretrained parameter \"grover.encoders.ffn_bond_from_bond.W_1.weight\".\n",
      "Loading pretrained parameter \"grover.encoders.ffn_bond_from_bond.W_1.bias\".\n",
      "Loading pretrained parameter \"grover.encoders.ffn_bond_from_bond.W_2.weight\".\n",
      "Loading pretrained parameter \"grover.encoders.ffn_bond_from_bond.W_2.bias\".\n",
      "Loading pretrained parameter \"grover.encoders.ffn_bond_from_bond.act_func.weight\".\n"
     ]
    },
    {
     "name": "stderr",
     "output_type": "stream",
     "text": [
      "Loading pretrained parameter \"grover.encoders.atom_from_atom_sublayer.norm.weight\".\n",
      "Loading pretrained parameter \"grover.encoders.atom_from_atom_sublayer.norm.bias\".\n",
      "Loading pretrained parameter \"grover.encoders.atom_from_bond_sublayer.norm.weight\".\n",
      "Loading pretrained parameter \"grover.encoders.atom_from_bond_sublayer.norm.bias\".\n",
      "Loading pretrained parameter \"grover.encoders.bond_from_atom_sublayer.norm.weight\".\n",
      "Loading pretrained parameter \"grover.encoders.bond_from_atom_sublayer.norm.bias\".\n",
      "Loading pretrained parameter \"grover.encoders.bond_from_bond_sublayer.norm.weight\".\n",
      "Loading pretrained parameter \"grover.encoders.bond_from_bond_sublayer.norm.bias\".\n",
      "Loading pretrained parameter \"grover.encoders.act_func_node.weight\".\n",
      "Loading pretrained parameter \"grover.encoders.act_func_edge.weight\".\n",
      "Moving model to cuda\n"
     ]
    },
    {
     "name": "stdout",
     "output_type": "stream",
     "text": [
      "[WARNING] Horovod cannot be imported; multi-GPU training is unsupported\n",
      "Loading data\n"
     ]
    }
   ],
   "source": [
    "%%bash\n",
    "set -euox pipefail\n",
    "\n",
    "# move csv of all smiles to be encoded into current workdir\n",
    "cp ../../datasets/sciplex/sciplex.smiles ./data/preliminary_embeddings/sciplex_smiles.csv\n",
    "file=\"data/preliminary_embeddings/sciplex_smiles.csv\"\n",
    "\n",
    "# First we generate the feature embedding for the SMILES, which is an extra input\n",
    "# into GROVER\n",
    "echo \"FILE: $file\"\n",
    "features=$(echo $file | sed 's:.csv:.npz:')\n",
    "if [[ ! -f $features ]]; then\n",
    "    echo \"Generating features: $features\"\n",
    "    python scripts/save_features.py --data_path \"$file\" \\\n",
    "                            --save_path \"$features\" \\\n",
    "                            --features_generator rdkit_2d_normalized \\\n",
    "                            --restart\n",
    "fi;\n",
    "\n",
    "# Second we input SMILES + Features into grover and get the fingerprint out\n",
    "# 'both' means we get a concatenated fingerprint of combined atoms + bonds features\n",
    "outfile=$(echo $file | sed 's:.csv:_grover_base_both.npz:')\n",
    "echo \"EMB: $outfile\"\n",
    "if [[ ! -f $outfile ]]; then\n",
    "    echo \"Generating embedding: $outfile\"\n",
    "    python main.py fingerprint --data_path \"$file\" \\\n",
    "                       --features_path \"$features\" \\\n",
    "                       --checkpoint_path data/checkpoints/grover_base.pt \\\n",
    "                       --fingerprint_source both \\\n",
    "                       --output \"$outfile\"\n",
    "fi;\n"
   ]
  },
  {
   "cell_type": "markdown",
   "id": "da8c9df0",
   "metadata": {},
   "source": [
    "Load the embeddings and save them in standard format "
   ]
  },
  {
   "cell_type": "code",
   "execution_count": 6,
   "id": "11762531",
   "metadata": {},
   "outputs": [
    {
     "name": "stdout",
     "output_type": "stream",
     "text": [
      "Shape of GROVER_base embedding: (188, 3400)\n"
     ]
    }
   ],
   "source": [
    "sciplex_embeddings = np.load(\"data/preliminary_embeddings/sciplex_smiles_grover_base_both.npz\")\n",
    "print(\"Shape of GROVER_base embedding:\", sciplex_embeddings[\"fps\"].shape)"
   ]
  },
  {
   "cell_type": "markdown",
   "id": "8ffdb664",
   "metadata": {},
   "source": [
    "Convert embeddings into data frame and save"
   ]
  },
  {
   "cell_type": "code",
   "execution_count": 8,
   "id": "a60268d8",
   "metadata": {},
   "outputs": [],
   "source": [
    "def flatten(x: np.ndarray):\n",
    "    assert len(x.shape) == 2 and x.shape[0] == 1\n",
    "    return x[0]\n",
    "\n",
    "embeddings_fpath = Path(\"data/preliminary_embeddings\")\n",
    "smiles_file = embeddings_fpath / \"sciplex_smiles.csv\"\n",
    "emb_file = embeddings_fpath / \"sciplex_smiles_grover_base_both.npz\"\n",
    "\n",
    "# read list of smiles \n",
    "smiles_df = pd.read_csv(smiles_file)\n",
    "# read generated embedding (.npz has only one key, 'fps')\n",
    "emb = np.load(emb_file)[\"fps\"]\n",
    "assert len(smiles_df) == emb.shape[0]\n",
    "\n",
    "# generate a DataFrame with SMILES and Embedding in each row\n",
    "final_df = pd.DataFrame(emb, index=smiles_df[\"SMILES\"].values, columns=[f\"latent_{i+1}\" for i in range(emb.shape[1])])\n",
    "# remove duplicates indices (=SMILES) (This is probably useless)\n",
    "final_df = final_df[~final_df.index.duplicated(keep=\"first\")]"
   ]
  },
  {
   "cell_type": "code",
   "execution_count": 9,
   "id": "e533d8d2",
   "metadata": {},
   "outputs": [],
   "source": [
    "df = final_df.to_csv(\"./data/embeddings.csv\")"
   ]
  }
 ],
 "metadata": {
  "kernelspec": {
   "display_name": "Python 3 (ipykernel)",
   "language": "python",
   "name": "python3"
  },
  "language_info": {
   "codemirror_mode": {
    "name": "ipython",
    "version": 3
   },
   "file_extension": ".py",
   "mimetype": "text/x-python",
   "name": "python",
   "nbconvert_exporter": "python",
   "pygments_lexer": "ipython3",
   "version": "3.9.16"
  }
 },
 "nbformat": 4,
 "nbformat_minor": 5
}