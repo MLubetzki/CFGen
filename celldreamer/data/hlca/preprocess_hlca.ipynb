{
 "cells": [
  {
   "cell_type": "code",
   "execution_count": 1,
   "id": "a75f1db9",
   "metadata": {},
   "outputs": [],
   "source": [
    "import scanpy as sc\n",
    "from sklearn.model_selection import train_test_split\n",
    "DATA_DIR = '/dss/dssfs02/lwp-dss-0001/pn36po/pn36po-dss-0001/till-data/'\n"
   ]
  },
  {
   "cell_type": "code",
   "execution_count": null,
   "id": "9a3b1d22",
   "metadata": {},
   "outputs": [],
   "source": [
    "adata_raw = sc.read_h5ad(DATA_DIR + 'local.h5ad')\n",
    "adata_raw"
   ]
  },
  {
   "cell_type": "code",
   "execution_count": null,
   "id": "4cf894e6",
   "metadata": {},
   "outputs": [],
   "source": [
    "train, test = train_test_split(adata_raw.obs_names, test_size=0.2, random_state=0)\n",
    "val, test = train_test_split(test, test_size=0.5, random_state=0)\n",
    "train_adata = adata_raw[adata_raw.obs_names.isin(train), :]\n",
    "train_adata.write(DATA_DIR + 'train_adata_unnormalized.h5ad')\n",
    "val_adata = adata_raw[adata_raw.obs_names.isin(val), :]\n",
    "val_adata.write(DATA_DIR + 'val_adata_unnormalized.h5ad')\n",
    "test_adata = adata_raw[adata_raw.obs_names.isin(test), :]\n",
    "test_adata.write(DATA_DIR + 'test_adata_unnormalized.h5ad')\n",
    "train_adata\n",
    "del adata_raw, val_adata, test_adata, train_adata"
   ]
  },
  {
   "cell_type": "markdown",
   "id": "99ede2ae",
   "metadata": {},
   "source": [
    "### Train adata"
   ]
  },
  {
   "cell_type": "code",
   "execution_count": 2,
   "id": "946f004a",
   "metadata": {},
   "outputs": [
    {
     "name": "stderr",
     "output_type": "stream",
     "text": [
      "/usr/local/lib/python3.10/dist-packages/scanpy/preprocessing/_highly_variable_genes.py:62: UserWarning: `flavor='seurat_v3'` expects raw count data, but non-integers were found.\n",
      "  warnings.warn(\n"
     ]
    },
    {
     "data": {
      "text/plain": [
       "AnnData object with n_obs × n_vars = 467955 × 2000\n",
       "    obs: 'suspension_type', 'donor_id', 'is_primary_data', 'assay_ontology_term_id', 'cell_type_ontology_term_id', 'development_stage_ontology_term_id', 'disease_ontology_term_id', 'self_reported_ethnicity_ontology_term_id', 'tissue_ontology_term_id', 'organism_ontology_term_id', 'sex_ontology_term_id', 'BMI', 'age_or_mean_of_age_range', 'age_range', 'anatomical_region_ccf_score', 'ann_coarse_for_GWAS_and_modeling', 'ann_finest_level', 'ann_level_1', 'ann_level_2', 'ann_level_3', 'ann_level_4', 'ann_level_5', 'cause_of_death', 'dataset', 'entropy_dataset_leiden_3', 'entropy_original_ann_level_1_leiden_3', 'entropy_original_ann_level_2_clean_leiden_3', 'entropy_original_ann_level_3_clean_leiden_3', 'entropy_subject_ID_leiden_3', 'fresh_or_frozen', 'leiden_1', 'leiden_2', 'leiden_3', 'leiden_4', 'leiden_5', 'log10_total_counts', 'lung_condition', 'mixed_ancestry', 'n_genes_detected', 'original_ann_highest_res', 'original_ann_level_1', 'original_ann_level_2', 'original_ann_level_3', 'original_ann_level_4', 'original_ann_level_5', 'original_ann_nonharmonized', 'reannotation_type', 'reference_genome', 'sample', 'scanvi_label', 'sequencing_platform', 'size_factors', 'smoking_status', 'study', 'subject_type', 'tissue_dissociation_protocol', 'tissue_level_2', 'tissue_level_3', 'tissue_sampling_method', 'cell_type', 'assay', 'disease', 'organism', 'sex', 'tissue', 'self_reported_ethnicity', 'development_stage', 'n_counts'\n",
       "    var: 'feature_is_filtered', 'feature_name', 'feature_reference', 'feature_biotype', 'n_counts', 'highly_variable', 'highly_variable_rank', 'means', 'variances', 'variances_norm', 'highly_variable_nbatches'\n",
       "    uns: 'batch_condition', 'default_embedding', 'schema_version', 'title', 'log1p', 'hvg'\n",
       "    obsm: 'X_scanvi_emb', 'X_umap'\n",
       "    layers: 'counts'\n",
       "    obsp: 'connectivities', 'distances'"
      ]
     },
     "execution_count": 2,
     "metadata": {},
     "output_type": "execute_result"
    }
   ],
   "source": [
    "train_adata = sc.read_h5ad(DATA_DIR + 'train_adata_unnormalized.h5ad')\n",
    "sc.pp.filter_genes(train_adata, min_counts=3)\n",
    "sc.pp.filter_cells(train_adata, min_counts=3)\n",
    "train_adata.layers[\"counts\"] = train_adata.X.copy()\n",
    "sc.pp.normalize_total(train_adata, target_sum=10000)\n",
    "sc.pp.log1p(train_adata)\n",
    "train_adata.raw = train_adata\n",
    "sc.pp.highly_variable_genes(\n",
    "    train_adata,\n",
    "    flavor=\"seurat_v3\",\n",
    "    n_top_genes=2000,\n",
    "    layer=\"counts\",\n",
    "    batch_key=\"dataset\",\n",
    "    subset=True,\n",
    ")\n",
    "train_adata"
   ]
  },
  {
   "cell_type": "code",
   "execution_count": 3,
   "id": "44b53876",
   "metadata": {},
   "outputs": [],
   "source": [
    "train_adata.write(DATA_DIR + 'train_adata.h5ad')\n",
    "del train_adata"
   ]
  },
  {
   "cell_type": "markdown",
   "id": "f0436631",
   "metadata": {},
   "source": [
    "### Val adata"
   ]
  },
  {
   "cell_type": "code",
   "execution_count": 4,
   "id": "a0e9a52d",
   "metadata": {},
   "outputs": [
    {
     "name": "stderr",
     "output_type": "stream",
     "text": [
      "/usr/local/lib/python3.10/dist-packages/scanpy/preprocessing/_highly_variable_genes.py:62: UserWarning: `flavor='seurat_v3'` expects raw count data, but non-integers were found.\n",
      "  warnings.warn(\n"
     ]
    }
   ],
   "source": [
    "val_adata = sc.read_h5ad(DATA_DIR + 'val_adata_unnormalized.h5ad')\n",
    "sc.pp.filter_genes(val_adata, min_counts=3)\n",
    "sc.pp.filter_cells(val_adata, min_counts=3)\n",
    "val_adata.layers[\"counts\"] = val_adata.X.copy()\n",
    "sc.pp.normalize_total(val_adata, target_sum=10000)\n",
    "sc.pp.log1p(val_adata)\n",
    "val_adata.raw = val_adata\n",
    "sc.pp.highly_variable_genes(\n",
    "    val_adata,\n",
    "    flavor=\"seurat_v3\",\n",
    "    n_top_genes=2000,\n",
    "    layer=\"counts\",\n",
    "    batch_key=\"dataset\",\n",
    "    subset=True,\n",
    ")"
   ]
  },
  {
   "cell_type": "code",
   "execution_count": 5,
   "id": "97b637f5",
   "metadata": {},
   "outputs": [],
   "source": [
    "val_adata.write(DATA_DIR + 'val_adata.h5ad')\n",
    "del val_adata"
   ]
  },
  {
   "cell_type": "markdown",
   "id": "187c60d2",
   "metadata": {},
   "source": [
    "### Test adata"
   ]
  },
  {
   "cell_type": "code",
   "execution_count": 6,
   "id": "0efcee78",
   "metadata": {},
   "outputs": [
    {
     "name": "stderr",
     "output_type": "stream",
     "text": [
      "/usr/local/lib/python3.10/dist-packages/scanpy/preprocessing/_highly_variable_genes.py:62: UserWarning: `flavor='seurat_v3'` expects raw count data, but non-integers were found.\n",
      "  warnings.warn(\n"
     ]
    },
    {
     "data": {
      "text/plain": [
       "AnnData object with n_obs × n_vars = 58495 × 2000\n",
       "    obs: 'suspension_type', 'donor_id', 'is_primary_data', 'assay_ontology_term_id', 'cell_type_ontology_term_id', 'development_stage_ontology_term_id', 'disease_ontology_term_id', 'self_reported_ethnicity_ontology_term_id', 'tissue_ontology_term_id', 'organism_ontology_term_id', 'sex_ontology_term_id', 'BMI', 'age_or_mean_of_age_range', 'age_range', 'anatomical_region_ccf_score', 'ann_coarse_for_GWAS_and_modeling', 'ann_finest_level', 'ann_level_1', 'ann_level_2', 'ann_level_3', 'ann_level_4', 'ann_level_5', 'cause_of_death', 'dataset', 'entropy_dataset_leiden_3', 'entropy_original_ann_level_1_leiden_3', 'entropy_original_ann_level_2_clean_leiden_3', 'entropy_original_ann_level_3_clean_leiden_3', 'entropy_subject_ID_leiden_3', 'fresh_or_frozen', 'leiden_1', 'leiden_2', 'leiden_3', 'leiden_4', 'leiden_5', 'log10_total_counts', 'lung_condition', 'mixed_ancestry', 'n_genes_detected', 'original_ann_highest_res', 'original_ann_level_1', 'original_ann_level_2', 'original_ann_level_3', 'original_ann_level_4', 'original_ann_level_5', 'original_ann_nonharmonized', 'reannotation_type', 'reference_genome', 'sample', 'scanvi_label', 'sequencing_platform', 'size_factors', 'smoking_status', 'study', 'subject_type', 'tissue_dissociation_protocol', 'tissue_level_2', 'tissue_level_3', 'tissue_sampling_method', 'cell_type', 'assay', 'disease', 'organism', 'sex', 'tissue', 'self_reported_ethnicity', 'development_stage', 'n_counts'\n",
       "    var: 'feature_is_filtered', 'feature_name', 'feature_reference', 'feature_biotype', 'n_counts', 'highly_variable', 'highly_variable_rank', 'means', 'variances', 'variances_norm', 'highly_variable_nbatches'\n",
       "    uns: 'batch_condition', 'default_embedding', 'schema_version', 'title', 'log1p', 'hvg'\n",
       "    obsm: 'X_scanvi_emb', 'X_umap'\n",
       "    layers: 'counts'\n",
       "    obsp: 'connectivities', 'distances'"
      ]
     },
     "execution_count": 6,
     "metadata": {},
     "output_type": "execute_result"
    }
   ],
   "source": [
    "test_adata = sc.read_h5ad(DATA_DIR + 'test_adata_unnormalized.h5ad')\n",
    "sc.pp.filter_genes(test_adata, min_counts=3)\n",
    "sc.pp.filter_cells(test_adata, min_counts=3)\n",
    "test_adata.layers[\"counts\"] = test_adata.X.copy()\n",
    "sc.pp.normalize_total(test_adata, target_sum=10000)\n",
    "sc.pp.log1p(test_adata)\n",
    "test_adata.raw = test_adata\n",
    "sc.pp.highly_variable_genes(\n",
    "    test_adata,\n",
    "    flavor=\"seurat_v3\",\n",
    "    n_top_genes=2000,\n",
    "    layer=\"counts\",\n",
    "    batch_key=\"dataset\",\n",
    "    subset=True,\n",
    ")\n",
    "test_adata"
   ]
  },
  {
   "cell_type": "code",
   "execution_count": 7,
   "id": "fe01ba9e",
   "metadata": {},
   "outputs": [],
   "source": [
    "test_adata.write(DATA_DIR + 'test_adata.h5ad')\n",
    "del test_adata"
   ]
  },
  {
   "cell_type": "code",
   "execution_count": null,
   "id": "c8fd3c22",
   "metadata": {},
   "outputs": [],
   "source": []
  }
 ],
 "metadata": {
  "kernelspec": {
   "display_name": "Python 3 (ipykernel)",
   "language": "python",
   "name": "python3"
  },
  "language_info": {
   "codemirror_mode": {
    "name": "ipython",
    "version": 3
   },
   "file_extension": ".py",
   "mimetype": "text/x-python",
   "name": "python",
   "nbconvert_exporter": "python",
   "pygments_lexer": "ipython3",
   "version": "3.9.13"
  }
 },
 "nbformat": 4,
 "nbformat_minor": 5
}
