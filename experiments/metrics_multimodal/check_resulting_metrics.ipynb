{
 "cells": [
  {
   "cell_type": "code",
   "execution_count": 1,
   "id": "d317ecff-105c-44ba-8c1e-6d55ccc38b7f",
   "metadata": {},
   "outputs": [],
   "source": [
    "import pandas as pd\n",
    "import numpy as np"
   ]
  },
  {
   "cell_type": "code",
   "execution_count": 2,
   "id": "c2f74d63-ac75-4abc-950b-6f7f1d913294",
   "metadata": {},
   "outputs": [],
   "source": [
    "def compute_mean_std(results):\n",
    "    means = results.mean(0)\n",
    "    stds = results.std(0) / np.sqrt(results.shape[0])\n",
    "    for (name, mean, std) in zip(list(means.index), list(means), list(stds)):\n",
    "        print(f\"{name} {np.round(mean, 2)} ± {np.round(std,2)}\")"
   ]
  },
  {
   "cell_type": "markdown",
   "id": "1f243940-8268-4d38-8a01-06466cd26b0e",
   "metadata": {},
   "source": [
    "# PBMC"
   ]
  },
  {
   "cell_type": "code",
   "execution_count": 26,
   "id": "a4e01ab1-ae8d-465b-bbfb-7bf190cfca94",
   "metadata": {},
   "outputs": [],
   "source": [
    "celldreamer_rna = pd.read_csv(\"/home/icb/alessandro.palma/environment/cfgen/experiments/metrics_multimodal/results_pbmc/results_celldreamer_rna\")\n",
    "celldreamer_atac = pd.read_csv(\"/home/icb/alessandro.palma/environment/cfgen/experiments/metrics_multimodal/results_pbmc/results_celldreamer_atac\")\n",
    "multivi_rna = pd.read_csv(\"/home/icb/alessandro.palma/environment/cfgen/experiments/metrics_multimodal/results_pbmc/results_multivi_rna\")\n",
    "multivi_atac = pd.read_csv(\"/home/icb/alessandro.palma/environment/cfgen/experiments/metrics_multimodal/results_pbmc/results_multivi_atac\")\n",
    "peakvi_atac = pd.read_csv(\"/home/icb/alessandro.palma/environment/cfgen/experiments/metrics_multimodal/results_pbmc/results_peakvi_atac\")\n",
    "scvi_rna = pd.read_csv(\"/home/icb/alessandro.palma/environment/cfgen/experiments/metrics_multimodal/results_pbmc/results_scvi_rna\")\n",
    "scvi_rna = pd.read_csv(\"/home/icb/alessandro.palma/environment/cfgen/experiments/metrics_multimodal/results_pbmc/results_scvi_rna\")\n",
    "sc_scdiffusion = pd.read_csv(\"/home/icb/alessandro.palma/environment/cfgen/experiments/metrics_multimodal/results_pbmc/results_scdiffusion_rna\")\n",
    "celldreamer_rna_only = pd.read_csv(\"/home/icb/alessandro.palma/environment/cfgen/experiments/metrics_multimodal/results_pbmc/results_celldreamer_rna_only\")"
   ]
  },
  {
   "cell_type": "code",
   "execution_count": 27,
   "id": "0827ea8c-c141-4475-be8d-ce5eaa8c55fa",
   "metadata": {},
   "outputs": [
    {
     "name": "stdout",
     "output_type": "stream",
     "text": [
      "Unnamed: 0 19.0 ± 1.83\n",
      "1-Wasserstein_PCA 14.28 ± 0.07\n",
      "2-Wasserstein_PCA 14.36 ± 0.07\n",
      "Linear_MMD_PCA 167.95 ± 2.27\n",
      "Poly_MMD_PCA 86832.91 ± 11853.7\n",
      "KNN identity 0.75 ± 0.01\n",
      "KNN identity PCA 1.0 ± 0.0\n",
      "precision 0.59 ± 0.03\n",
      "recall 0.64 ± 0.02\n",
      "density 0.93 ± 0.05\n",
      "coverage 0.99 ± 0.0\n",
      "precision_PCA 0.0 ± 0.0\n",
      "recall_PCA 0.0 ± 0.0\n",
      "density_PCA 0.0 ± 0.0\n",
      "coverage_PCA 0.0 ± 0.0\n",
      "KNN category 0.22 ± 0.02\n",
      "KNN category PCA 0.25 ± 0.02\n",
      "global_f1 0.59 ± 0.0\n"
     ]
    }
   ],
   "source": [
    "compute_mean_std(celldreamer_rna_only.drop(columns=[\"ct\"]))"
   ]
  },
  {
   "cell_type": "code",
   "execution_count": 18,
   "id": "b153fdf4-8956-404f-b248-be4121fcdcca",
   "metadata": {},
   "outputs": [
    {
     "name": "stdout",
     "output_type": "stream",
     "text": [
      "Unnamed: 0 19.0 ± 1.83\n",
      "1-Wasserstein_PCA 14.77 ± 0.11\n",
      "2-Wasserstein_PCA 14.82 ± 0.11\n",
      "Linear_MMD_PCA 191.82 ± 3.49\n",
      "Poly_MMD_PCA 96946.02 ± 10891.02\n",
      "KNN identity 0.39 ± 0.01\n",
      "KNN identity PCA 1.0 ± 0.0\n",
      "precision 1.0 ± 0.0\n",
      "recall 0.0 ± 0.0\n",
      "density 8.77 ± 1.17\n",
      "coverage 1.0 ± 0.0\n",
      "precision_PCA 0.0 ± 0.0\n",
      "recall_PCA 0.0 ± 0.0\n",
      "density_PCA 0.0 ± 0.0\n",
      "coverage_PCA 0.0 ± 0.0\n",
      "KNN category 0.18 ± 0.02\n",
      "KNN category PCA 0.22 ± 0.02\n",
      "global_f1 0.61 ± 0.0\n"
     ]
    }
   ],
   "source": [
    "compute_mean_std(sc_scdiffusion.drop(columns=[\"ct\"]))"
   ]
  },
  {
   "cell_type": "code",
   "execution_count": 19,
   "id": "9dc101fd-74fc-446e-85e8-ac2efc990d30",
   "metadata": {},
   "outputs": [
    {
     "name": "stdout",
     "output_type": "stream",
     "text": [
      "Unnamed: 0 19.0 ± 1.83\n",
      "1-Wasserstein_PCA 14.46 ± 0.05\n",
      "2-Wasserstein_PCA 14.54 ± 0.05\n",
      "Linear_MMD_PCA 175.4 ± 1.35\n",
      "Poly_MMD_PCA 101489.88 ± 14806.0\n",
      "KNN identity 0.72 ± 0.01\n",
      "KNN identity PCA 1.0 ± 0.0\n",
      "precision 0.58 ± 0.03\n",
      "recall 0.72 ± 0.02\n",
      "density 0.71 ± 0.05\n",
      "coverage 0.98 ± 0.0\n",
      "precision_PCA 0.0 ± 0.0\n",
      "recall_PCA 0.0 ± 0.0\n",
      "density_PCA 0.0 ± 0.0\n",
      "coverage_PCA 0.0 ± 0.0\n",
      "KNN category 0.24 ± 0.02\n",
      "KNN category PCA 0.23 ± 0.02\n",
      "global_f1 0.63 ± 0.0\n"
     ]
    }
   ],
   "source": [
    "compute_mean_std(celldreamer_rna.drop(columns=[\"ct\"]))"
   ]
  },
  {
   "cell_type": "code",
   "execution_count": 20,
   "id": "340ea817-7a36-4f0c-b8d8-56981f3202c3",
   "metadata": {
    "scrolled": true
   },
   "outputs": [
    {
     "name": "stdout",
     "output_type": "stream",
     "text": [
      "Unnamed: 0 19.0 ± 1.83\n",
      "1-Wasserstein_PCA 17.87 ± 0.31\n",
      "2-Wasserstein_PCA 18.92 ± 0.36\n",
      "Linear_MMD_PCA 129.5 ± 7.71\n",
      "Poly_MMD_PCA 85447.27 ± 10842.44\n",
      "KNN identity 0.48 ± 0.03\n",
      "KNN identity PCA 1.0 ± 0.0\n",
      "precision 0.17 ± 0.03\n",
      "recall 0.23 ± 0.03\n",
      "density 0.51 ± 0.08\n",
      "coverage 0.71 ± 0.07\n",
      "precision_PCA 0.83 ± 0.04\n",
      "recall_PCA 0.0 ± 0.0\n",
      "density_PCA 0.38 ± 0.06\n",
      "coverage_PCA 0.16 ± 0.03\n",
      "KNN category 0.08 ± 0.04\n",
      "KNN category PCA 0.22 ± 0.03\n",
      "global_f1 0.02 ± 0.0\n"
     ]
    }
   ],
   "source": [
    "compute_mean_std(celldreamer_atac.drop(columns=[\"ct\"]))"
   ]
  },
  {
   "cell_type": "code",
   "execution_count": 21,
   "id": "8b9f3887-2b79-4c62-b528-6bd0604a4339",
   "metadata": {},
   "outputs": [
    {
     "name": "stdout",
     "output_type": "stream",
     "text": [
      "Unnamed: 0 19.0 ± 1.83\n",
      "1-Wasserstein_PCA 14.77 ± 0.11\n",
      "2-Wasserstein_PCA 14.82 ± 0.11\n",
      "Linear_MMD_PCA 191.82 ± 3.49\n",
      "Poly_MMD_PCA 96946.02 ± 10891.02\n",
      "KNN identity 0.39 ± 0.01\n",
      "KNN identity PCA 1.0 ± 0.0\n",
      "precision 1.0 ± 0.0\n",
      "recall 0.0 ± 0.0\n",
      "density 8.77 ± 1.17\n",
      "coverage 1.0 ± 0.0\n",
      "precision_PCA 0.0 ± 0.0\n",
      "recall_PCA 0.0 ± 0.0\n",
      "density_PCA 0.0 ± 0.0\n",
      "coverage_PCA 0.0 ± 0.0\n",
      "KNN category 0.18 ± 0.02\n",
      "KNN category PCA 0.22 ± 0.02\n",
      "global_f1 0.69 ± 0.0\n"
     ]
    }
   ],
   "source": [
    "compute_mean_std(scvi_rna.drop(columns=[\"ct\"]))"
   ]
  },
  {
   "cell_type": "code",
   "execution_count": 22,
   "id": "e2014e3e-17e5-4a50-b787-9da757a0fe6d",
   "metadata": {},
   "outputs": [
    {
     "name": "stdout",
     "output_type": "stream",
     "text": [
      "Unnamed: 0 19.0 ± 1.83\n",
      "1-Wasserstein_PCA 14.77 ± 0.11\n",
      "2-Wasserstein_PCA 14.82 ± 0.11\n",
      "Linear_MMD_PCA 191.82 ± 3.49\n",
      "Poly_MMD_PCA 96946.02 ± 10891.02\n",
      "KNN identity 0.39 ± 0.01\n",
      "KNN identity PCA 1.0 ± 0.0\n",
      "precision 1.0 ± 0.0\n",
      "recall 0.0 ± 0.0\n",
      "density 8.77 ± 1.17\n",
      "coverage 1.0 ± 0.0\n",
      "precision_PCA 0.0 ± 0.0\n",
      "recall_PCA 0.0 ± 0.0\n",
      "density_PCA 0.0 ± 0.0\n",
      "coverage_PCA 0.0 ± 0.0\n",
      "KNN category 0.18 ± 0.02\n",
      "KNN category PCA 0.22 ± 0.02\n",
      "global_f1 0.69 ± 0.0\n"
     ]
    }
   ],
   "source": [
    "compute_mean_std(scvi_rna.drop(columns=[\"ct\"]))"
   ]
  },
  {
   "cell_type": "code",
   "execution_count": 23,
   "id": "50b133a5-2e80-48cf-8dea-44282cc0169e",
   "metadata": {},
   "outputs": [
    {
     "name": "stdout",
     "output_type": "stream",
     "text": [
      "Unnamed: 0 19.0 ± 1.83\n",
      "1-Wasserstein_PCA 15.54 ± 0.23\n",
      "2-Wasserstein_PCA 15.92 ± 0.25\n",
      "Linear_MMD_PCA 194.3 ± 8.93\n",
      "Poly_MMD_PCA 42583.37 ± 3316.76\n",
      "KNN identity 0.84 ± 0.01\n",
      "KNN identity PCA 1.0 ± 0.0\n",
      "precision 0.28 ± 0.03\n",
      "recall 0.81 ± 0.02\n",
      "density 0.19 ± 0.03\n",
      "coverage 0.56 ± 0.05\n",
      "precision_PCA 0.0 ± 0.0\n",
      "recall_PCA 0.0 ± 0.0\n",
      "density_PCA 0.0 ± 0.0\n",
      "coverage_PCA 0.0 ± 0.0\n",
      "KNN category 0.08 ± 0.01\n",
      "KNN category PCA 0.09 ± 0.01\n",
      "global_f1 0.39 ± 0.0\n"
     ]
    }
   ],
   "source": [
    "compute_mean_std(multivi_rna.drop(columns=[\"ct\"]))"
   ]
  },
  {
   "cell_type": "code",
   "execution_count": 24,
   "id": "fd76693e-39ff-4f33-81f4-a8b0d07f7e6f",
   "metadata": {},
   "outputs": [
    {
     "name": "stdout",
     "output_type": "stream",
     "text": [
      "Unnamed: 0 19.0 ± 1.83\n",
      "1-Wasserstein_PCA 20.02 ± 0.3\n",
      "2-Wasserstein_PCA 21.09 ± 0.34\n",
      "Linear_MMD_PCA 204.75 ± 9.39\n",
      "Poly_MMD_PCA 96297.72 ± 10868.42\n",
      "KNN identity 0.33 ± 0.0\n",
      "KNN identity PCA 1.0 ± 0.0\n",
      "precision 0.02 ± 0.01\n",
      "recall 0.0 ± 0.0\n",
      "density 0.02 ± 0.01\n",
      "coverage 0.07 ± 0.04\n",
      "precision_PCA 0.43 ± 0.06\n",
      "recall_PCA 0.0 ± 0.0\n",
      "density_PCA 0.1 ± 0.02\n",
      "coverage_PCA 0.08 ± 0.02\n",
      "KNN category 0.08 ± 0.04\n",
      "KNN category PCA 0.1 ± 0.01\n",
      "global_f1 0.02 ± 0.0\n"
     ]
    }
   ],
   "source": [
    "compute_mean_std(multivi_atac.drop(columns=[\"ct\"]))"
   ]
  },
  {
   "cell_type": "code",
   "execution_count": 25,
   "id": "fc5edead-db75-43d7-9415-3eff216f7e78",
   "metadata": {},
   "outputs": [
    {
     "name": "stdout",
     "output_type": "stream",
     "text": [
      "Unnamed: 0 19.0 ± 1.83\n",
      "1-Wasserstein_PCA 19.97 ± 0.42\n",
      "2-Wasserstein_PCA 20.84 ± 0.45\n",
      "Linear_MMD_PCA 196.75 ± 11.48\n",
      "Poly_MMD_PCA 112554.62 ± 13665.56\n",
      "KNN identity 0.33 ± 0.0\n",
      "KNN identity PCA 0.99 ± 0.0\n",
      "precision 0.99 ± 0.0\n",
      "recall 0.0 ± 0.0\n",
      "density 15.1 ± 1.87\n",
      "coverage 1.0 ± 0.0\n",
      "precision_PCA 0.68 ± 0.06\n",
      "recall_PCA 0.0 ± 0.0\n",
      "density_PCA 0.44 ± 0.08\n",
      "coverage_PCA 0.17 ± 0.03\n",
      "KNN category 0.08 ± 0.04\n",
      "KNN category PCA 0.04 ± 0.01\n",
      "global_f1 0.02 ± 0.0\n"
     ]
    }
   ],
   "source": [
    "compute_mean_std(peakvi_atac.drop(columns=[\"ct\"]))"
   ]
  },
  {
   "cell_type": "markdown",
   "id": "3cd1c0d5-0c7e-465a-ab81-497b1e2f75df",
   "metadata": {},
   "source": [
    "# NEURIPS"
   ]
  },
  {
   "cell_type": "code",
   "execution_count": null,
   "id": "b6b844a7-cede-4106-9b58-3cc4bce45566",
   "metadata": {},
   "outputs": [],
   "source": [
    "celldreamer_rna = pd.read_csv(\"/home/icb/alessandro.palma/environment/celldreamer/experiments/metrics_multimodal/results_neurips/results_celldreamer_rna\")\n",
    "celldreamer_atac = pd.read_csv(\"/home/icb/alessandro.palma/environment/celldreamer/experiments/metrics_multimodal/results_neurips/results_celldreamer_atac\")\n",
    "poissonvi_atac = pd.read_csv(\"/home/icb/alessandro.palma/environment/celldreamer/experiments/metrics_multimodal/results_neurips/results_poissonvi_atac\")\n",
    "scvi_rna = pd.read_csv(\"/home/icb/alessandro.palma/environment/celldreamer/experiments/metrics_multimodal/results_neurips/results_scvi_rna\")"
   ]
  },
  {
   "cell_type": "code",
   "execution_count": null,
   "id": "abbbeecc-224d-4d4b-be13-0e857520760b",
   "metadata": {},
   "outputs": [],
   "source": [
    "celldreamer_rna.groupby(\"ct\").mean(0).mean(0)"
   ]
  },
  {
   "cell_type": "code",
   "execution_count": null,
   "id": "bf0aedec-2c99-458a-b7c7-1c6ea4d878e1",
   "metadata": {},
   "outputs": [],
   "source": [
    "celldreamer_atac.groupby(\"ct\").mean(0).mean(0)"
   ]
  },
  {
   "cell_type": "code",
   "execution_count": null,
   "id": "3f36b72b-13ac-46d9-865a-8a7976dd0452",
   "metadata": {},
   "outputs": [],
   "source": [
    "poissonvi_atac.groupby(\"ct\").mean(0).mean(0)"
   ]
  },
  {
   "cell_type": "code",
   "execution_count": null,
   "id": "f7e38fae-6dd7-4097-972c-16d786d07ba1",
   "metadata": {},
   "outputs": [],
   "source": [
    "scvi_rna.groupby(\"ct\").mean(0).mean(0)"
   ]
  },
  {
   "cell_type": "code",
   "execution_count": null,
   "id": "aa00c33f-587f-4d0d-8ec3-7d0964124a28",
   "metadata": {},
   "outputs": [],
   "source": []
  },
  {
   "cell_type": "code",
   "execution_count": null,
   "id": "03829e91-31fd-471b-86ba-9a295bf85bc7",
   "metadata": {},
   "outputs": [],
   "source": []
  },
  {
   "cell_type": "code",
   "execution_count": null,
   "id": "581a1bb1-fa78-4d74-a600-7f843e127154",
   "metadata": {},
   "outputs": [],
   "source": []
  },
  {
   "cell_type": "code",
   "execution_count": null,
   "id": "d6e6e4fb-52c0-4a5e-b5f7-9a959e1ff8a6",
   "metadata": {},
   "outputs": [],
   "source": []
  }
 ],
 "metadata": {
  "kernelspec": {
   "display_name": "Python 3 (ipykernel)",
   "language": "python",
   "name": "python3"
  },
  "language_info": {
   "codemirror_mode": {
    "name": "ipython",
    "version": 3
   },
   "file_extension": ".py",
   "mimetype": "text/x-python",
   "name": "python",
   "nbconvert_exporter": "python",
   "pygments_lexer": "ipython3",
   "version": "3.10.13"
  }
 },
 "nbformat": 4,
 "nbformat_minor": 5
}
