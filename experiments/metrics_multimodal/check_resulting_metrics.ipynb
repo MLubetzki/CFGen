{
 "cells": [
  {
   "cell_type": "code",
   "execution_count": 1,
   "id": "d317ecff-105c-44ba-8c1e-6d55ccc38b7f",
   "metadata": {},
   "outputs": [],
   "source": [
    "import pandas as pd"
   ]
  },
  {
   "cell_type": "markdown",
   "id": "1f243940-8268-4d38-8a01-06466cd26b0e",
   "metadata": {},
   "source": [
    "# PBMC"
   ]
  },
  {
   "cell_type": "code",
   "execution_count": 2,
   "id": "a4e01ab1-ae8d-465b-bbfb-7bf190cfca94",
   "metadata": {},
   "outputs": [],
   "source": [
    "celldreamer_rna = pd.read_csv(\"/home/icb/alessandro.palma/environment/celldreamer/experiments/metrics_multimodal/results_pbmc/results_celldreamer_rna\")\n",
    "celldreamer_atac = pd.read_csv(\"/home/icb/alessandro.palma/environment/celldreamer/experiments/metrics_multimodal/results_pbmc/results_celldreamer_atac\")\n",
    "multivi_rna = pd.read_csv(\"/home/icb/alessandro.palma/environment/celldreamer/experiments/metrics_multimodal/results_pbmc/results_multivi_rna\")\n",
    "multivi_atac = pd.read_csv(\"/home/icb/alessandro.palma/environment/celldreamer/experiments/metrics_multimodal/results_pbmc/results_multivi_atac\")\n",
    "peakvi_atac = pd.read_csv(\"/home/icb/alessandro.palma/environment/celldreamer/experiments/metrics_multimodal/results_pbmc/results_peakvi_atac\")\n",
    "scvi_rna = pd.read_csv(\"/home/icb/alessandro.palma/environment/celldreamer/experiments/metrics_multimodal/results_pbmc/results_scvi_rna\")"
   ]
  },
  {
   "cell_type": "code",
   "execution_count": 3,
   "id": "9dc101fd-74fc-446e-85e8-ac2efc990d30",
   "metadata": {},
   "outputs": [
    {
     "data": {
      "text/plain": [
       "Unnamed: 0               19.000000\n",
       "1-Wasserstein_PCA        14.464003\n",
       "2-Wasserstein_PCA        14.543459\n",
       "Linear_MMD_PCA          175.403024\n",
       "Poly_MMD_PCA         101489.875050\n",
       "KNN identity              0.720608\n",
       "KNN identity PCA          1.000000\n",
       "precision                 0.575011\n",
       "recall                    0.721095\n",
       "density                   0.710120\n",
       "coverage                  0.979720\n",
       "precision_PCA             0.000881\n",
       "recall_PCA                0.000077\n",
       "density_PCA               0.000088\n",
       "coverage_PCA              0.000906\n",
       "KNN category              0.237782\n",
       "KNN category PCA          0.228338\n",
       "global_f1                 0.631671\n",
       "dtype: float64"
      ]
     },
     "execution_count": 3,
     "metadata": {},
     "output_type": "execute_result"
    }
   ],
   "source": [
    "celldreamer_rna.groupby(\"ct\").mean(0).mean(0)"
   ]
  },
  {
   "cell_type": "code",
   "execution_count": 4,
   "id": "340ea817-7a36-4f0c-b8d8-56981f3202c3",
   "metadata": {
    "scrolled": true
   },
   "outputs": [
    {
     "data": {
      "text/plain": [
       "Unnamed: 0              19.000000\n",
       "1-Wasserstein_PCA       15.540847\n",
       "2-Wasserstein_PCA       15.916897\n",
       "Linear_MMD_PCA         194.295333\n",
       "Poly_MMD_PCA         42583.370267\n",
       "KNN identity             0.837730\n",
       "KNN identity PCA         1.000000\n",
       "precision                0.284638\n",
       "recall                   0.812803\n",
       "density                  0.194080\n",
       "coverage                 0.562716\n",
       "precision_PCA            0.001391\n",
       "recall_PCA               0.000000\n",
       "density_PCA              0.000139\n",
       "coverage_PCA             0.001391\n",
       "KNN category             0.075915\n",
       "KNN category PCA         0.093425\n",
       "global_f1                0.387170\n",
       "dtype: float64"
      ]
     },
     "execution_count": 4,
     "metadata": {},
     "output_type": "execute_result"
    }
   ],
   "source": [
    "multivi_rna.groupby(\"ct\").mean(0).mean(0)"
   ]
  },
  {
   "cell_type": "code",
   "execution_count": 5,
   "id": "8b9f3887-2b79-4c62-b528-6bd0604a4339",
   "metadata": {},
   "outputs": [
    {
     "data": {
      "text/plain": [
       "Unnamed: 0              19.000000\n",
       "1-Wasserstein_PCA       14.325937\n",
       "2-Wasserstein_PCA       14.386492\n",
       "Linear_MMD_PCA         177.370639\n",
       "Poly_MMD_PCA         90096.489383\n",
       "KNN identity             0.547419\n",
       "KNN identity PCA         1.000000\n",
       "precision                0.530563\n",
       "recall                   0.822884\n",
       "density                  0.403296\n",
       "coverage                 0.906642\n",
       "precision_PCA            0.000000\n",
       "recall_PCA               0.000593\n",
       "density_PCA              0.000000\n",
       "coverage_PCA             0.000000\n",
       "KNN category             0.337152\n",
       "KNN category PCA         0.341705\n",
       "global_f1                0.687625\n",
       "dtype: float64"
      ]
     },
     "execution_count": 5,
     "metadata": {},
     "output_type": "execute_result"
    }
   ],
   "source": [
    "scvi_rna.groupby(\"ct\").mean(0).mean(0)"
   ]
  },
  {
   "cell_type": "code",
   "execution_count": 6,
   "id": "e2014e3e-17e5-4a50-b787-9da757a0fe6d",
   "metadata": {},
   "outputs": [
    {
     "data": {
      "text/plain": [
       "Unnamed: 0              19.000000\n",
       "1-Wasserstein_PCA       17.871824\n",
       "2-Wasserstein_PCA       18.919491\n",
       "Linear_MMD_PCA         129.496795\n",
       "Poly_MMD_PCA         85447.273337\n",
       "KNN identity             0.480226\n",
       "KNN identity PCA         0.996168\n",
       "precision                0.171067\n",
       "recall                   0.228118\n",
       "density                  0.507039\n",
       "coverage                 0.705687\n",
       "precision_PCA            0.832233\n",
       "recall_PCA               0.000000\n",
       "density_PCA              0.377439\n",
       "coverage_PCA             0.158001\n",
       "KNN category             0.077012\n",
       "KNN category PCA         0.224636\n",
       "global_f1                0.019757\n",
       "dtype: float64"
      ]
     },
     "execution_count": 6,
     "metadata": {},
     "output_type": "execute_result"
    }
   ],
   "source": [
    "celldreamer_atac.groupby(\"ct\").mean(0).mean(0)"
   ]
  },
  {
   "cell_type": "code",
   "execution_count": 7,
   "id": "50b133a5-2e80-48cf-8dea-44282cc0169e",
   "metadata": {},
   "outputs": [
    {
     "data": {
      "text/plain": [
       "Unnamed: 0              19.000000\n",
       "1-Wasserstein_PCA       20.015449\n",
       "2-Wasserstein_PCA       21.092047\n",
       "Linear_MMD_PCA         204.751165\n",
       "Poly_MMD_PCA         96297.715345\n",
       "KNN identity             0.333333\n",
       "KNN identity PCA         0.998691\n",
       "precision                0.019918\n",
       "recall                   0.000000\n",
       "density                  0.020289\n",
       "coverage                 0.071911\n",
       "precision_PCA            0.433776\n",
       "recall_PCA               0.000000\n",
       "density_PCA              0.102116\n",
       "coverage_PCA             0.076346\n",
       "KNN category             0.076923\n",
       "KNN category PCA         0.101359\n",
       "global_f1                0.020338\n",
       "dtype: float64"
      ]
     },
     "execution_count": 7,
     "metadata": {},
     "output_type": "execute_result"
    }
   ],
   "source": [
    "multivi_atac.groupby(\"ct\").mean(0).mean(0)"
   ]
  },
  {
   "cell_type": "code",
   "execution_count": 8,
   "id": "fd76693e-39ff-4f33-81f4-a8b0d07f7e6f",
   "metadata": {},
   "outputs": [
    {
     "data": {
      "text/plain": [
       "Unnamed: 0               19.000000\n",
       "1-Wasserstein_PCA        19.971153\n",
       "2-Wasserstein_PCA        20.841377\n",
       "Linear_MMD_PCA          196.754912\n",
       "Poly_MMD_PCA         112554.618139\n",
       "KNN identity              0.333333\n",
       "KNN identity PCA          0.993542\n",
       "precision                 0.994028\n",
       "recall                    0.000000\n",
       "density                  15.095704\n",
       "coverage                  1.000000\n",
       "precision_PCA             0.682367\n",
       "recall_PCA                0.001019\n",
       "density_PCA               0.443582\n",
       "coverage_PCA              0.169136\n",
       "KNN category              0.077165\n",
       "KNN category PCA          0.036035\n",
       "global_f1                 0.020338\n",
       "dtype: float64"
      ]
     },
     "execution_count": 8,
     "metadata": {},
     "output_type": "execute_result"
    }
   ],
   "source": [
    "peakvi_atac.groupby(\"ct\").mean(0).mean(0)"
   ]
  },
  {
   "cell_type": "markdown",
   "id": "3cd1c0d5-0c7e-465a-ab81-497b1e2f75df",
   "metadata": {},
   "source": [
    "# NEURIPS"
   ]
  },
  {
   "cell_type": "code",
   "execution_count": 9,
   "id": "b6b844a7-cede-4106-9b58-3cc4bce45566",
   "metadata": {},
   "outputs": [],
   "source": [
    "celldreamer_rna = pd.read_csv(\"/home/icb/alessandro.palma/environment/celldreamer/experiments/metrics_multimodal/results_neurips/results_celldreamer_rna\")\n",
    "celldreamer_atac = pd.read_csv(\"/home/icb/alessandro.palma/environment/celldreamer/experiments/metrics_multimodal/results_neurips/results_celldreamer_atac\")\n",
    "poissonvi_atac = pd.read_csv(\"/home/icb/alessandro.palma/environment/celldreamer/experiments/metrics_multimodal/results_neurips/results_poissonvi_atac\")\n",
    "scvi_rna = pd.read_csv(\"/home/icb/alessandro.palma/environment/celldreamer/experiments/metrics_multimodal/results_neurips/results_scvi_rna\")"
   ]
  },
  {
   "cell_type": "code",
   "execution_count": 10,
   "id": "abbbeecc-224d-4d4b-be13-0e857520760b",
   "metadata": {},
   "outputs": [
    {
     "data": {
      "text/plain": [
       "Unnamed: 0               31.000000\n",
       "1-Wasserstein_PCA        13.946872\n",
       "2-Wasserstein_PCA        14.129352\n",
       "Linear_MMD_PCA          193.596359\n",
       "Poly_MMD_PCA         119951.781808\n",
       "KNN identity              0.629717\n",
       "KNN identity PCA          0.985074\n",
       "precision                 0.332534\n",
       "recall                    0.297261\n",
       "density                   1.218337\n",
       "coverage                  0.955398\n",
       "precision_PCA             0.554197\n",
       "recall_PCA                0.136565\n",
       "density_PCA               0.153906\n",
       "coverage_PCA              0.111138\n",
       "KNN category              0.108427\n",
       "KNN category PCA          0.117040\n",
       "global_f1                 0.399757\n",
       "dtype: float64"
      ]
     },
     "execution_count": 10,
     "metadata": {},
     "output_type": "execute_result"
    }
   ],
   "source": [
    "celldreamer_rna.groupby(\"ct\").mean(0).mean(0)"
   ]
  },
  {
   "cell_type": "code",
   "execution_count": 11,
   "id": "bf0aedec-2c99-458a-b7c7-1c6ea4d878e1",
   "metadata": {},
   "outputs": [
    {
     "data": {
      "text/plain": [
       "Unnamed: 0              31.000000\n",
       "1-Wasserstein_PCA       13.670671\n",
       "2-Wasserstein_PCA       13.749441\n",
       "Linear_MMD_PCA         173.353756\n",
       "Poly_MMD_PCA         50302.342262\n",
       "KNN identity             0.489817\n",
       "KNN identity PCA         0.987147\n",
       "precision                0.031620\n",
       "recall                   0.144221\n",
       "density                  0.154184\n",
       "coverage                 0.651801\n",
       "precision_PCA            0.244710\n",
       "recall_PCA               0.134207\n",
       "density_PCA              0.095721\n",
       "coverage_PCA             0.116497\n",
       "KNN category             0.034537\n",
       "KNN category PCA         0.080920\n",
       "global_f1                0.132669\n",
       "dtype: float64"
      ]
     },
     "execution_count": 11,
     "metadata": {},
     "output_type": "execute_result"
    }
   ],
   "source": [
    "celldreamer_atac.groupby(\"ct\").mean(0).mean(0)"
   ]
  },
  {
   "cell_type": "code",
   "execution_count": 12,
   "id": "3f36b72b-13ac-46d9-865a-8a7976dd0452",
   "metadata": {},
   "outputs": [
    {
     "data": {
      "text/plain": [
       "Unnamed: 0              31.000000\n",
       "1-Wasserstein_PCA       11.322793\n",
       "2-Wasserstein_PCA       11.422684\n",
       "Linear_MMD_PCA         111.464648\n",
       "Poly_MMD_PCA         15917.804191\n",
       "KNN identity             0.605503\n",
       "KNN identity PCA         0.986938\n",
       "precision                0.059366\n",
       "recall                   0.047661\n",
       "density                  1.120716\n",
       "coverage                 1.000000\n",
       "precision_PCA            0.488784\n",
       "recall_PCA               0.056048\n",
       "density_PCA              0.161198\n",
       "coverage_PCA             0.123133\n",
       "KNN category             0.019202\n",
       "KNN category PCA         0.025028\n",
       "global_f1                0.078037\n",
       "dtype: float64"
      ]
     },
     "execution_count": 12,
     "metadata": {},
     "output_type": "execute_result"
    }
   ],
   "source": [
    "poissonvi_atac.groupby(\"ct\").mean(0).mean(0)"
   ]
  },
  {
   "cell_type": "code",
   "execution_count": 13,
   "id": "f7e38fae-6dd7-4097-972c-16d786d07ba1",
   "metadata": {},
   "outputs": [
    {
     "data": {
      "text/plain": [
       "Unnamed: 0              31.000000\n",
       "1-Wasserstein_PCA       12.112202\n",
       "2-Wasserstein_PCA       12.276062\n",
       "Linear_MMD_PCA         150.133711\n",
       "Poly_MMD_PCA         66465.718533\n",
       "KNN identity             0.642677\n",
       "KNN identity PCA         0.977344\n",
       "precision                0.341447\n",
       "recall                   0.322268\n",
       "density                  1.354113\n",
       "coverage                 0.973366\n",
       "precision_PCA            0.659604\n",
       "recall_PCA               0.077273\n",
       "density_PCA              0.249459\n",
       "coverage_PCA             0.136272\n",
       "KNN category             0.097874\n",
       "KNN category PCA         0.103789\n",
       "global_f1                0.373443\n",
       "dtype: float64"
      ]
     },
     "execution_count": 13,
     "metadata": {},
     "output_type": "execute_result"
    }
   ],
   "source": [
    "scvi_rna.groupby(\"ct\").mean(0).mean(0)"
   ]
  },
  {
   "cell_type": "code",
   "execution_count": null,
   "id": "aa00c33f-587f-4d0d-8ec3-7d0964124a28",
   "metadata": {},
   "outputs": [],
   "source": []
  },
  {
   "cell_type": "code",
   "execution_count": 34,
   "id": "7f8aeca3-ebdc-477a-9691-4ef7db57008f",
   "metadata": {},
   "outputs": [],
   "source": [
    "import scanpy as sc\n",
    "import muon as mu"
   ]
  },
  {
   "cell_type": "code",
   "execution_count": 17,
   "id": "3a5c9b20-9114-4567-8494-1cc2112a19d4",
   "metadata": {},
   "outputs": [],
   "source": [
    "cd_atac = sc.read_h5ad(\"/home/icb/alessandro.palma/environment/celldreamer/project_folder/datasets/generated/neurips_multimodal/generated_cells_0_atac.h5ad\")"
   ]
  },
  {
   "cell_type": "code",
   "execution_count": 31,
   "id": "b3c59cb3-44f1-44d0-816a-797ff6fcafff",
   "metadata": {},
   "outputs": [
    {
     "data": {
      "text/plain": [
       "6219.94"
      ]
     },
     "execution_count": 31,
     "metadata": {},
     "output_type": "execute_result"
    }
   ],
   "source": [
    "cd_atac.layers[\"X_counts\"].A.sum(1).mean()"
   ]
  },
  {
   "cell_type": "code",
   "execution_count": 25,
   "id": "95211636-eedd-43a4-acc5-55705b92570f",
   "metadata": {},
   "outputs": [],
   "source": [
    "pvi = sc.read_h5ad(\"/home/icb/alessandro.palma/environment/celldreamer/project_folder/baseline_experiments/poissonvi/generated/neurips_multimodal_0.h5ad\")"
   ]
  },
  {
   "cell_type": "code",
   "execution_count": 32,
   "id": "b6775024-c0b6-493d-a734-299990639286",
   "metadata": {},
   "outputs": [
    {
     "data": {
      "text/plain": [
       "2871.4397"
      ]
     },
     "execution_count": 32,
     "metadata": {},
     "output_type": "execute_result"
    }
   ],
   "source": [
    "pvi.layers[\"X_counts\"].sum(1).mean()"
   ]
  },
  {
   "cell_type": "code",
   "execution_count": 35,
   "id": "874109a6-6cc0-472d-826b-5946e5394bf7",
   "metadata": {},
   "outputs": [
    {
     "name": "stderr",
     "output_type": "stream",
     "text": [
      "/home/icb/alessandro.palma/miniconda3/envs/celldreamer/lib/python3.10/site-packages/anndata/_core/anndata.py:522: FutureWarning: The dtype argument is deprecated and will be removed in late 2024.\n",
      "  warnings.warn(\n",
      "/home/icb/alessandro.palma/miniconda3/envs/celldreamer/lib/python3.10/site-packages/anndata/_core/anndata.py:522: FutureWarning: The dtype argument is deprecated and will be removed in late 2024.\n",
      "  warnings.warn(\n",
      "/home/icb/alessandro.palma/miniconda3/envs/celldreamer/lib/python3.10/site-packages/mudata/_core/mudata.py:577: FutureWarning: The behavior of DataFrame concatenation with empty or all-NA entries is deprecated. In a future version, this will no longer exclude empty or all-NA columns when determining the result dtypes. To retain the old behavior, exclude the relevant entries before the concat operation.\n",
      "  data_common = pd.concat(\n"
     ]
    }
   ],
   "source": [
    "adata_real = mu.read(\"/home/icb/alessandro.palma/environment/celldreamer/project_folder/datasets/processed/atac/neurips/neurips_multiome_test.h5mu\")"
   ]
  },
  {
   "cell_type": "code",
   "execution_count": 36,
   "id": "388595c0-b0e9-488d-9cc3-023220db428d",
   "metadata": {},
   "outputs": [
    {
     "data": {
      "text/plain": [
       "6185.473"
      ]
     },
     "execution_count": 36,
     "metadata": {},
     "output_type": "execute_result"
    }
   ],
   "source": [
    "adata_real[\"atac\"].layers[\"X_counts\"].sum(1).mean()"
   ]
  },
  {
   "cell_type": "code",
   "execution_count": null,
   "id": "03829e91-31fd-471b-86ba-9a295bf85bc7",
   "metadata": {},
   "outputs": [],
   "source": []
  }
 ],
 "metadata": {
  "kernelspec": {
   "display_name": "Python 3 (ipykernel)",
   "language": "python",
   "name": "python3"
  },
  "language_info": {
   "codemirror_mode": {
    "name": "ipython",
    "version": 3
   },
   "file_extension": ".py",
   "mimetype": "text/x-python",
   "name": "python",
   "nbconvert_exporter": "python",
   "pygments_lexer": "ipython3",
   "version": "3.10.13"
  }
 },
 "nbformat": 4,
 "nbformat_minor": 5
}
