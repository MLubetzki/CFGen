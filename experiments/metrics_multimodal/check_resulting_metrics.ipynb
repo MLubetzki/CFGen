{
 "cells": [
  {
   "cell_type": "code",
   "execution_count": 1,
   "id": "d317ecff-105c-44ba-8c1e-6d55ccc38b7f",
   "metadata": {},
   "outputs": [],
   "source": [
    "import pandas as pd"
   ]
  },
  {
   "cell_type": "markdown",
   "id": "1f243940-8268-4d38-8a01-06466cd26b0e",
   "metadata": {},
   "source": [
    "# PBMC"
   ]
  },
  {
   "cell_type": "code",
   "execution_count": 2,
   "id": "a4e01ab1-ae8d-465b-bbfb-7bf190cfca94",
   "metadata": {},
   "outputs": [],
   "source": [
    "celldreamer_rna = pd.read_csv(\"/home/icb/alessandro.palma/environment/celldreamer/experiments/metrics_multimodal/results_pbmc/results_celldreamer_rna\")\n",
    "celldreamer_atac = pd.read_csv(\"/home/icb/alessandro.palma/environment/celldreamer/experiments/metrics_multimodal/results_pbmc/results_celldreamer_atac\")\n",
    "multivi_rna = pd.read_csv(\"/home/icb/alessandro.palma/environment/celldreamer/experiments/metrics_multimodal/results_pbmc/results_multivi_rna\")\n",
    "multivi_atac = pd.read_csv(\"/home/icb/alessandro.palma/environment/celldreamer/experiments/metrics_multimodal/results_pbmc/results_multivi_atac\")\n",
    "peakvi_atac = pd.read_csv(\"/home/icb/alessandro.palma/environment/celldreamer/experiments/metrics_multimodal/results_pbmc/results_peakvi_atac\")\n",
    "scvi_rna = pd.read_csv(\"/home/icb/alessandro.palma/environment/celldreamer/experiments/metrics_multimodal/results_pbmc/results_scvi_rna\")"
   ]
  },
  {
   "cell_type": "code",
   "execution_count": 3,
   "id": "9dc101fd-74fc-446e-85e8-ac2efc990d30",
   "metadata": {},
   "outputs": [
    {
     "data": {
      "text/plain": [
       "Unnamed: 0               20.500000\n",
       "1-Wasserstein_PCA        14.008958\n",
       "2-Wasserstein_PCA        14.089712\n",
       "Linear_MMD_PCA          175.309165\n",
       "Poly_MMD_PCA         106222.639974\n",
       "KNN identity              0.701455\n",
       "KNN identity PCA          1.000000\n",
       "precision                 0.572832\n",
       "recall                    0.773591\n",
       "density                   0.654178\n",
       "coverage                  0.977980\n",
       "precision_PCA             0.000000\n",
       "recall_PCA                0.000000\n",
       "density_PCA               0.000000\n",
       "coverage_PCA              0.000000\n",
       "KNN category              0.298729\n",
       "KNN category PCA          0.225501\n",
       "global_f1                 0.669631\n",
       "dtype: float64"
      ]
     },
     "execution_count": 3,
     "metadata": {},
     "output_type": "execute_result"
    }
   ],
   "source": [
    "celldreamer_rna.groupby(\"ct\").mean(0).mean(0)"
   ]
  },
  {
   "cell_type": "code",
   "execution_count": 4,
   "id": "340ea817-7a36-4f0c-b8d8-56981f3202c3",
   "metadata": {
    "scrolled": true
   },
   "outputs": [
    {
     "data": {
      "text/plain": [
       "Unnamed: 0              20.500000\n",
       "1-Wasserstein_PCA       15.397072\n",
       "2-Wasserstein_PCA       15.782152\n",
       "Linear_MMD_PCA         205.720838\n",
       "Poly_MMD_PCA         50185.210751\n",
       "KNN identity             0.848404\n",
       "KNN identity PCA         1.000000\n",
       "precision                0.278959\n",
       "recall                   0.811522\n",
       "density                  0.182598\n",
       "coverage                 0.535342\n",
       "precision_PCA            0.000000\n",
       "recall_PCA               0.003663\n",
       "density_PCA              0.000000\n",
       "coverage_PCA             0.000000\n",
       "KNN category             0.071739\n",
       "KNN category PCA         0.085393\n",
       "global_f1                0.387170\n",
       "dtype: float64"
      ]
     },
     "execution_count": 4,
     "metadata": {},
     "output_type": "execute_result"
    }
   ],
   "source": [
    "multivi_rna.groupby(\"ct\").mean(0).mean(0)"
   ]
  },
  {
   "cell_type": "code",
   "execution_count": 5,
   "id": "8b9f3887-2b79-4c62-b528-6bd0604a4339",
   "metadata": {},
   "outputs": [
    {
     "data": {
      "text/plain": [
       "Unnamed: 0              20.500000\n",
       "1-Wasserstein_PCA       13.668296\n",
       "2-Wasserstein_PCA       13.728248\n",
       "Linear_MMD_PCA         170.822535\n",
       "Poly_MMD_PCA         88124.455450\n",
       "KNN identity             0.539334\n",
       "KNN identity PCA         1.000000\n",
       "precision                0.562263\n",
       "recall                   0.831872\n",
       "density                  0.424123\n",
       "coverage                 0.913311\n",
       "precision_PCA            0.000158\n",
       "recall_PCA               0.000520\n",
       "density_PCA              0.000016\n",
       "coverage_PCA             0.000158\n",
       "KNN category             0.384499\n",
       "KNN category PCA         0.389850\n",
       "global_f1                0.687625\n",
       "dtype: float64"
      ]
     },
     "execution_count": 5,
     "metadata": {},
     "output_type": "execute_result"
    }
   ],
   "source": [
    "scvi_rna.groupby(\"ct\").mean(0).mean(0)"
   ]
  },
  {
   "cell_type": "code",
   "execution_count": 6,
   "id": "e2014e3e-17e5-4a50-b787-9da757a0fe6d",
   "metadata": {},
   "outputs": [
    {
     "data": {
      "text/plain": [
       "Unnamed: 0               20.500000\n",
       "1-Wasserstein_PCA        20.282065\n",
       "2-Wasserstein_PCA        21.209706\n",
       "Linear_MMD_PCA          178.287933\n",
       "Poly_MMD_PCA         132084.924433\n",
       "KNN identity              0.522522\n",
       "KNN identity PCA          0.986558\n",
       "precision                 0.233030\n",
       "recall                    0.412741\n",
       "density                   0.397790\n",
       "coverage                  0.783588\n",
       "precision_PCA             0.680793\n",
       "recall_PCA                0.000000\n",
       "density_PCA               0.596884\n",
       "coverage_PCA              0.185205\n",
       "KNN category              0.042693\n",
       "KNN category PCA          0.078170\n",
       "global_f1                 0.031792\n",
       "dtype: float64"
      ]
     },
     "execution_count": 6,
     "metadata": {},
     "output_type": "execute_result"
    }
   ],
   "source": [
    "celldreamer_atac.groupby(\"ct\").mean(0).mean(0)"
   ]
  },
  {
   "cell_type": "code",
   "execution_count": 7,
   "id": "50b133a5-2e80-48cf-8dea-44282cc0169e",
   "metadata": {},
   "outputs": [
    {
     "data": {
      "text/plain": [
       "Unnamed: 0               20.500000\n",
       "1-Wasserstein_PCA        20.416951\n",
       "2-Wasserstein_PCA        21.334793\n",
       "Linear_MMD_PCA          185.428098\n",
       "Poly_MMD_PCA         131982.420247\n",
       "KNN identity              0.333333\n",
       "KNN identity PCA          0.988238\n",
       "precision                 0.080295\n",
       "recall                    0.012821\n",
       "density                   0.123442\n",
       "coverage                  0.189360\n",
       "precision_PCA             0.734986\n",
       "recall_PCA                0.000000\n",
       "density_PCA               0.538099\n",
       "coverage_PCA              0.172235\n",
       "KNN category              0.082803\n",
       "KNN category PCA          0.080626\n",
       "global_f1                 0.047581\n",
       "dtype: float64"
      ]
     },
     "execution_count": 7,
     "metadata": {},
     "output_type": "execute_result"
    }
   ],
   "source": [
    "multivi_atac.groupby(\"ct\").mean(0).mean(0)"
   ]
  },
  {
   "cell_type": "code",
   "execution_count": 23,
   "id": "fd76693e-39ff-4f33-81f4-a8b0d07f7e6f",
   "metadata": {},
   "outputs": [
    {
     "data": {
      "text/plain": [
       "Unnamed: 0               20.500000\n",
       "1-Wasserstein_PCA        21.214254\n",
       "2-Wasserstein_PCA        22.103814\n",
       "Linear_MMD_PCA          215.864237\n",
       "Poly_MMD_PCA         135208.996326\n",
       "KNN identity              0.333333\n",
       "KNN identity PCA          0.986519\n",
       "precision                 0.996486\n",
       "recall                    0.000000\n",
       "density                  14.163269\n",
       "coverage                  1.000000\n",
       "precision_PCA             0.642864\n",
       "recall_PCA                0.000000\n",
       "density_PCA               0.466168\n",
       "coverage_PCA              0.158462\n",
       "KNN category              0.071429\n",
       "KNN category PCA          0.072102\n",
       "global_f1                 0.021439\n",
       "dtype: float64"
      ]
     },
     "execution_count": 23,
     "metadata": {},
     "output_type": "execute_result"
    }
   ],
   "source": [
    "peakvi_atac.groupby(\"ct\").mean(0).mean(0)"
   ]
  },
  {
   "cell_type": "markdown",
   "id": "3cd1c0d5-0c7e-465a-ab81-497b1e2f75df",
   "metadata": {},
   "source": [
    "# NEURIPS"
   ]
  },
  {
   "cell_type": "code",
   "execution_count": 13,
   "id": "b6b844a7-cede-4106-9b58-3cc4bce45566",
   "metadata": {},
   "outputs": [],
   "source": [
    "celldreamer_rna = pd.read_csv(\"/home/icb/alessandro.palma/environment/celldreamer/experiments/metrics_multimodal/results_neurips/results_celldreamer_rna\")\n",
    "celldreamer_atac = pd.read_csv(\"/home/icb/alessandro.palma/environment/celldreamer/experiments/metrics_multimodal/results_neurips/results_celldreamer_atac\")\n",
    "poissonvi_atac = pd.read_csv(\"/home/icb/alessandro.palma/environment/celldreamer/experiments/metrics_multimodal/results_neurips/results_poissonvi_atac\")\n",
    "scvi_rna = pd.read_csv(\"/home/icb/alessandro.palma/environment/celldreamer/experiments/metrics_multimodal/results_neurips/results_scvi_rna\")"
   ]
  },
  {
   "cell_type": "code",
   "execution_count": 14,
   "id": "abbbeecc-224d-4d4b-be13-0e857520760b",
   "metadata": {},
   "outputs": [
    {
     "data": {
      "text/plain": [
       "Unnamed: 0               31.000000\n",
       "1-Wasserstein_PCA        14.090308\n",
       "2-Wasserstein_PCA        14.235212\n",
       "Linear_MMD_PCA          200.531436\n",
       "Poly_MMD_PCA         130964.490234\n",
       "KNN identity              0.721921\n",
       "KNN identity PCA          0.987588\n",
       "precision                 0.302983\n",
       "recall                    0.308631\n",
       "density                   0.908345\n",
       "coverage                  0.932563\n",
       "precision_PCA             0.580292\n",
       "recall_PCA                0.062092\n",
       "density_PCA               0.164814\n",
       "coverage_PCA              0.092150\n",
       "KNN category              0.156481\n",
       "KNN category PCA          0.200747\n",
       "global_f1                 0.390925\n",
       "dtype: float64"
      ]
     },
     "execution_count": 14,
     "metadata": {},
     "output_type": "execute_result"
    }
   ],
   "source": [
    "celldreamer_rna.groupby(\"ct\").mean(0).mean(0)"
   ]
  },
  {
   "cell_type": "code",
   "execution_count": 15,
   "id": "bf0aedec-2c99-458a-b7c7-1c6ea4d878e1",
   "metadata": {},
   "outputs": [
    {
     "data": {
      "text/plain": [
       "Unnamed: 0             31.000000\n",
       "1-Wasserstein_PCA       3.807078\n",
       "2-Wasserstein_PCA       3.846817\n",
       "Linear_MMD_PCA         14.409295\n",
       "Poly_MMD_PCA         1269.834380\n",
       "KNN identity            0.632427\n",
       "KNN identity PCA        0.988402\n",
       "precision               0.073338\n",
       "recall                  0.287974\n",
       "density                 0.227111\n",
       "coverage                0.838923\n",
       "precision_PCA           0.455268\n",
       "recall_PCA              0.093376\n",
       "density_PCA             0.114100\n",
       "coverage_PCA            0.106255\n",
       "KNN category            0.029998\n",
       "KNN category PCA        0.099882\n",
       "global_f1               0.097232\n",
       "dtype: float64"
      ]
     },
     "execution_count": 15,
     "metadata": {},
     "output_type": "execute_result"
    }
   ],
   "source": [
    "celldreamer_atac.groupby(\"ct\").mean(0).mean(0)"
   ]
  },
  {
   "cell_type": "code",
   "execution_count": 16,
   "id": "3f36b72b-13ac-46d9-865a-8a7976dd0452",
   "metadata": {},
   "outputs": [
    {
     "data": {
      "text/plain": [
       "Unnamed: 0            31.000000\n",
       "1-Wasserstein_PCA      3.000879\n",
       "2-Wasserstein_PCA      3.050856\n",
       "Linear_MMD_PCA         8.346863\n",
       "Poly_MMD_PCA         299.960976\n",
       "KNN identity           0.475713\n",
       "KNN identity PCA       0.982032\n",
       "precision              0.185982\n",
       "recall                 0.075250\n",
       "density                1.815445\n",
       "coverage               1.000000\n",
       "precision_PCA          0.615328\n",
       "recall_PCA             0.075232\n",
       "density_PCA            0.184725\n",
       "coverage_PCA           0.109567\n",
       "KNN category           0.017168\n",
       "KNN category PCA       0.026932\n",
       "global_f1              0.040867\n",
       "dtype: float64"
      ]
     },
     "execution_count": 16,
     "metadata": {},
     "output_type": "execute_result"
    }
   ],
   "source": [
    "poissonvi_atac.groupby(\"ct\").mean(0).mean(0)"
   ]
  },
  {
   "cell_type": "code",
   "execution_count": 17,
   "id": "f7e38fae-6dd7-4097-972c-16d786d07ba1",
   "metadata": {},
   "outputs": [
    {
     "data": {
      "text/plain": [
       "Unnamed: 0              31.000000\n",
       "1-Wasserstein_PCA       12.359467\n",
       "2-Wasserstein_PCA       12.523088\n",
       "Linear_MMD_PCA         152.241063\n",
       "Poly_MMD_PCA         77484.799247\n",
       "KNN identity             0.655734\n",
       "KNN identity PCA         0.978271\n",
       "precision                0.305199\n",
       "recall                   0.342429\n",
       "density                  1.077629\n",
       "coverage                 0.982691\n",
       "precision_PCA            0.648246\n",
       "recall_PCA               0.093539\n",
       "density_PCA              0.226774\n",
       "coverage_PCA             0.131485\n",
       "KNN category             0.107020\n",
       "KNN category PCA         0.113671\n",
       "global_f1                0.373443\n",
       "dtype: float64"
      ]
     },
     "execution_count": 17,
     "metadata": {},
     "output_type": "execute_result"
    }
   ],
   "source": [
    "scvi_rna.groupby(\"ct\").mean(0).mean(0)"
   ]
  },
  {
   "cell_type": "code",
   "execution_count": null,
   "id": "aa00c33f-587f-4d0d-8ec3-7d0964124a28",
   "metadata": {},
   "outputs": [],
   "source": []
  },
  {
   "cell_type": "code",
   "execution_count": null,
   "id": "7f8aeca3-ebdc-477a-9691-4ef7db57008f",
   "metadata": {},
   "outputs": [],
   "source": []
  },
  {
   "cell_type": "code",
   "execution_count": null,
   "id": "3a5c9b20-9114-4567-8494-1cc2112a19d4",
   "metadata": {},
   "outputs": [],
   "source": []
  }
 ],
 "metadata": {
  "kernelspec": {
   "display_name": "Python 3 (ipykernel)",
   "language": "python",
   "name": "python3"
  },
  "language_info": {
   "codemirror_mode": {
    "name": "ipython",
    "version": 3
   },
   "file_extension": ".py",
   "mimetype": "text/x-python",
   "name": "python",
   "nbconvert_exporter": "python",
   "pygments_lexer": "ipython3",
   "version": "3.10.13"
  }
 },
 "nbformat": 4,
 "nbformat_minor": 5
}
